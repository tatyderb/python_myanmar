{
 "cells": [
  {
   "cell_type": "markdown",
   "id": "14054267-edb4-40c9-b147-8a96ff16ac3d",
   "metadata": {},
   "source": [
    "# Условные операторы"
   ]
  },
  {
   "cell_type": "markdown",
   "id": "c359fd83-e89c-45f7-b1bf-4fe4ffc9a23f",
   "metadata": {},
   "source": [
    "## Тип bool \n",
    "\n",
    "* `True` - да, правда\n",
    "* `False` - нет, ложь"
   ]
  },
  {
   "cell_type": "code",
   "execution_count": 2,
   "id": "68984d83-eb90-4a45-8f97-89dbd6d4435a",
   "metadata": {},
   "outputs": [
    {
     "data": {
      "text/plain": [
       "True"
      ]
     },
     "execution_count": 2,
     "metadata": {},
     "output_type": "execute_result"
    }
   ],
   "source": [
    "2 < 5"
   ]
  },
  {
   "cell_type": "code",
   "execution_count": 4,
   "id": "07583842-82f4-4d60-be9f-045f00201590",
   "metadata": {},
   "outputs": [
    {
     "data": {
      "text/plain": [
       "False"
      ]
     },
     "execution_count": 4,
     "metadata": {},
     "output_type": "execute_result"
    }
   ],
   "source": [
    "-15 > 3.4"
   ]
  },
  {
   "cell_type": "code",
   "execution_count": 5,
   "id": "1eedc1da-bacf-452b-a75e-68d1c5ea784f",
   "metadata": {},
   "outputs": [
    {
     "data": {
      "text/plain": [
       "bool"
      ]
     },
     "execution_count": 5,
     "metadata": {},
     "output_type": "execute_result"
    }
   ],
   "source": [
    "type(True)"
   ]
  },
  {
   "cell_type": "markdown",
   "id": "bd0402b5-11f7-427e-a510-34a6cab23375",
   "metadata": {},
   "source": [
    "## Операторы сравнения"
   ]
  },
  {
   "cell_type": "markdown",
   "id": "79fd33f9-33ec-4eea-881c-d77e23d3974d",
   "metadata": {},
   "source": [
    "| В математике | В python | По-русски |\n",
    "|---|---|-----|\n",
    "| &gt; | `>` | больше |\n",
    "| &ge; | `>=` | больше или равно |\n",
    "| &lt; | `<` | меньше |\n",
    "| &le; | `<=` | меньше или равно |\n",
    "| = | `==` | равно |\n",
    "| &ne; | `!=` | не равно |\n",
    "\n",
    "* **Можно писать сравнения, как математики, `2 <= x < 5`**\n",
    "* `=` присвоить пишем часто, поэтому одно равно\n",
    "* `==` сравнить на равенство пишем в программе реже, поэтому два знака равно"
   ]
  },
  {
   "cell_type": "markdown",
   "id": "9dcc1bf7-18f0-4e21-b6fb-03be061530f1",
   "metadata": {},
   "source": [
    "## if\n",
    "\n",
    "Вычислим $x$. Если число $x$ отрицательное, надо взять $-x$."
   ]
  },
  {
   "cell_type": "code",
   "execution_count": null,
   "id": "4f37f61e-e95b-43cd-8140-b582e4d976cf",
   "metadata": {},
   "outputs": [],
   "source": [
    "x = int(input())\n",
    "\n",
    "if x < 0:\n",
    "    x = -x\n",
    "\n",
    "print(x)"
   ]
  },
  {
   "attachments": {
    "e6a4b6be-ce38-4df3-8ffe-a7beab6494f1.png": {
     "image/png": "[encoded data removed]"
    }
   },
   "cell_type": "markdown",
   "id": "644324c8-01ce-4f7e-9c23-f34d9168fb91",
   "metadata": {},
   "source": [
    "Операторы, относящиеся к `if` пишем **с отступом**. Так же как и в функциях.\n",
    "\n",
    "```python\n",
    "if условие:        # не забудьте :\n",
    "    операторы_ДА   # операторы выполняются только когда условие истинно (True)\n",
    "```\n",
    "\n",
    "![if_drawio.png](attachment:e6a4b6be-ce38-4df3-8ffe-a7beab6494f1.png)"
   ]
  },
  {
   "cell_type": "markdown",
   "id": "df57d3c2-81ae-415c-a2d4-7c83ea370f22",
   "metadata": {},
   "source": [
    "### PEP-8\n",
    "\n",
    "* Между `if` и условием - один пробел.\n",
    "* После условия сразу пишем `:` (без пробела).\n",
    "* **С новой строки** операторы.\n",
    "* Отступ 4 пробела.\n",
    "\n",
    "Можно написать в одну строку?\n",
    "```python\n",
    "if x == 0: print('Делить на 0 нельзя')\n",
    "```\n",
    "Интерпретатор разрешает, но воспитанные люди так не делают! Приучитесь после `:` **всегда** начинать писать код с новой строки.\n"
   ]
  },
  {
   "cell_type": "markdown",
   "id": "3cfc9b92-f38c-4fe3-ab7e-1853506f9a71",
   "metadata": {},
   "source": [
    "### `if` внутри `if`\n",
    "\n",
    "Выражения, которые мы пишем внутри ветвления могут тоже иметь ветвление.\n",
    "\n",
    "Например, проверку $2 < x < 5$ можно написать через вложенные `if`:\n",
    "```python\n",
    "if 2 < x:\n",
    "    if x < 5:\n",
    "        print('2 < x < 5')\n",
    "```\n",
    "\n",
    "Условия могут быть любыми. Например, **проверять разные переменные**.\n",
    "```python\n",
    "if x > 0:\n",
    "    if y > 0:\n",
    "        print('Первая координатная четверть')\n",
    "```\n"
   ]
  },
  {
   "cell_type": "markdown",
   "id": "d9691390-4bd6-4eb3-a587-585684d46847",
   "metadata": {},
   "source": [
    "## if .. else"
   ]
  },
  {
   "attachments": {
    "a2ca143e-d775-49db-9f57-80a5f0f3a01b.png": {
     "image/png": "[encoded data removed]"
    }
   },
   "cell_type": "markdown",
   "id": "01f244cd-fa1b-4d4a-849c-3be6c98eba21",
   "metadata": {},
   "source": [
    "Одного `if` может не хватить. *ЕСЛИ* число `x` делится на 2 без остатка, то оно четное, *ИНАЧЕ* оно нечетное. Запишем эту мысль на языке python:\n",
    "```python\n",
    "if x % 2 == 0:          # не забудьте :\n",
    "\tprint(\"четное\")\n",
    "else:\t                # не забудьте :\n",
    "\tprint(\"нечетное\")\n",
    "```\n",
    "\n",
    "Когда один и тот же признак (четность) может иметь 2 варианта (четное или нечетное), то пишем `if` .. `else`:\n",
    "```python\n",
    "if условие:\n",
    "\tоператоры_ДА\n",
    "else:\n",
    "\tоператоры_НЕТ\n",
    "```\n",
    "Если `условие` - истина, то выполняются `операторы_ДА`, иначе (условие ложно) выполняются `операторы_НЕТ`.\n",
    "\n",
    "**Выполняется один блок операторов. Или `операторы_ДА`, или `операторы_НЕТ`. Два сразу выполниться не могут!**\n",
    "\n",
    "![if_else_drawio.png](attachment:a2ca143e-d775-49db-9f57-80a5f0f3a01b.png)\n",
    "\n",
    "* после `else` сразу ставим `:`\n",
    "* условие пишем только у `if`, для `else` условия нет\n"
   ]
  },
  {
   "cell_type": "markdown",
   "id": "29902310-3a91-4cf1-a6ca-ed64abde5767",
   "metadata": {},
   "source": [
    "### Пишем красиво\n",
    "\n",
    "* `else` и `:` пишем слитно.\n",
    "* операторы внутри `else` пишем с новой строки\n",
    "\n",
    "Плохо:\n",
    "\n",
    "```python\n",
    "if x == 0: print('Делить на 0 нельзя')\n",
    "else: res = a/x\n",
    "```\n",
    "Хорошо:\n",
    "```python\n",
    "if x == 0: \n",
    "    print('Делить на 0 нельзя')\n",
    "else: \n",
    "    res = a/x\n",
    "```\n",
    "\n",
    "### В одну строку\n",
    "\n",
    "Можно написать `if`..`else` в одну строку. Но не всегда.\n",
    "\n",
    "#### Пример: положить минимальное число в `res` \n",
    "\n",
    "Традиционным способом:\n",
    "\n",
    "```python\n",
    "if a < b:\n",
    "    res = a\n",
    "else:\n",
    "    res = b\n",
    "```\n",
    "В одну строку:\n",
    "```python\n",
    "res = a if a < b else b\n",
    "```\n",
    "\n",
    "Выражение `a if a < b else b` имеет значение `a`, если условие `a < b` истинно, иначе выражение имеет значение `b`. Значение этого выражения записывается в переменную `res`.\n",
    "\n",
    "#### Пример: напечатать YES или NO\n",
    "\n",
    "Печатаем четное число `x` или нечетное.\n",
    "\n",
    "```python\n",
    "print('четное' if x % 2 == 0 else 'нечетное') \n",
    "```"
   ]
  },
  {
   "cell_type": "markdown",
   "id": "62dccdc1-058a-4191-aee0-02966a034fbf",
   "metadata": {},
   "source": [
    "### guards\n",
    "\n",
    "Функция `apply_new_password(new_password1, new_password2)` устанавливает новый пароль, только если новые пароли совпадают, пользователь не ошибся"
   ]
  },
  {
   "cell_type": "code",
   "execution_count": 8,
   "id": "1f07995b-f800-4b5d-8643-a6f429bad16e",
   "metadata": {},
   "outputs": [],
   "source": [
    "def apply_new_password(new_password1, new_password2):\n",
    "    if new_password1 != new_password2:\n",
    "        return\n",
    "    # тут может быть guard, что пароль не короче 8 символов\n",
    "    # тут может быть guard, что в пароле есть буквы и цифры и тп.\n",
    "    password = new_password1"
   ]
  },
  {
   "cell_type": "markdown",
   "id": "281deb65-c7b5-4468-b402-53458de2f35e",
   "metadata": {},
   "source": [
    "## elif\n",
    "\n",
    "Больше двух вариантов: положительное, отрицательное, ноль; оценки отлично, хорошо, удовлетворительно, неудовлетворительно.\n",
    "\n",
    "```python\n",
    "x = int(input())\n",
    "\n",
    "if x > 0:\n",
    "    print('положительное')\n",
    "else:\n",
    "    # x <= 0\n",
    "    if x == 0:\n",
    "        print('ноль')\n",
    "    else:\n",
    "        print('отрицательное')\n",
    "```"
   ]
  },
  {
   "cell_type": "markdown",
   "id": "84c06216-652a-4bb7-a747-196faf5a3dc3",
   "metadata": {},
   "source": [
    "Записать проверку из многих вариантов можно проще с помощью оператора `elif` (сокращение от else if). \n",
    "\n",
    "**elif** - иначе если. \n",
    "\n",
    "* в `elif` обязательно должно быть **условие**, после него `:`;\n",
    "* `elif` можно написать **много раз** с разными условиями;\n",
    "* **выполнится только один вариант** из многих;\n",
    "* условия проверяются **сверху вниз**;\n",
    "* часть с `else` **не обязательная** (можно не писать).\n",
    "\n",
    "```python\n",
    "x = int(input())\n",
    "\n",
    "if x > 0:\n",
    "    print('положительное')\n",
    "elif x == 0:\n",
    "    print('ноль')\n",
    "else:\n",
    "    print('отрицательное')\n",
    "```\n",
    "\n",
    "**Код с `elif` читается проще, чем с многими уровнями вложенных `else` и `if`**\n",
    "\n",
    "#### elif может быть много\n",
    "\n",
    "Оценки \n",
    "\n",
    "* 8, 9, 10 - отлично\n",
    "* 5, 6, 7 - хорошо\n",
    "* 3, 4 - удовлетворительно\n",
    "* 1, 2 - неудовлетворительно\n",
    "\n",
    "Студент получил оценку `x`. Напечатать значение оценки.\n",
    "\n",
    "```python\n",
    "x = int(input())\n",
    "\n",
    "if x == 10:\n",
    "    print('отлично')\n",
    "elif x == 9:\n",
    "    print('отлично')\n",
    "elif x == 8:\n",
    "    print('отлично')\n",
    "elif x == 7:\n",
    "    print('хорошо')\n",
    "elif x == 6:\n",
    "    print('хорошо')\n",
    "elif x == 5:\n",
    "    print('хорошо')\n",
    "elif x == 4:\n",
    "    print('удовлетворительно')\n",
    "elif x == 3:\n",
    "    print('удовлетворительно')\n",
    "else:\n",
    "    print('неудовлетворительно')\n",
    "```\n",
    "\n",
    "Подумайте, как можно написать короче.\n"
   ]
  },
  {
   "cell_type": "markdown",
   "id": "910a89ec-20a3-461f-a46c-74195c12c66e",
   "metadata": {},
   "source": [
    "#### Короче\n",
    "\n",
    "Можно переписать код ещё короче. Теперь при изменении разбалловки не надо одну границу менять в двух условиях. Но теперь код чувствителен к порядку проверок.\n",
    "```python\n",
    "x = int(input())\n",
    "\n",
    "if x >= 8 :\n",
    "    print('отлично')\n",
    "elif x >=5:\n",
    "    print('хорошо')\n",
    "elif x >= 3:\n",
    "    print('удовлетворительно')\n",
    "else:\n",
    "    print('неудовлетворительно')\n",
    "```\n",
    "\n",
    "**Выполняется только одна ветка из возможных**. Если часть с `else` нет, то может не выполниться ни одна ветка, потому что не подойдет условие.\n"
   ]
  },
  {
   "attachments": {
    "31ad4100-dbb1-4175-ab98-e0c74dcd253c.png": {
     "image/png": "[encoded data removed]"
    }
   },
   "cell_type": "markdown",
   "id": "8a85d877-803e-4a4b-be37-b9ab54de5254",
   "metadata": {},
   "source": [
    "![elif.drawio.png](attachment:31ad4100-dbb1-4175-ab98-e0c74dcd253c.png)"
   ]
  },
  {
   "cell_type": "markdown",
   "id": "86446c8e-e82c-4ba9-809d-5fef0a7e04b5",
   "metadata": {},
   "source": [
    "## Логические операторы"
   ]
  },
  {
   "cell_type": "markdown",
   "id": "ddc78aaf-2c9c-42f4-a497-b4f44fcfed4f",
   "metadata": {},
   "source": [
    "Надо определить, к какой координатной четверти принадлежит точка (x,y). Хочется написать так:\n",
    "\n",
    "* Если `x == 0` **или** `y == 0`, то это точка на оси.\n",
    "* Иначе если `x > 0` **и** `y > 0`, то это первая координатная четверть.\n",
    "* Иначе если `x < 0` **и** `y > 0`, то это вторая координатная четверть.\n",
    "* Иначе если `x < 0` **и** `y < 0`, то это третья координатная четверть.\n",
    "* Иначе если `x > 0` **и** `y < 0`, то это четвертая координатная четверть.\n",
    "\n",
    "То есть нам нужны оператор **или** и оператор **и**.\n",
    "\n",
    "### Логические операторы not, and, or\n",
    "\n",
    "* `and` - логическое **И** (конъюнкция)\n",
    "* `or` - логическое **ИЛИ** (дизъюнкция)\n",
    "* `not` - логическое отрицание\n",
    "\n"
   ]
  },
  {
   "cell_type": "markdown",
   "id": "373ccb29-95b5-432e-a86f-a60f7b9bb995",
   "metadata": {},
   "source": [
    "### Оператор `not`\n",
    "\n",
    "| Выражение | Результат |\n",
    "|----|----|\n",
    "| `not True` | `False` |\n",
    "| `not False` | `True` |\n",
    "\n",
    "`not x` - превращает ложь в истину и истину в ложь.\n",
    "\n",
    "*Россия* - страна, *not Россия* - всё вне этой страны.\n",
    "\n"
   ]
  },
  {
   "cell_type": "markdown",
   "id": "e488a924-05d3-4f55-97f2-af1bdbfd0970",
   "metadata": {},
   "source": [
    "### Оператор `and`\n",
    "\n",
    "<table>\n",
    "\t<thead>\n",
    "\t\t<tr>\n",
    "\t\t\t<th>Выражение </th>\n",
    "\t\t\t<th>Результат</th>\n",
    "\t\t</tr>\n",
    "\t</thead>\n",
    "\t<tbody>\n",
    "\t\t<tr>\n",
    "\t\t\t<td><code>True and True</code></td>\n",
    "\t\t\t<td style=\"background-color:#dae8ff\"><code>True</code></td>\n",
    "\t\t</tr>\n",
    "\t\t<tr>\n",
    "\t\t\t<td><code>True and False</code></td>\n",
    "\t\t\t<td style=\"background-color:#f8cecc\"><code>False</code></td>\n",
    "\t\t</tr>\n",
    "\t\t<tr>\n",
    "\t\t\t<td><code>False and True</code></td>\n",
    "\t\t\t<td style=\"background-color:#f8cecc\"><code>False</code></td>\n",
    "\t\t</tr>\n",
    "\t\t<tr>\n",
    "\t\t\t<td><code>False and False</code></td>\n",
    "\t\t\t<td style=\"background-color:#f8cecc\"><code>False</code></td>\n",
    "\t\t</tr>\n",
    "\t</tbody>\n",
    "</table>\n",
    "\n",
    "`x and y` истина, только когда оба аргумента - истина. В остальных случаях - ложь.\n",
    "\n"
   ]
  },
  {
   "cell_type": "markdown",
   "id": "cb3c6e18-bcc1-46dd-b0b1-b92ae1464bfa",
   "metadata": {},
   "source": [
    "### Оператор `or`\n",
    "\n",
    "<table>\n",
    "\t<thead>\n",
    "\t\t<tr>\n",
    "\t\t\t<th>Выражение </th>\n",
    "\t\t\t<th>Результат</th>\n",
    "\t\t</tr>\n",
    "\t</thead>\n",
    "\t<tbody>\n",
    "\t\t<tr>\n",
    "\t\t\t<td><code>True or True</code></td>\n",
    "\t\t\t<td style=\"background-color:#dae8ff\"><code>True</code></td>\n",
    "\t\t</tr>\n",
    "\t\t<tr>\n",
    "\t\t\t<td><code>True or False</code></td>\n",
    "\t\t\t<td style=\"background-color:#dae8ff\"><code>True</code></td>\n",
    "\t\t</tr>\n",
    "\t\t<tr>\n",
    "\t\t\t<td><code>False or True</code></td>\n",
    "\t\t\t<td style=\"background-color:#dae8ff\"><code>True</code></td>\n",
    "\t\t</tr>\n",
    "\t\t<tr>\n",
    "\t\t\t<td><code>False or False</code></td>\n",
    "\t\t\t<td style=\"background-color:#f8cecc\"><code>False</code></td>\n",
    "\t\t</tr>\n",
    "\t</tbody>\n",
    "</table>\n",
    "\n",
    "\n",
    "`x or y` ложь, только когда оба аргумента - ложь. В остальных случаях - истина.\n"
   ]
  },
  {
   "cell_type": "markdown",
   "id": "a2f82edd-e309-40ae-8ea9-7754a6f509fb",
   "metadata": {},
   "source": [
    "### Пьём чай с логическими операторами\n",
    "\n",
    "В теории множеств `and` (конъюнкция) - это **пересечение** множеств.\n",
    "\n",
    "Я хочу выпить чай. У меня есть чашка воды `x` и пакет чая `y`. Могу выпить чай, только если у меня есть и чашка, и пакетик **одновременно**. \n",
    "\n",
    "`вода and заварка`\n",
    "\n",
    "![and](https://stepik.org/media/attachments/lesson/1160427/and_tea.png)\n",
    "\n",
    "\n",
    "В теории множеств `or` (дизъюнкция) - это **объединение** множеств.\n",
    "\n",
    "К чаю я хочу сладкого. У меня есть печенье `x` и конфета `y`. Сладкое у меня будет, если есть печенье или конфета или и печенье и конфета. **Хоть что-нибудь**. Только если у меня нет ни печенья, ни конфеты, я сижу без сладкого.\n",
    "\n",
    "`печенье or конфета`\n",
    "\n",
    "![or](https://stepik.org/media/attachments/lesson/1160427/or_tea.png)\n"
   ]
  },
  {
   "cell_type": "code",
   "execution_count": null,
   "id": "c673cc6e-5694-4b9a-9f47-0e7092bad309",
   "metadata": {},
   "outputs": [],
   "source": []
  }
 ],
 "metadata": {
  "kernelspec": {
   "display_name": "Python 3 (ipykernel)",
   "language": "python",
   "name": "python3"
  },
  "language_info": {
   "codemirror_mode": {
    "name": "ipython",
    "version": 3
   },
   "file_extension": ".py",
   "mimetype": "text/x-python",
   "name": "python",
   "nbconvert_exporter": "python",
   "pygments_lexer": "ipython3",
   "version": "3.10.2"
  }
 },
 "nbformat": 4,
 "nbformat_minor": 5
}
