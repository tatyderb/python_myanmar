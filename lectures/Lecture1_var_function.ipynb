{
 "cells": [
  {
   "cell_type": "markdown",
   "id": "792daaf2-128f-48ad-97cc-8ec3d2099495",
   "metadata": {},
   "source": [
    "# Огранизационное"
   ]
  },
  {
   "cell_type": "markdown",
   "id": "ea00d6a7-e095-4bfb-b6c5-d94753b7277b",
   "metadata": {},
   "source": [
    "* Дербышева Татьяна Николаевна, МФТИ, кафедра информатики и вычислительной математики\n",
    "* Лекции + лабораторные работы + летний практикум (проект)\n",
    "* Материалы\n",
    "    * онлайн курс [Простой питон, том 1](https://stepik.org/course/188376)\n",
    "    * онлайн курс [Питон для иностранных студентов](https://stepik.org/course/83469)\n",
    "    * лекции на github.com/tatyderb\n",
    "* Литература *Хороший инженер должен знать наизусть только где у него полка со справочниками*\n",
    "    * Бизли Д. Python. Подробный справочник.\n",
    "    * Аллен Дауни: Основы Python. Научитесь мыслить как программист [Allen B. Downey Think Python](https://greenteapress.com/wp/think-python-2e/) - начинающим, первый язык программирования\n",
    "    * Лутц/"
   ]
  },
  {
   "cell_type": "markdown",
   "id": "ddc2a69b-3ca0-4e81-87dc-0edf3b1263b1",
   "metadata": {},
   "source": [
    "# Python как калькулятор"
   ]
  },
  {
   "cell_type": "markdown",
   "id": "d71e5be4-7719-46c6-a029-c01e6e11d894",
   "metadata": {},
   "source": [
    "* Интерактивная консоль\n",
    "    * из командной строки `python`\n",
    "    * в IDE\n",
    "    * ячейки в notebook (тетрадь)\n",
    "* Интерпретируемый язык - интерпретатор считывает и сразу выполняет код\n",
    "    * компилируемый язык (надо сначала скомпилировать и собрать исполняемый модуль, потом его запускать)\n",
    "+ кроссплатформенный (выполняется на разных ОС: Windows, Mac, Unix/Linux)\n",
    "+ большое количество прикладных библиотек"
   ]
  },
  {
   "cell_type": "markdown",
   "id": "66eb50fc-333d-46fe-b8f8-d86ddf68adcd",
   "metadata": {},
   "source": [
    "## Вычисление в ячейке и интерпретаторе\n",
    "\n",
    "* Shift + Enter - выполнить ячейку\n",
    "* Alt + Enter - выполнить ячейку и вставить новую\n",
    "* Тип ячейки: код и markdown"
   ]
  },
  {
   "cell_type": "code",
   "execution_count": 159,
   "id": "1be5b59f-274a-4b16-891c-fb599b2f2f0c",
   "metadata": {},
   "outputs": [
    {
     "data": {
      "text/plain": [
       "2"
      ]
     },
     "execution_count": 159,
     "metadata": {},
     "output_type": "execute_result"
    }
   ],
   "source": [
    "7 // 3"
   ]
  },
  {
   "cell_type": "markdown",
   "id": "2b25d6d2-1b17-4bf0-87a0-ef8d1a305f3c",
   "metadata": {},
   "source": [
    "## Арифметические операции\n",
    "\n",
    "| Выражение | Результат | Что это |\n",
    "|----|----|----|\n",
    "| `7 + 2` | 9 | сложение |\n",
    "| `7 - 2` | 5 | вычитание |\n",
    "| `7 * 2` | 14 | умножение |\n",
    "| `7 ** 2` | 49 | возведение в степень |\n",
    "| `7 / 2`| 3.5 | деление (математическое), результат - дробное число `float` |\n",
    "| `7 // 2` | 3 | деление целочисленное, результат - целое число |\n",
    "| `7 % 2` | 1 | остаток от деления |\n",
    "\n",
    "*Перепишите эту таблицу себе в конспект.*\n",
    "\n",
    "**Это не математика**, нельзя писать `2(3+4)`, надо `2*(3+4)` (продемонстрировать)"
   ]
  },
  {
   "cell_type": "code",
   "execution_count": 46,
   "id": "141c208c-aa8c-448b-b01f-0c683cd0b9c5",
   "metadata": {},
   "outputs": [
    {
     "data": {
      "text/plain": [
       "14"
      ]
     },
     "execution_count": 46,
     "metadata": {},
     "output_type": "execute_result"
    }
   ],
   "source": [
    "2 * (3 + 4)"
   ]
  },
  {
   "cell_type": "code",
   "execution_count": 47,
   "id": "b1c8f187-0743-4697-abcd-ffca63c724f2",
   "metadata": {},
   "outputs": [
    {
     "name": "stderr",
     "output_type": "stream",
     "text": [
      "<>:1: SyntaxWarning: 'int' object is not callable; perhaps you missed a comma?\n",
      "<>:1: SyntaxWarning: 'int' object is not callable; perhaps you missed a comma?\n",
      "C:\\Users\\taty\\AppData\\Local\\Temp\\ipykernel_18248\\3017632884.py:1: SyntaxWarning: 'int' object is not callable; perhaps you missed a comma?\n",
      "  2 (3 + 4)\n",
      "C:\\Users\\taty\\AppData\\Local\\Temp\\ipykernel_18248\\3017632884.py:1: SyntaxWarning: 'int' object is not callable; perhaps you missed a comma?\n",
      "  2 (3 + 4)\n",
      "C:\\Users\\taty\\AppData\\Local\\Temp\\ipykernel_18248\\3017632884.py:1: SyntaxWarning: 'int' object is not callable; perhaps you missed a comma?\n",
      "  2 (3 + 4)\n"
     ]
    },
    {
     "ename": "TypeError",
     "evalue": "'int' object is not callable",
     "output_type": "error",
     "traceback": [
      "\u001b[1;31m---------------------------------------------------------------------------\u001b[0m",
      "\u001b[1;31mTypeError\u001b[0m                                 Traceback (most recent call last)",
      "Cell \u001b[1;32mIn[47], line 1\u001b[0m\n\u001b[1;32m----> 1\u001b[0m \u001b[38;5;241;43m2\u001b[39;49m\u001b[43m \u001b[49m\u001b[43m(\u001b[49m\u001b[38;5;241;43m3\u001b[39;49m\u001b[43m \u001b[49m\u001b[38;5;241;43m+\u001b[39;49m\u001b[43m \u001b[49m\u001b[38;5;241;43m4\u001b[39;49m\u001b[43m)\u001b[49m\n",
      "\u001b[1;31mTypeError\u001b[0m: 'int' object is not callable"
     ]
    }
   ],
   "source": [
    "2 (3 + 4)"
   ]
  },
  {
   "cell_type": "markdown",
   "id": "dc4201b5-f629-4b9e-9080-7f635cbcf4b9",
   "metadata": {},
   "source": [
    "## Термины\n",
    "\n",
    "### Оператор и операнд\n",
    "\n",
    "* **операция** - из математики знаем операции сложения, вычитания, умножения, деления.\n",
    "* **оператор** - это знак операции, (для сложения `+`, для вычитания `-` и так далее).\n",
    "* **операнд** - аргумент операции, в зависимости от аргументов операции делятся:\n",
    "    * по количеству аргументов:\n",
    "        * **бинарные операции** - два аргумента, например, `5+2`, `24-8`.\n",
    "        * **унарные операции** - один аргумент, например, унарный минус в операции `-5` или `-x`.\n",
    "    * где пишется аргумент:\n",
    "        * **инфиксный оператор** - между операндами, например `2+3`.\n",
    "        * **префиксный оператор** - перед операндом, например `-x`.\n",
    "        * **постфиксный оператор** - после операнда, например `x[0]`\n",
    "        \n",
    "### Приоритет\n",
    "\n",
    "**Приоритет** - какая операция выполнится раньше. Самая высокоприоритетная операция `()`, поэтому ими можно изменить последовательность выполнения любых операций.\n",
    "\n",
    "`2 + 3 * 4` - сначала выполнится `3 * 4`, потом `2 + 12`. Результат `14`.\n",
    "\n",
    "`(2 + 3) * 4` - сначала выполнится `(2 + 3)`, то есть вычислится `2 + 3`, потом `5 * 4`. Результат `20`.\n",
    "\n",
    "### Ассоциативность\n",
    "\n",
    "**Ассоциативность** (слева направо или справа налево). Из группы операторов **одинакового приоритета** какой будет выполняться раньше.\n",
    "\n",
    "Слева направо: `12 // 5 * 5` - сначала вычислится `12 // 5` (получим 2), потом `2 * 5`. Результат `10`.\n",
    "\n",
    "Справа налево: `4 ** 3 ** 2` вычислится как `4 ** (3 ** 2)`, то есть `4 ** 9`. Результат `262144`.\n"
   ]
  },
  {
   "cell_type": "markdown",
   "id": "4954d635-7cfe-4fe3-a538-2301472abafd",
   "metadata": {},
   "source": [
    "### Таблица приоритетов операций\n",
    "\n",
    "Сначала идут самые приоритетные операции. Описание ниже таблицы.\n",
    "\n",
    "| Приоритет | Операторы | Описание | Ассоциативность |\n",
    "|----|----|----|----|\n",
    "| 1 | `()` | Скобки | Cлева направо |\n",
    "| 2 | `**` | Степень | **Справа налево** |\n",
    "| 3 | `+x`, `-x` | Унарные плюс, минус | **Справа налево** |\n",
    "| 4 | `*`, `/`, `//`, `%` | Умножение, деление, целочисленное деление, остаток | Слева направо |\n",
    "| 5 | `+`, `–` | Сложение, вычитание  | Слева направо |\t\n",
    "| 6  | `<`, `<=`, `>`, `>=`, `!=`, `==` | Сравнения  | Слева направо |\t\t\n",
    "| 7 | `not x` | Логическое NOT  | **Справа налево** |\n",
    "| 8 | `and` | Логическое AND | Слева направо |\t\n",
    "| 9 | `or` | Логическое OR | Слева направо |\t\n",
    "| 10 | `if`, `else`, `elif` | Условные операторы | **Справа налево** |\n",
    "| 11 | `:=` | Присвоение, walrus operator (моржовый оператор) | **Справа налево** |\n",
    "\n",
    "[Ещё более полная таблица приоритетов](https://docs.python.org/3/reference/expressions.html#operator-precedence)\n"
   ]
  },
  {
   "cell_type": "markdown",
   "id": "0393a0c4-c327-49ac-bf83-12a7eed71803",
   "metadata": {},
   "source": [
    "## Пример 1 - вычисление корней квадратного уравнения\n",
    "\n",
    "Корни квадратного уравнения $ax^2 + bx + c = 0$ можно найти по формуле $$x = {-b \\pm \\sqrt{b^2-4ac} \\over 2a}$$ или же \n",
    "$$x = {-b \\pm D \\over 2a}$$, где $$D = \\sqrt{b^2-4ac}$$\n",
    "\n",
    "Пусть дано уравнение $x^2 + x - 20 = 0$, вычислим его корни.\n"
   ]
  },
  {
   "cell_type": "markdown",
   "id": "a0c28db9-1f44-49d2-9f01-f8d500003bec",
   "metadata": {},
   "source": [
    "Проблемы:\n",
    "* где в этом калькуляторе квадратный корень? Пока будем возводить в степень 0.5\n",
    "* как увидеть два значения у корней?\n",
    "* может ли калькулятор запоминать промежуточные значения?\n",
    "* номера ячеек в notebook, они могут идти не по порядку?"
   ]
  },
  {
   "cell_type": "code",
   "execution_count": 160,
   "id": "3f7fc064-4c68-4b21-8fa2-3b42b1cd929f",
   "metadata": {},
   "outputs": [
    {
     "data": {
      "text/plain": [
       "9.0"
      ]
     },
     "execution_count": 160,
     "metadata": {},
     "output_type": "execute_result"
    }
   ],
   "source": [
    "# текст пояснения (комментарий) можно писать прямо в коде после знака #, он не выполняется, он для человека\n",
    "\n",
    "# вычислим квадрат дискриминанта b**2 - 4ac\n",
    "(1**2 - 4*1*(-20))**0.5"
   ]
  },
  {
   "cell_type": "markdown",
   "id": "16ed08c4-c029-419d-a5da-be9683302e64",
   "metadata": {},
   "source": [
    "Можно запомнить значение с помощью **переменной** и оператора `=` (присвоить). \n",
    "\n",
    "**Переменная** - место в памяти компьютера, к которому мы обращаемся по его имени (**идентификатору**)."
   ]
  },
  {
   "cell_type": "code",
   "execution_count": 161,
   "id": "550ad80e-89e2-4d6b-a4c9-b160639a5ca8",
   "metadata": {},
   "outputs": [],
   "source": [
    "c = -20   # в переменную с записали значение -20"
   ]
  },
  {
   "cell_type": "markdown",
   "id": "e0d9beab-c3ee-4270-8bef-4e8aa71a730b",
   "metadata": {},
   "source": [
    "Посмотреть значение выражения вообще или переменной с"
   ]
  },
  {
   "cell_type": "code",
   "execution_count": 162,
   "id": "cff768a2-9e31-4811-ad41-ea06f51945f7",
   "metadata": {},
   "outputs": [
    {
     "data": {
      "text/plain": [
       "-20"
      ]
     },
     "execution_count": 162,
     "metadata": {},
     "output_type": "execute_result"
    }
   ],
   "source": [
    "c"
   ]
  },
  {
   "cell_type": "markdown",
   "id": "b36023ed-e131-47c2-9d64-44e92c3647b0",
   "metadata": {},
   "source": [
    "Запишем коэффициенты уравнения в переменные $x^2 + x - 20 = 0$"
   ]
  },
  {
   "cell_type": "code",
   "execution_count": 163,
   "id": "c3f6c96e-bac0-4bde-9810-1030fcffe49e",
   "metadata": {},
   "outputs": [
    {
     "data": {
      "text/plain": [
       "(1, 1, -20)"
      ]
     },
     "execution_count": 163,
     "metadata": {},
     "output_type": "execute_result"
    }
   ],
   "source": [
    "a = 1\n",
    "b = 1\n",
    "c = -20\n",
    "a, b, c    # так, через запятую, можно посмотреть значение нескольких переменных"
   ]
  },
  {
   "cell_type": "code",
   "execution_count": 164,
   "id": "8c06c56c-dc29-42db-8a87-9c8f3314bda2",
   "metadata": {},
   "outputs": [
    {
     "data": {
      "text/plain": [
       "9.0"
      ]
     },
     "execution_count": 164,
     "metadata": {},
     "output_type": "execute_result"
    }
   ],
   "source": [
    "# вычислим детерминант\n",
    "d = (b**2 - 4*a*c)**0.5\n",
    "d"
   ]
  },
  {
   "cell_type": "code",
   "execution_count": 165,
   "id": "a57069b3-145c-43b7-9303-e823de28da2a",
   "metadata": {},
   "outputs": [
    {
     "data": {
      "text/plain": [
       "4.0"
      ]
     },
     "execution_count": 165,
     "metadata": {},
     "output_type": "execute_result"
    }
   ],
   "source": [
    "x1 = (-b + d) / (2 * a)\n",
    "x1"
   ]
  },
  {
   "cell_type": "code",
   "execution_count": 166,
   "id": "45a97b95-be01-40c0-8ae4-952a5d47a03d",
   "metadata": {},
   "outputs": [
    {
     "data": {
      "text/plain": [
       "-5.0"
      ]
     },
     "execution_count": 166,
     "metadata": {},
     "output_type": "execute_result"
    }
   ],
   "source": [
    "x2 = (-b - d) / (2 * a)\n",
    "x2"
   ]
  },
  {
   "cell_type": "markdown",
   "id": "f387b363-e0eb-4c7c-b5cc-a1b319651538",
   "metadata": {},
   "source": [
    "## Присвоить\n",
    "\n",
    "Это не уравнение в математике, это \"1) вычислить выражение справа, 2) записать в переменную, написанную слева\".\n",
    "\n",
    "Синтаксически правильные выражения:\n",
    "* `x = 5`\n",
    "* `x = y + 2`\n",
    "\n",
    "Синтаксически НЕправильные выражения:\n",
    "* `5 = x`\n",
    "* `x + 7 = y`\n",
    " \n",
    "* **Слева должна быть переменная, а не результат вычислений!**\n",
    "* **У переменной нет типа, тип есть у данных**"
   ]
  },
  {
   "cell_type": "code",
   "execution_count": 167,
   "id": "069272be-d813-4ea4-94ef-b4c46a4e85ec",
   "metadata": {},
   "outputs": [
    {
     "data": {
      "text/plain": [
       "45"
      ]
     },
     "execution_count": 167,
     "metadata": {},
     "output_type": "execute_result"
    }
   ],
   "source": [
    "x = 45\n",
    "x"
   ]
  },
  {
   "cell_type": "code",
   "execution_count": 168,
   "id": "f0e24c0a-2622-4d0c-a433-4c530be8dede",
   "metadata": {},
   "outputs": [
    {
     "data": {
      "text/plain": [
       "45"
      ]
     },
     "execution_count": 168,
     "metadata": {},
     "output_type": "execute_result"
    }
   ],
   "source": [
    "x"
   ]
  },
  {
   "cell_type": "code",
   "execution_count": 169,
   "id": "77d2c88b-7adc-4172-aee8-2d7c421968e0",
   "metadata": {},
   "outputs": [
    {
     "data": {
      "text/plain": [
       "-3.14"
      ]
     },
     "execution_count": 169,
     "metadata": {},
     "output_type": "execute_result"
    }
   ],
   "source": [
    "x = -3.14\n",
    "x"
   ]
  },
  {
   "cell_type": "code",
   "execution_count": 170,
   "id": "465ca65c-527b-4dbf-88ec-c862677883fd",
   "metadata": {},
   "outputs": [
    {
     "data": {
      "text/plain": [
       "'Hello'"
      ]
     },
     "execution_count": 170,
     "metadata": {},
     "output_type": "execute_result"
    }
   ],
   "source": [
    "x = 'Hello'\n",
    "x"
   ]
  },
  {
   "cell_type": "markdown",
   "id": "5fb8844b-945f-47c2-a952-a8edd85cd5ac",
   "metadata": {},
   "source": [
    "## Пример 2 - Стипендия"
   ]
  },
  {
   "cell_type": "markdown",
   "id": "3634ab65-160f-43c3-9e6c-2fad5ec46cea",
   "metadata": {
    "jp-MarkdownHeadingCollapsed": true
   },
   "source": [
    "Посчитаем на сколько хватит стипендии первокурснику из малообеспеченной семьи. \n",
    "\n",
    "* Государственная социальная стипендия 7000 рублей.\n",
    "* За общежитие студент платит 1355 рублей в месяц.\n",
    "* Комплексный обед в столовой стоит 130 рублей. Каждую неделю он дорожает на 10 рублей (это только для задачи! в нашей столовой стабильные качество и цены!)\n",
    "* Сколько останется у студента от стипендии, если в месяце 30 дней?\n",
    "\n",
    "В переменной `total` будем хранить сколько денег у студента.\n",
    "\n",
    "Сначала ему дали стипендию. Всю стипендию запишем в переменную. "
   ]
  },
  {
   "cell_type": "code",
   "execution_count": 48,
   "id": "2d8938a5-60f5-49f4-8ec3-71931234950f",
   "metadata": {
    "collapsed": true,
    "jupyter": {
     "outputs_hidden": true
    }
   },
   "outputs": [
    {
     "data": {
      "text/plain": [
       "7000"
      ]
     },
     "execution_count": 48,
     "metadata": {},
     "output_type": "execute_result"
    }
   ],
   "source": [
    "total = 7000  # в переменную total записали число 7000\n",
    "total"
   ]
  },
  {
   "cell_type": "markdown",
   "id": "147b6bd3-b4e4-4e20-bafe-598ccf49c7fb",
   "metadata": {},
   "source": [
    "Заплатим за общежитие. Останется у нас `total - 1355` рублей, эту сумму **запишем опять в переменную `total`**\n",
    "\n",
    "Это не математика, где нужно решать уравнения. Это:\n",
    "\n",
    "1. Прочитать значение `total`, получили 7000\n",
    "2. Вычислили `7000 - 1355`, получили 5645\n",
    "3. Этот результат записываем в переменную `total`"
   ]
  },
  {
   "cell_type": "code",
   "execution_count": 49,
   "id": "38bbce5c-0d12-497c-84a3-70916faccfc8",
   "metadata": {
    "collapsed": true,
    "jupyter": {
     "outputs_hidden": true
    }
   },
   "outputs": [
    {
     "data": {
      "text/plain": [
       "5645"
      ]
     },
     "execution_count": 49,
     "metadata": {},
     "output_type": "execute_result"
    }
   ],
   "source": [
    "total = total - 1355    # вычислили значение справа от = и записали в переменную слева от =\n",
    "total"
   ]
  },
  {
   "cell_type": "code",
   "execution_count": 50,
   "id": "333b63a8-07ec-4d61-90f9-46d3fddb7646",
   "metadata": {
    "collapsed": true,
    "jupyter": {
     "outputs_hidden": true
    }
   },
   "outputs": [],
   "source": [
    "days = 30       # сколько дней до следующей стипендии\n",
    "price = 130     # цена одного обеда"
   ]
  },
  {
   "cell_type": "markdown",
   "id": "0e9b05be-a4d8-4283-b452-3fac097b676e",
   "metadata": {},
   "source": [
    "### Обеды в первую неделю"
   ]
  },
  {
   "cell_type": "code",
   "execution_count": 51,
   "id": "3caeec80-6f18-46e6-8b1a-459cc7e2e1b8",
   "metadata": {
    "collapsed": true,
    "jupyter": {
     "outputs_hidden": true
    }
   },
   "outputs": [
    {
     "data": {
      "text/plain": [
       "23"
      ]
     },
     "execution_count": 51,
     "metadata": {},
     "output_type": "execute_result"
    }
   ],
   "source": [
    "# сколько дней останется через 7 дней\n",
    "days = days - 7\n",
    "days"
   ]
  },
  {
   "cell_type": "code",
   "execution_count": 52,
   "id": "370bcd1b-a626-400b-9858-360c999d90e4",
   "metadata": {
    "collapsed": true,
    "jupyter": {
     "outputs_hidden": true
    }
   },
   "outputs": [
    {
     "data": {
      "text/plain": [
       "4735"
      ]
     },
     "execution_count": 52,
     "metadata": {},
     "output_type": "execute_result"
    }
   ],
   "source": [
    "# сколько денег останется через 7 обедов\n",
    "total = total - 7 * price\n",
    "total"
   ]
  },
  {
   "cell_type": "markdown",
   "id": "5fcc67d2-4848-4685-8407-6dd35b0e5342",
   "metadata": {},
   "source": [
    "### Обеды во вторую неделю"
   ]
  },
  {
   "cell_type": "markdown",
   "id": "97a7c744-d1e7-4b04-94f6-e38f264b178d",
   "metadata": {},
   "source": [
    "Потом цена увеличится на 10. Запишем новую цену в переменную `price`. Вычислим сколько осталось дней и сколько осталось денег после второй недели.\n"
   ]
  },
  {
   "cell_type": "code",
   "execution_count": 53,
   "id": "c973165d-e0c9-45c4-967c-1a8b2243c370",
   "metadata": {
    "collapsed": true,
    "jupyter": {
     "outputs_hidden": true
    }
   },
   "outputs": [
    {
     "data": {
      "text/plain": [
       "140"
      ]
     },
     "execution_count": 53,
     "metadata": {},
     "output_type": "execute_result"
    }
   ],
   "source": [
    "# обеды подорожали на 10\n",
    "price = price + 10\n",
    "price"
   ]
  },
  {
   "cell_type": "code",
   "execution_count": 54,
   "id": "be9d8e1d-bc43-46f7-a557-b2253ff9ba5b",
   "metadata": {
    "collapsed": true,
    "jupyter": {
     "outputs_hidden": true
    }
   },
   "outputs": [
    {
     "data": {
      "text/plain": [
       "16"
      ]
     },
     "execution_count": 54,
     "metadata": {},
     "output_type": "execute_result"
    }
   ],
   "source": [
    "# сколько дней останется через 7 дней\n",
    "days = days - 7\n",
    "days"
   ]
  },
  {
   "cell_type": "code",
   "execution_count": 55,
   "id": "d19a01d8-cefd-4813-819a-6be08b616523",
   "metadata": {
    "collapsed": true,
    "jupyter": {
     "outputs_hidden": true
    },
    "scrolled": true
   },
   "outputs": [
    {
     "data": {
      "text/plain": [
       "3755"
      ]
     },
     "execution_count": 55,
     "metadata": {},
     "output_type": "execute_result"
    }
   ],
   "source": [
    "# сколько денег останется через 7 обедов\n",
    "total = total - 7 * price\n",
    "total"
   ]
  },
  {
   "cell_type": "markdown",
   "id": "2317a16a-0d9d-4566-86e4-ea59d68bffac",
   "metadata": {},
   "source": [
    "### Обеды в третью неделю"
   ]
  },
  {
   "cell_type": "code",
   "execution_count": 56,
   "id": "07b6be4e-7156-42b5-bb9c-d387beb4f502",
   "metadata": {
    "collapsed": true,
    "jupyter": {
     "outputs_hidden": true
    }
   },
   "outputs": [
    {
     "data": {
      "text/plain": [
       "150"
      ]
     },
     "execution_count": 56,
     "metadata": {},
     "output_type": "execute_result"
    }
   ],
   "source": [
    "# обеды подорожали на 10\n",
    "price = price + 10\n",
    "price"
   ]
  },
  {
   "cell_type": "code",
   "execution_count": 57,
   "id": "83075ecf-94ba-4330-a916-647c6f837d30",
   "metadata": {
    "collapsed": true,
    "jupyter": {
     "outputs_hidden": true
    }
   },
   "outputs": [
    {
     "data": {
      "text/plain": [
       "9"
      ]
     },
     "execution_count": 57,
     "metadata": {},
     "output_type": "execute_result"
    }
   ],
   "source": [
    "# сколько дней останется через 7 дней\n",
    "days = days - 7\n",
    "days"
   ]
  },
  {
   "cell_type": "code",
   "execution_count": 58,
   "id": "d715bd4e-1832-4ee0-993e-ff387f064915",
   "metadata": {
    "collapsed": true,
    "jupyter": {
     "outputs_hidden": true
    },
    "scrolled": true
   },
   "outputs": [
    {
     "data": {
      "text/plain": [
       "2705"
      ]
     },
     "execution_count": 58,
     "metadata": {},
     "output_type": "execute_result"
    }
   ],
   "source": [
    "# сколько денег останется через 7 обедов\n",
    "total = total - 7 * price\n",
    "total"
   ]
  },
  {
   "cell_type": "markdown",
   "id": "2fbc6693-b0a8-4d50-9dac-ad7bddba2683",
   "metadata": {},
   "source": [
    "### Обеды в четвертую неделю"
   ]
  },
  {
   "cell_type": "code",
   "execution_count": 59,
   "id": "500c4168-00cd-4899-81a4-3d89d3351c5c",
   "metadata": {
    "collapsed": true,
    "jupyter": {
     "outputs_hidden": true
    }
   },
   "outputs": [
    {
     "data": {
      "text/plain": [
       "160"
      ]
     },
     "execution_count": 59,
     "metadata": {},
     "output_type": "execute_result"
    }
   ],
   "source": [
    "# обеды подорожали на 10\n",
    "price = price + 10\n",
    "price"
   ]
  },
  {
   "cell_type": "code",
   "execution_count": 60,
   "id": "d488c54b-e512-4d27-9ceb-4cebe7b8484b",
   "metadata": {
    "collapsed": true,
    "jupyter": {
     "outputs_hidden": true
    }
   },
   "outputs": [
    {
     "data": {
      "text/plain": [
       "2"
      ]
     },
     "execution_count": 60,
     "metadata": {},
     "output_type": "execute_result"
    }
   ],
   "source": [
    "# сколько дней останется через 7 дней\n",
    "days = days - 7\n",
    "days"
   ]
  },
  {
   "cell_type": "code",
   "execution_count": 61,
   "id": "115da1c4-45f2-4236-8a33-7a7c236f8e5e",
   "metadata": {
    "collapsed": true,
    "jupyter": {
     "outputs_hidden": true
    },
    "scrolled": true
   },
   "outputs": [
    {
     "data": {
      "text/plain": [
       "1585"
      ]
     },
     "execution_count": 61,
     "metadata": {},
     "output_type": "execute_result"
    }
   ],
   "source": [
    "# сколько денег останется через 7 обедов\n",
    "total = total - 7 * price\n",
    "total"
   ]
  },
  {
   "cell_type": "markdown",
   "id": "00d39b53-c215-4664-8e2f-3ff85a06f757",
   "metadata": {},
   "source": [
    "### Обеды в последнюю неделю"
   ]
  },
  {
   "cell_type": "code",
   "execution_count": 62,
   "id": "52f2511e-aab0-42ae-b307-4867ccae2566",
   "metadata": {
    "collapsed": true,
    "jupyter": {
     "outputs_hidden": true
    }
   },
   "outputs": [
    {
     "data": {
      "text/plain": [
       "170"
      ]
     },
     "execution_count": 62,
     "metadata": {},
     "output_type": "execute_result"
    }
   ],
   "source": [
    "# обеды подорожали на 10\n",
    "price = price + 10\n",
    "price"
   ]
  },
  {
   "cell_type": "code",
   "execution_count": 63,
   "id": "79e3604c-7447-44ee-bdc7-ba810a0776c1",
   "metadata": {
    "collapsed": true,
    "jupyter": {
     "outputs_hidden": true
    }
   },
   "outputs": [
    {
     "data": {
      "text/plain": [
       "1245"
      ]
     },
     "execution_count": 63,
     "metadata": {},
     "output_type": "execute_result"
    }
   ],
   "source": [
    "# сколько денег останется через days обедов\n",
    "total = total - days * price\n",
    "total"
   ]
  },
  {
   "cell_type": "code",
   "execution_count": 64,
   "id": "11c2606d-571c-43ac-b175-d97fe8ac1b5e",
   "metadata": {
    "collapsed": true,
    "jupyter": {
     "outputs_hidden": true
    }
   },
   "outputs": [
    {
     "data": {
      "text/plain": [
       "845"
      ]
     },
     "execution_count": 64,
     "metadata": {},
     "output_type": "execute_result"
    }
   ],
   "source": [
    "# заплатить за интернет 400 рублей\n",
    "total = total - 400\n",
    "total"
   ]
  },
  {
   "cell_type": "markdown",
   "id": "0778b8b5-0176-41b2-93b3-f0eff7e94eeb",
   "metadata": {},
   "source": [
    "## Краткая запись присвоения и арифметической операции"
   ]
  },
  {
   "cell_type": "code",
   "execution_count": null,
   "id": "6f1e6a9f-9b5c-4e65-8573-3c74be8d5a8c",
   "metadata": {
    "collapsed": true,
    "jupyter": {
     "outputs_hidden": true
    }
   },
   "outputs": [],
   "source": [
    "price = price + 10     # вычислить цену увеличенную на 10 и записать результат в price"
   ]
  },
  {
   "cell_type": "code",
   "execution_count": 65,
   "id": "bc9a2f5a-5de8-4410-b540-00b47e4fcd49",
   "metadata": {
    "collapsed": true,
    "jupyter": {
     "outputs_hidden": true
    }
   },
   "outputs": [],
   "source": [
    "price += 10            # увеличить цену на 10"
   ]
  },
  {
   "cell_type": "markdown",
   "id": "58a94d4d-caae-4205-8e94-2a938640b788",
   "metadata": {},
   "source": [
    "* `+` и `=` пишутся слитно, между ними нельзя ставить пробел; `+ =` - ошибка.\n",
    "* Сначала пишут арифметическую операцию, `+`, потом `=`; `=+` - ошибка.\n",
    "* такие короткие формы оператора \"присвоить\" есть для каждой арифметической операции: `+=`, `-=`, `*=`, `/=`, `//=`, `%=`.\n"
   ]
  },
  {
   "cell_type": "markdown",
   "id": "0385616a-e8fb-4768-8639-873892b9404f",
   "metadata": {},
   "source": [
    "## Идентификаторы\n",
    "\n",
    "**Имя переменной** является **идентификатором**. Имя надо придумать по правилам.\n",
    "\n",
    "### Правила обязательные\n",
    "\n",
    "Нарушать нельзя. Интерпретатор не поймет. Будет ошибка.\n",
    "\n",
    "* Идентификатор может содержать \n",
    "    * букву (маленькую или большую латинскую)\n",
    "    * арабские цифры. **Нельзя начинать имя с цифры**\n",
    "    * символ `_` \n",
    "* Идентификатор не должен совпадать с ключевыми словами языка.\n",
    "* Идентификатор чувствителен к регистру, то есть `a` и `A` - разные идентификаторы.\n",
    "\n",
    "Хорошо: `x3`, `_x`, `rectangle_area`, `rectangleArea`\n",
    "\n",
    "Ошибка: `3x` (начинается с цифры), `else` (ключевое слово), `rectangle area` (содержит внутри пробел)\n",
    "\n",
    "### Рекомендации по наименованию переменных (naming conventions)\n",
    "\n",
    "Это как правила вежливости. Их можно нарушить, но другие программисты вас будут осуждать:\n",
    "\n",
    "* **Имя переменной принято писать с маленькой буквы**.\n",
    "    \n",
    "* Имя переменной должно быть значащим. То есть вы должны из него понимать, что хранится в переменной.\n",
    "    * хорошо: `area`\n",
    "    * плохо: `a34tw21w6pu`\n",
    "    * название переменной `_` - хорошее имя в некоторых случаях, интерпретатор разрешает такое имя.\n",
    "    \n",
    "На самом деле в нем могут быть [не только латинские буквы](https://www.python.org/dev/peps/pep-3131), но это плохо.\n",
    " \n",
    "* вы будете путать идентификаторы `a` (латинская) и `а` (русская), а для интерпретатора - это два *разных* идентификатора. Не пишите идентификаторы `c` (это латинская или русская буква?), `l` и `I` (L маленькая и i большая, их легко спутать с 1),  \n",
    "* если вы используете идентификаторы `ширина` и `высота` вместо `width` и `height`, то первый же пришедший в ваш проект китаец имеет право использовать идентификаторы 宽度 и 高度. Как хотите теперь, так их и различайте.\n",
    "\n",
    "Если в переменной хранится цена обеда, то `price` - это хорошее имя, `a` - плохое, особенно если `b` - количество денег, `c` - количество дней. Легко запутаться в формулах.\n",
    "\n",
    "### snake_case и camelCase\n",
    "\n",
    "Идентификатор из нескольких слов. Лучше слова разделить визуально.\n",
    "\n",
    "Напишем переменную, в которой хранится общее количество пополнений счета пользователя, total deposit amount.\n",
    "\n",
    "* `total_deposit_amount` - такой стиль называют \"snake case\", он же `lower_case_with_underscores`, его принято использовать в python.\n",
    "* `totalDepositAmount` - первая буква маленькая, первые буквы следующих слов большие, это \"camelCase\", так принято именовать в языках С++, Java.\n",
    "\n",
    "### Ключевые слова языка\n",
    "\n",
    "Это весь язык. Он маленький. Мы его выучим. Пока надо запомнить, что такие идентификаторы писать нельзя.\n",
    "\n",
    "```python\n",
    "False      await      else       import     pass\n",
    "None       break      except     in         raise\n",
    "True       class      finally    is         return\n",
    "and        continue   for        lambda     try\n",
    "as         def        from       nonlocal   while\n",
    "assert     del        global     not        with\n",
    "async      elif       if         or         yield\n",
    "```"
   ]
  },
  {
   "cell_type": "markdown",
   "id": "03521136-74f6-403c-959e-7cf08c315274",
   "metadata": {},
   "source": [
    "## Создание переменной"
   ]
  },
  {
   "cell_type": "markdown",
   "id": "c3f6029e-8539-41a4-b9f7-bdac39c9dda6",
   "metadata": {},
   "source": [
    "Переменная создается в момент **первого её использования**.\n",
    "\n",
    "Дальнейшие команды `=` только меняют значение переменной."
   ]
  },
  {
   "cell_type": "code",
   "execution_count": 173,
   "id": "41f51c47-f72b-4cfd-8939-41ff4e51d93b",
   "metadata": {},
   "outputs": [
    {
     "data": {
      "text/plain": [
       "11"
      ]
     },
     "execution_count": 173,
     "metadata": {},
     "output_type": "execute_result"
    }
   ],
   "source": [
    "z = 15     # создали переменную z\n",
    "z = z - 4  # изменили значение переменной z\\\n",
    "z"
   ]
  },
  {
   "cell_type": "code",
   "execution_count": 68,
   "id": "83e69893-0e6f-402d-bf27-7d9fb4c7d452",
   "metadata": {},
   "outputs": [
    {
     "ename": "NameError",
     "evalue": "name 's' is not defined",
     "output_type": "error",
     "traceback": [
      "\u001b[1;31m---------------------------------------------------------------------------\u001b[0m",
      "\u001b[1;31mNameError\u001b[0m                                 Traceback (most recent call last)",
      "Cell \u001b[1;32mIn[68], line 1\u001b[0m\n\u001b[1;32m----> 1\u001b[0m s \u001b[38;5;241m=\u001b[39m \u001b[43ms\u001b[49m \u001b[38;5;241m+\u001b[39m \u001b[38;5;241m1\u001b[39m  \u001b[38;5;66;03m# ошибка! Хотим изменить значение переменной s, а её еще не существует.\u001b[39;00m\n",
      "\u001b[1;31mNameError\u001b[0m: name 's' is not defined"
     ]
    }
   ],
   "source": [
    "s = s + 1  # ошибка! Хотим изменить значение переменной s, а её еще не существует."
   ]
  },
  {
   "cell_type": "markdown",
   "id": "ecd3606e-5809-4fb6-955d-c3c2dbd762f0",
   "metadata": {},
   "source": [
    "# Ввод и вывод данных"
   ]
  },
  {
   "cell_type": "markdown",
   "id": "17c56183-988c-40c7-814b-ac154c5bafb7",
   "metadata": {},
   "source": [
    "## Программа в файле\n",
    "\n",
    "* Запускаем сразу весь код, интерпретатор выполняет команды одну за другой.\n",
    "* Пишем в текстовом редакторе или IDE, запускаем в командной строке или IDE.\n",
    "    * онлайн курс - пишем и запускаем сразу на странице в браузере.\n",
    "\n",
    "## print()\n",
    "\n",
    "Вопрос: как посмотреть результаты вычислений? Используйте функцию `print()` "
   ]
  },
  {
   "cell_type": "code",
   "execution_count": 70,
   "id": "85661bd0-6232-4a0f-a3d7-92973b91b9b3",
   "metadata": {
    "collapsed": true,
    "jupyter": {
     "outputs_hidden": true
    }
   },
   "outputs": [
    {
     "name": "stdout",
     "output_type": "stream",
     "text": [
      "4.0 -5.0\n"
     ]
    }
   ],
   "source": [
    "# Программа вычисляет корни квадратного уравнения x**2 + x - 20 = 0\n",
    "\n",
    "# коэффициенты уравнения\n",
    "a = 1\n",
    "b = 1\n",
    "c = -20\n",
    "\n",
    "# дискриминант\n",
    "d = (b**2 - 4*a*c)**0.5\n",
    "\n",
    "# корни\n",
    "x1 = (-b + d)/(2*a)\n",
    "x2 = (-b - d)/(2*a)\n",
    "\n",
    "# печать ответа\n",
    "print(x1, x2)    # напечатает 4.0 -5.0 "
   ]
  },
  {
   "cell_type": "markdown",
   "id": "d8cf1609-f642-497e-af77-ee3df8b53b75",
   "metadata": {},
   "source": [
    "## Строки"
   ]
  },
  {
   "cell_type": "markdown",
   "id": "76863382-5ef1-476a-8378-3989c58be593",
   "metadata": {},
   "source": [
    "Кроме чисел в python есть строки. Строки можно записать:\n",
    "\n",
    "* 'В одинарных кавычках'\n",
    "* \"В двойных кавычках\"\n",
    "* на несколько строк:\n",
    "    * в тройных кавычках (одинарных или двойных)\n",
    "    * в одну строку с использованием символа `\\n` (перевод строки, новой строки)"
   ]
  },
  {
   "cell_type": "code",
   "execution_count": 71,
   "id": "92a71c3b-67a1-4931-acae-6c350dfd3945",
   "metadata": {
    "collapsed": true,
    "jupyter": {
     "outputs_hidden": true
    }
   },
   "outputs": [
    {
     "data": {
      "text/plain": [
       "'В одинарных кавычках'"
      ]
     },
     "execution_count": 71,
     "metadata": {},
     "output_type": "execute_result"
    }
   ],
   "source": [
    "'В одинарных кавычках'"
   ]
  },
  {
   "cell_type": "code",
   "execution_count": 72,
   "id": "c2932daf-5e34-4a77-8651-ecd462aa9396",
   "metadata": {
    "collapsed": true,
    "jupyter": {
     "outputs_hidden": true
    }
   },
   "outputs": [
    {
     "data": {
      "text/plain": [
       "'В двойных кавычках'"
      ]
     },
     "execution_count": 72,
     "metadata": {},
     "output_type": "execute_result"
    }
   ],
   "source": [
    "\"В двойных кавычках\""
   ]
  },
  {
   "cell_type": "code",
   "execution_count": 174,
   "id": "aedbc6f4-4875-4d1d-b0e2-e62e1ce8fabe",
   "metadata": {},
   "outputs": [
    {
     "data": {
      "text/plain": [
       "' строка на несколько\\nфизических строк,\\nпишем в ТРОЙНЫХ одинарных или двойных кавычках'"
      ]
     },
     "execution_count": 174,
     "metadata": {},
     "output_type": "execute_result"
    }
   ],
   "source": [
    "\"\"\" строка на несколько\n",
    "физических строк,\n",
    "пишем в ТРОЙНЫХ одинарных или двойных кавычках\"\"\""
   ]
  },
  {
   "cell_type": "markdown",
   "id": "d7c55fbf-dca8-44f2-ad80-204696b51cf2",
   "metadata": {},
   "source": [
    "* Физическая строка - то, что вы видите на экране, набирая код программы.\r",
    "* \r\n",
    "Логическая строка - то, что питон видит как единое предложени\n",
    "\n",
    "Для записи логической строки на нескольких физических можно \"экранировать\" символом `\\` перевод строки в конце физической строкие."
   ]
  },
  {
   "cell_type": "code",
   "execution_count": 75,
   "id": "ca9cfce4-e9c4-4218-93f1-49c2bab9b3e7",
   "metadata": {
    "collapsed": true,
    "jupyter": {
     "outputs_hidden": true
    }
   },
   "outputs": [
    {
     "data": {
      "text/plain": [
       "'запишем строкув несколько строк'"
      ]
     },
     "execution_count": 75,
     "metadata": {},
     "output_type": "execute_result"
    }
   ],
   "source": [
    "'запишем строку\\\n",
    "в несколько строк'"
   ]
  },
  {
   "cell_type": "markdown",
   "id": "10ae7241-c15c-46fa-8964-8c9684bf1dfa",
   "metadata": {},
   "source": [
    "## Escape-последовательности\n",
    "\n",
    "Экранируем, чтобы \"убрать\" специальное значение символа или сделать последовательность символов со специальным значением:\n",
    "\n",
    "* `\\n` - перевод строки, новая строка, new line\n",
    "* `\\r` - курсор возвращаем в первую позицию строки, carrige return\n",
    "* `\\t` - курсор ставится на следующую позицию табуляции\n",
    "* `\\'` - одинарная кавычка в тексте\n",
    "* `\\\"` - двойная кавычка в тексте\n",
    "* `\\\\` - \\ в тексте (в общем, ставим перед всеми символами, чье специальное значение надо экранировать)"
   ]
  },
  {
   "cell_type": "code",
   "execution_count": 76,
   "id": "d0a3acf4-6505-44ed-bcd3-79d3a484dea4",
   "metadata": {
    "collapsed": true,
    "jupyter": {
     "outputs_hidden": true
    }
   },
   "outputs": [
    {
     "data": {
      "text/plain": [
       "'Корабль \"Титаник\" затонул'"
      ]
     },
     "execution_count": 76,
     "metadata": {},
     "output_type": "execute_result"
    }
   ],
   "source": [
    "'Корабль \"Титаник\" затонул'\n",
    "\"Корабль \\\"Титаник\\\" затонул\""
   ]
  },
  {
   "cell_type": "code",
   "execution_count": 78,
   "id": "33c60459-d29b-41d0-bbed-e16000d28c30",
   "metadata": {
    "collapsed": true,
    "jupyter": {
     "outputs_hidden": true
    }
   },
   "outputs": [
    {
     "data": {
      "text/plain": [
       "\"Don't do it!\""
      ]
     },
     "execution_count": 78,
     "metadata": {},
     "output_type": "execute_result"
    }
   ],
   "source": [
    "\"Don't do it!\"\n",
    "'Don\\'t do it!'"
   ]
  },
  {
   "cell_type": "markdown",
   "id": "c56a54d8-f3ff-4aa9-a0c3-6b6464e14937",
   "metadata": {},
   "source": [
    "## f-строки - печатаем красиво\n",
    "\n",
    "В функции `print()` пишем аргументы через запятую, между частями python ставит пробел."
   ]
  },
  {
   "cell_type": "code",
   "execution_count": 176,
   "id": "78d00e2b-e245-4d8d-8124-78ede60a394e",
   "metadata": {},
   "outputs": [
    {
     "name": "stdout",
     "output_type": "stream",
     "text": [
      "переменная a= 7 , переменная b= Hello\n"
     ]
    }
   ],
   "source": [
    "a = 7\n",
    "b = 'Hello'\n",
    "print('переменная a=', a, ', переменная b=', b)"
   ]
  },
  {
   "cell_type": "code",
   "execution_count": 175,
   "id": "c15fb050-c1de-455d-aae6-ed1bda4496ac",
   "metadata": {},
   "outputs": [
    {
     "name": "stdout",
     "output_type": "stream",
     "text": [
      "2 + 3 = 5\n"
     ]
    }
   ],
   "source": [
    "x = 2\n",
    "y = 3\n",
    "res = x + y\n",
    "print(x, '+', y, '=', res)"
   ]
  },
  {
   "cell_type": "markdown",
   "id": "203abfde-e06f-4cb3-8e15-15e815efec37",
   "metadata": {},
   "source": [
    "* Перед кавычками строки ставим букву `f` (от слова format)\n",
    "* Выражения, которые надо вычислить, и вместо них подставить результат, пишем в `{}`"
   ]
  },
  {
   "cell_type": "code",
   "execution_count": 177,
   "id": "f88c5ec0-dbb8-4086-8cf5-c827644a8005",
   "metadata": {},
   "outputs": [
    {
     "name": "stdout",
     "output_type": "stream",
     "text": [
      "переменная a=7, переменная b=Hello\n"
     ]
    }
   ],
   "source": [
    "print(f'переменная a={a}, переменная b={b}')"
   ]
  },
  {
   "cell_type": "code",
   "execution_count": 178,
   "id": "b1d139c1-c732-4438-bc6c-f56d4588c980",
   "metadata": {},
   "outputs": [
    {
     "name": "stdout",
     "output_type": "stream",
     "text": [
      "2 * 3 = 6\n"
     ]
    }
   ],
   "source": [
    "print(f'{x} * {y} = {x*y}')"
   ]
  },
  {
   "cell_type": "code",
   "execution_count": 179,
   "id": "4cc9cb5f-c2dd-47c6-877e-4f0d01fb0282",
   "metadata": {},
   "outputs": [
    {
     "name": "stdout",
     "output_type": "stream",
     "text": [
      "a=7 b='Hello'\n"
     ]
    }
   ],
   "source": [
    "# начиная с python 3.10 есть формат для отладочной печати переменных\n",
    "print(f'{a=} {b=}')"
   ]
  },
  {
   "cell_type": "code",
   "execution_count": 180,
   "id": "bf33398e-380c-4cbe-a3d2-6d29c3961c91",
   "metadata": {},
   "outputs": [
    {
     "name": "stdout",
     "output_type": "stream",
     "text": [
      "5.666666666666667 и 5.7\n"
     ]
    }
   ],
   "source": [
    "# печать 2 десятичных знаков после точки, с округлением\n",
    "x = 17 / 3\n",
    "print(f'{x} и {x:.2}')"
   ]
  },
  {
   "cell_type": "markdown",
   "id": "04a8a7a3-3cb0-4131-8419-688de01ccd43",
   "metadata": {},
   "source": [
    "## Ввод данных input()\n",
    "\n",
    "Программа решала одно квадратное уравнение $x^2 + x - 20 = 0$. Если научимся вводить числа, то программа может решить любое квадратное уравнение (с вещественными корнями).\n",
    "\n",
    "Прочитаем строку с клавиатуры."
   ]
  },
  {
   "cell_type": "code",
   "execution_count": 181,
   "id": "d21c6b63-f8a0-45e8-a2c7-8fb3b5e7ab4a",
   "metadata": {},
   "outputs": [
    {
     "name": "stdout",
     "output_type": "stream",
     "text": [
      "Как тебя зовут?\n"
     ]
    },
    {
     "name": "stdin",
     "output_type": "stream",
     "text": [
      " Tanya\n"
     ]
    },
    {
     "name": "stdout",
     "output_type": "stream",
     "text": [
      "Привет, Tanya\n"
     ]
    }
   ],
   "source": [
    "print('Как тебя зовут?')\n",
    "name = input()\n",
    "print(f'Привет, {name}')"
   ]
  },
  {
   "cell_type": "code",
   "execution_count": 183,
   "id": "6fa7a1e7-f6eb-4d6f-8977-83308e741235",
   "metadata": {},
   "outputs": [
    {
     "name": "stdin",
     "output_type": "stream",
     "text": [
      " qweqwe\n",
      " fhjkghjlhjklhklh\n"
     ]
    },
    {
     "name": "stdout",
     "output_type": "stream",
     "text": [
      "qweqwefhjkghjlhjklhklh\n"
     ]
    }
   ],
   "source": [
    "# прочитаем два числа и сложим их\n",
    "a = input()\n",
    "b = input()\n",
    "print(a+b)"
   ]
  },
  {
   "cell_type": "markdown",
   "id": "f976c475-41cf-4571-b542-dab766821a24",
   "metadata": {},
   "source": [
    "## type() и преобразование типа"
   ]
  },
  {
   "cell_type": "markdown",
   "id": "90b899ce-a14a-4048-adf0-98d25090803e",
   "metadata": {},
   "source": [
    "Функция `type()` дает строку с информацией о типе данных."
   ]
  },
  {
   "cell_type": "code",
   "execution_count": 184,
   "id": "cf85f21b-e872-4836-82ad-46bc77be0633",
   "metadata": {},
   "outputs": [
    {
     "data": {
      "text/plain": [
       "int"
      ]
     },
     "execution_count": 184,
     "metadata": {},
     "output_type": "execute_result"
    }
   ],
   "source": [
    "type(12)"
   ]
  },
  {
   "cell_type": "code",
   "execution_count": 185,
   "id": "efbd714b-6622-4c74-9ba5-6b9c35ae3acf",
   "metadata": {},
   "outputs": [
    {
     "data": {
      "text/plain": [
       "float"
      ]
     },
     "execution_count": 185,
     "metadata": {},
     "output_type": "execute_result"
    }
   ],
   "source": [
    "type(3.14)"
   ]
  },
  {
   "cell_type": "code",
   "execution_count": 104,
   "id": "bf60b521-3983-4146-ad30-bceaabb851a9",
   "metadata": {
    "collapsed": true,
    "jupyter": {
     "outputs_hidden": true
    }
   },
   "outputs": [
    {
     "data": {
      "text/plain": [
       "str"
      ]
     },
     "execution_count": 104,
     "metadata": {},
     "output_type": "execute_result"
    }
   ],
   "source": [
    "type('Hello')"
   ]
  },
  {
   "cell_type": "code",
   "execution_count": 186,
   "id": "37c4902f-33ec-4974-b263-f5f9eec56005",
   "metadata": {},
   "outputs": [
    {
     "name": "stdout",
     "output_type": "stream",
     "text": [
      "12 <class 'int'>\n",
      "3.14 <class 'float'>\n",
      "I love python <class 'str'>\n"
     ]
    }
   ],
   "source": [
    "x = 12\n",
    "print(x, type(x))\n",
    "x = 3.14\n",
    "print(x, type(x))\n",
    "x = 'I love python'\n",
    "print(x, type(x))"
   ]
  },
  {
   "cell_type": "markdown",
   "id": "dc9e25c9-95d7-42d3-9aab-0a989923fa1b",
   "metadata": {},
   "source": [
    "* Функции `int()`, `float()`, `str()` преобразуют данные одного типа к другому. Если смогут.\n",
    "* Такие же функции есть для всех остальных типов."
   ]
  },
  {
   "cell_type": "code",
   "execution_count": 187,
   "id": "b3c7c099-3df0-4fdf-bc53-7dcdf67030f2",
   "metadata": {},
   "outputs": [
    {
     "data": {
      "text/plain": [
       "'12'"
      ]
     },
     "execution_count": 187,
     "metadata": {},
     "output_type": "execute_result"
    }
   ],
   "source": [
    "str(12)"
   ]
  },
  {
   "cell_type": "code",
   "execution_count": 188,
   "id": "dd0ab961-8f39-4650-b27e-583c470a97d3",
   "metadata": {},
   "outputs": [
    {
     "data": {
      "text/plain": [
       "3"
      ]
     },
     "execution_count": 188,
     "metadata": {},
     "output_type": "execute_result"
    }
   ],
   "source": [
    "int(3.5)"
   ]
  },
  {
   "cell_type": "code",
   "execution_count": 189,
   "id": "092e5b4f-6316-4e7d-af56-4ac7e3ecfb3b",
   "metadata": {},
   "outputs": [
    {
     "data": {
      "text/plain": [
       "5.0"
      ]
     },
     "execution_count": 189,
     "metadata": {},
     "output_type": "execute_result"
    }
   ],
   "source": [
    "float(5)"
   ]
  },
  {
   "cell_type": "code",
   "execution_count": 190,
   "id": "b499ce8b-e0a2-4df4-a047-d9c07c7697c1",
   "metadata": {},
   "outputs": [
    {
     "data": {
      "text/plain": [
       "123"
      ]
     },
     "execution_count": 190,
     "metadata": {},
     "output_type": "execute_result"
    }
   ],
   "source": [
    "int('123')"
   ]
  },
  {
   "cell_type": "code",
   "execution_count": 191,
   "id": "2ee491bc-091a-474b-8265-087df797eb97",
   "metadata": {},
   "outputs": [
    {
     "ename": "ValueError",
     "evalue": "invalid literal for int() with base 10: 'hihihi'",
     "output_type": "error",
     "traceback": [
      "\u001b[1;31m---------------------------------------------------------------------------\u001b[0m",
      "\u001b[1;31mValueError\u001b[0m                                Traceback (most recent call last)",
      "Cell \u001b[1;32mIn[191], line 1\u001b[0m\n\u001b[1;32m----> 1\u001b[0m \u001b[38;5;28;43mint\u001b[39;49m\u001b[43m(\u001b[49m\u001b[38;5;124;43m'\u001b[39;49m\u001b[38;5;124;43mhihihi\u001b[39;49m\u001b[38;5;124;43m'\u001b[39;49m\u001b[43m)\u001b[49m\n",
      "\u001b[1;31mValueError\u001b[0m: invalid literal for int() with base 10: 'hihihi'"
     ]
    }
   ],
   "source": [
    "int('hihihi')"
   ]
  },
  {
   "cell_type": "code",
   "execution_count": 192,
   "id": "f6e090a7-7249-40e7-9b5e-48e9e3a5c263",
   "metadata": {},
   "outputs": [
    {
     "ename": "ValueError",
     "evalue": "invalid literal for int() with base 10: '3.14'",
     "output_type": "error",
     "traceback": [
      "\u001b[1;31m---------------------------------------------------------------------------\u001b[0m",
      "\u001b[1;31mValueError\u001b[0m                                Traceback (most recent call last)",
      "Cell \u001b[1;32mIn[192], line 1\u001b[0m\n\u001b[1;32m----> 1\u001b[0m \u001b[38;5;28;43mint\u001b[39;49m\u001b[43m(\u001b[49m\u001b[38;5;124;43m'\u001b[39;49m\u001b[38;5;124;43m3.14\u001b[39;49m\u001b[38;5;124;43m'\u001b[39;49m\u001b[43m)\u001b[49m\n",
      "\u001b[1;31mValueError\u001b[0m: invalid literal for int() with base 10: '3.14'"
     ]
    }
   ],
   "source": [
    "int('3.14')"
   ]
  },
  {
   "cell_type": "code",
   "execution_count": 193,
   "id": "5482fa76-5447-456d-8c87-cfb09fc097f3",
   "metadata": {},
   "outputs": [
    {
     "name": "stdin",
     "output_type": "stream",
     "text": [
      " 2\n"
     ]
    },
    {
     "name": "stdout",
     "output_type": "stream",
     "text": [
      "2 <class 'str'>\n"
     ]
    },
    {
     "name": "stdin",
     "output_type": "stream",
     "text": [
      " 34\n"
     ]
    },
    {
     "name": "stdout",
     "output_type": "stream",
     "text": [
      "34 <class 'str'>\n",
      "234\n"
     ]
    }
   ],
   "source": [
    "# прочитаем два числа и сложим их\n",
    "a = input()\n",
    "print(a, type(a))\n",
    "b = input()\n",
    "print(b, type(b))\n",
    "print(a+b)"
   ]
  },
  {
   "cell_type": "code",
   "execution_count": 194,
   "id": "1c983d81-90a2-4fdf-a85e-17caf51a4451",
   "metadata": {},
   "outputs": [
    {
     "data": {
      "text/plain": [
       "'abcqazWSX'"
      ]
     },
     "execution_count": 194,
     "metadata": {},
     "output_type": "execute_result"
    }
   ],
   "source": [
    "'abc' + 'qazWSX'"
   ]
  },
  {
   "cell_type": "code",
   "execution_count": 195,
   "id": "fe7e0da3-660a-47fa-8197-db160a3de4e1",
   "metadata": {},
   "outputs": [
    {
     "name": "stdin",
     "output_type": "stream",
     "text": [
      " 2\n"
     ]
    },
    {
     "name": "stdout",
     "output_type": "stream",
     "text": [
      "2 <class 'int'>\n"
     ]
    },
    {
     "name": "stdin",
     "output_type": "stream",
     "text": [
      " 34\n"
     ]
    },
    {
     "name": "stdout",
     "output_type": "stream",
     "text": [
      "34 <class 'int'>\n",
      "36\n"
     ]
    }
   ],
   "source": [
    "# прочитаем два числа и сложим их\n",
    "a = input()\n",
    "a = int(a)     # запишем результат в ту же переменную, не будем делать новые переменные\n",
    "print(a, type(a))\n",
    "b = input()\n",
    "b = int(b)\n",
    "print(b, type(b))\n",
    "print(a+b)"
   ]
  },
  {
   "cell_type": "code",
   "execution_count": 196,
   "id": "cb907a43-80c3-4043-9756-bce968821a2c",
   "metadata": {},
   "outputs": [
    {
     "name": "stdin",
     "output_type": "stream",
     "text": [
      " 23\n",
      " 65\n"
     ]
    },
    {
     "name": "stdout",
     "output_type": "stream",
     "text": [
      "88\n"
     ]
    }
   ],
   "source": [
    "# то же самое, но теперь результат функции input() передадим как аргумент функции int()\n",
    "a = int(input())\n",
    "b = int(input())\n",
    "print(a + b)"
   ]
  },
  {
   "cell_type": "markdown",
   "id": "a22f71ad-75e7-4605-8fbd-3e7cb588e28a",
   "metadata": {},
   "source": [
    "Если числа на одной строке, то работать не будет! Из строки '2 3' **одно** целое число не сделать."
   ]
  },
  {
   "cell_type": "code",
   "execution_count": 197,
   "id": "17cc8481-8482-40cf-ac33-bf55c745e2a3",
   "metadata": {},
   "outputs": [
    {
     "name": "stdin",
     "output_type": "stream",
     "text": [
      " 23 65\n"
     ]
    },
    {
     "ename": "ValueError",
     "evalue": "invalid literal for int() with base 10: '23 65'",
     "output_type": "error",
     "traceback": [
      "\u001b[1;31m---------------------------------------------------------------------------\u001b[0m",
      "\u001b[1;31mValueError\u001b[0m                                Traceback (most recent call last)",
      "Cell \u001b[1;32mIn[197], line 2\u001b[0m\n\u001b[0;32m      1\u001b[0m \u001b[38;5;66;03m# то же самое, но теперь результат функции input() передадим как аргумент функции int()\u001b[39;00m\n\u001b[1;32m----> 2\u001b[0m a \u001b[38;5;241m=\u001b[39m \u001b[38;5;28;43mint\u001b[39;49m\u001b[43m(\u001b[49m\u001b[38;5;28;43minput\u001b[39;49m\u001b[43m(\u001b[49m\u001b[43m)\u001b[49m\u001b[43m)\u001b[49m\n\u001b[0;32m      3\u001b[0m b \u001b[38;5;241m=\u001b[39m \u001b[38;5;28mint\u001b[39m(\u001b[38;5;28minput\u001b[39m())\n\u001b[0;32m      4\u001b[0m \u001b[38;5;28mprint\u001b[39m(a \u001b[38;5;241m+\u001b[39m b)\n",
      "\u001b[1;31mValueError\u001b[0m: invalid literal for int() with base 10: '23 65'"
     ]
    }
   ],
   "source": [
    "# то же самое, но теперь результат функции input() передадим как аргумент функции int()\n",
    "a = int(input())\n",
    "b = int(input())\n",
    "print(a + b)"
   ]
  },
  {
   "cell_type": "code",
   "execution_count": 199,
   "id": "2ff06b95-072d-46f6-b9ad-83a31f5f1bfe",
   "metadata": {},
   "outputs": [
    {
     "name": "stdin",
     "output_type": "stream",
     "text": [
      " 12 3 4\n"
     ]
    },
    {
     "name": "stdout",
     "output_type": "stream",
     "text": [
      "24\n"
     ]
    }
   ],
   "source": [
    "# записать в конспект и запомнить\n",
    "a, b, x = map(int, input().split())   # прочитать 2 3 и записать числа в переменные a и b\n",
    "print(a + b * x)"
   ]
  },
  {
   "cell_type": "markdown",
   "id": "97e82f24-f852-47c5-8faa-775754d68acb",
   "metadata": {},
   "source": [
    "### Комплексные числа\n",
    "\n",
    "Пишутся с использованием `j` как мнимой единицы (не опечатка!!!) без умножения, как математики.\n",
    "Число $4+3i$. Математические функции для работы с комплексными числами - в пакете [cmath](https://docs.python.org/3/library/cmath.html)"
   ]
  },
  {
   "cell_type": "code",
   "execution_count": 200,
   "id": "e9493ae7-a893-4243-8b11-fa5e5edf4e53",
   "metadata": {},
   "outputs": [
    {
     "name": "stdout",
     "output_type": "stream",
     "text": [
      "(4+3j)\n",
      "<class 'complex'>\n"
     ]
    }
   ],
   "source": [
    "x = 4 + 3j\n",
    "print(x)\n",
    "print(type(x))"
   ]
  },
  {
   "cell_type": "markdown",
   "id": "583524e3-6e1e-4e26-a6af-25d88c532a61",
   "metadata": {},
   "source": [
    "# Функции"
   ]
  },
  {
   "cell_type": "markdown",
   "id": "1cdff149-710e-4a4d-b18a-7178ead0fc59",
   "metadata": {},
   "source": [
    "С точки зрения математики, функция - это черный ящик, который получает на вход **аргументы** и **возвращает значение** функции. То есть преобразование данных.\n",
    "\n",
    "С точки зрения программирования - тоже есть входные значения и возвращаемое значение. Но функции `print()` и `input()` могут иметь побочный эффект: выводить информацию на экран, считывать данные с клавиатуры.\n",
    "\n",
    "+ **имя функции** - это идентификатор, правила составления идентификаторов мы уже знаем.\n",
    "+ **аргументы** в `()`\n",
    "+ **возвращаемое значение**  - его можно или присвоить переменной, или игнорировать, как в использовании `print()`\n"
   ]
  },
  {
   "cell_type": "markdown",
   "id": "0dcc9e3c-d0b2-4813-b632-cbd617e0f117",
   "metadata": {},
   "source": [
    "## Встроенные фукнции python\n",
    "\n",
    "`print()`, `input()`, `int()`, `float()`, `str()` и [многие другие](https://docs.python.org/3/library/functions.html)\n",
    "\n",
    "* `abs(x)` вычисляет модуль числа `x`\n",
    "* `pow(a, n)` вычисляет `a**n`"
   ]
  },
  {
   "cell_type": "markdown",
   "id": "245bac06-37e5-431b-a4cc-b0ffd34c0a35",
   "metadata": {},
   "source": [
    "## Математические функции пакета math"
   ]
  },
  {
   "cell_type": "markdown",
   "id": "e1418889-3ea5-4619-a140-599a2202d410",
   "metadata": {},
   "source": [
    "Есть стандартная библиотека (пакет, модуль)  питона [math](https://docs.python.org/3/library/math.html) с нужными математическими функциями.\n",
    "\n",
    "Как вызвать функцию из пакета math? Имя любого объекта в python бывает полное в формате `имя_пакета.имя_объекта`, то есть к функции `sin` из пакета `math` нужно обращаться как `math.sin`.\n",
    "\n",
    "Имя пакета нужно сначала импортировать с помощью **import**. Расскажем об этом на следующем шаге.\n",
    "\n",
    "Если в описании функций вам не знакомы какие-то термины, то не беспокойтесь, мы их скоро выучим.\n",
    "\n",
    "### Тригонометрические функции\n",
    "\n",
    "Обратите внимание, что аргументы задаются в радианах. Если у вас градусы, нужно переводить из градусов в радианы.\n",
    "\n",
    "| Синтаксис | Описание |\n",
    "|---|---|\n",
    "| math.degrees\\(r\\) |  Преобразует число r, типа float, **из радиан в градусы** |\n",
    "| math.radians\\(d\\) |  Преобразует число d, типа float, **из градусов в радианы** |\n",
    "| math.acos\\(x\\) |  Возвращает арккосинус x в радианах |\n",
    "| math.acosh\\(x\\) |  Возвращает гиперболический арккосинус x в радианах |\n",
    "| math.asin\\(x\\) |  Возвращает арксинус x в радианах |\n",
    "| math.asinh\\(x\\) |  Возвращает гиперболический арксинус x в радианах |\n",
    "| math.atan\\(x\\) |  Возвращает арктангенс x в радианах |\n",
    "| math.atan2\\(y, x\\) |  Возвращает арктангенс y/x в радианах |\n",
    "| math.atanh\\(x\\) |  Возвращает гиперболический арктангенс x в радианах |\n",
    "| math.cos\\(x\\) |  Возвращает косинус x в радианах |\n",
    "| math.cosh\\(x\\) |  Возвращает гиперболический косинус x в радианах |\n",
    "| math.sin\\(x\\) |  Возвращает синус x в радианах |\n",
    "| math.sinh\\(x\\) |  Возвращает гиперболический синус x в радианах |\n",
    "| math.sqrt\\(x\\) |  Возвращает  $\\sqrt{x}$ |\n",
    "| math.tan\\(x\\) |  Возвращает тангенс x в радианах |\n",
    "| math.tanh\\(x\\) |  Возвращает гиперболический тангенс x в радианах |\n",
    "\n",
    "### Логарифмические функции\n",
    "\n",
    "| Синтаксис | Описание |\n",
    "|---|---|\n",
    "| math.exp\\(x\\) |  Возвращает e в степени x, то есть `math.e ** x` |\n",
    "| math.frexp\\(x\\) |  Возвращает кортеж из двух элементов с мантиссой \\(в виде числа типа float\\) и экспонентой \\(в виде числа типа int\\) |\n",
    "| math.ldexp\\(m, e\\) |  Возвращает $m \\cdot 2^x$  – операция, обратная math.frexp  |\n",
    "| math.log\\(x, b\\) |  Возвращает $\\log_{b} {x}$, аргумент b является необязательным и по умолчанию имеет значение math.e |\n",
    "| math.log10\\(x\\) |  Возвращает $\\log_{10} {x}$ |\n",
    "| math.log1p\\(x\\) |  Возвращает $\\log_{e} (1+x)$; дает точные значения, даже когда значение x близко к 0 |\n",
    "\n",
    "\n",
    "### Округление чисел\n",
    "\n",
    "| Синтаксис | Описание |\n",
    "|---|---|\n",
    "| math.ceil\\(x\\) |  Возвращает наименьшее целое число типа int, большее и равное x, например, `math.ceil(5.4)  == 6` |\n",
    "| math.floor\\(x\\) |  Возвращает наименьшее целое число типа int, меньшее и равное x, например, `math.floor(5.4)  == 5` |\n",
    "\n",
    "### Прочие функции\n",
    "\n",
    "| Синтаксис | Описание |\n",
    "|---|---|\n",
    "| math.copysign\\(x,y\\) |  Возвращает x со знаком числа y |\n",
    "| math.fabs\\(x\\) |  Возвращает \\|x\\|, то есть абсолютное значение x в виде числа типа float |\n",
    "| math.factorial\\(x\\) |  Возвращает x! |\n",
    "| math.fmod\\(x, y\\) |  Выполняет деление по модулю \\(возвращает остаток\\)  числа x на число y; дает более точный результат, чем оператор %, применительно к числам типа float |\n",
    "| math.fsum\\(i\\) |  Возвращает сумму значений в итерируемом объекте i в виде числа типа float |\n",
    "| math.hypot\\(x, y\\) |  Возвращает  расстояние от точки (0,0) до точки (x,y) $$\\sqrt{x^2 + y^2}$$ |\n",
    "| math.isinf\\(x\\) |  Возвращает True, если значение x типа float является бесконечностью $±\\infty$ |\n",
    "| math.isnan\\(x\\) |  Возвращает True, если значение x типа float не является числом |\n",
    "| math.modf\\(x\\) |  Возвращает дробную и целую часть числа x в виде двух значений типа float |\n",
    "| math.pow\\(x, y\\) |  Возвращает $x^y$ в виде числа типа float |\n",
    "| math.sum\\(i\\) |  Возвращает сумму значений в итерируемом объекте i в виде числа типа float |\n",
    "| math.trunc\\(x\\) |  Возвращает целую часть числа x в виде значения типа int; то же самое, что и int\\(x\\) |\n",
    "\n",
    "### Константы\n",
    "\n",
    "| Синтаксис | Описание |\n",
    "|---|---|\n",
    "| math.e | Константа e, примерно равная значению 2.7182818284590451 |\n",
    "| math.pi | Константа $\\pi$, примерно равна 3.1415926535897931 |\n"
   ]
  },
  {
   "cell_type": "markdown",
   "id": "5747339f-8379-4996-b07d-402120de6921",
   "metadata": {},
   "source": [
    "### Функции округления\n",
    "\n",
    "Числа типа `int` и `float` могут быть аргументами следующих функций :\n",
    "\n",
    "| Операция | Результат |\n",
    "| --- | --- |\n",
    "| int\\(x\\) | Округляет число в сторону нуля. Это стандартная функция, для ее использования не нужно подключать модуль math |\n",
    "| round\\(x\\) | Округляет число до ближайшего целого. Если дробная часть числа равна 0.5, то число округляется до ближайшего четного числа |\n",
    "| round\\(x, n\\) | Округляет число x до n знаков после точки. Это стандартная функция, для ее использования не нужно подключать модуль math |\n",
    "| math.floor\\(x\\) | Округляет число вниз \\(«пол»\\), при этом floor\\(1.5\\) = 1, floor\\(-1.5\\) = -2 |\n",
    "| math.ceil\\(x\\) | Округляет число вверх \\(«потолок»\\), при этом ceil\\(1.5\\) = 2, ceil\\(-1.5\\) = -1 |\n",
    "| math.trunc\\(x\\) | Отбрасывает дробную часть |\n",
    "| float.is_integer\\(\\) | True, если дробная часть 0. |\n",
    "| float.as_integer_ratio\\(\\) | Возвращает числитель и знаменатель дроби |\n",
    "\n",
    "Примеры:\n",
    "\n",
    "| Выражение | Результат |\n",
    "|---|---|\n",
    "| int(1.7) | 1 |\n",
    "| int(-1.7) | -1 |\n",
    "| ceil(4.2) | 5 |\n",
    "| ceil(4.8) | 5 |\n",
    "| ceil(-4.2) | -4 |\n",
    "| round(1.3) | 1 |\n",
    "| round(1.7) | 2 |\n",
    "| round(1.5) | 2 |\n",
    "| round(2.5) | 2 |\n",
    "| round(2.65, 1) | 2.6 |\n",
    "| round(2.75, 1) | 2.8 |\n",
    "| trunc(5.32) | 5 |\n",
    "| trunc(-5.32) | -5 |"
   ]
  },
  {
   "cell_type": "markdown",
   "id": "744086f0-8dde-41d7-8891-6e8112d255f6",
   "metadata": {},
   "source": [
    "## HELP MEEEEEE!!!"
   ]
  },
  {
   "cell_type": "code",
   "execution_count": 201,
   "id": "51639b0b-77aa-4dee-925c-9ab237b939a9",
   "metadata": {},
   "outputs": [
    {
     "name": "stdout",
     "output_type": "stream",
     "text": [
      "Help on built-in function round in module builtins:\n",
      "\n",
      "round(number, ndigits=None)\n",
      "    Round a number to a given precision in decimal digits.\n",
      "    \n",
      "    The return value is an integer if ndigits is omitted or None.  Otherwise\n",
      "    the return value has the same type as the number.  ndigits may be negative.\n",
      "\n"
     ]
    }
   ],
   "source": [
    "help(round)"
   ]
  },
  {
   "cell_type": "code",
   "execution_count": 126,
   "id": "5be9de1f-6c11-4262-ab72-e5533d1fa927",
   "metadata": {},
   "outputs": [
    {
     "name": "stdout",
     "output_type": "stream",
     "text": [
      "Help on built-in module math:\n",
      "\n",
      "NAME\n",
      "    math\n",
      "\n",
      "DESCRIPTION\n",
      "    This module provides access to the mathematical functions\n",
      "    defined by the C standard.\n",
      "\n",
      "FUNCTIONS\n",
      "    acos(x, /)\n",
      "        Return the arc cosine (measured in radians) of x.\n",
      "        \n",
      "        The result is between 0 and pi.\n",
      "    \n",
      "    acosh(x, /)\n",
      "        Return the inverse hyperbolic cosine of x.\n",
      "    \n",
      "    asin(x, /)\n",
      "        Return the arc sine (measured in radians) of x.\n",
      "        \n",
      "        The result is between -pi/2 and pi/2.\n",
      "    \n",
      "    asinh(x, /)\n",
      "        Return the inverse hyperbolic sine of x.\n",
      "    \n",
      "    atan(x, /)\n",
      "        Return the arc tangent (measured in radians) of x.\n",
      "        \n",
      "        The result is between -pi/2 and pi/2.\n",
      "    \n",
      "    atan2(y, x, /)\n",
      "        Return the arc tangent (measured in radians) of y/x.\n",
      "        \n",
      "        Unlike atan(y/x), the signs of both x and y are considered.\n",
      "    \n",
      "    atanh(x, /)\n",
      "        Return the inverse hyperbolic tangent of x.\n",
      "    \n",
      "    ceil(x, /)\n",
      "        Return the ceiling of x as an Integral.\n",
      "        \n",
      "        This is the smallest integer >= x.\n",
      "    \n",
      "    comb(n, k, /)\n",
      "        Number of ways to choose k items from n items without repetition and without order.\n",
      "        \n",
      "        Evaluates to n! / (k! * (n - k)!) when k <= n and evaluates\n",
      "        to zero when k > n.\n",
      "        \n",
      "        Also called the binomial coefficient because it is equivalent\n",
      "        to the coefficient of k-th term in polynomial expansion of the\n",
      "        expression (1 + x)**n.\n",
      "        \n",
      "        Raises TypeError if either of the arguments are not integers.\n",
      "        Raises ValueError if either of the arguments are negative.\n",
      "    \n",
      "    copysign(x, y, /)\n",
      "        Return a float with the magnitude (absolute value) of x but the sign of y.\n",
      "        \n",
      "        On platforms that support signed zeros, copysign(1.0, -0.0)\n",
      "        returns -1.0.\n",
      "    \n",
      "    cos(x, /)\n",
      "        Return the cosine of x (measured in radians).\n",
      "    \n",
      "    cosh(x, /)\n",
      "        Return the hyperbolic cosine of x.\n",
      "    \n",
      "    degrees(x, /)\n",
      "        Convert angle x from radians to degrees.\n",
      "    \n",
      "    dist(p, q, /)\n",
      "        Return the Euclidean distance between two points p and q.\n",
      "        \n",
      "        The points should be specified as sequences (or iterables) of\n",
      "        coordinates.  Both inputs must have the same dimension.\n",
      "        \n",
      "        Roughly equivalent to:\n",
      "            sqrt(sum((px - qx) ** 2.0 for px, qx in zip(p, q)))\n",
      "    \n",
      "    erf(x, /)\n",
      "        Error function at x.\n",
      "    \n",
      "    erfc(x, /)\n",
      "        Complementary error function at x.\n",
      "    \n",
      "    exp(x, /)\n",
      "        Return e raised to the power of x.\n",
      "    \n",
      "    expm1(x, /)\n",
      "        Return exp(x)-1.\n",
      "        \n",
      "        This function avoids the loss of precision involved in the direct evaluation of exp(x)-1 for small x.\n",
      "    \n",
      "    fabs(x, /)\n",
      "        Return the absolute value of the float x.\n",
      "    \n",
      "    factorial(x, /)\n",
      "        Find x!.\n",
      "        \n",
      "        Raise a ValueError if x is negative or non-integral.\n",
      "    \n",
      "    floor(x, /)\n",
      "        Return the floor of x as an Integral.\n",
      "        \n",
      "        This is the largest integer <= x.\n",
      "    \n",
      "    fmod(x, y, /)\n",
      "        Return fmod(x, y), according to platform C.\n",
      "        \n",
      "        x % y may differ.\n",
      "    \n",
      "    frexp(x, /)\n",
      "        Return the mantissa and exponent of x, as pair (m, e).\n",
      "        \n",
      "        m is a float and e is an int, such that x = m * 2.**e.\n",
      "        If x is 0, m and e are both 0.  Else 0.5 <= abs(m) < 1.0.\n",
      "    \n",
      "    fsum(seq, /)\n",
      "        Return an accurate floating point sum of values in the iterable seq.\n",
      "        \n",
      "        Assumes IEEE-754 floating point arithmetic.\n",
      "    \n",
      "    gamma(x, /)\n",
      "        Gamma function at x.\n",
      "    \n",
      "    gcd(*integers)\n",
      "        Greatest Common Divisor.\n",
      "    \n",
      "    hypot(...)\n",
      "        hypot(*coordinates) -> value\n",
      "        \n",
      "        Multidimensional Euclidean distance from the origin to a point.\n",
      "        \n",
      "        Roughly equivalent to:\n",
      "            sqrt(sum(x**2 for x in coordinates))\n",
      "        \n",
      "        For a two dimensional point (x, y), gives the hypotenuse\n",
      "        using the Pythagorean theorem:  sqrt(x*x + y*y).\n",
      "        \n",
      "        For example, the hypotenuse of a 3/4/5 right triangle is:\n",
      "        \n",
      "            >>> hypot(3.0, 4.0)\n",
      "            5.0\n",
      "    \n",
      "    isclose(a, b, *, rel_tol=1e-09, abs_tol=0.0)\n",
      "        Determine whether two floating point numbers are close in value.\n",
      "        \n",
      "          rel_tol\n",
      "            maximum difference for being considered \"close\", relative to the\n",
      "            magnitude of the input values\n",
      "          abs_tol\n",
      "            maximum difference for being considered \"close\", regardless of the\n",
      "            magnitude of the input values\n",
      "        \n",
      "        Return True if a is close in value to b, and False otherwise.\n",
      "        \n",
      "        For the values to be considered close, the difference between them\n",
      "        must be smaller than at least one of the tolerances.\n",
      "        \n",
      "        -inf, inf and NaN behave similarly to the IEEE 754 Standard.  That\n",
      "        is, NaN is not close to anything, even itself.  inf and -inf are\n",
      "        only close to themselves.\n",
      "    \n",
      "    isfinite(x, /)\n",
      "        Return True if x is neither an infinity nor a NaN, and False otherwise.\n",
      "    \n",
      "    isinf(x, /)\n",
      "        Return True if x is a positive or negative infinity, and False otherwise.\n",
      "    \n",
      "    isnan(x, /)\n",
      "        Return True if x is a NaN (not a number), and False otherwise.\n",
      "    \n",
      "    isqrt(n, /)\n",
      "        Return the integer part of the square root of the input.\n",
      "    \n",
      "    lcm(*integers)\n",
      "        Least Common Multiple.\n",
      "    \n",
      "    ldexp(x, i, /)\n",
      "        Return x * (2**i).\n",
      "        \n",
      "        This is essentially the inverse of frexp().\n",
      "    \n",
      "    lgamma(x, /)\n",
      "        Natural logarithm of absolute value of Gamma function at x.\n",
      "    \n",
      "    log(...)\n",
      "        log(x, [base=math.e])\n",
      "        Return the logarithm of x to the given base.\n",
      "        \n",
      "        If the base not specified, returns the natural logarithm (base e) of x.\n",
      "    \n",
      "    log10(x, /)\n",
      "        Return the base 10 logarithm of x.\n",
      "    \n",
      "    log1p(x, /)\n",
      "        Return the natural logarithm of 1+x (base e).\n",
      "        \n",
      "        The result is computed in a way which is accurate for x near zero.\n",
      "    \n",
      "    log2(x, /)\n",
      "        Return the base 2 logarithm of x.\n",
      "    \n",
      "    modf(x, /)\n",
      "        Return the fractional and integer parts of x.\n",
      "        \n",
      "        Both results carry the sign of x and are floats.\n",
      "    \n",
      "    nextafter(x, y, /)\n",
      "        Return the next floating-point value after x towards y.\n",
      "    \n",
      "    perm(n, k=None, /)\n",
      "        Number of ways to choose k items from n items without repetition and with order.\n",
      "        \n",
      "        Evaluates to n! / (n - k)! when k <= n and evaluates\n",
      "        to zero when k > n.\n",
      "        \n",
      "        If k is not specified or is None, then k defaults to n\n",
      "        and the function returns n!.\n",
      "        \n",
      "        Raises TypeError if either of the arguments are not integers.\n",
      "        Raises ValueError if either of the arguments are negative.\n",
      "    \n",
      "    pow(x, y, /)\n",
      "        Return x**y (x to the power of y).\n",
      "    \n",
      "    prod(iterable, /, *, start=1)\n",
      "        Calculate the product of all the elements in the input iterable.\n",
      "        \n",
      "        The default start value for the product is 1.\n",
      "        \n",
      "        When the iterable is empty, return the start value.  This function is\n",
      "        intended specifically for use with numeric values and may reject\n",
      "        non-numeric types.\n",
      "    \n",
      "    radians(x, /)\n",
      "        Convert angle x from degrees to radians.\n",
      "    \n",
      "    remainder(x, y, /)\n",
      "        Difference between x and the closest integer multiple of y.\n",
      "        \n",
      "        Return x - n*y where n*y is the closest integer multiple of y.\n",
      "        In the case where x is exactly halfway between two multiples of\n",
      "        y, the nearest even value of n is used. The result is always exact.\n",
      "    \n",
      "    sin(x, /)\n",
      "        Return the sine of x (measured in radians).\n",
      "    \n",
      "    sinh(x, /)\n",
      "        Return the hyperbolic sine of x.\n",
      "    \n",
      "    sqrt(x, /)\n",
      "        Return the square root of x.\n",
      "    \n",
      "    tan(x, /)\n",
      "        Return the tangent of x (measured in radians).\n",
      "    \n",
      "    tanh(x, /)\n",
      "        Return the hyperbolic tangent of x.\n",
      "    \n",
      "    trunc(x, /)\n",
      "        Truncates the Real x to the nearest Integral toward 0.\n",
      "        \n",
      "        Uses the __trunc__ magic method.\n",
      "    \n",
      "    ulp(x, /)\n",
      "        Return the value of the least significant bit of the float x.\n",
      "\n",
      "DATA\n",
      "    e = 2.718281828459045\n",
      "    inf = inf\n",
      "    nan = nan\n",
      "    pi = 3.141592653589793\n",
      "    tau = 6.283185307179586\n",
      "\n",
      "FILE\n",
      "    (built-in)\n",
      "\n",
      "\n"
     ]
    }
   ],
   "source": [
    "import math\n",
    "help(math)"
   ]
  },
  {
   "cell_type": "markdown",
   "id": "f53a609b-7891-4859-8a14-a6213cb3d80d",
   "metadata": {},
   "source": [
    "## import\n",
    "\n",
    "Как вызвать функцию из пакета `math`? \n",
    "\n",
    "**import** как правило пишут в начале файла. Видим что файл использует."
   ]
  },
  {
   "cell_type": "markdown",
   "id": "3b8292c2-c851-4323-bc2b-9966f0fd46cb",
   "metadata": {},
   "source": [
    "### import math\n",
    "\n",
    "`имя_пакета.имя_объекта` - полное имя объекта\n",
    "\n",
    "К функции `sin` из пакета `math` нужно обращаться как `math.sin`.\n",
    "\n",
    "Имя пакета нужно сначала импортировать с помощью **import**."
   ]
  },
  {
   "cell_type": "code",
   "execution_count": 202,
   "id": "66fc9f9c-8e7e-480f-ac91-c26d022da447",
   "metadata": {},
   "outputs": [
    {
     "data": {
      "text/plain": [
       "9.0"
      ]
     },
     "execution_count": 202,
     "metadata": {},
     "output_type": "execute_result"
    }
   ],
   "source": [
    "import math\n",
    "math.sqrt(81)   # корень квадратный"
   ]
  },
  {
   "cell_type": "code",
   "execution_count": 203,
   "id": "701a1247-f026-43d9-b347-775e41c980ff",
   "metadata": {},
   "outputs": [
    {
     "data": {
      "text/plain": [
       "1.0"
      ]
     },
     "execution_count": 203,
     "metadata": {},
     "output_type": "execute_result"
    }
   ],
   "source": [
    "# если в предыдущей ячейке написали import пакета, то дальше пользуемся выполненным импортом:\n",
    "a = math.sin(math.pi / 2)   # sin(π/2)\n",
    "a"
   ]
  },
  {
   "cell_type": "markdown",
   "id": "e8413135-85a4-4134-997b-cd5721c6ea7d",
   "metadata": {},
   "source": [
    "### from math import sin, cos\n",
    "\n",
    "Можно перечислить, какие объекты из пакета вы хотите импортировать и обращаться к ним по коротким именам"
   ]
  },
  {
   "cell_type": "code",
   "execution_count": 204,
   "id": "7122920d-eeb2-4cd8-bfdd-f3a56ef68b7f",
   "metadata": {},
   "outputs": [],
   "source": [
    "from math import sin, pi    # импорт объектов sin и pi из пакета math\n",
    "\n",
    "a = sin(pi / 2)             # обращение к импортируемым объектам по их краткому идентификатору"
   ]
  },
  {
   "cell_type": "markdown",
   "id": "0b6384e3-2dfa-40fd-b4c2-f5646e611bc1",
   "metadata": {},
   "source": [
    "### from math import *\n",
    "\n",
    "**Не надо так делать!**"
   ]
  },
  {
   "cell_type": "code",
   "execution_count": 134,
   "id": "0e2af613-7407-4455-a914-01ccb6d9263f",
   "metadata": {
    "collapsed": true,
    "jupyter": {
     "outputs_hidden": true
    }
   },
   "outputs": [],
   "source": [
    "from math import *          # импорт ВСЕХ объектов из пакета math\n",
    "\n",
    "a = sin(pi / 2)             # обращение к импортируемым объектам по их краткому идентификатору"
   ]
  },
  {
   "cell_type": "markdown",
   "id": "f5382592-fbd2-4023-b31b-c9f58ba60779",
   "metadata": {},
   "source": [
    "## import numpy as np"
   ]
  },
  {
   "cell_type": "markdown",
   "id": "7cff3d6a-19ee-4881-a8c1-a0bce2e7e74d",
   "metadata": {},
   "source": [
    "`import длинное_имя as псевдоним`\n",
    "\n",
    "Нарисовать график функции $x^2$ для $1 \\le x \\le 4$, пока ничего не понятно, смотрим только на `import`"
   ]
  },
  {
   "cell_type": "code",
   "execution_count": null,
   "id": "eab223f2-2525-4e1f-9869-2c1b088323f9",
   "metadata": {
    "collapsed": true,
    "jupyter": {
     "outputs_hidden": true
    }
   },
   "outputs": [],
   "source": [
    "import numpy as np\n",
    "import matplotlib.pyplot as plt\n",
    "\n",
    "x = np.linspace(1, 4, 100)\n",
    "plt.plot(x, x*x)"
   ]
  },
  {
   "cell_type": "markdown",
   "id": "676a8385-48f0-44e2-916b-778c9ef986ed",
   "metadata": {},
   "source": [
    "## Как писать лучше?\n",
    "\n",
    "* `from math import *` - плохо\n",
    "    * не контролируем что включено, в пакете numpy и math есть функция sin, из какого пакета реализацию мы используем?\n",
    "    * при попытке замены одного пакета на другой, мы не представляем фронт работ (сколько и что именно менять)\n",
    "* `math.sin` - лучше, потому что видно по коду в каких местах используется sin и насколько пакет \"врос\" в код.\n",
    "* `from math import sin` - лучше всего\n",
    "    *  в начале файла описано что именно из пакета будет использовано, например `from json import dums` - значит только печатать будем красиво, а не читать откуда-то файлы данных."
   ]
  },
  {
   "cell_type": "markdown",
   "id": "e0149a9e-cf7b-40d6-8eec-51dd379fbcd5",
   "metadata": {},
   "source": [
    "## Функции, определенные пользователем\n",
    "\n",
    "Хотим сами написать функции. Зачем?\n",
    "\n",
    "* Повтороное использование кода\n",
    "* Разделение кода на блоки\n",
    "* Реализация скрыта"
   ]
  },
  {
   "cell_type": "code",
   "execution_count": 205,
   "id": "07841cec-3401-43a6-8d96-2af3223a466b",
   "metadata": {},
   "outputs": [
    {
     "name": "stdout",
     "output_type": "stream",
     "text": [
      "Hello!\n",
      "Здравствуйте!\n",
      "Hello!\n",
      "Здравствуйте!\n"
     ]
    }
   ],
   "source": [
    "# делаем функцию. \n",
    "# def - ключевое слово\n",
    "# hi - придумали (сами) имя функции\n",
    "def hi():\n",
    "    print('Hello!')             # тело функции (все строки кода) пишем с отступами\n",
    "    print('Здравствуйте!')\n",
    "\n",
    "# закончились отступы - закончилась функция.\n",
    "hi()   # вызов функции hi, функция печатает Hello! и Здравствуйте!\n",
    "hi()   # вызов функции hi, функция печатает Hello! и Здравствуйте!"
   ]
  },
  {
   "cell_type": "markdown",
   "id": "97575c5f-e068-4c37-a175-4512e007d243",
   "metadata": {},
   "source": [
    "* **Создание функции** (реализация) - один раз.\n",
    "    * **Сигнатура функции** (заголовок) - первая строка функции, где определяем её имя и параметры\n",
    "        * **def** - ключевое слово, от английского слова define (определим).\n",
    "        * идентификатор - имя функции\n",
    "        * `()`\n",
    "        * `:`\n",
    "    * после сигнатуры с **отступом в 4 пробела** напишем **тело функции** (код внутри функции)\n",
    "* реализация функции **закончилась** там, где закончились отступы.\n",
    "* **Вызов функции** (её использование, call) - много раз.\n",
    "\n",
    "**Сначала нужно реализовать функцию, потом ее использовать!**\n",
    "\n",
    "Как это работает. Как передается управление."
   ]
  },
  {
   "cell_type": "markdown",
   "id": "3ff01430-eeea-4be0-b4d9-be3e2cd293a8",
   "metadata": {},
   "source": [
    "### Фукнция с параметром\n",
    "\n",
    "Параметры пишем через запятую в `()`\n",
    "\n",
    "В этой функции один параметр (как передается управление и создаются переменные)"
   ]
  },
  {
   "cell_type": "code",
   "execution_count": 137,
   "id": "238dc21a-d284-4426-8cef-e578f2933de7",
   "metadata": {
    "collapsed": true,
    "jupyter": {
     "outputs_hidden": true
    }
   },
   "outputs": [
    {
     "name": "stdout",
     "output_type": "stream",
     "text": [
      "С уважением, Дербышева Т.Н., преподаватель кафедры КИВМ МФТИ.\n",
      "С уважением, Овсянникова Т.В., преподаватель кафедры КИВМ МФТИ.\n",
      "С уважением, Хирьянов Т.Ф., преподаватель кафедры КИВМ МФТИ.\n"
     ]
    }
   ],
   "source": [
    "def signature(name):\n",
    "    print(f'С уважением, {name}, преподаватель кафедры КИВМ МФТИ.')\n",
    "    \n",
    "# вызовем её с разными аргументами\n",
    "signature('Дербышева Т.Н.')\n",
    "signature('Овсянникова Т.В.')\n",
    "signature('Хирьянов Т.Ф.')"
   ]
  },
  {
   "cell_type": "markdown",
   "id": "494d4e15-3673-4a11-89a7-bffc18c24299",
   "metadata": {},
   "source": [
    "В этой функции два параметра (как передается управление и создаются переменные)"
   ]
  },
  {
   "cell_type": "code",
   "execution_count": 206,
   "id": "49b692a1-5c6f-4d7d-aea0-c5a33339555a",
   "metadata": {},
   "outputs": [
    {
     "name": "stdout",
     "output_type": "stream",
     "text": [
      "Как тебя зовут?\n"
     ]
    },
    {
     "name": "stdin",
     "output_type": "stream",
     "text": [
      " Artem\n"
     ]
    },
    {
     "name": "stdout",
     "output_type": "stream",
     "text": [
      "В какой группе ты учишься?\n"
     ]
    },
    {
     "name": "stdin",
     "output_type": "stream",
     "text": [
      " 310\n"
     ]
    },
    {
     "name": "stdout",
     "output_type": "stream",
     "text": [
      "Здравствуй, Artem, студент группы 310\n"
     ]
    }
   ],
   "source": [
    "def hi(name, group):\n",
    "    print(f'Здравствуй, {name}, студент группы {group}')\n",
    "\n",
    "print('Как тебя зовут?')\n",
    "student_name = input()\n",
    "print('В какой группе ты учишься?')\n",
    "student_group = input()\n",
    "\n",
    "hi(student_name, student_group)"
   ]
  },
  {
   "cell_type": "markdown",
   "id": "304d3b6f-7829-4516-b364-b03ffef0c060",
   "metadata": {},
   "source": [
    "#### Пример функции с параметрами print(sep, end)\n",
    "\n",
    "У функции `print` есть необязательные (разберем позже) параметры\n",
    "\n",
    "* **sep** - от слова separator (разделитель) - что печатает между аргументами\n",
    "* **end** - что напечатать в конце"
   ]
  },
  {
   "cell_type": "code",
   "execution_count": 208,
   "id": "6427b48b-29c0-4357-b7fb-89ff12d4472a",
   "metadata": {},
   "outputs": [
    {
     "name": "stdout",
     "output_type": "stream",
     "text": [
      "1####2####3\n"
     ]
    }
   ],
   "source": [
    "print(1, 2, 3, sep='####')"
   ]
  },
  {
   "cell_type": "code",
   "execution_count": 209,
   "id": "682d01e8-a500-48e7-82b0-fa1f1a9e914a",
   "metadata": {},
   "outputs": [
    {
     "name": "stdout",
     "output_type": "stream",
     "text": [
      "12\n",
      "3 4hello5\n"
     ]
    }
   ],
   "source": [
    "print(1, end='')      # пустая строка в конце - обе строки напечатает одна за другой\n",
    "print(2)\n",
    "print(3, 4, end='hello')\n",
    "print(5)"
   ]
  },
  {
   "cell_type": "code",
   "execution_count": 210,
   "id": "dd339b30-2b3d-4581-8d72-1e2afb1857e2",
   "metadata": {},
   "outputs": [
    {
     "name": "stdout",
     "output_type": "stream",
     "text": [
      "1-*-2-*-3!!!"
     ]
    }
   ],
   "source": [
    "print(1, 2, 3, sep='-*-', end='!!!')"
   ]
  },
  {
   "cell_type": "markdown",
   "id": "3b747527-369e-4b7a-8bbd-58b7ff5726ba",
   "metadata": {},
   "source": [
    "### Возвращаем значение\n",
    "\n",
    "В математике функции обычно передавали аргументы и функция возвращала значение.\n",
    "\n",
    "$$y = sin(x)$$ \n",
    "\n",
    "Функция $sin$ берет аргумент $х$ и **возвращает** значение синуса для этого $х$.\n",
    "\n",
    "Можно написать функцию, которая возвращает значение. Напишем функцию, которая по 2 сторонам прямоугольника `width` и `height` считает площадь прямоугольника и возвращает ее.\n",
    "\n",
    "* **return** ключевое слово (может стоять в любой части функции)\n",
    "* Из функции возвращают то **значение** выражения, что записано после `return`\n",
    "\n",
    "Как это работает.\n"
   ]
  },
  {
   "cell_type": "code",
   "execution_count": 211,
   "id": "acd28000-b911-42cd-a358-85dc7950576d",
   "metadata": {},
   "outputs": [
    {
     "name": "stdout",
     "output_type": "stream",
     "text": [
      "50\n",
      "3.63\n"
     ]
    }
   ],
   "source": [
    "def area(width, height):\n",
    "    s = width * height  # вычислили площадь\n",
    "    return s            # вернули площадь\n",
    "\n",
    "a = area(10, 5)         # функция area вернула число, его записали в переменную a.\n",
    "print(a)                # 50\n",
    "\n",
    "a = area(0.3, 12.1)\n",
    "print(a)                # 3.63"
   ]
  },
  {
   "cell_type": "markdown",
   "id": "3400eba4-0ccd-44b8-876d-1fddd0a140d1",
   "metadata": {},
   "source": [
    "**ПОСЛЕ retrun ЖИЗНИ НЕТ!**"
   ]
  },
  {
   "cell_type": "code",
   "execution_count": 212,
   "id": "6f7b9c4d-13b0-4e50-abe3-40626b907a1d",
   "metadata": {},
   "outputs": [
    {
     "name": "stdout",
     "output_type": "stream",
     "text": [
      "50\n"
     ]
    }
   ],
   "source": [
    "def area(width, height):\n",
    "    s = width * height  # вычислили площадь\n",
    "    return s            # вернули площадь\n",
    "    print('Печатаю после return')\n",
    "\n",
    "a = area(10, 5)         # функция area вернула число, его записали в переменную a.\n",
    "print(a)                # 50"
   ]
  },
  {
   "cell_type": "markdown",
   "id": "4d57103a-35c0-4adc-bf11-c127c3cec255",
   "metadata": {},
   "source": [
    "**Короче!**"
   ]
  },
  {
   "cell_type": "code",
   "execution_count": 143,
   "id": "4d6a2b49-dfb2-4f47-a5fc-bd49607d23e5",
   "metadata": {
    "collapsed": true,
    "jupyter": {
     "outputs_hidden": true
    }
   },
   "outputs": [
    {
     "name": "stdout",
     "output_type": "stream",
     "text": [
      "50\n"
     ]
    }
   ],
   "source": [
    "def area(width, height):\n",
    "    return width * height   # вычислили площадь и сразу же вернули это число\n",
    "\n",
    "a = area(10, 5)             # функция area вернула число, его записали в переменную a.\n",
    "print(a)                    # 50"
   ]
  },
  {
   "cell_type": "markdown",
   "id": "0c73585f-248c-42bb-982f-356c6d5d92da",
   "metadata": {},
   "source": [
    "#### Типичные ошибки\n",
    "\n",
    "##### Вернули, но не присвоили"
   ]
  },
  {
   "cell_type": "code",
   "execution_count": 213,
   "id": "7006d566-9071-456a-93ae-a682fdafc882",
   "metadata": {},
   "outputs": [
    {
     "name": "stdout",
     "output_type": "stream",
     "text": [
      "50\n",
      "50\n"
     ]
    }
   ],
   "source": [
    "def area(width, height):\n",
    "    return width * height   # вычислили площадь и сразу же вернули это число\n",
    "\n",
    "a = area(10, 5)             # функция area вернула число, его записали в переменную a.\n",
    "print(a)                    # 50\n",
    "\n",
    "area(0.3, 12.1)             # ОШИБКА: площадь не сохранили\n",
    "print(a)                    # 50 - старое значение из переменной a"
   ]
  },
  {
   "cell_type": "markdown",
   "id": "932d61b2-cea7-4922-8468-fa8619efc389",
   "metadata": {},
   "source": [
    "##### Присвоили, но не вернули"
   ]
  },
  {
   "cell_type": "code",
   "execution_count": 214,
   "id": "091d8121-f3f4-43b1-86f6-3f7c653b38db",
   "metadata": {},
   "outputs": [
    {
     "name": "stdout",
     "output_type": "stream",
     "text": [
      "None\n"
     ]
    }
   ],
   "source": [
    "def area(width, height):\n",
    "    s = width * height      # вычислили площадь\n",
    "                            # из функции ничего явно не вернули\n",
    "a = area(10, 5)             # функция area вернула None, его записали в переменную a.\n",
    "print(a)                    # None"
   ]
  },
  {
   "cell_type": "markdown",
   "id": "fff5083e-4739-49cf-8ad7-f2a021cd3496",
   "metadata": {},
   "source": [
    "### Возвращаем несколько значений\n",
    "\n",
    "Функция может возвращать много значений через запятую. *На самом деле одно, но это мы узнаем, когда будем проходить tuple, кортеж*\n",
    "\n",
    "Мы это уже использовали раньше, когда читали несколько чисел на одной строке через пробел `2 3`\n",
    "```python\n",
    "x, y = map(int, input().split())\n",
    "```\n",
    "Функция `map` возвращала 2 числа."
   ]
  },
  {
   "cell_type": "code",
   "execution_count": 147,
   "id": "58726afb-d0c2-4d42-9548-eedee541b28b",
   "metadata": {
    "collapsed": true,
    "jupyter": {
     "outputs_hidden": true
    }
   },
   "outputs": [
    {
     "name": "stdout",
     "output_type": "stream",
     "text": [
      "Корни уравнения 4.0 и -5.0\n"
     ]
    }
   ],
   "source": [
    "\"\"\" Возвращает корни квадратного уравнения с параметрами a, b, c.\"\"\"\n",
    "from math import sqrt\n",
    "\n",
    "def square_equation(a, b, c):\n",
    "    d = sqrt(b*b - 4*a*c)\n",
    "    x1 = (-b + d) / (2*a)\n",
    "    x2 = (-b - d) / (2*a)\n",
    "    return x1, x2           # возвращаем два значения, пишем их через запятую\n",
    "    \n",
    "r1, r2 = square_equation(1, 1, -20)\n",
    "print(f'Корни уравнения {r1} и {r2}')"
   ]
  },
  {
   "cell_type": "markdown",
   "id": "41c23617-42f2-4b65-87a5-c3dae2db753f",
   "metadata": {},
   "source": [
    "### Именованные аргументы"
   ]
  },
  {
   "cell_type": "markdown",
   "id": "2942275f-53fa-447d-95e5-3c2c5345cda9",
   "metadata": {},
   "source": [
    "Напишем функцию `dist`, которая вычисляет расстояние на плоскости XY между точками (x1,y1) и (x2,y2).\n",
    "\n",
    "Посмотрим на вызов `dist(1, 2, 3, 4)`. Как передаются параметры в функцию, это `dist(x1, y1, x2, y2)` или `dist(x1, x2, y1, y2)`?\n",
    "\n",
    "Чтобы не путаться, пишут **именованные аргументы** при вызове\n",
    "\n",
    "`dist(x1=1, y1=2, x2=3, y2=4)`\n",
    "\n",
    "* сначала идут неименованные, **позиционные** аргументы\n",
    "* потом идут **именованные** аргументы, порядок именованных аргументов может быть любой\n",
    "\n",
    "`dist(1, 2, y2=4, x2=3)` - работает так же, как пример выше"
   ]
  },
  {
   "cell_type": "markdown",
   "id": "3b3fd809-69d0-456a-8730-5e41a5e25998",
   "metadata": {},
   "source": [
    "Корректные вызовы:\n",
    "```python\n",
    "d = dist(3, 5, 4, -4)\n",
    "d = dist(x1=3, x2=4, y1=5, y2=-4)\n",
    "d = dist(x1=3, y1=5, x2=4, y2=-4)\n",
    "```\n",
    "Ошибка:\n",
    "```python\n",
    "d = dist(x1=3, 4, x2=3, y2=-4)  # ОШИБКА! сначала аргумент по имени, потом - нет.\n",
    "```\n"
   ]
  },
  {
   "cell_type": "markdown",
   "id": "979f619b-a111-433b-813c-4c987bc25f1b",
   "metadata": {},
   "source": [
    "### Значения по умолчанию\n",
    "\n",
    "Нужна функция, которая считает расстояние между двумя точками  (x1,y1) и (x2,y2). Еще нужна функция, которая считает расстояние от одной точки до (0,0)."
   ]
  },
  {
   "cell_type": "code",
   "execution_count": 150,
   "id": "2b668533-cafb-4955-970e-4285afb71c16",
   "metadata": {
    "collapsed": true,
    "jupyter": {
     "outputs_hidden": true
    }
   },
   "outputs": [],
   "source": [
    "# Плохая реализация, потому что copy-paste\n",
    "def dist(x1, y1, x2, y2):\n",
    "    dx = x1 - x2\n",
    "    dy = y1 - y2\n",
    "    return (dx*dx + dy*dy) ** 0.5\n",
    "\n",
    "def dist0(x1, y1):\n",
    "    dx = x1\n",
    "    dy = y1\n",
    "    return (dx*dx + dy*dy) ** 0.5"
   ]
  },
  {
   "cell_type": "markdown",
   "id": "275a899e-350f-45cf-83b6-b775f176b338",
   "metadata": {},
   "source": [
    "* вероятность посадить ошибку\n",
    "* разные ошибки в разных местах (плавающая ошибка)\n",
    "* рефакторинг - перелопатить кучу кода"
   ]
  },
  {
   "cell_type": "code",
   "execution_count": null,
   "id": "fc1a640a-5692-4dd4-955f-868ae1e08b60",
   "metadata": {
    "collapsed": true,
    "jupyter": {
     "outputs_hidden": true
    }
   },
   "outputs": [],
   "source": [
    "# чуть лучше (функция-обертка)\n",
    "# Плохая реализация, потому что copy-paste\n",
    "def dist(x1, y1, x2, y2):\n",
    "    dx = x1 - x2\n",
    "    dy = y1 - y2\n",
    "    return (dx*dx + dy*dy) ** 0.5\n",
    "\n",
    "def dist0(x1, y1):\n",
    "    return dist(x1, y1, 0, 0)"
   ]
  },
  {
   "cell_type": "code",
   "execution_count": 155,
   "id": "ac44acc4-3b97-450a-8892-fd6ad44da981",
   "metadata": {
    "collapsed": true,
    "jupyter": {
     "outputs_hidden": true
    }
   },
   "outputs": [
    {
     "name": "stdout",
     "output_type": "stream",
     "text": [
      "5.0\n",
      "10.0\n"
     ]
    }
   ],
   "source": [
    "# хорошо: значения по умолчанию\n",
    "def dist(x1, y1, x2=0, y2=0):\n",
    "    dx = x1 - x2\n",
    "    dy = y1 - y2\n",
    "    return (dx*dx + dy*dy) ** 0.5\n",
    "\n",
    "print(dist(0, 3, 4, 0))   # явно задаем все значения\n",
    "print(dist(-6, 8))        # используются значения по умолчанию"
   ]
  },
  {
   "cell_type": "markdown",
   "id": "78a7e092-ea6a-46d7-901e-3352ac16f6a1",
   "metadata": {},
   "source": [
    "**Если начались параметры со значением по умолчанию, после них нельзя поставить параметр без такого значения.**\n",
    "```python\n",
    "def dist(x1=0, y1=0, x2, y2):    # ошибка, значения по умолчанию должны идти последними\n",
    "    dx = x1 - x2\n",
    "    dy = y1 - y2\n",
    "    return (dx*dx + dy*dy) ** 0.5\n",
    "```"
   ]
  },
  {
   "cell_type": "markdown",
   "id": "d4da6ad1-7ed1-4531-8190-638df3262d52",
   "metadata": {},
   "source": [
    "## Область видимости переменной (name scope)\n",
    "\n",
    "Разные люди могут иметь одинаковые имена. Разные переменные тоже могут иметь одно и то же имя.\n",
    "\n",
    "**Область видимости** (name scope) - где видно и можно использовать переменную или функцию.\n",
    "\n",
    "Внутри функции и ее аргументы - это **локальная** область видимости. При каждом **вызове функции** создается своя область видимости локальных переменных этой функции. \n",
    "\n",
    "```python\n",
    "from math import sqrt  # функция вычисляет квадратный корень\n",
    "\n",
    "def dist(x1, y1, x2, y2):\n",
    "    dx = x1 - x2\n",
    "    dy = y1 - y2\n",
    "    res = sqrt(dx*dx + dy*dy)\n",
    "    return res\n",
    "    \n",
    "def area(x1, y1, x2, y2, x3, y3):\n",
    "    a = dist(x1, y1, x2, y2)\n",
    "    b = dist(x1, y1, x3, y3)\n",
    "    c = dist(x3, y3, x2, y2)\n",
    "    p = (a + b + c) / 2\n",
    "    res = sqrt(p*(p-a)*(p-b)*(p-c))\n",
    "    return res\n",
    "\n",
    "x1, y1, x2, y2, x3, y3 = map(float, input().split())\n",
    "s = area(x1, y1, x2, y2, x3, y3)\n",
    "print(s)\n",
    "```\n",
    "\n",
    "Сколько в этой программе переменных с именем `x1`?\n",
    "\n",
    "* `x1, y1, x2, y2, x3, y3 = map(float, input().split())` - создали переменную `x1` \n",
    "* `def dist(x1, y1, x2, y2):` - при *каждом* вызове функции создается переменная `x1`, аргумент функции `dist`.\n",
    "* `def area(x1, y1, x2, y2, x3, y3)` - при *каждом* вызове функции создается переменная `x1`, аргумент функции `area`.\n",
    "\n",
    "Имя у переменных одинаковое `x1`. Переменные разные.\n",
    "\n",
    "Аргументы **разных** функций могут иметь **одинаковые** имена. У функций `dist` и `area` есть аргумент с именем `x1`. Это разные переменные.\n"
   ]
  },
  {
   "cell_type": "code",
   "execution_count": null,
   "id": "4bb57fac-49e9-4d4b-9cf4-95ee6952925a",
   "metadata": {
    "collapsed": true,
    "jupyter": {
     "outputs_hidden": true
    }
   },
   "outputs": [],
   "source": []
  }
 ],
 "metadata": {
  "kernelspec": {
   "display_name": "Python 3 (ipykernel)",
   "language": "python",
   "name": "python3"
  },
  "language_info": {
   "codemirror_mode": {
    "name": "ipython",
    "version": 3
   },
   "file_extension": ".py",
   "mimetype": "text/x-python",
   "name": "python",
   "nbconvert_exporter": "python",
   "pygments_lexer": "ipython3",
   "version": "3.10.2"
  }
 },
 "nbformat": 4,
 "nbformat_minor": 5
}
