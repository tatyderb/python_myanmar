{
 "cells": [
  {
   "cell_type": "markdown",
   "id": "14054267-edb4-40c9-b147-8a96ff16ac3d",
   "metadata": {},
   "source": [
    "# Условные операторы"
   ]
  },
  {
   "cell_type": "markdown",
   "id": "c359fd83-e89c-45f7-b1bf-4fe4ffc9a23f",
   "metadata": {},
   "source": [
    "## Тип bool \n",
    "\n",
    "* `True` - да, правда\n",
    "* `False` - нет, ложь"
   ]
  },
  {
   "cell_type": "code",
   "execution_count": 1,
   "id": "68984d83-eb90-4a45-8f97-89dbd6d4435a",
   "metadata": {},
   "outputs": [
    {
     "data": {
      "text/plain": [
       "True"
      ]
     },
     "execution_count": 1,
     "metadata": {},
     "output_type": "execute_result"
    }
   ],
   "source": [
    "2 < 5"
   ]
  },
  {
   "cell_type": "code",
   "execution_count": 2,
   "id": "07583842-82f4-4d60-be9f-045f00201590",
   "metadata": {},
   "outputs": [
    {
     "data": {
      "text/plain": [
       "False"
      ]
     },
     "execution_count": 2,
     "metadata": {},
     "output_type": "execute_result"
    }
   ],
   "source": [
    "-15 > 3.4"
   ]
  },
  {
   "cell_type": "code",
   "execution_count": 3,
   "id": "1eedc1da-bacf-452b-a75e-68d1c5ea784f",
   "metadata": {},
   "outputs": [
    {
     "data": {
      "text/plain": [
       "bool"
      ]
     },
     "execution_count": 3,
     "metadata": {},
     "output_type": "execute_result"
    }
   ],
   "source": [
    "type(True)"
   ]
  },
  {
   "cell_type": "markdown",
   "id": "bd0402b5-11f7-427e-a510-34a6cab23375",
   "metadata": {},
   "source": [
    "## Операторы сравнения"
   ]
  },
  {
   "cell_type": "markdown",
   "id": "79fd33f9-33ec-4eea-881c-d77e23d3974d",
   "metadata": {},
   "source": [
    "| В математике | В python | По-русски |\n",
    "|---|---|-----|\n",
    "| &gt; | `>` | больше |\n",
    "| &ge; | `>=` | больше или равно |\n",
    "| &lt; | `<` | меньше |\n",
    "| &le; | `<=` | меньше или равно |\n",
    "| = | `==` | равно |\n",
    "| &ne; | `!=` | не равно |\n",
    "\n",
    "* **Можно писать сравнения, как математики, `2 <= x < 5`**\n",
    "* `=` присвоить пишем часто, поэтому одно равно\n",
    "* `==` сравнить на равенство пишем в программе реже, поэтому два знака равно"
   ]
  },
  {
   "cell_type": "markdown",
   "id": "9dcc1bf7-18f0-4e21-b6fb-03be061530f1",
   "metadata": {},
   "source": [
    "## if\n",
    "\n",
    "Вычислим $x$. Если число $x$ отрицательное, надо взять $-x$."
   ]
  },
  {
   "cell_type": "code",
   "execution_count": null,
   "id": "4f37f61e-e95b-43cd-8140-b582e4d976cf",
   "metadata": {},
   "outputs": [],
   "source": [
    "x = int(input())\n",
    "\n",
    "if x < 0:\n",
    "    x = -x\n",
    "\n",
    "print(x)"
   ]
  },
  {
   "attachments": {
    "e6a4b6be-ce38-4df3-8ffe-a7beab6494f1.png": {
     "image/png": "[encoded data removed]"
    }
   },
   "cell_type": "markdown",
   "id": "644324c8-01ce-4f7e-9c23-f34d9168fb91",
   "metadata": {},
   "source": [
    "Операторы, относящиеся к `if` пишем **с отступом**. Так же как и в функциях.\n",
    "\n",
    "```python\n",
    "if условие:        # не забудьте :\n",
    "    операторы_ДА   # операторы выполняются только когда условие истинно (True)\n",
    "```\n",
    "\n",
    "![if_drawio.png](attachment:e6a4b6be-ce38-4df3-8ffe-a7beab6494f1.png)"
   ]
  },
  {
   "cell_type": "markdown",
   "id": "df57d3c2-81ae-415c-a2d4-7c83ea370f22",
   "metadata": {},
   "source": [
    "### PEP-8\n",
    "\n",
    "* Между `if` и условием - один пробел.\n",
    "* После условия сразу пишем `:` (без пробела).\n",
    "* **С новой строки** операторы.\n",
    "* Отступ 4 пробела.\n",
    "\n",
    "Можно написать в одну строку?\n",
    "```python\n",
    "if x == 0: print('Делить на 0 нельзя')\n",
    "```\n",
    "Интерпретатор разрешает, но воспитанные люди так не делают! Приучитесь после `:` **всегда** начинать писать код с новой строки.\n"
   ]
  },
  {
   "cell_type": "markdown",
   "id": "3cfc9b92-f38c-4fe3-ab7e-1853506f9a71",
   "metadata": {},
   "source": [
    "### `if` внутри `if`\n",
    "\n",
    "Выражения, которые мы пишем внутри ветвления могут тоже иметь ветвление.\n",
    "\n",
    "Например, проверку $2 < x < 5$ можно написать через вложенные `if`:\n",
    "```python\n",
    "if 2 < x:\n",
    "    if x < 5:\n",
    "        print('2 < x < 5')\n",
    "```\n",
    "\n",
    "Условия могут быть любыми. Например, **проверять разные переменные**.\n",
    "```python\n",
    "if x > 0:\n",
    "    if y > 0:\n",
    "        print('Первая координатная четверть')\n",
    "```\n"
   ]
  },
  {
   "cell_type": "markdown",
   "id": "d9691390-4bd6-4eb3-a587-585684d46847",
   "metadata": {},
   "source": [
    "## if .. else"
   ]
  },
  {
   "attachments": {
    "a2ca143e-d775-49db-9f57-80a5f0f3a01b.png": {
     "image/png": "[encoded data removed]"
    }
   },
   "cell_type": "markdown",
   "id": "01f244cd-fa1b-4d4a-849c-3be6c98eba21",
   "metadata": {},
   "source": [
    "Одного `if` может не хватить. *ЕСЛИ* число `x` делится на 2 без остатка, то оно четное, *ИНАЧЕ* оно нечетное. Запишем эту мысль на языке python:\n",
    "```python\n",
    "if x % 2 == 0:          # не забудьте :\n",
    "\tprint(\"четное\")\n",
    "else:\t                # не забудьте :\n",
    "\tprint(\"нечетное\")\n",
    "```\n",
    "\n",
    "Когда один и тот же признак (четность) может иметь 2 варианта (четное или нечетное), то пишем `if` .. `else`:\n",
    "```python\n",
    "if условие:\n",
    "\tоператоры_ДА\n",
    "else:\n",
    "\tоператоры_НЕТ\n",
    "```\n",
    "Если `условие` - истина, то выполняются `операторы_ДА`, иначе (условие ложно) выполняются `операторы_НЕТ`.\n",
    "\n",
    "**Выполняется один блок операторов. Или `операторы_ДА`, или `операторы_НЕТ`. Два сразу выполниться не могут!**\n",
    "\n",
    "![if_else_drawio.png](attachment:a2ca143e-d775-49db-9f57-80a5f0f3a01b.png)\n",
    "\n",
    "* после `else` сразу ставим `:`\n",
    "* условие пишем только у `if`, для `else` условия нет\n"
   ]
  },
  {
   "cell_type": "markdown",
   "id": "29902310-3a91-4cf1-a6ca-ed64abde5767",
   "metadata": {},
   "source": [
    "### Пишем красиво\n",
    "\n",
    "* `else` и `:` пишем слитно.\n",
    "* операторы внутри `else` пишем с новой строки\n",
    "\n",
    "Плохо:\n",
    "\n",
    "```python\n",
    "if x == 0: print('Делить на 0 нельзя')\n",
    "else: res = a/x\n",
    "```\n",
    "Хорошо:\n",
    "```python\n",
    "if x == 0: \n",
    "    print('Делить на 0 нельзя')\n",
    "else: \n",
    "    res = a/x\n",
    "```\n",
    "\n",
    "### В одну строку\n",
    "\n",
    "Можно написать `if`..`else` в одну строку. Но не всегда.\n",
    "\n",
    "#### Пример: положить минимальное число в `res` \n",
    "\n",
    "Традиционным способом:\n",
    "\n",
    "```python\n",
    "if a < b:\n",
    "    res = a\n",
    "else:\n",
    "    res = b\n",
    "```\n",
    "В одну строку:\n",
    "```python\n",
    "res = a if a < b else b\n",
    "```\n",
    "\n",
    "Выражение `a if a < b else b` имеет значение `a`, если условие `a < b` истинно, иначе выражение имеет значение `b`. Значение этого выражения записывается в переменную `res`.\n",
    "\n",
    "#### Пример: напечатать YES или NO\n",
    "\n",
    "Печатаем четное число `x` или нечетное.\n",
    "\n",
    "```python\n",
    "print('четное' if x % 2 == 0 else 'нечетное') \n",
    "```"
   ]
  },
  {
   "cell_type": "markdown",
   "id": "62dccdc1-058a-4191-aee0-02966a034fbf",
   "metadata": {},
   "source": [
    "### guards\n",
    "\n",
    "Функция `apply_new_password(new_password1, new_password2)` устанавливает новый пароль, только если новые пароли совпадают, пользователь не ошибся"
   ]
  },
  {
   "cell_type": "code",
   "execution_count": null,
   "id": "1f07995b-f800-4b5d-8643-a6f429bad16e",
   "metadata": {},
   "outputs": [],
   "source": [
    "def apply_new_password(new_password1, new_password2):\n",
    "    if new_password1 != new_password2:\n",
    "        return\n",
    "    # тут может быть guard, что пароль не короче 8 символов\n",
    "    # тут может быть guard, что в пароле есть буквы и цифры и тп.\n",
    "    password = new_password1"
   ]
  },
  {
   "cell_type": "markdown",
   "id": "281deb65-c7b5-4468-b402-53458de2f35e",
   "metadata": {},
   "source": [
    "## elif\n",
    "\n",
    "Больше двух вариантов: положительное, отрицательное, ноль; оценки отлично, хорошо, удовлетворительно, неудовлетворительно.\n",
    "\n",
    "```python\n",
    "x = int(input())\n",
    "\n",
    "if x > 0:\n",
    "    print('положительное')\n",
    "else:\n",
    "    # x <= 0\n",
    "    if x == 0:\n",
    "        print('ноль')\n",
    "    else:\n",
    "        print('отрицательное')\n",
    "```"
   ]
  },
  {
   "cell_type": "markdown",
   "id": "84c06216-652a-4bb7-a747-196faf5a3dc3",
   "metadata": {},
   "source": [
    "Записать проверку из многих вариантов можно проще с помощью оператора `elif` (сокращение от else if). \n",
    "\n",
    "**elif** - иначе если. \n",
    "\n",
    "* в `elif` обязательно должно быть **условие**, после него `:`;\n",
    "* `elif` можно написать **много раз** с разными условиями;\n",
    "* **выполнится только один вариант** из многих;\n",
    "* условия проверяются **сверху вниз**;\n",
    "* часть с `else` **не обязательная** (можно не писать).\n",
    "\n",
    "```python\n",
    "x = int(input())\n",
    "\n",
    "if x > 0:\n",
    "    print('положительное')\n",
    "elif x == 0:\n",
    "    print('ноль')\n",
    "else:\n",
    "    print('отрицательное')\n",
    "```\n",
    "\n",
    "**Код с `elif` читается проще, чем с многими уровнями вложенных `else` и `if`**\n",
    "\n",
    "#### elif может быть много\n",
    "\n",
    "Оценки \n",
    "\n",
    "* 8, 9, 10 - отлично\n",
    "* 5, 6, 7 - хорошо\n",
    "* 3, 4 - удовлетворительно\n",
    "* 1, 2 - неудовлетворительно\n",
    "\n",
    "Студент получил оценку `x`. Напечатать значение оценки.\n",
    "\n",
    "```python\n",
    "x = int(input())\n",
    "\n",
    "if x == 10:\n",
    "    print('отлично')\n",
    "elif x == 9:\n",
    "    print('отлично')\n",
    "elif x == 8:\n",
    "    print('отлично')\n",
    "elif x == 7:\n",
    "    print('хорошо')\n",
    "elif x == 6:\n",
    "    print('хорошо')\n",
    "elif x == 5:\n",
    "    print('хорошо')\n",
    "elif x == 4:\n",
    "    print('удовлетворительно')\n",
    "elif x == 3:\n",
    "    print('удовлетворительно')\n",
    "else:\n",
    "    print('неудовлетворительно')\n",
    "```\n",
    "\n",
    "Подумайте, как можно написать короче.\n"
   ]
  },
  {
   "cell_type": "markdown",
   "id": "910a89ec-20a3-461f-a46c-74195c12c66e",
   "metadata": {},
   "source": [
    "#### Короче\n",
    "\n",
    "Можно переписать код ещё короче. Теперь при изменении разбалловки не надо одну границу менять в двух условиях. Но теперь код чувствителен к порядку проверок.\n",
    "```python\n",
    "x = int(input())\n",
    "\n",
    "if x >= 8 :\n",
    "    print('отлично')\n",
    "elif x >=5:\n",
    "    print('хорошо')\n",
    "elif x >= 3:\n",
    "    print('удовлетворительно')\n",
    "else:\n",
    "    print('неудовлетворительно')\n",
    "```\n",
    "\n",
    "**Выполняется только одна ветка из возможных**. Если часть с `else` нет, то может не выполниться ни одна ветка, потому что не подойдет условие.\n"
   ]
  },
  {
   "attachments": {
    "31ad4100-dbb1-4175-ab98-e0c74dcd253c.png": {
     "image/png": "[encoded data removed]"
    }
   },
   "cell_type": "markdown",
   "id": "8a85d877-803e-4a4b-be37-b9ab54de5254",
   "metadata": {},
   "source": [
    "![elif.drawio.png](attachment:31ad4100-dbb1-4175-ab98-e0c74dcd253c.png)"
   ]
  },
  {
   "cell_type": "markdown",
   "id": "86446c8e-e82c-4ba9-809d-5fef0a7e04b5",
   "metadata": {},
   "source": [
    "## Логические операторы"
   ]
  },
  {
   "cell_type": "markdown",
   "id": "ddc78aaf-2c9c-42f4-a497-b4f44fcfed4f",
   "metadata": {},
   "source": [
    "Надо определить, к какой координатной четверти принадлежит точка (x,y). Хочется написать так:\n",
    "\n",
    "* Если `x == 0` **или** `y == 0`, то это точка на оси.\n",
    "* Иначе если `x > 0` **и** `y > 0`, то это первая координатная четверть.\n",
    "* Иначе если `x < 0` **и** `y > 0`, то это вторая координатная четверть.\n",
    "* Иначе если `x < 0` **и** `y < 0`, то это третья координатная четверть.\n",
    "* Иначе если `x > 0` **и** `y < 0`, то это четвертая координатная четверть.\n",
    "\n",
    "То есть нам нужны оператор **или** и оператор **и**.\n",
    "\n",
    "### Логические операторы not, and, or\n",
    "\n",
    "* `and` - логическое **И** (конъюнкция)\n",
    "* `or` - логическое **ИЛИ** (дизъюнкция)\n",
    "* `not` - логическое отрицание\n",
    "\n"
   ]
  },
  {
   "cell_type": "markdown",
   "id": "373ccb29-95b5-432e-a86f-a60f7b9bb995",
   "metadata": {},
   "source": [
    "### Оператор `not`\n",
    "\n",
    "| Выражение | Результат |\n",
    "|----|----|\n",
    "| `not True` | `False` |\n",
    "| `not False` | `True` |\n",
    "\n",
    "`not x` - превращает ложь в истину и истину в ложь.\n",
    "\n",
    "*Россия* - страна, *not Россия* - всё вне этой страны.\n",
    "\n"
   ]
  },
  {
   "cell_type": "markdown",
   "id": "e488a924-05d3-4f55-97f2-af1bdbfd0970",
   "metadata": {},
   "source": [
    "### Оператор `and`\n",
    "\n",
    "<table>\n",
    "\t<thead>\n",
    "\t\t<tr>\n",
    "\t\t\t<th>Выражение </th>\n",
    "\t\t\t<th>Результат</th>\n",
    "\t\t</tr>\n",
    "\t</thead>\n",
    "\t<tbody>\n",
    "\t\t<tr>\n",
    "\t\t\t<td><code>True and True</code></td>\n",
    "\t\t\t<td style=\"background-color:#dae8ff\"><code>True</code></td>\n",
    "\t\t</tr>\n",
    "\t\t<tr>\n",
    "\t\t\t<td><code>True and False</code></td>\n",
    "\t\t\t<td style=\"background-color:#f8cecc\"><code>False</code></td>\n",
    "\t\t</tr>\n",
    "\t\t<tr>\n",
    "\t\t\t<td><code>False and True</code></td>\n",
    "\t\t\t<td style=\"background-color:#f8cecc\"><code>False</code></td>\n",
    "\t\t</tr>\n",
    "\t\t<tr>\n",
    "\t\t\t<td><code>False and False</code></td>\n",
    "\t\t\t<td style=\"background-color:#f8cecc\"><code>False</code></td>\n",
    "\t\t</tr>\n",
    "\t</tbody>\n",
    "</table>\n",
    "\n",
    "`x and y` истина, только когда оба аргумента - истина. В остальных случаях - ложь.\n",
    "\n"
   ]
  },
  {
   "cell_type": "markdown",
   "id": "cb3c6e18-bcc1-46dd-b0b1-b92ae1464bfa",
   "metadata": {},
   "source": [
    "### Оператор `or`\n",
    "\n",
    "<table>\n",
    "\t<thead>\n",
    "\t\t<tr>\n",
    "\t\t\t<th>Выражение </th>\n",
    "\t\t\t<th>Результат</th>\n",
    "\t\t</tr>\n",
    "\t</thead>\n",
    "\t<tbody>\n",
    "\t\t<tr>\n",
    "\t\t\t<td><code>True or True</code></td>\n",
    "\t\t\t<td style=\"background-color:#dae8ff\"><code>True</code></td>\n",
    "\t\t</tr>\n",
    "\t\t<tr>\n",
    "\t\t\t<td><code>True or False</code></td>\n",
    "\t\t\t<td style=\"background-color:#dae8ff\"><code>True</code></td>\n",
    "\t\t</tr>\n",
    "\t\t<tr>\n",
    "\t\t\t<td><code>False or True</code></td>\n",
    "\t\t\t<td style=\"background-color:#dae8ff\"><code>True</code></td>\n",
    "\t\t</tr>\n",
    "\t\t<tr>\n",
    "\t\t\t<td><code>False or False</code></td>\n",
    "\t\t\t<td style=\"background-color:#f8cecc\"><code>False</code></td>\n",
    "\t\t</tr>\n",
    "\t</tbody>\n",
    "</table>\n",
    "\n",
    "\n",
    "`x or y` ложь, только когда оба аргумента - ложь. В остальных случаях - истина.\n"
   ]
  },
  {
   "cell_type": "markdown",
   "id": "a2f82edd-e309-40ae-8ea9-7754a6f509fb",
   "metadata": {},
   "source": [
    "### Пьём чай с логическими операторами\n",
    "\n",
    "В теории множеств `and` (конъюнкция) - это **пересечение** множеств.\n",
    "\n",
    "Я хочу выпить чай. У меня есть чашка воды `x` и пакет чая `y`. Могу выпить чай, только если у меня есть и чашка, и пакетик **одновременно**. \n",
    "\n",
    "`вода and заварка`\n",
    "\n",
    "![and](https://stepik.org/media/attachments/lesson/1160427/and_tea.png)\n",
    "\n",
    "\n",
    "В теории множеств `or` (дизъюнкция) - это **объединение** множеств.\n",
    "\n",
    "К чаю я хочу сладкого. У меня есть печенье `x` и конфета `y`. Сладкое у меня будет, если есть печенье или конфета или и печенье и конфета. **Хоть что-нибудь**. Только если у меня нет ни печенья, ни конфеты, я сижу без сладкого.\n",
    "\n",
    "`печенье or конфета`\n",
    "\n",
    "![or](https://stepik.org/media/attachments/lesson/1160427/or_tea.png)\n"
   ]
  },
  {
   "cell_type": "markdown",
   "id": "7a1a2b72-2fed-43b7-9253-81233993090e",
   "metadata": {},
   "source": [
    "### Ленивый питон\n",
    "\n",
    "Как только значение всего выражения можно определить, **дальше не считаем**."
   ]
  },
  {
   "cell_type": "code",
   "execution_count": 4,
   "id": "3945b4da-1416-47e2-8f23-b38e42b591f3",
   "metadata": {},
   "outputs": [
    {
     "name": "stdout",
     "output_type": "stream",
     "text": [
      "f "
     ]
    },
    {
     "data": {
      "text/plain": [
       "True"
      ]
     },
     "execution_count": 4,
     "metadata": {},
     "output_type": "execute_result"
    }
   ],
   "source": [
    "def f(): print('f', end=' '); return True\n",
    "def g1(): print('g1', end=' '); return False\n",
    "def g2(): print('g2', end=' '); return False\n",
    "\n",
    "f() or g1()"
   ]
  },
  {
   "cell_type": "code",
   "execution_count": 5,
   "id": "6e32cb90-5d11-4035-9a02-87e9771f6e77",
   "metadata": {},
   "outputs": [
    {
     "name": "stdout",
     "output_type": "stream",
     "text": [
      "f g1 "
     ]
    },
    {
     "data": {
      "text/plain": [
       "False"
      ]
     },
     "execution_count": 5,
     "metadata": {},
     "output_type": "execute_result"
    }
   ],
   "source": [
    "f() and g1()"
   ]
  },
  {
   "cell_type": "code",
   "execution_count": 6,
   "id": "c7b38b39-f38a-4a80-a847-45abc7fc14db",
   "metadata": {},
   "outputs": [
    {
     "name": "stdout",
     "output_type": "stream",
     "text": [
      "g1 g2 "
     ]
    },
    {
     "data": {
      "text/plain": [
       "False"
      ]
     },
     "execution_count": 6,
     "metadata": {},
     "output_type": "execute_result"
    }
   ],
   "source": [
    "g1() or (g2() and f())"
   ]
  },
  {
   "cell_type": "code",
   "execution_count": 7,
   "id": "a3cce640-76e6-4629-a9f0-8f536b44f7cb",
   "metadata": {},
   "outputs": [
    {
     "name": "stdout",
     "output_type": "stream",
     "text": [
      "g1 f g2 "
     ]
    },
    {
     "data": {
      "text/plain": [
       "False"
      ]
     },
     "execution_count": 7,
     "metadata": {},
     "output_type": "execute_result"
    }
   ],
   "source": [
    "g1() or f() and g2() "
   ]
  },
  {
   "cell_type": "markdown",
   "id": "8cec512b-ebe0-41be-9637-e55332e40aac",
   "metadata": {},
   "source": [
    "**Мораль**: никогда в логических выражениях не используйте функции, у которых нужен **побочный эффект**. Например, заполнить что-то нулями или данными, напечатать и тп. Только функции-проверки."
   ]
  },
  {
   "attachments": {
    "639b36d5-ab33-45f5-9be3-d0d82dd6a8e3.png": {
     "image/png": "[encoded data removed]"
    }
   },
   "cell_type": "markdown",
   "id": "209caeca-3c6a-4d4d-8f39-f674b1ffd38c",
   "metadata": {},
   "source": [
    "# Циклы\n",
    "\n",
    "Повторяющиеся части кода лучше писать с использованием циклов. \n",
    "\n",
    "Сначала научимся писать без циклов и выделять повторяющиеся части в коде.\n",
    "\n",
    "**Задача** Отряд туристов отправился в поход. В первый день они прошли `L` км. Каждый следующий день проходили на `k` км больше Сколько км они прошли за **3 дня**?\r\n",
    "\r\n",
    "Пусть дано`: L =` 4`, k =` 2. Для конкретной задачи это констант\n",
    "\n",
    "* `i` - закончилось полных дней похода; сначала `0`.\r",
    "* `\n",
    "ste`p - прошли за 1 день похода; сначала` `L* `\r\n",
    "pa`th - прошли за все время; сначал`а` 0.\n",
    "\n",
    "![image.png](attachment:639b36d5-ab33-45f5-9be3-d0d82dd6a8e3.png)ы."
   ]
  },
  {
   "cell_type": "markdown",
   "id": "991aec4d-a17f-47d1-854a-aee9342881fe",
   "metadata": {},
   "source": [
    "Каждый день отряд:\n",
    "\n",
    "* проходит путь\n",
    "* пишет в журнал сколько прошел сегодня и сколько прошел всего\n",
    "* планирует сколько нужно пройти завтра"
   ]
  },
  {
   "cell_type": "code",
   "execution_count": 8,
   "id": "5981b580-d3a2-43ae-8970-3bd04e8a4887",
   "metadata": {},
   "outputs": [
    {
     "name": "stdout",
     "output_type": "stream",
     "text": [
      "за день 1 прошли 4 км, всего 4 км\n",
      "за день 2 прошли 6 км, всего 10 км\n",
      "за день 3 прошли 8 км, всего 18 км\n",
      "Всего прошли 18 км\n"
     ]
    }
   ],
   "source": [
    "# Дано\n",
    "L = 4           # прошли в первый день\n",
    "k = 2           # на сколько больше пройдем завтра\n",
    "\n",
    "path = 0        # еще ничего не прошли\n",
    "step = L        # в первый день пройдем L\n",
    "i = 0           # еще не закончился первый день\n",
    "\n",
    "# первый день\n",
    "path = path + step  # прошли путь\n",
    "i = i + 1           # закончился день\n",
    "print(f'за день {i} прошли {step} км, всего {path} км')\n",
    "step = step + k     # планируем, сколько пройдем завтра\n",
    "\n",
    "# второй день\n",
    "path = path + step  # прошли путь\n",
    "i = i + 1           # закончился день\n",
    "print(f'за день {i} прошли {step} км, всего {path} км')\n",
    "step = step + k     # планируем, сколько пройдем завтра\n",
    "\n",
    "# третий день\n",
    "path = path + step  # прошли путь\n",
    "i = i + 1           # закончился день\n",
    "print(f'за день {i} прошли {step} км, всего {path} км')\n",
    "step = step + k     # планируем, сколько пройдем завтра\n",
    "\n",
    "# ответ\n",
    "print(f'Всего прошли {path} км')"
   ]
  },
  {
   "cell_type": "markdown",
   "id": "7abcc2a7-338c-4f32-99c5-fe8a592dc95b",
   "metadata": {},
   "source": [
    "Как изменить программу, чтобы она нашла путь за 7 дней? А за 100 дней?"
   ]
  },
  {
   "attachments": {
    "320801d1-fa92-450d-9e81-a5b44e87de2a.png": {
     "image/png": "[encoded data removed]"
    }
   },
   "cell_type": "markdown",
   "id": "b99ea837-81e9-474c-a83b-1784519226ad",
   "metadata": {},
   "source": [
    "![image.png](attachment:320801d1-fa92-450d-9e81-a5b44e87de2a.png)"
   ]
  },
  {
   "cell_type": "markdown",
   "id": "275df4e2-a7b4-4cdf-94db-756117f454b7",
   "metadata": {},
   "source": [
    "Зациклим повторяющиеся блоки"
   ]
  },
  {
   "attachments": {
    "45580739-56a5-4270-aeb4-e63d5cc64bbb.png": {
     "image/png": "[encoded data removed]"
    }
   },
   "cell_type": "markdown",
   "id": "69dd1923-2432-4ecf-b99b-b42b6cc0741e",
   "metadata": {},
   "source": [
    "![image.png](attachment:45580739-56a5-4270-aeb4-e63d5cc64bbb.png)"
   ]
  },
  {
   "cell_type": "markdown",
   "id": "40325926-2e49-4288-9ddc-7a357058c0a0",
   "metadata": {},
   "source": [
    "### while условие"
   ]
  },
  {
   "cell_type": "code",
   "execution_count": null,
   "id": "3993f8de-b1ec-4268-a552-30670033a2fe",
   "metadata": {},
   "outputs": [],
   "source": [
    "while условие_продолжения_цикла:\r\n",
    "    тело цакл."
   ]
  },
  {
   "cell_type": "markdown",
   "id": "ecc6afb3-47db-4e1e-b802-d018979b2009",
   "metadata": {},
   "source": [
    "* Если условие продолжения цикла истина True, то выполняется тело цикла и опять проверяется условие\n",
    "* Если условие ложно False, то управление передается на первый оператор после цикла."
   ]
  },
  {
   "cell_type": "markdown",
   "id": "4c5e2860-6af9-4fcc-959b-73f91d809e65",
   "metadata": {},
   "source": [
    "**Итерация цикла** - это одно выполение тела цикла. В примере у цикла 3 итерации."
   ]
  },
  {
   "cell_type": "markdown",
   "id": "74f17255-7f22-4666-a420-83e7e37ac13d",
   "metadata": {},
   "source": [
    "**Зеленый свет** - условие **ПРОДОЛЖЕНИЯ** цикла."
   ]
  },
  {
   "cell_type": "code",
   "execution_count": 9,
   "id": "401b00df-0090-49e8-b3b1-26ad76fd496f",
   "metadata": {},
   "outputs": [
    {
     "name": "stdout",
     "output_type": "stream",
     "text": [
      "за день 1 прошли 4 км, всего 4 км\n",
      "за день 2 прошли 6 км, всего 10 км\n",
      "за день 3 прошли 8 км, всего 18 км\n",
      "Всего прошли 18 км\n"
     ]
    }
   ],
   "source": [
    "# Дано\n",
    "L = 4           # прошли в первый день\n",
    "k = 2           # на сколько больше пройдем завтра\n",
    "\n",
    "# готовимся к походу ДО цикла\n",
    "path = 0        # еще ничего не прошли\n",
    "step = L        # в первый день пройдем L\n",
    "i = 0           # еще не закончился первый день\n",
    "\n",
    "# цикл\n",
    "while i < 3:    # пока i < 3, то есть i==0, i==1, i==2\n",
    "    path = path + step  # прошли путь\n",
    "    i = i + 1           # закончился день\n",
    "    print(f'за день {i} прошли {step} км, всего {path} км')\n",
    "    step = step + k     # планируем, сколько пройдем завтра\n",
    "\n",
    "# ответ ПОСЛЕ цикла\n",
    "print(f'Всего прошли {path} км')"
   ]
  },
  {
   "cell_type": "markdown",
   "id": "068c1fcb-a880-4b53-8dad-4b13f18abde7",
   "metadata": {},
   "source": [
    "### условие продолжения цикла\n",
    "\n",
    "За сколько дней дойдем до Дубны, если s=50 км?"
   ]
  },
  {
   "cell_type": "code",
   "execution_count": 10,
   "id": "bb9af882-8121-4c91-8916-c6cb6b46e01f",
   "metadata": {},
   "outputs": [
    {
     "name": "stdout",
     "output_type": "stream",
     "text": [
      "за день 1 прошли 4 км, всего 4 км\n",
      "за день 2 прошли 6 км, всего 10 км\n",
      "за день 3 прошли 8 км, всего 18 км\n",
      "за день 4 прошли 10 км, всего 28 км\n",
      "за день 5 прошли 12 км, всего 40 км\n",
      "за день 6 прошли 14 км, всего 54 км\n",
      "Всего прошли 54 км за 6 дней\n"
     ]
    }
   ],
   "source": [
    "# Дано\n",
    "L = 4           # прошли в первый день\n",
    "k = 2           # на сколько больше пройдем завтра\n",
    "s = 50          # полное расстояние (надо пройти)\n",
    "\n",
    "# готовимся к походу ДО цикла\n",
    "path = 0        # еще ничего не прошли\n",
    "step = L        # в первый день пройдем L\n",
    "i = 0           # еще не закончился первый день\n",
    "\n",
    "# цикл\n",
    "while path < s:    # пока i < 3, то есть i==0, i==1, i==2\n",
    "    path = path + step  # прошли путь\n",
    "    i = i + 1           # закончился день\n",
    "    print(f'за день {i} прошли {step} км, всего {path} км')\n",
    "    step = step + k     # планируем, сколько пройдем завтра\n",
    "\n",
    "# ответ ПОСЛЕ цикла\n",
    "print(f'Всего прошли {path} км за {i} дней')"
   ]
  },
  {
   "cell_type": "markdown",
   "id": "a7fe342e-b12d-4b46-b836-62bb358cab93",
   "metadata": {},
   "source": [
    "### бесконечный цикл и break\n",
    "\n",
    "```python\n",
    "while True:\n",
    "    print('hello')\n",
    "```\n",
    "Зачем бесконечный цикл и как его прервать?\n",
    "\n",
    "* Ctrl+C с клавиатуры\n",
    "* `return` - если цикл в функции, то выйдем из функции (и из цикла)\n",
    "* `break` - передать управление после цикла\n",
    "* переменная-флаг"
   ]
  },
  {
   "cell_type": "code",
   "execution_count": 11,
   "id": "a72e93ee-fbce-4ee9-8d0e-ec272d6c188e",
   "metadata": {},
   "outputs": [
    {
     "name": "stdout",
     "output_type": "stream",
     "text": [
      "Продолжаем цикл 0\n",
      "Продолжаем цикл 1\n",
      "Продолжаем цикл 2\n",
      "Продолжаем цикл 3\n",
      "Продолжаем цикл 4\n",
      "ЛОМАЕМ ЦИКЛ!!!!\n",
      "После цикла\n"
     ]
    }
   ],
   "source": [
    "# пример с break\n",
    "i = 0\n",
    "while True:\n",
    "    if i == 5:                # условие ОСТАНОВКИ цикла, красный свет\n",
    "        print('ЛОМАЕМ ЦИКЛ!!!!')\n",
    "        break;\n",
    "    print('Продолжаем цикл', i)\n",
    "    i = i + 1\n",
    "\n",
    "# вот сюда передаст управление break\n",
    "print('После цикла')"
   ]
  },
  {
   "cell_type": "code",
   "execution_count": null,
   "id": "a2b9891f-0aef-4d7f-b9e6-c7c521a5f46b",
   "metadata": {},
   "outputs": [],
   "source": [
    "# пример с переменной-флагом (как флажок у стрелочника - можно ехать или нет)\n",
    "running = True      # переменная-флаг, сначала путь открыт\n",
    "while running:\n",
    "    x = input()\n",
    "    if x == 'end':\n",
    "        print('Мягко выключаем цикл')\n",
    "        running = False\n",
    "    # если надо, чтобы эта часть всегда выполнялась\n",
    "    print('ввели', x)\n",
    "\n",
    "# после цикла\n",
    "print('Конец')"
   ]
  },
  {
   "cell_type": "markdown",
   "id": "120b2819-2949-4f4c-835e-f70872a626ef",
   "metadata": {},
   "source": [
    "## for - цикл по всем элементам\n",
    "\n",
    "**for**each `element` **in** `sequence`\n",
    "\n",
    "Для каждого элемента в последовательности. \n",
    "\n",
    "* перебирает по одному элементу из последовательности `sequence`\n",
    "* записывает очередной элемент в переменную `element`\n",
    "* выполняет тело цикла "
   ]
  },
  {
   "cell_type": "code",
   "execution_count": null,
   "id": "e6c9e62b-747a-4677-b2da-8a90cd5847f1",
   "metadata": {},
   "outputs": [],
   "source": [
    "for переменная in последовательность:\n",
    "    тело цикла"
   ]
  },
  {
   "cell_type": "markdown",
   "id": "7ae963c8-401d-4a9e-8aeb-de54cf510def",
   "metadata": {},
   "source": [
    "## range - последовательность целых чисел"
   ]
  },
  {
   "cell_type": "markdown",
   "id": "be079dc0-ee51-42e8-bf0e-8dc2943563b9",
   "metadata": {},
   "source": [
    "* `range(n)` - числа от `0` до `n-1` (без `n`) - всего `n` штук\n",
    "* `range(start, finish)` - числа от `start` до `finish-1`\n",
    "* `range(start, finish, step)` - числа от `start` до `finish-1`, каждый раз `+step`"
   ]
  },
  {
   "cell_type": "markdown",
   "id": "31531ec1-2c24-4ae3-bd13-5394f675f80f",
   "metadata": {},
   "source": [
    "| Код | Возвращает | Объяснение |\n",
    "|----|-----|--------|\n",
    "|`range(4)` | 0 1 2 3 | от 0 до 4 (без 4) |\n",
    "|`range(2, 7)` | 2 3 4  5 6 | от 2 до 7 (без 7) |\n",
    "|`range(7, 2)` | *ничего* |  |\n",
    "|`range(2, 20, 3)` | 2 5 8 11 14 17 | от 2 до 20 (без 20), +3 каждый раз |\n",
    "|`range(20, 2, -3)` | 20 17 14 11 8 5 | от 20 до 2 (без 2), -3 каждый раз |\n",
    "|`range(2, 20, -3)` | *ничего* |  |\n",
    "|`range(-5, -1)` | -5 -4 -3 -2 | от -5 до -1 (без -1) |\n",
    "|`range(-2, -7, -1)` | -2 -3 -4 -5 -6 | от -2 до -7 (без -1), -1 каждый раз |\n",
    "\n",
    "**range(start, finish, step)** - от **start** до **finish**, каждый раз **+step**.\n",
    "\n",
    "* start - включает, по умолчанию 0.\n",
    "* finish - НЕ включает\n",
    "* step - шаг последовательности, по умолчанию 1\n",
    "\n",
    "Замечания:\n",
    "\n",
    "* Если ошибиться с границами и шагом, то получим **пустую последовательность**.\n",
    "* `range` принимает только **целые числа**.\n",
    "* step **не может быть 0**. `range(1, 5, 0)` приведет к `ValueError: range() arg 3 must not be zero.`"
   ]
  },
  {
   "cell_type": "code",
   "execution_count": 12,
   "id": "ec2fc6d3-464f-4dee-8472-ec768c961654",
   "metadata": {},
   "outputs": [
    {
     "name": "stdout",
     "output_type": "stream",
     "text": [
      "0\n",
      "1\n",
      "2\n",
      "3\n"
     ]
    }
   ],
   "source": [
    "for i in range(4):\n",
    "    print(i)"
   ]
  },
  {
   "cell_type": "markdown",
   "id": "0ef3158b-44fe-4b0d-b4fa-23c61630116a",
   "metadata": {},
   "source": [
    "### Прочитаем числа и переберем их"
   ]
  },
  {
   "cell_type": "code",
   "execution_count": 14,
   "id": "7d47a97f-1d38-481e-b9dd-8a322dd34191",
   "metadata": {},
   "outputs": [
    {
     "name": "stdin",
     "output_type": "stream",
     "text": [
      " 34 -71 500 8 12\n"
     ]
    },
    {
     "name": "stdout",
     "output_type": "stream",
     "text": [
      "34\n",
      "-71\n",
      "500\n",
      "8\n",
      "12\n"
     ]
    }
   ],
   "source": [
    "# x, y = map(int, input().split())\n",
    "a = map(int, input().split())\n",
    "for x in a:\n",
    "    print(x)"
   ]
  },
  {
   "cell_type": "code",
   "execution_count": 16,
   "id": "d46daf99-90f2-4c63-8e35-81cff5f5d7b4",
   "metadata": {},
   "outputs": [
    {
     "data": {
      "text/plain": [
       "'2 4 -1 34 934'"
      ]
     },
     "execution_count": 16,
     "metadata": {},
     "output_type": "execute_result"
    }
   ],
   "source": [
    "# вместо input() запишу текст в переменную text\n",
    "text = '2 4 -1 34 934'\n",
    "text\n"
   ]
  },
  {
   "cell_type": "code",
   "execution_count": 17,
   "id": "3ce09114-1cc5-4c78-b691-4938df719fb2",
   "metadata": {},
   "outputs": [
    {
     "data": {
      "text/plain": [
       "['2', '4', '-1', '34', '934']"
      ]
     },
     "execution_count": 17,
     "metadata": {},
     "output_type": "execute_result"
    }
   ],
   "source": [
    "text.split()"
   ]
  },
  {
   "cell_type": "code",
   "execution_count": 18,
   "id": "ead101d9-c729-4064-b9cc-d337c5bf41bd",
   "metadata": {},
   "outputs": [
    {
     "data": {
      "text/plain": [
       "<map at 0x223309e2f80>"
      ]
     },
     "execution_count": 18,
     "metadata": {},
     "output_type": "execute_result"
    }
   ],
   "source": [
    "map(int, text.split())"
   ]
  },
  {
   "cell_type": "code",
   "execution_count": 19,
   "id": "516b0676-ac0d-4ce6-9387-17f5341d2c08",
   "metadata": {},
   "outputs": [
    {
     "name": "stdout",
     "output_type": "stream",
     "text": [
      "first 2\n",
      "first 4\n",
      "first -1\n",
      "first 34\n",
      "first 934\n"
     ]
    }
   ],
   "source": [
    "# пройти по этой последовательности можно только один раз\n",
    "text = '2 4 -1 34 934'\n",
    "a = map(int, text.split())\n",
    "for x in a:\n",
    "    print('first', x)\n",
    "for x in a:\n",
    "    print('second', x)"
   ]
  },
  {
   "cell_type": "markdown",
   "id": "40dcfebd-bfd1-4bb6-9704-c320dd705c85",
   "metadata": {},
   "source": [
    "## Пример: сумма последовательности"
   ]
  },
  {
   "cell_type": "code",
   "execution_count": 20,
   "id": "89d91d2b-4ada-416a-a2de-6c30cfd47fb1",
   "metadata": {},
   "outputs": [
    {
     "name": "stdout",
     "output_type": "stream",
     "text": [
      "x=3 res=3\n",
      "x=-5 res=-2\n",
      "x=12 res=10\n",
      "x=34 res=44\n",
      "x=-17 res=27\n",
      "x=2 res=29\n",
      "29\n"
     ]
    }
   ],
   "source": [
    "text = '3 -5 12 34 -17 2'\n",
    "a = map(int, text.split())\n",
    "\n",
    "res = 0   # в этой переменной накапливаем сумму\n",
    "for x in a:\n",
    "    res = res + x     # res += x\n",
    "    print(f'{x=} {res=}')\n",
    "\n",
    "print(res)"
   ]
  },
  {
   "cell_type": "markdown",
   "id": "fee12a8c-3c17-4758-9759-b66f8fac0bef",
   "metadata": {},
   "source": [
    "## Пример: Наименьшее (наибольшее число)\n",
    "\n",
    "Даны числа. Найти наибольшее число."
   ]
  },
  {
   "cell_type": "code",
   "execution_count": 22,
   "id": "89e4919c-3937-4769-9e52-d7dd1ff62ac3",
   "metadata": {},
   "outputs": [
    {
     "name": "stdout",
     "output_type": "stream",
     "text": [
      "x=-3 res=0\n",
      "x=-5 res=0\n",
      "x=-12 res=0\n",
      "x=-34 res=0\n",
      "x=-17 res=0\n",
      "x=-2 res=0\n",
      "x=-100 res=0\n",
      "max= 0\n"
     ]
    }
   ],
   "source": [
    "text = '-3 -5 -12 -34 -17 -2 -100'\n",
    "a = map(int, text.split())\n",
    "\n",
    "res = -10000000   # в этой переменной храним большое число\n",
    "for x in a:\n",
    "    if x > res:\n",
    "        res = x\n",
    "    print(f'{x=} {res=}')\n",
    "\n",
    "print('max=', res)"
   ]
  },
  {
   "cell_type": "markdown",
   "id": "81b6dba8-d99c-421d-978a-5c1f543e7cb1",
   "metadata": {},
   "source": [
    "Наименьшее число. Проблема с отрицательными числами"
   ]
  },
  {
   "cell_type": "code",
   "execution_count": null,
   "id": "2b46ca06-4852-4b88-a9b6-2de339b15871",
   "metadata": {},
   "outputs": [],
   "source": []
  },
  {
   "cell_type": "markdown",
   "id": "4bf1d4db-d985-4ec3-ad5c-0a2f018895b1",
   "metadata": {},
   "source": [
    "### `next(a)` - следующий элемент последовательности `a`"
   ]
  },
  {
   "cell_type": "code",
   "execution_count": 23,
   "id": "7dcf78ac-95a7-4f36-a237-cbffaf8ab11e",
   "metadata": {},
   "outputs": [
    {
     "data": {
      "text/plain": [
       "<map at 0x223309e30a0>"
      ]
     },
     "execution_count": 23,
     "metadata": {},
     "output_type": "execute_result"
    }
   ],
   "source": [
    "a =  map(int, '2 3 25'.split())\n",
    "a"
   ]
  },
  {
   "cell_type": "code",
   "execution_count": 24,
   "id": "2d1e5902-7204-4c2a-a9a0-ccd613260a3e",
   "metadata": {},
   "outputs": [
    {
     "data": {
      "text/plain": [
       "2"
      ]
     },
     "execution_count": 24,
     "metadata": {},
     "output_type": "execute_result"
    }
   ],
   "source": [
    "next(a)"
   ]
  },
  {
   "cell_type": "code",
   "execution_count": 25,
   "id": "950e0583-7789-411a-8af1-2a101edfe3e9",
   "metadata": {},
   "outputs": [
    {
     "name": "stdout",
     "output_type": "stream",
     "text": [
      "first element is -3\n",
      "x=-5 res=-3\n",
      "x=-12 res=-3\n",
      "x=-34 res=-3\n",
      "x=-17 res=-3\n",
      "x=-2 res=-2\n",
      "x=-100 res=-2\n",
      "max= -2\n"
     ]
    }
   ],
   "source": [
    "# нахождение минимума, первый элемент берем как next(a)\n",
    "text = '-3 -5 -12 -34 -17 -2 -100'\n",
    "a = map(int, text.split())\n",
    "\n",
    "res = next(a)   # первое число из а\n",
    "print(f'first element is {res}')\n",
    "for x in a:\n",
    "    if x > res:\n",
    "        res = x\n",
    "    print(f'{x=} {res=}')\n",
    "\n",
    "print('max=', res)"
   ]
  },
  {
   "cell_type": "markdown",
   "id": "868b5bfd-773a-4341-86ec-c248a007f3e7",
   "metadata": {},
   "source": [
    "### None - специальное значение"
   ]
  },
  {
   "cell_type": "markdown",
   "id": "e96a99e6-ee88-4608-a943-33def5d8109a",
   "metadata": {},
   "source": [
    "* `x is None`\n",
    "* `x not is None`"
   ]
  },
  {
   "cell_type": "code",
   "execution_count": 32,
   "id": "b2876587-4fdc-41e9-adae-71d991ba37dc",
   "metadata": {},
   "outputs": [
    {
     "name": "stdout",
     "output_type": "stream",
     "text": [
      "x=-3 res=-3\n",
      "x=-5 res=-3\n",
      "x=-12 res=-3\n",
      "x=-34 res=-3\n",
      "x=-17 res=-3\n",
      "x=-2 res=-2\n",
      "x=-100 res=-2\n",
      "max= -2\n"
     ]
    }
   ],
   "source": [
    "# нахождение минимума, изначально res равен специальному значению None\n",
    "text = '-3 -5 -12 -34 -17 -2 -100'\n",
    "a = map(int, text.split())\n",
    "\n",
    "res = None   # в этой переменной храним большое число\n",
    "for x in a:\n",
    "    if res is None or x > res:\n",
    "        res = x\n",
    "    print(f'{x=} {res=}')\n",
    "\n",
    "print('max=', res)"
   ]
  },
  {
   "cell_type": "markdown",
   "id": "6d3616cc-f2f9-45ba-b313-29cae998abed",
   "metadata": {},
   "source": [
    "## continue - пропускаем текущую итерацию цикла to be continued..."
   ]
  },
  {
   "cell_type": "code",
   "execution_count": 33,
   "id": "5a99fecf-6b4d-467b-8710-f70b9850a887",
   "metadata": {},
   "outputs": [
    {
     "name": "stdout",
     "output_type": "stream",
     "text": [
      "0 ...работаем\n",
      "1 ...работаем\n",
      "2 Следующий!\n",
      "3 ...работаем\n",
      "4 ...работаем\n",
      "5 Хватит!\n",
      "конец\n"
     ]
    }
   ],
   "source": [
    "for x in range(100):\n",
    "    if x == 2:\n",
    "        print(x, 'Следующий!')\n",
    "        continue\n",
    "    if x == 5:\n",
    "        print(x, 'Хватит!')\n",
    "        break\n",
    "    print(x, '...работаем')\n",
    "\n",
    "print('конец')        "
   ]
  },
  {
   "cell_type": "markdown",
   "id": "ced96876-55cb-4f0a-86c6-976847ee422f",
   "metadata": {},
   "source": [
    "## else - относится к for или while - не было break"
   ]
  },
  {
   "cell_type": "code",
   "execution_count": 35,
   "id": "719b435b-a560-4db2-8c9f-307444608d3a",
   "metadata": {},
   "outputs": [
    {
     "name": "stdout",
     "output_type": "stream",
     "text": [
      "0 ...работаем\n",
      "1 ...работаем\n",
      "2 Следующий!\n",
      "3 ...работаем\n",
      "4 ...работаем\n",
      "5 Хватит!\n",
      "конец\n"
     ]
    }
   ],
   "source": [
    "for x in range(100):\n",
    "    if x == 2:\n",
    "        print(x, 'Следующий!')\n",
    "        continue\n",
    "    if x == 5:\n",
    "        print(x, 'Хватит!')\n",
    "        break\n",
    "    print(x, '...работаем')\n",
    "else:\n",
    "    print('без break')\n",
    "\n",
    "print('конец')   "
   ]
  },
  {
   "cell_type": "markdown",
   "id": "bc07cdca-3cbd-4757-9318-5d2ab5ad4807",
   "metadata": {},
   "source": [
    "## Пример: напечатать на каком месте в последовательности стоит число 7 или -1, если такого числа нет"
   ]
  },
  {
   "cell_type": "code",
   "execution_count": 38,
   "id": "17097157-f5b1-42bc-91ec-72d8a59df6a6",
   "metadata": {},
   "outputs": [
    {
     "name": "stdout",
     "output_type": "stream",
     "text": [
      "i=-1 x=15\n",
      "i=0 x=8\n",
      "i=1 x=17\n",
      "i=2 x=9\n",
      "i=3 x=-3\n",
      "i=4 x=211\n",
      "-1\n"
     ]
    }
   ],
   "source": [
    "#        0 1 2 3  4  5\n",
    "text = '15 8 17 9 -3 211'\n",
    "a = map(int, text.split())\n",
    "ires = -1\n",
    "for x in a:\n",
    "    if x == 7:\n",
    "        ires = i\n",
    "        break\n",
    "    print(f'{i=} {x=}') \n",
    "    i += 1\n",
    "    \n",
    "print(ires)    "
   ]
  },
  {
   "cell_type": "markdown",
   "id": "96746096-29ed-4499-8e45-5322c1ff07d0",
   "metadata": {},
   "source": [
    "## Уже все написано"
   ]
  },
  {
   "cell_type": "code",
   "execution_count": 39,
   "id": "4f875bd7-a388-4c12-976f-99dec2d1668f",
   "metadata": {},
   "outputs": [
    {
     "data": {
      "text/plain": [
       "34"
      ]
     },
     "execution_count": 39,
     "metadata": {},
     "output_type": "execute_result"
    }
   ],
   "source": [
    "text = '5 8 -3 24'\n",
    "a = map(int, text.split())\n",
    "sum(a)"
   ]
  },
  {
   "cell_type": "code",
   "execution_count": 40,
   "id": "787e07fe-ccd4-4ddd-9595-0c7a13682e5c",
   "metadata": {},
   "outputs": [
    {
     "data": {
      "text/plain": [
       "-3"
      ]
     },
     "execution_count": 40,
     "metadata": {},
     "output_type": "execute_result"
    }
   ],
   "source": [
    "text = '5 8 -3 24'\n",
    "a = map(int, text.split())\n",
    "min(a)"
   ]
  },
  {
   "cell_type": "code",
   "execution_count": 41,
   "id": "5231871d-d772-4490-b4ef-9a6af797435c",
   "metadata": {},
   "outputs": [
    {
     "data": {
      "text/plain": [
       "24"
      ]
     },
     "execution_count": 41,
     "metadata": {},
     "output_type": "execute_result"
    }
   ],
   "source": [
    "text = '5 8 -3 24'\n",
    "a = map(int, text.split())\n",
    "max(a)"
   ]
  },
  {
   "cell_type": "markdown",
   "id": "a6d24870-9ded-420e-b191-8b7f1cf52d18",
   "metadata": {},
   "source": [
    "## Вложенные циклы\n",
    "\n",
    "Пример: напечатаем часть таблицы умножения. Умножение на 7 от 1 до 10."
   ]
  },
  {
   "cell_type": "code",
   "execution_count": 42,
   "id": "4a532538-4375-4d35-9195-fd5c0852dd9c",
   "metadata": {},
   "outputs": [
    {
     "name": "stdout",
     "output_type": "stream",
     "text": [
      "7 * 1 = 7\n",
      "7 * 2 = 14\n",
      "7 * 3 = 21\n",
      "7 * 4 = 28\n",
      "7 * 5 = 35\n",
      "7 * 6 = 42\n",
      "7 * 7 = 49\n",
      "7 * 8 = 56\n",
      "7 * 9 = 63\n",
      "7 * 10 = 70\n"
     ]
    }
   ],
   "source": [
    "for x in range(1, 11):\n",
    "    res = 7 * x\n",
    "    print(f'7 * {x} = {res}') "
   ]
  },
  {
   "cell_type": "code",
   "execution_count": 43,
   "id": "ecaa2c2b-4084-4093-af06-0e73910505da",
   "metadata": {},
   "outputs": [
    {
     "name": "stdout",
     "output_type": "stream",
     "text": [
      "  7  14  21  28  35  42  49  56  63  70 \n"
     ]
    }
   ],
   "source": [
    "# печатаем результат умножения 7 на числа в одну строку\n",
    "for x in range(1, 11):\n",
    "    res = 7 * x\n",
    "    print(f'{res:3d}', end=' ')\n",
    "print()   # переводим на новую строку"
   ]
  },
  {
   "cell_type": "code",
   "execution_count": 45,
   "id": "36b3064e-2cfb-40ab-a10f-188cf1660709",
   "metadata": {},
   "outputs": [
    {
     "name": "stdout",
     "output_type": "stream",
     "text": [
      "  5  10  15  20  25  30  35  40  45  50 \n"
     ]
    }
   ],
   "source": [
    "# то же самое в виде функции, вместо 7 ставим параметр\n",
    "def row_mult(par):\n",
    "    \"\"\" печатаем результат умножения х на числа от 1 до 10 в виде строки.\"\"\"\n",
    "    for x in range(1, 11):\n",
    "        res = par * x\n",
    "        print(f'{res:3d}', end=' ')\n",
    "    print()   # переводим на новую строку\n",
    "\n",
    "row_mult(5)"
   ]
  },
  {
   "cell_type": "code",
   "execution_count": 46,
   "id": "5ca463cb-b795-4e35-ad6c-6cf2889156e5",
   "metadata": {},
   "outputs": [
    {
     "name": "stdout",
     "output_type": "stream",
     "text": [
      "  1   2   3   4   5   6   7   8   9  10 \n",
      "  2   4   6   8  10  12  14  16  18  20 \n",
      "  3   6   9  12  15  18  21  24  27  30 \n",
      "  4   8  12  16  20  24  28  32  36  40 \n",
      "  5  10  15  20  25  30  35  40  45  50 \n",
      "  6  12  18  24  30  36  42  48  54  60 \n",
      "  7  14  21  28  35  42  49  56  63  70 \n",
      "  8  16  24  32  40  48  56  64  72  80 \n",
      "  9  18  27  36  45  54  63  72  81  90 \n",
      " 10  20  30  40  50  60  70  80  90 100 \n"
     ]
    }
   ],
   "source": [
    "# напечатать всю таблицу можно в цикле вызвав печать одной её строки\n",
    "for y in range(1, 11):\n",
    "    row_mult(y)"
   ]
  },
  {
   "cell_type": "code",
   "execution_count": 47,
   "id": "25df2b82-a764-4ede-9cfc-021eb12956f8",
   "metadata": {},
   "outputs": [
    {
     "name": "stdout",
     "output_type": "stream",
     "text": [
      "  1   2   3   4   5   6   7   8   9  10 \n",
      "  2   4   6   8  10  12  14  16  18  20 \n",
      "  3   6   9  12  15  18  21  24  27  30 \n",
      "  4   8  12  16  20  24  28  32  36  40 \n",
      "  5  10  15  20  25  30  35  40  45  50 \n",
      "  6  12  18  24  30  36  42  48  54  60 \n",
      "  7  14  21  28  35  42  49  56  63  70 \n",
      "  8  16  24  32  40  48  56  64  72  80 \n",
      "  9  18  27  36  45  54  63  72  81  90 \n",
      " 10  20  30  40  50  60  70  80  90 100 \n"
     ]
    }
   ],
   "source": [
    "# теперь скопируем содержимое функции вместо ее вызова, par = y\n",
    "# напечатать всю таблицу можно в цикле вызвав печать одной её строки\n",
    "for y in range(1, 11):\n",
    "    for x in range(1, 11):\n",
    "        res = y * x\n",
    "        print(f'{res:3d}', end=' ')\n",
    "    print()   # переводим на новую строку\n"
   ]
  },
  {
   "cell_type": "code",
   "execution_count": 48,
   "id": "c2e3af52-d9fe-4875-8db7-2461a5b697d4",
   "metadata": {},
   "outputs": [
    {
     "name": "stdout",
     "output_type": "stream",
     "text": [
      "a=1 b=2\n",
      "a=1 b=3\n",
      "a=1 b=4\n",
      "a=1 b=5\n",
      "a=2 b=2\n",
      "a=2 b=3\n",
      "a=2 b=4\n",
      "a=2 b=5\n",
      "a=3 b=2\n",
      "a=3 b=3\n",
      "a=3 b=4\n",
      "a=3 b=5\n"
     ]
    }
   ],
   "source": [
    "for a in range(1, 4):\n",
    "    for b in range(2, 6):\n",
    "        print(f'{a=} {b=}')\n",
    "        # внутри цикла по b\n",
    "    # внутри цикла по а\n",
    "# после цикла"
   ]
  },
  {
   "cell_type": "code",
   "execution_count": null,
   "id": "3a144fcd-89e2-423a-8570-4138731a0e7e",
   "metadata": {},
   "outputs": [],
   "source": []
  }
 ],
 "metadata": {
  "kernelspec": {
   "display_name": "Python 3 (ipykernel)",
   "language": "python",
   "name": "python3"
  },
  "language_info": {
   "codemirror_mode": {
    "name": "ipython",
    "version": 3
   },
   "file_extension": ".py",
   "mimetype": "text/x-python",
   "name": "python",
   "nbconvert_exporter": "python",
   "pygments_lexer": "ipython3",
   "version": "3.10.2"
  }
 },
 "nbformat": 4,
 "nbformat_minor": 5
}
