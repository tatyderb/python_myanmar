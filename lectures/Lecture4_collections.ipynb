{
 "cells": [
  {
   "cell_type": "markdown",
   "id": "ff194845-d395-49b0-83c1-322522accb61",
   "metadata": {},
   "source": [
    "# Коллекции\n",
    "\n",
    "Надо хранить много объектов. Как хранить - зависит от того, что хотим с ними делать. \n",
    "\n",
    "| Пример | Название | Тип | Пустая коллекция | Обращение к элементу | Неизменяемое | Примечание | \n",
    "|-----|-----|----|-----|-----|----|-----|\n",
    "| `[4, 'hello', 3.14]` | список | list() | `[]` | `a[i]` | изменяемое |  | \n",
    "|  `(4, 'hello', 3.14)` | кортеж | tuple() | `()` | `a[i]` | НЕизменяемое |  | \n",
    "| `'hello'` | строка | str() | `''` | `a[i]` | НЕизменяемое | только символы | \n",
    "| `{'name': 'Alex', 'age': 18}` | словарь | dict() | `{}` | `a['age']` | изменяемое | ключ - значение  | \n",
    "| `{124, 'qaz', 3.14}` | множество | set() |  |  | изменяемое |  | \n"
   ]
  },
  {
   "cell_type": "markdown",
   "id": "ae8b78de-5d0e-4cfa-a4e6-41aed04ba464",
   "metadata": {},
   "source": [
    "## Концепция коллекции \"список\"\n",
    "\n",
    "Большая коробка (list) поделена на 5 ячеек (element).\n",
    "\n",
    "Каждая ячейка имеет свой **номер (index)** от 0 до 4.\n",
    "\n",
    "В ячейки положили мячи.\n",
    "\n",
    "```python\n",
    "a = [3, 4, 2, 0, 1]\n",
    "```\n",
    "\n",
    "![Коробка с мячами](https://stepik.org/media/attachments/lesson/417606/array1.png)\n",
    "\n",
    "В каждую ячейку можно положить **число** мячей.\n",
    "\n",
    "`a[3] = 2` - в ячейку с **номером** 3 положить **число** 2 (в ячейке теперь 2 мяча).\n",
    "\n",
    "```python\n",
    "a[0] = 7\n",
    "a[2] = 0\n",
    "a[3] = 2\n",
    "```\n",
    "\n",
    "![Положили мячи](https://stepik.org/media/attachments/lesson/417606/array2.png)\n"
   ]
  },
  {
   "cell_type": "markdown",
   "id": "92e345e8-9f99-4c7c-9bf2-68a5f53fcdbd",
   "metadata": {},
   "source": [
    "### Обращение к одному элементу списка\n",
    "\n",
    "```python\n",
    "a[3] = a[0] + 2\n",
    "```\n",
    "Как работает:\n",
    "\n",
    "* сначала вычислили выражение справа от `=`:\n",
    "    * **прочитали** чему равно `a[0]`, получили 7\n",
    "    * **вычислили** чему равно `a[0] + 2` - это `7 + 2`\n",
    "* потом **записали** результат в `a[3]`\n",
    "\n",
    "![Положили мячи](https://stepik.org/media/attachments/lesson/417606/array2.png)\n"
   ]
  },
  {
   "cell_type": "markdown",
   "id": "1d2c04a0-b170-418b-bf15-846ecfbf1b82",
   "metadata": {},
   "source": [
    "### Отрицательные индексы\n",
    "\n",
    "Можно считать номер ячейки сзади. Начинаем с -1.\n",
    "\n",
    "```python\n",
    "a = [3, 4, 2, 0 1]\n",
    "```\n",
    "\n",
    "![Коробка с мячами](https://stepik.org/media/attachments/lesson/417606/array1.png)\n",
    "\n",
    "* `a[-1]` - последняя ячейка\n",
    "* `a[-2]` - ячейка еще раньше"
   ]
  },
  {
   "cell_type": "markdown",
   "id": "e98c1258-771e-4822-a49c-2f5efeb4046d",
   "metadata": {},
   "source": [
    "### Печать списка и одного элемента\n",
    "\n",
    "Печать любой коллекции показывает как можно создать эту коллекцию."
   ]
  },
  {
   "cell_type": "code",
   "execution_count": 1,
   "id": "257e7ca8-bda1-4cc7-972b-4831e4a5f646",
   "metadata": {},
   "outputs": [
    {
     "name": "stdout",
     "output_type": "stream",
     "text": [
      "23\n",
      "[-7, 11, 23, 5]\n"
     ]
    }
   ],
   "source": [
    "z = [-7, 11, 23, 5]\n",
    "print(z[2])         # это число 23\n",
    "print(z)            # это весь список"
   ]
  },
  {
   "cell_type": "markdown",
   "id": "61aa65d4-23a9-4333-9725-f3f3079d2a3b",
   "metadata": {},
   "source": [
    "**В списке могут храниться объекты разных типов** Потому что в списке хранятся ссылки на объекты."
   ]
  },
  {
   "cell_type": "markdown",
   "id": "9d1b8674-bcef-401c-8d3e-6804e90092a6",
   "metadata": {},
   "source": [
    "## Строки\n",
    "\n",
    "### Создание строки\n",
    "\n",
    "Строки можно написать в:\n",
    "\n",
    "* `'abc'` - одинарных кавычках\n",
    "* `\"abc\"` - двойных кавычках\n",
    "* `'''abc'''` или `\"\"\"abc\"\"\"` - по 3 кавычки, можно писать много строк:\n",
    "\n",
    "```python\n",
    "''' Эта длинная строка,\n",
    "напишем ее продолжение на другой строке.\n",
    "И еще одну строку.\n",
    "'''\n",
    "```\n",
    "\n",
    "* `\"\"\" В таких кавычках пишут документацию (help)\"\"\"`\n",
    "\n",
    "### Пустая строка\n",
    "\n",
    "`''` или `\"\"` - это пустая строка.\n",
    "\n",
    "### Чтение строки\n",
    "\n",
    "`s = input()`\n",
    "\n",
    "### Печать строки\n",
    "\n",
    "`print('Hello, world!')`\n",
    "\n",
    "### Сложение и умножение строк"
   ]
  },
  {
   "cell_type": "code",
   "execution_count": 3,
   "id": "ac2644e8-766a-4afb-89fc-381c77042ec0",
   "metadata": {},
   "outputs": [
    {
     "data": {
      "text/plain": [
       "'abcqazwsx'"
      ]
     },
     "execution_count": 3,
     "metadata": {},
     "output_type": "execute_result"
    }
   ],
   "source": [
    "s1 = 'abc'\n",
    "s2 = 'qazwsx'\n",
    "s1 + s2"
   ]
  },
  {
   "cell_type": "code",
   "execution_count": 4,
   "id": "7360da6e-0572-46ec-9f40-a56b0690730f",
   "metadata": {},
   "outputs": [
    {
     "data": {
      "text/plain": [
       "'abcabcabcabc'"
      ]
     },
     "execution_count": 4,
     "metadata": {},
     "output_type": "execute_result"
    }
   ],
   "source": [
    "'abc' * 4"
   ]
  },
  {
   "cell_type": "markdown",
   "id": "a94ec6f3-4672-4a05-861f-6cd401dcfaaf",
   "metadata": {},
   "source": [
    "### len - длина (сколько элементов в коллекции)"
   ]
  },
  {
   "cell_type": "code",
   "execution_count": 13,
   "id": "b645efda-f83a-45b1-95a1-901a492892a8",
   "metadata": {},
   "outputs": [
    {
     "data": {
      "text/plain": [
       "5"
      ]
     },
     "execution_count": 13,
     "metadata": {},
     "output_type": "execute_result"
    }
   ],
   "source": [
    "len('hello')"
   ]
  },
  {
   "cell_type": "markdown",
   "id": "130c341c-7c05-4e93-b785-85a2687aedbf",
   "metadata": {},
   "source": [
    "### in - оператор принадлежности"
   ]
  },
  {
   "cell_type": "code",
   "execution_count": 5,
   "id": "b14e6b26-170e-48b0-8b4e-da66d9fc3f98",
   "metadata": {},
   "outputs": [
    {
     "data": {
      "text/plain": [
       "True"
      ]
     },
     "execution_count": 5,
     "metadata": {},
     "output_type": "execute_result"
    }
   ],
   "source": [
    "'el' in 'hello'"
   ]
  },
  {
   "cell_type": "code",
   "execution_count": 6,
   "id": "0fe72536-e392-4405-9597-1c74aa821adf",
   "metadata": {},
   "outputs": [
    {
     "data": {
      "text/plain": [
       "False"
      ]
     },
     "execution_count": 6,
     "metadata": {},
     "output_type": "execute_result"
    }
   ],
   "source": [
    "'z' in 'Python'"
   ]
  },
  {
   "cell_type": "markdown",
   "id": "9e38a9aa-72ad-40c0-931d-c07b9f5a53de",
   "metadata": {},
   "source": [
    "### Проверка пустая строка или нет"
   ]
  },
  {
   "cell_type": "code",
   "execution_count": 9,
   "id": "8ce1e2db-3f71-479c-9852-ab56623bb3d5",
   "metadata": {},
   "outputs": [
    {
     "name": "stdout",
     "output_type": "stream",
     "text": [
      "НЕ пустая строка\n"
     ]
    }
   ],
   "source": [
    "s = 'hello'\n",
    "# чтобы ответить, что холодильник НЕ пустой, не обязательно пересчитывать все продукты в нем\n",
    "if len(s) > 0:\n",
    "    print('НЕ пустая строка')\n",
    "else:\n",
    "    print('пустая строка')"
   ]
  },
  {
   "cell_type": "code",
   "execution_count": 11,
   "id": "ecf8b18c-da09-4722-a475-a530607ae274",
   "metadata": {},
   "outputs": [
    {
     "name": "stdout",
     "output_type": "stream",
     "text": [
      "НЕ пустая строка\n"
     ]
    }
   ],
   "source": [
    "# str -> bool\n",
    "if s:\n",
    "    print('НЕ пустая строка')\n",
    "else:\n",
    "    print('пустая строка')"
   ]
  },
  {
   "cell_type": "markdown",
   "id": "e0f1ed56-ec6e-4155-a8c3-376f9ffd33e6",
   "metadata": {},
   "source": [
    "### for"
   ]
  },
  {
   "cell_type": "code",
   "execution_count": 12,
   "id": "ff2fb390-ac9f-4a43-bf56-b4b05c9e3601",
   "metadata": {},
   "outputs": [
    {
     "name": "stdout",
     "output_type": "stream",
     "text": [
      "h\n",
      "e\n",
      "l\n",
      "l\n",
      "o\n"
     ]
    }
   ],
   "source": [
    "s = 'hello'\n",
    "for c in s:\n",
    "    print(c)"
   ]
  },
  {
   "cell_type": "markdown",
   "id": "b863ab80-fbdc-4301-aa0a-8526c576d496",
   "metadata": {},
   "source": [
    "### slice - часть строки или списка\n",
    "\n",
    "![строка и индексы](https://stepik.org/media/attachments/lesson/418189/string_slicing.png)\n",
    "\n",
    "* **s[от:до]** - часть строки (или списка) от (включая) до (НЕ включая)\n",
    "* **s[от:до:шаг]** - часть строки (или списка) от (включая) до (НЕ включая), +шаг\n",
    "\n",
    "\n",
    "\n",
    "```python\n",
    "s = 'Monty Python'\n",
    "```\n",
    "| Код | Равен | Что делает |\n",
    "|----|----|--------|\n",
    "| `s[9]` | `'h'` | 1 символ с **начала** строки с номером 9 |\n",
    "| `s[-3]` | `'h'` | 1 символ с **конца** строки с номером -3 |\n",
    "| `s[6:10]` | `'Pyth'` | часть строки от 6 до 10 (БЕЗ 10, последний символ `s[9]`) |\n",
    "| `s[-12:-7]` | `'Monty'` | часть строки от -12 до -7 (БЕЗ -7, последний символ `s[-8]`) |\n",
    "| `s[1:11:2]` | `'ot yh'` | от 1 (включая) до 11 (не включая), с шагом 2 (каждый раз индекс +2) |\n",
    "| `s[11:1:-2]` | `'nhy t'` | от 11 (включая) до 1 (не включая), с шагом -2 (каждый раз индекс -2) |\n",
    "| `s[:5]` | `'Monty'` | от **начала** ( часть *от* - пустая) до 5 |\n",
    "| `s[6:]` | `'Python'` | от 6 до **конца** ( часть *до* - пустая) |\n",
    "| `s[:]` | `'Monty Python'` | от **начала** до **конца** (копия строки) |\n",
    "| `s[::-1]` | `'nohtyP ytnoM'` | от **конца** до **начала** с шагом -1 (строка с последней буквы до первой) |\n"
   ]
  },
  {
   "cell_type": "markdown",
   "id": "b8360d67-61bf-49bc-9f85-06a55de8cb1f",
   "metadata": {},
   "source": [
    "## Общие операции списка и строки\n",
    "\n",
    "Строка отличаются от списка: \n",
    "\n",
    "* Строки нельзя изменить. Список можно изменить.\n",
    "* В строке только символы. В списке могут быть разные типы: числа, строки, другие списки и объекты.\n",
    "\n",
    "| Что делаем | список list | строка str | \n",
    "|----|----|----|\n",
    "| создать | `a = [3, -7, 19]` | `s = 'Myanmar'` |\n",
    "| 1 элемент | `a[0]` это 3 | `s[0]` это `'M'` |\n",
    "| 1 последний элемент | `a[-1]` это 19 | `s[-1]` это `'r'` |\n",
    "| срез | `a[1:]` это `[-7, 19]` | `s[1:]` это `'yanmar'` |\n",
    "| печать | `print(a)` будет `[3, -7, 19]` | `print(s)` будет `Myanmar` |\n",
    "| **изменить** | `a[0] = 66`, список стал `[66, -7, 19]` | `s[0] = 'm'` **нельзя изменить строку** |\n",
    "| какой тип? | `type(a)` равен `list` | `type(s)` равен `str` | \n",
    "| длина **len** | `len(a)` равен 3 | `len(s)` равен 7 | \n",
    "| a + b | `[1, 2, 3] + [10, 5]` получим `[1, 2, 3, 10, 5]` | `s + ' ' + 'Russia'` получим `'Myanmar Russia'` | \n",
    "| `a * 3` | `[10, 7] * 3` получим `[10, 7, 10, 7, 10, 7]` | `'hi'*3` получим `'hihihi'` | \n"
   ]
  },
  {
   "cell_type": "code",
   "execution_count": 16,
   "id": "c10ccba9-4b6f-4241-b6f1-9b9ab2a0f582",
   "metadata": {},
   "outputs": [
    {
     "ename": "TypeError",
     "evalue": "'str' object does not support item assignment",
     "output_type": "error",
     "traceback": [
      "\u001b[1;31m---------------------------------------------------------------------------\u001b[0m",
      "\u001b[1;31mTypeError\u001b[0m                                 Traceback (most recent call last)",
      "Cell \u001b[1;32mIn[16], line 2\u001b[0m\n\u001b[0;32m      1\u001b[0m s \u001b[38;5;241m=\u001b[39m \u001b[38;5;124m'\u001b[39m\u001b[38;5;124mhello\u001b[39m\u001b[38;5;124m'\u001b[39m\n\u001b[1;32m----> 2\u001b[0m \u001b[43ms\u001b[49m\u001b[43m[\u001b[49m\u001b[38;5;241;43m0\u001b[39;49m\u001b[43m]\u001b[49m \u001b[38;5;241m=\u001b[39m \u001b[38;5;124m'\u001b[39m\u001b[38;5;124mH\u001b[39m\u001b[38;5;124m'\u001b[39m\n",
      "\u001b[1;31mTypeError\u001b[0m: 'str' object does not support item assignment"
     ]
    }
   ],
   "source": [
    "s = 'hello'\n",
    "s[0] = 'H'"
   ]
  },
  {
   "cell_type": "code",
   "execution_count": 17,
   "id": "369e1296-7de0-4df0-a56a-9ade0502d1ea",
   "metadata": {},
   "outputs": [
    {
     "data": {
      "text/plain": [
       "True"
      ]
     },
     "execution_count": 17,
     "metadata": {},
     "output_type": "execute_result"
    }
   ],
   "source": [
    "'el' in 'hello'"
   ]
  },
  {
   "cell_type": "code",
   "execution_count": 14,
   "id": "b4388fdc-e015-42ac-a926-bb180c62bb70",
   "metadata": {},
   "outputs": [
    {
     "data": {
      "text/plain": [
       "False"
      ]
     },
     "execution_count": 14,
     "metadata": {},
     "output_type": "execute_result"
    }
   ],
   "source": [
    "[3, 'hello'] in [4, 16, 3, 'hello', -12.45]"
   ]
  },
  {
   "cell_type": "code",
   "execution_count": 15,
   "id": "95509fe5-48a6-4376-9d70-1c96a42bcefc",
   "metadata": {},
   "outputs": [
    {
     "data": {
      "text/plain": [
       "True"
      ]
     },
     "execution_count": 15,
     "metadata": {},
     "output_type": "execute_result"
    }
   ],
   "source": [
    "16 in [4, 16, 3, 'hello', -12.45]"
   ]
  },
  {
   "cell_type": "code",
   "execution_count": 117,
   "id": "f61e289a-3fd1-4b8f-be9f-026c75986237",
   "metadata": {},
   "outputs": [
    {
     "data": {
      "text/plain": [
       "True"
      ]
     },
     "execution_count": 117,
     "metadata": {},
     "output_type": "execute_result"
    }
   ],
   "source": [
    "'hello' in  [4, 16, 3, 'hello', -12.45]"
   ]
  },
  {
   "cell_type": "code",
   "execution_count": 122,
   "id": "6308d31b-8afc-41a5-9400-91543accb431",
   "metadata": {},
   "outputs": [
    {
     "data": {
      "text/plain": [
       "10.55"
      ]
     },
     "execution_count": 122,
     "metadata": {},
     "output_type": "execute_result"
    }
   ],
   "source": [
    "min( [4, 16, 3,  -12.45])\n",
    "sum( [4, 16, 3,  -12.45])"
   ]
  },
  {
   "cell_type": "code",
   "execution_count": 123,
   "id": "c5c18a7a-3d5a-4673-b8ce-e1275e4efacb",
   "metadata": {},
   "outputs": [
    {
     "data": {
      "text/plain": [
       "2"
      ]
     },
     "execution_count": 123,
     "metadata": {},
     "output_type": "execute_result"
    }
   ],
   "source": [
    "s = 'hello'\n",
    "s.index('l')"
   ]
  },
  {
   "cell_type": "code",
   "execution_count": 127,
   "id": "624580d2-26c6-4f89-a1a6-cbf3019a4ef3",
   "metadata": {},
   "outputs": [
    {
     "data": {
      "text/plain": [
       "2"
      ]
     },
     "execution_count": 127,
     "metadata": {},
     "output_type": "execute_result"
    }
   ],
   "source": [
    "s.count('l')"
   ]
  },
  {
   "cell_type": "markdown",
   "id": "f94fb5a2-4b6a-4790-8b85-c3009e6a1c47",
   "metadata": {},
   "source": [
    "## Методы неизменяемых последовательностей\n",
    "\n",
    "| Операция | Результат |\n",
    "|--|----|\n",
    "| x in s | True если хоть один элемент s равен x, иначе False |\n",
    "| x not in s | False если хоть один элемент s равен x, иначе True |\n",
    "| s + t | конкатенация s и t |\n",
    "| s \\* n <br/> n \\* s | сложить s n раз |\n",
    "| s\\[i\\] | элемент номер i |\n",
    "| s\\[i:j\\] | срез от i до j \\[i,j\\) |\n",
    "| s\\[i:j:k\\] | срез от i до j \\[i,j\\) с шагом k |\n",
    "| len\\(s\\) | длина s     |\n",
    "| min\\(s\\) | минимальный элемент s |    \n",
    "| max\\(s\\) | максимальный элемент s    | \n",
    "| s.index\\(x\\)<br/>s.index\\(x,i\\)<br/>s.index\\(x,i,j\\) | номер первого вхождения х<br/>с индексом от i<br/>до j \\[i,j\\) |\n",
    "| s.count\\(x\\) | сколько раз х встречается в s |\n"
   ]
  },
  {
   "cell_type": "markdown",
   "id": "3a4b35e7-929e-4d60-93ee-ff621547ac83",
   "metadata": {},
   "source": [
    "## Методы изменяемых последовательностей\n",
    "\n",
    "| Операция | Результат |\n",
    "|--|----|\n",
    "| s\\[i\\] = x | Элемент с номером i последовательности s заменить на x     |\n",
    "| s\\[i:j\\] = t | срез s от i до j заменить содержимым итерабельного \\(можно перебирать элементы\\) объекта t    | \n",
    "| del s\\[i:j\\] | s\\[i:j\\] = \\[\\]    | \n",
    "| s\\[i:j:k\\] = t | срез s\\[i:j:k\\] заменить элементами из t |\n",
    "| del s\\[i:j:k\\] | удалить элементы среза s\\[i:j:k\\] из последовательности  |\n",
    "| s.append\\(x\\) | добавить x в конец последовательности \\(s\\[len\\(s\\):len\\(s\\)\\] = \\[x\\]\\) |    \n",
    "| s.clear\\(\\) | удалить все элементы из s \\(del s\\[:\\]\\) |\n",
    "| s.copy\\(\\) | создать shallow copy посделовательности s \\(s\\[:\\]\\) |\n",
    "| s.extend\\(t\\) <br/> s += t | добавить к последовательности s содержимое последовательности t \\(s\\[len\\(s\\):len\\(s\\)\\] = t\\) | \n",
    "| s *= n | добавить в s его содержимое n раз |\n",
    "| s.insert\\(i, x\\) | вставить x в s на место с индексом i \\(s\\[i:i\\] = \\[x\\]\\) |    \n",
    "| s.pop\\(\\)<br/>s.pop\\(i\\) | вернуть последний элемент \\(с номером i\\) и удалить его из последовательности  |\n",
    "| s.remove\\(x\\) | удалить первое вхождение х в s (если нет, ValueError exception)|\n",
    "| s.reverse\\(\\) | последовательность в обратном порядке |\n"
   ]
  },
  {
   "cell_type": "markdown",
   "id": "804e75cf-1b10-4114-9a82-69d7d4ee6a9b",
   "metadata": {},
   "source": [
    "## Перебираем элементы последовательности\n",
    "\n",
    "Перебираем только элементы:\n",
    "```python\n",
    "for x in s:\n",
    "    print(x)\n",
    "```\n",
    "\n",
    "Перебираем и элементы, и их номера:\n",
    "```python\n",
    "for i, x in enumerate(s):\n",
    "    print(i, x)\n",
    "```"
   ]
  },
  {
   "cell_type": "markdown",
   "id": "effded26-f6df-42c5-a50f-c3d9264c9368",
   "metadata": {},
   "source": [
    "## Список (list)\n",
    "\n",
    "Списки в Python - упорядоченные изменяемые коллекции объектов произвольных типов (почти как массив в других языках, но типы элементов могут отличаться).\n",
    "\n",
    "Все методы неизменяемых и изменяемых последовательностей + метод **sort**.\n",
    "\n",
    "Все методы списка (в ipython или тетради): **dir**(list) или **help**(list)\n",
    "\n",
    "Help по 1 методу (например, append): list.append<b>?</b>\n",
    "```\n"
   ]
  },
  {
   "cell_type": "code",
   "execution_count": 21,
   "id": "239c2012-7f46-4c63-b7ba-623da8c5b441",
   "metadata": {},
   "outputs": [
    {
     "data": {
      "text/plain": [
       "\u001b[1;31mSignature:\u001b[0m \u001b[0mlist\u001b[0m\u001b[1;33m.\u001b[0m\u001b[0mappend\u001b[0m\u001b[1;33m(\u001b[0m\u001b[0mself\u001b[0m\u001b[1;33m,\u001b[0m \u001b[0mobject\u001b[0m\u001b[1;33m,\u001b[0m \u001b[1;33m/\u001b[0m\u001b[1;33m)\u001b[0m\u001b[1;33m\u001b[0m\u001b[1;33m\u001b[0m\u001b[0m\n",
       "\u001b[1;31mDocstring:\u001b[0m Append object to the end of the list.\n",
       "\u001b[1;31mType:\u001b[0m      method_descriptor"
      ]
     },
     "metadata": {},
     "output_type": "display_data"
    }
   ],
   "source": [
    "list.append?"
   ]
  },
  {
   "cell_type": "code",
   "execution_count": 128,
   "id": "52d87014-a45d-4b03-b6ce-5f691de26832",
   "metadata": {},
   "outputs": [
    {
     "name": "stdout",
     "output_type": "stream",
     "text": [
      "Help on method_descriptor:\n",
      "\n",
      "append(self, object, /)\n",
      "    Append object to the end of the list.\n",
      "\n"
     ]
    }
   ],
   "source": [
    "help(list.append)"
   ]
  },
  {
   "cell_type": "markdown",
   "id": "0fe2d627-5c22-4103-babe-27152144d28b",
   "metadata": {},
   "source": [
    "### Создание списка\n",
    "\n",
    "Пустой список:\n",
    "```python\n",
    "a1 = []\n",
    "a2 = list()\n",
    "```\n",
    "Список с данными:\n",
    "```python\n",
    "a = ['apple', 'banana', 'wildberry']\n",
    "b = [12, 34, -5, 16]\n",
    "c = [12, 'apple', [3.14, 9.81], 'orange' ]\n",
    "d = list('hello')\n",
    "numbers = list(map(int, input().split()))\n",
    "```"
   ]
  },
  {
   "cell_type": "code",
   "execution_count": 129,
   "id": "e9e11590-4b8b-47b5-87dc-6af12b98f007",
   "metadata": {},
   "outputs": [
    {
     "data": {
      "text/plain": [
       "['h', 'e', 'l', 'l', 'o']"
      ]
     },
     "execution_count": 129,
     "metadata": {},
     "output_type": "execute_result"
    }
   ],
   "source": [
    "d = list('hello')\n",
    "d"
   ]
  },
  {
   "cell_type": "markdown",
   "id": "f125bb33-8782-4ee4-a4bc-7299a728e70b",
   "metadata": {},
   "source": [
    "### Изменяем список\n",
    "\n",
    "\n",
    "Оба примера сделают новый список\n"
   ]
  },
  {
   "cell_type": "code",
   "execution_count": 23,
   "id": "15f0ff6d-515f-41f7-b421-ec993fea19fe",
   "metadata": {},
   "outputs": [
    {
     "data": {
      "text/plain": [
       "[1, 2, 3, 4, 5]"
      ]
     },
     "execution_count": 23,
     "metadata": {},
     "output_type": "execute_result"
    }
   ],
   "source": [
    "[1, 2, 3] + [4, 5]"
   ]
  },
  {
   "cell_type": "code",
   "execution_count": 24,
   "id": "d2bfcc47-d024-4009-bafa-a228150ea07a",
   "metadata": {},
   "outputs": [
    {
     "data": {
      "text/plain": [
       "[1, 2, 1, 2, 1, 2]"
      ]
     },
     "execution_count": 24,
     "metadata": {},
     "output_type": "execute_result"
    }
   ],
   "source": [
    "[1, 2] * 3"
   ]
  },
  {
   "cell_type": "markdown",
   "id": "ebe94b42-9de8-4343-af61-fcb319a6ee50",
   "metadata": {},
   "source": [
    "#### Разница между append и extend\n",
    "\n",
    "Все эти методы изменяют уже существующий список, а не создают новый.\n"
   ]
  },
  {
   "cell_type": "code",
   "execution_count": 130,
   "id": "e7531b8b-9fd5-4a01-ae3b-5fd8961b3e12",
   "metadata": {},
   "outputs": [
    {
     "data": {
      "text/plain": [
       "[1, 2, 3, 7, [4, 5]]"
      ]
     },
     "execution_count": 130,
     "metadata": {},
     "output_type": "execute_result"
    }
   ],
   "source": [
    "a = [1, 2, 3]\n",
    "a.append(7)\n",
    "a.append([4, 5])\n",
    "a"
   ]
  },
  {
   "cell_type": "code",
   "execution_count": 26,
   "id": "b9793aed-df0c-4d34-ace5-62889386f9c5",
   "metadata": {},
   "outputs": [
    {
     "data": {
      "text/plain": [
       "[1, 2, 3, 4, 5]"
      ]
     },
     "execution_count": 26,
     "metadata": {},
     "output_type": "execute_result"
    }
   ],
   "source": [
    "b = [1, 2, 3]\n",
    "b.extend([4, 5])\n",
    "b"
   ]
  },
  {
   "cell_type": "code",
   "execution_count": 131,
   "id": "28fa4064-5a30-40a5-af2c-5beb80c44b50",
   "metadata": {},
   "outputs": [
    {
     "data": {
      "text/plain": [
       "[1, 2, 3, 4, 5]"
      ]
     },
     "execution_count": 131,
     "metadata": {},
     "output_type": "execute_result"
    }
   ],
   "source": [
    "# краткая форма extend\n",
    "b2 = [1, 2, 3]\n",
    "b2 += [4, 5]\n",
    "b2"
   ]
  },
  {
   "cell_type": "code",
   "execution_count": 134,
   "id": "761a5741-05e3-4a3e-bd4b-812db3fa837a",
   "metadata": {},
   "outputs": [
    {
     "data": {
      "text/plain": [
       "[1, 2, 3, 4, 5, 'h', 'e', 'l', 'l', 'o', 'h', 'e', 'l', 'l', 'o']"
      ]
     },
     "execution_count": 134,
     "metadata": {},
     "output_type": "execute_result"
    }
   ],
   "source": [
    "b2 += 'hello'\n",
    "b2"
   ]
  },
  {
   "cell_type": "code",
   "execution_count": 137,
   "id": "6bdcf557-9d9b-4908-9d7c-bdb1cec1be39",
   "metadata": {},
   "outputs": [
    {
     "ename": "TypeError",
     "evalue": "can only concatenate list (not \"int\") to list",
     "output_type": "error",
     "traceback": [
      "\u001b[1;31m---------------------------------------------------------------------------\u001b[0m",
      "\u001b[1;31mTypeError\u001b[0m                                 Traceback (most recent call last)",
      "Cell \u001b[1;32mIn[137], line 1\u001b[0m\n\u001b[1;32m----> 1\u001b[0m \u001b[43m[\u001b[49m\u001b[38;5;241;43m1\u001b[39;49m\u001b[43m,\u001b[49m\u001b[43m \u001b[49m\u001b[38;5;241;43m2\u001b[39;49m\u001b[43m]\u001b[49m\u001b[43m \u001b[49m\u001b[38;5;241;43m+\u001b[39;49m\u001b[43m \u001b[49m\u001b[38;5;241;43m3\u001b[39;49m\n",
      "\u001b[1;31mTypeError\u001b[0m: can only concatenate list (not \"int\") to list"
     ]
    }
   ],
   "source": [
    "[1, 2] + 3"
   ]
  },
  {
   "cell_type": "markdown",
   "id": "74a7364c-0382-4984-b88e-4968472d701c",
   "metadata": {},
   "source": [
    "#### Разница между append и +\n",
    "\n",
    "Конкатенация (+) создает новый объект, а метод append нет. Поэтому append работает быстрее.\n",
    "\n",
    "a.append(x) в конец работает как a\\[len(a):\\] = \\[x\\]\n",
    "\n",
    "a\\[:0\\] = \\[x\\] - добавить в начало списка. Работают так же быстро, как append.\n"
   ]
  },
  {
   "cell_type": "markdown",
   "id": "bf95fdc9-77ab-46ab-aa95-b5e370397d46",
   "metadata": {},
   "source": [
    "#### insert и pop - вставить и удалить"
   ]
  },
  {
   "cell_type": "code",
   "execution_count": 50,
   "id": "3bdeb4b9-724b-477d-a8e3-ce913fae5c37",
   "metadata": {},
   "outputs": [
    {
     "name": "stdout",
     "output_type": "stream",
     "text": [
      "[1, 2, 3, 4, 5, 10]\n",
      "[1, 'hello', 2, 3, 4, 5, 10]\n",
      "a=[1, 'hello', 2, 3, 4, 5], x=10\n",
      "[1, 2, 3, 4, 5]\n"
     ]
    }
   ],
   "source": [
    "a = [1, 2, 3, 4, 5]\n",
    "a.append(10)\n",
    "print(a)\n",
    "a.insert(1, 'hello')\n",
    "print(a)\n",
    "x = a.pop()\n",
    "print(f'{a=}, {x=}')\n",
    "a.pop(1)\n",
    "print(a)"
   ]
  },
  {
   "cell_type": "markdown",
   "id": "91294549-4f84-453c-89e2-6847bfb651b2",
   "metadata": {},
   "source": [
    "#### Изменение списка с помощью slice (удаление)\n",
    "\n",
    "* **del** элемент\n",
    "* **del** часть списка\n",
    "* **del** переменная\n"
   ]
  },
  {
   "cell_type": "code",
   "execution_count": 35,
   "id": "e25d434b-27f2-40ab-a75f-7e13dc4275b7",
   "metadata": {},
   "outputs": [
    {
     "data": {
      "text/plain": [
       "[1, 66.25, 333, 333, 1234.5]"
      ]
     },
     "execution_count": 35,
     "metadata": {},
     "output_type": "execute_result"
    }
   ],
   "source": [
    "# удаляем один элемент\n",
    "a = [-1, 1, 66.25, 333, 333, 1234.5]\n",
    "del a[0]\n",
    "a"
   ]
  },
  {
   "cell_type": "code",
   "execution_count": 36,
   "id": "a828ec0e-72d4-49de-aab7-36a6e2151c65",
   "metadata": {},
   "outputs": [
    {
     "data": {
      "text/plain": [
       "[1, 66.25, 1234.5]"
      ]
     },
     "execution_count": 36,
     "metadata": {},
     "output_type": "execute_result"
    }
   ],
   "source": [
    "# удаляем срез\n",
    "del a[2:4]\n",
    "a"
   ]
  },
  {
   "cell_type": "code",
   "execution_count": 37,
   "id": "31083cd5-c0b0-431d-9e03-775cb8094db0",
   "metadata": {},
   "outputs": [
    {
     "data": {
      "text/plain": [
       "[]"
      ]
     },
     "execution_count": 37,
     "metadata": {},
     "output_type": "execute_result"
    }
   ],
   "source": [
    "# удалим ВСЕ ЭЛЕМЕНТЫ из списка а, (можно было так: a.clear() или a = [])\n",
    "del a[:]\n",
    "a"
   ]
  },
  {
   "cell_type": "markdown",
   "id": "202648e6-1258-4ddd-a8ab-e29225941d9c",
   "metadata": {},
   "source": [
    "#### Изменение списка с помощью slice (удаление и вставка)\n",
    "\n",
    "Размеры вставляемой и удаляемой частей могут не совпадать. 1) del, 2) insert"
   ]
  },
  {
   "cell_type": "code",
   "execution_count": 38,
   "id": "a0bab2e3-fad8-4eea-bd27-90cf16379421",
   "metadata": {},
   "outputs": [
    {
     "data": {
      "text/plain": [
       "[1, 2, 10, 11, 12, 13, 5]"
      ]
     },
     "execution_count": 38,
     "metadata": {},
     "output_type": "execute_result"
    }
   ],
   "source": [
    "a = [1, 2, 3, 4, 5]\n",
    "a[2:4] = [10, 11, 12, 13]\n",
    "a"
   ]
  },
  {
   "cell_type": "markdown",
   "id": "0cb76bdb-d672-44c2-909e-2a72669c8d5e",
   "metadata": {},
   "source": [
    "### Проверить, что список пустой\n",
    "\n",
    "`bool(a)` возвращает False, если a пустой список. Иначе он возвращает True.\n"
   ]
  },
  {
   "cell_type": "code",
   "execution_count": 42,
   "id": "025de922-b1a3-4654-80bd-fa478f09fda8",
   "metadata": {},
   "outputs": [
    {
     "name": "stdout",
     "output_type": "stream",
     "text": [
      "NON-empty list\n"
     ]
    }
   ],
   "source": [
    "a = [1, 2, 3]\n",
    "if a:\n",
    "    print('NON-empty list')\n",
    "else:\n",
    "    print('Empty list')\n"
   ]
  },
  {
   "cell_type": "code",
   "execution_count": 141,
   "id": "8de71812-05d5-4a38-b8fc-0a1193e02ae5",
   "metadata": {},
   "outputs": [
    {
     "name": "stdout",
     "output_type": "stream",
     "text": [
      "Empty\n"
     ]
    }
   ],
   "source": [
    "b = []\n",
    "if not b:\n",
    "    print('Empty')\n",
    "else:\n",
    "    print('NON-empty list')"
   ]
  },
  {
   "cell_type": "markdown",
   "id": "2d5d2876-fee5-4cbe-8998-dc3faeb89d16",
   "metadata": {},
   "source": [
    "### Чтение списка"
   ]
  },
  {
   "cell_type": "code",
   "execution_count": 57,
   "id": "c089b0b2-e5ff-4d1e-a94b-71859ffe3ed8",
   "metadata": {},
   "outputs": [
    {
     "name": "stdin",
     "output_type": "stream",
     "text": [
      " 123 qa hello\n"
     ]
    },
    {
     "data": {
      "text/plain": [
       "['123', 'qa', 'hello']"
      ]
     },
     "execution_count": 57,
     "metadata": {},
     "output_type": "execute_result"
    }
   ],
   "source": [
    "words = input().split()\n",
    "words"
   ]
  },
  {
   "cell_type": "code",
   "execution_count": 58,
   "id": "d272cac9-1891-4adc-b362-84bd6dc1d743",
   "metadata": {},
   "outputs": [
    {
     "name": "stdin",
     "output_type": "stream",
     "text": [
      " 3.14 -7.1 123\n"
     ]
    },
    {
     "data": {
      "text/plain": [
       "[3.14, -7.1, 123.0]"
      ]
     },
     "execution_count": 58,
     "metadata": {},
     "output_type": "execute_result"
    }
   ],
   "source": [
    "numbers = list(map(float, input().split()))\n",
    "numbers"
   ]
  },
  {
   "cell_type": "markdown",
   "id": "b2e15d09-eef1-46be-a770-6b24f6f94ba8",
   "metadata": {},
   "source": [
    "### Печать списка"
   ]
  },
  {
   "cell_type": "code",
   "execution_count": 142,
   "id": "971ad084-8ee1-46c6-a79f-20e1b36a94b4",
   "metadata": {},
   "outputs": [
    {
     "name": "stdout",
     "output_type": "stream",
     "text": [
      "[7, 12, -3]\n"
     ]
    }
   ],
   "source": [
    "a = [7, 12, -3]\n",
    "print(a)"
   ]
  },
  {
   "cell_type": "code",
   "execution_count": 145,
   "id": "e49ba5c5-5346-486c-a950-349b534630a2",
   "metadata": {},
   "outputs": [
    {
     "name": "stdout",
     "output_type": "stream",
     "text": [
      "7 12 -3\n",
      "7 12 -3\n"
     ]
    }
   ],
   "source": [
    "print(*a)\n",
    "print(7, 12, -3)"
   ]
  },
  {
   "cell_type": "code",
   "execution_count": 144,
   "id": "4ba7f0d9-6931-404d-badc-bdc8f1ebc38a",
   "metadata": {},
   "outputs": [
    {
     "name": "stdout",
     "output_type": "stream",
     "text": [
      "7 12 -3 "
     ]
    }
   ],
   "source": [
    "for x in a:\n",
    "    print(x, end=' ')"
   ]
  },
  {
   "cell_type": "markdown",
   "id": "c8d7901f-c722-424d-8c4b-6458f3c79b3a",
   "metadata": {},
   "source": [
    "## Изменяемый объект в виде значения по умолчанию\n",
    "\n",
    "Мы хотим в функцию передать список. Если список не задали, создать пустой список."
   ]
  },
  {
   "cell_type": "code",
   "execution_count": 146,
   "id": "5e9cd14e-98a5-4876-9d3a-9c21194a232f",
   "metadata": {},
   "outputs": [],
   "source": [
    "def func(x = 0, a = []):\n",
    "    a.append(x)\n",
    "    print(a)"
   ]
  },
  {
   "cell_type": "code",
   "execution_count": 147,
   "id": "0bf263c1-3d2f-4df5-aa22-c8f8b77318c7",
   "metadata": {},
   "outputs": [
    {
     "name": "stdout",
     "output_type": "stream",
     "text": [
      "[1, 2, 3, 15]\n"
     ]
    }
   ],
   "source": [
    "func(15, [1, 2, 3])"
   ]
  },
  {
   "cell_type": "code",
   "execution_count": 148,
   "id": "8811b6b2-319d-4690-bcc2-b5ec153c3e1c",
   "metadata": {},
   "outputs": [
    {
     "name": "stdout",
     "output_type": "stream",
     "text": [
      "[21]\n"
     ]
    }
   ],
   "source": [
    "func(21)"
   ]
  },
  {
   "cell_type": "code",
   "execution_count": 149,
   "id": "803c2a86-e786-4b05-b34e-47600b15c0d7",
   "metadata": {},
   "outputs": [
    {
     "name": "stdout",
     "output_type": "stream",
     "text": [
      "[21, 777]\n"
     ]
    }
   ],
   "source": [
    "func(777)"
   ]
  },
  {
   "cell_type": "markdown",
   "id": "cf3c3634-5d7b-4499-b1e4-e048202a5a03",
   "metadata": {},
   "source": [
    "Как правильно? None"
   ]
  },
  {
   "cell_type": "code",
   "execution_count": 150,
   "id": "f9cfba28-6ef9-4945-b0c6-093197216592",
   "metadata": {},
   "outputs": [
    {
     "name": "stdout",
     "output_type": "stream",
     "text": [
      "[1, 2, 3, 15]\n",
      "[21]\n",
      "[777]\n"
     ]
    }
   ],
   "source": [
    "def func(x = 0, a = None):\n",
    "    # a = a or []\n",
    "    if a is None:\n",
    "        a = []\n",
    "    a.append(x)\n",
    "    print(a)\n",
    "\n",
    "func(15, [1, 2, 3])\n",
    "func(21)\n",
    "func(777)"
   ]
  },
  {
   "cell_type": "markdown",
   "id": "99f15727-2865-4334-a3c0-626a3ddb888a",
   "metadata": {},
   "source": [
    "`None` - неизменяемый объект.\n",
    "\n",
    "`a or []` работает так:\n",
    "* если а - непустой список, то он в выражении будет True и выражение с or дальше вычисляться не будет, значение `a or []` равно `a`.\n",
    "* если `a` это `None`, то `None` в логическом выражении будет False и выражение будет выполняться дальше, значение `a or []` равно `[]`\n"
   ]
  },
  {
   "cell_type": "markdown",
   "id": "4011edb6-2c45-4284-9a95-089efb3a730f",
   "metadata": {},
   "source": [
    "## List comprehensions\n",
    "\n",
    "Общий вид как сделать список:\n",
    "\n",
    "```python\n",
    "[выражение for переменная in последовательность]\n",
    "или\n",
    "[выражение for переменная in последовательность if условие]\n",
    "```\n",
    "\n",
    "Как сделать список, написав меньше кода?"
   ]
  },
  {
   "cell_type": "code",
   "execution_count": 63,
   "id": "3745655e-7561-428d-8f5a-bf5d234160a7",
   "metadata": {},
   "outputs": [
    {
     "data": {
      "text/plain": [
       "[1, 4, 9, 16, 25, 36, 49, 64, 81, 100]"
      ]
     },
     "execution_count": 63,
     "metadata": {},
     "output_type": "execute_result"
    }
   ],
   "source": [
    "# квадраты чисел от 1 до 10\n",
    "a = []\n",
    "for x in range(1, 11):\n",
    "    a.append(x*x)\n",
    "a"
   ]
  },
  {
   "cell_type": "code",
   "execution_count": 64,
   "id": "e9277e55-18e2-4d1c-9423-6713e1a58f26",
   "metadata": {},
   "outputs": [
    {
     "data": {
      "text/plain": [
       "[1, 4, 9, 16, 25, 36, 49, 64, 81, 100]"
      ]
     },
     "execution_count": 64,
     "metadata": {},
     "output_type": "execute_result"
    }
   ],
   "source": [
    "b = [x*x for x in range(1, 11)]\n",
    "b"
   ]
  },
  {
   "cell_type": "code",
   "execution_count": 151,
   "id": "c0319a13-ab8c-4279-aee1-f5f23016380c",
   "metadata": {},
   "outputs": [
    {
     "name": "stdout",
     "output_type": "stream",
     "text": [
      "[-23, 46, 2, 31, -4, 18]\n",
      "[46, 2, -4, 18]\n",
      "[46, 2, -4, 18]\n",
      "[46, 2, 4, 18]\n"
     ]
    }
   ],
   "source": [
    "# оставить только четные числа\n",
    "a = [-23, 46, 2, 31, -4, 18]\n",
    "\n",
    "b3 = []\n",
    "for x in a:\n",
    "    if x % 2 == 0:\n",
    "        b3.append(abs(x))\n",
    "\n",
    "b = [x for x in a if x % 2 == 0]\n",
    "\n",
    "b2 = [abs(x) for x in a if x % 2 == 0]\n",
    "print(a)\n",
    "print(b3)\n",
    "print(b)\n",
    "print(b2)"
   ]
  },
  {
   "attachments": {
    "255d6e9d-780e-4122-be10-b3aa6c8b6d91.png": {
     "image/png": "[encoded data removed]"
    }
   },
   "cell_type": "markdown",
   "id": "7d680ce1-0360-43c9-abad-6209f68be611",
   "metadata": {},
   "source": [
    "![image.png](attachment:255d6e9d-780e-4122-be10-b3aa6c8b6d91.png)"
   ]
  },
  {
   "cell_type": "markdown",
   "id": "38cdad13-9fab-4bda-8526-ca641d582309",
   "metadata": {},
   "source": [
    "## Список из списков\n",
    "\n",
    "Матрица. Использовать numpy - работает быстрее. Здесь материал для общего развития."
   ]
  },
  {
   "cell_type": "code",
   "execution_count": 69,
   "id": "d27c21af-a46a-486d-9f18-77b6dfba6ecc",
   "metadata": {},
   "outputs": [
    {
     "data": {
      "text/plain": [
       "[[1, 2, 3, 4], [5, 6, 7, 8], [9, 10, 11, 12]]"
      ]
     },
     "execution_count": 69,
     "metadata": {},
     "output_type": "execute_result"
    }
   ],
   "source": [
    "m = [[1, 2, 3, 4], [5, 6, 7, 8], [9, 10, 11, 12]]\n",
    "m"
   ]
  },
  {
   "cell_type": "code",
   "execution_count": 70,
   "id": "6f9e1107-f1bf-40c9-94b8-465fc8f3c63e",
   "metadata": {},
   "outputs": [
    {
     "name": "stdout",
     "output_type": "stream",
     "text": [
      "[[1, 2, 3, 4], [5, 6, 7, 8], [9, 10, 11, 12]]\n"
     ]
    }
   ],
   "source": [
    "print(m)"
   ]
  },
  {
   "cell_type": "code",
   "execution_count": 71,
   "id": "685359ce-2ed2-4d30-ae68-0294b967de01",
   "metadata": {},
   "outputs": [
    {
     "data": {
      "text/plain": [
       "8"
      ]
     },
     "execution_count": 71,
     "metadata": {},
     "output_type": "execute_result"
    }
   ],
   "source": [
    "m[1][3]"
   ]
  },
  {
   "cell_type": "code",
   "execution_count": 72,
   "id": "208ccf92-028b-4d2e-b762-5211bd5c8887",
   "metadata": {},
   "outputs": [],
   "source": [
    "m[1][3] = 100"
   ]
  },
  {
   "cell_type": "code",
   "execution_count": 73,
   "id": "b34a073d-b0ad-46fe-84dd-79cb7711461a",
   "metadata": {},
   "outputs": [
    {
     "data": {
      "text/plain": [
       "[[1, 2, 3, 4], [5, 6, 7, 100], [9, 10, 11, 12]]"
      ]
     },
     "execution_count": 73,
     "metadata": {},
     "output_type": "execute_result"
    }
   ],
   "source": [
    "m"
   ]
  },
  {
   "cell_type": "code",
   "execution_count": 74,
   "id": "ac7f70e4-b912-420d-90a8-6b5fde4d2d22",
   "metadata": {},
   "outputs": [
    {
     "data": {
      "text/plain": [
       "[0, 0, 0, 0, 0]"
      ]
     },
     "execution_count": 74,
     "metadata": {},
     "output_type": "execute_result"
    }
   ],
   "source": [
    "z = [0]*5\n",
    "z"
   ]
  },
  {
   "cell_type": "code",
   "execution_count": 75,
   "id": "1fc1b932-24ed-4bf2-b73e-b689a1f87aee",
   "metadata": {},
   "outputs": [
    {
     "data": {
      "text/plain": [
       "[0, 7, 0, 0, 0]"
      ]
     },
     "execution_count": 75,
     "metadata": {},
     "output_type": "execute_result"
    }
   ],
   "source": [
    "z[1] = 7\n",
    "z"
   ]
  },
  {
   "cell_type": "code",
   "execution_count": 76,
   "id": "a6350039-3188-4e6c-bba4-c4e1c1e33960",
   "metadata": {},
   "outputs": [
    {
     "data": {
      "text/plain": [
       "[[0, 0, 0, 0, 0], [0, 0, 0, 0, 0], [0, 0, 0, 0, 0]]"
      ]
     },
     "execution_count": 76,
     "metadata": {},
     "output_type": "execute_result"
    }
   ],
   "source": [
    "mz = [[0]*5 ] * 3\n",
    "mz"
   ]
  },
  {
   "cell_type": "code",
   "execution_count": 77,
   "id": "41519195-9f5d-4dbb-833e-2236adbbc8cb",
   "metadata": {},
   "outputs": [
    {
     "data": {
      "text/plain": [
       "[[0, 0, 0, 777, 0], [0, 0, 0, 777, 0], [0, 0, 0, 777, 0]]"
      ]
     },
     "execution_count": 77,
     "metadata": {},
     "output_type": "execute_result"
    }
   ],
   "source": [
    "mz[1][3] = 777\n",
    "mz"
   ]
  },
  {
   "cell_type": "code",
   "execution_count": 78,
   "id": "f4bd29cb-ccde-4f8e-ac1a-5156eafbfe5d",
   "metadata": {},
   "outputs": [
    {
     "data": {
      "text/plain": [
       "[[0, 0, 0, 0, 0], [0, 0, 0, 0, 0], [0, 0, 0, 0, 0]]"
      ]
     },
     "execution_count": 78,
     "metadata": {},
     "output_type": "execute_result"
    }
   ],
   "source": [
    "matrix = [[0]*5 for i in range(3)]\n",
    "matrix"
   ]
  },
  {
   "cell_type": "code",
   "execution_count": 79,
   "id": "f4461f5c-119d-4d7d-9033-b77b31195e8f",
   "metadata": {},
   "outputs": [
    {
     "data": {
      "text/plain": [
       "[[0, 0, 0, 0, 0], [0, 0, 0, 888, 0], [0, 0, 0, 0, 0]]"
      ]
     },
     "execution_count": 79,
     "metadata": {},
     "output_type": "execute_result"
    }
   ],
   "source": [
    "matrix[1][3] = 888\n",
    "matrix"
   ]
  },
  {
   "cell_type": "markdown",
   "id": "7da177a0-beb2-47f3-b8c0-e2518bee20bf",
   "metadata": {},
   "source": [
    "## Кортеж (tuple)\n",
    "\n",
    "**Кортеж** - неизменяемый список.\n",
    "\n",
    "### Создание кортежа\n",
    "\n",
    "Пустой кортеж:\n",
    "```python\r\n",
    "a1 = ()\n",
    "a2 = tuple()\r\n",
    "```\n",
    "\n",
    "Непустой кортеж:\n",
    "```python\r\n",
    "a = (7, 3.4, 'abc', [1, 2, 3])\n",
    "b = 7, 3.4, 'abc', [1, 2, 3]    # скобки не обязательны\r\n",
    "` x\r\n",
    "```\n"
   ]
  },
  {
   "cell_type": "markdown",
   "id": "3ecd3c15-7479-4167-9ce9-f5fd94f749a2",
   "metadata": {},
   "source": [
    "### Распаковка кортежа\n",
    "\n",
    "**кортеж = последовательность** происходит распаковка элементов последовательности в кортеж\n",
    "\n",
    "```python\n",
    "x, y = map(int, input().split())\n",
    "```\n",
    "или\n",
    "```python\n",
    "x, y = y, x\n",
    "```\n",
    "\n",
    "Когда из функции возвращают \"много значений\", то возвращают один кортеж"
   ]
  },
  {
   "cell_type": "code",
   "execution_count": 80,
   "id": "2427b020-c29f-48af-a742-c3adb8e10c68",
   "metadata": {},
   "outputs": [],
   "source": [
    "def min2time(mm):\n",
    "    h = mm // 60\n",
    "    m = mm % 60\n",
    "    return h, m"
   ]
  },
  {
   "cell_type": "markdown",
   "id": "58ff6b22-ab09-4b36-bc3b-fab51f45c455",
   "metadata": {},
   "source": [
    "## Строки - особые методы"
   ]
  },
  {
   "cell_type": "markdown",
   "id": "58e67381-41fb-411e-a3b4-c5a6239b1dc6",
   "metadata": {},
   "source": [
    "*   Проверки (строка непустая и _все_ символы удовлетворяют критерию):\n",
    "    * str.**isalnum**()\n",
    "    * str.**isalpha**()\n",
    "    * str.**isdecimal**()\n",
    "    * str.**isdigit**()\n",
    "    * str.**isidentifier**()\n",
    "    * str.**islower**()\n",
    "    * str.**isnumeric**()\n",
    "    * str.**isprintable**()\n",
    "    * str.**isspace**()\n",
    "    * str.**istitle**()\n",
    "    * str.**isupper**()\n",
    "\n",
    "*   Большие и маленькие буквы:\n",
    "    * str.**capitalize**()\n",
    "    * str.**casefold**()\n",
    "    * str.**swapcase**()\n",
    "    * str.**title**()\n",
    "    * str.**upper**()\n",
    "    * str.**lower**()\n",
    "    \n",
    "*   Выравнивание:\n",
    "    * str.**center**()\n",
    "    * str.**ljust**()\n",
    "    * str.**rjust**()\n",
    "\n",
    "*   Убрать символы (пробелы)\n",
    "    * str.**lstrip**()\n",
    "    * str.**rstrip**()\n",
    "    * str.**strip**()\n"
   ]
  },
  {
   "cell_type": "code",
   "execution_count": 82,
   "id": "73872b12-451c-4b90-ae87-bbb075c47afc",
   "metadata": {},
   "outputs": [
    {
     "data": {
      "text/plain": [
       "'spacious'"
      ]
     },
     "execution_count": 82,
     "metadata": {},
     "output_type": "execute_result"
    }
   ],
   "source": [
    "'   spacious   '.strip()"
   ]
  },
  {
   "cell_type": "code",
   "execution_count": 83,
   "id": "a0724f0e-a5f9-4095-9e11-033fe63c90bc",
   "metadata": {},
   "outputs": [
    {
     "data": {
      "text/plain": [
       "'example'"
      ]
     },
     "execution_count": 83,
     "metadata": {},
     "output_type": "execute_result"
    }
   ],
   "source": [
    "'www.example.com'.strip('cmowz.')"
   ]
  },
  {
   "cell_type": "code",
   "execution_count": 84,
   "id": "211ee500-9cb3-414f-b8e2-1d0c12068d09",
   "metadata": {},
   "outputs": [
    {
     "data": {
      "text/plain": [
       "'Section 3.2.1 Issue #32'"
      ]
     },
     "execution_count": 84,
     "metadata": {},
     "output_type": "execute_result"
    }
   ],
   "source": [
    "comment_string = '#....... Section 3.2.1 Issue #32 .......'\n",
    "comment_string.strip('.#! ')"
   ]
  },
  {
   "cell_type": "markdown",
   "id": "55780c5a-217c-43a8-a1a8-abac828bb9ca",
   "metadata": {},
   "source": [
    "* Из табуляций в пробелы\n",
    "    * str.**expandtabs**()\n"
   ]
  },
  {
   "cell_type": "code",
   "execution_count": 85,
   "id": "119c954e-ca73-4fc3-ae5c-7850273e3e70",
   "metadata": {},
   "outputs": [
    {
     "data": {
      "text/plain": [
       "'01      012     0123    01234'"
      ]
     },
     "execution_count": 85,
     "metadata": {},
     "output_type": "execute_result"
    }
   ],
   "source": [
    "'01\\t012\\t0123\\t01234'.expandtabs()"
   ]
  },
  {
   "cell_type": "code",
   "execution_count": 86,
   "id": "81bc97b2-68f3-4f2c-abe0-04380e545be1",
   "metadata": {},
   "outputs": [
    {
     "data": {
      "text/plain": [
       "'01  012 0123    01234'"
      ]
     },
     "execution_count": 86,
     "metadata": {},
     "output_type": "execute_result"
    }
   ],
   "source": [
    "'01\\t012\\t0123\\t01234'.expandtabs(4)"
   ]
  },
  {
   "cell_type": "markdown",
   "id": "745ae6b3-bbeb-4eed-aae9-aa364bbcc02f",
   "metadata": {},
   "source": [
    "*   Кодировка:\n",
    "    * str.**encode**(encoding=\"utf-8\")\n",
    "\n",
    "*   Шифрование:\n",
    "    * str.**maketrans**()\n",
    "    * str.**translate**(table)\n",
    "\n",
    "*   Форматирование:\n",
    "    * str.**format**()\n",
    "    * str.**format_map**()\n",
    "\n",
    "*   Проверки (подстрока в строке)\n",
    "    * str.**count**(sub) - сколько раз входит (без пересечений)\n",
    "    * **in** - поиск подстроки в строке\n",
    "    * str.**endswith**(sub) - str оканчивается на sub\n",
    "    * str.**startswith**(sub) - \n",
    "\n",
    "*   **Индекс** начала подстроки в строке, (иначе проверяем как 'el' in 'Hello')\n",
    "    * str.**find**(sub\\[, start\\[, end\\]\\]) - возвращает -1, если подстроки нет\n",
    "    * str.**index**(sub\\[, start\\[, end\\]\\]) - кидает ValueError, если подстроки нет\n",
    "    * str.**rfind**(sub\\[, start\\[, end\\]\\])\n",
    "    * str.**rindex**(sub\\[, start\\[, end\\]\\])\n",
    "\n",
    "*   Поиск и замена:\n",
    "    * str.**replace**(old, new, \\[count\\])"
   ]
  },
  {
   "cell_type": "code",
   "execution_count": 87,
   "id": "c5cc7af1-da37-47f9-a4a2-37896800b3f3",
   "metadata": {},
   "outputs": [
    {
     "data": {
      "text/plain": [
       "'BBB'"
      ]
     },
     "execution_count": 87,
     "metadata": {},
     "output_type": "execute_result"
    }
   ],
   "source": [
    "'AAAAAA'.replace('AA', 'B')"
   ]
  },
  {
   "cell_type": "code",
   "execution_count": 88,
   "id": "1ad6170c-bafa-4ff1-addc-8d44d2b77051",
   "metadata": {},
   "outputs": [
    {
     "data": {
      "text/plain": [
       "'xxxxEGGSxxxxEGGSxxxx'"
      ]
     },
     "execution_count": 88,
     "metadata": {},
     "output_type": "execute_result"
    }
   ],
   "source": [
    "S = 'xxxxSPAMxxxxSPAMxxxx'\n",
    "S.replace('SPAM', 'EGGS')    # Заменить все найденные подстроки"
   ]
  },
  {
   "cell_type": "code",
   "execution_count": 89,
   "id": "f45ca310-c7bd-42fa-92bf-d7a2e65f6f5b",
   "metadata": {},
   "outputs": [
    {
     "data": {
      "text/plain": [
       "'xxxxEGGSxxxxSPAMxxxx'"
      ]
     },
     "execution_count": 89,
     "metadata": {},
     "output_type": "execute_result"
    }
   ],
   "source": [
    "S.replace('SPAM', 'EGGS', 1) # Заменить одну подстроку"
   ]
  },
  {
   "cell_type": "markdown",
   "id": "9f65eb3b-3261-4b10-9670-73c69e7f2410",
   "metadata": {},
   "source": [
    "*   Разделение и склейка\n",
    "    * str.**partition**() - разделить на 3 части - до, разделитель, после\n",
    "    * str.**rpartition**()\n",
    "    * str.**rsplit**()\n",
    "    * str.**split**(sep=None, maxsplit=-1) - разделить по sep на много частей\n",
    "    * str.**join**(iterable)\n",
    "    * str.**splitlines**()\n"
   ]
  },
  {
   "cell_type": "code",
   "execution_count": 90,
   "id": "501620c5-4ebe-442f-9658-23493865421d",
   "metadata": {},
   "outputs": [
    {
     "data": {
      "text/plain": [
       "['1', '2', '3']"
      ]
     },
     "execution_count": 90,
     "metadata": {},
     "output_type": "execute_result"
    }
   ],
   "source": [
    "'1,2,3'.split(',')"
   ]
  },
  {
   "cell_type": "code",
   "execution_count": 91,
   "id": "8d451b51-8935-4c8a-89f8-cc4d09688a4e",
   "metadata": {},
   "outputs": [
    {
     "data": {
      "text/plain": [
       "['1', '2,3']"
      ]
     },
     "execution_count": 91,
     "metadata": {},
     "output_type": "execute_result"
    }
   ],
   "source": [
    "'1,2,3'.split(',', maxsplit=1)"
   ]
  },
  {
   "cell_type": "code",
   "execution_count": 92,
   "id": "af06d49e-4149-4b02-978f-6c0a7e0daf92",
   "metadata": {},
   "outputs": [
    {
     "data": {
      "text/plain": [
       "['1', '2', '', '3', '']"
      ]
     },
     "execution_count": 92,
     "metadata": {},
     "output_type": "execute_result"
    }
   ],
   "source": [
    "'1,2,,3,'.split(',')"
   ]
  },
  {
   "cell_type": "code",
   "execution_count": 93,
   "id": "38345719-7f8e-41f1-87b1-523dd7990f06",
   "metadata": {},
   "outputs": [
    {
     "data": {
      "text/plain": [
       "'hi-ha-ho'"
      ]
     },
     "execution_count": 93,
     "metadata": {},
     "output_type": "execute_result"
    }
   ],
   "source": [
    "a = ['hi', 'ha', 'ho']\n",
    "'-'.join(a)"
   ]
  },
  {
   "cell_type": "code",
   "execution_count": 95,
   "id": "3aaf9874-acb2-4a7b-8371-3788deb13510",
   "metadata": {},
   "outputs": [
    {
     "data": {
      "text/plain": [
       "['это первая строка текста.',\n",
       " 'Это вторая строка текста.',\n",
       " 'Какой длинный текст']"
      ]
     },
     "execution_count": 95,
     "metadata": {},
     "output_type": "execute_result"
    }
   ],
   "source": [
    "text = '''это первая строка текста.\n",
    "Это вторая строка текста.\n",
    "Какой длинный текст'''\n",
    "text.splitlines()"
   ]
  },
  {
   "cell_type": "code",
   "execution_count": 96,
   "id": "c67ce997-f642-4d84-b909-abfc03f36f9d",
   "metadata": {},
   "outputs": [
    {
     "data": {
      "text/plain": [
       "['ab c', '', 'de fg', 'kl']"
      ]
     },
     "execution_count": 96,
     "metadata": {},
     "output_type": "execute_result"
    }
   ],
   "source": [
    "'ab c\\n\\nde fg\\rkl\\r\\n'.splitlines()"
   ]
  },
  {
   "cell_type": "code",
   "execution_count": 97,
   "id": "af4e6075-b0c9-42a9-8345-f6ed0a714222",
   "metadata": {},
   "outputs": [
    {
     "data": {
      "text/plain": [
       "['ab c\\n', '\\n', 'de fg\\r', 'kl\\r\\n']"
      ]
     },
     "execution_count": 97,
     "metadata": {},
     "output_type": "execute_result"
    }
   ],
   "source": [
    "'ab c\\n\\nde fg\\rkl\\r\\n'.splitlines(keepends=True)"
   ]
  },
  {
   "cell_type": "markdown",
   "id": "66a8c420-65b8-4bf0-9822-04c08425b692",
   "metadata": {},
   "source": [
    "### Пример: замена домена в емейле на mipt.ru"
   ]
  },
  {
   "cell_type": "code",
   "execution_count": 100,
   "id": "d6f55cec-2c26-4ace-961d-7b2fa597c8da",
   "metadata": {},
   "outputs": [
    {
     "name": "stdout",
     "output_type": "stream",
     "text": [
      "name='tatyderb', at='@', host='gmail.com'\n",
      "tatyderb@mipt.ru\n",
      "name='tatyderb+ryazan', at='@', host='physteh.edu'\n",
      "tatyderb+ryazan@mipt.ru\n",
      "name='ta.tyd.erb', at='@', host='ya.ru'\n",
      "ta.tyd.erb@mipt.ru\n",
      "name='hello', at='', host=''\n",
      "hello\n"
     ]
    }
   ],
   "source": [
    "def mipt_email(email):\n",
    "    \"\"\" Заменяет домен почты на mipt.ru\"\"\"\n",
    "    name, at, host = email.partition('@')\n",
    "    print(f'{name=}, {at=}, {host=}')\n",
    "    if at == '@':\n",
    "        res = name + '@mipt.ru'\n",
    "    else:\n",
    "        res = email\n",
    "    return res\n",
    "\n",
    "print(mipt_email('tatyderb@gmail.com'))\n",
    "print(mipt_email('tatyderb+ryazan@physteh.edu'))\n",
    "print(mipt_email('ta.tyd.erb@ya.ru'))\n",
    "print(mipt_email('hello'))"
   ]
  },
  {
   "cell_type": "markdown",
   "id": "15043aad-7f39-45c2-b4b6-676ae0749b7c",
   "metadata": {},
   "source": [
    "### Пример: проверка, что IP адрес правильный"
   ]
  },
  {
   "cell_type": "code",
   "execution_count": 105,
   "id": "9a455fb0-7f94-480f-950d-f49752477ac3",
   "metadata": {},
   "outputs": [
    {
     "name": "stdout",
     "output_type": "stream",
     "text": [
      "[192, 168, 1, 3]\n",
      "192.168.1.3 True\n",
      "[255, 255, 255, 0]\n",
      "255.255.255.0 True\n",
      "[192, 168, 13]\n",
      "192.168.13 False\n",
      "[192, 268, 1, 3]\n",
      "192.268.1.3 False\n"
     ]
    }
   ],
   "source": [
    "# 192.168.1.3\n",
    "def is_valid_ip(text):\n",
    "    a = list(map(int, text.split('.')))\n",
    "    print(a)\n",
    "    if len(a) != 4:\n",
    "        return False\n",
    "    for x in a:\n",
    "        if x < 0 or x > 255:\n",
    "            return False\n",
    "    return True\n",
    "\n",
    "ip = '192.168.1.3'\n",
    "print(ip, is_valid_ip(ip))\n",
    "ip = '255.255.255.0'\n",
    "print(ip, is_valid_ip(ip))\n",
    "ip = '192.168.13'\n",
    "print(ip, is_valid_ip(ip))\n",
    "ip = '192.268.1.3'\n",
    "print(ip, is_valid_ip(ip))\n"
   ]
  },
  {
   "cell_type": "markdown",
   "id": "4d82cff3-0f88-4dd1-8f0c-6914681ed0bb",
   "metadata": {},
   "source": [
    "# Сортировка"
   ]
  },
  {
   "cell_type": "markdown",
   "id": "6c5e3a6d-e464-474a-8168-712b7447ad5d",
   "metadata": {},
   "source": [
    "## Сравниваем числа и строки\n",
    "\n",
    "Чтобы отсортировать объекты, для них нужно знать какой из них больше, какой меньше.\n",
    "\n",
    "**Числа** сравнивают как числа:\n",
    "```python\n",
    "3 > 1\n",
    "-3.5 < 5.24\n",
    "-1 < 1.5\n",
    "```\n",
    "\n",
    "**Строки** сравнивают, как слова в словаре. Какое слово в словаре идет раньше, то и меньше. \n",
    "\n",
    "Сравнивают по символам, начиная с первого. Нет символа меньше любого символа.\n",
    "```python\n",
    "'Abc' < 'abc'\n",
    "'ABC' < 'C' < 'Pascal' < 'Python'\n",
    "```"
   ]
  },
  {
   "cell_type": "markdown",
   "id": "f4363e77-fac7-4bc3-a904-ba446611026e",
   "metadata": {},
   "source": [
    "## Сравниваем коллекции\n",
    "\n",
    "**Списки (list)** и кортежи (tuple) сравнивают по элементам.\n",
    "```python\n",
    "(1, 2, 3)              < (1, 2, 4)\n",
    "[1, 2, 3]              < [1, 2, 4]\n",
    "(1, 2, 3, 4)           < (1, 2, 4)\n",
    "(1, 2)                 < (1, 2, -1)\n",
    "(1, 2, 3)             == (1.0, 2.0, 3.0)\n",
    "(1, 2, ('aa', 'ab'))   < (1, 2, ('abc', 'a'), 4)\n",
    "```\n",
    "Сравним `(1, 2, ('aa', 'ab'))` и `(1, 2, ('abc', 'a'), 4)`\n",
    "\n",
    "* 1 == 1, берем следующий.\n",
    "* 2 == 2, берем следующий\n",
    "* сравниваем `('aa', 'ab')` и `('abc', 'a')` - это tuple, сравниваем по элементам\n",
    "    * сравниваем `'aa'` и `'abc'`\n",
    "        * `a==a`\n",
    "        * `a < b` значит `'aa' < 'abc'`\n",
    "    * значит `('aa', 'ab') < ('abc', 'a')`\n",
    "* значит `(1, 2, ('aa', 'ab'))  < (1, 2, ('abc', 'a'), 4)`    \n"
   ]
  },
  {
   "cell_type": "markdown",
   "id": "1ace7d06-eba6-406c-9f19-d7aa17dcd700",
   "metadata": {},
   "source": [
    "## Функции sort и sorted\n",
    "\n",
    "Для сортировки используют стандартные функции **sort** (сортировка списка) \n",
    "и **sorted** (сортировка последовательности).\n",
    "\n",
    "* список.**sort**(key=None, reverse=False) - стабильная сортировка самого списка\n",
    "* **sorted**(iterable, key=None, reverse=False) - из iterable создается новый отсортированный список, старый остается без изменения.\n",
    "\n",
    "*iterable* - все, что можно перебрать через for. Это list, str, map, tuple и другие.\n",
    "\n",
    "По умолчанию используются стандартные операторы сравнения и сортирует **по возрастанию**.\n",
    "\n",
    "Для сортировки по убыванию нужно **reverse=True**. По умолчанию `reverse=False` и сортировка по убыванию.\n",
    "\n",
    "```python\n",
    "a = [3, 6, 8, 2, 78, 1, 23, 45, 9]\n",
    "\n",
    "b = sorted(a)  # создали новый список b\n",
    "print(a)       # [3, 6, 8, 2, 78, 1, 23, 45, 9] старый список без изменения\n",
    "print(b)       # [1, 2, 3, 6, 8, 9, 23, 45, 78] печатаем новый список\n",
    "\n",
    "a.sort()       # отсортировали список a\n",
    "print(a)       # [1, 2, 3, 6, 8, 9, 23, 45, 78] отсортировали старый список\n",
    "```\n"
   ]
  },
  {
   "cell_type": "markdown",
   "id": "5fdd19e6-055a-49e3-9759-6f2f17d6bd3b",
   "metadata": {},
   "source": [
    "## key=функция - как сравнивать объекты\n",
    "\n",
    "* **список.sort(key=None, reverse=False)** - стабильная сортировка самого списка\n",
    "* **sorted(iterable, key=None, reverse=False)** - из iterable создается новый отсортированный список, старый остается без изменения.\n",
    "\n",
    "Параметр **key=функция** - как сравнивать объекты.\n",
    "\n",
    "Функция **abs(x)** возвращает $|x|$. Это встроенная функция, как `len()`. Для нее не нужно `import`.\n",
    "\n",
    "Отсортируем числа по возрастанию *модуля* числа:\n",
    "\n",
    "```python\n",
    "a = [3, 6, -8, 2, -78, 1, 23, -45, 9]\n",
    "\n",
    "b = sorted(a, key=abs)\n",
    "print(a)       # [3, 6, -8, 2, -78, 1, 23, -45, 9]\n",
    "print(b)       # [1, 2, 3, 6, -8, 9, 23, -45, -78]\n",
    "\n",
    "a.sort(key=abs)\n",
    "print(a)       # [1, 2, 3, 6, -8, 9, 23, -45, -78]\n",
    "```\n"
   ]
  },
  {
   "cell_type": "code",
   "execution_count": 154,
   "id": "14460b01-893f-430e-9949-4d8ae61a54dd",
   "metadata": {},
   "outputs": [
    {
     "data": {
      "text/plain": [
       "[23, 9, 6, 3, 2, 1, -8, -45, -78]"
      ]
     },
     "execution_count": 154,
     "metadata": {},
     "output_type": "execute_result"
    }
   ],
   "source": [
    "a = [3, 6, -8, 2, -78, 1, 23, -45, 9]\n",
    "sorted(a, reverse=True)"
   ]
  },
  {
   "cell_type": "markdown",
   "id": "58ab2f68-ed66-4e1a-b0eb-bae47f35c29f",
   "metadata": {},
   "source": [
    "## Отсортируем строки по длине\n",
    "\n",
    "Отсортируем строки по длине. Длину строки вычисляет функция **len(s)**.\n",
    "\n",
    "```python\n",
    "text = ['ccc', 'aaaa', 'd', 'bb']   # ['ccc', 'aaaa', 'd', 'bb']\n",
    "print sorted(text, key=len)         # ['d', 'bb', 'ccc', 'aaaa']\n",
    "```\n",
    "Как это работает?\n",
    "\n",
    "Функция должна принимать 1 аргумент (value) и возвращать 1 значение (proxy value).\n",
    "\n",
    "Как сортируем с ключевой функцией:\n",
    "\n",
    "* по списку value вычисляем список proxy value\n",
    "* сортируем список proxy value\n",
    "* по отсортированным proxy value ставим на место value.\n",
    "\n",
    "![](https://stepik.org/media/attachments/lesson/496941/sorted-key.png)\n"
   ]
  },
  {
   "cell_type": "markdown",
   "id": "be3d5ef0-961b-42dd-a6a8-f9a04c6a1b27",
   "metadata": {},
   "source": [
    "## Сортировка строк без учета регистра\n",
    "\n",
    "Отсортируем список строк БЕЗ учета регистра. Для этого будем сортировать строки, которые приведены к нижнему регистру.\n",
    "\n",
    "Приводит к нижнему регистру метод **lower** класса **str**. Пишем полное имя функции **str.lower**.\n"
   ]
  },
  {
   "cell_type": "code",
   "execution_count": 109,
   "id": "93f10a81-91c6-490d-b625-eee27cfee944",
   "metadata": {},
   "outputs": [
    {
     "name": "stdout",
     "output_type": "stream",
     "text": [
      "['BB', 'CC', 'aa', 'zz']\n",
      "['aa', 'BB', 'CC', 'zz']\n"
     ]
    }
   ],
   "source": [
    "strs = ['aa', 'BB', 'zz', 'CC']\n",
    "print(sorted(strs))                  # ['BB', 'CC', 'aa', 'zz'] (case sensitive)\n",
    "print(sorted(strs, key=str.lower))   # ['aa', 'BB', 'CC', 'zz']\n"
   ]
  },
  {
   "cell_type": "markdown",
   "id": "be6b8f58-38e4-4845-9bc3-6c9b388390c2",
   "metadata": {},
   "source": [
    "## Сортировка разнотипных объектов\n",
    "\n",
    "Сравнивать данные разных типов нельзя. Получим ошибку.\n",
    "```\n",
    ">>> 3 < \"5\"\n",
    "Traceback (most recent call last):\n",
    "  File \"<stdin>\", line 1, in <module>\n",
    "TypeError: '<' not supported between instances of 'int' and 'str'\n",
    "```\n",
    "Значит, сортировать их тоже нельзя.\n",
    "\n",
    "Есть\n",
    "```python\n",
    "a = [\"1.3\", 7.5, \"5\", 4, \"2.4\", 1]\n",
    "```\n",
    "Что делать? Сделаем их одинаковым типом `float`.\n",
    "```python\n",
    "a = [float(\"1.3\"), float(7.5), float(\"5\"), float(4), float(\"2.4\"), float(1)]\n",
    "```\n",
    "можно это сделать при сортировке:\n",
    "```python\n",
    "sorted([\"1.3\", 7.5, \"5\", 4, \"2.4\", 1], key=float)\n",
    "```\n"
   ]
  },
  {
   "cell_type": "code",
   "execution_count": 110,
   "id": "881141dd-1086-42ee-a2f0-d619367470e3",
   "metadata": {},
   "outputs": [
    {
     "data": {
      "text/plain": [
       "[1, '1.3', '2.4', 4, '5', 7.5]"
      ]
     },
     "execution_count": 110,
     "metadata": {},
     "output_type": "execute_result"
    }
   ],
   "source": [
    "sorted([\"1.3\", 7.5, \"5\", 4, \"2.4\", 1], key=float)"
   ]
  },
  {
   "cell_type": "markdown",
   "id": "96989269-360c-4795-ba4c-e99a4fa6940e",
   "metadata": {},
   "source": [
    "## Напишем свою функцию сравнения\n",
    "\n",
    "Есть список строк. Нужно отсортировать строки по **последней букве**.\n",
    "\n",
    "Функции \"взять последнюю букву\" нет. Надо написать ее самим. key function должна брать 1 строку и возвращать 1 значение, по которому будем сортировать. У нас функция должна вернуть последнюю букву.\n"
   ]
  },
  {
   "cell_type": "code",
   "execution_count": 111,
   "id": "c930ab3f-ff0f-47a6-90b3-658e4d202dba",
   "metadata": {},
   "outputs": [
    {
     "data": {
      "text/plain": [
       "['wa', 'zb', 'xc', 'yd']"
      ]
     },
     "execution_count": 111,
     "metadata": {},
     "output_type": "execute_result"
    }
   ],
   "source": [
    "strs = ['xc', 'zb', 'yd' ,'wa']\n",
    "\n",
    "# возвращает последний символ строки\n",
    "def last_letter(s):\n",
    "    return s[-1]\n",
    "\n",
    "# сортирует список строк только по последним буквам\n",
    "b = sorted(strs, key=last_letter)  ## ['wa', 'zb', 'xc', 'yd']\n",
    "b"
   ]
  },
  {
   "cell_type": "markdown",
   "id": "f2a0a1c9-6148-4ca1-94aa-8d17a63a184d",
   "metadata": {},
   "source": [
    "## Сортируем по росту и весу\n",
    "\n",
    "Даны рост (см) и вес (кг) каждого человека. Отсортируем людей.\n"
   ]
  },
  {
   "cell_type": "code",
   "execution_count": 112,
   "id": "c70ef639-e834-45cc-8a06-f1f2b9076d16",
   "metadata": {},
   "outputs": [
    {
     "name": "stdout",
     "output_type": "stream",
     "text": [
      "[(166, 55.2), (157, 55.2), (170, 55.2), (175, 90), (166, 73), (180, 73)]\n",
      "[(157, 55.2), (166, 55.2), (166, 73), (170, 55.2), (175, 90), (180, 73)]\n"
     ]
    }
   ],
   "source": [
    "a = [(166, 55.2), (157, 55.2), (170, 55.2), (175, 90), (166, 73), (180, 73)]\n",
    "print(a)\n",
    "\n",
    "b = sorted(a)\n",
    "print(b)    # [(157, 55.2), (166, 55.2), (166, 73), (170, 55.2), (175, 90), (180, 73)]\n"
   ]
  },
  {
   "cell_type": "markdown",
   "id": "94b44d67-bb33-4288-9f40-8238d6cade1f",
   "metadata": {},
   "source": [
    "Вспомним, как сравниваются составные объекты. Сначала первые элементы, потом вторые и дальше. У нас сначала рост. Если рост одинаковый, то сравниваем вес.\n",
    "\n",
    "Хотим сравнить только по весу. Как? Напишем функцию, которая будет брать 1 человека и возвращать 1 число вес человека. Отсортируем список с этой функцией.\n"
   ]
  },
  {
   "cell_type": "code",
   "execution_count": 113,
   "id": "d26414ff-921d-48c4-8d72-cbb7bfdc5d78",
   "metadata": {},
   "outputs": [
    {
     "name": "stdout",
     "output_type": "stream",
     "text": [
      "[(166, 55.2), (157, 55.2), (170, 55.2), (166, 73), (180, 73), (175, 90)]\n"
     ]
    }
   ],
   "source": [
    "def weight(t):\n",
    "    # h, w = t\n",
    "    h = t[0]\n",
    "    w = t[1]\n",
    "    return w  # или return t[1]\n",
    "\n",
    "b = sorted(a, key=weight)\n",
    "print(b)\n"
   ]
  },
  {
   "cell_type": "markdown",
   "id": "0ece4ab3-fbcc-45af-bd7e-5bd05c37f01f",
   "metadata": {},
   "source": [
    "**Стабильная сортировка** - при одинаковых сравниваемых значениях, взаимное расположение элементов остается тем же.\n",
    "\n",
    "То есть если в списке а при **одинаковом весе** 55.2 был сначала человек (166, 55.2), потом (157, 55.2), потом (170, 55.2). То в отсортированном массиве их **взаимный порядок не изменится**.\n",
    "\n",
    "Заметим, что люди с одинаковым весом идут в том же порядке, что и в списке до сортировки: при весе 55.2 сначала 166, потом 157. При весе 73 сначала 166, потом 180.\n",
    "\n",
    "Сортировка в питоне стабильная, то есть равные по одному признаку элементы будут идти в том же порядке, что и до сортировки.\n"
   ]
  },
  {
   "cell_type": "markdown",
   "id": "31dba2a0-d1d9-41c0-b5b3-c4346651c730",
   "metadata": {},
   "source": [
    "## Сортировка по убыванию веса\n",
    "\n",
    "Отсортируем по весу по убыванию. Не будем использовать `reverse = True`, сделаем это через функцию.\n"
   ]
  },
  {
   "cell_type": "code",
   "execution_count": 114,
   "id": "53cdc3e2-6e27-4e56-be9b-f369d625e860",
   "metadata": {},
   "outputs": [
    {
     "name": "stdout",
     "output_type": "stream",
     "text": [
      "[(175, 90), (166, 73), (180, 73), (166, 55.2), (157, 55.2), (170, 55.2)]\n"
     ]
    }
   ],
   "source": [
    "def weight_decr(t):\n",
    "    h, w = t\n",
    "    return -w  # или return -t[1]\n",
    "\n",
    "b = sorted(a, key=weight_decr)\n",
    "print(b)\n"
   ]
  },
  {
   "cell_type": "markdown",
   "id": "1724404b-8b25-4c74-b453-a8ea19ad4ef5",
   "metadata": {},
   "source": [
    "## Сложный критерий\n",
    "\n",
    "Отсортируем по весу (по возрастанию), а при равном весе - по росту (по возрастанию).\n",
    "\n",
    "Для этого в функции, которая возвращает proxy values вернём 1 tuple, в котором все критерии сортировки (вес, рост).\n"
   ]
  },
  {
   "cell_type": "code",
   "execution_count": 115,
   "id": "af8d7f9e-5876-42a2-ae22-63aa65c5ecc7",
   "metadata": {},
   "outputs": [
    {
     "name": "stdout",
     "output_type": "stream",
     "text": [
      "[(157, 55.2), (166, 55.2), (170, 55.2), (166, 73), (180, 73), (175, 90)]\n"
     ]
    }
   ],
   "source": [
    "def wh1(t):\n",
    "    h, w = t\n",
    "    return (w, h)  # обязательно возвратить tuple, главное вес, потом рост\n",
    "\n",
    "b = sorted(a, key=wh1)\n",
    "print(b)\n"
   ]
  },
  {
   "cell_type": "markdown",
   "id": "d87d2c15-84f1-4501-9b88-10509b675cee",
   "metadata": {},
   "source": [
    "## По возрастанию и убыванию\n",
    "\n",
    "Как отсортировать **по возрастанию** веса и при равном весе **по убыванию** роста?\n"
   ]
  },
  {
   "cell_type": "code",
   "execution_count": 116,
   "id": "f48b7c99-e3cb-4d2f-bb44-fa3437586dda",
   "metadata": {},
   "outputs": [
    {
     "name": "stdout",
     "output_type": "stream",
     "text": [
      "[(170, 55.2), (166, 55.2), (157, 55.2), (180, 73), (166, 73), (175, 90)]\n"
     ]
    }
   ],
   "source": [
    "def wh2(t):\n",
    "    h, w = t\n",
    "    return (w, -h)  # обязательно возвратить tuple, главное вес, потом рост\n",
    "\n",
    "b = sorted(a, key=wh2)\n",
    "print(b)\n"
   ]
  },
  {
   "cell_type": "code",
   "execution_count": null,
   "id": "2e7d1269-3809-45c9-b7fc-2a8468cc5339",
   "metadata": {},
   "outputs": [],
   "source": []
  }
 ],
 "metadata": {
  "kernelspec": {
   "display_name": "Python 3 (ipykernel)",
   "language": "python",
   "name": "python3"
  },
  "language_info": {
   "codemirror_mode": {
    "name": "ipython",
    "version": 3
   },
   "file_extension": ".py",
   "mimetype": "text/x-python",
   "name": "python",
   "nbconvert_exporter": "python",
   "pygments_lexer": "ipython3",
   "version": "3.10.2"
  }
 },
 "nbformat": 4,
 "nbformat_minor": 5
}
