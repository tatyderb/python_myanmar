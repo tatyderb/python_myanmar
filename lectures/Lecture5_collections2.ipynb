{
 "cells": [
  {
   "cell_type": "markdown",
   "id": "96871f22-7990-412c-aefa-f53f5e7c50a7",
   "metadata": {},
   "source": [
    "# Множество (set)\n",
    "\n",
    "* **set** - множество. В нем нет одинаковых элементов. Его можно изменять.\n",
    "\n",
    "* **frozenset** - множество. В нем нет одинаковых элементов. Его НЕЛЬЗЯ изменять.\n",
    "\n",
    "**Порядок перебора элементов множества не определен.**\n",
    "\n",
    "То есть в множестве определены операции **in**, **len**, возможен перебор **for .. in**, но нельзя взять i-тый элемент.\n",
    "\n",
    "Можно взять `enumerate(a)`, но порядок перебора может быть разный."
   ]
  },
  {
   "cell_type": "markdown",
   "id": "86f2c984-9290-471e-899a-65a3f56c60d1",
   "metadata": {},
   "source": [
    "## Создание множества\n",
    "\n",
    "Множество пишем в {  }.\n",
    "\n",
    "Пустое множество:\n",
    "```python\r\n",
    "a = set()   # только так\n",
    "a = {}      # это НЕ множество, это словарь\r\n",
    "```\n",
    "\n",
    "Создаем множество:\n",
    "```python\r\n",
    "a = [1, 5, 17, 5, -22, 4, 4, 4]   # сделали list\n",
    "print(a)                          # 1 5 17 5 -22 4 4 4\n",
    "b = set(a)                        # сделали set из list\n",
    "print(b)                          # 1 5 17 -22 4\n",
    "c = {1, 5, 17, 5, -22, 4, 4, 4}   # сделали set\n",
    "print(c)                          # 1 5 17 -22 4\r\n",
    "```"
   ]
  },
  {
   "cell_type": "markdown",
   "id": "785b3108-59dc-4743-b7ea-55ff883a61a7",
   "metadata": {},
   "source": [
    "## Что может быть элементом множества?\n",
    "\n",
    "Только хешируемый объект. Т.е. объект, для которого определена функция **\\_\\_hash\\_\\_()** - она возвращает все время одно и то же значение на протяжении всей жизни объекта. Эти объекты можно сравнить на равенство, используя **\\_\\_eq\\_\\_()**\n",
    "\n",
    "* int, float, str, tuple, frozenset - хешируемые объекты, могут быть добавлены в множество;\n",
    "* list, dict, set - нехэшируемые, так как значение хеша зависит от значений их элементов (а они могут изменяться).\n",
    "\n",
    "Хешируемый != неизменный. Объект класса Person может быть хешируемым, если в классе определена фукнция \\_\\_hash\\_\\_(). Она может возвращать, например, СНИЛС человека или любой другой его неизменяемый идентификатор.\n",
    "При этом данные о человеке могут меняться (например, смена фамилии).\n"
   ]
  },
  {
   "cell_type": "markdown",
   "id": "51a957fa-0da5-45dc-bb9c-e6f1137f9751",
   "metadata": {},
   "source": [
    "## Методы множества\n",
    "\n",
    "```python\r\n",
    "a = {1, 3, 5, 11, 12, 13}\n",
    "b = {5, 1, 3, 21, 22, 23}\n",
    "c = {1, 3, 5}\n",
    "d = {3, 1, 5}\n",
    "w = {2, 8}\r\n",
    "```\n",
    "| Операция | Значение | Результат |\n",
    "|---|-----|---|\n",
    "| a.add(7) | добавить 7 в множество a | |\n",
    "| a.remove\\(5\\) | удалить 5 из a (если нет, KeyError exception)|{1, 3, 11, 12, 13}|\n",
    "| a.discard\\(5\\) | удалить 5 из a если элемент есть |{1, 3, 11, 12, 13}|\n",
    "| a.pop() | удаляет случайный элемент из множества (или KeyError, если множество пустое) | |\n",
    "| a.clear() | удалить все элементы из а | |\n",
    "| a.copy() | копия множества | |\n",
    "| len(a) | число элементов в множестве | 6 |\n",
    "| x in a | элемент х в множестве а | |\n",
    "| x not in a | элемент х НЕ в множестве а | |\n",
    "| a.**isdisjoint**(w) | True, если у множеств нет общих элементов | |\n",
    "| c == d | множества с и d равны | |\n",
    "| с &lt; a | c содержится в множестве a, но не равно ему | |\n",
    "| c.issubset(a)<br/>с &lt;= a | c содержится в множестве a  | |\n",
    "| a &gt; c | a содержит в себе c | |\n",
    "| a.issuperset(c)<br/>a &gt;= c | a содержит в себе c, но не равно ему | |\n",
    "| a.union(b)<br/>a &#124; b | объединение множеств (новое) | {1, 3, 5, 11, 12, 13, 21, 22, 23}|\n",
    "| a.update(b)<br/>a &#124;= b | объединение множеств (изменяется а) | {1, 3, 5, 11, 12, 13, 21, 22, 23}|\n",
    "| a.intersection(b)<br/>a &amp; b | пересечение множеств (новое) | {1, 3, 5} |\n",
    "| a.intersection_update(b)<br/>a &amp;= b | оставляет во множестве а пересечение множеств а и b | {1, 3, 5} |\n",
    "| a.difference(c)<br/>a - c | вычитание (новое множество) | {11, 12, 13} |\n",
    "| a.difference_update(c)<br/>a -= c | удаляет из множества а все элементы, которые присутствуют в с | a = {11, 12, 13} |\n",
    "| a.symmetric_difference(b)<br/>a ^ b | XOR (новое множество) | {11, 12, 13, 21, 22, 23} |\n",
    "| a.symmetric_difference_update(b)<br/>a ^= b | XOR (изменяем а) | {11, 12, 13, 21, 22, 23} |\n"
   ]
  },
  {
   "cell_type": "markdown",
   "id": "b631db64-de08-4b57-8ecd-73d653372880",
   "metadata": {},
   "source": [
    "Применение множеств:\n",
    "* убрать повторения;\n",
    "* список уже обработанных имен и \"уже обрабатывали?\"\n",
    "\n",
    "Если нет аргументов командной строки или указаны -h или --help:\n",
    "```python\r\n",
    "if len(sys.argv) == 1 or sys.argv[1] in {\"-h\", \"--help\"}\r\n",
    "```\n"
   ]
  },
  {
   "cell_type": "markdown",
   "id": "47929c4c-0525-40b4-8c15-23abcd194972",
   "metadata": {},
   "source": [
    "# Словарь (dict)\n",
    "\n",
    "## Зачем нужны словари?\n",
    "\n",
    "Если есть список дней недели, то мы по _номеру_ дня недели быстро получаем название дня недели.\n",
    "\n",
    "Хотим решить обратную задачу - по строке названия дня недели получать его номер. Хотим решать быстрее, чем index.\n",
    "\n",
    "Нужно получить пары \"название дня недели\" - \"номер дня недели\".\n",
    "\n",
    "## Термины\n",
    "\n",
    "**Словарь** - неупорядоченная коллекция пар ключ-значение.\n",
    "\n",
    "* Неупорядоченная - значит порядок перебора не определен, нет понятие i-того элемента или среза.\n",
    "\n",
    "* Ключ - **хешируемый** объект. Ключи **Уникальные**.\n",
    "\n",
    "* Значение - любой объект.\n"
   ]
  },
  {
   "cell_type": "code",
   "execution_count": 2,
   "id": "5ebda24d-8af3-4a54-9ea5-7b1909ac1827",
   "metadata": {},
   "outputs": [
    {
     "data": {
      "text/plain": [
       "'Пятница'"
      ]
     },
     "execution_count": 2,
     "metadata": {},
     "output_type": "execute_result"
    }
   ],
   "source": [
    "weekdays = [None, 'Понедельник', 'Вторник', 'Среда', 'Четверг', 'Пятница', 'Суббота', 'Воскресенье']\n",
    "weekdays[5]"
   ]
  },
  {
   "cell_type": "code",
   "execution_count": 3,
   "id": "b9ee8aea-6a0e-49be-bc93-a701f10eef08",
   "metadata": {},
   "outputs": [
    {
     "data": {
      "text/plain": [
       "5"
      ]
     },
     "execution_count": 3,
     "metadata": {},
     "output_type": "execute_result"
    }
   ],
   "source": [
    "weekday_index = {\n",
    "    'Понедельник': 1, \n",
    "    'Вторник': 2, \n",
    "    'Среда': 3, \n",
    "    'Четверг': 4, \n",
    "    'Пятница': 5, \n",
    "    'Суббота': 6, \n",
    "    'Воскресенье': 7\n",
    "}\n",
    "weekday_index['Пятница']"
   ]
  },
  {
   "cell_type": "markdown",
   "id": "8cc12bc1-2f37-428a-853a-942b455bfd88",
   "metadata": {},
   "source": [
    "* Создание в { }\n",
    "* Обращение к элементу в []"
   ]
  },
  {
   "cell_type": "markdown",
   "id": "3fe7745a-c451-4934-b56d-f9dbf763905b",
   "metadata": {},
   "source": [
    "## Создание словаря\n",
    "\n",
    "Пустой словарь:\n",
    "```python\r\n",
    "d1 = dict()\n",
    "d2 = {}     # это словарь, а не множество\r\n",
    "```\n",
    "Непустой словарь:\n",
    "**dict(d)** - shallow copy словаря d.\n",
    "\n",
    "```python\r\n",
    "d1 = dict({\"id\": 1948, \"name\": \"Washer\", \"size\": 3})        # литерал словаря\n",
    "d2 = dict(id=1948, name=\"Washer\", size=3)                   # именованные аргументы\n",
    "d3 = dict([(\"id\", 1948), (\"name\", \"Washer\"), (\"size\", 3)])  # из последовательности\n",
    "d4 = dict(zip((\"id\", \"name\", \"size\"), (1948, \"Washer\", 3))) # из последовательности\n",
    "d5 = {\"id\": 1948, \"name\": \"Washer\", \"size\": 3}              # из литерала словаря\r\n",
    "```\n"
   ]
  },
  {
   "cell_type": "code",
   "execution_count": 5,
   "id": "2d69f050-1c6b-488d-9494-4ea645f1a2ed",
   "metadata": {},
   "outputs": [
    {
     "data": {
      "text/plain": [
       "{'Russia': 'Moscow', 'Ukraine': 'Kiev', 'USA': 'Washington'}"
      ]
     },
     "execution_count": 5,
     "metadata": {},
     "output_type": "execute_result"
    }
   ],
   "source": [
    "capitals = {'Russia': 'Moscow', 'Ukraine': 'Kiev', 'USA': 'Washington', 'Myanmar':'Naypyidaw', 'Mongolia':'Ulaanbaatar', 'China':'Beijing'}\n",
    "capitals = dict(Russia = 'Moscow', Ukraine = 'Kiev', USA = 'Washington', )\n",
    "capitals = dict([(\"Russia\", \"Moscow\"), (\"Ukraine\", \"Kiev\"), (\"USA\", \"Washington\")])\n",
    "capitals = dict(zip([\"Russia\", \"Ukraine\", \"USA\"], [\"Moscow\", \"Kiev\", \"Washington\"]))\n",
    "capitals"
   ]
  },
  {
   "cell_type": "code",
   "execution_count": 7,
   "id": "66da63ba-56c0-4bb5-8550-583e421c100c",
   "metadata": {},
   "outputs": [],
   "source": [
    "# пишем красиво\n",
    "capitals = {\n",
    "    'Russia': 'Moscow', \n",
    "    'Ukraine': 'Kiev', \n",
    "    'USA': 'Washington', \n",
    "    'Myanmar':'Naypyidaw', \n",
    "    'Mongolia':'Ulaanbaatar', \n",
    "    'China':'Beijing'\n",
    "}"
   ]
  },
  {
   "cell_type": "markdown",
   "id": "b1b7ba6b-eb08-4ed6-a620-961263e06494",
   "metadata": {},
   "source": [
    "**d.fromkeys(s, v)** - Возвращает словарь типа dict, ключами которого являются элементы последовательности s, а значениями либо None, либо v, если аргумент v определен.\n"
   ]
  },
  {
   "cell_type": "code",
   "execution_count": 9,
   "id": "1652ceef-950e-4ebb-a476-1a83780165ca",
   "metadata": {},
   "outputs": [],
   "source": [
    "d = {}.fromkeys (\"ABCD\", 3) # d == {'A': 3, 'B': 3, 'C': 3, 'D': 3}"
   ]
  },
  {
   "cell_type": "markdown",
   "id": "fe72e6fc-14c3-45e6-bf0b-9b26258c0c9b",
   "metadata": {},
   "source": [
    "## dict comprehensions"
   ]
  },
  {
   "cell_type": "code",
   "execution_count": 13,
   "id": "ac3dcf0e-b403-4300-a27e-d24385ac2061",
   "metadata": {},
   "outputs": [],
   "source": [
    "# словарь квадратов чисел\n",
    "square1 = {x : x*x for x in range(10) }                             # dict comprehensions \n",
    "square2 = {0:0, 1:1, 2:4, 3:9, 4:16, 5:25, 6:36, 7:49, 8:64, 9:81}  # задаем явно пары ключ=значение"
   ]
  },
  {
   "cell_type": "code",
   "execution_count": 33,
   "id": "924a95d1-0f92-45ee-a1ff-63c50f623516",
   "metadata": {},
   "outputs": [
    {
     "data": {
      "text/plain": [
       "{'Russia': 'Moscow',\n",
       " 'Ukraine': 'Kiev',\n",
       " 'USA': 'Washington',\n",
       " 'Belarus': 'Minsk'}"
      ]
     },
     "execution_count": 33,
     "metadata": {},
     "output_type": "execute_result"
    }
   ],
   "source": [
    "cities = [\"Moscow\", \"Kiev\", \"Washington\", \"Minsk\"]\n",
    "states = [\"Russia\", \"Ukraine\", \"USA\", \"Belarus\"]\n",
    "capitalsOfState = {state: city for city, state in zip(cities, states)}\n",
    "capitalsOfState"
   ]
  },
  {
   "cell_type": "markdown",
   "id": "17c72c69-dad5-4118-a842-8a857f021e41",
   "metadata": {},
   "source": [
    "## Перебор элементов словаря"
   ]
  },
  {
   "cell_type": "code",
   "execution_count": 34,
   "id": "af4d14fb-19ae-4d46-867d-226a9ca56548",
   "metadata": {},
   "outputs": [
    {
     "name": "stdout",
     "output_type": "stream",
     "text": [
      "{'Russia': 'Moscow', 'Ukraine': 'Kiev', 'USA': 'Washington', 'Belarus': 'Minsk'}\n",
      "dict_keys(['Russia', 'Ukraine', 'USA', 'Belarus'])\n",
      "dict_values(['Moscow', 'Kiev', 'Washington', 'Minsk'])\n",
      "dict_items([('Russia', 'Moscow'), ('Ukraine', 'Kiev'), ('USA', 'Washington'), ('Belarus', 'Minsk')])\n"
     ]
    }
   ],
   "source": [
    "print(capitalsOfState)\n",
    "print(capitalsOfState.keys())\n",
    "print(capitalsOfState.values())\n",
    "print(capitalsOfState.items())"
   ]
  },
  {
   "cell_type": "code",
   "execution_count": 35,
   "id": "b9ab3184-1b85-47e5-b14b-b678bd61cd40",
   "metadata": {},
   "outputs": [
    {
     "name": "stdout",
     "output_type": "stream",
     "text": [
      "Moscow in Russia, Kiev in Ukraine, Washington in USA, Minsk in Belarus, "
     ]
    }
   ],
   "source": [
    "for x in capitalsOfState:\n",
    "    print(f'{capitalsOfState[x]} in {x}', end=', ')"
   ]
  },
  {
   "cell_type": "code",
   "execution_count": 36,
   "id": "59d10c92-3140-4318-9160-ab31099eb0f2",
   "metadata": {},
   "outputs": [
    {
     "name": "stdout",
     "output_type": "stream",
     "text": [
      "Moscow in Russia, Kiev in Ukraine, Washington in USA, Minsk in Belarus, "
     ]
    }
   ],
   "source": [
    "for x in capitalsOfState.keys():\n",
    "    print(f'{capitalsOfState[x]} in {x}', end=', ')"
   ]
  },
  {
   "cell_type": "code",
   "execution_count": 37,
   "id": "e645b238-38d7-499a-bf09-84525562d507",
   "metadata": {},
   "outputs": [
    {
     "name": "stdout",
     "output_type": "stream",
     "text": [
      "Minsk in Belarus, Moscow in Russia, Washington in USA, Kiev in Ukraine, "
     ]
    }
   ],
   "source": [
    "# отсортировав по ключам\n",
    "for x in sorted(capitalsOfState.keys()):\n",
    "    print(f'{capitalsOfState[x]} in {x}', end=', ')"
   ]
  },
  {
   "cell_type": "code",
   "execution_count": 38,
   "id": "550e9f61-706d-4f4d-b559-7397775de5cb",
   "metadata": {},
   "outputs": [
    {
     "name": "stdout",
     "output_type": "stream",
     "text": [
      "Moscow, Kiev, Washington, Minsk, "
     ]
    }
   ],
   "source": [
    "for x in capitalsOfState.values():\n",
    "    print(x, end=', ')"
   ]
  },
  {
   "cell_type": "code",
   "execution_count": 39,
   "id": "b1af9dfe-b747-4672-8770-42baf9bc6e0d",
   "metadata": {},
   "outputs": [
    {
     "name": "stdout",
     "output_type": "stream",
     "text": [
      "Russia:Moscow, Ukraine:Kiev, USA:Washington, Belarus:Minsk, "
     ]
    }
   ],
   "source": [
    "for k, v in capitalsOfState.items():\n",
    "    print(f'{k}:{v}', end=', ')"
   ]
  },
  {
   "cell_type": "code",
   "execution_count": 40,
   "id": "212baf15-e37a-462e-8ca6-cc74ed899eac",
   "metadata": {},
   "outputs": [
    {
     "name": "stdout",
     "output_type": "stream",
     "text": [
      "Belarus:Minsk, Russia:Moscow, USA:Washington, Ukraine:Kiev, "
     ]
    }
   ],
   "source": [
    "for k, v in sorted(capitalsOfState.items()):\n",
    "    print(f'{k}:{v}', end=', ')"
   ]
  },
  {
   "cell_type": "markdown",
   "id": "c73e6992-2d4c-4d6e-9c81-1c63646e63ad",
   "metadata": {},
   "source": [
    "## Выворачиваем словарь \"наоборот\"\n",
    "\n",
    "По словарю страна:столица строим словарь столица:страна"
   ]
  },
  {
   "cell_type": "code",
   "execution_count": 43,
   "id": "7a47fb53-e6f2-4927-bbf4-f5e71c781bfa",
   "metadata": {},
   "outputs": [
    {
     "data": {
      "text/plain": [
       "{'Moscow': 'Russia',\n",
       " 'Kiev': 'Ukraine',\n",
       " 'Washington': 'USA',\n",
       " 'Minsk': 'Belarus'}"
      ]
     },
     "execution_count": 43,
     "metadata": {},
     "output_type": "execute_result"
    }
   ],
   "source": [
    "stateByCapital = {capitalsOfState[state]: state for state in capitalsOfState}\n",
    "stateByCapital"
   ]
  },
  {
   "cell_type": "code",
   "execution_count": 6,
   "id": "0caf9f4f-a8b8-4377-819f-0603645ef87a",
   "metadata": {},
   "outputs": [
    {
     "name": "stdout",
     "output_type": "stream",
     "text": [
      "{'Russia': 'Moscow', 'Ukraine': 'Kiev', 'USA': 'Washington'}\n"
     ]
    }
   ],
   "source": [
    "from pprint import pprint\n",
    "\n",
    "print(capitals)"
   ]
  },
  {
   "cell_type": "code",
   "execution_count": 44,
   "id": "8d2b398e-0679-4bd9-8767-7d8c0e6ed822",
   "metadata": {},
   "outputs": [
    {
     "data": {
      "text/plain": [
       "{0: 0, 1: 1, 2: 4, 3: 9, 4: 16, 5: 25, 6: 36, 7: 49, 8: 64, 9: 81}"
      ]
     },
     "execution_count": 44,
     "metadata": {},
     "output_type": "execute_result"
    }
   ],
   "source": [
    "square = {x : x*x for x in range(10) }                             # dict comprehensions \n",
    "square"
   ]
  },
  {
   "cell_type": "code",
   "execution_count": 45,
   "id": "73848191-a976-4161-8617-36b06d5c78ba",
   "metadata": {},
   "outputs": [
    {
     "data": {
      "text/plain": [
       "{}"
      ]
     },
     "execution_count": 45,
     "metadata": {},
     "output_type": "execute_result"
    }
   ],
   "source": [
    "# написать по частям, рассказывая как конструируем\n",
    "roots = {}\n",
    "roots"
   ]
  },
  {
   "cell_type": "markdown",
   "id": "a1d6960b-9cee-481a-beb2-f944570d6060",
   "metadata": {},
   "source": [
    "## Методы словарей\n",
    "\n",
    "| Операция | Значение |\n",
    "|--|---|\n",
    "| value = A\\[key\\] | Получение элемента по ключу. Если элемента с заданным ключом в словаре нет, то возникает исключение KeyError |\n",
    "| value = A.get(key) | Получение элемента по ключу. Если элемента в словаре нет, то get возвращает None. |\n",
    "| value = A.get(key, *default_value*) | То же, но вместо None метод get возвращает default_value. |\n",
    "| key in A | Проверить принадлежность ключа словарю. |\n",
    "| key not in A | То же, что not key in A. |\n",
    "| A\\[key\\] = value | Добавление нового элемента в словарь или изменяет старое значение на value |\n",
    "| len(A) | Возвращает количество пар ключ-значение, хранящихся в словаре. |\n",
    "| A.keys() | Возвращает список ключей |\n",
    "| A.values() | Возвращает список значений (порядок в нем такой же, как для списка ключей) |\n",
    "| A.items() | Возвращает список пар ключ, значение |\n"
   ]
  },
  {
   "cell_type": "markdown",
   "id": "518ed5ee-6c59-4a48-84db-6270d54d9a2e",
   "metadata": {},
   "source": [
    "### get и []"
   ]
  },
  {
   "cell_type": "code",
   "execution_count": 48,
   "id": "8f86cea3-e670-4db9-8fa4-ffc0656038ab",
   "metadata": {},
   "outputs": [],
   "source": [
    "# сколько кг фруктов есть в магазине\n",
    "fruits = {'orange': 10, 'banana':16, 'apple': 20, 'grape': 5}"
   ]
  },
  {
   "cell_type": "code",
   "execution_count": 49,
   "id": "be83d8ff-1ff0-4aa9-b620-5e4f82281348",
   "metadata": {},
   "outputs": [
    {
     "data": {
      "text/plain": [
       "16"
      ]
     },
     "execution_count": 49,
     "metadata": {},
     "output_type": "execute_result"
    }
   ],
   "source": [
    "fruits['banana']"
   ]
  },
  {
   "cell_type": "code",
   "execution_count": 50,
   "id": "ba6b7482-e38a-475e-aea4-0947ac5bf0d0",
   "metadata": {},
   "outputs": [
    {
     "data": {
      "text/plain": [
       "16"
      ]
     },
     "execution_count": 50,
     "metadata": {},
     "output_type": "execute_result"
    }
   ],
   "source": [
    "fruits.get('banana')"
   ]
  },
  {
   "cell_type": "markdown",
   "id": "c1b01f16-c4d6-4afb-9945-e317926c5313",
   "metadata": {},
   "source": [
    "Если фрукта в магазине нет, то его 0 кг"
   ]
  },
  {
   "cell_type": "code",
   "execution_count": 51,
   "id": "472be2c5-a5e9-4455-82d0-57ef43bbebc8",
   "metadata": {},
   "outputs": [
    {
     "ename": "KeyError",
     "evalue": "'mango'",
     "output_type": "error",
     "traceback": [
      "\u001b[1;31m---------------------------------------------------------------------------\u001b[0m",
      "\u001b[1;31mKeyError\u001b[0m                                  Traceback (most recent call last)",
      "Cell \u001b[1;32mIn[51], line 1\u001b[0m\n\u001b[1;32m----> 1\u001b[0m \u001b[43mfruits\u001b[49m\u001b[43m[\u001b[49m\u001b[38;5;124;43m'\u001b[39;49m\u001b[38;5;124;43mmango\u001b[39;49m\u001b[38;5;124;43m'\u001b[39;49m\u001b[43m]\u001b[49m\n",
      "\u001b[1;31mKeyError\u001b[0m: 'mango'"
     ]
    }
   ],
   "source": [
    "fruits['mango']"
   ]
  },
  {
   "cell_type": "code",
   "execution_count": 52,
   "id": "85c20066-82af-466f-83ca-fde97395f826",
   "metadata": {},
   "outputs": [
    {
     "name": "stdout",
     "output_type": "stream",
     "text": [
      "0\n"
     ]
    }
   ],
   "source": [
    "x = 'mango'\n",
    "if x in fruits:\n",
    "    print(fruits[x])\n",
    "else:\n",
    "    print(0)\n",
    "    "
   ]
  },
  {
   "cell_type": "code",
   "execution_count": 53,
   "id": "26cc430e-386c-48b6-b47e-626137efe522",
   "metadata": {},
   "outputs": [
    {
     "data": {
      "text/plain": [
       "0"
      ]
     },
     "execution_count": 53,
     "metadata": {},
     "output_type": "execute_result"
    }
   ],
   "source": [
    "fruits.get('mango', 0)"
   ]
  },
  {
   "cell_type": "code",
   "execution_count": 55,
   "id": "1f6643e0-3325-410d-abda-a370dfc72a44",
   "metadata": {},
   "outputs": [
    {
     "name": "stdout",
     "output_type": "stream",
     "text": [
      "None\n"
     ]
    }
   ],
   "source": [
    "print(fruits.get('mango'))"
   ]
  },
  {
   "cell_type": "code",
   "execution_count": 56,
   "id": "27ccff96-fb78-4818-bd3b-aa65faf6ead7",
   "metadata": {},
   "outputs": [
    {
     "data": {
      "text/plain": [
       "'нет в наличии'"
      ]
     },
     "execution_count": 56,
     "metadata": {},
     "output_type": "execute_result"
    }
   ],
   "source": [
    "fruits.get('mango', 'нет в наличии')"
   ]
  },
  {
   "cell_type": "markdown",
   "id": "2d2a0e3b-0857-4b65-b888-84cb02abb3fe",
   "metadata": {},
   "source": [
    "## Тренируемся работать со словарями\n",
    "\n",
    "Словарь фамилия:зарплата в тыс. руб.\n",
    "\n",
    "* Открываем стартап, никого нет, d0\n",
    "* В бригаде работает\n",
    "| фамилия | зарплата |\n",
    "|----|----|\n",
    "| Иванов | 50 |\n",
    "| Петров | 75 |\n",
    "| Сидоров | 63 |\n",
    "\n",
    "* Напечатать зарплатную ведомость\n",
    "* Какая зарплата у Петрова?\n",
    "* Иванову назначить зарплату 54 тыс.\n",
    "* Добавить в бригаду Кузнецова с зарплатой 30\n",
    "* Уволить Сидорова"
   ]
  },
  {
   "cell_type": "code",
   "execution_count": null,
   "id": "fd6f0440-c055-461d-b102-c835002fddf7",
   "metadata": {},
   "outputs": [],
   "source": []
  },
  {
   "cell_type": "markdown",
   "id": "d618c2c9-aa7c-4017-a6fb-9236452fffea",
   "metadata": {},
   "source": [
    "## Фукнции с переменным числом аргументов, *args и **kwargs\n",
    "\n",
    "Вспомним, что при вызове любой функции мы можем указать позиционные и именованные аргументы"
   ]
  },
  {
   "cell_type": "code",
   "execution_count": 92,
   "id": "5b726b0b-3ae9-44d4-b1c9-060024a5d9eb",
   "metadata": {},
   "outputs": [
    {
     "name": "stdout",
     "output_type": "stream",
     "text": [
      "5.0\n",
      "5.0\n",
      "5.0\n",
      "5.0\n"
     ]
    }
   ],
   "source": [
    "def dist(x1, y1, x2, y2):\n",
    "    dx = x1 - x2\n",
    "    dy = y1 - y2\n",
    "    return (dx * dx + dy * dy)**0.5\n",
    "\n",
    "print(dist(1, 2, 4, 6))\n",
    "print(dist(x1=1, y1=2, x2=4, y2=6))\n",
    "print(dist(x1=1, x2=4, y1=2, y2=6))\n",
    "print(dist(1, 2, x2=4, y2=6))"
   ]
  },
  {
   "cell_type": "markdown",
   "id": "fed34267-c4d2-4899-a8e2-6fcb261c1479",
   "metadata": {},
   "source": [
    "### Неизвестное количество позиционных аргументов\n",
    "\n",
    "Напишем функцию, которая считает среднее арифметическое от всех переданных аргументов."
   ]
  },
  {
   "cell_type": "code",
   "execution_count": 97,
   "id": "1b7120c7-0081-4d72-aa3c-505c85784f78",
   "metadata": {},
   "outputs": [
    {
     "name": "stdout",
     "output_type": "stream",
     "text": [
      "x=3\n",
      "x=17\n",
      "x=13\n",
      "x=14\n",
      "x=8\n"
     ]
    },
    {
     "data": {
      "text/plain": [
       "11.0"
      ]
     },
     "execution_count": 97,
     "metadata": {},
     "output_type": "execute_result"
    }
   ],
   "source": [
    "def average(*args):\n",
    "    total = 0\n",
    "    n = 0\n",
    "    for x in args:\n",
    "        print(f'{x=}')\n",
    "        total += x\n",
    "        n += 1\n",
    "    return total / n\n",
    "\n",
    "average(3, 17, 13, 14, 8)"
   ]
  },
  {
   "cell_type": "markdown",
   "id": "e5fa2134-5304-4d86-a6be-f1f61ec9e6ae",
   "metadata": {},
   "source": [
    "* Название аргумента можно писать любое, договорились `args`, обязательно `*`\n",
    "* До `*args` могут идти другие позиционные формальные параметры."
   ]
  },
  {
   "cell_type": "code",
   "execution_count": 98,
   "id": "28fa4d26-515d-4b56-bf26-f4e757fda4b8",
   "metadata": {},
   "outputs": [
    {
     "name": "stdout",
     "output_type": "stream",
     "text": [
      "x=17\n",
      "x=13\n",
      "x=14\n",
      "x=8\n"
     ]
    },
    {
     "data": {
      "text/plain": [
       "11.0"
      ]
     },
     "execution_count": 98,
     "metadata": {},
     "output_type": "execute_result"
    }
   ],
   "source": [
    "# в функции проблема, при вызове без аргументов делим на 0; напишем аргумент first\n",
    "def average(first, *args):\n",
    "    total = first\n",
    "    n = 1\n",
    "    for x in args:\n",
    "        print(f'{x=}')\n",
    "        total += x\n",
    "        n += 1\n",
    "    return total / n\n",
    "\n",
    "average(3, 17, 13, 14, 8)"
   ]
  },
  {
   "cell_type": "code",
   "execution_count": 101,
   "id": "7809aa2f-ecd7-4656-99c4-25db0685a22a",
   "metadata": {},
   "outputs": [
    {
     "name": "stdout",
     "output_type": "stream",
     "text": [
      "x=17\n",
      "x=13\n",
      "x=14\n",
      "my_favorit_variable=8\n"
     ]
    },
    {
     "data": {
      "text/plain": [
       "11.75"
      ]
     },
     "execution_count": 101,
     "metadata": {},
     "output_type": "execute_result"
    }
   ],
   "source": [
    "# В my_favorit_variable можно передать только именованный параметр\n",
    "def average(first, *args, my_favorit_variable):\n",
    "    total = first\n",
    "    n = 1\n",
    "    for x in args:\n",
    "        print(f'{x=}')\n",
    "        total += x\n",
    "        n += 1\n",
    "    print(f'{my_favorit_variable=}')\n",
    "    return total / n\n",
    "\n",
    "average(3, 17, 13, 14, my_favorit_variable=8)"
   ]
  },
  {
   "cell_type": "markdown",
   "id": "8f9a0f70-906f-469a-a7a7-291f4e635b57",
   "metadata": {},
   "source": [
    "### Неизвестное количество именнованных аргументов\n",
    "\n",
    "* Название аргумента можно писать любое, договорились `kwargs`, обязательно `**`\n",
    "* До `**kwargs` могут идти другие позиционные формальные параметры и `*args`."
   ]
  },
  {
   "cell_type": "code",
   "execution_count": 105,
   "id": "dd1b1385-e086-4b25-87a7-50fb4ee49328",
   "metadata": {},
   "outputs": [
    {
     "name": "stdout",
     "output_type": "stream",
     "text": [
      "a=1 b=2\n",
      "3 4 5 mango:10 apple:16 "
     ]
    }
   ],
   "source": [
    "def foo(a, b, *args, **kwargs):\n",
    "    print(f'{a=} {b=}')\n",
    "    for x in args:                  # * нет\n",
    "        print(x, end=' ')\n",
    "    for k, v in kwargs.items():     # * нет\n",
    "        print(f'{k}:{v}', end=' ')\n",
    "\n",
    "foo(1, 2, 3, 4, 5, mango=10, apple=16)"
   ]
  },
  {
   "cell_type": "markdown",
   "id": "dd073287-0c0c-49c7-9f75-ce75948a3139",
   "metadata": {},
   "source": [
    "* `args` - список\n",
    "* `kwargs` - словарь\n",
    "\n",
    "Итого порядок:\n",
    "\n",
    "* позиционные аргументы\n",
    "* `*args`\n",
    "* `**kwargs`"
   ]
  },
  {
   "cell_type": "markdown",
   "id": "8d3bdcf3-0f8e-46d9-aa78-3e28b20bfd4b",
   "metadata": {},
   "source": [
    "### Ещё о запаковке и распаковке pack и unpack"
   ]
  },
  {
   "cell_type": "code",
   "execution_count": 109,
   "id": "2d22cc71-899c-4969-96cf-22b042f94160",
   "metadata": {},
   "outputs": [
    {
     "name": "stdout",
     "output_type": "stream",
     "text": [
      "[3, -7, 'hello', 0.25]\n",
      "3 -7 hello 0.25\n"
     ]
    }
   ],
   "source": [
    "a = [3, -7, 'hello', 0.25]\n",
    "print(a)      # print([3, -7, 'hello', 0.25])\n",
    "print(*a)     # print(3, -7, 'hello', 0.25)"
   ]
  },
  {
   "cell_type": "code",
   "execution_count": 114,
   "id": "102fb278-71a2-46bd-aa69-7d4f8618024f",
   "metadata": {},
   "outputs": [
    {
     "name": "stdout",
     "output_type": "stream",
     "text": [
      "{'mango': 7, 'apple': 16, 'banana': 20}\n",
      "mango apple banana\n"
     ]
    }
   ],
   "source": [
    "d = {'mango':7, 'apple':16, 'banana':20}\n",
    "print(d)\n",
    "print(*d)"
   ]
  },
  {
   "cell_type": "code",
   "execution_count": 116,
   "id": "bf4c3d11-e7ea-4161-8610-d5c061d95be1",
   "metadata": {},
   "outputs": [
    {
     "name": "stdout",
     "output_type": "stream",
     "text": [
      "1 2 [3, 4, 5, 6]\n"
     ]
    }
   ],
   "source": [
    "# в a положим список из всех остальных элементов (запаковка)\n",
    "x, y, *a = (1, 2, 3, 4, 5, 6)\n",
    "print(x, y, a)"
   ]
  },
  {
   "cell_type": "code",
   "execution_count": 117,
   "id": "3cfa030d-963c-4417-b6b2-aebf54d67f67",
   "metadata": {},
   "outputs": [
    {
     "name": "stdout",
     "output_type": "stream",
     "text": [
      "1 2 []\n"
     ]
    }
   ],
   "source": [
    "# если не хватит данных, список будет пустой\n",
    "x, y, *a = (1, 2)\n",
    "print(x, y, a)"
   ]
  },
  {
   "cell_type": "code",
   "execution_count": 118,
   "id": "98b100e4-2093-4b01-b15b-7b9ce25058bc",
   "metadata": {
    "scrolled": true
   },
   "outputs": [
    {
     "name": "stdin",
     "output_type": "stream",
     "text": [
      " 1 2 3 4 5 6\n"
     ]
    },
    {
     "name": "stdout",
     "output_type": "stream",
     "text": [
      "1\n",
      "[2, 3, 4, 5]\n",
      "6\n"
     ]
    }
   ],
   "source": [
    "# после неизвестного количества данных можно опять указать переменную\n",
    "first, *a, last = map(int, input().split())\n",
    "print(first)\n",
    "print(a)\n",
    "print(last)"
   ]
  },
  {
   "cell_type": "code",
   "execution_count": 123,
   "id": "6f3a615b-05ee-421c-93bd-0384901275c7",
   "metadata": {},
   "outputs": [
    {
     "name": "stdout",
     "output_type": "stream",
     "text": [
      "a=20\n",
      "b=75\n"
     ]
    }
   ],
   "source": [
    "def foo(a=1, b=0):\n",
    "    print(f'a={a}')\n",
    "    print(f'b={b}')\n",
    "\n",
    "foo(**{'b':75, 'a':20})   # foo(b=75, a=20)"
   ]
  },
  {
   "cell_type": "markdown",
   "id": "9ee94455-cbf2-4b57-9d47-0e7571e002d9",
   "metadata": {
    "jp-MarkdownHeadingCollapsed": true
   },
   "source": [
    "# Итераторы"
   ]
  },
  {
   "cell_type": "markdown",
   "id": "32ba245f-4a53-4f6e-9617-e88c32c5c8c0",
   "metadata": {
    "jp-MarkdownHeadingCollapsed": true
   },
   "source": [
    "* Доступ к содержимому агрегированных объектов без раскрытия их внутреннего представления;\r",
    "* Поддержкаи нескольких активных обходов одного и того же агрегированного объекта (желательно, но не обязательно)\n",
    "* Представлениеия единообразного интерфейса с целью обхода различных агрегированных структур."
   ]
  },
  {
   "cell_type": "code",
   "execution_count": 136,
   "id": "3a7c8950-26f8-4979-87df-6a64ad218d1d",
   "metadata": {},
   "outputs": [
    {
     "name": "stdout",
     "output_type": "stream",
     "text": [
      "3 hello -72 0.25 "
     ]
    }
   ],
   "source": [
    "# for .. in .. одинаково для списка, кортежа, множества, словаря, строки, map...\n",
    "a = [3, 'hello', -72, 0.25]\n",
    "for x in a:\n",
    "    print(x, end=' ')"
   ]
  },
  {
   "cell_type": "markdown",
   "id": "f58a7712-a4ae-440e-831d-256fd691843f",
   "metadata": {},
   "source": [
    "Итератор — это интерфейс, предоставляющий доступ к элементам коллекции (массива или контейнера). Здесь важно отметить, что **итератор только предоставляет доступ, но не выполняет итерацию по ним**. Это может звучать довольно запутано, так что остановимся чуть подробнее. Тему итераторов можно разбить на три части:\n",
    "* Итерируемый объект\n",
    "* Итератор\n",
    "* Итерация\n",
    "\n",
    "**Итерируемым объектом** в Python называется любой объект, имеющий методы \\_\\_iter\\_\\_ или \\_\\_getitem\\_\\_, которые возвращают итераторы или могут принимать индексы. В итоге итерируемый объект это объект, который может предоставить нам итератор.\n",
    "\n",
    "**Итератором** в Python называется объект, который имеет метод next (Python 2) или \\_\\_next\\_\\_. Вот и все. Это итератор. \n",
    "\n",
    "**Итерация** - это процесс получения элементов из какого-нибудь источника, например списка. Итерация - это процесс перебора элементов объекта в цикле. \n"
   ]
  },
  {
   "cell_type": "code",
   "execution_count": 67,
   "id": "5049adb1-67d1-461c-bff1-fba712390f77",
   "metadata": {},
   "outputs": [],
   "source": [
    "a = [3, 'hello', -72, 0.25]"
   ]
  },
  {
   "cell_type": "markdown",
   "id": "b34334b3-db15-45d3-b529-43ff00b6412b",
   "metadata": {},
   "source": [
    "* `a` - итерируемый объект\n",
    "*  `iter(a)` - итератор\n",
    "*  `next(a)` - получение очередного элемента итерируемого объекта"
   ]
  },
  {
   "cell_type": "code",
   "execution_count": 68,
   "id": "f1015663-0e2a-4d6a-87e9-77f615c56fbe",
   "metadata": {},
   "outputs": [
    {
     "data": {
      "text/plain": [
       "<list_iterator at 0x1d5ddb4b550>"
      ]
     },
     "execution_count": 68,
     "metadata": {},
     "output_type": "execute_result"
    }
   ],
   "source": [
    "it = iter(a)\n",
    "it"
   ]
  },
  {
   "cell_type": "code",
   "execution_count": 69,
   "id": "67bf0ea3-663b-4eb1-8e06-d639fe919bfc",
   "metadata": {},
   "outputs": [
    {
     "data": {
      "text/plain": [
       "3"
      ]
     },
     "execution_count": 69,
     "metadata": {},
     "output_type": "execute_result"
    }
   ],
   "source": [
    "x = next(it)\n",
    "x"
   ]
  },
  {
   "cell_type": "code",
   "execution_count": 63,
   "id": "061d32cd-dc0d-47f9-82e0-f94257ea4e2e",
   "metadata": {},
   "outputs": [
    {
     "data": {
      "text/plain": [
       "'hello'"
      ]
     },
     "execution_count": 63,
     "metadata": {},
     "output_type": "execute_result"
    }
   ],
   "source": [
    "next(it)"
   ]
  },
  {
   "cell_type": "code",
   "execution_count": 64,
   "id": "3ab10816-7f78-46ad-85e1-d23e70564f7c",
   "metadata": {},
   "outputs": [
    {
     "data": {
      "text/plain": [
       "-72"
      ]
     },
     "execution_count": 64,
     "metadata": {},
     "output_type": "execute_result"
    }
   ],
   "source": [
    "next(it)"
   ]
  },
  {
   "cell_type": "code",
   "execution_count": 65,
   "id": "b138b935-0cb5-45f6-8e6a-7501345edd51",
   "metadata": {},
   "outputs": [
    {
     "data": {
      "text/plain": [
       "0.25"
      ]
     },
     "execution_count": 65,
     "metadata": {},
     "output_type": "execute_result"
    }
   ],
   "source": [
    "next(it)"
   ]
  },
  {
   "cell_type": "code",
   "execution_count": 66,
   "id": "2ec16034-b45f-4eca-a229-4280b90f477f",
   "metadata": {},
   "outputs": [
    {
     "ename": "StopIteration",
     "evalue": "",
     "output_type": "error",
     "traceback": [
      "\u001b[1;31m---------------------------------------------------------------------------\u001b[0m",
      "\u001b[1;31mStopIteration\u001b[0m                             Traceback (most recent call last)",
      "Cell \u001b[1;32mIn[66], line 1\u001b[0m\n\u001b[1;32m----> 1\u001b[0m \u001b[38;5;28;43mnext\u001b[39;49m\u001b[43m(\u001b[49m\u001b[43mit\u001b[49m\u001b[43m)\u001b[49m\n",
      "\u001b[1;31mStopIteration\u001b[0m: "
     ]
    }
   ],
   "source": [
    "next(it)"
   ]
  },
  {
   "cell_type": "markdown",
   "id": "fe843653-84d8-427c-9b45-99c20a35081c",
   "metadata": {},
   "source": [
    "То есть `for x in a` это \"синтаксический сахар\" над вызовами `iter` и `next` для `a` "
   ]
  },
  {
   "cell_type": "markdown",
   "id": "9a045a18-9473-4ed6-83a1-79e2397241bf",
   "metadata": {},
   "source": [
    "Никаких задач на итераторы в курсе не будет. Только познакомились, что это такое."
   ]
  },
  {
   "cell_type": "markdown",
   "id": "37d4232a-a57d-4000-8502-8d15196e9efe",
   "metadata": {},
   "source": [
    "# Генераторы"
   ]
  },
  {
   "cell_type": "markdown",
   "id": "4e95c509-23df-4c90-a86c-524efe64d26c",
   "metadata": {},
   "source": [
    "**Генераторы это итераторы, по которым можно итерировать только один раз**. \n",
    "\n",
    "Так происходит поскольку они не хранят все свои значения в памяти, а генерируют элементы \"на лету\". Генераторы можно использовать с циклом `for` или любой другой функцией или конструкцией, которые позволяют итерировать по объекту. В большинстве случаев генераторы создаются как функции. Тем не менее, они не возвращают значение также как функции (т.е. через **return**), в генераторах для этого используется ключевое слово **yield**. \n",
    "\n",
    "Мы знаем генераторы `map` и `range`.\n",
    "\n",
    "Зачем? Чтобы не хранить ВСЕ значения в памяти, а давать их по мере необходимости. **Ленивые вычисления** - основа python."
   ]
  },
  {
   "cell_type": "code",
   "execution_count": 71,
   "id": "d718b55c-ddc9-42d0-a9a3-a76652206303",
   "metadata": {},
   "outputs": [
    {
     "name": "stdout",
     "output_type": "stream",
     "text": [
      "0 1 2 3 4 5 6 7 8 9 "
     ]
    }
   ],
   "source": [
    "# напишем свой генератор\n",
    "def generator_function():\n",
    "    for i in range(10):\n",
    "        yield i\n",
    "\n",
    "for item in generator_function():\n",
    "    print(item, end=' ')"
   ]
  },
  {
   "cell_type": "markdown",
   "id": "2caaf22b-256d-4a21-98ea-0263075637d8",
   "metadata": {},
   "source": [
    "Вычисление чисел Фибоначчи 1, 1, 2, 3, 5, 8, 13, 21...  $$f_n = f_{n-1} + f_{n-2}$$ $$f_0 = f_1 = 1$$"
   ]
  },
  {
   "cell_type": "code",
   "execution_count": 72,
   "id": "f3f7127d-a50f-4acb-9a72-bcc0e07a860a",
   "metadata": {},
   "outputs": [
    {
     "name": "stdout",
     "output_type": "stream",
     "text": [
      "1 1 2 3 5 8 13 21 34 55 89 144 233 377 610 987 1597 2584 4181 6765 "
     ]
    }
   ],
   "source": [
    "# generator version\n",
    "def fibon(n):\n",
    "    a = b = 1\n",
    "    for i in range(n):\n",
    "        yield a\n",
    "        a, b = b, a + b\n",
    "        \n",
    "# использование:\n",
    "for x in fibon(20):\n",
    "    print(x, end=' ')"
   ]
  },
  {
   "cell_type": "code",
   "execution_count": 73,
   "id": "0c1ba8be-2d33-44e5-b75b-a1fa97396bdb",
   "metadata": {},
   "outputs": [
    {
     "name": "stdout",
     "output_type": "stream",
     "text": [
      "[1, 1, 2, 3, 5, 8, 13, 21, 34, 55, 89, 144, 233, 377, 610, 987, 1597, 2584, 4181, 6765]\n"
     ]
    }
   ],
   "source": [
    "# альтернатива - все числа поместить в список\n",
    "def fibon_arr(n):\n",
    "    a = b = 1\n",
    "    result = []\n",
    "    for i in range(n):\n",
    "        result.append(a)\n",
    "        a, b = b, a + b\n",
    "    return result\n",
    "\n",
    "print(fibon_arr(20))"
   ]
  },
  {
   "cell_type": "markdown",
   "id": "682e45c1-4fcf-47c0-8821-f675e4cfaf2c",
   "metadata": {},
   "source": [
    "### Связь генератора и итератора\n",
    "\n",
    "Любая функция в Python, в теле которой встречается ключевое слово `yield`, называется генераторной функцией — при вызове она возвращает объект-генератор.\n",
    "\r\n",
    "Объект-генератор реализует интерфейс итератора, соответственно с этим объектом можно работать, как с любым другим итерируемым объектом."
   ]
  },
  {
   "cell_type": "code",
   "execution_count": 87,
   "id": "ea2ff0b2-4b9c-492f-ab34-1aca9761b8a0",
   "metadata": {},
   "outputs": [
    {
     "data": {
      "text/plain": [
       "1"
      ]
     },
     "execution_count": 87,
     "metadata": {},
     "output_type": "execute_result"
    }
   ],
   "source": [
    "# бесконечный генератор\n",
    "def fibon():\n",
    "    a = b = 1\n",
    "    while True:\n",
    "        yield a\n",
    "        a, b = b, a + b\n",
    "\n",
    "gen = fibon()\n",
    "next(gen)"
   ]
  },
  {
   "cell_type": "code",
   "execution_count": 84,
   "id": "e9f5b0f5-378b-48e3-a538-a3ad605e5224",
   "metadata": {},
   "outputs": [
    {
     "data": {
      "text/plain": [
       "1"
      ]
     },
     "execution_count": 84,
     "metadata": {},
     "output_type": "execute_result"
    }
   ],
   "source": [
    "next(gen)"
   ]
  },
  {
   "cell_type": "code",
   "execution_count": 85,
   "id": "4b5a0c6b-ca2b-4fdd-b716-eb777f02ab14",
   "metadata": {},
   "outputs": [
    {
     "data": {
      "text/plain": [
       "2"
      ]
     },
     "execution_count": 85,
     "metadata": {},
     "output_type": "execute_result"
    }
   ],
   "source": [
    "next(gen)"
   ]
  },
  {
   "cell_type": "code",
   "execution_count": 86,
   "id": "eaca6323-c3ab-429c-9a43-1b3d179a7dd1",
   "metadata": {},
   "outputs": [
    {
     "data": {
      "text/plain": [
       "3"
      ]
     },
     "execution_count": 86,
     "metadata": {},
     "output_type": "execute_result"
    }
   ],
   "source": [
    "next(gen)"
   ]
  },
  {
   "cell_type": "code",
   "execution_count": 89,
   "id": "1d0bd51c-10a1-4c88-8560-cff03eb41274",
   "metadata": {},
   "outputs": [
    {
     "name": "stdout",
     "output_type": "stream",
     "text": [
      "1 1 2 3 5 8 13 21 34 55 89 144 233 377 610 987 1597 "
     ]
    }
   ],
   "source": [
    "for x in fibon():\n",
    "    print(x, end=' ')\n",
    "    if x > 1000:\n",
    "        break"
   ]
  },
  {
   "cell_type": "markdown",
   "id": "d915d834-b607-4e16-b6ed-705269c0a95e",
   "metadata": {},
   "source": [
    "# Функции высших порядков\n",
    "\n",
    "* Цель - уметь читать однострочники и понимать рецепты из интернета.\n",
    "* Как сделать: при решении задач смотреть в форуме решений однострочники и разбирать, как они работают.\n",
    "\n",
    "Фукнциями высших порядков назвают функции, которые принимают в виде аргумента другую функцию. *Именно не результат вызова, а функцию, как объект*.\n",
    "\n",
    "Мы такие функции уже использовали:"
   ]
  },
  {
   "cell_type": "code",
   "execution_count": 124,
   "id": "c042abad-e1e0-4b5e-8320-0aed6ec50646",
   "metadata": {},
   "outputs": [
    {
     "data": {
      "text/plain": [
       "[0.1, 3, -8, 567]"
      ]
     },
     "execution_count": 124,
     "metadata": {},
     "output_type": "execute_result"
    }
   ],
   "source": [
    "a = [3, 567, -8, 0.1]\n",
    "sorted(a, key=abs)  # аргументом передаем ссылку на фукнцию abs"
   ]
  },
  {
   "cell_type": "code",
   "execution_count": 126,
   "id": "694bc8d2-2443-4adf-aa0a-7ae4b4e9d572",
   "metadata": {},
   "outputs": [
    {
     "data": {
      "text/plain": [
       "[-1, 3, 567, -8]"
      ]
     },
     "execution_count": 126,
     "metadata": {},
     "output_type": "execute_result"
    }
   ],
   "source": [
    "def last_digit(x):\n",
    "    return abs(x) % 10\n",
    "    # или\n",
    "    # return str(x)[-1]\n",
    "\n",
    "a = [3, 567, -8, -1]\n",
    "sorted(a, key=last_digit)"
   ]
  },
  {
   "cell_type": "code",
   "execution_count": 134,
   "id": "6c6189f2-7b33-4bf8-af12-aaee39f74b44",
   "metadata": {},
   "outputs": [
    {
     "name": "stdout",
     "output_type": "stream",
     "text": [
      "['12', '-32', '144', '76']\n",
      "[12, -32, 144, 76]\n"
     ]
    }
   ],
   "source": [
    "words = '12 -32 144 76'.split()\n",
    "print(words)\n",
    "numbers = map(int, words)       # int - это функция\n",
    "print(list(numbers))"
   ]
  },
  {
   "cell_type": "markdown",
   "id": "0a49439d-4f3d-4ab2-bfd8-02ca82f006d3",
   "metadata": {},
   "source": [
    "## map\n",
    "\n",
    "**map**\\(_function_to_apply_, _iterable_, _...\\) - применяет функцию _function_to_apply_ ко всем элементам последовательности _iterable_. Если заданы дополнительные аргументы (последовательности), то функция _function_to_apply_ должна принимать столько аргументов, сколько последовательностей переданно далее в map.\n"
   ]
  },
  {
   "cell_type": "code",
   "execution_count": 137,
   "id": "b61d1d4f-d8ff-4564-b1a8-84b5d46a6362",
   "metadata": {},
   "outputs": [
    {
     "name": "stdout",
     "output_type": "stream",
     "text": [
      "['12', '-32', '144', '76']\n"
     ]
    },
    {
     "data": {
      "text/plain": [
       "<map at 0x1d5df4ebd30>"
      ]
     },
     "execution_count": 137,
     "metadata": {},
     "output_type": "execute_result"
    }
   ],
   "source": [
    "words = '12 -32 144 76'.split()\n",
    "print(words)\n",
    "numbers = map(int, words)       # int - это функция\n",
    "numbers"
   ]
  },
  {
   "cell_type": "code",
   "execution_count": 138,
   "id": "549112ec-5cea-4a59-8917-72c5eaec70b9",
   "metadata": {},
   "outputs": [
    {
     "name": "stdout",
     "output_type": "stream",
     "text": [
      "<map object at 0x000001D5DF4EBD30>\n"
     ]
    }
   ],
   "source": [
    "print(numbers)"
   ]
  },
  {
   "cell_type": "code",
   "execution_count": 139,
   "id": "4fd4012c-1d91-4fdd-b4bd-d8153c9804b4",
   "metadata": {},
   "outputs": [
    {
     "name": "stdout",
     "output_type": "stream",
     "text": [
      "12 -32 144 76 "
     ]
    }
   ],
   "source": [
    "for x in numbers:\n",
    "    print(x, end=' ')"
   ]
  },
  {
   "cell_type": "code",
   "execution_count": 140,
   "id": "8347da1b-618f-4c8c-ae56-bb83ba6e1370",
   "metadata": {},
   "outputs": [],
   "source": [
    "# второй раз идти по map бесполезно - там ничего нет\n",
    "for x in numbers:\n",
    "    print(x, end=' ')"
   ]
  },
  {
   "cell_type": "code",
   "execution_count": 141,
   "id": "06a97ff9-ee9f-4808-a8c9-e4a73ea21ce1",
   "metadata": {},
   "outputs": [
    {
     "name": "stdout",
     "output_type": "stream",
     "text": [
      "[12, -32, 144, 76]\n"
     ]
    }
   ],
   "source": [
    "# Если нужно ходить по содержимому много раз, сделайте list\n",
    "number_list = list(map(int, words))       # int - это функция\n",
    "print(number_list)"
   ]
  },
  {
   "cell_type": "code",
   "execution_count": 159,
   "id": "9d30bba5-49dd-41b7-be8b-669f06b40488",
   "metadata": {},
   "outputs": [
    {
     "name": "stdout",
     "output_type": "stream",
     "text": [
      "16 1 25 9 81 "
     ]
    }
   ],
   "source": [
    "# функция возводит в квадрат\n",
    "def square(x):\n",
    "    return x * x\n",
    "\n",
    "a = [4, 1, -5, 3, 9]\n",
    "m = map(square, a)     # данные вычисляются по мере требования\n",
    "for x in m:\n",
    "    print(x, end=' ')"
   ]
  },
  {
   "cell_type": "code",
   "execution_count": 160,
   "id": "dd18d519-3ce8-46f0-9344-190f441b586d",
   "metadata": {},
   "outputs": [
    {
     "data": {
      "text/plain": [
       "[16, 1, 25, 9, 81]"
      ]
     },
     "execution_count": 160,
     "metadata": {},
     "output_type": "execute_result"
    }
   ],
   "source": [
    "# все данные лежат в памяти\n",
    "b = [square(x) for x in a]\n",
    "b"
   ]
  },
  {
   "cell_type": "code",
   "execution_count": 162,
   "id": "999c6a2b-b663-43d9-9930-9697430cc690",
   "metadata": {},
   "outputs": [
    {
     "data": {
      "text/plain": [
       "[16, 1, 25, 9, 81]"
      ]
     },
     "execution_count": 162,
     "metadata": {},
     "output_type": "execute_result"
    }
   ],
   "source": [
    "# то же самое, но через обычные циклы\n",
    "b = []\n",
    "for x in a:\n",
    "    sqx = square(x)\n",
    "    b.append(sqx)\n",
    "\n",
    "b"
   ]
  },
  {
   "cell_type": "code",
   "execution_count": 164,
   "id": "8c92a752-3a7b-4d7f-b963-f7f64a1a6c1a",
   "metadata": {},
   "outputs": [
    {
     "data": {
      "text/plain": [
       "132"
      ]
     },
     "execution_count": 164,
     "metadata": {},
     "output_type": "execute_result"
    }
   ],
   "source": [
    "# цепочка преобразований\n",
    "# сумма квадратов (для ее вычисления не надо хранить все квадраты в памяти)\n",
    "a = [4, 1, -5, 3, 9]\n",
    "sum(map(square, a))     # данные вычисляются по мере требования"
   ]
  },
  {
   "cell_type": "markdown",
   "id": "ad4076d8-8e83-43d6-9bbb-205d6d297cc5",
   "metadata": {},
   "source": [
    "### map с несколькими последовательностями\n",
    "\n",
    "$$ {\\sum{a_i ^ {b_i}}}$$"
   ]
  },
  {
   "cell_type": "code",
   "execution_count": 150,
   "id": "5bbaa387-93e2-4d0b-abf5-d3b6edf7683a",
   "metadata": {},
   "outputs": [
    {
     "data": {
      "text/plain": [
       "570"
      ]
     },
     "execution_count": 150,
     "metadata": {},
     "output_type": "execute_result"
    }
   ],
   "source": [
    "a = [3, 5, 1, 10, 7, 2]\n",
    "b = [4, 3, 25, 2, 1, 8]\n",
    "def ipow(x, n):\n",
    "    return x**n\n",
    "sum(map(ipow, a, b))"
   ]
  },
  {
   "cell_type": "code",
   "execution_count": 151,
   "id": "1d836928-a6f3-48d9-99aa-1952d67356d8",
   "metadata": {},
   "outputs": [
    {
     "data": {
      "text/plain": [
       "570"
      ]
     },
     "execution_count": 151,
     "metadata": {},
     "output_type": "execute_result"
    }
   ],
   "source": [
    "# альтернатива через списки\n",
    "c = [x**n for x, n in zip(a, b)]\n",
    "sum(c)"
   ]
  },
  {
   "cell_type": "markdown",
   "id": "4f631282-211c-4ae9-a559-541c90e6160e",
   "metadata": {},
   "source": [
    "## zip\n",
    "\n",
    "**zip**(a, b, ...) - возвращает наборы элементов `((a[0], b[0], ...), (a[1], b[1], ..), (a[2], b[2], ...))`\n",
    "\n",
    "Мы встречали при создании словарей"
   ]
  },
  {
   "cell_type": "code",
   "execution_count": 152,
   "id": "7cdf937c-fd65-452e-9503-7e43fc85744a",
   "metadata": {},
   "outputs": [
    {
     "data": {
      "text/plain": [
       "{'Russia': 'Moscow', 'Ukraine': 'Kiev', 'USA': 'Washington'}"
      ]
     },
     "execution_count": 152,
     "metadata": {},
     "output_type": "execute_result"
    }
   ],
   "source": [
    "capitals = dict(zip([\"Russia\", \"Ukraine\", \"USA\"], [\"Moscow\", \"Kiev\", \"Washington\"]))\n",
    "capitals"
   ]
  },
  {
   "cell_type": "code",
   "execution_count": 153,
   "id": "9a56b334-a179-4361-91ac-1ca61d4853d4",
   "metadata": {},
   "outputs": [
    {
     "name": "stdout",
     "output_type": "stream",
     "text": [
      "Страна Russia со столицей Moscow\n",
      "Страна Ukraine со столицей Kiev\n",
      "Страна USA со столицей Washington\n"
     ]
    }
   ],
   "source": [
    "countries = [\"Russia\", \"Ukraine\", \"USA\"] \n",
    "cities = [\"Moscow\", \"Kiev\", \"Washington\"]\n",
    "for country, city in zip(countries, cities):\n",
    "    print(f'Страна {country} со столицей {city}')"
   ]
  },
  {
   "attachments": {
    "816e74c6-fb37-481a-bde6-551b22f5ce3a.png": {
     "image/png": "[encoded data removed]"
    }
   },
   "cell_type": "markdown",
   "id": "d29a763f-39d7-4b28-acc0-46eb1f58afe2",
   "metadata": {},
   "source": [
    "![image.png](attachment:816e74c6-fb37-481a-bde6-551b22f5ce3a.png)\n",
    "\n",
    "todo: перерисовать картинку из поколения python"
   ]
  },
  {
   "cell_type": "markdown",
   "id": "5fc0c19f-ce3c-43d8-9925-28d4cc9ab9c9",
   "metadata": {},
   "source": [
    "## sum, min, max\n",
    "\n",
    "* **sum**(seq) - сумма элементов последовательности *seq*\n",
    "* **min**(seq) - минимальный элемент последовательности *seq*\n",
    "* **max**(seq) - максимальный элемент последовательности *seq*"
   ]
  },
  {
   "cell_type": "markdown",
   "id": "c8526b98-a525-4cbb-837a-2cdab9c98a82",
   "metadata": {},
   "source": [
    "## filter\n",
    "\n",
    "**filter**(func, sequence) - пропускает только те элементы из *sequence*, для которых *func(элемент) == True*. "
   ]
  },
  {
   "cell_type": "code",
   "execution_count": 165,
   "id": "91fd916e-9858-4037-b940-beb18cb28ae1",
   "metadata": {},
   "outputs": [
    {
     "data": {
      "text/plain": [
       "[4, 21, 7]"
      ]
     },
     "execution_count": 165,
     "metadata": {},
     "output_type": "execute_result"
    }
   ],
   "source": [
    "# оставим только положительные числа\n",
    "def pos(x):\n",
    "    return x > 0\n",
    "\n",
    "a = [-3, 4, -11, -0.5, 21, 7]\n",
    "list(filter(pos, a))"
   ]
  },
  {
   "cell_type": "code",
   "execution_count": 167,
   "id": "ac92ec53-4112-46e1-9463-8823f4a7f2cb",
   "metadata": {},
   "outputs": [
    {
     "data": {
      "text/plain": [
       "[4, 21, 7]"
      ]
     },
     "execution_count": 167,
     "metadata": {},
     "output_type": "execute_result"
    }
   ],
   "source": [
    "# то же через списки\n",
    "b = [x for x in a if pos(x)]\n",
    "b"
   ]
  },
  {
   "cell_type": "code",
   "execution_count": 168,
   "id": "bd52de69-3b8c-4d47-a2c5-ce2b87a0a1f0",
   "metadata": {},
   "outputs": [
    {
     "data": {
      "text/plain": [
       "[4, 21, 7]"
      ]
     },
     "execution_count": 168,
     "metadata": {},
     "output_type": "execute_result"
    }
   ],
   "source": [
    "# то же самое без list comprehention\n",
    "b = []\n",
    "for x in a:\n",
    "    if pos(x):\n",
    "        b.append(x)\n",
    "b"
   ]
  },
  {
   "cell_type": "markdown",
   "id": "2fe0050a-c4e1-403d-8e77-956fd1a6adab",
   "metadata": {},
   "source": [
    "## reduce"
   ]
  },
  {
   "cell_type": "markdown",
   "id": "f6153c1d-12a9-4c56-b6be-26606bc64245",
   "metadata": {},
   "source": [
    "Сложим числа от 0 до 7. Перемножим числа от 1 до 7. Сравним код.\n",
    "$$(((((((0+1)+2)+3)+4)+5)+6)+7)$$\n",
    "$$((((((1*2)*3)*4)*5)*6)*7)$$"
   ]
  },
  {
   "cell_type": "code",
   "execution_count": 170,
   "id": "e72e5b5f-f5a2-43a7-bbe1-41bcf853cec9",
   "metadata": {},
   "outputs": [
    {
     "data": {
      "text/plain": [
       "28"
      ]
     },
     "execution_count": 170,
     "metadata": {},
     "output_type": "execute_result"
    }
   ],
   "source": [
    "(((((((0+1)+2)+3)+4)+5)+6)+7)"
   ]
  },
  {
   "cell_type": "code",
   "execution_count": 171,
   "id": "c7fb7c6e-4351-4033-93f7-938e43555c04",
   "metadata": {},
   "outputs": [
    {
     "data": {
      "text/plain": [
       "5040"
      ]
     },
     "execution_count": 171,
     "metadata": {},
     "output_type": "execute_result"
    }
   ],
   "source": [
    "((((((1*2)*3)*4)*5)*6)*7)"
   ]
  },
  {
   "cell_type": "code",
   "execution_count": 172,
   "id": "4526c131-5d6d-4b53-9b50-7829aec35fbc",
   "metadata": {},
   "outputs": [
    {
     "name": "stdout",
     "output_type": "stream",
     "text": [
      "28\n",
      "5040\n"
     ]
    }
   ],
   "source": [
    "numbers = [1, 2, 3, 4, 5, 6, 7]\n",
    "\n",
    "total = 0\n",
    "product = 1\n",
    "\n",
    "for num in numbers:\n",
    "    total += num\n",
    "    product *= num\n",
    "\n",
    "print(total)\n",
    "print(product)"
   ]
  },
  {
   "cell_type": "markdown",
   "id": "7ed2872c-b1a0-410d-8323-7c4a40c5818b",
   "metadata": {},
   "source": [
    "* Результат накапливается в аккумуляторе acc\n",
    "* начиная с первого элемента initial_value\n",
    "* перебирая последовательность items\n",
    "* над аккумулятором и очередным элементом выполняется операция operation"
   ]
  },
  {
   "cell_type": "code",
   "execution_count": 173,
   "id": "90624eb1-c41f-48bf-8d6e-b349e601b457",
   "metadata": {},
   "outputs": [
    {
     "name": "stdout",
     "output_type": "stream",
     "text": [
      "28\n",
      "5040\n"
     ]
    }
   ],
   "source": [
    "# это operation для сложения\n",
    "def add(acc, val):\n",
    "    return acc + val\n",
    "\n",
    "# это operation для умножения\n",
    "def mult(acc, val):\n",
    "    return acc * val\n",
    "\n",
    "numbers = [1, 2, 3, 4, 5, 6, 7]\n",
    "\n",
    "def reduce(operation, items, initial_value=0):\n",
    "    acc = initial_value\n",
    "    for num in items:\n",
    "        acc = operation(acc, num)\n",
    "    return acc\n",
    "\n",
    "print(reduce(add, numbers))\n",
    "print(reduce(mult, numbers, 1))"
   ]
  },
  {
   "cell_type": "markdown",
   "id": "3db16e0b-1d7e-4a86-8509-d91fec9116af",
   "metadata": {},
   "source": [
    "Вы посмотрели, что под капотом у фукнции \n",
    "`functools.reduce(func, iterable, initializer=None)`\n",
    "\n",
    "Если начальное значение не задано, берется первое значение из последовательности iterable.\n"
   ]
  },
  {
   "cell_type": "code",
   "execution_count": 176,
   "id": "f375d5cb-125f-45a0-a143-e534331be074",
   "metadata": {},
   "outputs": [
    {
     "name": "stdout",
     "output_type": "stream",
     "text": [
      "55\n"
     ]
    }
   ],
   "source": [
    "from functools import reduce\n",
    "\n",
    "def func(a, b):\n",
    "    return a + b\n",
    "\n",
    "numbers = [1, 2, 3, 4, 5, 6, 7, 8, 9, 10]\n",
    "total = reduce(func, numbers, 0)   # в качестве начального значения 0\n",
    "print(total)"
   ]
  },
  {
   "cell_type": "code",
   "execution_count": 175,
   "id": "d8cd5fe4-6f24-43e8-8b8e-bbfa3d2c21e2",
   "metadata": {},
   "outputs": [
    {
     "name": "stdout",
     "output_type": "stream",
     "text": [
      "55\n"
     ]
    }
   ],
   "source": [
    "total = reduce(func, numbers)   # можно было суммировать без указания начального значения\n",
    "print(total)"
   ]
  },
  {
   "cell_type": "markdown",
   "id": "2e69d264-2644-4311-a9dd-0f6013773110",
   "metadata": {},
   "source": [
    "## Модуль operator\n",
    "\n",
    "Чтобы не писать функции для стандартных математических операций, используйте функции, определенные в модуле `operator`\n",
    "\n",
    "| Операция | Фукнция |\n",
    "|----|----|\n",
    "| `obj in seq` | `contains(seq, obj)` |\n",
    "| `a + b` | `add(a, b)` |\n",
    "| `a - b` | `sub(a, b)` |\n",
    "| `a * b` | `mul(a, b)` |\n",
    "| `a / b` | `truediv(a, b)` |\n",
    "| `a // b` | `floordiv(a, b)` |\n",
    "| `a % b` | `mod(a, b)` |\n",
    "| `a ** b` | `pow(a, b)` |\n",
    "| `-a` | `neg(a)` |\n",
    "| `a == b` | `eq(a, b)` |\n",
    "| `a != b` | `ne(a, b)` |\n",
    "| `a < b` | `lt(a, b)` |\n",
    "| `a <= b` | `le(a, b)` |\n",
    "| `a > b` | `gt(a, b)` |\n",
    "| `a g= b` | `ge(a, b)` |"
   ]
  },
  {
   "cell_type": "code",
   "execution_count": 183,
   "id": "1368a0f3-6c2f-4434-a2d5-196adbab0e3e",
   "metadata": {},
   "outputs": [
    {
     "name": "stdout",
     "output_type": "stream",
     "text": [
      "28\n",
      "5040\n"
     ]
    }
   ],
   "source": [
    "from functools import reduce\n",
    "from operator import add, mul\n",
    "\n",
    "# это можно заменить на sum(range(7+1)\n",
    "total = reduce(add, range(7+1))   # в качестве начального значения 0\n",
    "print(total)\n",
    "\n",
    "# а произведение придется писать так:\n",
    "total = reduce(mul, range(1, 7+1))   # в качестве начального значения 0\n",
    "print(total)"
   ]
  },
  {
   "cell_type": "markdown",
   "id": "fda893e2-b83b-48a1-826e-a45e3be49574",
   "metadata": {},
   "source": [
    "## enumerate"
   ]
  },
  {
   "cell_type": "code",
   "execution_count": 184,
   "id": "a40a6ea8-d48a-4f0e-a2d2-fb9af2dcfc4f",
   "metadata": {},
   "outputs": [
    {
     "name": "stdout",
     "output_type": "stream",
     "text": [
      "i=0, x=7\n",
      "i=1, x=12\n",
      "i=2, x=-3\n",
      "i=3, x=5\n"
     ]
    }
   ],
   "source": [
    "a = [7, 12, -3, 5]\n",
    "for i, x in enumerate(a):\n",
    "    print(f'{i=}, {x=}')"
   ]
  },
  {
   "cell_type": "markdown",
   "id": "2236cbf2-2615-4df9-ad6d-78338aaa348c",
   "metadata": {},
   "source": [
    "## all\n",
    "\n",
    "`all(seq)` - `True`, если все элементы `seq` равны (приводятся к) `True`\n",
    "\n",
    "То же самое, что:\n",
    "```python\r\n",
    "def all(iterable):\n",
    "    for element in iterable:\n",
    "        if not element:\n",
    "            return False\n",
    "    return True\r\n",
    "```\n"
   ]
  },
  {
   "cell_type": "code",
   "execution_count": 185,
   "id": "db068f97-e8e9-4087-bd27-959f68194ef0",
   "metadata": {},
   "outputs": [
    {
     "data": {
      "text/plain": [
       "True"
      ]
     },
     "execution_count": 185,
     "metadata": {},
     "output_type": "execute_result"
    }
   ],
   "source": [
    "all([True, True, True])"
   ]
  },
  {
   "cell_type": "code",
   "execution_count": 186,
   "id": "29341ed6-5d1d-4475-9f6f-84d2b0ba380e",
   "metadata": {},
   "outputs": [
    {
     "data": {
      "text/plain": [
       "False"
      ]
     },
     "execution_count": 186,
     "metadata": {},
     "output_type": "execute_result"
    }
   ],
   "source": [
    "all([True, False, True])"
   ]
  },
  {
   "cell_type": "code",
   "execution_count": 187,
   "id": "f89a5fcd-44f3-4a4a-974e-4d28662639d0",
   "metadata": {},
   "outputs": [
    {
     "name": "stdout",
     "output_type": "stream",
     "text": [
      "True\n",
      "False\n",
      "False\n",
      "False\n",
      "False\n"
     ]
    }
   ],
   "source": [
    "print(all([1, 2, 3]))   \n",
    "print(all([1, 2, 3, 0, 5]))\n",
    "print(all([True, 0, 1]))\n",
    "print(all(('', 'red', 'green')))\n",
    "print(all({0j, 3+4j}))"
   ]
  },
  {
   "cell_type": "code",
   "execution_count": 188,
   "id": "95f0fb9c-1f9b-4cda-b5f0-22e346e9be64",
   "metadata": {},
   "outputs": [
    {
     "name": "stdout",
     "output_type": "stream",
     "text": [
      "False\n",
      "True\n"
     ]
    }
   ],
   "source": [
    "# при проверке словаря проверяются ТОЛЬКО КЛЮЧИ\n",
    "dict1 = {0: 'Zero', 1: 'One', 2: 'Two'}\n",
    "dict2 = {'Zero': 0, 'One': 1, 'Two': 2}\n",
    "\n",
    "print(all(dict1))\n",
    "print(all(dict2))"
   ]
  },
  {
   "cell_type": "markdown",
   "id": "196805d0-b70d-4cf1-904c-cbd71408429e",
   "metadata": {},
   "source": [
    "## any\n",
    "\n",
    "`any(seq)` - `True`, если хотя бы один элемент `seq` равны (приводятся к) `True`\n",
    "\n",
    "То же самое, что:\n",
    "```python\n",
    "def any(iterable):\n",
    "    for element in iterable:\n",
    "        if element:\n",
    "            return True\n",
    "    return False\n",
    "```\n"
   ]
  },
  {
   "cell_type": "code",
   "execution_count": 190,
   "id": "43f494ee-5036-4359-85ad-d4d1b252ee62",
   "metadata": {},
   "outputs": [
    {
     "name": "stdout",
     "output_type": "stream",
     "text": [
      "True\n",
      "False\n"
     ]
    }
   ],
   "source": [
    "print(any([False, True, False]))       #  возвращает True, так как есть хотя бы один элемент, равный True\n",
    "print(any([False, False, False]))      #  возвращает False, так как нет элементов, равных True"
   ]
  },
  {
   "cell_type": "code",
   "execution_count": 191,
   "id": "b712ce90-0722-438e-9e91-8f35a1c83648",
   "metadata": {},
   "outputs": [
    {
     "name": "stdout",
     "output_type": "stream",
     "text": [
      "False\n",
      "True\n",
      "True\n",
      "True\n",
      "True\n"
     ]
    }
   ],
   "source": [
    "print(any([0, 0, 0]))\n",
    "print(any([0, 1, 0]))\n",
    "print(any([False, 0, 1]))\n",
    "print(any(['', [], 'green']))\n",
    "print(any({0j, 3+4j, 0.0}))"
   ]
  },
  {
   "cell_type": "markdown",
   "id": "e177b824-9a23-4532-8d3c-754fd694b0fa",
   "metadata": {},
   "source": [
    "## lamda-выражения или анонимные фукнции\n",
    "\n",
    "Функции, у которых нет имени.\n",
    "\n",
    "Мы часто писали отдельные функции, которые выполняли что-то очень простое. Сложить два числа, из кортежа взять последний элемент, из целого числа взять единицы и тп.\n",
    "\n",
    "Можно такие \"мелкие\" функции определять сразу в выражении, а не писать отдельно."
   ]
  },
  {
   "cell_type": "markdown",
   "id": "78aa56e7-f475-4e75-b8ae-d14d8c485061",
   "metadata": {},
   "source": [
    "**Лямбда-функции** - это функции, для создания которых используется следующий синтаксис:\n",
    "\n",
    "```python\n",
    "lambda parametes: expression\n",
    "```\n",
    "\n",
    "_parameters_ - не обязательная часть. Обычно позиционые переменные через запятую. Можно использовать полный синтаксис, который допустим в def.\n",
    "\n",
    "_expression_ :\n",
    "* нельзя условные операторы или циклы (можно условные выражения);\n",
    "* нельзя **return** или **yield**\n",
    "\n",
    "Результатом лямбда-выражения является анонимная функция. При ее вызове вычисляется значение _expression_ при указанных значениях параметров. \n",
    "\n",
    "Если выражение _expression_ - кортеж, то он должен быть заключен в круглые скобки `()`\n",
    "\n",
    "Пример: лямбда-функция, которая добавляет 's' если аргумент не 1 (окончание множественного числа)."
   ]
  },
  {
   "cell_type": "code",
   "execution_count": 194,
   "id": "33ca1df7-d4dc-4cae-a517-2512d688b62f",
   "metadata": {},
   "outputs": [
    {
     "name": "stdout",
     "output_type": "stream",
     "text": [
      "7 files processed\n",
      "1 file processed\n"
     ]
    }
   ],
   "source": [
    "def s_func(x):\n",
    "    if x == 1 or x == 0:\n",
    "        return ''\n",
    "    else:\n",
    "        return 's'\n",
    "\n",
    "s = lambda x: \"\" if x == 1 or x == 0 else \"s\"                     # Анонимная функция присваевается переменной s.\n",
    "count=7\n",
    "print(f\"{count} file{s(count)} processed\")   # использование этой функции\n",
    "\n",
    "count=1\n",
    "print(f\"{count} file{s(count)} processed\")   # использование этой функции"
   ]
  },
  {
   "cell_type": "markdown",
   "id": "d12f27ef-85bc-4ce2-81f3-68eeb8f27665",
   "metadata": {},
   "source": [
    "Везде, где раньше мы передавали функцию, можем передать lambda-выражение:\n",
    "\n",
    "* key в sort, sorted, min, max\n",
    "* в map, filter, reduce, и т.д."
   ]
  },
  {
   "cell_type": "markdown",
   "id": "1cae2109-c24b-4a91-b652-24fd6a0d26ab",
   "metadata": {},
   "source": [
    "### Точно не нужно return?\n",
    "\n",
    "Не нужно. Эти две функции вычисления площади треугольника по основаниию b и высоте h вызываются одинаково:"
   ]
  },
  {
   "cell_type": "code",
   "execution_count": 195,
   "id": "a178422c-ff6c-4b04-8609-3050895f3b8b",
   "metadata": {},
   "outputs": [
    {
     "name": "stdout",
     "output_type": "stream",
     "text": [
      "15.0\n",
      "15.0\n"
     ]
    }
   ],
   "source": [
    "def area_func(b, h):\n",
    "    return 0.5 * b * h\n",
    "\n",
    "area = lambda b, h: 0.5 * b * h\n",
    "\n",
    "print(area_func(6, 5))\n",
    "print(area(6, 5))"
   ]
  },
  {
   "cell_type": "markdown",
   "id": "a8c1ea1b-4534-4bc8-970a-0c615d06956b",
   "metadata": {},
   "source": [
    "### PEP-8 и лямбда-функции\n",
    "\n",
    "Если код нужно использовать повторно (вызывать по имени), и функция пишется в одну строку, то лучше написать обычную функцию через `def`, а не использовать анонимную функцию (лямбду)."
   ]
  },
  {
   "cell_type": "code",
   "execution_count": 197,
   "id": "bad988a1-2835-4149-b9c4-e2ea7b811255",
   "metadata": {},
   "outputs": [],
   "source": [
    "# плохо\n",
    "area = lambda b, h: 0.5 * b * h\n",
    "\n",
    "# хорошо\n",
    "def area(b, h):\n",
    "    return 0.5 * b * h"
   ]
  },
  {
   "cell_type": "markdown",
   "id": "7d2c7f54-a2aa-465a-b1a6-1c4fa2449f8a",
   "metadata": {},
   "source": [
    "## Связки фукнций"
   ]
  },
  {
   "cell_type": "markdown",
   "id": "ef34bf09-eca8-44c8-bf19-4d8ff8b08c43",
   "metadata": {},
   "source": [
    "### Пример лямбда-функции - сортировка по ключу\n",
    "\n",
    "Пусть у нас есть список кортежей, которые описывают химические элементы (номер группы, порядковый номер, название)."
   ]
  },
  {
   "cell_type": "code",
   "execution_count": 199,
   "id": "ab694572-1ac7-4f22-9450-e5cefbf49a46",
   "metadata": {},
   "outputs": [
    {
     "name": "stdout",
     "output_type": "stream",
     "text": [
      "[(1, 3, 'Li'), (1, 11, 'Na'), (2, 4, 'Be'), (2, 12, 'Mg')]\n"
     ]
    }
   ],
   "source": [
    "elements = [(2, 12, \"Mg\"), (1, 11, \"Na\"), (1, 3, \"Li\"), (2, 4, \"Be\")]\n",
    "print(sorted(elements))"
   ]
  },
  {
   "cell_type": "code",
   "execution_count": 200,
   "id": "aed96ebc-7c22-4880-8357-c69dec458580",
   "metadata": {},
   "outputs": [
    {
     "data": {
      "text/plain": [
       "[(1, 3, 'Li'), (2, 4, 'Be'), (1, 11, 'Na'), (2, 12, 'Mg')]"
      ]
     },
     "execution_count": 200,
     "metadata": {},
     "output_type": "execute_result"
    }
   ],
   "source": [
    "# не хотим учитывать группу, хотим по номеру элемента\n",
    "sorted(elements, key=lambda e: (e[1], e[2]))   # не забываем про () если возвращаем кортеж"
   ]
  },
  {
   "cell_type": "code",
   "execution_count": 201,
   "id": "ced09a23-7a78-47d6-92ec-63f90fa9db0b",
   "metadata": {},
   "outputs": [
    {
     "data": {
      "text/plain": [
       "[(2, 4, 'Be'), (1, 3, 'Li'), (2, 12, 'Mg'), (1, 11, 'Na')]"
      ]
     },
     "execution_count": 201,
     "metadata": {},
     "output_type": "execute_result"
    }
   ],
   "source": [
    "# сначала по названию (приведем к нижнему регистру), потом по порядковому номеру\n",
    "sorted(elements, key=lambda e: (e[2].lower(), e[1]))"
   ]
  },
  {
   "cell_type": "markdown",
   "id": "ad3f37b5-2f77-48fa-acf8-a4f7d2bda377",
   "metadata": {},
   "source": [
    "### defaultdict - словари со значением по умолчанию\n",
    "\n",
    "Если элемента нет, то возвращается заданное значение по умолчанию."
   ]
  },
  {
   "cell_type": "code",
   "execution_count": 204,
   "id": "ed54f08a-595f-45e5-8858-0e5598304b2f",
   "metadata": {},
   "outputs": [
    {
     "name": "stdout",
     "output_type": "stream",
     "text": [
      "Здравствуйте\n",
      "No message available\n"
     ]
    }
   ],
   "source": [
    "import collections\n",
    "minus_one_dict = collections.defaultdict(lambda: -1)\n",
    "point_zero_dict = collections.defaultdict(lambda: (0, 0))\n",
    "message_dict = collections.defaultdict(lambda: \"No message available\")\n",
    "\n",
    "message_dict['hello'] = 'Здравствуйте'\n",
    "print(message_dict['hello'])\n",
    "print(message_dict['bye'])"
   ]
  },
  {
   "cell_type": "markdown",
   "id": "1a111c23-27ad-4d3d-aa9f-0725723d90ea",
   "metadata": {},
   "source": [
    "### фильтры"
   ]
  },
  {
   "cell_type": "code",
   "execution_count": 210,
   "id": "9d1e27bd-1ece-4e25-b034-e5b2987cca60",
   "metadata": {},
   "outputs": [
    {
     "name": "stdout",
     "output_type": "stream",
     "text": [
      "-5 -4 -3 -2 -1\n",
      "-9 -6 -3 0 3 6 9\n"
     ]
    }
   ],
   "source": [
    "number_list = range(-5, 5)\n",
    "less_than_zero = list(filter(lambda x: x < 0, number_list))\n",
    "print(*less_than_zero)\n",
    "\n",
    "div3 = filter(lambda x: x % 3 == 0, range(-10, 10))\n",
    "print(*div3)"
   ]
  },
  {
   "cell_type": "markdown",
   "id": "b4cadcfd-5278-48ce-82ea-551599984bcb",
   "metadata": {},
   "source": [
    "### Пример: скалярное умножение векторов\n",
    "\n",
    "$$\\sum{a_i \\cdot b_i}$$"
   ]
  },
  {
   "cell_type": "code",
   "execution_count": 215,
   "id": "7a1e7fed-6cfa-44a3-ba5a-60024c5f5255",
   "metadata": {},
   "outputs": [
    {
     "name": "stdout",
     "output_type": "stream",
     "text": [
      "5\n"
     ]
    }
   ],
   "source": [
    "a = [2, 4, -1]\n",
    "b = [3, 1, 5]\n",
    "print(sum(map(lambda z: z[0] * z[1], zip(a, b))))"
   ]
  },
  {
   "cell_type": "markdown",
   "id": "ba2fb1c0-7f6b-4f3f-b9b3-2b9d62e04870",
   "metadata": {},
   "source": [
    "### Пример: транспонирование матрицы"
   ]
  },
  {
   "cell_type": "code",
   "execution_count": 217,
   "id": "04400aee-3b2e-45b6-8243-aa5db1f7b89e",
   "metadata": {},
   "outputs": [
    {
     "name": "stdout",
     "output_type": "stream",
     "text": [
      "['a', 'd', 'n']\n",
      "['b', 'e', 'x']\n",
      "['c', 'g', 'y']\n"
     ]
    }
   ],
   "source": [
    "martix = [['a','b','c'],\n",
    "          ['d', 'e', 'g'],\n",
    "          ['n', 'x', 'y']]\n",
    "\n",
    "matrix_rotate = tuple(zip(*martix))\n",
    "\n",
    "for _ in matrix_rotate:\n",
    "    print(list(_))"
   ]
  },
  {
   "cell_type": "code",
   "execution_count": 222,
   "id": "23f1a486-6f09-46ce-ae65-e7a0d76fafd7",
   "metadata": {},
   "outputs": [
    {
     "name": "stdout",
     "output_type": "stream",
     "text": [
      "['a', 'b', 'c'] ['d', 'e', 'g'] ['n', 'x', 'y']\n"
     ]
    }
   ],
   "source": [
    "# по шагам:\n",
    "print(*martix)"
   ]
  },
  {
   "cell_type": "code",
   "execution_count": 221,
   "id": "0a7a501a-a1fe-484f-b2f3-f6e8cb1d0f7d",
   "metadata": {},
   "outputs": [
    {
     "name": "stdout",
     "output_type": "stream",
     "text": [
      "('a', 'd', 'n') ('b', 'e', 'x') ('c', 'g', 'y')\n"
     ]
    }
   ],
   "source": [
    "print(*zip(*martix))"
   ]
  },
  {
   "cell_type": "markdown",
   "id": "aeef24c7-56d7-4308-b569-1db3cb3e7e03",
   "metadata": {},
   "source": [
    "### join для не строк"
   ]
  },
  {
   "cell_type": "code",
   "execution_count": 223,
   "id": "c284e2a5-6c10-48ff-8268-59c4b95b2b2a",
   "metadata": {},
   "outputs": [
    {
     "data": {
      "text/plain": [
       "'Ann,Bob,Mike'"
      ]
     },
     "execution_count": 223,
     "metadata": {},
     "output_type": "execute_result"
    }
   ],
   "source": [
    "','.join(['Ann', 'Bob', 'Mike'])"
   ]
  },
  {
   "cell_type": "code",
   "execution_count": 226,
   "id": "248ced69-4923-4231-a489-b2f95b519e38",
   "metadata": {},
   "outputs": [
    {
     "ename": "TypeError",
     "evalue": "sequence item 0: expected str instance, int found",
     "output_type": "error",
     "traceback": [
      "\u001b[1;31m---------------------------------------------------------------------------\u001b[0m",
      "\u001b[1;31mTypeError\u001b[0m                                 Traceback (most recent call last)",
      "Cell \u001b[1;32mIn[226], line 1\u001b[0m\n\u001b[1;32m----> 1\u001b[0m \u001b[38;5;124;43m'\u001b[39;49m\u001b[38;5;124;43m;\u001b[39;49m\u001b[38;5;124;43m'\u001b[39;49m\u001b[38;5;241;43m.\u001b[39;49m\u001b[43mjoin\u001b[49m\u001b[43m(\u001b[49m\u001b[43m[\u001b[49m\u001b[38;5;241;43m12\u001b[39;49m\u001b[43m,\u001b[49m\u001b[43m \u001b[49m\u001b[38;5;241;43m-\u001b[39;49m\u001b[38;5;241;43m3\u001b[39;49m\u001b[43m,\u001b[49m\u001b[43m \u001b[49m\u001b[38;5;241;43m0.5\u001b[39;49m\u001b[43m]\u001b[49m\u001b[43m)\u001b[49m\n",
      "\u001b[1;31mTypeError\u001b[0m: sequence item 0: expected str instance, int found"
     ]
    }
   ],
   "source": [
    "';'.join([12, -3, 0.5])"
   ]
  },
  {
   "cell_type": "code",
   "execution_count": 227,
   "id": "8aee8adc-2950-4bba-adda-79658845bf7a",
   "metadata": {},
   "outputs": [
    {
     "data": {
      "text/plain": [
       "'12;-3;0.5'"
      ]
     },
     "execution_count": 227,
     "metadata": {},
     "output_type": "execute_result"
    }
   ],
   "source": [
    "';'.join(map(str, [12, -3, 0.5]))"
   ]
  },
  {
   "cell_type": "code",
   "execution_count": null,
   "id": "d0193ea4-751c-42ed-bf1d-3c793f0ab51d",
   "metadata": {},
   "outputs": [],
   "source": []
  }
 ],
 "metadata": {
  "kernelspec": {
   "display_name": "Python 3 (ipykernel)",
   "language": "python",
   "name": "python3"
  },
  "language_info": {
   "codemirror_mode": {
    "name": "ipython",
    "version": 3
   },
   "file_extension": ".py",
   "mimetype": "text/x-python",
   "name": "python",
   "nbconvert_exporter": "python",
   "pygments_lexer": "ipython3",
   "version": "3.10.2"
  }
 },
 "nbformat": 4,
 "nbformat_minor": 5
}
