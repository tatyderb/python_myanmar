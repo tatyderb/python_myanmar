{
 "cells": [
  {
   "cell_type": "markdown",
   "id": "8671a9fb-9c1b-45ed-9e32-e38651e7eacf",
   "metadata": {},
   "source": [
    "# Файлы и потоки"
   ]
  },
  {
   "cell_type": "markdown",
   "id": "dac366f3-a1ee-4106-8aff-26d315e8f81a",
   "metadata": {},
   "source": [
    "Если данных много, их хранят в файле, а не вводят руками с консоли. Нужно уметь обрабатывать много данных из файла и читать и писать в файл.\n",
    "\n",
    "С каждой запущенной программой связаны по умолчанию 3 потока данных. Можно открыть другие потоки, связав их с файлом:\n",
    "![stdin](https://stepik.org/media/attachments/lesson/265319/stdio.svg)"
   ]
  },
  {
   "cell_type": "markdown",
   "id": "8c2a9946-043f-4e9a-9987-7356034e2b4d",
   "metadata": {},
   "source": [
    "У каждой программе при запуске есть 3 потока: стандартный поток ввода **stdin**, стандартный поток вывода **stdout** и стандартный поток сообщений об ошибках **stderr**.\n",
    "\n",
    "* **stdin** - в него попадают данные, которые мы вводим с клавиатуры или перенаправляем в программу с помощью `<` в командной строке. С него читает функция **input()**.\n",
    "* **stdout** - выводится на экран. В него печатает **print**.\n",
    "* **stderr** - тоже выводится на экран. В него печатают сообщения об ошибках (exception).\n",
    "\n",
    "Переменные `stdin`, `stdout`, `stderr` определены в пакете `sys`.\n",
    "\n",
    "Для закрытия потока stdin (говорим, что данные закончились) при вводе с клавиатуры используйте:\n",
    "\n",
    "* **Ctrl+Z** на Windows\n",
    "* **Ctrl+D** на Linux/Mac\n",
    "\n",
    "Указать поток `stderr` при печати можно указав параметр `file`:"
   ]
  },
  {
   "cell_type": "code",
   "execution_count": 3,
   "id": "f883acf2-0ecd-47ab-9d13-e6f35769d875",
   "metadata": {},
   "outputs": [
    {
     "name": "stdout",
     "output_type": "stream",
     "text": [
      "На stdout\n"
     ]
    },
    {
     "name": "stderr",
     "output_type": "stream",
     "text": [
      "Ошибка\n"
     ]
    }
   ],
   "source": [
    "import sys\n",
    "print('На stdout')\n",
    "print('Ошибка', file=sys.stderr)"
   ]
  },
  {
   "cell_type": "markdown",
   "id": "8ff2fe60-e9dd-4ef0-b5ea-564c829bec97",
   "metadata": {},
   "source": [
    "## Открыть файл\n",
    "\n",
    "Открыть поток, связанный с файлом. \n",
    "\n",
    "**open** (path, mode='r', buffering=None, encoding=None, errors=None, newline=None, closefd=True)\n",
    "\n",
    "[документация](https://docs-python.ru/tutorial/vstroennye-funktsii-interpretatora-python/funktsija-open/)\n",
    "\n",
    "* path - путь к файлу (более сложные случаи - см. pathlib)\n",
    "    * `'/home/taty/work/example.py'`\n",
    "    * `'C:\\\\Users\\\\natasha\\\\task.py'`\n",
    "    * `r'C:\\Users\\natasha\\task.py'`\n",
    "\n",
    "* mode - как отрывать файл (чтени, запись, добавление)\n",
    "\n",
    "| Мода | Как открывает |\n",
    "|-|---|\n",
    "| 'r' | открытие на чтение (является значением по умолчанию). | \n",
    "| 'w' | открытие на запись, содержимое файла удаляется, если файла не существует, создается новый. | \n",
    "| 'x' | открытие на запись, если файла не существует, иначе исключение. | \n",
    "| 'a' | открытие на запись, информация добавляется в конец файла. | \n",
    "| 'b' | открытие в двоичном режиме. | \n",
    "| 't' | открытие в текстовом режиме (является значением по умолчанию). | \n",
    "| '+' | открытие на чтение и запись | \n",
    "\n",
    "#### Открыть файл на запись, только если такого файла нет\n",
    "\n",
    "Не хотим испортить уже существующий файл. Хотим открывать только новый. \n",
    "\n",
    "Использовать 'x' вместо 'w' в режиме открытия файла.\n",
    "\n",
    "### Надо закрывать файлы\n",
    "\n",
    "Если вы прочитали файл, то его нужно **обязательно закрыть**. Закрываем методом file.**close()**."
   ]
  },
  {
   "cell_type": "markdown",
   "id": "373499e9-f7ab-4ca4-a647-cecf61ab40b7",
   "metadata": {},
   "source": [
    "## Читаем файл\n",
    "\n",
    "Подробнее методы разберем позже, когда научимся правильно открывать и закрывать файлы. Сейчас сводная таблица.\n",
    "\n",
    "file в таблице ниже - это открытый нужным образом поток.\n",
    "\n",
    "| Метод | Что делает |\n",
    "|----|----|\n",
    "| file.**read()** | прочитать и вернуть весь файл |\n",
    "| file.**read(1)** | прочитать и вернуть 1 байт |\n",
    "| file.**readline()** | прочитать и вернуть 1 строку |\n",
    "| **next**(file) | прочитать и вернуть 1 строку |\n",
    "| file.**readlines()** | прочитать и вернуть все строки |\n",
    "| **list**(file) | прочитать все строки и вернуть список строк |\n",
    "\n",
    "### файл - итератор, можно перебрать в for\n",
    "\n",
    "```python\n",
    "for line in sys.stdin:\n",
    "    print(line)\n",
    "```"
   ]
  },
  {
   "cell_type": "markdown",
   "id": "b59cda69-c03a-4f70-9a22-0d179bca276e",
   "metadata": {},
   "source": [
    "Если читаем из `sys.stdin`, то закрыть поток с клавиатуры можно нажав клавиши\n",
    "\n",
    "| Клавиши | OC |\n",
    "|----|----|\n",
    "| Ctrl+Z | Windows |\n",
    "| Ctrl+D | Linux, Mac, итп |"
   ]
  },
  {
   "cell_type": "code",
   "execution_count": 46,
   "id": "71687b1c-22b3-4cb0-ab78-54b64cbaeca5",
   "metadata": {},
   "outputs": [
    {
     "name": "stdout",
     "output_type": "stream",
     "text": [
      "Маленькой елочке\n",
      "Холодно зимой.\n",
      "Из лесу елочку\n",
      "Взяли мы домой.\n",
      "\n"
     ]
    }
   ],
   "source": [
    "# вот так делать не нужно, хотя кажется, что работает\n",
    "file = open(r'data\\text.txt', 'r', encoding='utf-8')\n",
    "text = file.read()\n",
    "file.close()\n",
    "\n",
    "print(text)"
   ]
  },
  {
   "cell_type": "markdown",
   "id": "39a381ee-476c-4aa4-a37a-1378fb38d19f",
   "metadata": {},
   "source": [
    "## with .. as - контекстный менеджер"
   ]
  },
  {
   "cell_type": "code",
   "execution_count": 2,
   "id": "f982e0b2-b44d-4d34-9c25-586eb1806719",
   "metadata": {},
   "outputs": [
    {
     "name": "stdout",
     "output_type": "stream",
     "text": [
      "Маленькой елочке\n",
      "Холодно зимой.\n",
      "Из лесу елочку\n",
      "Взяли мы домой.\n",
      "\n"
     ]
    }
   ],
   "source": [
    "# вот так правильно:\n",
    "with open(r'data\\text.txt', 'r', encoding='utf-8') as file:\n",
    "    text = file.read()\n",
    "print(text)"
   ]
  },
  {
   "cell_type": "markdown",
   "id": "25b231d8-bdb1-4878-b71e-e2793f091f62",
   "metadata": {},
   "source": [
    "В чем разница между open/close и with..as, где закопаны грабли?\n",
    "\n",
    "* Программисты иногда забывают закрывать файлы. Это плохо.\r",
    "* \n",
    "Если пока мы пишем произошла в программе ошибка, то программа закончит работать, но сама файл не закроет. Придется писать специальный код, чтобы обрабатывать ошибки. Это сложно."
   ]
  },
  {
   "cell_type": "markdown",
   "id": "87d9f8c0-fcd1-4b9f-b31c-177fba64a1e9",
   "metadata": {},
   "source": [
    "### один файл на чтение, второй файл на запись"
   ]
  },
  {
   "cell_type": "code",
   "execution_count": 11,
   "id": "e1f220c2-9c04-46b2-8198-f171db3b8d78",
   "metadata": {},
   "outputs": [],
   "source": [
    "with open('data/text.txt', 'r', encoding='utf-8') as fin, open('data/muuur.txt', 'w', encoding='utf-8') as fout:\n",
    "    for line in fin:\n",
    "        print('Мур, '+line, file=fout, end='')"
   ]
  },
  {
   "cell_type": "markdown",
   "id": "e703b7d3-696c-4e74-b321-4b0dd554effb",
   "metadata": {},
   "source": [
    "## Если файла нет?\n",
    "\n",
    "Какие еще ошибки могут быть при чтении файла? Об этом позже, когда будем говорить про исключения."
   ]
  },
  {
   "cell_type": "code",
   "execution_count": 12,
   "id": "932d4aee-c3f1-419c-a08f-03109dc91f6b",
   "metadata": {},
   "outputs": [
    {
     "ename": "FileNotFoundError",
     "evalue": "[Errno 2] No such file or directory: 'data\\\\флываоывжа.txt'",
     "output_type": "error",
     "traceback": [
      "\u001b[1;31m---------------------------------------------------------------------------\u001b[0m",
      "\u001b[1;31mFileNotFoundError\u001b[0m                         Traceback (most recent call last)",
      "Cell \u001b[1;32mIn[12], line 1\u001b[0m\n\u001b[1;32m----> 1\u001b[0m \u001b[38;5;28;01mwith\u001b[39;00m \u001b[38;5;28;43mopen\u001b[39;49m\u001b[43m(\u001b[49m\u001b[38;5;124;43mr\u001b[39;49m\u001b[38;5;124;43m'\u001b[39;49m\u001b[38;5;124;43mdata\u001b[39;49m\u001b[38;5;124;43m\\\u001b[39;49m\u001b[38;5;124;43mфлываоывжа.txt\u001b[39;49m\u001b[38;5;124;43m'\u001b[39;49m\u001b[43m,\u001b[49m\u001b[43m \u001b[49m\u001b[38;5;124;43m'\u001b[39;49m\u001b[38;5;124;43mr\u001b[39;49m\u001b[38;5;124;43m'\u001b[39;49m\u001b[43m,\u001b[49m\u001b[43m \u001b[49m\u001b[43mencoding\u001b[49m\u001b[38;5;241;43m=\u001b[39;49m\u001b[38;5;124;43m'\u001b[39;49m\u001b[38;5;124;43mutf-8\u001b[39;49m\u001b[38;5;124;43m'\u001b[39;49m\u001b[43m)\u001b[49m \u001b[38;5;28;01mas\u001b[39;00m file:\n\u001b[0;32m      2\u001b[0m     text \u001b[38;5;241m=\u001b[39m file\u001b[38;5;241m.\u001b[39mread()\n\u001b[0;32m      3\u001b[0m \u001b[38;5;28mprint\u001b[39m(text)\n",
      "File \u001b[1;32m~\\PycharmProjects\\deploy_scripts\\venv\\lib\\site-packages\\IPython\\core\\interactiveshell.py:310\u001b[0m, in \u001b[0;36m_modified_open\u001b[1;34m(file, *args, **kwargs)\u001b[0m\n\u001b[0;32m    303\u001b[0m \u001b[38;5;28;01mif\u001b[39;00m file \u001b[38;5;129;01min\u001b[39;00m {\u001b[38;5;241m0\u001b[39m, \u001b[38;5;241m1\u001b[39m, \u001b[38;5;241m2\u001b[39m}:\n\u001b[0;32m    304\u001b[0m     \u001b[38;5;28;01mraise\u001b[39;00m \u001b[38;5;167;01mValueError\u001b[39;00m(\n\u001b[0;32m    305\u001b[0m         \u001b[38;5;124mf\u001b[39m\u001b[38;5;124m\"\u001b[39m\u001b[38;5;124mIPython won\u001b[39m\u001b[38;5;124m'\u001b[39m\u001b[38;5;124mt let you open fd=\u001b[39m\u001b[38;5;132;01m{\u001b[39;00mfile\u001b[38;5;132;01m}\u001b[39;00m\u001b[38;5;124m by default \u001b[39m\u001b[38;5;124m\"\u001b[39m\n\u001b[0;32m    306\u001b[0m         \u001b[38;5;124m\"\u001b[39m\u001b[38;5;124mas it is likely to crash IPython. If you know what you are doing, \u001b[39m\u001b[38;5;124m\"\u001b[39m\n\u001b[0;32m    307\u001b[0m         \u001b[38;5;124m\"\u001b[39m\u001b[38;5;124myou can use builtins\u001b[39m\u001b[38;5;124m'\u001b[39m\u001b[38;5;124m open.\u001b[39m\u001b[38;5;124m\"\u001b[39m\n\u001b[0;32m    308\u001b[0m     )\n\u001b[1;32m--> 310\u001b[0m \u001b[38;5;28;01mreturn\u001b[39;00m io_open(file, \u001b[38;5;241m*\u001b[39margs, \u001b[38;5;241m*\u001b[39m\u001b[38;5;241m*\u001b[39mkwargs)\n",
      "\u001b[1;31mFileNotFoundError\u001b[0m: [Errno 2] No such file or directory: 'data\\\\флываоывжа.txt'"
     ]
    }
   ],
   "source": [
    "with open(r'data\\флываоывжа.txt', 'r', encoding='utf-8') as file:\n",
    "    text = file.read()\n",
    "print(text)"
   ]
  },
  {
   "cell_type": "markdown",
   "id": "8c7befcc-4784-4dea-9bc1-2fe205761106",
   "metadata": {},
   "source": [
    "## Блок try - except\n",
    "\n",
    "Попробуем поймать исключение. Ключевые слова **try** и **except**."
   ]
  },
  {
   "cell_type": "code",
   "execution_count": 5,
   "id": "a5bb2fe0-bd26-4dab-9295-5ff15e9702c7",
   "metadata": {},
   "outputs": [
    {
     "name": "stdout",
     "output_type": "stream",
     "text": [
      "1.0 5\n",
      "Поймали исключение!\n",
      "После блока обработки исключений\n"
     ]
    }
   ],
   "source": [
    "def foo(a):\n",
    "    x = 5 / a\n",
    "    print(x, a)\n",
    "\n",
    "try:    \n",
    "    foo(5)\n",
    "    foo(0)      # на 0 делить нельзя\n",
    "    foo(7)\n",
    "except ZeroDivisionError as e:\n",
    "    print('Поймали исключение!')\n",
    "    \n",
    "print('После блока обработки исключений')"
   ]
  },
  {
   "cell_type": "markdown",
   "id": "62ac51af-e51d-42ce-930a-0ac22865d21b",
   "metadata": {},
   "source": [
    "Как пошагово выполняется программа. Куда передается управление.\n",
    "\n",
    "Видим, что при поимке исключения, программа может выполняться дальше.\n",
    "\n",
    "`foo(7)` - не выполняется, так как это блок `try` - то что нужно выполнить до первого исключения.\n",
    "\n",
    "`print('После блока обработки исключений')` - программа работает дальше, после окончания try-except блока."
   ]
  },
  {
   "cell_type": "markdown",
   "id": "b05c6e94-cec7-43fe-ad9b-b81d62fd27a9",
   "metadata": {},
   "source": [
    "## Как работает перехват исключений\n",
    "\n",
    "* Вначале выполняется код, находящийся между операторами try и except.\n",
    "* Если в ходе его выполнения исключения не произошло, то код в блоке except пропускается, а код в блоке try выполняется весь до конца.\n",
    "* Если исключение происходит, то выполнение в рамках блока try прерывается и выполняется код в блоке except. При этом для оператора except можно указать, какие исключения можно обрабатывать в нем. При возникновении исключения, ищется именно тот блок except, который может обработать данное исключение.\n",
    "* Если среди except блоков нет подходящего для обработки исключения, то оно передается наружу из блока try. В случае, если обработчик исключения так и не будет найден, то исключение будет необработанным (unhandled exception) и программа аварийно остановится.\n",
    "\n",
    "Что за \"подходящий блок для обработки исключений\"?"
   ]
  },
  {
   "cell_type": "markdown",
   "id": "4b489cc9-daed-42f2-ab34-4db1e52f4d6e",
   "metadata": {},
   "source": [
    "## Много разных исключений\n",
    "\n",
    "Иногда код может породить **исключения разных типов**.\n",
    "\n",
    "Если они обрабатываются одинаково, то перечислите их типы через запятую:\n",
    "```python\n",
    "except (RuntimeError, TypeError, NameError):\n",
    "    pass\n",
    "```\n",
    "\n",
    "Если нужна разная обработка, то пишем много except блоков:\n",
    "```python\n",
    "except RuntimeError:\n",
    "    print('один случай')\n",
    "except TypeError:\n",
    "    print('второй случай')\n",
    "except NameError:\n",
    "    print('третий случай')\n",
    "```\n"
   ]
  },
  {
   "cell_type": "code",
   "execution_count": 9,
   "id": "67007506-cccf-4c30-bf91-31155ed5e893",
   "metadata": {},
   "outputs": [
    {
     "name": "stdout",
     "output_type": "stream",
     "text": [
      "2.5 2 3\n",
      "Поймали исключение!\n",
      "list index out of range\n",
      "------------------------------------------------------------\n",
      "Traceback (most recent call last):\n",
      "  File \"C:\\Users\\taty\\AppData\\Local\\Temp\\ipykernel_18096\\3720031336.py\", line 14, in <module>\n",
      "    foo(7)\n",
      "  File \"C:\\Users\\taty\\AppData\\Local\\Temp\\ipykernel_18096\\3720031336.py\", line 8, in foo\n",
      "    y = b[a]\n",
      "IndexError: list index out of range\n",
      "------------------------------------------------------------\n",
      "После блока обработки исключений\n"
     ]
    }
   ],
   "source": [
    "# единый блок обработки исключений\n",
    "import traceback\n",
    "import sys\n",
    "\n",
    "def foo(a):\n",
    "    b = [1, 2, 3]\n",
    "    x = 5 / a\n",
    "    y = b[a]\n",
    "    print(x, a, y)\n",
    "\n",
    "try:    \n",
    "    foo(2)\n",
    "    # foo(0)      # на 0 делить нельзя\n",
    "    foo(7)\n",
    "except (ZeroDivisionError, IndexError)  as e:\n",
    "    print('Поймали исключение!')\n",
    "    print(e)\n",
    "    print('-'*60)\n",
    "    traceback.print_exc(file=sys.stdout)\n",
    "    print('-'*60)\n",
    "    \n",
    "print('После блока обработки исключений')"
   ]
  },
  {
   "cell_type": "code",
   "execution_count": 12,
   "id": "2ecb9aac-6057-40a7-8fc4-f0dc3f3b1ee6",
   "metadata": {},
   "outputs": [
    {
     "name": "stdout",
     "output_type": "stream",
     "text": [
      "2.5 2 3\n",
      "После блока обработки исключений\n"
     ]
    }
   ],
   "source": [
    "# разные блоки обработки разных исключений\n",
    "import traceback\n",
    "import sys\n",
    "\n",
    "def foo(a):\n",
    "    b = [1, 2, 3]\n",
    "    x = 5 / a\n",
    "    y = b[a]\n",
    "    print(x, a, y)\n",
    "\n",
    "try:    \n",
    "    foo(2)      # ok\n",
    "    foo(0)      # на 0 делить нельзя\n",
    "    foo(7)      # выход за границы списка\n",
    "except ZeroDivisionError:\n",
    "    pass\n",
    "except IndexError  as e:\n",
    "    print('Поймали исключение!')\n",
    "    print(e)\n",
    "    print('-'*60)\n",
    "    traceback.print_exc(file=sys.stdout)\n",
    "    print('-'*60)\n",
    "    \n",
    "print('После блока обработки исключений')"
   ]
  },
  {
   "cell_type": "markdown",
   "id": "24855d24-e033-4fe5-81aa-f3552b7f372c",
   "metadata": {},
   "source": [
    "## Разные исключения ловим в разных местах\n",
    "\n",
    "Вызываются функции `bzz` -> `qqq` -> `foo`.\n",
    "\n",
    "В `foo` возникают исключения `ZeroDivisionError` и `IndexError`.\n",
    "\n",
    "Поймаем исключение `ZeroDivisionError` в функции `qqq`, а `IndexError` в функции `bzz`."
   ]
  },
  {
   "cell_type": "code",
   "execution_count": 15,
   "id": "fe32ebc8-a4b5-4ec6-bb4a-66ea94073a43",
   "metadata": {},
   "outputs": [
    {
     "name": "stdout",
     "output_type": "stream",
     "text": [
      "2.5 2 3\n",
      "qqq: After try-ecxept block\n",
      "bzz: After try-ecxept block\n",
      "\n",
      "qqq: ZeroDivisionError\n",
      "Traceback (most recent call last):\n",
      "  File \"C:\\Users\\taty\\AppData\\Local\\Temp\\ipykernel_18096\\3472813346.py\", line 12, in qqq\n",
      "    foo(a)\n",
      "  File \"C:\\Users\\taty\\AppData\\Local\\Temp\\ipykernel_18096\\3472813346.py\", line 6, in foo\n",
      "    x = 5 / a\n",
      "ZeroDivisionError: division by zero\n",
      "qqq: After try-ecxept block\n",
      "bzz: After try-ecxept block\n",
      "\n",
      "bzz: IndexError\n",
      "Traceback (most recent call last):\n",
      "  File \"C:\\Users\\taty\\AppData\\Local\\Temp\\ipykernel_18096\\3472813346.py\", line 20, in bzz\n",
      "    qqq(a)\n",
      "  File \"C:\\Users\\taty\\AppData\\Local\\Temp\\ipykernel_18096\\3472813346.py\", line 12, in qqq\n",
      "    foo(a)\n",
      "  File \"C:\\Users\\taty\\AppData\\Local\\Temp\\ipykernel_18096\\3472813346.py\", line 7, in foo\n",
      "    y = b[a]\n",
      "IndexError: list index out of range\n",
      "bzz: After try-ecxept block\n",
      "\n"
     ]
    }
   ],
   "source": [
    "import traceback\n",
    "import sys\n",
    "\n",
    "def foo(a):\n",
    "    b = [1, 2, 3]\n",
    "    x = 5 / a\n",
    "    y = b[a]\n",
    "    print(x, a, y)\n",
    "    \n",
    "def qqq(a):\n",
    "    try:\n",
    "        foo(a)\n",
    "    except ZeroDivisionError:\n",
    "        print('qqq: ZeroDivisionError')\n",
    "        traceback.print_exc(file=sys.stdout)\n",
    "    print('qqq: After try-ecxept block')\n",
    "        \n",
    "def bzz(a):\n",
    "    try:\n",
    "        qqq(a)\n",
    "    except IndexError:\n",
    "        print('bzz: IndexError')\n",
    "        traceback.print_exc(file=sys.stdout)\n",
    "    print('bzz: After try-ecxept block\\n')\n",
    "\n",
    "bzz(2)\n",
    "        # 2.5 2 3\n",
    "        # qqq: After try-ecxept block\n",
    "        # bzz: After try-ecxept block\n",
    "bzz(0)\n",
    "        # qqq: ZeroDivisionError\n",
    "        # qqq: After try-ecxept block\n",
    "        # bzz: After try-ecxept block\n",
    "bzz(7)\n",
    "        # bzz: IndexError\n",
    "        # bzz: After try-ecxept block"
   ]
  },
  {
   "cell_type": "markdown",
   "id": "1b75f8e4-4029-4b11-bc52-a63ed3ea51b4",
   "metadata": {},
   "source": [
    "Обратите внимание на различие в stacktrace."
   ]
  },
  {
   "cell_type": "markdown",
   "id": "93daff73-01f3-4b19-82a7-f1aa6ad9cf4c",
   "metadata": {},
   "source": [
    "## Иерархия исключений\n",
    "\n",
    "Какой тип в блоке except является подходящим, чтобы перехватить исключение?\n",
    "\n",
    "Точно такой же или его предок в иерархии классов исключений."
   ]
  },
  {
   "cell_type": "code",
   "execution_count": 16,
   "id": "d2206e43-4fa3-4f0e-86ad-9bf7f0c0b9e2",
   "metadata": {},
   "outputs": [
    {
     "name": "stdout",
     "output_type": "stream",
     "text": [
      "2.5 2 3\n",
      "После блока обработки исключений\n"
     ]
    }
   ],
   "source": [
    "import traceback\n",
    "import sys\n",
    "\n",
    "def foo(a):\n",
    "    b = [1, 2, 3]\n",
    "    x = 5 / a\n",
    "    y = b[a]\n",
    "    print(x, a, y)\n",
    "\n",
    "try:    \n",
    "    foo(2)      # ok\n",
    "    #foo(0)      # на 0 делить нельзя\n",
    "    foo(7)      # выход за границы списка\n",
    "except Exception:           # ловим еще исключения, которые наследуют от класса Exception\n",
    "    pass\n",
    "except IndexError  as e:    # никогда не выполнится, исключение поймали раньше\n",
    "    print('Поймали исключение!')\n",
    "    print(e)\n",
    "    print('-'*60)\n",
    "    traceback.print_exc(file=sys.stdout)\n",
    "    print('-'*60)\n",
    "    \n",
    "print('После блока обработки исключений')"
   ]
  },
  {
   "cell_type": "markdown",
   "id": "5314d89a-9cda-4c81-adee-b4e51802c16e",
   "metadata": {},
   "source": [
    "Где наша обработка исключения IndexError? При выходе за границы массива исключение будет перехвачено в блоке `except Exception`, потому что в предках класса `IndexError` есть `Exception`.\n",
    "\n",
    "Пишем исключения от самых специфических (сначала) к более общим (ниже).\n",
    "\n",
    "**Никогда не пишите ecxept Exception**. Так вы поймаете (чужие) исключения, которые не позволят диагностировать логическую ошибку в программе.\n",
    "\n",
    "**except без указания типа ловит все исключения. Не надо так писать!**"
   ]
  },
  {
   "cell_type": "raw",
   "id": "891c8b99-f156-4011-9504-15801ef79744",
   "metadata": {},
   "source": [
    "BaseException\n",
    " +-- SystemExit\n",
    " +-- KeyboardInterrupt\n",
    " +-- GeneratorExit\n",
    " +-- Exception\n",
    "      +-- StopIteration\n",
    "      +-- StopAsyncIteration\n",
    "      +-- ArithmeticError\n",
    "      |    +-- FloatingPointError\n",
    "      |    +-- OverflowError\n",
    "      |    +-- ZeroDivisionError\n",
    "      +-- AssertionError\n",
    "      +-- AttributeError\n",
    "      +-- BufferError\n",
    "      +-- EOFError\n",
    "      +-- ImportError\n",
    "      |    +-- ModuleNotFoundError\n",
    "      +-- LookupError\n",
    "      |    +-- IndexError\n",
    "      |    +-- KeyError\n",
    "      +-- MemoryError\n",
    "      +-- NameError\n",
    "      |    +-- UnboundLocalError\n",
    "      +-- OSError\n",
    "      |    +-- BlockingIOError\n",
    "      |    +-- ChildProcessError\n",
    "      |    +-- ConnectionError\n",
    "      |    |    +-- BrokenPipeError\n",
    "      |    |    +-- ConnectionAbortedError\n",
    "      |    |    +-- ConnectionRefusedError\n",
    "      |    |    +-- ConnectionResetError\n",
    "      |    +-- FileExistsError\n",
    "      |    +-- FileNotFoundError\n",
    "      |    +-- InterruptedError\n",
    "      |    +-- IsADirectoryError\n",
    "      |    +-- NotADirectoryError\n",
    "      |    +-- PermissionError\n",
    "      |    +-- ProcessLookupError\n",
    "      |    +-- TimeoutError\n",
    "      +-- ReferenceError\n",
    "      +-- RuntimeError\n",
    "      |    +-- NotImplementedError\n",
    "      |    +-- RecursionError\n",
    "      +-- SyntaxError\n",
    "      |    +-- IndentationError\n",
    "      |         +-- TabError\n",
    "      +-- SystemError\n",
    "      +-- TypeError\n",
    "      +-- ValueError\n",
    "      |    +-- UnicodeError\n",
    "      |         +-- UnicodeDecodeError\n",
    "      |         +-- UnicodeEncodeError\n",
    "      |         +-- UnicodeTranslateError\n",
    "      +-- Warning\n",
    "           +-- DeprecationWarning\n",
    "           +-- PendingDeprecationWarning\n",
    "           +-- RuntimeWarning\n",
    "           +-- SyntaxWarning\n",
    "           +-- UserWarning\n",
    "           +-- FutureWarning\n",
    "           +-- ImportWarning\n",
    "           +-- UnicodeWarning\n",
    "           +-- BytesWarning\n",
    "           +-- ResourceWarning"
   ]
  },
  {
   "cell_type": "markdown",
   "id": "4fcf2f9f-96ad-4a4b-82f1-01e35966d252",
   "metadata": {},
   "source": [
    "### Обзор исключений\n",
    "\n",
    "* **BaseException** - базовое исключение, от которого берут начало все остальные.\n",
    "    * **SystemExit** - исключение, порождаемое функцией sys.exit при выходе из программы.\n",
    "    * **KeyboardInterrupt** - порождается при прерывании программы пользователем (обычно сочетанием клавиш Ctrl+C).\n",
    "    * **GeneratorExit** - порождается при вызове метода close объекта generator.\n",
    "    * **Exception** - а вот тут уже заканчиваются полностью системные исключения (которые лучше не трогать) и начинаются обыкновенные, с которыми можно работать.\n",
    "        * **StopIteration** - порождается встроенной функцией next, если в итераторе больше нет элементов.\n",
    "        * **ArithmeticError** - арифметическая ошибка.\n",
    "            * **FloatingPointError** - порождается при неудачном выполнении операции с плавающей запятой. На практике встречается нечасто.\n",
    "            * **OverflowError** - возникает, когда результат арифметической операции слишком велик для представления. Не появляется при обычной работе с целыми числами (так как python поддерживает длинные числа), но может возникать в некоторых других случаях.\n",
    "            * **ZeroDivisionError** - деление на ноль.\n",
    "        * **AssertionError** - выражение в функции assert ложно.\n",
    "        * **AttributeError** - объект не имеет данного атрибута (значения или метода).\n",
    "        * **BufferError** - операция, связанная с буфером, не может быть выполнена.\n",
    "        * **EOFError** - функция наткнулась на конец файла и не смогла прочитать то, что хотела.\n",
    "        * **ImportError** - не удалось импортирование модуля или его атрибута.\n",
    "        * **LookupError** - некорректный индекс или ключ.\n",
    "            * **IndexError** - индекс не входит в диапазон элементов.\n",
    "            * **KeyError** - несуществующий ключ (в словаре, множестве или другом объекте).\n",
    "        * **MemoryError** - недостаточно памяти.\n",
    "        * **NameError** - не найдено переменной с таким именем.\n",
    "            * **UnboundLocalError** - сделана ссылка на локальную переменную в функции, но переменная не определена ранее.\n",
    "        * **OSError** - ошибка, связанная с системой.\n",
    "            * **BlockingIOError**\n",
    "            * **ChildProcessError** - неудача при операции с дочерним процессом.\n",
    "            * **ConnectionError** - базовый класс для исключений, связанных с подключениями.\n",
    "                * **BrokenPipeError**\n",
    "                * **ConnectionAbortedError**\n",
    "                * **ConnectionRefusedError**\n",
    "                * **ConnectionResetError**\n",
    "            * **FileExistsError** - попытка создания файла или директории, которая уже существует.\n",
    "            * **FileNotFoundError** - файл или директория не существует.\n",
    "            * **InterruptedError** - системный вызов прерван входящим сигналом.\n",
    "            * **IsADirectoryError** - ожидался файл, но это директория.\n",
    "            * **NotADirectoryError** - ожидалась директория, но это файл.\n",
    "            * **PermissionError** - не хватает прав доступа.\n",
    "            * **ProcessLookupError** - указанного процесса не существует.\n",
    "            * **TimeoutError** - закончилось время ожидания.\n",
    "        * **ReferenceError** - попытка доступа к атрибуту со слабой ссылкой.\n",
    "        * **RuntimeError** - возникает, когда исключение не попадает ни под одну из других категорий.\n",
    "        * **NotImplementedError** - возникает, когда абстрактные методы класса требуют переопределения в дочерних классах.\n",
    "        * **SyntaxError** - синтаксическая ошибка.\n",
    "            * **IndentationError** - неправильные отступы.\n",
    "                * **TabError** - смешивание в отступах табуляции и пробелов.\n",
    "        * **SystemError** - внутренняя ошибка.\n",
    "        * **TypeError** - операция применена к объекту несоответствующего типа.\n",
    "        * **ValueError** - функция получает аргумент правильного типа, но некорректного значения.\n",
    "        * **UnicodeError** - ошибка, связанная с кодированием / раскодированием unicode в строках.\n",
    "            * **UnicodeEncodeError** - исключение, связанное с кодированием unicode.\n",
    "            * **UnicodeDecodeError** - исключение, связанное с декодированием unicode.\n",
    "            * **UnicodeTranslateError** - исключение, связанное с переводом unicode.\n",
    "        * **Warning** - предупреждение.\n",
    " "
   ]
  },
  {
   "cell_type": "markdown",
   "id": "fe72ddcb-353e-4849-a891-e72a275e214e",
   "metadata": {},
   "source": [
    "### Как узнать какие исключения может выпускать функция?\n",
    "\n",
    "**Все пропускаемые исключения обязаны быть описаны в документации.**\n",
    "\n",
    "Цитата из документации по встроенной функции open:\n",
    "```\n",
    "open(file, mode='r', buffering=-1, encoding=None, errors=None, newline=None, closefd=True, opener=None)\n",
    "\n",
    "Open file and return a corresponding file object. If the file cannot be opened, an OSError is raised.\n",
    "```"
   ]
  },
  {
   "attachments": {
    "8122122e-1b50-448d-92a5-0fcd90f97ebf.png": {
     "image/png": "[encoded data removed]"
    }
   },
   "cell_type": "markdown",
   "id": "8c0bef7d-9065-4030-90a3-5396c6e8180b",
   "metadata": {},
   "source": [
    "## Блок finally - в конце концов (всегда)\n",
    "\n",
    "Что делать, если нужно закрыть файл (или выполнить любую clean-up операцию по освобождению ресурсов), вне зависимости, успешно отработал try блок или в нем возникло исключение.\n",
    "\n",
    "Нужно использовать блок **finally**\n",
    "\n",
    "* Если исключения не возникло, то после блока try выполняется блок finally.\n",
    "* Если исключение возникло и было перехвачено в одном из блоков except, то после него выполняется finally.\n",
    "* Если исключение возникло, но не нашлось в функции подходящего ecxept, то *сначала* будет выполнен блок finally, а *потом* исключение будет передано вверх по стеку вызова функций.\n",
    "\n",
    "![finally.png](attachment:8122122e-1b50-448d-92a5-0fcd90f97ebf.png)"
   ]
  },
  {
   "cell_type": "code",
   "execution_count": 20,
   "id": "adb3cb44-7419-400e-ac73-ec690601ea70",
   "metadata": {},
   "outputs": [
    {
     "name": "stdout",
     "output_type": "stream",
     "text": [
      "Было вызвано исключение IOError. No such file or directory\n",
      "Я буду напечатан вне зависимости от исключений в блоке try!\n"
     ]
    }
   ],
   "source": [
    "try:\n",
    "    file = open('sdfasdf.txt', 'r')\n",
    "except IOError as e:\n",
    "    print(f'Было вызвано исключение IOError. {e.args[-1]}')\n",
    "finally:\n",
    "    print(\"Я буду напечатан вне зависимости от исключений в блоке try!\")\n"
   ]
  },
  {
   "cell_type": "markdown",
   "id": "0f20d41c-f73f-4003-888a-a76b336bb647",
   "metadata": {},
   "source": [
    "## else - try и еще немного\n",
    "\n",
    "Если несколько выражений в try могут вызвать исключения и хочется отделить исключения одного от исключений другого, то можно или разбить его на несколько try-ecxept блоков, или (если исключения хочется обработать выше в стеке) написать else блок.\n",
    "\n",
    "```python\r\n",
    "try:\n",
    "  do_some_stuff()\n",
    "except:             # не указан тип? берем все исключения!\n",
    "  rollback()\n",
    "  raise             # генерируем повтороно последнее исключение\n",
    "else:\n",
    "  commit()\r\n",
    "```"
   ]
  },
  {
   "cell_type": "markdown",
   "id": "c652cbc5-d22f-40f4-8266-f0d051eb108e",
   "metadata": {},
   "source": [
    "### Все вместе"
   ]
  },
  {
   "cell_type": "code",
   "execution_count": 21,
   "id": "90ab11eb-226c-40bc-b774-b92ad56d0041",
   "metadata": {},
   "outputs": [
    {
     "name": "stdout",
     "output_type": "stream",
     "text": [
      "Я уверен, исключений не будет!\n",
      "Я буду исполнен, если в try не будет исключений.Мои исключения не будут обрабатываться.\n",
      "Я буду исполнен в любом случае!\n"
     ]
    }
   ],
   "source": [
    "try:\n",
    "    print('Я уверен, исключений не будет!')\n",
    "except Exception:\n",
    "    print('Исключение')\n",
    "else:\n",
    "    # Любой код, который должен быть исполнен, если исключение в блоке\n",
    "    # try не было вызвано, но для которого не должна проводиться\n",
    "    # обработка исключений\n",
    "    print('Я буду исполнен, если в try не будет исключений.'\n",
    "          'Мои исключения не будут обрабатываться.')\n",
    "finally:\n",
    "    print('Я буду исполнен в любом случае!')"
   ]
  },
  {
   "attachments": {
    "6a3f0f28-5d49-42b1-b27c-19d29b24eada.png": {
     "image/png": "[encoded data removed]"
    }
   },
   "cell_type": "markdown",
   "id": "f7eaa7ee-b9ee-4fbb-9dc6-1c901cf5b827",
   "metadata": {},
   "source": [
    "Перерисовать, ибо потащено с https://realpython.com/python-exceptions/#the-else-clause\n",
    "\n",
    "![tryelse.png](attachment:6a3f0f28-5d49-42b1-b27c-19d29b24eada.png)"
   ]
  },
  {
   "cell_type": "markdown",
   "id": "5f74be75-e9d3-4ce2-acba-338ed8e90b5c",
   "metadata": {},
   "source": [
    "### Контрольный выстрел\n",
    "\n",
    "Что вернет функция при следующих вызовах:"
   ]
  },
  {
   "cell_type": "code",
   "execution_count": 23,
   "id": "a23f8e5f-b12b-4308-a4d5-23108415804e",
   "metadata": {},
   "outputs": [
    {
     "name": "stdout",
     "output_type": "stream",
     "text": [
      "2.5 2 3\n",
      "try\n",
      "finally\n",
      "bzz(2)=4\n",
      "ecxept\n",
      "finally\n",
      "bzz(0)=4\n",
      "ecxept\n",
      "finally\n",
      "bzz(7)=4\n"
     ]
    }
   ],
   "source": [
    "def foo(a):\n",
    "    b = [1, 2, 3]\n",
    "    x = 5 / a\n",
    "    y = b[a]\n",
    "    print(x, a, y)\n",
    "    \n",
    "def bzz(a):\n",
    "    try:\n",
    "        foo(a)\n",
    "        print('try')\n",
    "        return 1            # пока в try есть return, else не вызовется\n",
    "    except:\n",
    "        print('ecxept')\n",
    "        return 2\n",
    "    else:\n",
    "        print('else')\n",
    "        return 3\n",
    "    finally:\n",
    "        print('finally')\n",
    "        return 4\n",
    "    return 5\n",
    "\n",
    "print(f'bzz({2})={bzz(2)}')\n",
    "print(f'bzz({0})={bzz(0)}')\n",
    "print(f'bzz({7})={bzz(7)}')"
   ]
  },
  {
   "cell_type": "markdown",
   "id": "e0e6e057-3cc4-48fa-adc3-e1b699a31aa1",
   "metadata": {},
   "source": [
    "## Генерация исключений в Python\n",
    "\n",
    "Для принудительной генерации исключения используется инструкция **raise**.\n",
    "\n",
    "Самый простой пример работы с raise может выглядеть так."
   ]
  },
  {
   "cell_type": "code",
   "execution_count": 25,
   "id": "dcd647ce-4441-472c-8176-01e9f93b6974",
   "metadata": {},
   "outputs": [
    {
     "name": "stdout",
     "output_type": "stream",
     "text": [
      "Exception exception: Some exception\n"
     ]
    }
   ],
   "source": [
    "try:\n",
    "   raise Exception(\"Some exception\")\n",
    "except Exception as e:\n",
    "   print(f\"Exception exception: {e}\")"
   ]
  },
  {
   "cell_type": "markdown",
   "id": "1f89eb69-bbf8-48ee-adad-ef1937afdd91",
   "metadata": {},
   "source": [
    "Таким образом, можно \"вручную\" вызывать исключения при необходимости.\n",
    "\n",
    "Или перевызвать последнее исключение, вызвав **raise** без параметров."
   ]
  },
  {
   "cell_type": "markdown",
   "id": "799bddcf-f3b3-45b1-87ea-a00c5b6f96a5",
   "metadata": {},
   "source": [
    "## Информация в исключении\n",
    "\n",
    "Обычно достаточно перехватить исключение и реагировать на сам факт его появления.\n",
    "\n",
    "**args** - это кортеж составных частей исключения. В него можно добавить свою информацию."
   ]
  },
  {
   "cell_type": "code",
   "execution_count": 27,
   "id": "96b34dbc-7c2a-4ef7-b6ae-c55f3d97d215",
   "metadata": {},
   "outputs": [
    {
     "ename": "ValueError",
     "evalue": "too many values to unpack (expected 3)",
     "output_type": "error",
     "traceback": [
      "\u001b[1;31m---------------------------------------------------------------------------\u001b[0m",
      "\u001b[1;31mValueError\u001b[0m                                Traceback (most recent call last)",
      "Cell \u001b[1;32mIn[27], line 2\u001b[0m\n\u001b[0;32m      1\u001b[0m d \u001b[38;5;241m=\u001b[39m [\u001b[38;5;241m2\u001b[39m, \u001b[38;5;241m4\u001b[39m, \u001b[38;5;241m7\u001b[39m, \u001b[38;5;241m11\u001b[39m]\n\u001b[1;32m----> 2\u001b[0m (a, b, c) \u001b[38;5;241m=\u001b[39m d\n",
      "\u001b[1;31mValueError\u001b[0m: too many values to unpack (expected 3)"
     ]
    }
   ],
   "source": [
    "d = [2, 4, 7, 11]\n",
    "(a, b, c) = d"
   ]
  },
  {
   "cell_type": "markdown",
   "id": "ce83b845-c839-4f43-bf7f-e63fd5c9b322",
   "metadata": {},
   "source": [
    "Код\n",
    "```python\r\n",
    "(a,b,c) = d\r\n",
    "```\n",
    "может породить исключение\n",
    "```python\r\n",
    "ValueError: unpack list of wrong size\r\n",
    "```\n",
    "\n",
    "Сразу возникает вопрос - а что в переменной d, что не удалось его распаковать. Добавим значение переменной d в исключение и raise обновленное исключение.\n",
    "\n",
    "```python\r\n",
    "try:\n",
    "  a, b, c = d\n",
    "except Exception as e:\n",
    "  e.args += (d,)\n",
    "  raise\r\n",
    "```\n",
    "\n",
    "\n",
    "Иногда нужно логировать исключение или обрабатывать дополнительную информацию."
   ]
  },
  {
   "cell_type": "code",
   "execution_count": 28,
   "id": "72a4770d-e305-4fe0-a5f0-55504598f69c",
   "metadata": {},
   "outputs": [
    {
     "name": "stdout",
     "output_type": "stream",
     "text": [
      "1.0 5\n",
      "Поймали исключение!\n",
      "division by zero\n",
      "------------------------------------------------------------\n",
      "Traceback (most recent call last):\n",
      "  File \"C:\\Users\\taty\\AppData\\Local\\Temp\\ipykernel_18096\\3116522628.py\", line 10, in <module>\n",
      "    foo(0)      # на 0 делить нельзя\n",
      "  File \"C:\\Users\\taty\\AppData\\Local\\Temp\\ipykernel_18096\\3116522628.py\", line 5, in foo\n",
      "    x = 5 / a\n",
      "ZeroDivisionError: division by zero\n",
      "------------------------------------------------------------\n",
      "После блока обработки исключений\n"
     ]
    }
   ],
   "source": [
    "import traceback\n",
    "import sys\n",
    "\n",
    "def foo(a):\n",
    "    x = 5 / a\n",
    "    print(x, a)\n",
    "\n",
    "try:    \n",
    "    foo(5)\n",
    "    foo(0)      # на 0 делить нельзя\n",
    "    foo(7)\n",
    "except ZeroDivisionError as e:                  # если e не нужно, то as e не пишем\n",
    "    print('Поймали исключение!')\n",
    "    print(e)                                    # печать 'division by zero'\n",
    "    print('-'*60)\n",
    "    traceback.print_exc(file=sys.stdout)        # печать stacktrace\n",
    "    print('-'*60)\n",
    "    \n",
    "print('После блока обработки исключений')"
   ]
  },
  {
   "cell_type": "markdown",
   "id": "416a9b0b-d6ce-4750-a101-c0e3418af325",
   "metadata": {},
   "source": [
    "### Напечатать только сообщение исключения\n",
    "\n",
    "**str(e)** - просто преобразуйте исключение к строке.\n",
    "\n",
    "### Напечатать stacktrace исключения\n",
    "\n",
    "[Документация](https://docs.python.org/3/library/traceback.html)\n",
    "\n",
    "Используйте функцию **traceback.print_exc()**\n",
    "\n",
    "### Тип, значение и traceback\n",
    "\n",
    "Используйте функцию **sys.exc_info()**\n",
    " \n",
    "```python\n",
    "exc_type, exc_value, exc_traceback = sys.exc_info()\n",
    "```\n",
    "\n",
    "### Пример, как все это используется"
   ]
  },
  {
   "cell_type": "code",
   "execution_count": 30,
   "id": "30173639-e22f-42d9-8119-cf068742d166",
   "metadata": {},
   "outputs": [
    {
     "name": "stdout",
     "output_type": "stream",
     "text": [
      "*** print_tb:\n",
      "  File \"C:\\Users\\taty\\AppData\\Local\\Temp\\ipykernel_18096\\2363723994.py\", line 10, in <module>\n",
      "    lumberjack()\n",
      "*** print_exception:\n",
      "Traceback (most recent call last):\n",
      "  File \"C:\\Users\\taty\\AppData\\Local\\Temp\\ipykernel_18096\\2363723994.py\", line 10, in <module>\n",
      "    lumberjack()\n",
      "  File \"C:\\Users\\taty\\AppData\\Local\\Temp\\ipykernel_18096\\2363723994.py\", line 4, in lumberjack\n",
      "    bright_side_of_death()\n",
      "IndexError: tuple index out of range\n",
      "*** print_exc:\n",
      "Traceback (most recent call last):\n",
      "  File \"C:\\Users\\taty\\AppData\\Local\\Temp\\ipykernel_18096\\2363723994.py\", line 10, in <module>\n",
      "    lumberjack()\n",
      "  File \"C:\\Users\\taty\\AppData\\Local\\Temp\\ipykernel_18096\\2363723994.py\", line 4, in lumberjack\n",
      "    bright_side_of_death()\n",
      "IndexError: tuple index out of range\n",
      "*** format_exc, first and last line:\n",
      "Traceback (most recent call last):\n",
      "IndexError: tuple index out of range\n",
      "*** format_exception:\n",
      "['Traceback (most recent call last):\\n', '  File \"C:\\\\Users\\\\taty\\\\AppData\\\\Local\\\\Temp\\\\ipykernel_18096\\\\2363723994.py\", line 10, in <module>\\n    lumberjack()\\n', '  File \"C:\\\\Users\\\\taty\\\\AppData\\\\Local\\\\Temp\\\\ipykernel_18096\\\\2363723994.py\", line 4, in lumberjack\\n    bright_side_of_death()\\n', '  File \"C:\\\\Users\\\\taty\\\\AppData\\\\Local\\\\Temp\\\\ipykernel_18096\\\\2363723994.py\", line 7, in bright_side_of_death\\n    return tuple()[0]\\n', 'IndexError: tuple index out of range\\n']\n",
      "*** extract_tb:\n",
      "[<FrameSummary file C:\\Users\\taty\\AppData\\Local\\Temp\\ipykernel_18096\\2363723994.py, line 10 in <module>>, <FrameSummary file C:\\Users\\taty\\AppData\\Local\\Temp\\ipykernel_18096\\2363723994.py, line 4 in lumberjack>, <FrameSummary file C:\\Users\\taty\\AppData\\Local\\Temp\\ipykernel_18096\\2363723994.py, line 7 in bright_side_of_death>]\n",
      "*** format_tb:\n",
      "['  File \"C:\\\\Users\\\\taty\\\\AppData\\\\Local\\\\Temp\\\\ipykernel_18096\\\\2363723994.py\", line 10, in <module>\\n    lumberjack()\\n', '  File \"C:\\\\Users\\\\taty\\\\AppData\\\\Local\\\\Temp\\\\ipykernel_18096\\\\2363723994.py\", line 4, in lumberjack\\n    bright_side_of_death()\\n', '  File \"C:\\\\Users\\\\taty\\\\AppData\\\\Local\\\\Temp\\\\ipykernel_18096\\\\2363723994.py\", line 7, in bright_side_of_death\\n    return tuple()[0]\\n']\n",
      "*** tb_lineno: 10\n"
     ]
    }
   ],
   "source": [
    "import sys, traceback\n",
    "\n",
    "def lumberjack():\n",
    "    bright_side_of_death()\n",
    "\n",
    "def bright_side_of_death():\n",
    "    return tuple()[0]\n",
    "\n",
    "try:\n",
    "    lumberjack()\n",
    "except IndexError:\n",
    "    exc_type, exc_value, exc_traceback = sys.exc_info()\n",
    "    \n",
    "    print(\"*** print_tb:\")\n",
    "    traceback.print_tb(exc_traceback, limit=1, file=sys.stdout)\n",
    "    \n",
    "    print(\"*** print_exception:\")\n",
    "    # exc_type below is ignored on 3.5 and later\n",
    "    traceback.print_exception(exc_type, exc_value, exc_traceback,\n",
    "                              limit=2, file=sys.stdout)\n",
    "                              \n",
    "    print(\"*** print_exc:\")\n",
    "    traceback.print_exc(limit=2, file=sys.stdout)\n",
    "    \n",
    "    print(\"*** format_exc, first and last line:\")\n",
    "    formatted_lines = traceback.format_exc().splitlines()\n",
    "    print(formatted_lines[0])\n",
    "    print(formatted_lines[-1])\n",
    "    \n",
    "    print(\"*** format_exception:\")\n",
    "    # exc_type below is ignored on 3.5 and later\n",
    "    print(repr(traceback.format_exception(exc_type, exc_value,\n",
    "                                          exc_traceback)))\n",
    "                                          \n",
    "    print(\"*** extract_tb:\")\n",
    "    print(repr(traceback.extract_tb(exc_traceback)))\n",
    "    print(\"*** format_tb:\")\n",
    "    print(repr(traceback.format_tb(exc_traceback)))\n",
    "    print(\"*** tb_lineno:\", exc_traceback.tb_lineno)"
   ]
  },
  {
   "cell_type": "markdown",
   "id": "d667d761-d638-4bf1-85d1-bcfd638e2a48",
   "metadata": {},
   "source": [
    "# Чтение и запись в файл\n",
    "\n",
    "Часто используемые операции над файлами:\n",
    "\n",
    "| Операция | Интерпретация | \n",
    "|---|-----|\n",
    "| output = open(r’C:\\spam', 'w') | Открывает файл для записи | \n",
    "| input = open('data', 'r') | Открывает файл для чтения | \n",
    "| input = open('data') | То же самое, 'r' - по умолчанию | \n",
    "| aString = input.read() | Чтение файла целиком в единственную строку | \n",
    "| aString = input.read(N) | Чтение следующих N символов (или байтов) в строку | \n",
    "| aString = input.readline() | Чтение следующей текстовой строки (включая символ конца строки) в строку | \n",
    "| aList = input.readlines() | Чтение файла целиком в список строк (включая символ конца строки) | \n",
    "| output.write(aString) | Запись строки символов (или байтов) в файл | \n",
    "| output.writelines(aList) | Запись всех строк из списка в файл | \n",
    "| output.close() | Закрытие файла вручную (выполняется по окончании работы с файлом) | \n",
    "| output.flush() | Выталкивает выходные буферы на диск, файл остается открытым | \n",
    "| anyFile.seek(N) | Изменяет текущую позицию в файле для следующей операции, смещая ее на N байтов от начала файла. | \n",
    "| for line in open('data'):<br/>&nbsp;&nbsp;операции над line | Итерации по файлу, построчное чтение | \n",
    "| open('f.txt', encoding='utf-8') | Файлы с текстом (строки типа str) | \n",
    "| open('f.bin', 'rb') | Файлы с двоичными данными (строки типа bytes) | "
   ]
  },
  {
   "cell_type": "markdown",
   "id": "6f2d4115-9129-4e8b-9515-ae54f18a9472",
   "metadata": {},
   "source": [
    "### Читаем файл построчно\n",
    "\n",
    "Если файл текстовый, то это итерируемая (по строкам) величина:"
   ]
  },
  {
   "cell_type": "code",
   "execution_count": 33,
   "id": "cca94414-55cc-44fe-9a00-ab4c3dbee9d9",
   "metadata": {},
   "outputs": [
    {
     "name": "stdout",
     "output_type": "stream",
     "text": [
      "Маленькой елочке\n",
      "Холодно зимой.\n",
      "Из лесу елочку\n",
      "Взяли мы домой.\n"
     ]
    }
   ],
   "source": [
    "with open('data/text.txt', encoding='utf-8') as fin:\n",
    "    for line in fin:\n",
    "        print(line, end='')"
   ]
  },
  {
   "cell_type": "code",
   "execution_count": 34,
   "id": "e13f1883-0bc7-4f2a-9d9a-076f1729f77c",
   "metadata": {},
   "outputs": [
    {
     "name": "stdout",
     "output_type": "stream",
     "text": [
      "first line: Маленькой елочке\n",
      "\n",
      "Холодно зимой.\n",
      "Из лесу елочку\n",
      "Взяли мы домой.\n"
     ]
    }
   ],
   "source": [
    "# Отдельно читаем первую строку, потом остальные:\n",
    "with open('data/text.txt', encoding='utf-8') as fin:\n",
    "    line = next(fin)\n",
    "    print('first line:', line)\n",
    "    for line in fin:\n",
    "        print(line, end='')"
   ]
  },
  {
   "cell_type": "code",
   "execution_count": 38,
   "id": "cbc8ab91-ade4-41e9-89da-4eb845d93428",
   "metadata": {},
   "outputs": [
    {
     "name": "stdout",
     "output_type": "stream",
     "text": [
      "first line: Маленькой елочке\n",
      "\n",
      "Холодно зимой.\n",
      "Из лесу елочку\n",
      "Взяли мы домой.\n"
     ]
    }
   ],
   "source": [
    "# Или с помощью метода `readline()`:\n",
    "with open('data/text.txt', encoding='utf-8') as fin:\n",
    "    line = fin.readline()\n",
    "    print('first line:', line)\n",
    "    \n",
    "    while line:\n",
    "        line = fin.readline()\n",
    "        print(line, end='')"
   ]
  },
  {
   "cell_type": "markdown",
   "id": "eb37de7d-b26a-4def-a2f4-5661b5cc60a7",
   "metadata": {},
   "source": [
    "### Текст - список строк\n",
    "\n",
    "Чтобы прочитать весь файл в список строк, используйте функцию `readlines` (-s говорит, что \"много\") или преобразуйте объект файл в список.\n",
    "\n",
    "Не надо так делать, если файл занимает очень много места в памяти."
   ]
  },
  {
   "cell_type": "code",
   "execution_count": 40,
   "id": "c8d7225d-310d-47d8-85d9-7cd280ec170e",
   "metadata": {},
   "outputs": [
    {
     "name": "stdout",
     "output_type": "stream",
     "text": [
      "['Маленькой елочке\\n', 'Холодно зимой.\\n', 'Из лесу елочку\\n', 'Взяли мы домой.\\n']\n"
     ]
    }
   ],
   "source": [
    "with open('data/text.txt', encoding='utf-8') as fin:\n",
    "    text = fin.readlines()\n",
    "print(text)"
   ]
  },
  {
   "cell_type": "code",
   "execution_count": 41,
   "id": "2c971f4f-472d-4cc7-95f2-668e8654ecf4",
   "metadata": {},
   "outputs": [
    {
     "name": "stdout",
     "output_type": "stream",
     "text": [
      "['Маленькой елочке\\n', 'Холодно зимой.\\n', 'Из лесу елочку\\n', 'Взяли мы домой.\\n']\n"
     ]
    }
   ],
   "source": [
    "with open('data/text.txt', encoding='utf-8') as fin:\n",
    "    text = list(fin)\n",
    "print(text)"
   ]
  },
  {
   "cell_type": "markdown",
   "id": "0e96a408-06eb-4935-bca8-3d56dffe1ecd",
   "metadata": {},
   "source": [
    "### Чтение бинарного потока\n",
    "\n",
    "* Функция **read(size)** возвращает строку, если файл открывали в текстовой моде или байтовый объект (бинарная мода).\n",
    "\n",
    "* Если `size` не указан или < 0, то пытается прочитаться весь файл. Забота о памяти - это ваша проблема, а не питона. Не читайте так большие файлы.\n",
    "\n",
    "* Положительная `size` - размер буфера для чтения в байтах.\n",
    "\n",
    "* Если файл закончился, `read` вернет пустую строку ''."
   ]
  },
  {
   "cell_type": "code",
   "execution_count": 43,
   "id": "499b60cf-0741-4b0d-ac3d-21d94c501df4",
   "metadata": {},
   "outputs": [
    {
     "name": "stdout",
     "output_type": "stream",
     "text": [
      "М\n",
      "аленькой елочке\n",
      "Холодно зимой.\n",
      "Из лесу елочку\n",
      "Взяли мы домой.\n",
      "\n"
     ]
    }
   ],
   "source": [
    "with open('data/text.txt', encoding='utf-8') as fin:\n",
    "    s = fin.read(1)\n",
    "    print(s)        # М\n",
    "    s = fin.read()\n",
    "    print(s)        # весь остальной текст"
   ]
  },
  {
   "cell_type": "markdown",
   "id": "8241f432-7cf7-4148-b7dc-76683d6f9ffe",
   "metadata": {},
   "source": [
    "### Запись в файл print\n",
    "\n",
    "```python\r\n",
    "print('Hello', file=fin)\r\n",
    "```\n",
    "\n",
    "### Запись в файл write\n",
    "```python\n",
    "fin.write(b'Hello')     # b'Hello' - массив байт, не строка\n",
    "```"
   ]
  },
  {
   "cell_type": "markdown",
   "id": "78ff9c87-fae2-4e63-8846-41e299379ba3",
   "metadata": {},
   "source": [
    "### Чтение-запись текста как потока байтов\n",
    "\n",
    "Не забывайте, что нужно кодировать и декодировать байты.\n",
    "\n",
    "```python\r\n",
    "with open('somefile.bin', 'rb') as f:\n",
    "    data = f.read(16)\n",
    "    text = data.decode('utf-8')\n",
    "\n",
    "with open('somefile.bin', 'wb') as f:\n",
    "    text = 'Hello World'\n",
    "    f.write(text.encode('utf-8'))\r\n",
    "```\n"
   ]
  },
  {
   "cell_type": "code",
   "execution_count": null,
   "id": "d8198185-35db-4786-baa0-2ef87d10825f",
   "metadata": {},
   "outputs": [],
   "source": []
  }
 ],
 "metadata": {
  "kernelspec": {
   "display_name": "Python 3 (ipykernel)",
   "language": "python",
   "name": "python3"
  },
  "language_info": {
   "codemirror_mode": {
    "name": "ipython",
    "version": 3
   },
   "file_extension": ".py",
   "mimetype": "text/x-python",
   "name": "python",
   "nbconvert_exporter": "python",
   "pygments_lexer": "ipython3",
   "version": "3.10.2"
  }
 },
 "nbformat": 4,
 "nbformat_minor": 5
}
