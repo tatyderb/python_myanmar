{
 "cells": [
  {
   "cell_type": "markdown",
   "id": "47374352-0146-419e-bf1b-d52e5c2aa75f",
   "metadata": {},
   "source": [
    "# Форматы файлов\n",
    "\n",
    "Существует много пакетов python чтения и записи файлов в различных форматах. Данные могут храниться как в текстовом виде (еще лучше - в читаемом человеком, их можно легко исправлять прямо в файле). Данные в бинарном виде занимают меньше места, но если вам нужно исправить оценку по математике Иванову с 3 на 4, лучше напрямую руками в файле не искать и не править. Используйте методы чтения и записи.\n",
    "\n",
    "## JSON - JavaScript Object Notation\n",
    "\n",
    "Текстовый формат данных, пришел из языка javascript, широко используется для обмена клиент-сервер в различных веб и мобильных приложениях.\n",
    "\n",
    "Очень похож на запись словаря в python, но есть отличия:\n",
    "\n",
    "* строки только в **двойных** кавычках\n",
    "* `True` и `False` записаны как **true** и **false**\n",
    "* `None` записано как **null**\n",
    "*  число int или float\n",
    "*  список в `[]`\n",
    "*  словарь\n",
    "\n",
    "**Структуры данных могут быть вложены друг в друга**.\n",
    "\n",
    "Придумаем, как хранить оценки по разным предметам студентов группы. Корнем может быть или словарь, или список."
   ]
  },
  {
   "cell_type": "raw",
   "id": "dce12f16-3d12-4a85-9896-b4cd206fb3e6",
   "metadata": {},
   "source": [
    "{\n",
    "   \"firstName\": \"Иван\",\n",
    "   \"lastName\": \"Иванов\",\n",
    "   \"address\": {\n",
    "       \"streetAddress\": \"Московское ш., 101, кв.101\",\n",
    "       \"city\": \"Ленинград\",\n",
    "       \"postalCode\": 101101\n",
    "   },\n",
    "   \"phoneNumbers\": [\n",
    "       \"812 123-1234\",\n",
    "       \"916 123-4567\"\n",
    "   ]\n",
    "}"
   ]
  },
  {
   "cell_type": "markdown",
   "id": "7d06ed63-9444-4b4c-b6e9-4b61c040987d",
   "metadata": {},
   "source": [
    "Заметим, мы можем хранить (сохранять и загружать) как числа и как строки. Можно хранить почтовый индекс как `\"postalCode\": 101101` (целое число), а можно как `\"postalCode\": \"101101\"` строку. Обращайте внимание при чтении и последующей обработки данных, какой тип используется при хранении."
   ]
  },
  {
   "cell_type": "code",
   "execution_count": 9,
   "id": "3557c2bd-341f-4862-b8a3-15db00df8444",
   "metadata": {},
   "outputs": [],
   "source": [
    "# это код на python\n",
    "# это словарь, скопирован с \n",
    "data = {\n",
    "   \"firstName\": \"Иван\",\n",
    "   \"lastName\": \"Иванов\",\n",
    "   \"address\": {\n",
    "       \"streetAddress\": \"Московское ш., 101, кв.101\",\n",
    "       \"city\": \"Ленинград\",\n",
    "       \"postalCode\": 101101\n",
    "   },\n",
    "   \"phoneNumbers\": [\n",
    "       \"812 123-1234\",\n",
    "       \"916 123-4567\"\n",
    "   ]\n",
    "}\n"
   ]
  },
  {
   "cell_type": "markdown",
   "id": "8300cda3-4455-47ed-8230-b873885f6faf",
   "metadata": {},
   "source": [
    "Преобразовать словарь в строку можно функциями str() и repr(). Они вызываются, когда мы печатаем словарь `print(data)`. Но мы получим НЕ json файл. Как минимум, будут не те кавычки."
   ]
  },
  {
   "cell_type": "code",
   "execution_count": 4,
   "id": "86bb0a3a-1ac9-40ea-b1e4-cee705a49f85",
   "metadata": {},
   "outputs": [
    {
     "data": {
      "text/plain": [
       "\"{'firstName': 'Иван', 'lastName': 'Иванов', 'address': {'streetAddress': 'Московское ш., 101, кв.101', 'city': 'Ленинград', 'postalCode': 101101}, 'phoneNumbers': ['812 123-1234', '916 123-4567']}\""
      ]
     },
     "execution_count": 4,
     "metadata": {},
     "output_type": "execute_result"
    }
   ],
   "source": [
    "str(data)"
   ]
  },
  {
   "cell_type": "code",
   "execution_count": 5,
   "id": "dad3ab6b-1d6d-42f1-b68f-361f3008b286",
   "metadata": {},
   "outputs": [
    {
     "name": "stdout",
     "output_type": "stream",
     "text": [
      "{'firstName': 'Иван', 'lastName': 'Иванов', 'address': {'streetAddress': 'Московское ш., 101, кв.101', 'city': 'Ленинград', 'postalCode': 101101}, 'phoneNumbers': ['812 123-1234', '916 123-4567']}\n"
     ]
    }
   ],
   "source": [
    "print(data)"
   ]
  },
  {
   "cell_type": "markdown",
   "id": "78befd9f-a2c2-4ef4-bfca-90525270a48f",
   "metadata": {},
   "source": [
    "## import json"
   ]
  },
  {
   "cell_type": "code",
   "execution_count": 6,
   "id": "381d1d95-c254-4114-a530-1e8059d6a9d7",
   "metadata": {},
   "outputs": [],
   "source": [
    "import json"
   ]
  },
  {
   "cell_type": "markdown",
   "id": "d7b90df6-93cb-4992-b1b1-620ff4c1aae1",
   "metadata": {},
   "source": [
    "## json.dumps - преобразовать в строку (dump to String)"
   ]
  },
  {
   "cell_type": "code",
   "execution_count": 8,
   "id": "73cd34ab-ba1c-47cc-ba78-2ab9a5e1a8b0",
   "metadata": {},
   "outputs": [
    {
     "data": {
      "text/plain": [
       "'{\"firstName\": \"\\\\u0418\\\\u0432\\\\u0430\\\\u043d\", \"lastName\": \"\\\\u0418\\\\u0432\\\\u0430\\\\u043d\\\\u043e\\\\u0432\", \"address\": {\"streetAddress\": \"\\\\u041c\\\\u043e\\\\u0441\\\\u043a\\\\u043e\\\\u0432\\\\u0441\\\\u043a\\\\u043e\\\\u0435 \\\\u0448., 101, \\\\u043a\\\\u0432.101\", \"city\": \"\\\\u041b\\\\u0435\\\\u043d\\\\u0438\\\\u043d\\\\u0433\\\\u0440\\\\u0430\\\\u0434\", \"postalCode\": 101101}, \"phoneNumbers\": [\"812 123-1234\", \"916 123-4567\"]}'"
      ]
     },
     "execution_count": 8,
     "metadata": {},
     "output_type": "execute_result"
    }
   ],
   "source": [
    "json.dumps(data)"
   ]
  },
  {
   "cell_type": "code",
   "execution_count": 18,
   "id": "88500cee-8624-4435-b095-4ca761717e20",
   "metadata": {},
   "outputs": [
    {
     "data": {
      "text/plain": [
       "'{\"name\": \"\\\\u0418\\\\u0432\\\\u0430\\\\u043d\\\\u043e\\\\u0432 \\\\u0418\\\\u0432\\\\u0430\\\\u043d \\\\u0418\\\\u0432\\\\u0430\\\\u043d\\\\u043e\\\\u0432\\\\u0438\\\\u0447\", \"group\": 310, \"discipline\": \"\\\\u0438\\\\u043d\\\\u0444\\\\u043e\\\\u0440\\\\u043c\\\\u0430\\\\u0442\\\\u0438\\\\u043a\\\\u0430\", \"grade\": 5}'"
      ]
     },
     "execution_count": 18,
     "metadata": {},
     "output_type": "execute_result"
    }
   ],
   "source": [
    "# Попробуем еще раз, но этот словарь я набираю прямо в тетради, не копирую.\n",
    "mydata = {\n",
    "    \"name\": \"Иванов Иван Иванович\",\n",
    "    \"group\": 310,\n",
    "    \"discipline\": \"информатика\",\n",
    "    \"grade\": 5\n",
    "}\n",
    "json.dumps(mydata)"
   ]
  },
  {
   "cell_type": "code",
   "execution_count": 20,
   "id": "f2e4d9ba-45db-4d59-b6cb-e666d1f46c35",
   "metadata": {},
   "outputs": [
    {
     "name": "stdout",
     "output_type": "stream",
     "text": [
      "{\"message\": \"xin chào việt nam\"}\n",
      "{\"message\": \"xin ch\\u00e0o vi\\u1ec7t nam\"}\n"
     ]
    }
   ],
   "source": [
    "# возьмем вьетнамский язык, основанный на латинице\n",
    "# явно выставим значение параметра ensure_ascii\n",
    "print(json.dumps({\"message\":\"xin chào việt nam\"}, ensure_ascii=False))\n",
    "print(json.dumps({\"message\":\"xin chào việt nam\"}, ensure_ascii=True))"
   ]
  },
  {
   "cell_type": "markdown",
   "id": "2afd6369-dff2-4e98-80be-c353dd62944d",
   "metadata": {},
   "source": [
    "Видим, что латинские буквы остаются как есть, а \"неправильные символы\" преобразоются в аналогичные шестнадцатизначные числа.\n",
    "\n",
    "Попробуем тот же аргумент с кирилицей."
   ]
  },
  {
   "cell_type": "code",
   "execution_count": 17,
   "id": "5fee936e-3350-41c5-8a51-d47a1ca7f786",
   "metadata": {},
   "outputs": [
    {
     "data": {
      "text/plain": [
       "'{\"firstName\": \"Иван\", \"lastName\": \"Иванов\", \"address\": {\"streetAddress\": \"Московское ш., 101, кв.101\", \"city\": \"Ленинград\", \"postalCode\": 101101}, \"phoneNumbers\": [\"812 123-1234\", \"916 123-4567\"]}'"
      ]
     },
     "execution_count": 17,
     "metadata": {},
     "output_type": "execute_result"
    }
   ],
   "source": [
    "json.dumps(data, ensure_ascii=False)"
   ]
  },
  {
   "cell_type": "markdown",
   "id": "d3932401-81bc-4b00-ab04-c85ee1e40ffc",
   "metadata": {},
   "source": [
    "### Кодировки\n",
    "\n",
    "Все в компьютере хранится в виде чисел: изображения, аудио и текст. Для работы с текстом решили кодировать каждый символ своим числом. Например, a - 1, b - 2, c - 3 и так далее. Не забыли о пробеле и знаках препинания. Цифры - это тоже символы, их можно закодировать числами. Так появились таблицы кодировок.\r\n",
    "\r\n",
    "Для кодирования символов английского и русского алфавита (маленьких и заглавных букв), арабских цифр и знаков препинания хватит с запасом 256 чисел. Поэтому таблицы кодировок были 128 или 256 символов для 7-битной или 8-битной кодировок.\r\n",
    "\r\n",
    "Наиболее известны таблицы кодировок: ASCII (7 битная), KOI-8, Latin-1. С русскими буквами: UTF-8, Windows-1251, CP-866, KOI-8R, ISO-8859-5. Однако, первая половина таблицы у этих кодировок совпадает с кодировкой ASCII. Вторую половину обычно занимают символы национальных алфавитов."
   ]
  },
  {
   "cell_type": "markdown",
   "id": "b0801021-1a83-4ad9-a448-688216c302ed",
   "metadata": {},
   "source": [
    "#### ASCII-таблица\n",
    "\r\n",
    "American Standard Code for Information Interchange (ASCII) был введен как единый стандарт кодировки первых 128 символов в 1969 году и основывалась на телеграфной кодировке\n",
    "\n",
    "Заметьте, что цифры, заглавные буквы и маленькие буквы идут в таблице блоками. Символам от 0 до 9 соответствуют коды от 48 до 57. Заглавные буквы от A до Z кодируются числами от 65 до 90, маленькие от a до z - от 97 до 122. Пробел - это 32, `\\n` (new line) - 10, `\\r` (возврат каретки на первую позицию) - 13.\n",
    "\n",
    "![ascii-table](https://stepik.org/media/attachments/lesson/1089070/ascii_table.png)\n",
    "\n",
    "."
   ]
  },
  {
   "cell_type": "markdown",
   "id": "03354db2-26b3-4ab7-b183-1841f6358b16",
   "metadata": {},
   "source": [
    "#### Unicode\n",
    "\n",
    "С распространением компьютеров стали востребованы таблицы кодировок для многих языков. Было решено свести все символы в единую таблицу и дать каждому символу свой номер.\n",
    "\n",
    "Сюда же попали математические символы, символы нотной записи и, главное, наборы иероглифов.\n",
    "\n",
    "Описание символа [и маленькая](https://www.fileformat.info/info/unicode/char/0438/index.htm)\n",
    "\n",
    "Коды в стандарте Юникод разделены на несколько областей. Область с кодами от U+0000 до U+007F содержит символы набора ASCII, и коды этих символов совпадают с их кодами в ASCII. Далее расположены области символов других систем письменности, знаки пунктуации и технические символы. Часть кодов зарезервирована для использования в будущем. Под символы кириллицы выделены области знаков с кодами от U+0400 до U+052F, от U+2DE0 до U+2DFF, от U+A640 до U+A69F."
   ]
  },
  {
   "cell_type": "markdown",
   "id": "8627c4b3-d902-45ae-978c-99b2efbd1e85",
   "metadata": {},
   "source": [
    "#### utf-8 и utf-16\n",
    "\n",
    "Для кодирования unicode символов используют обычно кодировки **utf-8** для языков с коротким алфавитом (буквенное и слоговое письмо) и **utf-16** для языков, использующих иероглифы.\n",
    "\n",
    "Подробнее в статьях (по желанию, для общего развития): \n",
    "* [wikipedia](https://ru.wikipedia.org/wiki/UTF-8)\n",
    "* [русский язык в Adruino IDE](https://wiki.iarduino.ru/page/encoding-arduino/)"
   ]
  },
  {
   "cell_type": "markdown",
   "id": "1907e605-b9a5-45a5-b396-9136053923e6",
   "metadata": {},
   "source": [
    "Теперь вы можете понять, что происходит в этом фрагменте кода и за что отвечает параметр `ensure_ascii` - все символы обязаны быть ascii (для удобства дальнейшей пересылки и обратного кодирования) "
   ]
  },
  {
   "cell_type": "code",
   "execution_count": 22,
   "id": "8c0df1bc-c099-461a-89ee-d4685c8b4851",
   "metadata": {},
   "outputs": [
    {
     "name": "stdout",
     "output_type": "stream",
     "text": [
      "{\"message\": \"xin chào việt nam\"}\n",
      "{\"message\": \"xin ch\\u00e0o vi\\u1ec7t nam\"}\n"
     ]
    }
   ],
   "source": [
    "# возьмем вьетнамский язык, основанный на латинице\n",
    "# явно выставим значение параметра ensure_ascii, чтобы все символы были ascii\n",
    "print(json.dumps({\"message\":\"xin chào việt nam\"}, ensure_ascii=False))\n",
    "print(json.dumps({\"message\":\"xin chào việt nam\"}, ensure_ascii=True))"
   ]
  },
  {
   "cell_type": "markdown",
   "id": "81498e32-d4dd-4b69-ab8e-e13587ddbe00",
   "metadata": {},
   "source": [
    "### Печатаем красиво - indent"
   ]
  },
  {
   "cell_type": "code",
   "execution_count": 23,
   "id": "c184e905-a8ed-4c62-bc5e-1d6b8f7f8595",
   "metadata": {},
   "outputs": [
    {
     "data": {
      "text/plain": [
       "'{\"firstName\": \"Иван\", \"lastName\": \"Иванов\", \"address\": {\"streetAddress\": \"Московское ш., 101, кв.101\", \"city\": \"Ленинград\", \"postalCode\": 101101}, \"phoneNumbers\": [\"812 123-1234\", \"916 123-4567\"]}'"
      ]
     },
     "execution_count": 23,
     "metadata": {},
     "output_type": "execute_result"
    }
   ],
   "source": [
    "# читаемо для компьютера, но не удобно читать человеку\n",
    "json.dumps(data, ensure_ascii=False)"
   ]
  },
  {
   "cell_type": "markdown",
   "id": "0749dba7-3237-47a8-be3c-07d6adee192a",
   "metadata": {},
   "source": [
    "Выставим `indent`, чтобы красиво напечатать с указанным отступом."
   ]
  },
  {
   "cell_type": "code",
   "execution_count": 26,
   "id": "edc50132-b482-42f3-8cb6-d52a6d40e775",
   "metadata": {},
   "outputs": [
    {
     "name": "stdout",
     "output_type": "stream",
     "text": [
      "{\n",
      "    \"firstName\": \"Иван\",\n",
      "    \"lastName\": \"Иванов\",\n",
      "    \"address\": {\n",
      "        \"streetAddress\": \"Московское ш., 101, кв.101\",\n",
      "        \"city\": \"Ленинград\",\n",
      "        \"postalCode\": 101101\n",
      "    },\n",
      "    \"phoneNumbers\": [\n",
      "        \"812 123-1234\",\n",
      "        \"916 123-4567\"\n",
      "    ]\n",
      "}\n"
     ]
    }
   ],
   "source": [
    "# красивая печать показывает структуру данных\n",
    "print(json.dumps(data, indent=4, ensure_ascii=False))"
   ]
  },
  {
   "cell_type": "markdown",
   "id": "14970826-ba6e-498b-a488-dead9a621d48",
   "metadata": {},
   "source": [
    "### Разделители separators=(item_separator, key_separator)\n",
    "\n",
    "Вместо `,` между элементами и `: ` между ключом и значением, можно задать свои разделители в аргументе как `separators=(item_separator, key_separator)`.\n",
    "\n",
    "Поставим между элементами `;` и между ключом и значением знак `=`"
   ]
  },
  {
   "cell_type": "code",
   "execution_count": 32,
   "id": "37c3af9d-5db2-416b-8e88-f0f8da12d25d",
   "metadata": {},
   "outputs": [
    {
     "name": "stdout",
     "output_type": "stream",
     "text": [
      "{\n",
      "    \"firstName\"=\"Иван\";\n",
      "    \"lastName\"=\"Иванов\";\n",
      "    \"address\"={\n",
      "        \"streetAddress\"=\"Московское ш., 101, кв.101\";\n",
      "        \"city\"=\"Ленинград\";\n",
      "        \"postalCode\"=101101\n",
      "    };\n",
      "    \"phoneNumbers\"=[\n",
      "        \"812 123-1234\";\n",
      "        \"916 123-4567\"\n",
      "    ]\n",
      "}\n"
     ]
    }
   ],
   "source": [
    "print(json.dumps(data, indent=4, separators=(';', '='), ensure_ascii=False))"
   ]
  },
  {
   "cell_type": "markdown",
   "id": "2803ef71-2c4a-4292-a6d1-1c0611840333",
   "metadata": {},
   "source": [
    "### По порядку sort_keys=True\n",
    "\n",
    "Если вы пересылаете данные между компьютерами, то эта опция вам не понадобится. Компьютер с компьютером в ключах разберется. Если вы описываете структуру json в документации или пытаетесь разобраться в полученных данных, удобнее когда ключи идут в алфавитном порядке."
   ]
  },
  {
   "cell_type": "code",
   "execution_count": 34,
   "id": "bd618a89-b4a1-40e8-b52d-9aab610bbaa0",
   "metadata": {},
   "outputs": [
    {
     "name": "stdout",
     "output_type": "stream",
     "text": [
      "{\n",
      "    \"address\": {\n",
      "        \"city\": \"Ленинград\",\n",
      "        \"postalCode\": 101101,\n",
      "        \"streetAddress\": \"Московское ш., 101, кв.101\"\n",
      "    },\n",
      "    \"firstName\": \"Иван\",\n",
      "    \"lastName\": \"Иванов\",\n",
      "    \"phoneNumbers\": [\n",
      "        \"812 123-1234\",\n",
      "        \"916 123-4567\"\n",
      "    ]\n",
      "}\n"
     ]
    }
   ],
   "source": [
    "print(json.dumps(data, indent=4, sort_keys=True, ensure_ascii=False))"
   ]
  },
  {
   "cell_type": "markdown",
   "id": "f97575e8-3cbe-48d7-ad1b-b5b03a01df91",
   "metadata": {},
   "source": [
    "## json.dump - в файл сохранить\n",
    "\n",
    "Чтобы записать данные в json формате в файл, конечно, можно преобразовать в строку и эту строку напечатать с указанием, в какой файл выводить."
   ]
  },
  {
   "cell_type": "code",
   "execution_count": 35,
   "id": "840334ca-1806-4fcb-bbe6-8339e3f2dd30",
   "metadata": {},
   "outputs": [],
   "source": [
    "# так можно, но не нужно\n",
    "with open('file_read_write/data.json', 'w') as fout:\n",
    "    print(json.dumps(data), file=fout)"
   ]
  },
  {
   "cell_type": "markdown",
   "id": "b3d5c692-01de-41e2-8df9-3ce69ced0d4f",
   "metadata": {},
   "source": [
    "Потому что в пакете есть фукция **dump** для сохранения в открытый поток `fout`:"
   ]
  },
  {
   "cell_type": "code",
   "execution_count": 37,
   "id": "e3b2524a-d79e-4de1-b62a-904decd57938",
   "metadata": {},
   "outputs": [],
   "source": [
    "# так нужно\n",
    "with open('file_read_write/data.json', 'w') as fout:\n",
    "    json.dump(data, fp=fout)"
   ]
  },
  {
   "cell_type": "markdown",
   "id": "09f139db-e72e-4dc6-9a76-3e0b926adae8",
   "metadata": {},
   "source": [
    "* `fp` - открытый на запись поток,\n",
    "* остальные аргументы такие же, как в `dumps`"
   ]
  },
  {
   "cell_type": "markdown",
   "id": "6531e9cf-2fcf-47c3-8c00-064e21663cd0",
   "metadata": {},
   "source": [
    "## json.loads - прочитать из строки\n",
    "\n",
    "Обратная функция `loads` читает из строки и `load` - из файла"
   ]
  },
  {
   "cell_type": "code",
   "execution_count": 39,
   "id": "b4c26ae6-b921-4c5a-8d10-eed09d3f8519",
   "metadata": {},
   "outputs": [
    {
     "data": {
      "text/plain": [
       "{'firstName': 'Пётр',\n",
       " 'lastName': 'Кузнецов',\n",
       " 'address': {'streetAddress': 'Первомайская ул., 34, кв. 105',\n",
       "  'city': 'Долгопрудный',\n",
       "  'postalCode': 141700},\n",
       " 'phoneNumbers': ['+7 903 123-45-67']}"
      ]
     },
     "execution_count": 39,
     "metadata": {},
     "output_type": "execute_result"
    }
   ],
   "source": [
    "text = '''{\n",
    "    \"firstName\": \"Пётр\",\n",
    "    \"lastName\": \"Кузнецов\",\n",
    "    \"address\": {\n",
    "        \"streetAddress\": \"Первомайская ул., 34, кв. 105\",\n",
    "        \"city\": \"Долгопрудный\",\n",
    "        \"postalCode\": 141700\n",
    "    },\n",
    "    \"phoneNumbers\": [\n",
    "        \"+7 903 123-45-67\"\n",
    "    ]\n",
    "}'''\n",
    "\n",
    "d = json.loads(text)\n",
    "d"
   ]
  },
  {
   "cell_type": "markdown",
   "id": "8cc1b78f-3a59-4391-a301-82a10700e435",
   "metadata": {},
   "source": [
    "## json.load - прочитать из файла\n",
    "\n",
    "Почти так же, как в dump, но открываем на чтение и рекомендую указывать encoding (кодировку, в которой был записан файл)."
   ]
  },
  {
   "cell_type": "code",
   "execution_count": 41,
   "id": "f30e68fd-7314-4275-82f6-045fc215abb4",
   "metadata": {},
   "outputs": [
    {
     "data": {
      "text/plain": [
       "{'firstName': 'Иван',\n",
       " 'lastName': 'Иванов',\n",
       " 'address': {'streetAddress': 'Московское ш., 101, кв.101',\n",
       "  'city': 'Ленинград',\n",
       "  'postalCode': 101101},\n",
       " 'phoneNumbers': ['812 123-1234', '916 123-4567']}"
      ]
     },
     "execution_count": 41,
     "metadata": {},
     "output_type": "execute_result"
    }
   ],
   "source": [
    "with open('file_read_write/data.json', 'r', encoding='utf-8') as fin:\n",
    "    result_data = json.load(fin)\n",
    "\n",
    "result_data"
   ]
  },
  {
   "cell_type": "markdown",
   "id": "0efbf13d-bca6-4439-921d-4d7fe1268ed1",
   "metadata": {},
   "source": [
    "### Исключения JSON\n",
    "\n",
    "* json.JSONDecodeError - ошибка при разборе данных\n",
    "* TypeError - когда ключи словаря не базовых типов, допустимых в json, подавляется выставлением параметра `skipkeys`\n",
    "* ValueError - при работе с float значениями, которые не поддерживаются в json (`nan`, `inf`, `-inf`), параметр `allow_nan=True` преобразует их к NaN, Infinity, -Infinity\n",
    "* RecursionError - если в объекте циклическая ссылка на самого себя"
   ]
  },
  {
   "cell_type": "markdown",
   "id": "84d64e45-0f49-44cb-bed0-f8076c32f90b",
   "metadata": {},
   "source": [
    "## С обработкой относящихся к чтению исключениий\n",
    "\n",
    "За попытку написать except без аргумента или с общим классом Exception (ловим все), неуд в зачетку и всеобщее осуждениие других программистов."
   ]
  },
  {
   "cell_type": "code",
   "execution_count": 62,
   "id": "9d381017-8cd8-4d56-a09c-40365a527010",
   "metadata": {},
   "outputs": [
    {
     "name": "stdout",
     "output_type": "stream",
     "text": [
      "{\n",
      "    \"address\": {\n",
      "        \"city\": \"Ленинград\",\n",
      "        \"postalCode\": 101101,\n",
      "        \"streetAddress\": \"Московское ш., 101, кв.101\"\n",
      "    },\n",
      "    \"firstName\": \"Иван\",\n",
      "    \"lastName\": \"Иванов\",\n",
      "    \"phoneNumbers\": [\n",
      "        \"812 123-1234\",\n",
      "        \"916 123-4567\"\n",
      "    ]\n",
      "}\n"
     ]
    }
   ],
   "source": [
    "import json\n",
    "import sys\n",
    "\n",
    "try:\n",
    "    # загрузить данные из файла\n",
    "    with open('file_read_write/data.json', 'r', encoding='utf-8') as fin:\n",
    "        result_data = json.load(fin)\n",
    "        \n",
    "    # напечатать красиво полученные данные, если нужно\n",
    "    print(json.dumps(result_data, indent=4, sort_keys=True, ensure_ascii=False)) \n",
    "\n",
    "    # что-то сделать с данными, это вы сделаете сами\n",
    "    modified_data = result_data['city'] = 'Рязань'\n",
    "\n",
    "    # записать модифицированные данные в другой файл\n",
    "    with open('file_read_write/data_new.txt', 'w', encoding='utf-8') as fout:\n",
    "        json.dump(modified_data, fp=fout)\n",
    "\n",
    "except OSError as e:\n",
    "    print(e, file=sys.stderr)\n",
    "    # если открываем, например, не тот файл file_read_write/data2.json, то,\n",
    "    # [Errno 2] No such file or directory: 'file_read_write/data2.json'\n",
    "    # здесь же будут пойманы ошибки с \"нет прав доступа к файлу\" или \"ошибка чтения\" и тп.\n",
    "\n",
    "except json.JSONDecodeError as e:\n",
    "    print('Это не JSON формат', file=sys.stderr)\n",
    "\n"
   ]
  },
  {
   "cell_type": "markdown",
   "id": "066b4a4a-0092-40ad-a13a-22895dae19ac",
   "metadata": {},
   "source": [
    "[Документация](https://docs.python.org/3/library/json.html)\n",
    "\n",
    "* Всегда можно написать `help(json.dumps)` и почитать справку.\n",
    "* `json.dumps(obj, *, skipkeys=False, ensure_ascii=True, check_circular=True, allow_nan=True, cls=None, indent=None, separators=None, default=None, sort_keys=False, **kw)`\n",
    "* `json.dump(obj, fp, *, skipkeys=False, ensure_ascii=True, check_circular=True, allow_nan=True, cls=None, indent=None, separators=None, default=None, sort_keys=False, **kw)`\n",
    "* `json.loads(s, *, cls=None, object_hook=None, parse_float=None, parse_int=None, parse_constant=None, object_pairs_hook=None, **kw)`\n",
    "* `json.load(fp, *, cls=None, object_hook=None, parse_float=None, parse_int=None, parse_constant=None, object_pairs_hook=None, **kw)`"
   ]
  },
  {
   "cell_type": "markdown",
   "id": "9b2f576e-5ccf-47fc-a56c-f4f9d7f6809f",
   "metadata": {},
   "source": [
    "## Pickle \n",
    "\n",
    "Бинарный формат для хранения данных: открываем файл как **wb** или **rb**. \n",
    "\n",
    "Такие же функции:\n",
    "\n",
    "* `dump()`\n",
    "* `load()`\n",
    "* `dumps()`\n",
    "* `loads()`\n",
    "\n",
    "Другие исключения:\n",
    "\n",
    "* pickle.PickleError\n",
    "    * pickle.PicklingError\n",
    "    * pickle.UnpicklingError "
   ]
  },
  {
   "cell_type": "code",
   "execution_count": 63,
   "id": "d0507032-8791-4cbf-bca3-f5a625a53aa6",
   "metadata": {},
   "outputs": [],
   "source": [
    "import pickle\n",
    "\n",
    "obj = {'Python': 1991, 'Java': 1995, 'C#': 2002}\n",
    "\n",
    "with open('file_read_write/file.pkl', 'wb') as file:\n",
    "    pickle.dump(obj, file)"
   ]
  },
  {
   "cell_type": "markdown",
   "id": "c19342b0-07a9-4632-9977-ea2e5b62de3b",
   "metadata": {},
   "source": [
    "Теперь прочтем записанные данные:"
   ]
  },
  {
   "cell_type": "code",
   "execution_count": 64,
   "id": "ed9639d3-623d-406e-8bc8-fb41c085d18f",
   "metadata": {},
   "outputs": [
    {
     "data": {
      "text/plain": [
       "{'Python': 1991, 'Java': 1995, 'C#': 2002}"
      ]
     },
     "execution_count": 64,
     "metadata": {},
     "output_type": "execute_result"
    }
   ],
   "source": [
    "with open('file_read_write/file.pkl', 'rb') as fin:\n",
    "    res_data = pickle.load(fin)\n",
    "\n",
    "res_data"
   ]
  },
  {
   "cell_type": "code",
   "execution_count": 68,
   "id": "623a8856-597c-4ef4-8ef3-bc42edd4bb33",
   "metadata": {},
   "outputs": [
    {
     "name": "stdout",
     "output_type": "stream",
     "text": [
      "<class 'bytes'>\n"
     ]
    },
    {
     "data": {
      "text/plain": [
       "b'\\x80\\x04\\x95#\\x00\\x00\\x00\\x00\\x00\\x00\\x00}\\x94(\\x8c\\x06Python\\x94M\\xc7\\x07\\x8c\\x04Java\\x94M\\xcb\\x07\\x8c\\x02C#\\x94M\\xd2\\x07u.'"
      ]
     },
     "execution_count": 68,
     "metadata": {},
     "output_type": "execute_result"
    }
   ],
   "source": [
    "res_text = pickle.dumps(res_data)\n",
    "print(type(res_text))\n",
    "res_text"
   ]
  },
  {
   "cell_type": "markdown",
   "id": "d569177d-8715-4f67-8966-9b3913d66b71",
   "metadata": {},
   "source": [
    "### Сравнение pickle и JSON\n",
    "\n",
    "| Признак | Pickle | JSON |\n",
    "|----|----|----|\n",
    "| бинарный/текстовый | бинарный (компактный, не читается человеком) | текстовый (занимает больше места, легко читается и правится человеком) |\n",
    "| используется | только в python | широко используется для обмена данными (web) |\n",
    "| сохраняет | почти все типы объектов | ограниченное количество типов объектов |\n",
    "| быстрота | быстро | медленнее |\n",
    "| защита |  Модуль pickle не защищен. Никогда не десериализуйте данные, полученные из ненадежного источника, так как они могут оказаться вредоносными и выполняющими произвольный код во время распаковки | Получить вы можете только неисполняемые данные. Если вы сами захотите их исполнить, то вам придется приложить к этому усилия | "
   ]
  },
  {
   "cell_type": "code",
   "execution_count": null,
   "id": "2ee37fb4-8782-4dfa-8b79-bd59061e3e93",
   "metadata": {},
   "outputs": [],
   "source": []
  }
 ],
 "metadata": {
  "kernelspec": {
   "display_name": "Python 3 (ipykernel)",
   "language": "python",
   "name": "python3"
  },
  "language_info": {
   "codemirror_mode": {
    "name": "ipython",
    "version": 3
   },
   "file_extension": ".py",
   "mimetype": "text/x-python",
   "name": "python",
   "nbconvert_exporter": "python",
   "pygments_lexer": "ipython3",
   "version": "3.10.2"
  }
 },
 "nbformat": 4,
 "nbformat_minor": 5
}
