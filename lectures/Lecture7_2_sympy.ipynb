{
  "cells": [
    {
      "cell_type": "markdown",
      "id": "7e3bf72f-c49c-42eb-9b97-33e56a083f2e",
      "metadata": {
        "id": "7e3bf72f-c49c-42eb-9b97-33e56a083f2e"
      },
      "source": [
        "# sympy - библиотека символьных преобразований\n",
        "\n",
        "* numpy - численные вычисления, работа с векторами и матрицами.\n",
        "* sympy - преобразование формул, работа с аналитическими решениями.\n",
        "\n",
        "В sympy можно работать с формулами (выражениями из символов и чисел). Получать из одного выражения другое. Например, sympy может из $(a+b)^2$ получить $a^2 + 2ab + b^2$. Научимся это делать!\n",
        "\n",
        "[Tutorial](https://docs.sympy.org/latest/tutorial/index.html)"
      ]
    },
    {
      "cell_type": "markdown",
      "id": "1cc8fee3-69fe-4586-9b85-647c0accf454",
      "metadata": {
        "id": "1cc8fee3-69fe-4586-9b85-647c0accf454"
      },
      "source": [
        "## import\n",
        "\n",
        "Так как мы работаем в том же уроке с numpy, будем явно писать из какого пакета что мы берем."
      ]
    },
    {
      "cell_type": "code",
      "execution_count": 4,
      "id": "55f7454f-a6fa-4942-a669-1c8ee2ad9352",
      "metadata": {
        "id": "55f7454f-a6fa-4942-a669-1c8ee2ad9352"
      },
      "outputs": [],
      "source": [
        "import sympy"
      ]
    },
    {
      "cell_type": "markdown",
      "source": [
        "Хочу написать выражение $(x+y)^2$ и запомнить *выражение* в переменную `q`.\n",
        "\n",
        "`q = выражение` работает хорошо.\n",
        "\n",
        "`(x+y)**2` не работает! (Ниже должна быть ошибка)"
      ],
      "metadata": {
        "id": "_ykRbxFlSszw"
      },
      "id": "_ykRbxFlSszw"
    },
    {
      "cell_type": "code",
      "source": [
        "q = 14  # работает\n",
        "q"
      ],
      "metadata": {
        "colab": {
          "base_uri": "https://localhost:8080/"
        },
        "id": "IzMjt7c-SrjC",
        "outputId": "364e7b7b-4531-44d9-a5f2-205b73b7dab4"
      },
      "id": "IzMjt7c-SrjC",
      "execution_count": 3,
      "outputs": [
        {
          "output_type": "execute_result",
          "data": {
            "text/plain": [
              "14"
            ]
          },
          "metadata": {},
          "execution_count": 3
        }
      ]
    },
    {
      "cell_type": "code",
      "source": [
        "q = (x + y)**2"
      ],
      "metadata": {
        "colab": {
          "base_uri": "https://localhost:8080/",
          "height": 141
        },
        "id": "n5KZezeBS_iR",
        "outputId": "e7a0d6a3-767b-41d7-c367-dd9de41d49f0"
      },
      "id": "n5KZezeBS_iR",
      "execution_count": 5,
      "outputs": [
        {
          "output_type": "error",
          "ename": "NameError",
          "evalue": "name 'x' is not defined",
          "traceback": [
            "\u001b[0;31m---------------------------------------------------------------------------\u001b[0m",
            "\u001b[0;31mNameError\u001b[0m                                 Traceback (most recent call last)",
            "\u001b[0;32m<ipython-input-5-cdf9739b958b>\u001b[0m in \u001b[0;36m<cell line: 1>\u001b[0;34m()\u001b[0m\n\u001b[0;32m----> 1\u001b[0;31m \u001b[0mq\u001b[0m \u001b[0;34m=\u001b[0m \u001b[0;34m(\u001b[0m\u001b[0mx\u001b[0m \u001b[0;34m+\u001b[0m \u001b[0my\u001b[0m\u001b[0;34m)\u001b[0m\u001b[0;34m**\u001b[0m\u001b[0;36m2\u001b[0m\u001b[0;34m\u001b[0m\u001b[0;34m\u001b[0m\u001b[0m\n\u001b[0m",
            "\u001b[0;31mNameError\u001b[0m: name 'x' is not defined"
          ]
        }
      ]
    },
    {
      "cell_type": "markdown",
      "source": [
        "## Символы\n",
        "\n",
        "**Надо сначала сделать СИМВОЛЫ `x` и `y`**\n",
        "\n",
        "Создаем символы:\n",
        "\n",
        "* `x = Symbol('x')` - создаем 1 символ, `Symbol` пишем с большой буквы S\n",
        "* `x, y = symbols('x y')` - создаем 1 или *много* символов. `symbols` пишем с маленькой буквы s, не забываем s в конце: **s**ymbol**s**.\n",
        "\n",
        "Надо:\n",
        "\n",
        "* лучше использовать всегда `symbols`\n",
        "* Не создавать `I, E, S, N, C, O, Q` - они уже имеют специальное значение, например`I` = $\\sqrt{-1}$\n",
        "* не создавать переменную `exp` - это имя функции `sympy.exp` (экспонента)"
      ],
      "metadata": {
        "id": "2s-UZ2dySBxt"
      },
      "id": "2s-UZ2dySBxt"
    },
    {
      "cell_type": "markdown",
      "source": [
        "Имя переменной для символа не обязательно должно с его написанием в формулах. Имя `t`, написание в формуле *time*:"
      ],
      "metadata": {
        "id": "s-gnkyjGTMc_"
      },
      "id": "s-gnkyjGTMc_"
    },
    {
      "cell_type": "code",
      "execution_count": 8,
      "id": "642bcc38-d55e-4677-b6cf-23f1bf078867",
      "metadata": {
        "colab": {
          "base_uri": "https://localhost:8080/",
          "height": 52
        },
        "id": "642bcc38-d55e-4677-b6cf-23f1bf078867",
        "outputId": "47a36462-5762-4c28-f40f-4920a5c7534f"
      },
      "outputs": [
        {
          "output_type": "execute_result",
          "data": {
            "text/plain": [
              "distance/time"
            ],
            "text/latex": "$\\displaystyle \\frac{distance}{time}$"
          },
          "metadata": {},
          "execution_count": 8
        }
      ],
      "source": [
        "# символ s означает distance, символ t означает time\n",
        "s, v, t = sympy.symbols('distance velocity time')\n",
        "v = s/t\n",
        "v"
      ]
    },
    {
      "cell_type": "markdown",
      "source": [
        "## subs - подстановка чисел в формулу, n - вычисление числа"
      ],
      "metadata": {
        "id": "c4YEqwCVTdiS"
      },
      "id": "c4YEqwCVTdiS"
    },
    {
      "cell_type": "markdown",
      "source": [
        "* **subs** (от слова substitution) для подстановки\n",
        "* **n** (от слова numeric) для вычисления чисала (приближенно)"
      ],
      "metadata": {
        "id": "vp_BhXBaTfYl"
      },
      "id": "vp_BhXBaTfYl"
    },
    {
      "cell_type": "code",
      "source": [
        "# подставим s=80 и t=2\n",
        "s, v, t = sympy.symbols('distance velocity time')\n",
        "v = s/t\n",
        "print(v)\n",
        "v.subs({s:80, t:2})"
      ],
      "metadata": {
        "colab": {
          "base_uri": "https://localhost:8080/",
          "height": 55
        },
        "id": "Dhl9BUW_SWcN",
        "outputId": "9c876721-e54a-4018-bea1-eb5ac57b6587"
      },
      "id": "Dhl9BUW_SWcN",
      "execution_count": 10,
      "outputs": [
        {
          "output_type": "stream",
          "name": "stdout",
          "text": [
            "distance/time\n"
          ]
        },
        {
          "output_type": "execute_result",
          "data": {
            "text/plain": [
              "40"
            ],
            "text/latex": "$\\displaystyle 40$"
          },
          "metadata": {},
          "execution_count": 10
        }
      ]
    },
    {
      "cell_type": "markdown",
      "source": [
        "### Разница между символом и значением"
      ],
      "metadata": {
        "id": "yl_JvCEkUBp2"
      },
      "id": "yl_JvCEkUBp2"
    },
    {
      "cell_type": "code",
      "source": [
        "sympy.sqrt(2)   # храним как корень квадратный из 2"
      ],
      "metadata": {
        "colab": {
          "base_uri": "https://localhost:8080/",
          "height": 38
        },
        "id": "Q20iCXKFT4qY",
        "outputId": "f2c718aa-69dc-4a10-f69a-dac0cca2bbcc"
      },
      "id": "Q20iCXKFT4qY",
      "execution_count": 12,
      "outputs": [
        {
          "output_type": "execute_result",
          "data": {
            "text/plain": [
              "sqrt(2)"
            ],
            "text/latex": "$\\displaystyle \\sqrt{2}$"
          },
          "metadata": {},
          "execution_count": 12
        }
      ]
    },
    {
      "cell_type": "code",
      "source": [
        "sympy.sqrt(2).n() # вычислить число"
      ],
      "metadata": {
        "colab": {
          "base_uri": "https://localhost:8080/",
          "height": 37
        },
        "id": "OEaVUnpwUJNo",
        "outputId": "effafcdd-b786-4a0e-a3bb-b2149cd39782"
      },
      "id": "OEaVUnpwUJNo",
      "execution_count": 13,
      "outputs": [
        {
          "output_type": "execute_result",
          "data": {
            "text/plain": [
              "1.41421356237310"
            ],
            "text/latex": "$\\displaystyle 1.4142135623731$"
          },
          "metadata": {},
          "execution_count": 13
        }
      ]
    },
    {
      "cell_type": "markdown",
      "source": [
        "### Так делать нельзя (это НЕ подстановка чисел)\n",
        "\n",
        "Так можно \"испортить\" s и t (они теперь ссылаются на числа), но v будет по-прежнему distance/time, потому что ссылается на объект (выражение из двух символов distance и time)"
      ],
      "metadata": {
        "id": "hyu0GNrmUXXh"
      },
      "id": "hyu0GNrmUXXh"
    },
    {
      "cell_type": "code",
      "source": [
        "s = 80         # в переменной s теперь не символ, а число 80\n",
        "t = 2          # в переменной t теперь не символ, а число 2\n",
        "print(s, t, v) # v по-прежнему distance/time"
      ],
      "metadata": {
        "colab": {
          "base_uri": "https://localhost:8080/"
        },
        "id": "Ey3dEEF5US7M",
        "outputId": "d27ee4ca-f737-415c-d532-4c0b17b1b855"
      },
      "id": "Ey3dEEF5US7M",
      "execution_count": 14,
      "outputs": [
        {
          "output_type": "stream",
          "name": "stdout",
          "text": [
            "80 2 distance/time\n"
          ]
        }
      ]
    },
    {
      "cell_type": "markdown",
      "source": [
        "## Выражения"
      ],
      "metadata": {
        "id": "J5mDPlzdU01V"
      },
      "id": "J5mDPlzdU01V"
    },
    {
      "cell_type": "markdown",
      "source": [
        "Если есть символы, из них можно составить выражения. Выражения можно запомнить в переменных. Создадим символы x и y. Запишем выражения ex1, ex2, ex3."
      ],
      "metadata": {
        "id": "vPOTtpQOU25U"
      },
      "id": "vPOTtpQOU25U"
    },
    {
      "cell_type": "code",
      "source": [
        "x, y = sympy.symbols(\"x y\")  # можно через пробел\n",
        "a, b = sympy.symbols('a, b') # можно через запятую\n",
        "ex1 = x**2 + 3*x + 1\n",
        "ex1"
      ],
      "metadata": {
        "colab": {
          "base_uri": "https://localhost:8080/",
          "height": 39
        },
        "id": "zr8rTRNqUdsn",
        "outputId": "edbbd6e5-3162-4c95-9e1e-7d59862adf94"
      },
      "id": "zr8rTRNqUdsn",
      "execution_count": 15,
      "outputs": [
        {
          "output_type": "execute_result",
          "data": {
            "text/plain": [
              "x**2 + 3*x + 1"
            ],
            "text/latex": "$\\displaystyle x^{2} + 3 x + 1$"
          },
          "metadata": {},
          "execution_count": 15
        }
      ]
    },
    {
      "cell_type": "code",
      "source": [
        "ex2 = ex1 + sympy.sin(y)\n",
        "ex2"
      ],
      "metadata": {
        "colab": {
          "base_uri": "https://localhost:8080/",
          "height": 39
        },
        "id": "Mdkt44YaU-JW",
        "outputId": "30b04f32-29d5-40aa-ecc9-086f9d7bdd86"
      },
      "id": "Mdkt44YaU-JW",
      "execution_count": 17,
      "outputs": [
        {
          "output_type": "execute_result",
          "data": {
            "text/plain": [
              "x**2 + 3*x + sin(y) + 1"
            ],
            "text/latex": "$\\displaystyle x^{2} + 3 x + \\sin{\\left(y \\right)} + 1$"
          },
          "metadata": {},
          "execution_count": 17
        }
      ]
    },
    {
      "cell_type": "markdown",
      "source": [
        "## Математические фукции"
      ],
      "metadata": {
        "id": "IBHrYmXOVJjV"
      },
      "id": "IBHrYmXOVJjV"
    },
    {
      "cell_type": "markdown",
      "source": [
        "| sympy | математика |\n",
        "|:----|:----|\n",
        "| `sqrt(x)` | $\\sqrt(x)$ |\n",
        "| `root(3, 8)` | $\\sqrt[3]{8}$ |\n",
        "| `root(3, x)` | $\\sqrt[3]{x}$ |\n",
        "| `x**Rational(1,3)` | ${x}^{1/3}$ |\n",
        "| `factorial(n)` | $n!$ |\n",
        "| `sin(x)`, `cos(x)`, `tan(x)`, `cot(x)` | синус, косинус, тангенс, котангенс |\n",
        "| `log(x)` | $\\ln(x)$ |\n",
        "| `log(x, b)` | $\\log_{b}(x)$ |"
      ],
      "metadata": {
        "id": "MXc7zNR-VLDA"
      },
      "id": "MXc7zNR-VLDA"
    },
    {
      "cell_type": "markdown",
      "source": [
        "## diff - производная $f'(x)$"
      ],
      "metadata": {
        "id": "xf-OHBlvVsF9"
      },
      "id": "xf-OHBlvVsF9"
    },
    {
      "cell_type": "markdown",
      "source": [
        "  **diff**`(expression, var)` производная функции `expression` по переменной `var`"
      ],
      "metadata": {
        "id": "WhEtAekzVvwq"
      },
      "id": "WhEtAekzVvwq"
    },
    {
      "cell_type": "code",
      "source": [
        "sympy.diff(sympy.sin(x), x)      # sin'(x) = cos(x)"
      ],
      "metadata": {
        "colab": {
          "base_uri": "https://localhost:8080/",
          "height": 39
        },
        "id": "lfbB53O8VDJG",
        "outputId": "fbb5c3eb-bfab-4ad9-8289-9b386f4568b3"
      },
      "id": "lfbB53O8VDJG",
      "execution_count": 19,
      "outputs": [
        {
          "output_type": "execute_result",
          "data": {
            "text/plain": [
              "cos(x)"
            ],
            "text/latex": "$\\displaystyle \\cos{\\left(x \\right)}$"
          },
          "metadata": {},
          "execution_count": 19
        }
      ]
    },
    {
      "cell_type": "code",
      "source": [
        "sympy.diff(sympy.sin(2*x), x)    # sin'(2x) = 2cos(2x)"
      ],
      "metadata": {
        "colab": {
          "base_uri": "https://localhost:8080/",
          "height": 39
        },
        "id": "b_JXNT-ZV7kh",
        "outputId": "ec16d401-c7cc-4663-e07e-9c0c1c6244d1"
      },
      "id": "b_JXNT-ZV7kh",
      "execution_count": 20,
      "outputs": [
        {
          "output_type": "execute_result",
          "data": {
            "text/plain": [
              "2*cos(2*x)"
            ],
            "text/latex": "$\\displaystyle 2 \\cos{\\left(2 x \\right)}$"
          },
          "metadata": {},
          "execution_count": 20
        }
      ]
    },
    {
      "cell_type": "markdown",
      "source": [
        "### $f''(x)$ - производная второго порядка и выше"
      ],
      "metadata": {
        "id": "JI8akts2WNp1"
      },
      "id": "JI8akts2WNp1"
    },
    {
      "cell_type": "markdown",
      "source": [
        "**diff**`(expression, var, n)` производная функции `expression` по переменной `var` порядка `n`"
      ],
      "metadata": {
        "id": "-99bOkAsWQmU"
      },
      "id": "-99bOkAsWQmU"
    },
    {
      "cell_type": "code",
      "source": [
        "sympy.diff(sympy.sin(2*x), x, 1)      # sin'(2x) = 2cos(2x)"
      ],
      "metadata": {
        "colab": {
          "base_uri": "https://localhost:8080/",
          "height": 39
        },
        "id": "lBhkzv9jWDyx",
        "outputId": "7019890d-6bc8-4533-c1b4-171e90b5accb"
      },
      "id": "lBhkzv9jWDyx",
      "execution_count": 21,
      "outputs": [
        {
          "output_type": "execute_result",
          "data": {
            "text/plain": [
              "2*cos(2*x)"
            ],
            "text/latex": "$\\displaystyle 2 \\cos{\\left(2 x \\right)}$"
          },
          "metadata": {},
          "execution_count": 21
        }
      ]
    },
    {
      "cell_type": "code",
      "source": [
        "sympy.diff(sympy.sin(2*x), x, 2)      # sin''(2x) = -4sin(2x)"
      ],
      "metadata": {
        "colab": {
          "base_uri": "https://localhost:8080/",
          "height": 39
        },
        "id": "My6pdHVnWb2d",
        "outputId": "40c6b5f5-2d21-4d7a-9943-61b02700e5e7"
      },
      "id": "My6pdHVnWb2d",
      "execution_count": 22,
      "outputs": [
        {
          "output_type": "execute_result",
          "data": {
            "text/plain": [
              "-4*sin(2*x)"
            ],
            "text/latex": "$\\displaystyle - 4 \\sin{\\left(2 x \\right)}$"
          },
          "metadata": {},
          "execution_count": 22
        }
      ]
    },
    {
      "cell_type": "code",
      "source": [
        "sympy.diff(sympy.sin(2*x), x, 3)     # sin'''(2x) = -8cos(2x)"
      ],
      "metadata": {
        "colab": {
          "base_uri": "https://localhost:8080/",
          "height": 39
        },
        "id": "YD086ByaWf5Y",
        "outputId": "76a423b6-bf24-4fc5-92c0-69017195c2fe"
      },
      "id": "YD086ByaWf5Y",
      "execution_count": 23,
      "outputs": [
        {
          "output_type": "execute_result",
          "data": {
            "text/plain": [
              "-8*cos(2*x)"
            ],
            "text/latex": "$\\displaystyle - 8 \\cos{\\left(2 x \\right)}$"
          },
          "metadata": {},
          "execution_count": 23
        }
      ]
    },
    {
      "cell_type": "markdown",
      "source": [
        "# integrate - Интегрирование"
      ],
      "metadata": {
        "id": "VHH7NCnhWv05"
      },
      "id": "VHH7NCnhWv05"
    },
    {
      "cell_type": "markdown",
      "source": [
        "## Неопределенный интеграл"
      ],
      "metadata": {
        "id": "IpJfhSauWx30"
      },
      "id": "IpJfhSauWx30"
    },
    {
      "cell_type": "markdown",
      "source": [
        "Найти интеграл $$\\int (x+3)\\, dx$$"
      ],
      "metadata": {
        "id": "zKR3vSFqW23v"
      },
      "id": "zKR3vSFqW23v"
    },
    {
      "cell_type": "code",
      "source": [
        "# раньше где-то определен символ х\n",
        "sympy.integrate(x+3)"
      ],
      "metadata": {
        "colab": {
          "base_uri": "https://localhost:8080/",
          "height": 54
        },
        "id": "jBZh5vWJWnlw",
        "outputId": "7b3087f1-2273-4c69-ecf6-ad9e0cddc615"
      },
      "id": "jBZh5vWJWnlw",
      "execution_count": 24,
      "outputs": [
        {
          "output_type": "execute_result",
          "data": {
            "text/plain": [
              "x**2/2 + 3*x"
            ],
            "text/latex": "$\\displaystyle \\frac{x^{2}}{2} + 3 x$"
          },
          "metadata": {},
          "execution_count": 24
        }
      ]
    },
    {
      "cell_type": "code",
      "source": [
        "sympy.integrate(sympy.sin(x), x)"
      ],
      "metadata": {
        "colab": {
          "base_uri": "https://localhost:8080/",
          "height": 39
        },
        "id": "FVe71Q2QXwVb",
        "outputId": "f35b8c25-8131-49e2-f42f-56120eba643b"
      },
      "id": "FVe71Q2QXwVb",
      "execution_count": 26,
      "outputs": [
        {
          "output_type": "execute_result",
          "data": {
            "text/plain": [
              "-cos(x)"
            ],
            "text/latex": "$\\displaystyle - \\cos{\\left(x \\right)}$"
          },
          "metadata": {},
          "execution_count": 26
        }
      ]
    },
    {
      "cell_type": "code",
      "source": [
        "sympy.integrate(sympy.log(x), x)"
      ],
      "metadata": {
        "colab": {
          "base_uri": "https://localhost:8080/",
          "height": 39
        },
        "id": "vNIbdC29X1Mu",
        "outputId": "2edba32b-a8ca-4f31-f7a3-cc5b4365d84b"
      },
      "id": "vNIbdC29X1Mu",
      "execution_count": 28,
      "outputs": [
        {
          "output_type": "execute_result",
          "data": {
            "text/plain": [
              "x*log(x) - x"
            ],
            "text/latex": "$\\displaystyle x \\log{\\left(x \\right)} - x$"
          },
          "metadata": {},
          "execution_count": 28
        }
      ]
    },
    {
      "cell_type": "markdown",
      "source": [
        "## Опреленный интеграл"
      ],
      "metadata": {
        "id": "BNtFDNoFYDeX"
      },
      "id": "BNtFDNoFYDeX"
    },
    {
      "cell_type": "markdown",
      "source": [
        "Добавим в функцию **integrate** переменную и пределы интегрирования в виде кортежа.\n",
        "\n",
        "Найдем $$\\int_{1}^{2} x\\, dx$$"
      ],
      "metadata": {
        "id": "RY1d50uEYFdw"
      },
      "id": "RY1d50uEYFdw"
    },
    {
      "cell_type": "code",
      "source": [
        "sympy.integrate(x, (x, 1, 2))"
      ],
      "metadata": {
        "colab": {
          "base_uri": "https://localhost:8080/",
          "height": 51
        },
        "id": "hKr7dNrkX8Tn",
        "outputId": "7c83d1b4-ddd7-468f-94cd-cd04b86fb4e2"
      },
      "id": "hKr7dNrkX8Tn",
      "execution_count": 29,
      "outputs": [
        {
          "output_type": "execute_result",
          "data": {
            "text/plain": [
              "3/2"
            ],
            "text/latex": "$\\displaystyle \\frac{3}{2}$"
          },
          "metadata": {},
          "execution_count": 29
        }
      ]
    },
    {
      "cell_type": "markdown",
      "source": [
        "$$\\int_{-1}^{1} x^3\\, dx$$"
      ],
      "metadata": {
        "id": "KicFS2GLYSTc"
      },
      "id": "KicFS2GLYSTc"
    },
    {
      "cell_type": "code",
      "source": [
        "sympy.integrate(x**3, (x, -1, 1))"
      ],
      "metadata": {
        "colab": {
          "base_uri": "https://localhost:8080/",
          "height": 37
        },
        "id": "x6HrkqV4YO9r",
        "outputId": "2735e676-665b-45b8-8e9e-74c605fc94f5"
      },
      "id": "x6HrkqV4YO9r",
      "execution_count": 30,
      "outputs": [
        {
          "output_type": "execute_result",
          "data": {
            "text/plain": [
              "0"
            ],
            "text/latex": "$\\displaystyle 0$"
          },
          "metadata": {},
          "execution_count": 30
        }
      ]
    },
    {
      "cell_type": "markdown",
      "source": [
        "$$\\int_{0}^{\\pi/2} sin(x)\\, dx$$"
      ],
      "metadata": {
        "id": "rlRUzWonYmzC"
      },
      "id": "rlRUzWonYmzC"
    },
    {
      "cell_type": "code",
      "source": [
        "sympy.integrate(sympy.sin(x), (x, 0, sympy.pi/2))"
      ],
      "metadata": {
        "colab": {
          "base_uri": "https://localhost:8080/",
          "height": 37
        },
        "id": "A4JY98KmYeum",
        "outputId": "f4bccbc8-32ac-45ef-c5b3-3cda7290120c"
      },
      "id": "A4JY98KmYeum",
      "execution_count": 31,
      "outputs": [
        {
          "output_type": "execute_result",
          "data": {
            "text/plain": [
              "1"
            ],
            "text/latex": "$\\displaystyle 1$"
          },
          "metadata": {},
          "execution_count": 31
        }
      ]
    },
    {
      "cell_type": "markdown",
      "source": [
        "$$\\int_{-\\pi/2}^{\\pi/2} cos(x)\\, dx$$"
      ],
      "metadata": {
        "id": "Ia9DiCPUZAa_"
      },
      "id": "Ia9DiCPUZAa_"
    },
    {
      "cell_type": "code",
      "source": [
        "sympy.integrate(sympy.cos(x), (x, -sympy.pi/2, sympy.pi/2))"
      ],
      "metadata": {
        "colab": {
          "base_uri": "https://localhost:8080/",
          "height": 37
        },
        "id": "Q1HiLe0qYsEl",
        "outputId": "497820ac-6f4f-46a1-ede0-26fdb2b3583e"
      },
      "id": "Q1HiLe0qYsEl",
      "execution_count": 32,
      "outputs": [
        {
          "output_type": "execute_result",
          "data": {
            "text/plain": [
              "2"
            ],
            "text/latex": "$\\displaystyle 2$"
          },
          "metadata": {},
          "execution_count": 32
        }
      ]
    },
    {
      "cell_type": "markdown",
      "source": [
        "**Обратите, как обозначаем бесконечность, как `oo`**\n",
        "\n",
        "$$\\int_{0}^{\\infty} e^{-x}\\, dx$$"
      ],
      "metadata": {
        "id": "-EC_AeeYZRTy"
      },
      "id": "-EC_AeeYZRTy"
    },
    {
      "cell_type": "code",
      "source": [
        "sympy.integrate(sympy.exp(-x), (x, 0, sympy.oo))"
      ],
      "metadata": {
        "colab": {
          "base_uri": "https://localhost:8080/",
          "height": 37
        },
        "id": "qhKExQUNZMbp",
        "outputId": "94c180e4-130a-4d69-c530-f2b16a86e924"
      },
      "id": "qhKExQUNZMbp",
      "execution_count": 33,
      "outputs": [
        {
          "output_type": "execute_result",
          "data": {
            "text/plain": [
              "1"
            ],
            "text/latex": "$\\displaystyle 1$"
          },
          "metadata": {},
          "execution_count": 33
        }
      ]
    },
    {
      "cell_type": "markdown",
      "source": [
        "$$\\int_{0}^{1} ln(x)\\, dx$$"
      ],
      "metadata": {
        "id": "kCpRf9xFZjlY"
      },
      "id": "kCpRf9xFZjlY"
    },
    {
      "cell_type": "code",
      "source": [
        "sympy.integrate(sympy.log(x), (x, 0, 1))"
      ],
      "metadata": {
        "colab": {
          "base_uri": "https://localhost:8080/",
          "height": 37
        },
        "id": "lOo8ye14Ze4X",
        "outputId": "d4b9b570-9edb-4667-d5d3-545a7d476b40"
      },
      "id": "lOo8ye14Ze4X",
      "execution_count": 34,
      "outputs": [
        {
          "output_type": "execute_result",
          "data": {
            "text/plain": [
              "-1"
            ],
            "text/latex": "$\\displaystyle -1$"
          },
          "metadata": {},
          "execution_count": 34
        }
      ]
    },
    {
      "cell_type": "markdown",
      "source": [
        "# Шпаргалка, как пользоваться sympy\n",
        "\n",
        "1. `import sympy`\n",
        "2. `sympy.symbols('x y a b')` - определяем символы\n",
        "3. `ex = a*x**2 + b*y` - записываем выражение\n",
        "4. `sympy.diff(ex, x)` - дифференцируем выражение по указанной переменной\n",
        "5. `sympy.integrate(ex, x)` - интегрируем выражение по указанной переменной\n",
        "6. `sympy.integrate(ex, (x, -1, 3))` - интегрируем выражение по указанной переменных в указанных пределах"
      ],
      "metadata": {
        "id": "jBFNpnxxZ-51"
      },
      "id": "jBFNpnxxZ-51"
    },
    {
      "cell_type": "markdown",
      "source": [
        "# Бонус: Решение уравнений"
      ],
      "metadata": {
        "id": "fOF8G_vDsu9s"
      },
      "id": "fOF8G_vDsu9s"
    },
    {
      "cell_type": "markdown",
      "source": [
        "Сначала, как обычно, напишем import и определим символы."
      ],
      "metadata": {
        "id": "_BrhdkmNtrSj"
      },
      "id": "_BrhdkmNtrSj"
    },
    {
      "cell_type": "code",
      "source": [
        "from sympy import *\n",
        "\n",
        "x, y, a, b, c = symbols('x, y, a, b, c')"
      ],
      "metadata": {
        "id": "Bp67JTSrZppO"
      },
      "id": "Bp67JTSrZppO",
      "execution_count": 35,
      "outputs": []
    },
    {
      "cell_type": "markdown",
      "source": [
        "Далее уравнение вида $f(x) = g(x)$ опишем как `Eq(f(x), g(x))`\n",
        "\n",
        "Вместо выражения запишем уравнение `Eq(выр1, выр2)`. Это запись уравнения $$выр1 = выр2$$\n",
        "\n",
        "Решим уравнение $x^2 +2x -1 = 2$. Запишем его в виде Eq и проверим, что записали правильно:"
      ],
      "metadata": {
        "id": "CbP3JEFYt2r9"
      },
      "id": "CbP3JEFYt2r9"
    },
    {
      "cell_type": "code",
      "source": [
        "q = Eq(x**2 + 2*x -1, 2)\n",
        "q"
      ],
      "metadata": {
        "colab": {
          "base_uri": "https://localhost:8080/",
          "height": 39
        },
        "id": "VTLc9s2Pt2HG",
        "outputId": "7029ae65-94b9-4f69-ef60-8150eace9211"
      },
      "id": "VTLc9s2Pt2HG",
      "execution_count": 36,
      "outputs": [
        {
          "output_type": "execute_result",
          "data": {
            "text/plain": [
              "Eq(x**2 + 2*x - 1, 2)"
            ],
            "text/latex": "$\\displaystyle x^{2} + 2 x - 1 = 2$"
          },
          "metadata": {},
          "execution_count": 36
        }
      ]
    },
    {
      "cell_type": "markdown",
      "source": [
        "Решим уравнение с помощью функции **solve**, корни запишем в переменную `sol`"
      ],
      "metadata": {
        "id": "WFA8xn4GuSCr"
      },
      "id": "WFA8xn4GuSCr"
    },
    {
      "cell_type": "code",
      "source": [
        "sol = sympy.solve(q, x)  # если символ в уравнении один, его можно не писать\n",
        "sol"
      ],
      "metadata": {
        "colab": {
          "base_uri": "https://localhost:8080/"
        },
        "id": "-O7HqoKquIlz",
        "outputId": "00f54092-81ea-4a57-a3a3-ef9bb0296e8b"
      },
      "id": "-O7HqoKquIlz",
      "execution_count": 38,
      "outputs": [
        {
          "output_type": "execute_result",
          "data": {
            "text/plain": [
              "[-3, 1]"
            ]
          },
          "metadata": {},
          "execution_count": 38
        }
      ]
    },
    {
      "cell_type": "code",
      "source": [
        "sol = sympy.solve(q)  # если символ в уравнении один, его можно не писать\n",
        "sol"
      ],
      "metadata": {
        "colab": {
          "base_uri": "https://localhost:8080/"
        },
        "id": "TCN9TOWbv2Gr",
        "outputId": "a71bc7d5-b8f9-49a2-92cf-ccb681190196"
      },
      "id": "TCN9TOWbv2Gr",
      "execution_count": 42,
      "outputs": [
        {
          "output_type": "execute_result",
          "data": {
            "text/plain": [
              "[-3, 1]"
            ]
          },
          "metadata": {},
          "execution_count": 42
        }
      ]
    },
    {
      "cell_type": "markdown",
      "source": [
        "Уравнение имеет два решения: -3 и 1.\n",
        "\n",
        "Можно получить решение в виде словаря, удобное для подстановки."
      ],
      "metadata": {
        "id": "XYLe0wVsunkh"
      },
      "id": "XYLe0wVsunkh"
    },
    {
      "cell_type": "code",
      "source": [
        "sol = sympy.solve(q, x, dict=True)  # если символ в уравнении один, его можно не писать\n",
        "sol"
      ],
      "metadata": {
        "colab": {
          "base_uri": "https://localhost:8080/"
        },
        "id": "c_Xhm9P_uiBW",
        "outputId": "05507028-4c0f-4617-e2ab-f6ebbd665d08"
      },
      "id": "c_Xhm9P_uiBW",
      "execution_count": 39,
      "outputs": [
        {
          "output_type": "execute_result",
          "data": {
            "text/plain": [
              "[{x: -3}, {x: 1}]"
            ]
          },
          "metadata": {},
          "execution_count": 39
        }
      ]
    },
    {
      "cell_type": "markdown",
      "source": [
        "Проверим, что корни нашли правильные, это `sol[0]` и `sol[1]`"
      ],
      "metadata": {
        "id": "4An1XtbFu87_"
      },
      "id": "4An1XtbFu87_"
    },
    {
      "cell_type": "code",
      "source": [
        "q.subs(sol[0])"
      ],
      "metadata": {
        "colab": {
          "base_uri": "https://localhost:8080/",
          "height": 37
        },
        "id": "uf8YLIrBu38Y",
        "outputId": "93cdcadd-be2d-4666-db01-4f72ee57db37"
      },
      "id": "uf8YLIrBu38Y",
      "execution_count": 40,
      "outputs": [
        {
          "output_type": "execute_result",
          "data": {
            "text/plain": [
              "True"
            ],
            "text/latex": "$\\displaystyle \\text{True}$"
          },
          "metadata": {},
          "execution_count": 40
        }
      ]
    },
    {
      "cell_type": "code",
      "source": [
        "q.subs(sol[1])"
      ],
      "metadata": {
        "colab": {
          "base_uri": "https://localhost:8080/",
          "height": 37
        },
        "id": "JjW3v3ehu_ZC",
        "outputId": "03cd577f-d504-4818-c837-6337c6538395"
      },
      "id": "JjW3v3ehu_ZC",
      "execution_count": 41,
      "outputs": [
        {
          "output_type": "execute_result",
          "data": {
            "text/plain": [
              "True"
            ],
            "text/latex": "$\\displaystyle \\text{True}$"
          },
          "metadata": {},
          "execution_count": 41
        }
      ]
    },
    {
      "cell_type": "markdown",
      "source": [
        "## Уравнение с несколькими переменными\n",
        "\n",
        "Указывайте, относительно какой переменной хотите получать решение.\n",
        "\n",
        "В уравнении $ax^2+bx+c = 0$ нужно указывать, какую переменную мы ищем."
      ],
      "metadata": {
        "id": "1Js3ZhenvkLq"
      },
      "id": "1Js3ZhenvkLq"
    },
    {
      "cell_type": "code",
      "source": [
        "q = Eq(a*x**2 + b*x + c, 0)\n",
        "q"
      ],
      "metadata": {
        "colab": {
          "base_uri": "https://localhost:8080/",
          "height": 39
        },
        "id": "GSwfRr_xvBQs",
        "outputId": "d301ba76-aa62-45f2-ee8f-275a00052429"
      },
      "id": "GSwfRr_xvBQs",
      "execution_count": 43,
      "outputs": [
        {
          "output_type": "execute_result",
          "data": {
            "text/plain": [
              "Eq(a*x**2 + b*x + c, 0)"
            ],
            "text/latex": "$\\displaystyle a x^{2} + b x + c = 0$"
          },
          "metadata": {},
          "execution_count": 43
        }
      ]
    },
    {
      "cell_type": "code",
      "source": [
        "solve(q)  # не указали переменную, получили решение a = ..."
      ],
      "metadata": {
        "colab": {
          "base_uri": "https://localhost:8080/"
        },
        "id": "uKoaBP_xwCFE",
        "outputId": "fdf2b0b7-6e62-4e3b-b81d-3dede0a274de"
      },
      "id": "uKoaBP_xwCFE",
      "execution_count": 44,
      "outputs": [
        {
          "output_type": "execute_result",
          "data": {
            "text/plain": [
              "[{a: (-b*x - c)/x**2}]"
            ]
          },
          "metadata": {},
          "execution_count": 44
        }
      ]
    },
    {
      "cell_type": "code",
      "source": [
        "solve(q, x)  # указали, что нужно найти х = ..."
      ],
      "metadata": {
        "colab": {
          "base_uri": "https://localhost:8080/"
        },
        "id": "1oPUb5KgwIag",
        "outputId": "6b6e6bb6-3988-446a-8ca6-420b97c57cd8"
      },
      "id": "1oPUb5KgwIag",
      "execution_count": 45,
      "outputs": [
        {
          "output_type": "execute_result",
          "data": {
            "text/plain": [
              "[(-b - sqrt(-4*a*c + b**2))/(2*a), (-b + sqrt(-4*a*c + b**2))/(2*a)]"
            ]
          },
          "metadata": {},
          "execution_count": 45
        }
      ]
    },
    {
      "cell_type": "markdown",
      "source": [
        "Если уравнение имеет вид $f(x) = 0$, то можно не составлять `Eq(f, 0)`, а передавать выражение в функцию solve."
      ],
      "metadata": {
        "id": "DOGC1KacwlOK"
      },
      "id": "DOGC1KacwlOK"
    },
    {
      "cell_type": "code",
      "source": [
        "f = a*x**2 + b*x + c\n",
        "f"
      ],
      "metadata": {
        "colab": {
          "base_uri": "https://localhost:8080/",
          "height": 39
        },
        "id": "8-ZFIlSnw9dI",
        "outputId": "4e62c417-5ff1-493d-d1a8-e7fb7fdf1ca9"
      },
      "id": "8-ZFIlSnw9dI",
      "execution_count": 46,
      "outputs": [
        {
          "output_type": "execute_result",
          "data": {
            "text/plain": [
              "a*x**2 + b*x + c"
            ],
            "text/latex": "$\\displaystyle a x^{2} + b x + c$"
          },
          "metadata": {},
          "execution_count": 46
        }
      ]
    },
    {
      "cell_type": "code",
      "source": [
        "sympy.solve(f, x)"
      ],
      "metadata": {
        "colab": {
          "base_uri": "https://localhost:8080/"
        },
        "id": "zJLuMT1BxDSd",
        "outputId": "869016e4-0319-4a5f-d2fb-d8cef4488c92"
      },
      "id": "zJLuMT1BxDSd",
      "execution_count": 47,
      "outputs": [
        {
          "output_type": "execute_result",
          "data": {
            "text/plain": [
              "[(-b - sqrt(-4*a*c + b**2))/(2*a), (-b + sqrt(-4*a*c + b**2))/(2*a)]"
            ]
          },
          "metadata": {},
          "execution_count": 47
        }
      ]
    },
    {
      "cell_type": "markdown",
      "source": [
        "### Только действительные корни"
      ],
      "metadata": {
        "id": "_Wg9O3GvwdDE"
      },
      "id": "_Wg9O3GvwdDE"
    },
    {
      "cell_type": "markdown",
      "source": [
        "Иногда корни уравния могут быть мнимыми, например $(x - 3)(x^2 + 1) = 0$ имеет действительный корень 3 и комплексные корни $\\sqrt{-1}$ и $-\\sqrt{-1}$\n",
        "\n",
        "$\\sqrt{-1}$ это мнимая единица. Обозначается в sympy как `I`."
      ],
      "metadata": {
        "id": "20ZTQmSzwd2d"
      },
      "id": "20ZTQmSzwd2d"
    },
    {
      "cell_type": "code",
      "source": [
        "ex = (x-3)* (x**2 + 1)\n",
        "ex"
      ],
      "metadata": {
        "colab": {
          "base_uri": "https://localhost:8080/",
          "height": 39
        },
        "id": "Rk2hMVshwN-k",
        "outputId": "4fa433d4-e6f2-4e6c-afd4-f9ea7f5231cc"
      },
      "id": "Rk2hMVshwN-k",
      "execution_count": 48,
      "outputs": [
        {
          "output_type": "execute_result",
          "data": {
            "text/plain": [
              "(x - 3)*(x**2 + 1)"
            ],
            "text/latex": "$\\displaystyle \\left(x - 3\\right) \\left(x^{2} + 1\\right)$"
          },
          "metadata": {},
          "execution_count": 48
        }
      ]
    },
    {
      "cell_type": "code",
      "source": [
        "solve(ex)"
      ],
      "metadata": {
        "colab": {
          "base_uri": "https://localhost:8080/"
        },
        "id": "ERzotXpOxMHX",
        "outputId": "6a1e6662-e1c8-49db-d202-9a05b9c009a0"
      },
      "id": "ERzotXpOxMHX",
      "execution_count": 49,
      "outputs": [
        {
          "output_type": "execute_result",
          "data": {
            "text/plain": [
              "[3, -I, I]"
            ]
          },
          "metadata": {},
          "execution_count": 49
        }
      ]
    },
    {
      "cell_type": "markdown",
      "source": [
        "Чтобы получить только действительные корни, нужно ЗАРАНЕЕ, когда определяем символы, наложить на символы ограничения.\n",
        "Что `x` должно быть строго действительное."
      ],
      "metadata": {
        "id": "PHG0F6iqxPRL"
      },
      "id": "PHG0F6iqxPRL"
    },
    {
      "cell_type": "code",
      "source": [
        "x = sympy.symbols('x', real=True)"
      ],
      "metadata": {
        "id": "qnv3qEI7D_ST"
      },
      "id": "qnv3qEI7D_ST",
      "execution_count": 54,
      "outputs": []
    },
    {
      "cell_type": "code",
      "source": [
        "ex = (x-3)* (x**2 + 1)\n",
        "ex"
      ],
      "metadata": {
        "colab": {
          "base_uri": "https://localhost:8080/",
          "height": 39
        },
        "id": "F0YGLt-AEHzw",
        "outputId": "05abd07f-1fa7-4956-c078-8dbb72da1b7a"
      },
      "id": "F0YGLt-AEHzw",
      "execution_count": 55,
      "outputs": [
        {
          "output_type": "execute_result",
          "data": {
            "text/plain": [
              "(x - 3)*(x**2 + 1)"
            ],
            "text/latex": "$\\displaystyle \\left(x - 3\\right) \\left(x^{2} + 1\\right)$"
          },
          "metadata": {},
          "execution_count": 55
        }
      ]
    },
    {
      "cell_type": "code",
      "source": [
        "solve(ex)"
      ],
      "metadata": {
        "colab": {
          "base_uri": "https://localhost:8080/"
        },
        "id": "c1XLnSH4EN3q",
        "outputId": "4ba7cd24-564a-4b67-8b53-4ec4953a80e5"
      },
      "id": "c1XLnSH4EN3q",
      "execution_count": 56,
      "outputs": [
        {
          "output_type": "execute_result",
          "data": {
            "text/plain": [
              "[3]"
            ]
          },
          "metadata": {},
          "execution_count": 56
        }
      ]
    },
    {
      "cell_type": "markdown",
      "source": [
        "Получили только действительный корень."
      ],
      "metadata": {
        "id": "7p3zwxCbERF4"
      },
      "id": "7p3zwxCbERF4"
    },
    {
      "cell_type": "markdown",
      "source": [
        "### Ограничения на символы"
      ],
      "metadata": {
        "id": "zHlVeeqADWNc"
      },
      "id": "zHlVeeqADWNc"
    },
    {
      "cell_type": "markdown",
      "source": [
        "Можно задать свойства символов\n",
        "\n",
        "| Свойство | Описание |\n",
        "|:----|:-----|\n",
        "| real, imaginary | действительное, мнимое |\n",
        "| postitive, negative | положительное, отрицательное |\n",
        "| integer | целое |\n",
        "| even, odd | четное, нечетное|\n",
        "| prime | простое |\n",
        "| finite, infinite | конечное, бесконечное |\n",
        "\n",
        "Посмотрите, как влияют свойства символа при упрощении выражения:"
      ],
      "metadata": {
        "id": "jWDeRkuLDbmR"
      },
      "id": "jWDeRkuLDbmR"
    },
    {
      "cell_type": "code",
      "source": [
        "n1 = sympy.symbols('n')\n",
        "n2 = sympy.symbols('n', integer=True)\n",
        "n3 = sympy.symbols('n', odd=True)"
      ],
      "metadata": {
        "id": "TWdSHcsGxNcn"
      },
      "id": "TWdSHcsGxNcn",
      "execution_count": 50,
      "outputs": []
    },
    {
      "cell_type": "code",
      "source": [
        "cos(n1*pi)  # ничего не знаем об n"
      ],
      "metadata": {
        "colab": {
          "base_uri": "https://localhost:8080/",
          "height": 39
        },
        "id": "21avq_JcDwsb",
        "outputId": "bbee9371-e372-4a04-8041-6225b86418e7"
      },
      "id": "21avq_JcDwsb",
      "execution_count": 51,
      "outputs": [
        {
          "output_type": "execute_result",
          "data": {
            "text/plain": [
              "cos(pi*n)"
            ],
            "text/latex": "$\\displaystyle \\cos{\\left(\\pi n \\right)}$"
          },
          "metadata": {},
          "execution_count": 51
        }
      ]
    },
    {
      "cell_type": "code",
      "source": [
        "cos(n2*pi)  # n целое"
      ],
      "metadata": {
        "colab": {
          "base_uri": "https://localhost:8080/",
          "height": 37
        },
        "id": "e69Kd5M4DzKz",
        "outputId": "96c7ccb3-a6d9-4ee6-d0a4-e1b4ed621bd9"
      },
      "id": "e69Kd5M4DzKz",
      "execution_count": 52,
      "outputs": [
        {
          "output_type": "execute_result",
          "data": {
            "text/plain": [
              "(-1)**n"
            ],
            "text/latex": "$\\displaystyle \\left(-1\\right)^{n}$"
          },
          "metadata": {},
          "execution_count": 52
        }
      ]
    },
    {
      "cell_type": "code",
      "source": [
        "cos(n3*pi)  # n нечетное"
      ],
      "metadata": {
        "colab": {
          "base_uri": "https://localhost:8080/",
          "height": 37
        },
        "id": "SqPHIRx3D0xl",
        "outputId": "082d7ca7-bb3f-4233-aab1-e78726b54ab4"
      },
      "id": "SqPHIRx3D0xl",
      "execution_count": 53,
      "outputs": [
        {
          "output_type": "execute_result",
          "data": {
            "text/plain": [
              "-1"
            ],
            "text/latex": "$\\displaystyle -1$"
          },
          "metadata": {},
          "execution_count": 53
        }
      ]
    },
    {
      "cell_type": "markdown",
      "source": [
        "## Решения систем уравнений"
      ],
      "metadata": {
        "id": "Yy0XkRpVEh0i"
      },
      "id": "Yy0XkRpVEh0i"
    },
    {
      "cell_type": "markdown",
      "source": [
        "Просто запишите уравнения в список и подайте его первым аргументом в solve\n",
        "\n",
        "Найти решение системы уравнений\n",
        "\n",
        "$$ \\begin{cases} x + 2y = 1 \\\\ x + 1 = y \\end{cases}$$\n",
        "\n",
        "Для начала запишем 2 уравнения Eq и проверим, что они правильно записаны:"
      ],
      "metadata": {
        "id": "NYboSqOcEngI"
      },
      "id": "NYboSqOcEngI"
    },
    {
      "cell_type": "code",
      "source": [
        "eq1 = Eq(x + 2*y, 1)\n",
        "eq1"
      ],
      "metadata": {
        "colab": {
          "base_uri": "https://localhost:8080/",
          "height": 39
        },
        "id": "6XiWyDoRD28K",
        "outputId": "ae2d8932-9cb2-4f64-f3af-bafe30330040"
      },
      "id": "6XiWyDoRD28K",
      "execution_count": 57,
      "outputs": [
        {
          "output_type": "execute_result",
          "data": {
            "text/plain": [
              "Eq(x + 2*y, 1)"
            ],
            "text/latex": "$\\displaystyle x + 2 y = 1$"
          },
          "metadata": {},
          "execution_count": 57
        }
      ]
    },
    {
      "cell_type": "code",
      "source": [
        "eq2 = Eq(x + 1, y)\n",
        "eq2"
      ],
      "metadata": {
        "colab": {
          "base_uri": "https://localhost:8080/",
          "height": 39
        },
        "id": "sq0KE427E8P_",
        "outputId": "30d671ef-3957-4f4a-c715-d326942c4836"
      },
      "id": "sq0KE427E8P_",
      "execution_count": 58,
      "outputs": [
        {
          "output_type": "execute_result",
          "data": {
            "text/plain": [
              "Eq(x + 1, y)"
            ],
            "text/latex": "$\\displaystyle x + 1 = y$"
          },
          "metadata": {},
          "execution_count": 58
        }
      ]
    },
    {
      "cell_type": "code",
      "source": [
        "solve([eq1, eq2], dict=True)"
      ],
      "metadata": {
        "colab": {
          "base_uri": "https://localhost:8080/"
        },
        "id": "r5HTh3T0FAWZ",
        "outputId": "7f6dfaeb-c87e-4271-d2da-8d533976822f"
      },
      "id": "r5HTh3T0FAWZ",
      "execution_count": 59,
      "outputs": [
        {
          "output_type": "execute_result",
          "data": {
            "text/plain": [
              "[{x: -1/3, y: 2/3}]"
            ]
          },
          "metadata": {},
          "execution_count": 59
        }
      ]
    },
    {
      "cell_type": "markdown",
      "source": [
        "## Нелинейные уравнения и их системы"
      ],
      "metadata": {
        "id": "fHU8COxLFi-X"
      },
      "id": "fHU8COxLFi-X"
    },
    {
      "cell_type": "markdown",
      "source": [
        "Ничего нового. Можно задать нелинейное уравнение.\n",
        "\n",
        "Если solve может, оно уравнение решит.\n",
        "\n",
        "Решить уравнение\n",
        "\n",
        "$$ \\begin{cases} x^2 - y = 0 \\\\ y^2 - x = 0 \\end{cases}$$"
      ],
      "metadata": {
        "id": "xys_c6w5Fm-d"
      },
      "id": "xys_c6w5Fm-d"
    },
    {
      "cell_type": "code",
      "source": [
        "eq1 = Eq(x**2 - y, 0)\n",
        "eq1"
      ],
      "metadata": {
        "colab": {
          "base_uri": "https://localhost:8080/",
          "height": 39
        },
        "id": "uP3rPXKEFEuX",
        "outputId": "06de6bbf-5e1c-445e-835f-9d5a5510d5e9"
      },
      "id": "uP3rPXKEFEuX",
      "execution_count": 60,
      "outputs": [
        {
          "output_type": "execute_result",
          "data": {
            "text/plain": [
              "Eq(x**2 - y, 0)"
            ],
            "text/latex": "$\\displaystyle x^{2} - y = 0$"
          },
          "metadata": {},
          "execution_count": 60
        }
      ]
    },
    {
      "cell_type": "code",
      "source": [
        "eq2 = Eq(y**2 - x, 0)\n",
        "eq2"
      ],
      "metadata": {
        "colab": {
          "base_uri": "https://localhost:8080/",
          "height": 39
        },
        "id": "UKLCxX_AF7b0",
        "outputId": "22e55cb1-5a4b-405a-f599-4e8d9438b29f"
      },
      "id": "UKLCxX_AF7b0",
      "execution_count": 61,
      "outputs": [
        {
          "output_type": "execute_result",
          "data": {
            "text/plain": [
              "Eq(-x + y**2, 0)"
            ],
            "text/latex": "$\\displaystyle - x + y^{2} = 0$"
          },
          "metadata": {},
          "execution_count": 61
        }
      ]
    },
    {
      "cell_type": "code",
      "source": [
        "solve([eq1, eq2], dict=True)"
      ],
      "metadata": {
        "colab": {
          "base_uri": "https://localhost:8080/"
        },
        "id": "_z6NERRJGAuL",
        "outputId": "a5d8ccc8-5f60-4b2a-a529-be34198d24ba"
      },
      "id": "_z6NERRJGAuL",
      "execution_count": 62,
      "outputs": [
        {
          "output_type": "execute_result",
          "data": {
            "text/plain": [
              "[{x: 0, y: 0}, {x: 1, y: 1}]"
            ]
          },
          "metadata": {},
          "execution_count": 62
        }
      ]
    },
    {
      "cell_type": "code",
      "source": [],
      "metadata": {
        "id": "9kITifZNGFMW"
      },
      "id": "9kITifZNGFMW",
      "execution_count": null,
      "outputs": []
    }
  ],
  "metadata": {
    "kernelspec": {
      "display_name": "Python 3 (ipykernel)",
      "language": "python",
      "name": "python3"
    },
    "language_info": {
      "codemirror_mode": {
        "name": "ipython",
        "version": 3
      },
      "file_extension": ".py",
      "mimetype": "text/x-python",
      "name": "python",
      "nbconvert_exporter": "python",
      "pygments_lexer": "ipython3",
      "version": "3.10.2"
    },
    "colab": {
      "provenance": [],
      "toc_visible": true
    }
  },
  "nbformat": 4,
  "nbformat_minor": 5
}