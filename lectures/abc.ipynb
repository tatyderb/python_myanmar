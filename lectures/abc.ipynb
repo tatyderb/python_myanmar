{
 "cells": [
  {
   "cell_type": "markdown",
   "id": "d46318ad-ba76-40c2-a95c-34a4cc7ca70c",
   "metadata": {},
   "source": [
    "# Абстрактные классы"
   ]
  },
  {
   "cell_type": "markdown",
   "id": "de9eacc4-9c1f-4edd-b29e-2fb17a5e2750",
   "metadata": {},
   "source": [
    "## Что читать\n",
    "\n",
    "* [Advanced python для сетевых инженеров](https://advpyneng.readthedocs.io/ru/latest/book/12_oop_inheritance/abc.html)\n"
   ]
  },
  {
   "cell_type": "markdown",
   "id": "4174a444-17f2-42bf-ac9b-9aad1615c114",
   "metadata": {},
   "source": [
    "Зачем?\n",
    "\n",
    "* При создании ряда классов нужно, чтобы классы поддерживали одинаковый интерфейс (в них гарантированно должны быть определенные методы)\n",
    "* При этом наследникам не всегда подходит реализация метода из родительского класса."
   ]
  },
  {
   "cell_type": "markdown",
   "id": "cec8bdde-760b-4e9d-8650-3242676adab2",
   "metadata": {},
   "source": [
    "## Термины\n",
    "\n",
    "* **Абстрактный метод** - метод без реализации, который написан с декоратором `@abstractmethod`.\n",
    "* **Абстрактный класс** - класс, в котором есть еще не переопределенные абстрактные методы.\n",
    "\n",
    "## Факты\n",
    "\n",
    "* Нельзя создать экземпляр абстрактного класса.\n",
    "    * Но в абстрактном классе может быть конструктор, который будет вызываться из дочерних классов через super.\n",
    "* Кроме абстрактных методов в классе могут быть другие методы.\n",
    "\n",
    "## Как пользоваться абстрактными классами\n",
    "\n",
    "* `import abc`\n",
    "* Создать абстрактный класс, наследник `abc.ABC`\n",
    "* Необходимые методы (которые нужно будет доопределить в наследниках) написать с декоратором `@abstractmethod`\n",
    "* Создать наследников этого абстрактного класса.\n",
    "* Доопределить абстрактные методы в наследниках."
   ]
  },
  {
   "cell_type": "code",
   "execution_count": 35,
   "id": "579f3312-da39-43d5-a7c1-385135db1966",
   "metadata": {},
   "outputs": [],
   "source": [
    "from abc import ABC, abstractmethod\n",
    "\n",
    "class Parent(ABC):\n",
    "    def __init__(self, x):\n",
    "        # может быть конструктор\n",
    "        self.x = x\n",
    "        \n",
    "    @abstractmethod\n",
    "    def foo(self, value):\n",
    "        pass\n",
    "\n",
    "class Child(Parent):\n",
    "    def __init__(self, x, y):\n",
    "        super().__init__(x)\n",
    "        self.y = y\n",
    "\n",
    "    def foo(self, value):\n",
    "        print(f'{self.x=} {self.y=} {value=}')"
   ]
  },
  {
   "cell_type": "code",
   "execution_count": 36,
   "id": "a5d761c9-3fff-4acd-92d9-ea3c5a7ed2f2",
   "metadata": {},
   "outputs": [
    {
     "name": "stdout",
     "output_type": "stream",
     "text": [
      "self.x=1 self.y=2 value=3\n"
     ]
    }
   ],
   "source": [
    "ch = Child(x=1, y=2)\n",
    "ch.foo(3)"
   ]
  },
  {
   "cell_type": "code",
   "execution_count": 37,
   "id": "202b5052-bc38-4530-844e-c09c14516a4d",
   "metadata": {},
   "outputs": [
    {
     "ename": "TypeError",
     "evalue": "Can't instantiate abstract class Parent with abstract method foo",
     "output_type": "error",
     "traceback": [
      "\u001b[1;31m---------------------------------------------------------------------------\u001b[0m",
      "\u001b[1;31mTypeError\u001b[0m                                 Traceback (most recent call last)",
      "Cell \u001b[1;32mIn[37], line 1\u001b[0m\n\u001b[1;32m----> 1\u001b[0m p \u001b[38;5;241m=\u001b[39m \u001b[43mParent\u001b[49m\u001b[43m(\u001b[49m\u001b[43mx\u001b[49m\u001b[38;5;241;43m=\u001b[39;49m\u001b[38;5;241;43m10\u001b[39;49m\u001b[43m)\u001b[49m\n",
      "\u001b[1;31mTypeError\u001b[0m: Can't instantiate abstract class Parent with abstract method foo"
     ]
    }
   ],
   "source": [
    "p = Parent(x=10)"
   ]
  },
  {
   "cell_type": "markdown",
   "id": "44a89b00-66fe-49fd-bc55-1e0bf4d6d2d0",
   "metadata": {},
   "source": [
    "При этом в абстрактном классе могут быть определены НЕ абстрактные методы, которые будут использоваться или переопределяться в наследниках."
   ]
  },
  {
   "cell_type": "code",
   "execution_count": null,
   "id": "043e8615-3d9d-439c-87f8-0c2dd97b59ba",
   "metadata": {},
   "outputs": [],
   "source": [
    "from abc import ABC, abstractmethod\n",
    "\n",
    "class Parent(ABC):\n",
    "    def __init__(self, x):\n",
    "        # может быть конструктор\n",
    "        self.x = x\n",
    "        \n",
    "    @abstractmethod\n",
    "    def foo(self, value):\n",
    "        pass\n",
    "\n",
    "    def bzz(self):\n",
    "        print(f'Parent.bzz: {self.x=}')\n",
    "\n",
    "class Child(Parent):\n",
    "    def __init__(self, x, y):\n",
    "        super().__init__(x)\n",
    "        self.y = y\n",
    "\n",
    "    def foo(self, value):\n",
    "        print(f'{self.x=} {self.y=} {value=}')\n",
    "\n",
    "ch = Child(x=1, y=2)\n",
    "ch.foo(value=3)\n",
    "ch.bzz()"
   ]
  },
  {
   "cell_type": "markdown",
   "id": "585465c3-8768-43c6-a47d-f35413ce12b2",
   "metadata": {},
   "source": [
    "## Абстрактные классы в стандартных пакетах python"
   ]
  },
  {
   "cell_type": "markdown",
   "id": "027ee0d5-588e-44cb-9ba0-6a4c106bca20",
   "metadata": {},
   "source": [
    "Можно не писать свои абстрактные классы, а воспользоваться готовыми. Много абстрактных классов есть в [collections.abc](https://docs.python.org/3/library/collections.abc.html)\n",
    "\n",
    "| ABC | Наследует | Абстрактные методы | Mixin методы |\n",
    "|----|----|----|----|\n",
    "| Container |  | `__contains__` |  |\n",
    "| Hashable |  | `__hash__` |  |\n",
    "| Iterable |  | `__iter__` |  |\n",
    "| Iterator | Iterable | `__next__` | `__iter__` |\n",
    "| Reversible | Iterable | `__reversed__` |  |\n",
    "| Generator | Iterator | `send`, `throw` | `close`, `__iter__`, `__next__` |\n",
    "| Sized |  | `__len__` |  |\n",
    "| Callable |  | `__call__` |  |\n",
    "| Collection | Sized, Iterable, Container | `__contains__`, `__iter__`, `__len__` |  |\n",
    "| Sequence | Reversible, Collection | `__getitem__`, `__len__` | `__contains__`, `__iter__`, `__reversed__`, `index`, `count` |"
   ]
  },
  {
   "cell_type": "markdown",
   "id": "ea05caed-1af8-42c4-8096-d59745cee222",
   "metadata": {},
   "source": [
    "### Проверяем, поддерживает ли класс (объект) протокол"
   ]
  },
  {
   "cell_type": "code",
   "execution_count": null,
   "id": "2cc7d65f-c17f-43c4-9a7d-e3d634db8cd1",
   "metadata": {},
   "outputs": [],
   "source": [
    "from collections.abc import Iterable\n",
    "\n",
    "vlist = [1, 2, 3]\n",
    "vstr = 'Hello'\n",
    "vint = 45\n",
    "\n",
    "print(vlist, isinstance(vlist, Iterable))\n",
    "print(vstr, isinstance(vstr, Iterable))\n",
    "print(vint, isinstance(vint, Iterable))"
   ]
  },
  {
   "cell_type": "markdown",
   "id": "5e7febd4-3153-4122-871b-a2b174cd7880",
   "metadata": {},
   "source": [
    "### Наследуемся от абстрактных классов коллекций (часть методов реализуем, часть уже есть)"
   ]
  },
  {
   "cell_type": "code",
   "execution_count": null,
   "id": "ed2b7be5-e01b-4883-98ca-8bc747599950",
   "metadata": {},
   "outputs": [],
   "source": [
    "from collections.abc import Sequence\n",
    "from dataclasses import dataclass\n",
    "\n",
    "@dataclass\n",
    "class Card:\n",
    "    number: int\n",
    "    def __repr__(self):\n",
    "        return str(self.number)\n",
    "    def __eq__(self, other):\n",
    "        return self.number == other.number        \n",
    "\n",
    "class CardSequence(Sequence):\n",
    "    def __init__(self, cards: Sequence | None = None):\n",
    "        self.cards = [] if cards is None else list(cards)   # копия\n",
    "\n",
    "    def __getitem__(self, index):\n",
    "        return self.cards[index]\n",
    "\n",
    "    def __len__(self):\n",
    "        return len(self.cards)\n",
    "\n",
    "# лучше сделать Hand наследником CardSequence\n",
    "hand = CardSequence((Card(7), Card(3), Card(9)))\n",
    "print(f'{hand.cards=}')\n",
    "print(f'{len(hand)=}')\n",
    "print(f'{hand[0]=}')    "
   ]
  },
  {
   "cell_type": "code",
   "execution_count": null,
   "id": "1eeab8d5-c45d-457f-900d-9c4c77bfa26f",
   "metadata": {},
   "outputs": [],
   "source": [
    "# реализованы методы:\n",
    "# __containts__\n",
    "\n",
    "Card(9) in hand"
   ]
  },
  {
   "cell_type": "code",
   "execution_count": null,
   "id": "4900dd87-7cdb-4ef0-91fe-e4c85b173761",
   "metadata": {},
   "outputs": [],
   "source": [
    "# __iter__\n",
    "it = iter(hand)\n",
    "print(next(it))"
   ]
  },
  {
   "cell_type": "code",
   "execution_count": null,
   "id": "46f86e86-688c-4122-a73f-3dd5294af0eb",
   "metadata": {},
   "outputs": [],
   "source": [
    "# __reversed__\n",
    "rhand = list(reversed(hand))\n",
    "print(rhand)"
   ]
  },
  {
   "cell_type": "code",
   "execution_count": null,
   "id": "ddabd10e-e1de-4573-a525-1263ddf82807",
   "metadata": {},
   "outputs": [],
   "source": [
    "# index\n",
    "hand.index(Card(9))"
   ]
  },
  {
   "cell_type": "code",
   "execution_count": null,
   "id": "4869f120-ce9a-40b0-b95e-2899c71fc857",
   "metadata": {},
   "outputs": [],
   "source": [
    "# count\n",
    "hand.count(Card(9))"
   ]
  },
  {
   "cell_type": "code",
   "execution_count": null,
   "id": "deac9582-7bfb-41d8-9fec-6fbea7aa8e8a",
   "metadata": {},
   "outputs": [],
   "source": []
  }
 ],
 "metadata": {
  "kernelspec": {
   "display_name": "Python 3 (ipykernel)",
   "language": "python",
   "name": "python3"
  },
  "language_info": {
   "codemirror_mode": {
    "name": "ipython",
    "version": 3
   },
   "file_extension": ".py",
   "mimetype": "text/x-python",
   "name": "python",
   "nbconvert_exporter": "python",
   "pygments_lexer": "ipython3",
   "version": "3.10.2"
  }
 },
 "nbformat": 4,
 "nbformat_minor": 5
}
