{
 "cells": [
  {
   "cell_type": "markdown",
   "id": "eeb83278-6d67-4fff-aa35-d0d055138260",
   "metadata": {},
   "source": [
    "# dataclass\n",
    "\n",
    "## Что читать\n",
    "\n",
    "* [https://docs.python.org/3/library/dataclasses.html](https://docs.python.org/3/library/dataclasses.html) - официальная документация\n",
    "* [https://realpython.com/python-data-classes/](https://realpython.com/python-data-classes/)\n",
    "\n",
    "## Зачем\n",
    "\n",
    "Ничего нового, более короткое написание старого кода."
   ]
  },
  {
   "cell_type": "code",
   "execution_count": 11,
   "id": "e21d5127-a1c0-47c6-a378-95e87a17fdf3",
   "metadata": {},
   "outputs": [
    {
     "name": "stdout",
     "output_type": "stream",
     "text": [
      "Book(title='Fahrenheit 451', author='Bradbury')\n"
     ]
    }
   ],
   "source": [
    "# подход через обычные классы\n",
    "class RegularBook:\n",
    "    def __init__(self, title, author):\n",
    "        self.title = title\n",
    "        self.author = author\n",
    "\n",
    "    def __repr__(self):\n",
    "        return f'{self.title=} {self.author}'\n",
    "\n",
    "    def my_method(self):\n",
    "        # какой-то метод с доступом к полям\n",
    "        return self.title + self.author\n",
    "        \n",
    "rb = Book(title=\"Fahrenheit 451\", author=\"Bradbury\")\n",
    "print(rb)"
   ]
  },
  {
   "cell_type": "markdown",
   "id": "ac183f7b-3647-4f96-b0d4-4d68284ad8d7",
   "metadata": {},
   "source": [
    "Через dataclass, значение типа обязательно, если не знаете - typing.Any"
   ]
  },
  {
   "cell_type": "code",
   "execution_count": 12,
   "id": "0297c472-df38-4218-ba9f-74a56a239a63",
   "metadata": {},
   "outputs": [],
   "source": [
    "from dataclasses import dataclass\n",
    "\n",
    "@dataclass\n",
    "class Book:\n",
    "    title: str\n",
    "    author: str\n",
    "\n",
    "    def my_method(self):\n",
    "        return self.title + self.author"
   ]
  },
  {
   "cell_type": "code",
   "execution_count": 2,
   "id": "081f72f3-743a-484f-9446-ca188b0727d6",
   "metadata": {},
   "outputs": [
    {
     "data": {
      "text/plain": [
       "'Bradbury'"
      ]
     },
     "execution_count": 2,
     "metadata": {},
     "output_type": "execute_result"
    }
   ],
   "source": [
    "b1 = Book(title=\"Fahrenheit 451\", author=\"Bradbury\")\n",
    "b1.author"
   ]
  },
  {
   "cell_type": "code",
   "execution_count": 3,
   "id": "6ead396a-45ee-4e77-afa7-80395bdbef17",
   "metadata": {},
   "outputs": [
    {
     "name": "stdout",
     "output_type": "stream",
     "text": [
      "Book(title='Fahrenheit 451', author='Bradbury')\n"
     ]
    }
   ],
   "source": [
    "print(b1)"
   ]
  },
  {
   "cell_type": "code",
   "execution_count": 4,
   "id": "2a392537-24f2-474a-a8e6-e375529053a6",
   "metadata": {},
   "outputs": [
    {
     "data": {
      "text/plain": [
       "True"
      ]
     },
     "execution_count": 4,
     "metadata": {},
     "output_type": "execute_result"
    }
   ],
   "source": [
    "b2 = Book(title=\"Fahrenheit 451\", author=\"Bradbury\")\n",
    "b1 == b2"
   ]
  },
  {
   "cell_type": "code",
   "execution_count": 5,
   "id": "04a4824f-aa79-4a27-8a67-9479398e1040",
   "metadata": {},
   "outputs": [
    {
     "data": {
      "text/plain": [
       "False"
      ]
     },
     "execution_count": 5,
     "metadata": {},
     "output_type": "execute_result"
    }
   ],
   "source": [
    "b3 = Book(title=\"Общая физика\", author=\"Сивухин\")\n",
    "b1 == b3"
   ]
  },
  {
   "cell_type": "markdown",
   "id": "f3b27d66-795a-42ff-a8cb-0f9d35734feb",
   "metadata": {},
   "source": [
    "Одинаково определение класса как"
   ]
  },
  {
   "cell_type": "code",
   "execution_count": 10,
   "id": "61fa5cef-d1c5-436d-9be7-519b5ccb85bc",
   "metadata": {},
   "outputs": [],
   "source": [
    "@dataclass\n",
    "class C:\n",
    "    ...\n",
    "\n",
    "@dataclass()\n",
    "class C:\n",
    "    ...\n",
    "\n",
    "@dataclass(init=True, repr=True, eq=True, order=False, unsafe_hash=False, frozen=False,\n",
    "           match_args=True, kw_only=False, slots=False) # weakref_slot=False - новое\n",
    "class C:\n",
    "    ..."
   ]
  },
  {
   "cell_type": "markdown",
   "id": "63ec68ad-bf4c-4faf-96d5-58d276ff1c0c",
   "metadata": {},
   "source": [
    "* `init`: если он равен True (по умолчанию), генерируется метод `__init__`. Если у класса уже определен метод `__init__`, параметр игнорируется.\n",
    "\r",
    "* `repr`: включает (по умолчанию) создание метода `__repr__`. Сгенерированная строка содержит имя класса и название и представление всех полей, определенных в классе. При этом можно исключить отдельные поля (см. ниже)\n",
    "\n",
    "* ``e`q: включает (по умолчанию) создание метоа ` __e`_`_. Объекты сравниваются так же, как если бы это были кортежи, содержащие соответствующие значения полей. Дополнительно проверяется совпадение типов\n",
    "* order`er включает (по умолчанию выключен) создание метд`о`в _l`_``_`, _l`_``_`, _g`t__` `и _g`e`__. Объекты сравниваются так же, как соответствующие кортежи из значений полей. При этом так же проверяется тип объектов. Если order задан, а eq — нет, будет сгенерировано исключн`и`е Valuer`r`or. Так же, класс не должен содержать уже определенных методов сравне `\n",
    "* `.\r\n",
    "unsae_`h`ash влияет на генерацию ет`о`да _ha`s`h__. Поведение так же зависит от значений параетро`` `e`q fr`\n",
    "\n",
    "* `frozen` - неизменяемые объекты, `FrozenInstanceError` при попытке изменить значение атрибута.\n",
    "\n",
    "дописать: match_args=True, kw_only=False, slots=False) # weakref_slot=Falseozen"
   ]
  },
  {
   "cell_type": "markdown",
   "id": "997a004c-0fd7-4e8b-8513-0862b4f2f2e9",
   "metadata": {},
   "source": [
    "## Значения по умолчанию\n",
    "\n",
    "На их основе делается конструктор, поэтому поля без значений по умолчанию должны идти сначала."
   ]
  },
  {
   "cell_type": "code",
   "execution_count": 16,
   "id": "575d089a-791f-4af4-9ce0-9bf01ec9dfac",
   "metadata": {},
   "outputs": [],
   "source": [
    "from dataclasses import dataclass, field\n",
    "from typing import ClassVar\n",
    "\n",
    "@dataclass\n",
    "class TCase:\n",
    "    # эта часть из xlsx TestIt\n",
    "    id: int\n",
    "    name: str\n",
    "    automated: bool = False\n",
    "    preconditions: str | None = None\n",
    "    steps: list = field(default_factory=list)  # []  \n",
    "    postconditions: str | None = None\n",
    "    testdata: str = ''\n",
    "    comments: str = ''\n",
    "    iterations: str = ''\n",
    "    priority: str = 'normal'\n",
    "    severity: str = 'medium'\n",
    "    state: str = 'draft'\n",
    "    tags: list | None = None\n",
    "    __id: ClassVar[int] = 20       # переменная класса, нужна, чтобы была сквозная нумерация тесткейсов\n"
   ]
  },
  {
   "cell_type": "markdown",
   "id": "0d943535-189f-47a4-9d45-9b301f6c374b",
   "metadata": {},
   "source": [
    "## Мутабельные значения по умолчанию\n",
    "\n",
    "`steps: list = []` - ошибка, пишем через dataclasses.field\n",
    "\n",
    "`steps: list = field(default_factory=list)`"
   ]
  },
  {
   "cell_type": "markdown",
   "id": "4f548e6c-3138-4c84-8159-3d6807363821",
   "metadata": {},
   "source": [
    "## Атрибуты класса\n",
    "\n",
    "`    __id: ClassVar[int] = 20`       - переменная класса"
   ]
  },
  {
   "cell_type": "markdown",
   "id": "f0697cda-4107-42ea-bd0d-0b8ac8db45f8",
   "metadata": {},
   "source": []
  },
  {
   "cell_type": "code",
   "execution_count": 19,
   "id": "b006d45d-d668-4f48-a749-cee17b32983a",
   "metadata": {},
   "outputs": [],
   "source": [
    "# asdict, astuple\n",
    "from dataclasses import dataclass, asdict, astuple\n",
    "\n",
    "@dataclass\n",
    "class Point:\n",
    "     x: int\n",
    "     y: int\n",
    "\n",
    "@dataclass\n",
    "class C:\n",
    "     mylist: list[Point]\n",
    "\n",
    "p = Point(10, 20)\n",
    "assert asdict(p) == {'x': 10, 'y': 20}\n",
    "\n",
    "c = C([Point(0, 0), Point(10, 4)])\n",
    "assert asdict(c) == {'mylist': [{'x': 0, 'y': 0}, {'x': 10, 'y': 4}]}\n",
    "\n",
    "assert astuple(p) == (10, 20)\n",
    "assert astuple(c) == ([(0, 0), (10, 4)],)"
   ]
  },
  {
   "cell_type": "markdown",
   "id": "b511e5dc-dbbc-4022-b1a1-92eafa7a2754",
   "metadata": {},
   "source": [
    "## Инициализация зависящих полей `__post_init__`"
   ]
  },
  {
   "cell_type": "code",
   "execution_count": 23,
   "id": "555834e9-e3f1-4f47-bad1-030fb114f90f",
   "metadata": {},
   "outputs": [
    {
     "name": "stdout",
     "output_type": "stream",
     "text": [
      "C(a=2.3, b=3.5, c=5.8)\n"
     ]
    }
   ],
   "source": [
    "from dataclasses import dataclass\n",
    "\n",
    "@dataclass\n",
    "class C:\n",
    "    a: float\n",
    "    b: float\n",
    "    c: float = field(init=False)\n",
    "\n",
    "    def __post_init__(self):\n",
    "        self.c = self.a + self.b\n",
    "\n",
    "t = C(a=2.3, b=3.5)\n",
    "print(t)"
   ]
  },
  {
   "cell_type": "code",
   "execution_count": 26,
   "id": "6aeafd1d-4044-4ba2-bf33-2a6882685f73",
   "metadata": {},
   "outputs": [
    {
     "name": "stdout",
     "output_type": "stream",
     "text": [
      "Square(side=2.5)\n"
     ]
    }
   ],
   "source": [
    "class Rectangle:\n",
    "    def __init__(self, height, width):\n",
    "      self.height = height\n",
    "      self.width = width\n",
    "\n",
    "@dataclass\n",
    "class Square(Rectangle):\n",
    "    side: float\n",
    "\n",
    "    def __post_init__(self):\n",
    "        super().__init__(self.side, self.side)\n",
    "\n",
    "sq = Square(2.5)\n",
    "print(sq)"
   ]
  },
  {
   "cell_type": "markdown",
   "id": "9874d7f7-1f71-478d-9e15-637c24ef393f",
   "metadata": {},
   "source": [
    "## Наследование в dataclass"
   ]
  },
  {
   "cell_type": "code",
   "execution_count": 12,
   "id": "1142eba2-63c8-409c-b675-01728418fea0",
   "metadata": {},
   "outputs": [
    {
     "name": "stdout",
     "output_type": "stream",
     "text": [
      "B(_type='text', x=7, text='my text', y=3, answer='')\n",
      "y = 3\n",
      "myabs: self._type='text' self.x=7 self.y=3\n"
     ]
    }
   ],
   "source": [
    "from dataclasses import dataclass\n",
    "from abc import ABC, abstractclassmethod\n",
    "\n",
    "@dataclass\n",
    "class A(ABC):\n",
    "    _type: str | None = None\n",
    "    x: int = 1\n",
    "    text: str = ''\n",
    "\n",
    "    def foo(self):\n",
    "        print(f'y = {self.y}')   # это поле наследника\n",
    "\n",
    "    @abstractclassmethod\n",
    "    def myabs(self):\n",
    "        pass\n",
    "\n",
    "\n",
    "@dataclass\n",
    "class B(A):\n",
    "    y: int = 2\n",
    "    answer: str = ''\n",
    "\n",
    "    def __post_init__(self):\n",
    "        self._type = 'text'\n",
    "\n",
    "    def myabs(self):\n",
    "        print(f'myabs: {self._type=} {self.x=} {self.y=}')\n",
    "\n",
    "one = B(y=3, text='my text', x=7)\n",
    "print(one)\n",
    "one.foo()\n",
    "one.myabs()"
   ]
  },
  {
   "cell_type": "markdown",
   "id": "b791393c-0765-4eff-b115-362680f03d50",
   "metadata": {},
   "source": [
    "## Ответ на вопрос \"Почему mutable объекты не надо ставить в значения по умолчанию\""
   ]
  },
  {
   "cell_type": "code",
   "execution_count": 36,
   "id": "08d1cb76-5bfc-42a9-abdb-56903aaf2039",
   "metadata": {},
   "outputs": [
    {
     "name": "stdout",
     "output_type": "stream",
     "text": [
      "['qqq', 'bbb', 'cc']\n",
      "['cc']\n",
      "['cc', 'zzzz']\n"
     ]
    }
   ],
   "source": [
    "class A:\n",
    "    def __init__(self, steps=[], first='one'):\n",
    "        self.steps = steps  # steps if steps else []\n",
    "        self.steps.append(first)\n",
    "        \n",
    "    def __repr__(self):\n",
    "        return repr(self.steps)\n",
    "\n",
    "a = A(['qqq', 'bbb'], 'cc')\n",
    "print(a)\n",
    "b = A(first='cc')\n",
    "print(b)\n",
    "b2 = A(first='zzzz')\n",
    "print(b2)"
   ]
  },
  {
   "cell_type": "code",
   "execution_count": null,
   "id": "8f098eec-14d1-4bc2-9778-81f2c56578da",
   "metadata": {},
   "outputs": [],
   "source": []
  }
 ],
 "metadata": {
  "kernelspec": {
   "display_name": "Python 3 (ipykernel)",
   "language": "python",
   "name": "python3"
  },
  "language_info": {
   "codemirror_mode": {
    "name": "ipython",
    "version": 3
   },
   "file_extension": ".py",
   "mimetype": "text/x-python",
   "name": "python",
   "nbconvert_exporter": "python",
   "pygments_lexer": "ipython3",
   "version": "3.10.2"
  }
 },
 "nbformat": 4,
 "nbformat_minor": 5
}
