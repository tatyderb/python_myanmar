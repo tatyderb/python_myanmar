{
 "cells": [
  {
   "cell_type": "markdown",
   "id": "eeb83278-6d67-4fff-aa35-d0d055138260",
   "metadata": {},
   "source": [
    "# dataclass\n",
    "\n",
    "## Что читать\n",
    "\n",
    "* [https://docs.python.org/3/library/dataclasses.html](https://docs.python.org/3/library/dataclasses.html) - официальная документация\n",
    "* [https://realpython.com/python-data-classes/](https://realpython.com/python-data-classes/)\n",
    "\n",
    "## Зачем\n",
    "\n",
    "Ничего нового, более короткое написание старого кода."
   ]
  },
  {
   "cell_type": "code",
   "execution_count": 1,
   "id": "e21d5127-a1c0-47c6-a378-95e87a17fdf3",
   "metadata": {},
   "outputs": [
    {
     "name": "stdout",
     "output_type": "stream",
     "text": [
      "RegularBook(self.title='Fahrenheit 451', Bradbury)\n"
     ]
    }
   ],
   "source": [
    "# подход через обычные классы\n",
    "class RegularBook:\n",
    "    def __init__(self, title, author):\n",
    "        self.title = title\n",
    "        self.author = author\n",
    "\n",
    "    def __repr__(self):\n",
    "        return f'{self.__class__.__name__}({self.title=}, {self.author})'\n",
    "\n",
    "    def my_method(self):\n",
    "        # какой-то метод с доступом к полям\n",
    "        return self.title + self.author\n",
    "        \n",
    "rb = RegularBook(title=\"Fahrenheit 451\", author=\"Bradbury\")\n",
    "print(rb)"
   ]
  },
  {
   "cell_type": "markdown",
   "id": "ac183f7b-3647-4f96-b0d4-4d68284ad8d7",
   "metadata": {},
   "source": [
    "Через dataclass, значение типа обязательно, если не знаете - typing.Any"
   ]
  },
  {
   "cell_type": "code",
   "execution_count": 2,
   "id": "0297c472-df38-4218-ba9f-74a56a239a63",
   "metadata": {},
   "outputs": [],
   "source": [
    "from dataclasses import dataclass\n",
    "\n",
    "@dataclass\n",
    "class Book:\n",
    "    title: str\n",
    "    author: str\n",
    "\n",
    "    def my_method(self):\n",
    "        return self.title + self.author"
   ]
  },
  {
   "cell_type": "code",
   "execution_count": 4,
   "id": "081f72f3-743a-484f-9446-ca188b0727d6",
   "metadata": {},
   "outputs": [
    {
     "data": {
      "text/plain": [
       "'Bradbury'"
      ]
     },
     "execution_count": 4,
     "metadata": {},
     "output_type": "execute_result"
    }
   ],
   "source": [
    "b1 = Book(title=\"Fahrenheit 451\", author=\"Bradbury\")\n",
    "b1.author"
   ]
  },
  {
   "cell_type": "code",
   "execution_count": 5,
   "id": "6ead396a-45ee-4e77-afa7-80395bdbef17",
   "metadata": {},
   "outputs": [
    {
     "name": "stdout",
     "output_type": "stream",
     "text": [
      "Book(title='Fahrenheit 451', author='Bradbury')\n"
     ]
    }
   ],
   "source": [
    "print(b1)"
   ]
  },
  {
   "cell_type": "code",
   "execution_count": 6,
   "id": "2a392537-24f2-474a-a8e6-e375529053a6",
   "metadata": {},
   "outputs": [
    {
     "data": {
      "text/plain": [
       "True"
      ]
     },
     "execution_count": 6,
     "metadata": {},
     "output_type": "execute_result"
    }
   ],
   "source": [
    "b2 = Book(title=\"Fahrenheit 451\", author=\"Bradbury\")\n",
    "b1 == b2"
   ]
  },
  {
   "cell_type": "code",
   "execution_count": 7,
   "id": "04a4824f-aa79-4a27-8a67-9479398e1040",
   "metadata": {},
   "outputs": [
    {
     "data": {
      "text/plain": [
       "False"
      ]
     },
     "execution_count": 7,
     "metadata": {},
     "output_type": "execute_result"
    }
   ],
   "source": [
    "b3 = Book(title=\"Общая физика\", author=\"Сивухин\")\n",
    "b1 == b3"
   ]
  },
  {
   "cell_type": "markdown",
   "id": "f3b27d66-795a-42ff-a8cb-0f9d35734feb",
   "metadata": {},
   "source": [
    "Одинаково определение класса как"
   ]
  },
  {
   "cell_type": "code",
   "execution_count": 10,
   "id": "61fa5cef-d1c5-436d-9be7-519b5ccb85bc",
   "metadata": {},
   "outputs": [],
   "source": [
    "@dataclass\n",
    "class C:\n",
    "    ...\n",
    "\n",
    "@dataclass()\n",
    "class C:\n",
    "    ...\n",
    "\n",
    "@dataclass(init=True, repr=True, eq=True, order=False, unsafe_hash=False, frozen=False,\n",
    "           match_args=True, kw_only=False, slots=False) # weakref_slot=False - новое\n",
    "class C:\n",
    "    ..."
   ]
  },
  {
   "cell_type": "markdown",
   "id": "63ec68ad-bf4c-4faf-96d5-58d276ff1c0c",
   "metadata": {},
   "source": [
    "* `init`: если он равен True (по умолчанию), генерируется метод `__init__`. Если у класса уже определен метод `__init__`, параметр игнорируется.\n",
    "\r",
    "* `repr`: включает (по умолчанию) создание метода `__repr__`. Сгенерированная строка содержит имя класса и название и представление всех полей, определенных в классе. При этом можно исключить отдельные поля (см. ниже)\n",
    "\n",
    "* ``e`q: включает (по умолчанию) создание метоа ` __e`_`_. Объекты сравниваются так же, как если бы это были кортежи, содержащие соответствующие значения полей. Дополнительно проверяется совпадение типов\n",
    "* order`er включает (по умолчанию выключен) создание метд`о`в _l`_``_`, _l`_``_`, _g`t__` `и _g`e`__. Объекты сравниваются так же, как соответствующие кортежи из значений полей. При этом так же проверяется тип объектов. Если order задан, а eq — нет, будет сгенерировано исключн`и`е Valuer`r`or. Так же, класс не должен содержать уже определенных методов сравне `\n",
    "* `.\r\n",
    "unsae_`h`ash влияет на генерацию ет`о`да _ha`s`h__. Поведение так же зависит от значений параетро`` `e`q fr`\n",
    "\n",
    "* `frozen` - неизменяемые объекты, `FrozenInstanceError` при попытке изменить значение атрибута.\n",
    "\n",
    "дописать: match_args=True, kw_only=False, slots=False) # weakref_slot=Falseozen"
   ]
  },
  {
   "cell_type": "markdown",
   "id": "997a004c-0fd7-4e8b-8513-0862b4f2f2e9",
   "metadata": {},
   "source": [
    "## Значения по умолчанию\n",
    "\n",
    "На их основе делается конструктор, поэтому поля без значений по умолчанию должны идти сначала."
   ]
  },
  {
   "cell_type": "code",
   "execution_count": 16,
   "id": "575d089a-791f-4af4-9ce0-9bf01ec9dfac",
   "metadata": {},
   "outputs": [],
   "source": [
    "from dataclasses import dataclass, field\n",
    "from typing import ClassVar\n",
    "\n",
    "@dataclass\n",
    "class TCase:\n",
    "    # эта часть из xlsx TestIt\n",
    "    id: int\n",
    "    name: str\n",
    "    automated: bool = False\n",
    "    preconditions: str | None = None\n",
    "    steps: list = field(default_factory=list)  # []  list()\n",
    "    postconditions: str | None = None\n",
    "    testdata: str = ''\n",
    "    comments: str = ''\n",
    "    iterations: str = ''\n",
    "    priority: str = 'normal'\n",
    "    severity: str = 'medium'\n",
    "    state: str = 'draft'\n",
    "    tags: list | None = None\n",
    "    __id: ClassVar[int] = 20       # переменная класса, нужна, чтобы была сквозная нумерация тесткейсов\n"
   ]
  },
  {
   "cell_type": "markdown",
   "id": "0d943535-189f-47a4-9d45-9b301f6c374b",
   "metadata": {},
   "source": [
    "## Мутабельные значения по умолчанию\n",
    "\n",
    "`steps: list = []` - ошибка, пишем через dataclasses.field\n",
    "\n",
    "`steps: list = field(default_factory=list)`"
   ]
  },
  {
   "cell_type": "markdown",
   "id": "4f548e6c-3138-4c84-8159-3d6807363821",
   "metadata": {},
   "source": [
    "## Атрибуты класса\n",
    "\n",
    "`    __id: ClassVar[int] = 20`       - переменная класса"
   ]
  },
  {
   "cell_type": "markdown",
   "id": "f0697cda-4107-42ea-bd0d-0b8ac8db45f8",
   "metadata": {},
   "source": [
    "## Методы asdict и astuple"
   ]
  },
  {
   "cell_type": "code",
   "execution_count": 1,
   "id": "b006d45d-d668-4f48-a749-cee17b32983a",
   "metadata": {},
   "outputs": [],
   "source": [
    "# asdict, astuple\n",
    "from dataclasses import dataclass, asdict, astuple\n",
    "\n",
    "@dataclass\n",
    "class Point:\n",
    "     x: int\n",
    "     y: int\n",
    "\n",
    "@dataclass\n",
    "class C:\n",
    "     mylist: list[Point]\n",
    "\n",
    "p = Point(10, 20)\n",
    "assert asdict(p) == {'x': 10, 'y': 20}\n",
    "\n",
    "c = C([Point(0, 0), Point(10, 4)])\n",
    "assert asdict(c) == {'mylist': [{'x': 0, 'y': 0}, {'x': 10, 'y': 4}]}\n",
    "\n",
    "assert astuple(p) == (10, 20)\n",
    "assert astuple(c) == ([(0, 0), (10, 4)],)"
   ]
  },
  {
   "cell_type": "markdown",
   "id": "b511e5dc-dbbc-4022-b1a1-92eafa7a2754",
   "metadata": {},
   "source": [
    "## Инициализация зависящих полей `__post_init__`"
   ]
  },
  {
   "cell_type": "code",
   "execution_count": 2,
   "id": "555834e9-e3f1-4f47-bad1-030fb114f90f",
   "metadata": {},
   "outputs": [
    {
     "name": "stdout",
     "output_type": "stream",
     "text": [
      "C(a=2.3, b=3.5, c=5.8)\n"
     ]
    }
   ],
   "source": [
    "from dataclasses import dataclass, field\n",
    "\n",
    "@dataclass\n",
    "class C:\n",
    "    a: float\n",
    "    b: float\n",
    "    c: float = field(init=False)\n",
    "\n",
    "    def __post_init__(self):\n",
    "        self.c = self.a + self.b\n",
    "\n",
    "t = C(a=2.3, b=3.5)\n",
    "print(t)"
   ]
  },
  {
   "cell_type": "code",
   "execution_count": 6,
   "id": "6aeafd1d-4044-4ba2-bf33-2a6882685f73",
   "metadata": {},
   "outputs": [
    {
     "name": "stdout",
     "output_type": "stream",
     "text": [
      "Square(side=2.5)\n",
      "sq.height=2.5 sq.width=2.5\n"
     ]
    }
   ],
   "source": [
    "class Rectangle:\n",
    "    def __init__(self, height, width):\n",
    "      self.height = height\n",
    "      self.width = width\n",
    "\n",
    "@dataclass\n",
    "class Square(Rectangle):\n",
    "    side: float\n",
    "\n",
    "    def __post_init__(self):\n",
    "        super().__init__(height=self.side, width=self.side)\n",
    "\n",
    "sq = Square(2.5)\n",
    "print(sq)\n",
    "print(f'{sq.height=} {sq.width=}') "
   ]
  },
  {
   "cell_type": "markdown",
   "id": "9874d7f7-1f71-478d-9e15-637c24ef393f",
   "metadata": {},
   "source": [
    "## Наследование в dataclass"
   ]
  },
  {
   "cell_type": "markdown",
   "id": "4c0b4802-fef4-46b6-83c2-7ddd628fc6a5",
   "metadata": {},
   "source": [
    "В наследовании поля идут по порядку. Сначала базового класса, потом производного класса."
   ]
  },
  {
   "cell_type": "code",
   "execution_count": 9,
   "id": "2b18401a-624a-4001-a561-c9a67baacc63",
   "metadata": {},
   "outputs": [
    {
     "name": "stdout",
     "output_type": "stream",
     "text": [
      "Square(height=1, width=2, side=3)\n",
      "sq.height=1 sq.width=2\n"
     ]
    }
   ],
   "source": [
    "@dataclass\n",
    "class Rectangle:\n",
    "      height: float\n",
    "      width: float\n",
    "\n",
    "@dataclass\n",
    "class Square(Rectangle):\n",
    "    side: float\n",
    "\n",
    "    def __post_init__(self):\n",
    "        #super().__init__(height=self.side, width=self.side)\n",
    "        pass\n",
    "\n",
    "sq = Square(1, 2, 3)\n",
    "print(sq)\n",
    "print(f'{sq.height=} {sq.width=}') "
   ]
  },
  {
   "cell_type": "markdown",
   "id": "81d052fa-715c-4612-a5f0-5a4f1452abdd",
   "metadata": {},
   "source": [
    "Что делать, если хотим указать только поля производного класса? \"Поставить остальные поля с аргументами по умолчанию\" - хорошее решение. Но есть подводные камни."
   ]
  },
  {
   "cell_type": "code",
   "execution_count": 13,
   "id": "7481d510-f5fb-4f62-b68a-21f7192b2695",
   "metadata": {},
   "outputs": [
    {
     "ename": "TypeError",
     "evalue": "non-default argument 'side' follows default argument",
     "output_type": "error",
     "traceback": [
      "\u001b[1;31m---------------------------------------------------------------------------\u001b[0m",
      "\u001b[1;31mTypeError\u001b[0m                                 Traceback (most recent call last)",
      "Cell \u001b[1;32mIn[13], line 8\u001b[0m\n\u001b[0;32m      4\u001b[0m       height: \u001b[38;5;28mfloat\u001b[39m \u001b[38;5;241m=\u001b[39m \u001b[38;5;241m0\u001b[39m\n\u001b[0;32m      5\u001b[0m       width: \u001b[38;5;28mfloat\u001b[39m \u001b[38;5;241m=\u001b[39m \u001b[38;5;241m0\u001b[39m\n\u001b[0;32m      7\u001b[0m \u001b[38;5;129;43m@dataclass\u001b[39;49m\n\u001b[1;32m----> 8\u001b[0m \u001b[38;5;28;43;01mclass\u001b[39;49;00m\u001b[43m \u001b[49m\u001b[38;5;21;43;01mSquare\u001b[39;49;00m\u001b[43m(\u001b[49m\u001b[43mRectangle\u001b[49m\u001b[43m)\u001b[49m\u001b[43m:\u001b[49m\n\u001b[0;32m      9\u001b[0m \u001b[43m    \u001b[49m\u001b[43mside\u001b[49m\u001b[43m:\u001b[49m\u001b[43m \u001b[49m\u001b[38;5;28;43mfloat\u001b[39;49m\n\u001b[0;32m     11\u001b[0m \u001b[43m    \u001b[49m\u001b[38;5;28;43;01mdef\u001b[39;49;00m\u001b[43m \u001b[49m\u001b[38;5;21;43m__post_init__\u001b[39;49m\u001b[43m(\u001b[49m\u001b[38;5;28;43mself\u001b[39;49m\u001b[43m)\u001b[49m\u001b[43m:\u001b[49m\n",
      "File \u001b[1;32m~\\AppData\\Local\\Programs\\Python\\Python310\\lib\\dataclasses.py:1185\u001b[0m, in \u001b[0;36mdataclass\u001b[1;34m(cls, init, repr, eq, order, unsafe_hash, frozen, match_args, kw_only, slots)\u001b[0m\n\u001b[0;32m   1182\u001b[0m     \u001b[38;5;28;01mreturn\u001b[39;00m wrap\n\u001b[0;32m   1184\u001b[0m \u001b[38;5;66;03m# We're called as @dataclass without parens.\u001b[39;00m\n\u001b[1;32m-> 1185\u001b[0m \u001b[38;5;28;01mreturn\u001b[39;00m \u001b[43mwrap\u001b[49m\u001b[43m(\u001b[49m\u001b[38;5;28;43mcls\u001b[39;49m\u001b[43m)\u001b[49m\n",
      "File \u001b[1;32m~\\AppData\\Local\\Programs\\Python\\Python310\\lib\\dataclasses.py:1176\u001b[0m, in \u001b[0;36mdataclass.<locals>.wrap\u001b[1;34m(cls)\u001b[0m\n\u001b[0;32m   1175\u001b[0m \u001b[38;5;28;01mdef\u001b[39;00m \u001b[38;5;21mwrap\u001b[39m(\u001b[38;5;28mcls\u001b[39m):\n\u001b[1;32m-> 1176\u001b[0m     \u001b[38;5;28;01mreturn\u001b[39;00m \u001b[43m_process_class\u001b[49m\u001b[43m(\u001b[49m\u001b[38;5;28;43mcls\u001b[39;49m\u001b[43m,\u001b[49m\u001b[43m \u001b[49m\u001b[43minit\u001b[49m\u001b[43m,\u001b[49m\u001b[43m \u001b[49m\u001b[38;5;28;43mrepr\u001b[39;49m\u001b[43m,\u001b[49m\u001b[43m \u001b[49m\u001b[43meq\u001b[49m\u001b[43m,\u001b[49m\u001b[43m \u001b[49m\u001b[43morder\u001b[49m\u001b[43m,\u001b[49m\u001b[43m \u001b[49m\u001b[43munsafe_hash\u001b[49m\u001b[43m,\u001b[49m\n\u001b[0;32m   1177\u001b[0m \u001b[43m                          \u001b[49m\u001b[43mfrozen\u001b[49m\u001b[43m,\u001b[49m\u001b[43m \u001b[49m\u001b[43mmatch_args\u001b[49m\u001b[43m,\u001b[49m\u001b[43m \u001b[49m\u001b[43mkw_only\u001b[49m\u001b[43m,\u001b[49m\u001b[43m \u001b[49m\u001b[43mslots\u001b[49m\u001b[43m)\u001b[49m\n",
      "File \u001b[1;32m~\\AppData\\Local\\Programs\\Python\\Python310\\lib\\dataclasses.py:1025\u001b[0m, in \u001b[0;36m_process_class\u001b[1;34m(cls, init, repr, eq, order, unsafe_hash, frozen, match_args, kw_only, slots)\u001b[0m\n\u001b[0;32m   1020\u001b[0m \u001b[38;5;28;01mif\u001b[39;00m init:\n\u001b[0;32m   1021\u001b[0m     \u001b[38;5;66;03m# Does this class have a post-init function?\u001b[39;00m\n\u001b[0;32m   1022\u001b[0m     has_post_init \u001b[38;5;241m=\u001b[39m \u001b[38;5;28mhasattr\u001b[39m(\u001b[38;5;28mcls\u001b[39m, _POST_INIT_NAME)\n\u001b[0;32m   1024\u001b[0m     _set_new_attribute(\u001b[38;5;28mcls\u001b[39m, \u001b[38;5;124m'\u001b[39m\u001b[38;5;124m__init__\u001b[39m\u001b[38;5;124m'\u001b[39m,\n\u001b[1;32m-> 1025\u001b[0m                        \u001b[43m_init_fn\u001b[49m\u001b[43m(\u001b[49m\u001b[43mall_init_fields\u001b[49m\u001b[43m,\u001b[49m\n\u001b[0;32m   1026\u001b[0m \u001b[43m                                \u001b[49m\u001b[43mstd_init_fields\u001b[49m\u001b[43m,\u001b[49m\n\u001b[0;32m   1027\u001b[0m \u001b[43m                                \u001b[49m\u001b[43mkw_only_init_fields\u001b[49m\u001b[43m,\u001b[49m\n\u001b[0;32m   1028\u001b[0m \u001b[43m                                \u001b[49m\u001b[43mfrozen\u001b[49m\u001b[43m,\u001b[49m\n\u001b[0;32m   1029\u001b[0m \u001b[43m                                \u001b[49m\u001b[43mhas_post_init\u001b[49m\u001b[43m,\u001b[49m\n\u001b[0;32m   1030\u001b[0m \u001b[43m                                \u001b[49m\u001b[38;5;66;43;03m# The name to use for the \"self\"\u001b[39;49;00m\n\u001b[0;32m   1031\u001b[0m \u001b[43m                                \u001b[49m\u001b[38;5;66;43;03m# param in __init__.  Use \"self\"\u001b[39;49;00m\n\u001b[0;32m   1032\u001b[0m \u001b[43m                                \u001b[49m\u001b[38;5;66;43;03m# if possible.\u001b[39;49;00m\n\u001b[0;32m   1033\u001b[0m \u001b[43m                                \u001b[49m\u001b[38;5;124;43m'\u001b[39;49m\u001b[38;5;124;43m__dataclass_self__\u001b[39;49m\u001b[38;5;124;43m'\u001b[39;49m\u001b[43m \u001b[49m\u001b[38;5;28;43;01mif\u001b[39;49;00m\u001b[43m \u001b[49m\u001b[38;5;124;43m'\u001b[39;49m\u001b[38;5;124;43mself\u001b[39;49m\u001b[38;5;124;43m'\u001b[39;49m\u001b[43m \u001b[49m\u001b[38;5;129;43;01min\u001b[39;49;00m\u001b[43m \u001b[49m\u001b[43mfields\u001b[49m\n\u001b[0;32m   1034\u001b[0m \u001b[43m                                        \u001b[49m\u001b[38;5;28;43;01melse\u001b[39;49;00m\u001b[43m \u001b[49m\u001b[38;5;124;43m'\u001b[39;49m\u001b[38;5;124;43mself\u001b[39;49m\u001b[38;5;124;43m'\u001b[39;49m\u001b[43m,\u001b[49m\n\u001b[0;32m   1035\u001b[0m \u001b[43m                                \u001b[49m\u001b[38;5;28;43mglobals\u001b[39;49m\u001b[43m,\u001b[49m\n\u001b[0;32m   1036\u001b[0m \u001b[43m                                \u001b[49m\u001b[43mslots\u001b[49m\u001b[43m,\u001b[49m\n\u001b[0;32m   1037\u001b[0m \u001b[43m                      \u001b[49m\u001b[43m)\u001b[49m)\n\u001b[0;32m   1039\u001b[0m \u001b[38;5;66;03m# Get the fields as a list, and include only real fields.  This is\u001b[39;00m\n\u001b[0;32m   1040\u001b[0m \u001b[38;5;66;03m# used in all of the following methods.\u001b[39;00m\n\u001b[0;32m   1041\u001b[0m field_list \u001b[38;5;241m=\u001b[39m [f \u001b[38;5;28;01mfor\u001b[39;00m f \u001b[38;5;129;01min\u001b[39;00m fields\u001b[38;5;241m.\u001b[39mvalues() \u001b[38;5;28;01mif\u001b[39;00m f\u001b[38;5;241m.\u001b[39m_field_type \u001b[38;5;129;01mis\u001b[39;00m _FIELD]\n",
      "File \u001b[1;32m~\\AppData\\Local\\Programs\\Python\\Python310\\lib\\dataclasses.py:546\u001b[0m, in \u001b[0;36m_init_fn\u001b[1;34m(fields, std_fields, kw_only_fields, frozen, has_post_init, self_name, globals, slots)\u001b[0m\n\u001b[0;32m    544\u001b[0m             seen_default \u001b[38;5;241m=\u001b[39m \u001b[38;5;28;01mTrue\u001b[39;00m\n\u001b[0;32m    545\u001b[0m         \u001b[38;5;28;01melif\u001b[39;00m seen_default:\n\u001b[1;32m--> 546\u001b[0m             \u001b[38;5;28;01mraise\u001b[39;00m \u001b[38;5;167;01mTypeError\u001b[39;00m(\u001b[38;5;124mf\u001b[39m\u001b[38;5;124m'\u001b[39m\u001b[38;5;124mnon-default argument \u001b[39m\u001b[38;5;132;01m{\u001b[39;00mf\u001b[38;5;241m.\u001b[39mname\u001b[38;5;132;01m!r}\u001b[39;00m\u001b[38;5;124m \u001b[39m\u001b[38;5;124m'\u001b[39m\n\u001b[0;32m    547\u001b[0m                             \u001b[38;5;124m'\u001b[39m\u001b[38;5;124mfollows default argument\u001b[39m\u001b[38;5;124m'\u001b[39m)\n\u001b[0;32m    549\u001b[0m \u001b[38;5;28mlocals\u001b[39m \u001b[38;5;241m=\u001b[39m {\u001b[38;5;124mf\u001b[39m\u001b[38;5;124m'\u001b[39m\u001b[38;5;124m_type_\u001b[39m\u001b[38;5;132;01m{\u001b[39;00mf\u001b[38;5;241m.\u001b[39mname\u001b[38;5;132;01m}\u001b[39;00m\u001b[38;5;124m'\u001b[39m: f\u001b[38;5;241m.\u001b[39mtype \u001b[38;5;28;01mfor\u001b[39;00m f \u001b[38;5;129;01min\u001b[39;00m fields}\n\u001b[0;32m    550\u001b[0m \u001b[38;5;28mlocals\u001b[39m\u001b[38;5;241m.\u001b[39mupdate({\n\u001b[0;32m    551\u001b[0m     \u001b[38;5;124m'\u001b[39m\u001b[38;5;124mMISSING\u001b[39m\u001b[38;5;124m'\u001b[39m: MISSING,\n\u001b[0;32m    552\u001b[0m     \u001b[38;5;124m'\u001b[39m\u001b[38;5;124m_HAS_DEFAULT_FACTORY\u001b[39m\u001b[38;5;124m'\u001b[39m: _HAS_DEFAULT_FACTORY,\n\u001b[0;32m    553\u001b[0m })\n",
      "\u001b[1;31mTypeError\u001b[0m: non-default argument 'side' follows default argument"
     ]
    }
   ],
   "source": [
    "# ошибка, значения по умолчанию оказались в начале\n",
    "@dataclass\n",
    "class Rectangle:\n",
    "      height: float = 0\n",
    "      width: float = 0\n",
    "\n",
    "@dataclass\n",
    "class Square(Rectangle):\n",
    "    side: float\n",
    "\n",
    "    def __post_init__(self):\n",
    "        super().__init__(height=self.side, width=self.side)\n",
    "\n",
    "sq = Square(side=2.5)\n",
    "print(sq)\n",
    "print(f'{sq.height=} {sq.width=}') "
   ]
  },
  {
   "cell_type": "markdown",
   "id": "fbd2e982-7b38-4d50-89f4-1fc84620ea23",
   "metadata": {},
   "source": [
    "Ставим все поля и в родительском классе, и в дочернем классе со значениями по умолчанию и вызываем конструктор с указанием конкретного поля side:"
   ]
  },
  {
   "cell_type": "code",
   "execution_count": 11,
   "id": "d42986d4-8c59-4cde-bc6c-bde3dcf23a46",
   "metadata": {},
   "outputs": [
    {
     "name": "stdout",
     "output_type": "stream",
     "text": [
      "Square(height=2.5, width=2.5, side=2.5)\n",
      "sq.height=2.5 sq.width=2.5\n"
     ]
    }
   ],
   "source": [
    "@dataclass\n",
    "class Rectangle:\n",
    "      height: float = 0\n",
    "      width: float = 0\n",
    "\n",
    "@dataclass\n",
    "class Square(Rectangle):\n",
    "    side: float = 0\n",
    "\n",
    "    def __post_init__(self):\n",
    "        super().__init__(height=self.side, width=self.side)\n",
    "\n",
    "sq = Square(side=2.5)\n",
    "print(sq)\n",
    "print(f'{sq.height=} {sq.width=}') "
   ]
  },
  {
   "cell_type": "markdown",
   "id": "55687617-18c6-4afa-b840-4182418a208f",
   "metadata": {},
   "source": [
    "### Абстрактные классы и их наследование"
   ]
  },
  {
   "cell_type": "code",
   "execution_count": 12,
   "id": "1142eba2-63c8-409c-b675-01728418fea0",
   "metadata": {},
   "outputs": [
    {
     "name": "stdout",
     "output_type": "stream",
     "text": [
      "B(_type='text', x=7, text='my text', y=3, answer='')\n",
      "y = 3\n",
      "myabs: self._type='text' self.x=7 self.y=3\n"
     ]
    }
   ],
   "source": [
    "from dataclasses import dataclass\n",
    "from abc import ABC, abstractclassmethod\n",
    "\n",
    "@dataclass\n",
    "class A(ABC):\n",
    "    _type: str | None = None\n",
    "    x: int = 1\n",
    "    text: str = ''\n",
    "\n",
    "    def foo(self):\n",
    "        print(f'y = {self.y}')   # это поле наследника\n",
    "\n",
    "    @abstractclassmethod\n",
    "    def myabs(self):\n",
    "        pass\n",
    "\n",
    "\n",
    "@dataclass\n",
    "class B(A):\n",
    "    y: int = 2\n",
    "    answer: str = ''\n",
    "\n",
    "    def __post_init__(self):\n",
    "        self._type = 'text'\n",
    "\n",
    "    def myabs(self):\n",
    "        print(f'myabs: {self._type=} {self.x=} {self.y=}')\n",
    "\n",
    "one = B(y=3, text='my text', x=7)\n",
    "print(one)\n",
    "one.foo()\n",
    "one.myabs()"
   ]
  },
  {
   "cell_type": "markdown",
   "id": "b791393c-0765-4eff-b115-362680f03d50",
   "metadata": {},
   "source": [
    "## Ответ на вопрос \"Почему mutable объекты не надо ставить в значения по умолчанию\""
   ]
  },
  {
   "cell_type": "code",
   "execution_count": 36,
   "id": "08d1cb76-5bfc-42a9-abdb-56903aaf2039",
   "metadata": {},
   "outputs": [
    {
     "name": "stdout",
     "output_type": "stream",
     "text": [
      "['qqq', 'bbb', 'cc']\n",
      "['cc']\n",
      "['cc', 'zzzz']\n"
     ]
    }
   ],
   "source": [
    "class A:\n",
    "    def __init__(self, steps=[], first='one'):\n",
    "        self.steps = steps  # steps if steps else []\n",
    "        self.steps.append(first)\n",
    "        \n",
    "    def __repr__(self):\n",
    "        return repr(self.steps)\n",
    "\n",
    "a = A(['qqq', 'bbb'], 'cc')\n",
    "print(a)\n",
    "b = A(first='cc')\n",
    "print(b)\n",
    "b2 = A(first='zzzz')\n",
    "print(b2)"
   ]
  },
  {
   "cell_type": "code",
   "execution_count": 18,
   "id": "8f098eec-14d1-4bc2-9778-81f2c56578da",
   "metadata": {},
   "outputs": [],
   "source": [
    "def foo(a: list | None = None, x = 1):\n",
    "    # if a is None:\n",
    "    #    a = []\n",
    "    a = a or []\n",
    "    a.append(x)\n",
    "    print(a)\n",
    "    return a"
   ]
  },
  {
   "cell_type": "code",
   "execution_count": 19,
   "id": "5f9547c8-7ebb-40a5-bfc9-f75dfd76e7e3",
   "metadata": {},
   "outputs": [
    {
     "name": "stdout",
     "output_type": "stream",
     "text": [
      "[1, 2, 3]\n",
      "[1, 2, 3]\n"
     ]
    }
   ],
   "source": [
    "a1 = [1, 2]\n",
    "foo(a1, 3)\n",
    "print(a1)"
   ]
  },
  {
   "cell_type": "code",
   "execution_count": 20,
   "id": "93b6fb08-c19d-4c69-818f-5f4a0531d04c",
   "metadata": {},
   "outputs": [
    {
     "name": "stdout",
     "output_type": "stream",
     "text": [
      "[7]\n"
     ]
    },
    {
     "data": {
      "text/plain": [
       "[7]"
      ]
     },
     "execution_count": 20,
     "metadata": {},
     "output_type": "execute_result"
    }
   ],
   "source": [
    "foo(x = 7)\n"
   ]
  },
  {
   "cell_type": "code",
   "execution_count": 21,
   "id": "165a7a71-5f9f-41c2-9612-0774ffb1880f",
   "metadata": {},
   "outputs": [
    {
     "name": "stdout",
     "output_type": "stream",
     "text": [
      "[666]\n"
     ]
    },
    {
     "data": {
      "text/plain": [
       "[666]"
      ]
     },
     "execution_count": 21,
     "metadata": {},
     "output_type": "execute_result"
    }
   ],
   "source": [
    "foo(x = 666)\n"
   ]
  },
  {
   "cell_type": "code",
   "execution_count": 13,
   "id": "06a3f89a-3a20-44d5-b333-2a7d94041939",
   "metadata": {},
   "outputs": [
    {
     "data": {
      "text/plain": [
       "True"
      ]
     },
     "execution_count": 13,
     "metadata": {},
     "output_type": "execute_result"
    }
   ],
   "source": []
  },
  {
   "cell_type": "markdown",
   "id": "17dbbf99-a3aa-4448-9a8d-e84bf0f61f33",
   "metadata": {},
   "source": [
    "## Оператор * и списки"
   ]
  },
  {
   "cell_type": "code",
   "execution_count": 24,
   "id": "ae01d797-bd53-4606-a0c0-706830cf8a8d",
   "metadata": {},
   "outputs": [],
   "source": [
    "a = [1, 2, 3, 4, 5]"
   ]
  },
  {
   "cell_type": "code",
   "execution_count": 33,
   "id": "7dd86959-5bb1-4502-9fcc-3be740929d16",
   "metadata": {},
   "outputs": [],
   "source": [
    "x, y, *b, z = a"
   ]
  },
  {
   "cell_type": "code",
   "execution_count": 34,
   "id": "cf035b10-cfe7-44b5-8ee7-58514855f836",
   "metadata": {},
   "outputs": [
    {
     "name": "stdout",
     "output_type": "stream",
     "text": [
      "1\n",
      "2\n",
      "[3, 4]\n"
     ]
    }
   ],
   "source": [
    "print(x)\n",
    "print(y)\n",
    "print(b)"
   ]
  },
  {
   "cell_type": "markdown",
   "id": "85bc9160-7034-4ee9-bce6-0905221a9568",
   "metadata": {},
   "source": [
    "  ### Заголовок 3"
   ]
  },
  {
   "cell_type": "code",
   "execution_count": null,
   "id": "68758f37-4313-470a-9f14-89b7010f7c4d",
   "metadata": {},
   "outputs": [],
   "source": []
  }
 ],
 "metadata": {
  "kernelspec": {
   "display_name": "Python 3 (ipykernel)",
   "language": "python",
   "name": "python3"
  },
  "language_info": {
   "codemirror_mode": {
    "name": "ipython",
    "version": 3
   },
   "file_extension": ".py",
   "mimetype": "text/x-python",
   "name": "python",
   "nbconvert_exporter": "python",
   "pygments_lexer": "ipython3",
   "version": "3.10.2"
  }
 },
 "nbformat": 4,
 "nbformat_minor": 5
}
