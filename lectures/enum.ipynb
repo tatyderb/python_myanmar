{
 "cells": [
  {
   "cell_type": "markdown",
   "id": "03fe6937-7b3e-41b5-8a55-2606682b5f83",
   "metadata": {},
   "source": [
    "# Enum"
   ]
  },
  {
   "cell_type": "markdown",
   "id": "823567db-d86e-40a3-b065-3dcf831ed50a",
   "metadata": {},
   "source": [
    "## Источники\n",
    "\n",
    "* https://pymotw.com/3/enum/index.html\n",
    "    * https://habr.com/ru/companies/timeweb/articles/564826/ (перевод на русский)\n",
    "* https://docs.python.org/3/library/enum.html\n",
    "* https://docs.python.org/3/howto/enum.html"
   ]
  },
  {
   "cell_type": "markdown",
   "id": "583da01a-0f41-49d0-904b-70ca36a49ea7",
   "metadata": {},
   "source": [
    "![зачем](https://habrastorage.org/r/w1560/webt/dq/jz/yq/dqjzyqza1ve5kcjiod-zexa_b3u.png)"
   ]
  },
  {
   "cell_type": "markdown",
   "id": "c3a347cb-c76c-42c5-9169-a8785c94fc1f",
   "metadata": {},
   "source": [
    "* перечисление\n",
    "* итерация\n",
    "* сравнение `==`\n",
    "* сравнение `<`\n",
    "* печать"
   ]
  },
  {
   "cell_type": "markdown",
   "id": "2313c045-049a-48e7-97c1-7cf9771fba13",
   "metadata": {},
   "source": [
    "## Создание и перечисление"
   ]
  },
  {
   "cell_type": "code",
   "execution_count": 4,
   "id": "14a5c916-c60f-4792-9c76-91fe67bb845c",
   "metadata": {},
   "outputs": [
    {
     "name": "stdout",
     "output_type": "stream",
     "text": [
      "Member name: wont_fix\n",
      "Member value: 4\n"
     ]
    }
   ],
   "source": [
    "#  enum_create.py\n",
    "import enum\n",
    "\n",
    "class BugStatus(enum.Enum):\n",
    "\n",
    "    new = 7\n",
    "    incomplete = 6\n",
    "    invalid = 5\n",
    "    wont_fix = 4\n",
    "    in_progress = 3\n",
    "    fix_committed = 2\n",
    "    fix_released = 1\n",
    "\n",
    "print(f'Member name: {BugStatus.wont_fix.name}') \n",
    "print(f'Member value: {BugStatus.wont_fix.value}')"
   ]
  },
  {
   "cell_type": "markdown",
   "id": "c48c49bb-0bfd-4be5-964f-1c8e74bdba08",
   "metadata": {},
   "source": [
    "## Итерация по всем объектам"
   ]
  },
  {
   "cell_type": "code",
   "execution_count": 5,
   "id": "e1954229-fad9-4181-8c50-0bac4f4ed962",
   "metadata": {},
   "outputs": [
    {
     "name": "stdout",
     "output_type": "stream",
     "text": [
      "new             = 7\n",
      "incomplete      = 6\n",
      "invalid         = 5\n",
      "wont_fix        = 4\n",
      "in_progress     = 3\n",
      "fix_committed   = 2\n",
      "fix_released    = 1\n"
     ]
    }
   ],
   "source": [
    "#  enum_iterate.py\n",
    "import enum\n",
    "\n",
    "class BugStatus(enum.Enum):\n",
    "\n",
    "    new = 7\n",
    "    incomplete = 6\n",
    "    invalid = 5\n",
    "    wont_fix = 4\n",
    "    in_progress = 3\n",
    "    fix_committed = 2\n",
    "    fix_released = 1\n",
    "\n",
    "for status in BugStatus:\n",
    "    print(f'{status.name:15} = {status.value}')"
   ]
  },
  {
   "cell_type": "markdown",
   "id": "64bdf93f-553e-4e77-88fc-3aa025c7bae0",
   "metadata": {},
   "source": [
    "## Автоматическое value"
   ]
  },
  {
   "cell_type": "code",
   "execution_count": 13,
   "id": "9f61c9df-cbe0-4eef-af90-23c19856717e",
   "metadata": {},
   "outputs": [
    {
     "name": "stdout",
     "output_type": "stream",
     "text": [
      "new             = 1\n",
      "incomplete      = 2\n",
      "invalid         = 3\n",
      "wont_fix        = 4\n",
      "in_progress     = 5\n",
      "fix_committed   = 6\n",
      "fix_released    = 7\n"
     ]
    }
   ],
   "source": [
    "from enum import auto\n",
    "class BugStatus(enum.Enum):\n",
    "\n",
    "    new = auto()\n",
    "    incomplete = auto()\n",
    "    invalid = auto()\n",
    "    wont_fix = auto()\n",
    "    in_progress = auto()\n",
    "    fix_committed = auto()\n",
    "    fix_released = auto()\n",
    "\n",
    "for status in BugStatus:\n",
    "    print(f'{status.name:15} = {status.value}')"
   ]
  },
  {
   "cell_type": "markdown",
   "id": "544cf061-643f-4e16-b208-7f9fc6fe0309",
   "metadata": {},
   "source": [
    "## Сравнение == по name или value"
   ]
  },
  {
   "cell_type": "code",
   "execution_count": 6,
   "id": "992f1ecc-e0cd-41a0-ba42-2f7a02b0283b",
   "metadata": {},
   "outputs": [
    {
     "name": "stdout",
     "output_type": "stream",
     "text": [
      "Equality: False True\n",
      "Identity: False True\n",
      "Ordered by value:\n",
      "  Cannot sort: '<' not supported between instances of 'BugStatus' and 'BugStatus'\n"
     ]
    }
   ],
   "source": [
    "#  enum_comparison.py\n",
    "import enum\n",
    "\n",
    "class BugStatus(enum.Enum):\n",
    "\n",
    "    new = 7\n",
    "    incomplete = 6\n",
    "    invalid = 5\n",
    "    wont_fix = 4\n",
    "    in_progress = 3\n",
    "    fix_committed = 2\n",
    "    fix_released = 1\n",
    "\n",
    "actual_state = BugStatus.wont_fix\n",
    "desired_state = BugStatus.fix_released\n",
    "\n",
    "print('Equality:',\n",
    "      actual_state == desired_state,\n",
    "      actual_state == BugStatus.wont_fix)  # проверка на равенство\n",
    "print('Identity:',\n",
    "      actual_state is desired_state,\n",
    "      actual_state is BugStatus.wont_fix)  # проверка на то, это один и тот же элемент или нет\n",
    "print('Ordered by value:')\n",
    "try:\n",
    "    print('\\n'.join('  ' + s.name for s in sorted(BugStatus)))  # пытаемся упорядочить\n",
    "except TypeError as err:\n",
    "    print(f'  Cannot sort: {err}')  # вывод ошибки в случае неудачи"
   ]
  },
  {
   "cell_type": "markdown",
   "id": "ff9a49b4-cd52-4918-8bd9-499d040f2735",
   "metadata": {},
   "source": [
    "## Сравнение < IntEnum"
   ]
  },
  {
   "cell_type": "code",
   "execution_count": 7,
   "id": "d156f233-4248-4b92-9cfa-cc68fc0c97b1",
   "metadata": {},
   "outputs": [
    {
     "name": "stdout",
     "output_type": "stream",
     "text": [
      "Ordered by value:\n",
      "  fix_released\n",
      "  fix_committed\n",
      "  in_progress\n",
      "  wont_fix\n",
      "  invalid\n",
      "  incomplete\n",
      "  new\n"
     ]
    }
   ],
   "source": [
    "#  enum_intenum.py\n",
    "import enum\n",
    "\n",
    "class BugStatus(enum.IntEnum):\n",
    "\n",
    "    new = 7\n",
    "    incomplete = 6\n",
    "    invalid = 5\n",
    "    wont_fix = 4\n",
    "    in_progress = 3\n",
    "    fix_committed = 2\n",
    "    fix_released = 1\n",
    "\n",
    "print('Ordered by value:')\n",
    "print('\\n'.join('  ' + s.name for s in sorted(BugStatus)))  # упорядочивание по значению"
   ]
  },
  {
   "cell_type": "markdown",
   "id": "d5c7a7a5-3f96-4ecf-b87c-f7c45259cfd6",
   "metadata": {},
   "source": [
    "## Уникальные значения\n",
    "\n",
    "Элементы перечисления с одинаковыми значениями являются несколькими названиями, указывающими на один и тот же объект.\n",
    "\n",
    "Так как `by_design` и `closed` являются синонимами (alias) для других элементов, то они не появляются как элементы в циклах. Истинным считается название, указанное первым при объявлении."
   ]
  },
  {
   "cell_type": "code",
   "execution_count": 8,
   "id": "b8fed3b9-b44a-4751-9742-c174dc1a1e54",
   "metadata": {},
   "outputs": [
    {
     "name": "stdout",
     "output_type": "stream",
     "text": [
      "new             = 7\n",
      "incomplete      = 6\n",
      "invalid         = 5\n",
      "wont_fix        = 4\n",
      "in_progress     = 3\n",
      "fix_committed   = 2\n",
      "fix_released    = 1\n",
      "\n",
      "Same: by_design is wont_fix:  True\n",
      "Same: closed is fix_released:  True\n"
     ]
    }
   ],
   "source": [
    "#  enum_aliases.py\n",
    "import enum\n",
    "\n",
    "class BugStatus(enum.Enum):\n",
    "\n",
    "    new = 7\n",
    "    incomplete = 6\n",
    "    invalid = 5\n",
    "    wont_fix = 4\n",
    "    in_progress = 3\n",
    "    fix_committed = 2\n",
    "    fix_released = 1\n",
    "\n",
    "    by_design = 4\n",
    "    closed = 1\n",
    "\n",
    "for status in BugStatus:\n",
    "    print(f'{status.name:15} = {status.value}')\n",
    "\n",
    "print('\\nSame: by_design is wont_fix: ',\n",
    "      BugStatus.by_design is BugStatus.wont_fix)\n",
    "print('Same: closed is fix_released: ',\n",
    "      BugStatus.closed is BugStatus.fix_released)\n"
   ]
  },
  {
   "cell_type": "markdown",
   "id": "faeb2d71-ec9b-4c70-8c78-dedccf15f435",
   "metadata": {},
   "source": [
    "### `enum.unique` - все значения уникальные"
   ]
  },
  {
   "cell_type": "code",
   "execution_count": 14,
   "id": "fc823429-fa45-4db4-a9da-6c1d507c8e71",
   "metadata": {},
   "outputs": [
    {
     "ename": "ValueError",
     "evalue": "duplicate values found in <enum 'BugStatus'>: by_design -> wont_fix, closed -> fix_released",
     "output_type": "error",
     "traceback": [
      "\u001b[1;31m---------------------------------------------------------------------------\u001b[0m",
      "\u001b[1;31mValueError\u001b[0m                                Traceback (most recent call last)",
      "Cell \u001b[1;32mIn[14], line 5\u001b[0m\n\u001b[0;32m      1\u001b[0m \u001b[38;5;66;03m#  enum_unique_enforce.py\u001b[39;00m\n\u001b[0;32m      2\u001b[0m \u001b[38;5;28;01mimport\u001b[39;00m \u001b[38;5;21;01menum\u001b[39;00m\n\u001b[0;32m      4\u001b[0m \u001b[38;5;129;43m@enum\u001b[39;49m\u001b[38;5;241;43m.\u001b[39;49m\u001b[43munique\u001b[49m\n\u001b[1;32m----> 5\u001b[0m \u001b[38;5;28;43;01mclass\u001b[39;49;00m\u001b[43m \u001b[49m\u001b[38;5;21;43;01mBugStatus\u001b[39;49;00m\u001b[43m(\u001b[49m\u001b[43menum\u001b[49m\u001b[38;5;241;43m.\u001b[39;49m\u001b[43mEnum\u001b[49m\u001b[43m)\u001b[49m\u001b[43m:\u001b[49m\n\u001b[0;32m      7\u001b[0m \u001b[43m    \u001b[49m\u001b[43mnew\u001b[49m\u001b[43m \u001b[49m\u001b[38;5;241;43m=\u001b[39;49m\u001b[43m \u001b[49m\u001b[38;5;241;43m7\u001b[39;49m\n\u001b[0;32m      8\u001b[0m \u001b[43m    \u001b[49m\u001b[43mincomplete\u001b[49m\u001b[43m \u001b[49m\u001b[38;5;241;43m=\u001b[39;49m\u001b[43m \u001b[49m\u001b[38;5;241;43m6\u001b[39;49m\n",
      "File \u001b[1;32m~\\AppData\\Local\\Programs\\Python\\Python310\\lib\\enum.py:1022\u001b[0m, in \u001b[0;36munique\u001b[1;34m(enumeration)\u001b[0m\n\u001b[0;32m   1019\u001b[0m \u001b[38;5;28;01mif\u001b[39;00m duplicates:\n\u001b[0;32m   1020\u001b[0m     alias_details \u001b[38;5;241m=\u001b[39m \u001b[38;5;124m'\u001b[39m\u001b[38;5;124m, \u001b[39m\u001b[38;5;124m'\u001b[39m\u001b[38;5;241m.\u001b[39mjoin(\n\u001b[0;32m   1021\u001b[0m             [\u001b[38;5;124m\"\u001b[39m\u001b[38;5;132;01m%s\u001b[39;00m\u001b[38;5;124m -> \u001b[39m\u001b[38;5;132;01m%s\u001b[39;00m\u001b[38;5;124m\"\u001b[39m \u001b[38;5;241m%\u001b[39m (alias, name) \u001b[38;5;28;01mfor\u001b[39;00m (alias, name) \u001b[38;5;129;01min\u001b[39;00m duplicates])\n\u001b[1;32m-> 1022\u001b[0m     \u001b[38;5;28;01mraise\u001b[39;00m \u001b[38;5;167;01mValueError\u001b[39;00m(\u001b[38;5;124m'\u001b[39m\u001b[38;5;124mduplicate values found in \u001b[39m\u001b[38;5;132;01m%r\u001b[39;00m\u001b[38;5;124m: \u001b[39m\u001b[38;5;132;01m%s\u001b[39;00m\u001b[38;5;124m'\u001b[39m \u001b[38;5;241m%\u001b[39m\n\u001b[0;32m   1023\u001b[0m             (enumeration, alias_details))\n\u001b[0;32m   1024\u001b[0m \u001b[38;5;28;01mreturn\u001b[39;00m enumeration\n",
      "\u001b[1;31mValueError\u001b[0m: duplicate values found in <enum 'BugStatus'>: by_design -> wont_fix, closed -> fix_released"
     ]
    }
   ],
   "source": [
    "#  enum_unique_enforce.py\n",
    "import enum\n",
    "\n",
    "@enum.unique\n",
    "class BugStatus(enum.Enum):\n",
    "\n",
    "    new = 7\n",
    "    incomplete = 6\n",
    "    invalid = 5\n",
    "    wont_fix = 4\n",
    "    in_progress = 3\n",
    "    fix_committed = 2\n",
    "    fix_released = 1\n",
    "\n",
    "    # This will trigger an error with unique applied.\n",
    "    by_design = 4\n",
    "    closed = 1"
   ]
  },
  {
   "cell_type": "markdown",
   "id": "73d705a1-f343-4ed5-9ba2-28bbd76e868f",
   "metadata": {},
   "source": [
    "## Короткая форма создания перечислений"
   ]
  },
  {
   "cell_type": "code",
   "execution_count": 17,
   "id": "b3b88be8-05af-46d9-bea4-c4d1a9942945",
   "metadata": {},
   "outputs": [
    {
     "name": "stdout",
     "output_type": "stream",
     "text": [
      "Member: BugStatus.new\n",
      "\n",
      "All members:\n",
      "fix_released    = 1\n",
      "fix_committed   = 2\n",
      "in_progress     = 3\n",
      "wont_fix        = 4\n",
      "invalid         = 5\n",
      "incomplete      = 6\n",
      "new             = 7\n"
     ]
    }
   ],
   "source": [
    "#  enum_programmatic_create.py\n",
    "import enum\n",
    "\n",
    "BugStatus = enum.Enum(\n",
    "    value='BugStatus',\n",
    "    names=('fix_released fix_committed in_progress '\n",
    "           'wont_fix invalid incomplete new'),\n",
    ")\n",
    "print(f'Member: {BugStatus.new}')\n",
    "\n",
    "print('\\nAll members:')\n",
    "for status in BugStatus:\n",
    "    print(f'{status.name:15} = {status.value}')"
   ]
  },
  {
   "cell_type": "code",
   "execution_count": 20,
   "id": "216c5841-ba0c-4b0f-9114-fb863a2e8ddf",
   "metadata": {},
   "outputs": [
    {
     "name": "stdout",
     "output_type": "stream",
     "text": [
      "<enum 'Animal'>\n",
      "Animal.ANT\n",
      "[<Animal.ANT: 1>, <Animal.BEE: 2>, <Animal.CAT: 3>, <Animal.DOG: 4>]\n"
     ]
    }
   ],
   "source": [
    "Animal = enum.Enum('Animal', 'ANT BEE CAT DOG')\n",
    "print(Animal)\n",
    "print(Animal.ANT)\n",
    "print(list(Animal))"
   ]
  },
  {
   "cell_type": "markdown",
   "id": "50b8d9e2-74d7-4498-9b49-7b3d257390e1",
   "metadata": {},
   "source": [
    "## StrEnum - в поле value строки\n",
    "\n",
    "Поддерживаются операторы сравнения для строк.\n"
   ]
  },
  {
   "cell_type": "markdown",
   "id": "f599137d-4b2f-447b-8141-12ed035493c3",
   "metadata": {},
   "source": [
    "## `__bool__` \n",
    "\n",
    "чтобы переопределить bool(Animal.BEE)"
   ]
  },
  {
   "cell_type": "code",
   "execution_count": null,
   "id": "275f4a39-ab3e-49be-9584-b2cfa7ddd1f9",
   "metadata": {},
   "outputs": [],
   "source": []
  }
 ],
 "metadata": {
  "kernelspec": {
   "display_name": "Python 3 (ipykernel)",
   "language": "python",
   "name": "python3"
  },
  "language_info": {
   "codemirror_mode": {
    "name": "ipython",
    "version": 3
   },
   "file_extension": ".py",
   "mimetype": "text/x-python",
   "name": "python",
   "nbconvert_exporter": "python",
   "pygments_lexer": "ipython3",
   "version": "3.10.2"
  }
 },
 "nbformat": 4,
 "nbformat_minor": 5
}
