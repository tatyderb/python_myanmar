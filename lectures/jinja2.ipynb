{
 "cells": [
  {
   "cell_type": "markdown",
   "id": "ef59e100-c514-4b6a-b95c-e551964d9fbb",
   "metadata": {},
   "source": [
    "# Шаблоны jinja2\n",
    "\n",
    "Шаблонизаторы - это f-строки на стероидах.\n",
    "\n",
    "## Источники\n",
    "\n",
    "* [Официальный сайт](https://pypi.org/project/Jinja2/)\n",
    "* [Документация](https://jinja.palletsprojects.com/en/3.1.x/)\n",
    "* [Основы jinja](https://pythonru.com/uroki/7-osnovy-shablonizatora-jinja) - на русском, урок по jinja из курса по Flask.\n",
    "* [RealPython](https://realpython.com/primer-on-jinja-templating/) (пересказ на русском [тут](https://proglib.io/p/rukovodstvo-dlya-nachinayushchih-po-shablonam-jinja-v-flask-2022-09-05))\n",
    "* [Tutorial](https://ttl255.com/jinja2-tutorial-part-1-introduction-and-variable-substitution/) - полезно devops (там про интеграцию с ansible)\n",
    "* [zetcode](https://zetcode.com/python/jinja/) - вот отсюда урок во многом взят\n",
    "* [wiki](https://lectureswww.readthedocs.io/6.www.sync/2.codding/3.templates/jinja2.html) - Ru\n",
    "* [Tutorial](https://dvmn.org/encyclopedia/modules/jinja2/) - Ru (пример страницы сайта с кепками)\n",
    "\n",
    "## Установка\n",
    "\n",
    "`pip3 install jinja2`\n",
    "\n",
    "## Hello, world!"
   ]
  },
  {
   "cell_type": "code",
   "execution_count": 5,
   "id": "9d1fc2bf-a006-4e92-8fd4-3ec20f17c5d6",
   "metadata": {},
   "outputs": [
    {
     "data": {
      "text/plain": [
       "'Hello Вася!'"
      ]
     },
     "execution_count": 5,
     "metadata": {},
     "output_type": "execute_result"
    }
   ],
   "source": [
    "from jinja2 import Template\n",
    "\n",
    "template = Template('Hello {{ name }}!')\n",
    "template.render(name='Вася')"
   ]
  },
  {
   "cell_type": "markdown",
   "id": "da4bbb8f-c307-4a38-9029-5507a16d5711",
   "metadata": {},
   "source": [
    "## Синтаксические конструкции\n",
    "\n",
    "* `{{ }}` - expressions to print to the template output - выражение, которое будет подставляться в шаблон\n",
    "* `{# Комментарии #}`\n",
    "* `{% код %}` - statements - управляющие конструкции\n",
    "* `# ##` - line statements \n"
   ]
  },
  {
   "cell_type": "raw",
   "id": "726bac6f-789c-435c-b287-2dfd78becda5",
   "metadata": {},
   "source": [
    "{# Это кусок кода, который стал временно не нужен, но удалять жалко\n",
    "    {% for user in users %}\n",
    "        ...\n",
    "    {% endfor %}\n",
    "#}"
   ]
  },
  {
   "cell_type": "markdown",
   "id": "6fb4834b-50ff-4877-ae28-c2993c6e7204",
   "metadata": {},
   "source": [
    "## `{{ выражение }}` - подстановки переменных\n",
    "\n",
    "Переменные можно подставить из \n",
    "\n",
    "* именованныx аргументы функции render\n",
    "* словаря\n",
    "* атрибутов экземпляра класса\n",
    "\n",
    "### Именованные аргументы"
   ]
  },
  {
   "cell_type": "code",
   "execution_count": 6,
   "id": "9d766b83-663d-4017-9f1d-a255a673e5b8",
   "metadata": {},
   "outputs": [
    {
     "name": "stdout",
     "output_type": "stream",
     "text": [
      "My name is Peter and I am 34\n"
     ]
    }
   ],
   "source": [
    "from jinja2 import Template\n",
    "\n",
    "name = 'Peter'\n",
    "age = 34\n",
    "\n",
    "tm = Template(\"My name is {{ name }} and I am {{ age }}\")\n",
    "msg = tm.render(age=age, name=name)\n",
    "\n",
    "print(msg)"
   ]
  },
  {
   "cell_type": "markdown",
   "id": "4f813789-e71f-4b55-8731-5f52bf17ced5",
   "metadata": {},
   "source": [
    "### Словарь"
   ]
  },
  {
   "cell_type": "code",
   "execution_count": 7,
   "id": "dd6feb39-e00a-4d14-b286-68f55ac4eb92",
   "metadata": {},
   "outputs": [
    {
     "name": "stdout",
     "output_type": "stream",
     "text": [
      "My name is Peter and I am 34\n",
      "My name is Peter and I am 34\n"
     ]
    }
   ],
   "source": [
    "from jinja2 import Template\n",
    "\n",
    "d = {\n",
    "    'name': 'Peter',\n",
    "    'age': 34\n",
    "}\n",
    "tm = Template(\"My name is {{ person.name }} and I am {{ person.age }}\")\n",
    "msg = tm.render(person=d)\n",
    "print(msg)\n",
    "\n",
    "tm = Template(\"My name is {{ person['name'] }} and I am {{ person['age'] }}\")\n",
    "msg = tm.render(person=d)\n",
    "print(msg)"
   ]
  },
  {
   "cell_type": "markdown",
   "id": "9d27505a-1283-4b6e-990f-10cde00775b2",
   "metadata": {},
   "source": [
    "#### Вложенный словарь"
   ]
  },
  {
   "cell_type": "code",
   "execution_count": 11,
   "id": "01a248a6-f533-4bba-9d64-0d57925edb2d",
   "metadata": {},
   "outputs": [
    {
     "name": "stdout",
     "output_type": "stream",
     "text": [
      "\n",
      "My name is Peter and I am 34.\n",
      "My cat's name is Barsik.\n",
      "Peter\n"
     ]
    }
   ],
   "source": [
    "from jinja2 import Template\n",
    "\n",
    "d = {\n",
    "    'name': 'Peter',\n",
    "    'age': 34,\n",
    "    'pet': {\n",
    "        'name': 'Barsik',\n",
    "        'kind': 'cat'\n",
    "    }\n",
    "}\n",
    "template = \"\"\"\n",
    "My name is {{ person.name }} and I am {{ person.age }}.\n",
    "My {{ person.pet.kind }}'s name is {{ person.pet.name}}.\n",
    "\"\"\"\n",
    "tm = Template(template)\n",
    "msg = tm.render(person=d)\n",
    "print(msg)\n",
    "\n",
    "print(d['name'])\n",
    "# print(d.name)"
   ]
  },
  {
   "cell_type": "markdown",
   "id": "e21b545d-fc67-4528-a746-c85a62f0ad0c",
   "metadata": {},
   "source": [
    "### Класс"
   ]
  },
  {
   "cell_type": "code",
   "execution_count": 1,
   "id": "e9e2a827-6fc2-401f-9fb4-54bfd3d5270b",
   "metadata": {},
   "outputs": [
    {
     "name": "stdout",
     "output_type": "stream",
     "text": [
      "\n",
      "My name is Peter and I am 34 \n",
      "with salary 100000 dollars.\n"
     ]
    }
   ],
   "source": [
    "from jinja2 import Template\n",
    "from dataclasses import dataclass\n",
    "\n",
    "@dataclass\n",
    "class Person:\n",
    "    name: str\n",
    "    age: int\n",
    "    def salary(self):\n",
    "        return 100000\n",
    "\n",
    "p1 = Person('Peter', 34)\n",
    "tm = Template(\"\"\"\n",
    "My name is {{ person.name }} and I am {{ person.age }} \n",
    "with salary {{ person.salary() }} dollars.\"\"\")          # вызов метода объекта\n",
    "msg = tm.render(person=p1)\n",
    "print(msg)\n"
   ]
  },
  {
   "cell_type": "markdown",
   "id": "704d24c9-2829-47a5-a7c6-33dd573c9d23",
   "metadata": {},
   "source": [
    "## Экранирование\n",
    "\n",
    "### rawdata"
   ]
  },
  {
   "cell_type": "code",
   "execution_count": 19,
   "id": "5d90df0b-a02e-40f2-a488-68eda2ad4f9a",
   "metadata": {},
   "outputs": [
    {
     "name": "stdout",
     "output_type": "stream",
     "text": [
      "\n",
      "\n",
      "His name is {{ name }}\n",
      "\n"
     ]
    }
   ],
   "source": [
    "from jinja2 import Template\n",
    "\n",
    "data = '''\n",
    "{% raw %}\n",
    "His name is {{ name }}\n",
    "{% endraw %}\n",
    "'''\n",
    "\n",
    "tm = Template(data)\n",
    "msg = tm.render(name='Peter')\n",
    "\n",
    "print(msg)"
   ]
  },
  {
   "cell_type": "markdown",
   "id": "c4b9d1b5-f654-4b01-b3e2-1037db0bfbfe",
   "metadata": {},
   "source": [
    "### escape"
   ]
  },
  {
   "cell_type": "code",
   "execution_count": 2,
   "id": "6a4b67d8-650c-49c6-8476-ed695df9d139",
   "metadata": {},
   "outputs": [
    {
     "name": "stdout",
     "output_type": "stream",
     "text": [
      "&lt;a&gt;Today is a sunny day x &lt; 23 пример &lt;/a&gt;\n"
     ]
    }
   ],
   "source": [
    "from jinja2 import Template #, escape\n",
    "\n",
    "data = '<a>Today is a sunny day x < 23 пример </a>'\n",
    "\n",
    "tm = Template(\"{{ data | e}}\")\n",
    "msg = tm.render(data=data)\n",
    "\n",
    "print(msg)\n",
    "#print(escape(data))"
   ]
  },
  {
   "cell_type": "markdown",
   "id": "c1ded385-07cd-4a4f-b9be-fbf79b0b4cab",
   "metadata": {},
   "source": [
    "## Шаблон во внешнем файле\n",
    "\n",
    "Файл templates/message.txt"
   ]
  },
  {
   "cell_type": "raw",
   "id": "72c108f2-f134-4e8f-a73d-d7564e1fa8c1",
   "metadata": {},
   "source": [
    "{# templates/message.txt #}\n",
    "\n",
    "Hello {{ name }}!\n",
    "\n",
    "I'm happy to inform you that you did very well on today's {{ test_name }}.\n",
    "You reached {{ score }} out of {{ max_score }} points.\n",
    "\n",
    "See you tomorrow!\n",
    "Anke"
   ]
  },
  {
   "cell_type": "markdown",
   "id": "21c32dac-8fc3-4fff-af2b-41d57d1dfb60",
   "metadata": {},
   "source": [
    "Создадим файлы писем студентам о пройденном экзамене."
   ]
  },
  {
   "cell_type": "code",
   "execution_count": 3,
   "id": "9ebc1409-2ec5-4eae-8d21-8c0e5a92215e",
   "metadata": {},
   "outputs": [
    {
     "name": "stdout",
     "output_type": "stream",
     "text": [
      "... wrote mails/message_sandrine.txt\n",
      "... wrote mails/message_gergeley.txt\n",
      "... wrote mails/message_frieda.txt\n"
     ]
    }
   ],
   "source": [
    "# write_messages.py\n",
    "\n",
    "from jinja2 import Environment, FileSystemLoader\n",
    "\n",
    "max_score = 100\n",
    "test_name = \"Python Challenge\"\n",
    "students = [\n",
    "    {\"name\": \"Sandrine\",  \"score\": 100},\n",
    "    {\"name\": \"Gergeley\", \"score\": 87},\n",
    "    {\"name\": \"Frieda\", \"score\": 92},\n",
    "]\n",
    "\n",
    "environment = Environment(loader=FileSystemLoader(\"templates/\"))\n",
    "template = environment.get_template(\"message.txt\")\n",
    "\n",
    "for student in students:\n",
    "    filename = f\"mails/message_{student['name'].lower()}.txt\"\n",
    "    content = template.render(\n",
    "        student,\n",
    "        max_score=max_score,\n",
    "        test_name=test_name\n",
    "    )\n",
    "    with open(filename, mode=\"w\", encoding=\"utf-8\") as message:\n",
    "        message.write(content)\n",
    "        print(f\"... wrote {filename}\")"
   ]
  },
  {
   "cell_type": "markdown",
   "id": "9c5ab564-1f4f-4ad9-9bbb-0458afa94038",
   "metadata": {},
   "source": [
    "## Песочница\n",
    "\n",
    "Создадим тут песочницу для исследования шаблонов"
   ]
  },
  {
   "cell_type": "code",
   "execution_count": 5,
   "id": "e9596cf7-a611-48a9-b259-66376dabead8",
   "metadata": {},
   "outputs": [
    {
     "data": {
      "text/plain": [
       "'My name is Peter and I am 34'"
      ]
     },
     "execution_count": 5,
     "metadata": {},
     "output_type": "execute_result"
    }
   ],
   "source": [
    "text = \"My name is {{ name }} and I am {{ age }}\"\n",
    "\n",
    "data = {'name':'Peter', 'age':34}\n",
    "Template(text).render(**data)"
   ]
  },
  {
   "cell_type": "markdown",
   "id": "2bfeee0e-7376-4a7d-b75d-c759d0044ed9",
   "metadata": {},
   "source": [
    "## set variable\n",
    "\n",
    "Можно определять переменные и их значения прямо в шаблоне. Чем мы будем пользоваться в наших примерах."
   ]
  },
  {
   "cell_type": "raw",
   "id": "f71b6613-e4ff-46d8-8483-5f78f2dcf5ea",
   "metadata": {},
   "source": [
    "{% set fruit = 'apple' %}\n",
    "\n",
    "{% set name, age = 'Tom', 20 %}"
   ]
  },
  {
   "cell_type": "markdown",
   "id": "68bcdf2f-e53d-496b-9ea8-73faadea87bf",
   "metadata": {},
   "source": [
    "Переменные в шаблоне нужны, чтобы запомнить результат сложной операции для дальнейшего использования. По возможности считаем в python, а не в jinja.\n",
    "\n",
    "Переменные, определенные вне управляющих конструкций (о них дальше), ведут себя как **глобальные переменные** и доступны внутри любой структуры. \n",
    "\n",
    "Переменные, созданные внутри конструкций, ведут себя как **локальные переменные** и видимы только внутри этих конкретных конструкций. Единственное исключение — инструкция if."
   ]
  },
  {
   "cell_type": "markdown",
   "id": "67b23f31-d6f5-4ade-abb3-f40d750cc940",
   "metadata": {},
   "source": [
    "## if else endif\n",
    "\n",
    "Изменим шаблон, чтобы если студент не набрал должного количества баллов, мы ему написали, что тест не пройден."
   ]
  },
  {
   "cell_type": "raw",
   "id": "2709242e-f60d-4e41-a12a-87ed82705f4c",
   "metadata": {},
   "source": [
    "{# templates/message.txt #}\n",
    "\n",
    "Hello {{ name }}!\n",
    "\n",
    "{% if score > 80 %}\n",
    "I'm happy to inform you that you did very well on today's {{ test_name }}.\n",
    "{% else %}\n",
    "I'm sorry to inform you that you did not do so well on today's {{ test_name }}.\n",
    "{% endif %}\n",
    "You reached {{ score }} out of {{ max_score }} points.\n",
    "\n",
    "See you tomorrow!\n",
    "Anke"
   ]
  },
  {
   "cell_type": "code",
   "execution_count": 9,
   "id": "4719c56e-a7bd-4609-8ebe-ea2524d527f9",
   "metadata": {},
   "outputs": [
    {
     "name": "stdout",
     "output_type": "stream",
     "text": [
      "\n",
      "\n",
      "    <p>User has some bookmarks</p>\n",
      "\n",
      "-----\n",
      "\n",
      "\n",
      "    <p>No bookmarks</p>\n",
      "\n"
     ]
    }
   ],
   "source": [
    "text = '''\n",
    "{% if bookmarks %}\n",
    "    <p>User has some bookmarks</p>\n",
    "{% else %}\n",
    "    <p>No bookmarks</p>\n",
    "{% endif %}\n",
    "'''\n",
    "\n",
    "print(Template(text).render(bookmarks=['one', 'two']))\n",
    "print('-----')\n",
    "print(Template(text).render(bookmarks=[]))    "
   ]
  },
  {
   "cell_type": "markdown",
   "id": "2fae9a0b-1efd-49a0-8c5f-2965f87b1dab",
   "metadata": {},
   "source": [
    "Используйте конструкцию так, как вы привыкли в python:\n",
    "\n",
    "* `if`..`elif`..`else` + `endif`\n",
    "* вложенные условия (отступы не обязательны, но повышают читаемость)\n",
    "* однострочники\n",
    "* операторы сравнения, in, логические операторы - пишем как в python"
   ]
  },
  {
   "cell_type": "raw",
   "id": "e8284642-9fca-483a-8e63-ba590ffe2d1c",
   "metadata": {},
   "source": [
    "{{ \"User is logged in\" if loggedin else \"User is not logged in\" }}"
   ]
  },
  {
   "cell_type": "raw",
   "id": "dbb5b662-65dc-46b5-99f1-e185e3248fbc",
   "metadata": {},
   "source": [
    "{{ \"User is logged in\" if loggedin }}"
   ]
  },
  {
   "cell_type": "raw",
   "id": "6bd8f7ea-bc1f-4d52-abc0-7d89a87803c8",
   "metadata": {},
   "source": [
    "{# отступы повышают читаемость #}\n",
    "\n",
    "{% if user %}\n",
    "    {% if user.newbie %}\n",
    "        <p>Display newbie stages</p>\n",
    "    {% elif user.pro %}\n",
    "        <p>Display pro stages</p>\n",
    "    {% elif user.ninja %}\n",
    "        <p>Display ninja stages</p>\n",
    "    {% else %}\n",
    "        <p>You have completed all states</p>\n",
    "    {% endif %}\n",
    "{% else %}\n",
    "    <p>User is not defined</p>\n",
    "{% endif %}"
   ]
  },
  {
   "cell_type": "markdown",
   "id": "0272d506-1583-4a14-8ecc-088d5b5b3260",
   "metadata": {},
   "source": [
    "## Undefined переменная\n",
    "\n",
    "Если переменная из шаблона не определена, то никакой диагностики. Просто пустая строка."
   ]
  },
  {
   "cell_type": "code",
   "execution_count": 10,
   "id": "f584a19b-32ef-410f-890f-96130a4cfeee",
   "metadata": {},
   "outputs": [
    {
     "data": {
      "text/plain": [
       "'My name is  and I am 34'"
      ]
     },
     "execution_count": 10,
     "metadata": {},
     "output_type": "execute_result"
    }
   ],
   "source": [
    "text = \"My name is {{ name }} and I am {{ age }}\"\n",
    "\n",
    "data = {'gender':'male', 'age':34}\n",
    "Template(text).render(**data)"
   ]
  },
  {
   "cell_type": "markdown",
   "id": "084a6a1a-5f17-48d7-b2a9-0670aea5c0f8",
   "metadata": {},
   "source": [
    "### Определим значение по умолчанию в шаблоне"
   ]
  },
  {
   "cell_type": "markdown",
   "id": "b0216e05-91b7-43fb-8cd9-e26c919a1934",
   "metadata": {},
   "source": [
    "Значение по умолчанию в шаблоне"
   ]
  },
  {
   "cell_type": "raw",
   "id": "55735cfa-354f-4fb1-b3cc-ef511bd3092b",
   "metadata": {},
   "source": [
    "{% if step is not defined %}\n",
    "{% set step = 1 %}\n",
    "{% endif %}"
   ]
  },
  {
   "cell_type": "markdown",
   "id": "8746b77d-f1cf-4e3f-b49b-265a0beae6b8",
   "metadata": {},
   "source": [
    "### Диагностика undefined и пустого значения"
   ]
  },
  {
   "cell_type": "markdown",
   "id": "1fcb1bf6-6551-4018-91c7-eca85c647984",
   "metadata": {},
   "source": [
    "Официально рекомендованное решение:"
   ]
  },
  {
   "cell_type": "raw",
   "id": "3d032862-58b5-4509-a36c-4c53931f8221",
   "metadata": {},
   "source": [
    "{% if variable is defined %}\n",
    "    value of variable: {{ variable }}\n",
    "{% else %}\n",
    "    variable is not defined\n",
    "{% endif %}"
   ]
  },
  {
   "cell_type": "markdown",
   "id": "7073872c-808d-435a-b987-6abb6bf16782",
   "metadata": {},
   "source": [
    "Проверка, что определена и не пуста (т.е bool(variable) не False)"
   ]
  },
  {
   "cell_type": "raw",
   "id": "f4666240-f6c6-4312-b064-1b260841e6fa",
   "metadata": {},
   "source": [
    "{% if variable is defined and variable %}"
   ]
  },
  {
   "cell_type": "markdown",
   "id": "8bd81108-d528-4071-8aec-991144aee645",
   "metadata": {},
   "source": [
    "Однострочник ОК или N/A для переменной из [официальной документации](https://jinja.palletsprojects.com/en/3.1.x/templates/#if-expression)"
   ]
  },
  {
   "cell_type": "raw",
   "id": "fc2a0461-b5b5-4b0f-9054-ef9f0075f989",
   "metadata": {},
   "source": [
    "{{ 'OK' if (variable is defined and variable) else 'N/A' }}"
   ]
  },
  {
   "cell_type": "markdown",
   "id": "4cfa603e-d1ef-405a-962f-fc1d154faee2",
   "metadata": {},
   "source": [
    "## for .. endfor - перебираем последовательность"
   ]
  },
  {
   "cell_type": "markdown",
   "id": "aca61e8e-321d-4dd0-924b-9db39d5eea42",
   "metadata": {},
   "source": [
    "### Список"
   ]
  },
  {
   "cell_type": "code",
   "execution_count": 6,
   "id": "153648d3-af41-4911-85a2-5ebb4fe9b54e",
   "metadata": {},
   "outputs": [
    {
     "name": "stdout",
     "output_type": "stream",
     "text": [
      "\n",
      "\n",
      "\n",
      "<ul>\n",
      "\n",
      "    <li>tom</li>\n",
      "\n",
      "    <li>jerry</li>\n",
      "\n",
      "    <li>spike</li>\n",
      "\n",
      "</ul>\n"
     ]
    },
    {
     "data": {
      "text/plain": [
       "'\\n\\n\\n<ul>\\n\\n    <li>tom</li>\\n\\n    <li>jerry</li>\\n\\n    <li>spike</li>\\n\\n</ul>'"
      ]
     },
     "execution_count": 6,
     "metadata": {},
     "output_type": "execute_result"
    }
   ],
   "source": [
    "text = '''\n",
    "{% set user_list = ['tom', 'jerry', 'spike'] %}\n",
    "\n",
    "<ul>\n",
    "{% for user in user_list %}\n",
    "    <li>{{ user }}</li>\n",
    "{% endfor %}\n",
    "</ul>'''\n",
    "\n",
    "print(Template(text).render())\n",
    "Template(text).render()"
   ]
  },
  {
   "cell_type": "markdown",
   "id": "1ffa686e-572f-4c70-8f12-cbae1c3b17dd",
   "metadata": {},
   "source": [
    "### Словарь"
   ]
  },
  {
   "cell_type": "code",
   "execution_count": 19,
   "id": "7d8f7f0c-6caa-436b-81b1-65b9c614868f",
   "metadata": {},
   "outputs": [
    {
     "name": "stdout",
     "output_type": "stream",
     "text": [
      "\n",
      "\n",
      "\n",
      "<ul>\n",
      "\n",
      "<li>name : tom</li>\n",
      "\n",
      "<li>age : 25</li>\n",
      "\n",
      "<li>designation : Manager</li>\n",
      "\n",
      "</ul>\n"
     ]
    }
   ],
   "source": [
    "text = '''\n",
    "{% set employee = { 'name': 'tom', 'age': 25, 'designation': 'Manager' } %}\n",
    "\n",
    "<ul>\n",
    "{% for key in employee %}\n",
    "<li>{{ key }} : {{ employee[key] }}</li>\n",
    "{% endfor %}\n",
    "</ul>'''\n",
    "\n",
    "print(Template(text).render())"
   ]
  },
  {
   "cell_type": "code",
   "execution_count": 12,
   "id": "c1b7ca8b-de35-4068-8f7f-a6fa658fc09e",
   "metadata": {},
   "outputs": [
    {
     "name": "stdout",
     "output_type": "stream",
     "text": [
      "\n",
      "\n",
      "\n",
      "<ul>\n",
      "\n",
      "<li>name : tom</li>\n",
      "\n",
      "<li>age : 25</li>\n",
      "\n",
      "<li>designation : Manager</li>\n",
      "\n",
      "</ul>\n"
     ]
    }
   ],
   "source": [
    "text = '''\n",
    "{% set employee = { 'name': 'tom', 'age': 25, 'designation': 'Manager' } %}\n",
    "\n",
    "<ul>\n",
    "{% for key, value in employee.items() %}\n",
    "<li>{{ key }} : {{ value }}</li>\n",
    "{% endfor %}\n",
    "</ul>'''\n",
    "\n",
    "print(Template(text).render())"
   ]
  },
  {
   "cell_type": "markdown",
   "id": "6dbdabfd-46e3-4874-84cc-86284ee2f18c",
   "metadata": {},
   "source": [
    "### for..else..endfor - когда последовательность пустая\n",
    "\n",
    "else - в python и jinja условия попадания в часть else разные.\n",
    "\n",
    "* python: нет break\n",
    "* jinja: **пустая последовательность** "
   ]
  },
  {
   "cell_type": "code",
   "execution_count": 13,
   "id": "f8e0019f-ba6f-4cc7-98cb-65768b077bee",
   "metadata": {},
   "outputs": [
    {
     "name": "stdout",
     "output_type": "stream",
     "text": [
      "\n",
      "\n",
      "\n",
      "<ul>\n",
      "\n",
      "    <li>user_list is empty</li>\n",
      "\n",
      "</ul>\n"
     ]
    }
   ],
   "source": [
    "text = '''\n",
    "{% set user_list = [] %}\n",
    "\n",
    "<ul>\n",
    "{% for user in user_list %}\n",
    "    <li>{{ user }}</li>\n",
    "{% else %}\n",
    "    <li>user_list is empty</li>\n",
    "{% endfor %}\n",
    "</ul>'''\n",
    "\n",
    "print(Template(text).render())"
   ]
  },
  {
   "cell_type": "markdown",
   "id": "f085157d-fa0b-428e-a3a8-b8ba6e982726",
   "metadata": {},
   "source": [
    "Вложенные циклы можно написать."
   ]
  },
  {
   "cell_type": "markdown",
   "id": "bb5de948-dfec-44ec-9392-54ace510fd37",
   "metadata": {},
   "source": [
    "### Переменная loop\n",
    "\n",
    "Специальная переменная для отслеживания прогресса цикла."
   ]
  },
  {
   "cell_type": "code",
   "execution_count": 22,
   "id": "8e0b4913-b0ed-4b94-a88d-f15bb8152a03",
   "metadata": {},
   "outputs": [
    {
     "name": "stdout",
     "output_type": "stream",
     "text": [
      "\n",
      "\n",
      "\n",
      "<ul>\n",
      "\n",
      "    <li>1 - Alex</li>\n",
      "\n",
      "    <li>2 - Bob</li>\n",
      "\n",
      "    <li>3 - Charley</li>\n",
      "\n",
      "</ul>\n"
     ]
    }
   ],
   "source": [
    "text = '''\n",
    "{% set user_list = ['Alex', 'Bob', 'Charley'] %}\n",
    "\n",
    "<ul>\n",
    "{% for user in user_list %}\n",
    "    <li>{{ loop.index }} - {{ user }}</li>\n",
    "{% endfor %}\n",
    "</ul>'''\n",
    "\n",
    "print(Template(text).render())"
   ]
  },
  {
   "cell_type": "markdown",
   "id": "7bfdd7e7-3bf2-4795-b940-284e835db5c6",
   "metadata": {},
   "source": [
    "| Метод | Значение |\n",
    "|----|----|\n",
    "| loop.index | Счетчик итерации цикла, **начинается с 1** |\n",
    "| loop.index0 | Счетчик итерации цикла, **начинается с 0** |\n",
    "| loop.revindex | Номер итерации цикла с конца, **начинается с 1** |\n",
    "| loop.revindex0 | Номер итерации цикла с конца, **начинается с 0** |\n",
    "| loop.first | True, если первая итерация, иначе False |\n",
    "| loop.last | True, если последняя итерация, иначе False |\n",
    "| loop.length | возвращает длину цикла(количество итераций) |\n",
    "\n",
    "Больше переменных в [документации](https://jinja.palletsprojects.com/en/3.0.x/templates/#for)\n"
   ]
  },
  {
   "cell_type": "markdown",
   "id": "355c46e6-e929-470e-bc91-a1e8631fc1cf",
   "metadata": {},
   "source": [
    "## Фильтры\n",
    "\n",
    "Функции, которые применяются к данным. Их можно применять цепочкой один за другим.\n",
    "\n",
    "`variable_or_value|filter_name`\n",
    "\n",
    "Применить к переменной comment функцию title (это str.title)"
   ]
  },
  {
   "cell_type": "raw",
   "id": "d89bc3c1-aa5e-45f8-a503-4b23ea244af5",
   "metadata": {},
   "source": [
    "{{ comment|title }}"
   ]
  },
  {
   "cell_type": "markdown",
   "id": "13663462-25a3-411c-8c59-49c010f3a8ce",
   "metadata": {},
   "source": [
    "Сначала  striptags (удалить все html теги), потом title."
   ]
  },
  {
   "cell_type": "raw",
   "id": "fb96cd0e-a298-410f-9be4-e6a1bdc4e3dc",
   "metadata": {},
   "source": [
    "{{ full_name|striptags|title }}"
   ]
  },
  {
   "cell_type": "markdown",
   "id": "7a41ca1e-8923-4a93-b5bf-cb0701c92816",
   "metadata": {},
   "source": [
    "Фильтры с аргументами, округлим числа до 2 десятичных знаков после запятой."
   ]
  },
  {
   "cell_type": "raw",
   "id": "44b7b217-1397-4603-8507-7cd319c366ee",
   "metadata": {},
   "source": [
    "{{ number|round(2) }}"
   ]
  },
  {
   "cell_type": "markdown",
   "id": "78d1a002-e1cb-4db7-9982-1255fa380b6b",
   "metadata": {},
   "source": [
    "| Фильтр | Что делает |\n",
    "|----|----|\n",
    "| upper | Все символы в верхнем регистре |\n",
    "| lower | Все символы в нижнем регистре |\n",
    "| capitalize | делает заглавной первую букву и приводит остальные к нижнему регистру |\n",
    "| escape |  экранирует значение |\n",
    "| safe | предотвращает экранирование |\n",
    "| length | возвращает количество элементов в последовательности |\n",
    "| trim | удаляет пустые символы в начале и в конце |\n",
    "| random | возвращает случайный элемент последовательности |ости"
   ]
  },
  {
   "cell_type": "markdown",
   "id": "5fa12797-da04-4a17-bd88-58f4104ca2ff",
   "metadata": {},
   "source": [
    "[Документация](https://jinja.pocoo.org/docs/2.10/templates/#list-of-builtin-filters)"
   ]
  },
  {
   "cell_type": "markdown",
   "id": "35bc38a6-cb0d-4704-a2be-9bb103bf0c6d",
   "metadata": {},
   "source": [
    "## Макросы\n",
    "\n",
    "* Похожи на функции в python.\n",
    "* Определение макроса должно быть до первого вызова.\n",
    "* Обычно макросы хранят в отдельном шаблоне и импортируют, когда нужны.\n",
    "\n",
    "Макрос с обязательным аргументом `post_list` и необязательным `sep`:"
   ]
  },
  {
   "cell_type": "raw",
   "id": "9d97a36b-bfb7-4374-955d-27c2bd321f22",
   "metadata": {},
   "source": [
    "{% macro render_posts(post_list, sep=False) %}\n",
    "    <div>\n",
    "        {% for post in post_list %}\n",
    "            <h2>{{ post.title }}</h2>\n",
    "            <article>\n",
    "                {{ post.html|safe }}\n",
    "            </article>\n",
    "        {% endfor %}\n",
    "        {% if sep %}<hr>{% endif %}\n",
    "    </div>\n",
    "{% endmacro %}"
   ]
  },
  {
   "cell_type": "markdown",
   "id": "b188981e-0715-447a-a988-9e75df6c61d4",
   "metadata": {},
   "source": [
    "Вызов макроса:"
   ]
  },
  {
   "cell_type": "raw",
   "id": "6d9046cb-4880-4f54-88cc-c717c4107206",
   "metadata": {},
   "source": [
    "{{ render_posts(posts) }}"
   ]
  },
  {
   "cell_type": "markdown",
   "id": "77098876-ed10-4a05-b900-7abbaa3e72df",
   "metadata": {},
   "source": [
    "Если сохранили в отдельном файле `macros.html` и импортируем, то импорт и вызов так:"
   ]
  },
  {
   "cell_type": "raw",
   "id": "598b6b92-e45c-407b-9b42-0e51ca875762",
   "metadata": {},
   "source": [
    "{% import \"macros.html\" as  macros %}\n",
    "{{ macros.render_posts(posts) }}"
   ]
  },
  {
   "cell_type": "markdown",
   "id": "eaf64236-d67a-40d9-9b42-b5cae8b5e818",
   "metadata": {},
   "source": [
    "или с `from`"
   ]
  },
  {
   "cell_type": "raw",
   "id": "dcf907f3-b0e4-4c06-8a38-8c17464be06d",
   "metadata": {},
   "source": [
    "{% from \"macros.html\" import render_posts %}\n",
    "{{ render_posts(posts) }}"
   ]
  },
  {
   "cell_type": "markdown",
   "id": "ae1c4c57-24cb-4f28-9c0c-5817f3cadf08",
   "metadata": {},
   "source": [
    "### varags и kwargs\n",
    "\n",
    "Аналогично **args** и **kwargs** в python, в jinja можно передавать произвольное количество позиционных и именованных аргументов с помощью **varags** и **kwargs**\n",
    "\n",
    "**В аргументах макроса их определять не нужно, они всегда там есть.**\n",
    "\n",
    "Дополнительный позиционный аргумент, \"apple\", присваивается varargs, а дополнительные аргументы-ключевые слова (name='spike', age=15) в kwargs."
   ]
  },
  {
   "cell_type": "raw",
   "id": "b12b506a-86d3-427e-afe9-005c3273cbcf",
   "metadata": {},
   "source": [
    "{% macro custom_renderer(para) %}\n",
    "    <p>{{ para }}</p>\n",
    "    <p>varargs: {{ varargs }}</p>\n",
    "    <p>kwargs: {{ kwargs }}</p>\n",
    "{%  endmacro  %}\n",
    "\n",
    "{{ custom_renderer(\"some content\", \"apple\", name='spike', age=15) }}"
   ]
  },
  {
   "cell_type": "code",
   "execution_count": 7,
   "id": "da281a68-8872-412f-9384-ac1a12963ae1",
   "metadata": {},
   "outputs": [
    {
     "name": "stdout",
     "output_type": "stream",
     "text": [
      "\n",
      "\n",
      "\n",
      "\n",
      "    <p>some content</p>\n",
      "    <p>varargs: ('apple',)</p>\n",
      "    <p>kwargs: {'name': 'spike', 'age': 15}</p>\n",
      "\n"
     ]
    }
   ],
   "source": [
    "text = '''\n",
    "{% macro custom_renderer(para) %}\n",
    "    <p>{{ para }}</p>\n",
    "    <p>varargs: {{ varargs }}</p>\n",
    "    <p>kwargs: {{ kwargs }}</p>\n",
    "{%  endmacro  %}\n",
    "\n",
    "{{ custom_renderer(\"some content\", \"apple\", name='spike', age=15) }}\n",
    "'''\n",
    "\n",
    "print(Template(text).render())"
   ]
  },
  {
   "cell_type": "markdown",
   "id": "8a01f60d-038f-4356-88e8-5e6ae24caffc",
   "metadata": {},
   "source": [
    "## Экранирование\n",
    "\n",
    "Символы < и > заменяются на &lt; и &gt; и прочие замены [html символов](https://www.toptal.com/designers/htmlarrows/symbols/)"
   ]
  },
  {
   "cell_type": "code",
   "execution_count": 14,
   "id": "9295e184-e4df-4535-a154-5fa5cd652e08",
   "metadata": {},
   "outputs": [
    {
     "data": {
      "text/plain": [
       "\"<a>Today's is a sunny day</a>\""
      ]
     },
     "execution_count": 14,
     "metadata": {},
     "output_type": "execute_result"
    }
   ],
   "source": [
    "data = \"<a>Today's is a sunny day</a>\"\n",
    "\n",
    "Template(\"{{ data }}\").render(data=data)"
   ]
  },
  {
   "cell_type": "code",
   "execution_count": 29,
   "id": "6bea4e17-c45b-4b5d-b2c7-87a169099da6",
   "metadata": {},
   "outputs": [
    {
     "data": {
      "text/plain": [
       "'&lt;a&gt;Today is a sunny day&lt;/a&gt;'"
      ]
     },
     "execution_count": 29,
     "metadata": {},
     "output_type": "execute_result"
    }
   ],
   "source": [
    "data = '<a>Today is a sunny day</a>'\n",
    "\n",
    "Template(\"{{ data | escape }}\").render(data=data)"
   ]
  },
  {
   "cell_type": "code",
   "execution_count": 30,
   "id": "af675755-5f73-4286-991d-6de7eb005b02",
   "metadata": {},
   "outputs": [
    {
     "data": {
      "text/plain": [
       "'<a>Today is a sunny day</a>'"
      ]
     },
     "execution_count": 30,
     "metadata": {},
     "output_type": "execute_result"
    }
   ],
   "source": [
    "data = '<a>Today is a sunny day</a>'\n",
    "\n",
    "Template(\"{{ data | safe }}\").render(data=data)"
   ]
  },
  {
   "cell_type": "markdown",
   "id": "bfc5aee2-055b-4229-a793-ad9416597d7e",
   "metadata": {},
   "source": [
    "Если кода много, используйте оператор `autoescape`, он принимает значения `true` и `false` "
   ]
  },
  {
   "cell_type": "raw",
   "id": "ccaf88cf-984d-47a4-a007-a12fd8a84bf8",
   "metadata": {},
   "source": [
    "{% autoescape true %}\n",
    "    Escaping enabled\n",
    "{% endautoescape %}\n",
    "\n",
    "{% autoescape false %}\n",
    "    Escaping disabled\n",
    "{% endautoescape %}"
   ]
  },
  {
   "cell_type": "markdown",
   "id": "3a606edf-c07d-4b64-a29a-94aeaab6bca5",
   "metadata": {},
   "source": [
    "Можно экранировать отдельные части кода, совмещая оператор autoescape и фильтр escape:"
   ]
  },
  {
   "cell_type": "raw",
   "id": "3ce792df-c89a-42ed-a981-cffeadd2f9ee",
   "metadata": {},
   "source": [
    "{% autoescape false %}\n",
    "    <div class=\"post\">\n",
    "        {% for post in post_list %}\n",
    "            <h2>{{ post.title }}</h2>\n",
    "            <article>\n",
    "                {{ post.html }}\n",
    "            </article>\n",
    "        {% endfor %}\n",
    "    </div>\n",
    "    <div>\n",
    "        {% for comment in comment_list %}\n",
    "            <p>{{ comment|escape }}</p> # escaping is on for comments\n",
    "        {% endfor %}\n",
    "    </div>\n",
    "{% endautoescape %}"
   ]
  },
  {
   "cell_type": "markdown",
   "id": "7b83fb68-6445-437c-b73b-f94744e1449d",
   "metadata": {},
   "source": [
    "## Вложенные шаблоны\n",
    "\n",
    "**include** - рендерит шаблон внутри другого шаблона (не путать с макросами!)\n",
    "\n",
    "Есть раздел, который повторяется в разных местах сайта. Лежит в `templates/nav.html`"
   ]
  },
  {
   "cell_type": "raw",
   "id": "9f9bd179-840e-4226-a056-96c7fd52c7af",
   "metadata": {},
   "source": [
    "<nav>\n",
    "    <a href=\"/home\">Home</a>\n",
    "    <a href=\"/blog\">Blog</a>\n",
    "    <a href=\"/contact\">Contact</a>\n",
    "</nav>"
   ]
  },
  {
   "cell_type": "markdown",
   "id": "2c2df003-65c2-4747-a626-776b6fbde969",
   "metadata": {},
   "source": [
    "Добавим содержимое этого шаблона в `home.html`:"
   ]
  },
  {
   "cell_type": "raw",
   "id": "406d774e-06a3-456e-8a0f-1f35d2f109bb",
   "metadata": {},
   "source": [
    "<!DOCTYPE html>\n",
    "<html lang=\"en\">\n",
    "<head>\n",
    "    <meta charset=\"UTF-8\">\n",
    "    <title>Title</title>\n",
    "</head>\n",
    "<body>\n",
    "\n",
    "    {# добавляем панель навигации из nav.html #}\n",
    "    {% include 'nav.html' %}\n",
    "\n",
    "</body>\n",
    "</html>"
   ]
  },
  {
   "cell_type": "markdown",
   "id": "abe40e5d-c6d7-462f-9aa6-1ff4cd09db98",
   "metadata": {},
   "source": [
    "получим"
   ]
  },
  {
   "cell_type": "raw",
   "id": "1d2dedd5-7976-4bba-8cf3-6590cf51c6f0",
   "metadata": {},
   "source": [
    "<!DOCTYPE html>\n",
    "<html lang=\"en\">\n",
    "<head>\n",
    "    <meta charset=\"UTF-8\">\n",
    "    <title>Title</title>\n",
    "</head>\n",
    "<body>\n",
    "\n",
    "<nav>\n",
    "    <a href=\"/home\">Home</a>\n",
    "    <a href=\"/blog\">Blog</a>\n",
    "    <a href=\"/contact\">Contact</a>\n",
    "</nav>\n",
    "\n",
    "</body>\n",
    "</html>"
   ]
  },
  {
   "cell_type": "markdown",
   "id": "eb3fc03b-65ab-4e21-bae8-8e5126ceac26",
   "metadata": {},
   "source": [
    "## Наследование шаблонов\n",
    "\n",
    "Похоже на наследование классов, те же принципы ООП."
   ]
  },
  {
   "cell_type": "markdown",
   "id": "0223ccdd-1868-457d-81d0-0a037ae8d92d",
   "metadata": {},
   "source": [
    "**Базовый шаблон** содержит в себе скелет html и отдельные **маркеры**, которые дочерние шаблоны будут переопределять.\n",
    "\n",
    "* **block** .. **endblock** - инструкция создания маркера.\n",
    "    * аргумент - имя блока (маркер) - должно быть уникальным в рамках шаблона.\n",
    "* **extends** - расширение (наследование) основного шаблона.\n",
    "\n",
    "Базовый шаблон в файле templates/base.html с блоками title, nav, content (сейчас пуст)."
   ]
  },
  {
   "cell_type": "raw",
   "id": "74ca33ff-2a72-4060-89e1-2f0a84c3bde6",
   "metadata": {},
   "source": [
    "{# Это шаблон templates/base.html #}\n",
    "<!DOCTYPE html>\n",
    "<html lang=\"en\">\n",
    "<head>\n",
    "    <meta charset=\"UTF-8\">\n",
    "    <title>{% block title %}Default Title{% endblock %}</title>\n",
    "</head>\n",
    "<body>\n",
    "\n",
    "    {% block nav %}\n",
    "        <ul>\n",
    "            <li><a href=\"/home\">Home</a></li>\n",
    "            <li><a href=\"/api\">API</a></li>\n",
    "        </ul>\n",
    "    {% endblock %}\n",
    "    \n",
    "    {% block content %}\n",
    "    \n",
    "    {% endblock %}\n",
    "</body>\n",
    "</html>"
   ]
  },
  {
   "cell_type": "markdown",
   "id": "10e1c7fa-5dd3-4c9c-818b-96b62e8eed4c",
   "metadata": {},
   "source": [
    "**Дочерний шаблон** - расширяет базовый шаблон.\n",
    "\n",
    "* extends:\n",
    "    * загружается базовый шаблон, то есть base.html,\n",
    "    * затем блоки заменяются на описанные в дочернем шаблоне,\n",
    "    * если блок в дочернем шаблоне не найден, остается блок из базового шаблона.\n",
    " \n",
    "То есть блоки title и nav остаются, блок content переписывается."
   ]
  },
  {
   "cell_type": "raw",
   "id": "96eeb3af-e7a2-4b23-a0d1-befadf9e0e88",
   "metadata": {},
   "source": [
    "{# Это шаблон templates/child.html #}\n",
    "{% extends 'base.html' %}\n",
    "\n",
    "\n",
    "{% block content %}\n",
    "    {% for bookmark in bookmarks %}\n",
    "        <p>{{ bookmark.title }}</p>\n",
    "    {% endfor %}\n",
    "{% endblock %}"
   ]
  },
  {
   "cell_type": "markdown",
   "id": "5b271f78-089a-4e6b-87ca-eb8cd38676a2",
   "metadata": {},
   "source": [
    "получим"
   ]
  },
  {
   "cell_type": "raw",
   "id": "08b15571-cf65-4ff6-9f1f-5adbdeef0204",
   "metadata": {},
   "source": [
    "<!DOCTYPE html>\n",
    "<head>\n",
    "    <meta charset=\"UTF-8\">\n",
    "    <title>Default Title</title>\n",
    "</head>\n",
    "<body>\n",
    "\n",
    "    <ul>\n",
    "        <li><a href=\"/home\">Home</a></li>\n",
    "        <li><a href=\"/api\">API</a></li>\n",
    "    </ul>\n",
    "\n",
    "    <p>Bookmark title 1</p>\n",
    "    <p>Bookmark title 2</p>\n",
    "    <p>Bookmark title 3</p>\n",
    "    <p>Bookmark title 4</p>\n",
    "\n",
    "\n",
    "</body>\n",
    "</html>"
   ]
  },
  {
   "cell_type": "markdown",
   "id": "b7754c58-0d3b-4993-a0be-b7b889958531",
   "metadata": {},
   "source": [
    "Можем переписать два блока, title и contents:"
   ]
  },
  {
   "cell_type": "raw",
   "id": "ec4ef0ac-3fa5-4aa1-bdc2-a525f00ea19d",
   "metadata": {},
   "source": [
    "{# Это шаблон templates/child.html #}\n",
    "{% extends 'base.html' %}\n",
    "\n",
    "{% block title %}\n",
    "    Child Title\n",
    "{% endblock %}\n",
    "\n",
    "{% block content %}\n",
    "    {% for bookmark in bookmarks %}\n",
    "        <p>{{ bookmark.title }}</p>\n",
    "    {% endfor %}\n",
    "{% endblock %}"
   ]
  },
  {
   "cell_type": "markdown",
   "id": "404979f4-eeeb-45ec-bac1-945eb5127506",
   "metadata": {},
   "source": [
    "### super() - взяли содержимое этого блока базового шаблона\n",
    "\n",
    "Оставим пункты блока навигации, добавив к ним новые пункты с помощью super."
   ]
  },
  {
   "cell_type": "raw",
   "id": "43de2dc4-8334-4a1b-b212-7afe9d2fcba9",
   "metadata": {},
   "source": [
    "{# Это шаблон templates/child.html #}\r\n",
    "{% extends 'base.html' %}\r\n",
    "\r\n",
    "{% block title %}\r\n",
    "    Child Title\r\n",
    "{% endblock %}\r\n",
    "\r\n",
    "{% block nav %}\r\n",
    "    {{ super() }} {# referring to the content in the parent templates #}\r\n",
    "    <li><a href=\"/contact\">Contact</a></li>\r\n",
    "    <li><a href=\"/career\">Career</a></li>\r\n",
    "{% endblock %}\r\n",
    "\r\n",
    "{% block content %}\r\n",
    "    {% for bookmark in bookmarks %}\r\n",
    "        <p>{{ bookmark.title }}</p>\r\n",
    "    {% endfor %}\r\n",
    "{% endblock %}"
   ]
  },
  {
   "cell_type": "markdown",
   "id": "6b95f003-dab8-4c65-8cd8-a9000e8144c9",
   "metadata": {},
   "source": [
    "получим:"
   ]
  },
  {
   "cell_type": "raw",
   "id": "ecd4bad6-f9b7-4080-a15c-8a89c3e6ce09",
   "metadata": {},
   "source": [
    "<!DOCTYPE html>\n",
    "<head>\n",
    "    <meta charset=\"UTF-8\">\n",
    "    <title>Child Title</title>\n",
    "</head>\n",
    "<body>\n",
    "\n",
    "    <ul>\n",
    "        <li><a href=\"/home\">Home</a></li>\n",
    "        <li><a href=\"/api\">API</a></li>\n",
    "        <li><a href=\"/contact\">Contact</a></li>\n",
    "        <li><a href=\"/career\">Career</a></li>\n",
    "    </ul>\n",
    "\n",
    "    <p>Bookmark title 1</p>\n",
    "    <p>Bookmark title 2</p>\n",
    "    <p>Bookmark title 3</p>\n",
    "    <p>Bookmark title 4</p>\n",
    "\n",
    "\n",
    "</body>\n",
    "</html>"
   ]
  },
  {
   "cell_type": "markdown",
   "id": "931450a7-f916-46a2-bef3-4167c40affee",
   "metadata": {},
   "source": [
    "# Заключение"
   ]
  },
  {
   "cell_type": "markdown",
   "id": "86e39c18-3d8d-4b35-9672-20909a55a9ac",
   "metadata": {},
   "source": [
    "* Добивайтесь равновесия между \"закодить в python\" и \"закодить в шаблонах\".\n",
    "* Ищите примеры шаблонов.\n",
    "    * https://github.com/tatyderb/ejudge_tools/blob/master/ej_plot_contest/jinja_templates/result_table_template.html"
   ]
  },
  {
   "cell_type": "code",
   "execution_count": null,
   "id": "94b779e5-3a90-45d3-9ed7-1067d998024c",
   "metadata": {},
   "outputs": [],
   "source": []
  }
 ],
 "metadata": {
  "kernelspec": {
   "display_name": "Python 3 (ipykernel)",
   "language": "python",
   "name": "python3"
  },
  "language_info": {
   "codemirror_mode": {
    "name": "ipython",
    "version": 3
   },
   "file_extension": ".py",
   "mimetype": "text/x-python",
   "name": "python",
   "nbconvert_exporter": "python",
   "pygments_lexer": "ipython3",
   "version": "3.10.2"
  }
 },
 "nbformat": 4,
 "nbformat_minor": 5
}
