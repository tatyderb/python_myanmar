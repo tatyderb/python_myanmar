{
 "cells": [
  {
   "cell_type": "markdown",
   "id": "9d0b899c-b1c5-435a-8b7a-7133bd0efbec",
   "metadata": {},
   "source": [
    "# Классы и объекты"
   ]
  },
  {
   "cell_type": "markdown",
   "id": "94370ffd-aad3-4292-9b32-267ed8a66d4d",
   "metadata": {},
   "source": [
    "`area(1, 2, 3, 4, 5, 6)` - функция считает площадь треугольника по координатам его вершин.\n",
    "\n",
    "* Легко запутаться где х, где y и перемешать аргументы для разных точек.\n",
    "* Лучше `area(p1, p2, p3)` - указывать вершины как точки\n",
    "* Ещё лучше `area(triangle)` или `triangle.area()`\n",
    "\n",
    "Цель урока - научиться компактному хранению данных и функций для работы с ними."
   ]
  },
  {
   "cell_type": "markdown",
   "id": "d438fbfa-c85a-4f66-a6b3-f61defd25354",
   "metadata": {},
   "source": [
    "## Класс - тип данных\n",
    "\n",
    "Данные и функции для работы с ними. Строка - много символов (данные) и функции для работы с ними, например, `split()`. Объединение данных и функций для работы с ними в единое целое называют **объектно-ориентированный подход (ООП)**. Тип данных называют **класс**.\n",
    "\n",
    "В питоне для объединения данных используются объекты. Считайте, что объект - эта такая сумка с именем, в которую можно положить разные переменные (атрибуты) и обращаться к ним через синтаксис \"точка\" `сумка.атрибут` через объект (сумку) и атрибут (переменная в этой сумке).\n",
    "\n",
    "В python все данные являются объектами, а все типы - классами. 7, 3.14, 'hello'\n",
    "\n",
    "### Определение класса и объекта\n",
    "\n",
    "**Объект** или **экземпляр класса** - это одна конкретная сумка. **Класс** - это описание похожих сумок. Синтаксически выглядит так:\n",
    "```python\n",
    "class ИмяКласса:\n",
    "    тело_класса\n",
    "```\n",
    "\n",
    "* специальное слово **class**\n",
    "* имя класса (принято писать с большой буквы, придумаем имя сами)\n",
    "* `:`\n",
    "* тело класса, что в классе содержится, пишем с отступом в 1 табуляцию\n",
    "    * в пустом классе содержимое - специальное слово **pass**\n"
   ]
  },
  {
   "cell_type": "code",
   "execution_count": 4,
   "id": "ae85da68-f588-49ae-a3e3-273f5abaed4d",
   "metadata": {},
   "outputs": [],
   "source": [
    "class Bag:\n",
    "    \"\"\" Описание класса разных сумок.\"\"\"\n",
    "    pass"
   ]
  },
  {
   "cell_type": "code",
   "execution_count": 11,
   "id": "76bac4dd-5f70-44c8-810d-7f87aa1bf166",
   "metadata": {},
   "outputs": [],
   "source": [
    "# создаем объекты типа Bag\n",
    "b = Bag()        # переменная b ссылается на объект класса Bag\n",
    "mybag = Bag()\n",
    "other = Bag()"
   ]
  },
  {
   "cell_type": "markdown",
   "id": "c2662145-ede8-48ba-b65d-d17cbd68a4d7",
   "metadata": {},
   "source": [
    "![image](https://raw.githubusercontent.com/tatyderb/python_myanmar/master/_pisch_1_basics/OOP/img/object.png)"
   ]
  },
  {
   "cell_type": "code",
   "execution_count": 9,
   "id": "e3785f6a-fcad-4559-ad8b-c0ddb52a3333",
   "metadata": {},
   "outputs": [
    {
     "data": {
      "text/plain": [
       "__main__.Bag"
      ]
     },
     "execution_count": 9,
     "metadata": {},
     "output_type": "execute_result"
    }
   ],
   "source": [
    "type(mybag)"
   ]
  },
  {
   "cell_type": "markdown",
   "id": "ada5d1aa-33ae-49be-a3c4-24f42521f7a2",
   "metadata": {},
   "source": [
    "## Аттрибуты объектов"
   ]
  },
  {
   "cell_type": "code",
   "execution_count": 12,
   "id": "ce53ce10-4636-44b7-ac39-c988e1c80a27",
   "metadata": {},
   "outputs": [],
   "source": [
    "# начнем класть в наши сумки переменные (атрибуты):\n",
    "mybag.money = 100               # в объекте mybag теперь атрибут money со значением 100\n",
    "mybag.book = 'Python cookbook'  # в объекте mybag теперь атрибут money со значением 100 \n",
    "                                # и атрибут book со значением 'Python cookbook'\n",
    "                                \n",
    "other.money = 57                # в объекте other есть атрибут money со значением 57\n",
    "other.food = 'apple'            # в объекте other есть атрибут money со значением 57 "
   ]
  },
  {
   "cell_type": "markdown",
   "id": "8a8c8015-7772-4b14-b1b6-a4f26b6ee55b",
   "metadata": {},
   "source": [
    "Значения этих переменных (атрибутов) можно читать и изменять:"
   ]
  },
  {
   "cell_type": "code",
   "execution_count": 14,
   "id": "7139bc43-7d9e-472a-a5e5-c76d514d0059",
   "metadata": {},
   "outputs": [
    {
     "name": "stdout",
     "output_type": "stream",
     "text": [
      "100\n",
      "apple 57\n",
      "100 Общая физика\n"
     ]
    }
   ],
   "source": [
    "print(mybag.money)              # 100\n",
    "print(other.food, other.money)  # apple 57\n",
    "mybag.book = 'Общая физика'     # изменили значение атрибута\n",
    "print(mybag.money, mybag.book)  # 100 Общая физика"
   ]
  },
  {
   "cell_type": "markdown",
   "id": "642f0d74-1b38-4f46-9e84-929dbfa38921",
   "metadata": {},
   "source": [
    "Выражение `mybag.money` означает, что *иди к объекту, на который ссылается переменная `mybag` и получи значение `money`*\n",
    "\n",
    "![image](https://raw.githubusercontent.com/tatyderb/python_myanmar/master/_pisch_1_basics/OOP/img/object_bag.png)"
   ]
  },
  {
   "cell_type": "markdown",
   "id": "01a31a3e-7758-4fd9-a343-f109497db4e0",
   "metadata": {},
   "source": [
    "#### class Point"
   ]
  },
  {
   "cell_type": "code",
   "execution_count": 16,
   "id": "a491e427-8766-4857-aecb-d43276a185c2",
   "metadata": {},
   "outputs": [
    {
     "name": "stdout",
     "output_type": "stream",
     "text": [
      "0 0\n",
      "7 -2\n"
     ]
    }
   ],
   "source": [
    "class Point:\n",
    "    pass\n",
    "# тут объявление класса закончено, можно его использовать\n",
    "\n",
    "# использование класса:    \n",
    "zero = Point()      # объект описывает точку с координатами (0, 0)\n",
    "zero.x = 0\n",
    "zero.y = 0\n",
    "\n",
    "p = Point()         # объект описывает точку с координатами (10, -2)\n",
    "p.x = 10\n",
    "p.y = -2\n",
    "p.x = 7             # теперь описывает точку с координатами (7, -2)\n",
    "\n",
    "print(zero.x, zero.y)   # 0 0\n",
    "print(p.x, p.y)         # 7 -2"
   ]
  },
  {
   "cell_type": "code",
   "execution_count": 17,
   "id": "1eaa5e0e-e7c2-4587-8609-b0a7f64da4a3",
   "metadata": {},
   "outputs": [
    {
     "ename": "AttributeError",
     "evalue": "'Point' object has no attribute 'book'",
     "output_type": "error",
     "traceback": [
      "\u001b[1;31m---------------------------------------------------------------------------\u001b[0m",
      "\u001b[1;31mAttributeError\u001b[0m                            Traceback (most recent call last)",
      "Cell \u001b[1;32mIn[17], line 2\u001b[0m\n\u001b[0;32m      1\u001b[0m \u001b[38;5;66;03m# если обратиться к атрибуту, которого нет\u001b[39;00m\n\u001b[1;32m----> 2\u001b[0m \u001b[43mp\u001b[49m\u001b[38;5;241;43m.\u001b[39;49m\u001b[43mbook\u001b[49m\n",
      "\u001b[1;31mAttributeError\u001b[0m: 'Point' object has no attribute 'book'"
     ]
    }
   ],
   "source": [
    "# если обратиться к атрибуту, которого нет\n",
    "p.book"
   ]
  },
  {
   "cell_type": "markdown",
   "id": "09a96c92-c0f2-472e-8d52-f2b2c07b3d6a",
   "metadata": {},
   "source": [
    "#### class Segment1\n",
    "\n",
    "Определим класс `Segment1` - одномерный отрезок"
   ]
  },
  {
   "cell_type": "code",
   "execution_count": 18,
   "id": "a2ed63a8-8ea2-4ff0-8064-9323380ff786",
   "metadata": {},
   "outputs": [],
   "source": [
    "class Segment1:\n",
    "    pass"
   ]
  },
  {
   "cell_type": "markdown",
   "id": "78dacf94-9e58-4c78-9628-6bc6c68e475e",
   "metadata": {},
   "source": [
    "Создадим объект `a` класса `Segment1` (то есть отрезок)."
   ]
  },
  {
   "cell_type": "code",
   "execution_count": 20,
   "id": "13240a23-98b8-4578-b428-978628a684b7",
   "metadata": {},
   "outputs": [],
   "source": [
    "a = Segment1()  # переменная a ссылается на объект класса Segment1"
   ]
  },
  {
   "cell_type": "markdown",
   "id": "5aeca278-1ef7-4124-8877-c9ef18764e9f",
   "metadata": {},
   "source": [
    "У отрезка должно быть начало и конец. Назовем их `start` и `finish` (мы придумали такие названия). Это атрибуты данного объекта. Зададим их так, чтобы мы описывали отрезок от 2 до 10."
   ]
  },
  {
   "cell_type": "code",
   "execution_count": 21,
   "id": "80a062a2-e111-4051-a5bd-f42041ec9471",
   "metadata": {},
   "outputs": [],
   "source": [
    "a.start = 2\n",
    "a.finish = 10"
   ]
  },
  {
   "cell_type": "code",
   "execution_count": 23,
   "id": "a1b929c6-a97d-446d-9036-d432a5398826",
   "metadata": {},
   "outputs": [
    {
     "name": "stdout",
     "output_type": "stream",
     "text": [
      "2 10\n",
      "Отрезок a от 2 до 10\n"
     ]
    }
   ],
   "source": [
    "print(a.start, a.finish)    # 2 10\n",
    "print(f'Отрезок a от {a.start} до {a.finish}')"
   ]
  },
  {
   "cell_type": "markdown",
   "id": "f92f6052-6ff0-4470-9fb0-36111c482fce",
   "metadata": {},
   "source": [
    "Создадим еще один объект того же класса `Segment1` и запишем ссылку на него в переменную `b`. Зададим у него атрибуты `start` и `finish` так, чтобы они описывали отрезок от -5 до 1. Напечатаем эти значения."
   ]
  },
  {
   "cell_type": "code",
   "execution_count": 28,
   "id": "b58a8fba-83a5-48aa-8756-e6a2743d897c",
   "metadata": {},
   "outputs": [
    {
     "name": "stdout",
     "output_type": "stream",
     "text": [
      "Отрезок b от -5 до 1\n"
     ]
    }
   ],
   "source": [
    "b = Segment1()  # переменная b ссылается на объект класса Segment1\n",
    "b.start = -5\n",
    "b.finish = 1\n",
    "\n",
    "print(f'Отрезок b от {b.start} до {b.finish}')"
   ]
  },
  {
   "cell_type": "markdown",
   "id": "4ca71860-7523-4705-92d3-da4b4d910d2d",
   "metadata": {},
   "source": [
    "Атрибуты - это переменные. Они тоже ссылаются на данные (числа -5 и 1). Их значения можно менять."
   ]
  },
  {
   "cell_type": "code",
   "execution_count": 29,
   "id": "47bcaafb-db84-49d2-8b67-1c735350bcd3",
   "metadata": {},
   "outputs": [
    {
     "name": "stdout",
     "output_type": "stream",
     "text": [
      "Отрезок b от -4 до 6\n"
     ]
    }
   ],
   "source": [
    "b.finish = 6    # теперь это отрезок от -5 до 6\n",
    "b.start += 1    # теперь это отрезок от -4 до 6\n",
    "\n",
    "print(f'Отрезок b от {b.start} до {b.finish}')"
   ]
  },
  {
   "cell_type": "markdown",
   "id": "81360e1f-1494-48cf-a4ec-4fad9de2d5a9",
   "metadata": {},
   "source": [
    "![image](https://raw.githubusercontent.com/tatyderb/python_myanmar/master/_pisch_1_basics/OOP/img/segment1.png)"
   ]
  },
  {
   "cell_type": "markdown",
   "id": "9041b514-0564-4eb2-85b2-8263baa75182",
   "metadata": {},
   "source": [
    "## Методы объектов\n",
    "\n",
    "Чтобы действия с данными не были оторваны от данных, можно добавить в класс функцию.\n",
    "\n",
    "Напишем обычную функцию (вне класса), которая вычисляет длину отрезка:"
   ]
  },
  {
   "cell_type": "code",
   "execution_count": 31,
   "id": "fbbcbc69-eb4f-4554-bec1-4a0b51b60ede",
   "metadata": {},
   "outputs": [
    {
     "name": "stdout",
     "output_type": "stream",
     "text": [
      "Отрезок a от 2 до 10 длиной 8\n",
      "Отрезок b от -4 до 6 длиной 10\n"
     ]
    }
   ],
   "source": [
    "def length(seg):\n",
    "    \"\"\" Возвращает длину отрезка seg. \"\"\"\n",
    "    d = seg.finish - seg.start\n",
    "    return d\n",
    "    \n",
    "# вызовем эту функцию для объектов, на которые ссылаются переменные a и b\n",
    "d = length(a)\n",
    "print(f'Отрезок a от {a.start} до {a.finish} длиной {d}')   # Отрезок a от 2 до 10 длиной 8\n",
    "\n",
    "d = length(b)\n",
    "print(f'Отрезок b от {b.start} до {b.finish} длиной {d}')   # Отрезок b от -4 до 6 длиной 10"
   ]
  },
  {
   "cell_type": "markdown",
   "id": "5fb11b10-db69-4404-8204-cb2814053f19",
   "metadata": {},
   "source": [
    "Перенесем эту функцию внутрь класса `Segment1` и вызовем ее по полному имени (имя класса и имя функции в нем). *Предупреждение: данный синтаксис может привести к крикам \"так никто не пишет!!!\" у знатоков питона. Подождите чуть-чуть и мы перепишем этот фрагмент привычным образом.*\n",
    "\n",
    "**Функции внутри класса пишут с дополнительным отступом, чтобы интерпретатор понял, что этот код принадлежит классу.**"
   ]
  },
  {
   "cell_type": "code",
   "execution_count": 32,
   "id": "7acd708a-ccf5-413e-8d93-ac7216cc2556",
   "metadata": {},
   "outputs": [
    {
     "name": "stdout",
     "output_type": "stream",
     "text": [
      "Отрезок a от 2 до 10 длиной 8\n"
     ]
    }
   ],
   "source": [
    "class Segment1:\n",
    "    \"\"\" Одномерный отрезок. \"\"\"\n",
    "    def length(seg):\n",
    "        \"\"\" Возвращает длину отрезка seg. \"\"\"\n",
    "        d = seg.finish - seg.start\n",
    "        return d\n",
    "# тут объявление класса закончено, можно его использовать\n",
    "\n",
    "# использование класса:    \n",
    "a = Segment1()\n",
    "a.start = 2\n",
    "a.finish = 10\n",
    "\n",
    "d = Segment1.length(a)\n",
    "print(f'Отрезок a от {a.start} до {a.finish} длиной {d}')   # Отрезок a от 2 до 10 длиной 8"
   ]
  },
  {
   "cell_type": "markdown",
   "id": "4e8c1fa5-d7c1-44a9-8882-faa92e26a5ec",
   "metadata": {},
   "source": [
    "Этот код работает. Но его можно записать короче, через синтаксис с точкой. `переменная.метод()`\n",
    "\n",
    "Вместо\n",
    "```python\n",
    "d = Segment1.length(a)\n",
    "```\n",
    "Напишем\n",
    "```python\n",
    "d = a.length()\n",
    "```\n",
    "Так как переменная `a` ссылается на объект класса `Segment1`, то вызовется функция `length` этого класса. Чтобы не писать дважды одну и ту же ссылку, первый аргумент функции (ссылку на ЭТОТ объект) при **вызове** не пишут. Потому что мы написали ее раньше. Вызовется функция именно для этого объекта, на который ссылается `a`. То есть у объекта есть и атрибуты `start` и `finish` и функция `length`.\n",
    "\n",
    "**Функция, определенная внутри класса, называется методом.** Далее мы будем употреблять то слово \"метод\", то \"функция\".\n",
    "\n",
    "Уже работали с методами объектов `text.split()`"
   ]
  },
  {
   "cell_type": "markdown",
   "id": "1fb96066-8e16-47b2-a57d-1be9ecc42ca2",
   "metadata": {},
   "source": [
    "### self - ссылка на сам объект\n",
    "\n",
    "**Первым аргументом метода объекта должна быть ссылка на этот объект.** \n",
    "\n",
    "Принято параметр для этой ссылки называть **self** (ссылка на ЭТОТ объект). Мы в методе `length` назвали этот параметр `seg`. Как видите, синтаксически это корректная запись, но **все программисты используют название self**. "
   ]
  },
  {
   "cell_type": "code",
   "execution_count": 33,
   "id": "1bd919eb-80ce-485c-a106-1ddcb5f1ff11",
   "metadata": {},
   "outputs": [
    {
     "name": "stdout",
     "output_type": "stream",
     "text": [
      "Отрезок a от 2 до 10 длиной 8\n",
      "Отрезок a от 2 до 10 длиной 8\n"
     ]
    }
   ],
   "source": [
    "class Segment1:\n",
    "    \"\"\" Одномерный отрезок. \"\"\"\n",
    "    \n",
    "    def length(self):\n",
    "        \"\"\" Возвращает длину отрезка. \"\"\"\n",
    "        return self.finish - self.start\n",
    "       \n",
    "a = Segment1()\n",
    "a.start = 2\n",
    "a.finish = 10\n",
    "\n",
    "d = a.length()\n",
    "print(f'Отрезок a от {a.start} до {a.finish} длиной {d}')   # Отрезок a от 2 до 10 длиной 8\n",
    "\n",
    "print(f'Отрезок a от {a.start} до {a.finish} длиной {a.length()}')   # Отрезок a от 2 до 10 длиной 8"
   ]
  },
  {
   "cell_type": "markdown",
   "id": "69c943a5-12b1-4d13-a8de-d998561fe6af",
   "metadata": {},
   "source": [
    "### Вызов другого метода того же объекта\n",
    "\n",
    "*Предупреждение: функция `info` приведена как пример вызова одного метода из другого. Такую функциональность в классе делают по-другому. О правильной реализации позже.*\n",
    "\n",
    "Допишем в класс `Segment1` метод, который *печатает* всю информацию об отрезке: координату начала, координату конца и длину отрезка. Назовем этот метод `info`:\n"
   ]
  },
  {
   "cell_type": "code",
   "execution_count": 34,
   "id": "b95f8ed5-75fb-47f0-ae5c-d85c43971789",
   "metadata": {},
   "outputs": [
    {
     "name": "stdout",
     "output_type": "stream",
     "text": [
      "Отрезок от 2 до 10 длиной 8\n"
     ]
    }
   ],
   "source": [
    "class Segment1:\n",
    "    \"\"\" Одномерный отрезок. \"\"\"\n",
    "    \n",
    "    def length(self):\n",
    "        \"\"\" Возвращает длину отрезка. \"\"\"\n",
    "        return self.finish - self.start\n",
    "        \n",
    "    def info(self):\n",
    "        \"\"\" Печатает информацию об отрезке \"\"\"\n",
    "        d = self.length()   # вызвали метод вычисления длины ЭТОГО объекта\n",
    "        print(f'Отрезок от {self.start} до {self.finish} длиной {d}')\n",
    "       \n",
    "a = Segment1()\n",
    "a.start = 2\n",
    "a.finish = 10\n",
    "\n",
    "a.info()        # Отрезок от 2 до 10 длиной 8"
   ]
  },
  {
   "cell_type": "markdown",
   "id": "8786b43a-90f2-4aea-99df-5e691f846d05",
   "metadata": {},
   "source": [
    "## Инициализация объекта `__init__`\n",
    "\n",
    "1. Как будет работать метод `length`, если после создания объекта, ему забудут создать нужный атрибут или ошибутся в его имени?\n",
    "\n",
    "2. Можно ли написать короче код создания одного объекта (отрезка от 2 до 10)?\n",
    "\n",
    "Принято определять все атрибуты объекта сразу при его создании. Для этого в классе определяют метод со специальным \"магическим\" именем `__init__`. Этот метод называют **конструктором** объекта или \"метод init\".\n",
    "\n",
    "При создании экземпляра класса:\n",
    "\n",
    "1. Выделяется память для этого объекта (автоматически! программисты на С++, Java и тем более на С, завидуют вам)\n",
    "2. Для инициализации данных этого объекта вызывается метод `__init__`, первый аргумент `self` - ссылка на этот объект.\n",
    "\n",
    "Так как метод - это та же функция, то можно передать в нее аргументы и установить, если нужно, **значения по умолчанию**."
   ]
  },
  {
   "cell_type": "code",
   "execution_count": 35,
   "id": "99f05563-24fc-42c3-9154-6ee2d19b51b9",
   "metadata": {},
   "outputs": [
    {
     "name": "stdout",
     "output_type": "stream",
     "text": [
      "Отрезок a от 2 до 10 длиной 8\n"
     ]
    }
   ],
   "source": [
    "class Segment1:\n",
    "    \"\"\" Одномерный отрезок. \"\"\"\n",
    "    \n",
    "    def __init__(self, mstart, mfinish):\n",
    "        \"\"\" Отрезок от start до finish. \"\"\"\n",
    "        self.start = mstart\n",
    "        self.finish = mfinish\n",
    "    \n",
    "    def length(self):\n",
    "        \"\"\" Возвращает длину отрезка. \"\"\"\n",
    "        return self.finish - self.start\n",
    "\n",
    "# тут объявление класса закончено, можно его использовать\n",
    "\n",
    "# использование класса:    \n",
    "a = Segment1(2, 10)\n",
    "d = a.length()\n",
    "print(f'Отрезок a от {a.start} до {a.finish} длиной {d}')   # Отрезок a от 2 до 10 длиной 8"
   ]
  },
  {
   "cell_type": "markdown",
   "id": "be2ac26e-6b9d-4511-9de9-434990fbd85e",
   "metadata": {},
   "source": [
    "Заметим, что в конструкторе параметры `mstart` и `mfinish` - это одни переменные, а атрибуты `self.start` и `self.finish` - совершенно другие. И python их не путает, даже если использовать для них одинаковые идентификаторы:\n",
    "```python\n",
    "    def __init__(self, start, finish):\n",
    "        \"\"\" Отрезок от start до finish. \"\"\"\n",
    "        self.start = start      # self.start и start - разные переменные\n",
    "        self.finish = finish\n",
    "```"
   ]
  },
  {
   "cell_type": "markdown",
   "id": "420c60b1-e963-4fcd-8e48-da032f585090",
   "metadata": {},
   "source": [
    "## Печать объекта `__repr__`\n",
    "\n",
    "```python\n",
    "a = Segment1(start=2, finish=10)\n",
    "```\n",
    "\n",
    "При попытке напечатать `print(a)` получаем строку `<__main__.Segment1 object at 0x000001A8E3D900D0>` (у вас последнее число будет другим). Печатают полное название типа объекта, и начиная с какого адреса в памяти он расположен.\n",
    "\n",
    "Хочется иметь удобную отладочную печать, чтобы `print(a)` печатало координату начала и конца отрезка по формату `[start,finish]`. При вызове `print(a)` происходит преобразование объекта к типу `str`, которое вызывает метод со специальным именем `__repr__(self)`, если он есть. Метод должен **вернуть строку**. Напишем его."
   ]
  },
  {
   "cell_type": "code",
   "execution_count": 36,
   "id": "bbfed2fa-9996-46f3-8940-f5cf2b0eeeb8",
   "metadata": {},
   "outputs": [
    {
     "name": "stdout",
     "output_type": "stream",
     "text": [
      "Отрезок a [2, 10] длиной 8\n"
     ]
    }
   ],
   "source": [
    "class Segment1:\n",
    "    \"\"\" Одномерный отрезок. \"\"\"\n",
    "    \n",
    "    def __init__(self, start, finish):\n",
    "        \"\"\" Отрезок от start до finish. \"\"\"\n",
    "        self.start = start\n",
    "        self.finish = finish\n",
    "        \n",
    "    def __repr__(self):\n",
    "        return f'[{self.start}, {self.finish}]'\n",
    "    \n",
    "    def length(self):\n",
    "        \"\"\" Возвращает длину отрезка. \"\"\"\n",
    "        return self.finish - self.start\n",
    "\n",
    "# тут объявление класса закончено, можно его использовать\n",
    "      \n",
    "a = Segment1(2, 10)\n",
    "d = a.length()\n",
    "print(f'Отрезок a {a} длиной {d}')   # Отрезок a [2, 10] длиной 8"
   ]
  },
  {
   "cell_type": "markdown",
   "id": "76cf0d9d-0be6-4138-9055-7cbae32a3cf5",
   "metadata": {},
   "source": [
    "Добавим в функцию `__repr__` вывод длины отрезка:"
   ]
  },
  {
   "cell_type": "code",
   "execution_count": 37,
   "id": "68179204-b427-4e0c-91fd-dede2ddbbf05",
   "metadata": {},
   "outputs": [
    {
     "name": "stdout",
     "output_type": "stream",
     "text": [
      "[2, 10] длиной 8\n"
     ]
    }
   ],
   "source": [
    "class Segment1:\n",
    "    \"\"\" Одномерный отрезок. \"\"\"\n",
    "    \n",
    "    def __init__(self, start, finish):\n",
    "        \"\"\" Отрезок от start до finish. \"\"\"\n",
    "        self.start = start\n",
    "        self.finish = finish\n",
    "        \n",
    "    def __repr__(self):\n",
    "        d = self.length()       # длина ЭТОГО отрезка\n",
    "        return f'[{self.start}, {self.finish}] длиной {d}'\n",
    "    \n",
    "    def length(self):\n",
    "        \"\"\" Возвращает длину отрезка. \"\"\"\n",
    "        return self.finish - self.start\n",
    "        \n",
    "a = Segment1(2, 10)\n",
    "d = a.length()\n",
    "print(a)   # [2, 10] длиной 8"
   ]
  },
  {
   "cell_type": "markdown",
   "id": "79a44455-6f77-408f-af6f-25cfa01dd2d4",
   "metadata": {},
   "source": [
    "## Аргументы метода\n",
    "\n",
    "Так как метод - это функция, определенная внутри класса, то для него действуют все правила для позиционных и именованных аргументов и значения по умолчанию.\n",
    "\n",
    "Добавим в класс метод `has_point(x)`, который проверяет, содержит ли отрезок точку `x`, по умолчанию считаем `x=0`:"
   ]
  },
  {
   "cell_type": "code",
   "execution_count": 54,
   "id": "3e242faf-5acc-46fd-a846-766cfc786622",
   "metadata": {},
   "outputs": [],
   "source": [
    "class Segment1:\n",
    "    \"\"\" Одномерный отрезок. \"\"\"\n",
    "    \n",
    "    def __init__(self, start, finish):\n",
    "        \"\"\" Отрезок от start до finish. \"\"\"\n",
    "        self.start = start\n",
    "        self.finish = finish\n",
    "        \n",
    "    def __repr__(self):\n",
    "        return f'[{self.start}, {self.finish}]'\n",
    "    \n",
    "    def length(self):\n",
    "        \"\"\" Возвращает длину отрезка. \"\"\"\n",
    "        return self.finish - self.start\n",
    "        \n",
    "    def has_point(self, x=0):\n",
    "        \"\"\" Проверяет, принадлежит ли точка х отрезку \"\"\"\n",
    "        return self.start <= x <= self.finish \n",
    "\n",
    "# тут объявление класса закончено, можно его использовать"
   ]
  },
  {
   "cell_type": "code",
   "execution_count": 55,
   "id": "6503d2f2-771d-4ff2-bc98-9474b95f9c24",
   "metadata": {},
   "outputs": [
    {
     "name": "stdout",
     "output_type": "stream",
     "text": [
      "Отрезок a [2, 10] длиной 8\n",
      "отрезок [2, 10] содержит точку 4\n",
      "отрезок [-3, 1] НЕ содержит точку 20\n",
      "отрезок [-3, 1] содержит точку -1\n",
      "отрезок [-3, 1] содержит точку 0\n"
     ]
    }
   ],
   "source": [
    "# использование класса:    \n",
    "\n",
    "a = Segment1(2, 10)\n",
    "d = a.length()\n",
    "print(f'Отрезок a {a} длиной {d}')   # Отрезок a [2, 10] длиной 8\n",
    "if a.has_point(4):\n",
    "    print(f'отрезок {a} содержит точку 4')          # отрезок [2, 10] содержит точку 4\n",
    "else:\n",
    "    print(f'отрезок {a} НЕ содержит точку 4')\n",
    "    \n",
    "b = Segment1(-3, 1)\n",
    "x1 = 20\n",
    "if b.has_point(x1):\n",
    "    print(f'отрезок {b} содержит точку {x1}')\n",
    "else:\n",
    "    print(f'отрезок {b} НЕ содержит точку {x1}')    # отрезок [-3, 1] НЕ содержит точку 20\n",
    "    \n",
    "x2 = -1\n",
    "if b.has_point(x2):\n",
    "    print(f'отрезок {b} содержит точку {x2}')       # отрезок [-3, 1] содержит точку -1\n",
    "else:\n",
    "    print(f'отрезок {b} НЕ содержит точку {x2}')\n",
    "\n",
    "# значение по умолчанию 0\n",
    "if b.has_point():\n",
    "    print(f'отрезок {b} содержит точку 0')          # отрезок [-3, 1] содержит точку 0\n",
    "else:\n",
    "    print(f'отрезок {b} НЕ содержит точку 0')"
   ]
  },
  {
   "cell_type": "markdown",
   "id": "e21cff14-5fc4-4a57-adcf-f682447eb2f4",
   "metadata": {},
   "source": [
    "## Объекты в аргументах\n",
    "\n",
    "Всё, что в питоне существует - это объекты. Числа - объекты типа `int` или `float`, строки - объекты типа `str`. Функции - тоже объекты (но про это расскажем гораздо позже). Поэтому всё, что мы можем передать в аргументы функции или вернуть из нее - ссылки на объекты.\n",
    "\n",
    "### Объект как аргумент функции\n",
    "\n",
    "Ничего нового. Мы узнаем, что все время раньше передавали в аргументы функции ссылки на объекты.\n",
    "\n",
    "Напишем функцию, `is_crossed(a, b)`, которая возвращает, пересекаются ли отрезки `a` и `b` или нет. \n",
    "Сначала опишем использование этой функции:\n",
    "\n",
    "\n",
    "```python\n",
    "a = Segment1(-2, 10)\n",
    "b = Segment1(5, 12)\n",
    "c = Segment1(11, 15)\n",
    "\n",
    "print(a, b, is_crossed(a, b))   # [-2, 10] [5, 12] True\n",
    "print(b, a, is_crossed(b, a))   # [5, 12] [-2, 10] True\n",
    "print(a, c, is_crossed(a, c))   # [-2, 10] [11, 15] False\n",
    "print(c, a, is_crossed(c, a))   # [11, 15] [-2, 10] False\n",
    "```\n",
    "Пусть у нас два отрезка, *one* и *other*. Отрезки НЕ пересекаются, если второй отрезок или строго правее, или строго правее левее отрезка.\n",
    "\n",
    "```\n",
    "          one                          other\n",
    "    |-----------|               |--------------|\n",
    "one.start    one.finish    other.start    other.finish\n",
    "```\n",
    "или\n",
    "```\n",
    "              other                 one      \n",
    "     |--------------|          |-----------|  \n",
    "other.start    other.finish one.start    one.finish\n",
    "```\n",
    "То есть `one.finish < other.start` или `other.finish < one.start`\n",
    "\n",
    "Во всех остальных случаях отрезки пересекаются."
   ]
  },
  {
   "cell_type": "code",
   "execution_count": 56,
   "id": "75885488-6b9c-4c42-b0c5-1e0725270482",
   "metadata": {},
   "outputs": [],
   "source": [
    "def is_crossed(one, other):\n",
    "    \"\"\" Возвращает пересекаются ли отрезки one и other\"\"\"\n",
    "    if one.finish < other.start or other.finish < one.start:\n",
    "        return False\n",
    "    return True"
   ]
  },
  {
   "cell_type": "markdown",
   "id": "a60bba3a-338b-4abd-8795-dc9ae1f34d24",
   "metadata": {},
   "source": [
    "Заметим, что аргументы функции - ссылки на объекты. Ссылки на объекты класса `Segment1` записаны в переменных `one` и `other`.\n",
    "\n",
    "*Числа типа `int` или `float`, строки - все в питоне является объектами. Раньше мы передавали в функции ссылку на объект, но не знали об этом*:\n",
    "```python\n",
    "s = 'Hello!'    # 'Hello' - объект класса str, в переменной s хранится ссылка на этот объект\n",
    "print(s)        # в функцию print передаем ссылку на объект, которая хранится в переменной s\n",
    "```"
   ]
  },
  {
   "cell_type": "markdown",
   "id": "fdf3bfa8-4b8b-4903-bcde-b3d7b1554247",
   "metadata": {},
   "source": [
    "### Bнутри класса\n",
    "\n",
    "Внесем функцию пересечения отрезков в класс. Назовем её, чтобы не путаться в названиях, `is_crossed_method`. Можно оставить у них одинаковые названия. Интерпретатор питона различает эти функции, потому что одна - вне классов, а вторая принадлежит классу `Segment1`.\n",
    "\n",
    "Заменим параметры `one` и `other` на `self` и `other`.\n",
    "\n",
    "Обратите внимание, что в вызове функции в точечной нотации передаём единственный параметр `other`:\n",
    "\n",
    "```python\n",
    "is_crossed(a, b)          # is_crossed - функция вне класса\n",
    "a.is_crossed_method(b)    # is_crossed_method - функция объекта класса\n",
    "```"
   ]
  },
  {
   "cell_type": "code",
   "execution_count": 58,
   "id": "60fbe9e0-e600-4261-aac5-ef5fcb62ed29",
   "metadata": {},
   "outputs": [
    {
     "name": "stdout",
     "output_type": "stream",
     "text": [
      "[-2, 10] [5, 12] True\n",
      "[-2, 10] [11, 15] False\n"
     ]
    }
   ],
   "source": [
    "class Segment1:\n",
    "    \"\"\" Одномерный отрезок.\"\"\"\n",
    "\n",
    "    # инициализация объекта класса (конструктор объекта класса)\n",
    "    def __init__(self, start, finish):\n",
    "        self.start = start\n",
    "        self.finish = finish\n",
    "\n",
    "    def __repr__(self):\n",
    "        s = f'[{self.start}, {self.finish}]'\n",
    "        return s\n",
    "\n",
    "    def is_crossed_method(self, other):\n",
    "        \"\"\" Возвращает пересекаются ли отрезки one и other\"\"\"\n",
    "        if self.finish < other.start or other.finish < self.start:\n",
    "            return False\n",
    "        return True\n",
    "         \n",
    "# здесь закончилось описание класса\n",
    "         \n",
    "a = Segment1(-2, 10)\n",
    "b = Segment1(5, 12)\n",
    "c = Segment1(11, 15)\n",
    "           \n",
    "print(a, b, a.is_crossed_method(b))    # [-2, 10] [5, 12] True\n",
    "print(a, c, c.is_crossed_method(a))    # [-2, 10] [11, 15] False"
   ]
  },
  {
   "cell_type": "code",
   "execution_count": 61,
   "id": "4f25508a-a191-4ffb-8415-edde54bb24fd",
   "metadata": {},
   "outputs": [
    {
     "data": {
      "text/plain": [
       "True"
      ]
     },
     "execution_count": 61,
     "metadata": {},
     "output_type": "execute_result"
    }
   ],
   "source": [
    "# Можно обойтись без временных переменных\n",
    "a.is_crossed_method(Segment1(5, 12))"
   ]
  },
  {
   "cell_type": "markdown",
   "id": "8ba210ad-3c6b-4d1a-bfcb-57b9246d6874",
   "metadata": {},
   "source": [
    "### Объект изменяется\n",
    "\n",
    "Напишем метод `shift`, который сдвигает оба конца отрезка на `dx`"
   ]
  },
  {
   "cell_type": "code",
   "execution_count": null,
   "id": "7d1b723a-876f-49a1-9225-ab4279a8de70",
   "metadata": {},
   "outputs": [],
   "source": [
    "class Segment1:\n",
    "    \"\"\" Одномерный отрезок.\"\"\"\n",
    "\n",
    "    # инициализация объекта класса (конструктор объекта класса)\n",
    "    def __init__(self, start, finish):\n",
    "        self.start = start\n",
    "        self.finish = finish\n",
    "\n",
    "    def __repr__(self):\n",
    "        s = f'[{self.start}, {self.finish}]'\n",
    "        return s\n",
    "\n",
    "    def shift(self, dx):\n",
    "        self.start = self.start + dx    # читаем старое значение self.start и записываем в этот атрибут новое значение\n",
    "        self.finish += dx               # то же самое, но в краткой форме\n",
    "         \n",
    "# здесь закончилось описание класса\n",
    "         \n",
    "a = Segment1(-2, 10)\n",
    "           \n",
    "print(a)    # [-2, 10]\n",
    "a.shift(3)  # сдвинули отрезок a на 3 вправо\n",
    "print(a)    # [1, 13]"
   ]
  },
  {
   "cell_type": "markdown",
   "id": "f1579482-4b91-4997-a1d1-6cd2c5426a74",
   "metadata": {},
   "source": [
    "### Возвращаем ссылку на новый объект\n",
    "\n",
    "Напишем метод `shift_new`, который возвращает *новый отрезок*, лежащий на `dx` правее этого."
   ]
  },
  {
   "cell_type": "code",
   "execution_count": null,
   "id": "71a8bfec-88a2-457a-8eef-ed6f9b9a2238",
   "metadata": {},
   "outputs": [],
   "source": [
    "class Segment1:\n",
    "    \"\"\" Одномерный отрезок.\"\"\"\n",
    "\n",
    "    # инициализация объекта класса (конструктор объекта класса)\n",
    "    def __init__(self, start, finish):\n",
    "        self.start = start\n",
    "        self.finish = finish\n",
    "\n",
    "    def __repr__(self):\n",
    "        s = f'[{self.start}, {self.finish}]'\n",
    "        return s\n",
    "\n",
    "    def shift(self, dx):\n",
    "        \"\"\" сдвигает этот отрезок на dx \"\"\"\n",
    "        self.start = self.start + dx    # читаем старое значение self.start и записываем в этот атрибут новое значение\n",
    "        self.finish += dx               # то же самое, но в краткой форме\n",
    "        \n",
    "    def shift_new(self, dx):\n",
    "        \"\"\" возвращает новый отрезок на dx правее \"\"\"\n",
    "        tmp = Segment1(self.start + dx, self.finish + dx)   # создали новый объект\n",
    "        return tmp                                          # вернули на него ссылку\n",
    "         \n",
    "# здесь закончилось описание класса\n",
    "         \n",
    "a = Segment1(-2, 10)\n",
    "           \n",
    "print(a)    # [-2, 10]\n",
    "b = a.shift_new(3)\n",
    "print(a)    # [-2, 10]  отрезок не изменился\n",
    "print(b)    # [1, 13]   новый отрезок на нужном месте"
   ]
  },
  {
   "cell_type": "markdown",
   "id": "4c4dce89-78c3-418f-9381-8536778647de",
   "metadata": {},
   "source": [
    "Заметим, сам объект не изменился. Создали новый объект с нужными атрибутами и вернули на него ссылку."
   ]
  },
  {
   "cell_type": "markdown",
   "id": "973cdebb-0447-4623-b25c-2afac20a0581",
   "metadata": {},
   "source": [
    "### Цепочки вызовов методов a.shift(3).shift(-5)\n",
    "\n",
    "Мы привыкли писать цепочки преобразований объектов, например `input().split()`. Хотим написать функцию `shift` так, чтобы можно было вызывать её цепочкой `a.shift(3).shift(-5)`. Запишем через временную переменную:\n",
    "\n",
    "```python\n",
    "tmp = a.shift(3)   # a и tmp ссылаются на один и тот же объект\n",
    "tmp.shift(-5)\n",
    "```\n",
    "\n",
    "Для этого нужна ссылка на этот объект. Вернем её из фукнции. То есть фукнция должна вернуть `self`."
   ]
  },
  {
   "cell_type": "code",
   "execution_count": null,
   "id": "b2b02456-8f70-4c9c-9fc0-0fe5a5302c22",
   "metadata": {},
   "outputs": [],
   "source": [
    "class Segment1:\n",
    "    \"\"\" Одномерный отрезок.\"\"\"\n",
    "\n",
    "    # инициализация объекта класса (конструктор объекта класса)\n",
    "    def __init__(self, start, finish):\n",
    "        self.start = start\n",
    "        self.finish = finish\n",
    "\n",
    "    def __repr__(self):\n",
    "        s = f'[{self.start}, {self.finish}]'\n",
    "        return s\n",
    "\n",
    "    def shift(self, dx):\n",
    "        \"\"\" сдвигает этот отрезок на dx \"\"\"\n",
    "        self.start = self.start + dx    # читаем старое значение self.start и записываем в этот атрибут новое значение\n",
    "        self.finish += dx               # то же самое, но в краткой форме\n",
    "        return self\n",
    "        \n",
    "    def shift_new(self, dx):\n",
    "        \"\"\" возвращает новый отрезок на dx правее \"\"\"\n",
    "        tmp = Segment1(self.start + dx, self.finish + dx)   # создали новый объект\n",
    "        return tmp                                          # вернули на него ссылку\n",
    "         \n",
    "# здесь закончилось описание класса      \n",
    "a = Segment1(-2, 10)           \n",
    "print(a)    # [-2, 10]\n",
    "b = a.shift_new(3)\n",
    "print(a)    # [-2, 10]  отрезок не изменился\n",
    "print(b)    # [1, 13]   новый отрезок на нужном месте\n",
    "a.shift(3).shift(-5)\n",
    "print(a)"
   ]
  },
  {
   "cell_type": "markdown",
   "id": "914469e8-2e45-47cc-85ba-a9caefee5dd5",
   "metadata": {},
   "source": [
    "## Метод возвращает\n",
    "\n",
    "* None (ничего)\n",
    "* результат (длина отрезка)\n",
    "* копию объекта, быть может с изменениями\n",
    "* `self`"
   ]
  },
  {
   "cell_type": "markdown",
   "id": "613af28c-d84a-41f6-8f1e-6132efd73189",
   "metadata": {},
   "source": [
    "## a = b\n",
    "\n",
    "Что происходит при присвоении и передаче в фукнцию?"
   ]
  },
  {
   "cell_type": "code",
   "execution_count": 62,
   "id": "19659ec9-b811-4112-b46c-e0fb899bc211",
   "metadata": {},
   "outputs": [],
   "source": [
    "class Point:\n",
    "    def __init__(self, x=0, y=0):\n",
    "        self.x = x\n",
    "        self.y = y\n",
    "\n",
    "    def __repr__(self):\n",
    "        return f'({self.x}, {self.y})'\n",
    "\n",
    "a = Point(2, 3)\n",
    "b = a"
   ]
  },
  {
   "cell_type": "markdown",
   "id": "ee8f17a3-28d1-4447-a32d-f66634ed15b5",
   "metadata": {},
   "source": [
    "![a = b](https://raw.githubusercontent.com/tatyderb/python_myanmar/master/_pisch_1_basics/OOP/img/a_is_b.png)"
   ]
  },
  {
   "cell_type": "code",
   "execution_count": 63,
   "id": "2628083c-51fd-4646-8d73-d1039a194cfc",
   "metadata": {},
   "outputs": [
    {
     "name": "stdout",
     "output_type": "stream",
     "text": [
      "(88, 3)\n",
      "(88, 3)\n"
     ]
    }
   ],
   "source": [
    "b.x = 88\n",
    "print(a)\n",
    "print(b)"
   ]
  },
  {
   "cell_type": "code",
   "execution_count": 64,
   "id": "1b0d2684-e784-4032-8651-83618b0b2820",
   "metadata": {},
   "outputs": [],
   "source": [
    "c = Point(88, 3)"
   ]
  },
  {
   "cell_type": "code",
   "execution_count": 65,
   "id": "615a30c1-9c1a-4981-a97d-98238c7af0b0",
   "metadata": {},
   "outputs": [
    {
     "data": {
      "text/plain": [
       "True"
      ]
     },
     "execution_count": 65,
     "metadata": {},
     "output_type": "execute_result"
    }
   ],
   "source": [
    "a is b"
   ]
  },
  {
   "cell_type": "code",
   "execution_count": 66,
   "id": "d72deece-69df-4f3d-a2a8-5622a9b3ea19",
   "metadata": {},
   "outputs": [
    {
     "data": {
      "text/plain": [
       "False"
      ]
     },
     "execution_count": 66,
     "metadata": {},
     "output_type": "execute_result"
    }
   ],
   "source": [
    "a is c"
   ]
  },
  {
   "cell_type": "code",
   "execution_count": 67,
   "id": "88f1c810-8928-40ce-83fe-e23d4b453b3b",
   "metadata": {},
   "outputs": [
    {
     "data": {
      "text/plain": [
       "True"
      ]
     },
     "execution_count": 67,
     "metadata": {},
     "output_type": "execute_result"
    }
   ],
   "source": [
    "a == b"
   ]
  },
  {
   "cell_type": "code",
   "execution_count": 68,
   "id": "86b92a05-2e5f-4073-b05b-a0e70d45b723",
   "metadata": {},
   "outputs": [
    {
     "data": {
      "text/plain": [
       "False"
      ]
     },
     "execution_count": 68,
     "metadata": {},
     "output_type": "execute_result"
    }
   ],
   "source": [
    "a == c"
   ]
  },
  {
   "cell_type": "markdown",
   "id": "590c39ff-b029-4053-bf95-79ed6cd2e98f",
   "metadata": {},
   "source": [
    "## Сравнение объектов (магические методы)\n",
    "\n",
    "| Операция | Метод |\n",
    "|----|----|\n",
    "| `==` | `__eq__` |\n",
    "| `!=` | `__ne__` |\n",
    "| `<` | `__lt__` |\n",
    "| `<=` | `__le__` |\n",
    "| `>` | `__gt__` |\n",
    "| `>=` | `__ge__` |"
   ]
  },
  {
   "cell_type": "code",
   "execution_count": 70,
   "id": "bccb573a-e856-46a9-a211-1db4ed7bcc73",
   "metadata": {},
   "outputs": [
    {
     "name": "stdout",
     "output_type": "stream",
     "text": [
      "a is b True\n",
      "a is c False\n",
      "a == b True\n",
      "a == c True\n"
     ]
    }
   ],
   "source": [
    "class Point:\n",
    "    def __init__(self, x=0, y=0):\n",
    "        self.x = x\n",
    "        self.y = y\n",
    "\n",
    "    def __repr__(self):\n",
    "        return f'({self.x}, {self.y})'\n",
    "\n",
    "    def __eq__(self, other):\n",
    "        return self.x == other.x and self.y == other.y\n",
    "\n",
    "a = Point(2, 3)\n",
    "b = a\n",
    "c = Point(2, 3)\n",
    "print('a is b', a is b)  # True\n",
    "print('a is c', a is c)  # False\n",
    "print('a == b', a == b)  # True\n",
    "print('a == c', a == c)  # True"
   ]
  },
  {
   "cell_type": "markdown",
   "id": "a4af127f-e59a-4c47-a200-92966b7d7d74",
   "metadata": {},
   "source": [
    "## Композиция\n",
    "\n",
    "Как `Point` состоял из объектов класса `int`, так и класс отрезков на плоскости XY может состоять из точек. Отношение **состоит из** называют **композицией**."
   ]
  },
  {
   "cell_type": "code",
   "execution_count": 75,
   "id": "97464426-6459-4cc2-9620-d413eef03a2e",
   "metadata": {},
   "outputs": [
    {
     "name": "stdout",
     "output_type": "stream",
     "text": [
      "(3, 2)\n",
      "(3, -2)\n",
      "(3, -2)\n",
      "(-3, -2)\n",
      "(1, 3)\n",
      "(5, 6)\n",
      "5.0\n"
     ]
    }
   ],
   "source": [
    "from math import sqrt, pi\n",
    "\n",
    "class Point:\n",
    "\tdef __init__(self, x=0, y=0):\n",
    "\t\tself.x = x\n",
    "\t\tself.y = y\n",
    "\n",
    "\tdef __repr__(self):\n",
    "\t\treturn f'({self.x}, {self.y})'\n",
    "\t\n",
    "\tdef flip(self):\n",
    "\t\tself.x = self.x\n",
    "\t\tself.y = -self.y\n",
    "\t\t\n",
    "\tdef flipH(self):\n",
    "\t\tt = Point(-self.x, self.y)\n",
    "\t\treturn t\n",
    "\t\t\n",
    "\tdef dist(self, other):\n",
    "\t\t\"\"\" Возвращает расстояние от точки self до точки dist\"\"\"\n",
    "\t\tdx = self.x - other.x\n",
    "\t\tdy = self.y - other.y\n",
    "\t\td = sqrt(dx*dx + dy*dy)\n",
    "\t\treturn d\n",
    "\t\t\n",
    "\tdef shift(self, dx, dy):\n",
    "\t\t\"\"\" Сдвинуть эту ТОЧКУ\"\"\"\n",
    "\t\tself.x = self.x + dx\n",
    "\t\tself.y = self.y + dy\n",
    "\t\t\n",
    "\tdef rotate180_new(self):\n",
    "\t\t\"\"\" Вернуть новую точку, повернутую на 180 градусов вокруг (0,0)\"\"\"\n",
    "\t\tp = Point(-self.x, -self.y)\n",
    "\t\treturn p\n",
    "\t\t\n",
    "\n",
    "def test2():\n",
    "\tt1 = Point(1, 3)\n",
    "\tt2 = Point(5, 6)\n",
    "\tprint(t1)\n",
    "\tprint(t2)\n",
    "\td = t1.dist(t2)\n",
    "\tprint(d)\n",
    "\n",
    "def test1():\t\n",
    "\tt1 = Point(3,2)\n",
    "\tprint(t1)\n",
    "\tt1.flip()\n",
    "\tprint(t1)  # (3,-2) \n",
    "\tt2 = t1.flipH()\n",
    "\tprint(t1)  # (3,-2) \n",
    "\tprint(t2)  # (-3,-2)\n",
    "\n",
    "test1()\n",
    "test2()"
   ]
  },
  {
   "cell_type": "code",
   "execution_count": 76,
   "id": "16991c60-ab34-4bfd-af4b-f8132b23dc0f",
   "metadata": {},
   "outputs": [
    {
     "name": "stdout",
     "output_type": "stream",
     "text": [
      "Отрезок от (1, 7) до (5, 4) длиной 5.0\n",
      "Отрезок от (1, 7) до (5, 4) длиной 5.0\n",
      "Отрезок от (-4, -3) до (0, -6) длиной 5.0\n",
      "Отрезок от (-4, -3) до (0, -6) длиной 5.0\n",
      "Отрезок от (4, 3) до (0, 6) длиной 5.0\n"
     ]
    }
   ],
   "source": [
    "class Segment2:\n",
    "\t\"\"\" Отрезок на плоскости ХУ \"\"\"\n",
    "\tdef __init__(self, start: Point, finish: Point):\n",
    "\t\tself.start = start\n",
    "\t\tself.finish = finish\n",
    "\t\t\n",
    "\tdef __repr__(self):\n",
    "\t\t# вернуть строку!!!!!\n",
    "\t\td = self.length()\n",
    "\t\treturn f'Отрезок от {self.start} до {self.finish} длиной {d}'\n",
    "\t\t\n",
    "\tdef length(self):\n",
    "\t\t\"\"\" Длина отрезка seg\"\"\"\n",
    "\t\t#return self.start.dist(self.finish)\n",
    "\t\tp1 = self.start\n",
    "\t\tp2 = self.finish\n",
    "\t\td = p1.dist(p2)\n",
    "\t\treturn d\n",
    "\n",
    "\tdef move(self, dx: int, dy: int):\n",
    "\t\t\"\"\" Сдвигает отрезок на dx, оба конца.\"\"\"\n",
    "\t\tself.start.shift(dx, dy)\n",
    "\t\tself.finish.shift(dx, dy)\n",
    "\t\t\n",
    "\tdef rotate180_new(self):\n",
    "\t\t\"\"\" Вернуть новый ОТРЕЗОК, повернутый на 180 градусов вокруг (0,0)\"\"\"\n",
    "\t\tp1 = self.start\n",
    "\t\tp2 = self.finish\n",
    "\t\tp1_new = p1.rotate180_new()\n",
    "\t\tp2_new = p2.rotate180_new()\n",
    "\t\ts_new = Segment2(p1_new, p2_new)\n",
    "\t\treturn s_new \n",
    "\n",
    "\t\t\n",
    "p1: Point = Point(1, 7)\n",
    "p2: Point = Point(5, 4)\n",
    "s1: Segment2 = Segment2(p1, p2)\n",
    "s2: Segment2 = Segment2(Point(1, 7), Point(5, 4))\n",
    "\n",
    "print(s1) # [(1, 7), (5, 4)]\n",
    "print(s2)\n",
    "\n",
    "s1.move(dx=-5, dy=-10)\n",
    "print(s1) # [(-4, -3), (0, -6)]\t\n",
    "\n",
    "s2 = s1.rotate180_new()\n",
    "print(s1) # [(-4, -3), (0, -6)]\t\n",
    "print(s2) # [(4, 3), (0, 6)]\t\n"
   ]
  },
  {
   "cell_type": "markdown",
   "id": "595f7338-d09c-4f03-8aa3-293d7ce355f5",
   "metadata": {},
   "source": [
    "## Ссылки на объекты"
   ]
  },
  {
   "cell_type": "code",
   "execution_count": 86,
   "id": "812e857d-6cd0-42b2-9708-96ec6d096f0a",
   "metadata": {},
   "outputs": [],
   "source": [
    "s1 = Segment2(Point(1, 7), Point(5, 4))"
   ]
  },
  {
   "cell_type": "markdown",
   "id": "3f851391-f007-4dfd-8dce-8b8406ff6eef",
   "metadata": {},
   "source": [
    "![segment XY](https://raw.githubusercontent.com/tatyderb/python_myanmar/master/_pisch_1_basics/OOP/img/segment2.png)"
   ]
  },
  {
   "cell_type": "markdown",
   "id": "2d4917ef-ee4c-46d0-866c-891328377758",
   "metadata": {},
   "source": [
    "## Копирование объектов\n",
    "\n",
    "`s2 = s1` не создаст нового объекта! Переменная `s2` станет ссылаться на тот же объект, на который ссылается `s1`.\n",
    "\n",
    "Хочу копию!"
   ]
  },
  {
   "cell_type": "code",
   "execution_count": 87,
   "id": "4eee3fcb-ffbc-4a68-a29b-9be2d86c470e",
   "metadata": {},
   "outputs": [
    {
     "name": "stdout",
     "output_type": "stream",
     "text": [
      "Отрезок от (1, 7) до (5, 4) длиной 5.0 red\n",
      "Отрезок от (1, 7) до (5, 4) длиной 5.0 blue\n"
     ]
    }
   ],
   "source": [
    "import copy\n",
    "\n",
    "s2 = copy.copy(s1)\n",
    "s1.color = 'red'\n",
    "s2.color = 'blue'\n",
    "print(s1, s1.color)\n",
    "print(s2, s2.color)"
   ]
  },
  {
   "cell_type": "markdown",
   "id": "29f23fde-11d2-4822-8ab5-ed19d44b6897",
   "metadata": {},
   "source": [
    "Счастье? Глубоко закопанные грабли:"
   ]
  },
  {
   "cell_type": "code",
   "execution_count": 90,
   "id": "c87da296-64ec-4bae-85cc-7444297851ce",
   "metadata": {},
   "outputs": [
    {
     "name": "stdout",
     "output_type": "stream",
     "text": [
      "Отрезок от (1, 7) до (-10, 4) длиной 11.40175425099138 red\n",
      "Отрезок от (1, 7) до (-10, 4) длиной 11.40175425099138 blue\n"
     ]
    }
   ],
   "source": [
    "s1.finish.x = -10\n",
    "print(s1, s1.color)\n",
    "print(s2, s2.color)"
   ]
  },
  {
   "cell_type": "markdown",
   "id": "59c439f0-60db-496e-8d1c-9952b582008f",
   "metadata": {},
   "source": [
    "**Shallow copy** - мелкое копирование. Копирует объекты, но не то, что по ссылкам у этих объектов."
   ]
  },
  {
   "cell_type": "markdown",
   "id": "e19662dc-84f9-4a4e-9f32-5a8132b8cc68",
   "metadata": {},
   "source": [
    "![segment XY](https://raw.githubusercontent.com/tatyderb/python_myanmar/master/_pisch_1_basics/OOP/img/shallow_copy.png)"
   ]
  },
  {
   "cell_type": "markdown",
   "id": "557128f3-782f-40c6-8114-aed161b643a6",
   "metadata": {},
   "source": [
    "**Deep copy** - глубокое копирование. Копирует объекты и объекты на которые они ссылаются, и объекты на которые они ссылаются, ...."
   ]
  },
  {
   "cell_type": "code",
   "execution_count": 91,
   "id": "9bb1f673-bb71-4a35-9e63-eab3d9bd110d",
   "metadata": {},
   "outputs": [
    {
     "name": "stdout",
     "output_type": "stream",
     "text": [
      "Отрезок от (1, 7) до (-10, 4) длиной 11.40175425099138 red\n"
     ]
    }
   ],
   "source": [
    "s3 = copy.deepcopy(s1)\n",
    "print(s1, s1.color)"
   ]
  },
  {
   "cell_type": "code",
   "execution_count": 92,
   "id": "c37a640a-244b-40bd-b660-a7b7480771fd",
   "metadata": {},
   "outputs": [
    {
     "name": "stdout",
     "output_type": "stream",
     "text": [
      "Отрезок от (1, 7) до (-10, 4) длиной 11.40175425099138 red\n",
      "Отрезок от (1, 7) до (8, 4) длиной 7.615773105863909 red\n"
     ]
    }
   ],
   "source": [
    "s3.finish.x = 8\n",
    "print(s1, s1.color)\n",
    "print(s3, s3.color)"
   ]
  },
  {
   "cell_type": "markdown",
   "id": "996b36f6-b130-4457-8469-014704761cb6",
   "metadata": {},
   "source": [
    "## Статические методы\n",
    "\n",
    "В классе `Point` создадим метод, который по строке вида `5 12` создает объект `Point(5, 12)`.\n",
    "\n",
    "К какому **экземпляру класса** он должен принадлежать и что будет в `self`? Этот метод не принадлежит конкретному экземпляру. Но он как-то относится к классу и стоит написать его внутри класса.\n",
    "\n",
    "* `@staticmethod`\n",
    "* нет `self`\n",
    "* обращаются по имени класса  `Point.create('5 12')`\n",
    "* можно обратиться по ссылке на объект класса `Point`\n",
    "```python\n",
    "a = Point(3, 7)\n",
    "b1 = Point.create('5 12')\n",
    "b2 = a.create('5 12')\n",
    "```"
   ]
  },
  {
   "cell_type": "code",
   "execution_count": 95,
   "id": "6af98ca8-5377-42fa-a39e-5215d94dd004",
   "metadata": {},
   "outputs": [],
   "source": [
    "class Point:\n",
    "\tdef __init__(self, x=0, y=0):\n",
    "\t\tself.x = x\n",
    "\t\tself.y = y\n",
    "\n",
    "\tdef __repr__(self):\n",
    "\t\treturn f'({self.x}, {self.y})'\n",
    "\n",
    "\t@staticmethod\n",
    "\tdef create(text):\n",
    "\t\tx, y = map(int, text.split())\n",
    "\t\treturn Point(x, y)"
   ]
  },
  {
   "cell_type": "code",
   "execution_count": null,
   "id": "7ecd5936-7674-4877-88d1-1492433dcca9",
   "metadata": {},
   "outputs": [],
   "source": []
  }
 ],
 "metadata": {
  "kernelspec": {
   "display_name": "Python 3 (ipykernel)",
   "language": "python",
   "name": "python3"
  },
  "language_info": {
   "codemirror_mode": {
    "name": "ipython",
    "version": 3
   },
   "file_extension": ".py",
   "mimetype": "text/x-python",
   "name": "python",
   "nbconvert_exporter": "python",
   "pygments_lexer": "ipython3",
   "version": "3.10.2"
  }
 },
 "nbformat": 4,
 "nbformat_minor": 5
}
