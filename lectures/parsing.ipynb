{
 "cells": [
  {
   "cell_type": "markdown",
   "id": "399424e5-e0ff-4432-bd02-6655ece7388c",
   "metadata": {},
   "source": [
    "# Синтаксический анализ\n",
    "\n",
    "Парсинг (синтаксический анализ) представляет собой процесс сопоставления последовательности слов или символов — так называемой формальной грамматике.\n",
    "\n",
    "Посмотрим, как в [формате БНФ](https://en.wikipedia.org/wiki/Backus%E2%80%93Naur_form) описывается в python оператор ветвления. https://docs.python.org/3/reference/compound_stmts.html#if \n",
    "```\n",
    "if_stmt ::=  \"if\" assignment_expression \":\" suite\r\n",
    "             (\"elif\" assignment_expression \":\" suite)*\r\n",
    "             [\"else\" \":\" suite\n",
    "```\n",
    "Формальная грамматика состоит из алфавита (набор символов) и правил порождения. То есть определение, \"новое понятие - это вот такая композиция из уже введенных понятий\".\n",
    "\n",
    "При разборе текст разбивается на единицы (токены). У каждого токена есть определение что это такое. Терминальный токен - он состоит из символов алфавита.\n",
    "\n",
    "Для синтаксического разбора можно использовать пакет [pyparsing](https://pythonhosted.org/pyparsing/pyparsing-module.html). Покажем как им пользоваться на примерах.\n",
    "\n",
    "Документация: https://pyparsing-docs.readthedocs.io/en/latest/]\n"
   ]
  },
  {
   "cell_type": "code",
   "execution_count": 1,
   "id": "3d95e603-cda2-401b-9585-90b979089bf8",
   "metadata": {},
   "outputs": [],
   "source": [
    "# считаем, что этот импорт уже выполнен во всех примерах\n",
    "import pyparsing as pp"
   ]
  },
  {
   "cell_type": "markdown",
   "id": "077d61b6-4c3f-4065-86b5-53a57fc0da02",
   "metadata": {},
   "source": [
    "## Пример 1. Разбор строки import\n",
    "\n",
    "Дан текст вида\n",
    "```python\n",
    "import matplotlib.pyplot as plt\n",
    "```\n",
    "Хотим привести его в вид\n",
    "```python\n",
    "{ 'import': [ 'matplotlib', 'pyplot' ], 'as': 'plt' }\n",
    "```"
   ]
  },
  {
   "cell_type": "code",
   "execution_count": 57,
   "id": "20211a3b-1e66-4265-ba5d-8a74500fd087",
   "metadata": {},
   "outputs": [],
   "source": [
    "module_name = pp.Word(pp.alphas + '_')                              # имя модуля - это латинские буквы и _\n",
    "full_module_name = module_name + pp.ZeroOrMore('.' + module_name)   # модуль и может быть через . еще имена модулей\n",
    "import_as = pp.Optional('as' + module_name)                         # может быть, а может и не быть часть as алиас\n",
    "parse_module = 'import' + full_module_name + import_as              # соберем все в единую строку, начинающуюся с import"
   ]
  },
  {
   "cell_type": "code",
   "execution_count": 64,
   "id": "82830b95-14b4-4135-8e8c-e1cd24e156df",
   "metadata": {},
   "outputs": [
    {
     "data": {
      "text/plain": [
       "ParseResults(['import', 'matplotlib', '.', 'pyplot', 'as', 'plt'], {})"
      ]
     },
     "execution_count": 64,
     "metadata": {},
     "output_type": "execute_result"
    }
   ],
   "source": [
    "# разберем с помощью этих правил строку\n",
    "text = 'import        matplotlib.pyplot     as      plt'\n",
    "parse_module.parseString(text)"
   ]
  },
  {
   "cell_type": "code",
   "execution_count": 59,
   "id": "f06fd11d-e098-4953-aab1-f68480d50800",
   "metadata": {},
   "outputs": [
    {
     "data": {
      "text/plain": [
       "['import', 'matplotlib', '.', 'pyplot', 'as', 'plt']"
      ]
     },
     "execution_count": 59,
     "metadata": {},
     "output_type": "execute_result"
    }
   ],
   "source": [
    "# или в виде списка\n",
    "parse_module.parseString(text).asList()"
   ]
  },
  {
   "cell_type": "markdown",
   "id": "f0fe74b4-3f91-48b4-91fd-f94abb27c18d",
   "metadata": {},
   "source": [
    "## Suppress - уберем найденные токены из результирующего списка\n",
    "\n",
    "То есть эти токены обязаны быть, но в результат они не войдут. Варианты использования (пример для разделяющей запятой)\n",
    "```python\n",
    "comma = Suppress( Literal(\",\") ) \n",
    "comma = Literal(\",\").suppress() \n",
    "comma = Suppress(\",\")\n",
    "```"
   ]
  },
  {
   "cell_type": "code",
   "execution_count": 65,
   "id": "191923da-34d8-4f8e-9ee1-055514fc5589",
   "metadata": {},
   "outputs": [
    {
     "data": {
      "text/plain": [
       "['matplotlib', 'pyplot', 'plt']"
      ]
     },
     "execution_count": 65,
     "metadata": {},
     "output_type": "execute_result"
    }
   ],
   "source": [
    "module_name = pp.Word(pp.alphas + '_')                              # имя модуля - это латинские буквы и _\n",
    "full_module_name = module_name + pp.ZeroOrMore(pp.Suppress('.') + module_name)   # модуль и может быть через . еще имена модулей\n",
    "import_as = pp.Optional(pp.Suppress('as') + module_name)                         # может быть, а может и не быть часть as алиас\n",
    "parse_module = pp.Suppress('import') + full_module_name + import_as              # соберем все в единую строку, начинающуюся с import\n",
    "\n",
    "text = 'import matplotlib.pyplot as plt'\n",
    "parse_module.parseString(text).asList()"
   ]
  },
  {
   "cell_type": "markdown",
   "id": "22158026-67b1-4133-98ba-d745137a34f9",
   "metadata": {},
   "source": [
    "### Дадим имя правилу и будем обращаться по имени\n",
    "\n",
    "* Все выражение справа заключим в `( )`\n",
    "* После него поставим `('имя')`\n",
    "* Можно обращаться по имени `.имя` к части разобранного выражения"
   ]
  },
  {
   "cell_type": "code",
   "execution_count": 41,
   "id": "636c0fc6-9943-4cd8-a772-0c6137ca7671",
   "metadata": {},
   "outputs": [
    {
     "name": "stdout",
     "output_type": "stream",
     "text": [
      "res=ParseResults(['matplotlib', 'pyplot', 'plt'], {'modules': ['matplotlib', 'pyplot'], 'import_as': ['plt']})\n",
      "['matplotlib', 'pyplot']\n",
      "['plt']\n"
     ]
    }
   ],
   "source": [
    "module_name = pp.Word(pp.alphas + '_')\n",
    "full_module_name = (module_name + pp.ZeroOrMore(pp.Suppress('.') + module_name)) ('modules')  # дали имя modules\n",
    "import_as = (pp.Optional(pp.Suppress('as') + module_name))('import_as')                       # дали имя import_as\n",
    "parse_module = pp.Suppress('import') + full_module_name + import_as\n",
    "\n",
    "text = 'import matplotlib.pyplot as plt'\n",
    "res = parse_module.parseString(text)\n",
    "print(f'{res=}')\n",
    "print(res.modules.asList())\n",
    "print(res.import_as.asList())"
   ]
  },
  {
   "cell_type": "markdown",
   "id": "564b51ee-2389-4498-9b73-9c82a6de3854",
   "metadata": {},
   "source": [
    "## setParseAction - преобразуем в нужный формат через lambda"
   ]
  },
  {
   "cell_type": "code",
   "execution_count": 43,
   "id": "cbb63ebb-8bde-4433-9993-bbcf88508c62",
   "metadata": {},
   "outputs": [],
   "source": [
    "parse_module = (pp.Suppress('import') + full_module_name).setParseAction(lambda t: {'import': t.modules.asList(), 'as': t.import_as.asList()[0]})"
   ]
  },
  {
   "cell_type": "code",
   "execution_count": 49,
   "id": "2fd1543b-df66-4fa6-a22b-6743eef8c3ed",
   "metadata": {},
   "outputs": [
    {
     "data": {
      "text/plain": [
       "ParseResults([{'import': ['matplotlib', 'pyplot'], 'as': 'plt'}], {})"
      ]
     },
     "execution_count": 49,
     "metadata": {},
     "output_type": "execute_result"
    }
   ],
   "source": [
    "module_name = pp.Word(pp.alphas + '_')\n",
    "full_module_name = (module_name + pp.ZeroOrMore(pp.Suppress('.') + module_name)) ('modules')  # дали имя modules\n",
    "import_as = (pp.Optional(pp.Suppress('as') + module_name))('import_as')                       # дали имя import_as\n",
    "parse_module = (pp.Suppress('import') + full_module_name + import_as).setParseAction(lambda t: {'import': t.modules.asList(), 'as': t.import_as.asList()[0]})\n",
    "parse_module.parseString(text)"
   ]
  },
  {
   "cell_type": "code",
   "execution_count": 50,
   "id": "3653670d-cbe2-4b23-b688-1af3d176a002",
   "metadata": {},
   "outputs": [
    {
     "data": {
      "text/plain": [
       "[{'import': ['matplotlib', 'pyplot'], 'as': 'plt'}]"
      ]
     },
     "execution_count": 50,
     "metadata": {},
     "output_type": "execute_result"
    }
   ],
   "source": [
    "parse_module.parseString(text).asList()"
   ]
  },
  {
   "cell_type": "code",
   "execution_count": 51,
   "id": "a162c0f0-c62e-4023-a233-a6c5db3b8c5d",
   "metadata": {},
   "outputs": [
    {
     "data": {
      "text/plain": [
       "{'import': ['matplotlib', 'pyplot'], 'as': 'plt'}"
      ]
     },
     "execution_count": 51,
     "metadata": {},
     "output_type": "execute_result"
    }
   ],
   "source": [
    "parse_module.parseString(text).asList()[0]"
   ]
  },
  {
   "cell_type": "markdown",
   "id": "8049b337-e3aa-46a4-baad-1be1e86e85b7",
   "metadata": {},
   "source": [
    "### Количество символов\n",
    "\n",
    "Для указания точного количества символов используют аргументы [Word](https://pythonhosted.org/pyparsing/pyparsing.Word-class.html)\n",
    "\n",
    "`__init__(self, initChars, bodyChars=None, min=1, max=0, exact=0, asKeyword=False, excludeChars=None)`       ''')"
   ]
  },
  {
   "cell_type": "code",
   "execution_count": 66,
   "id": "cbf74ad1-aa6c-494b-bef8-fbbe02569675",
   "metadata": {},
   "outputs": [
    {
     "name": "stdout",
     "output_type": "stream",
     "text": [
      "\n",
      "# traditional ZIP code\n",
      "12345\n",
      "['12345']\n",
      "\n",
      "# ZIP+4 form\n",
      "12101-0001\n",
      "['12101-0001']\n",
      "\n",
      "# invalid ZIP\n",
      "98765-\n",
      "98765-\n",
      "     ^\n",
      "ParseException: Expected end of text, found '-'  (at char 5), (line:1, col:6)\n",
      "FAIL: Expected end of text, found '-'  (at char 5), (line:1, col:6)\n"
     ]
    },
    {
     "data": {
      "text/plain": [
       "(False,\n",
       " [('12345', ParseResults(['12345'], {})),\n",
       "  ('12101-0001', ParseResults(['12101-0001'], {})),\n",
       "  ('98765-', Expected end of text, found '-'  (at char 5), (line:1, col:6))])"
      ]
     },
     "execution_count": 66,
     "metadata": {},
     "output_type": "execute_result"
    }
   ],
   "source": [
    "# US postal code can be a 5-digit zip, plus optional 4-digit qualifier\n",
    "zip = pp.Combine(pp.Word(pp.nums, exact=5) + pp.Optional('-' + pp.Word(pp.nums, exact=4)))\n",
    "zip.runTests('''\n",
    "   # traditional ZIP code\n",
    "   12345\n",
    "   \n",
    "   # ZIP+4 form\n",
    "   12101-0001\n",
    "   \n",
    "   # invalid ZIP\n",
    "   98765-\n",
    "   ''')\n"
   ]
  },
  {
   "cell_type": "markdown",
   "id": "f25d6bab-abb4-45fe-84cc-8d2692257570",
   "metadata": {},
   "source": [
    "## Пробельные символы, начало и конец\n",
    "\n",
    "По умолчанию все пробельные символы, начало и конец строки игнорируются. Чтобы их подключить, указывайте явно\n",
    "\n",
    "* [leaveWhitespace()](https://pythonhosted.org/pyparsing/pyparsing.Forward-class.html#leaveWhitespace) - Disables the skipping of whitespace before matching the characters in the ParserElement's defined pattern. This is normally only used internally by the pyparsing module, but may be needed in some whitespace-sensitive grammars.\n",
    "* [White()](https://pythonhosted.org/pyparsing/pyparsing.White-class.html) - пробельный символ (пробел, \\n, \\t, \\r)\n",
    "* AtLineStart - точно в начале строки\n",
    "* AtLineEnd - точно в конце строки\n",
    "* LineStart - \n",
    "Matches if current position is at the beginning of a line within the parse strin\n",
    "*  \tLineE - d\r\n",
    "Matches if current position is at the end of a line within the parse str\n",
    "* \r\n",
    " \tStringS - art\r\n",
    "Matches if current position is at the beginning of the parse s\n",
    "* ng\r\n",
    " \tStr - ngEnd\r\n",
    "Matches if current position is at the end of the parse\n",
    "* ring\r\n",
    " \tW - rdStart\r\n",
    "Matches if the current position is at the beginning of a Word, and is not preceded by any character in a given set of wordChars (default=prin* bles).\r",
    " -  \tWordEnd\r\n",
    "Matches if the current position is at the end of a Word, and is not followed by any character in a given set of wordChars (default=printables)."
   ]
  },
  {
   "cell_type": "code",
   "execution_count": 55,
   "id": "603d3f79-55a8-4816-b6e1-ec49d45633a7",
   "metadata": {},
   "outputs": [
    {
     "ename": "ParseException",
     "evalue": "Expected W:(A-Za-z), found ' '  (at char 0), (line:1, col:1)",
     "output_type": "error",
     "traceback": [
      "\u001b[1;31m---------------------------------------------------------------------------\u001b[0m",
      "\u001b[1;31mParseException\u001b[0m                            Traceback (most recent call last)",
      "Cell \u001b[1;32mIn[55], line 4\u001b[0m\n\u001b[0;32m      2\u001b[0m (pp\u001b[38;5;241m.\u001b[39mLineStart() \u001b[38;5;241m+\u001b[39m pp\u001b[38;5;241m.\u001b[39mWord(pp\u001b[38;5;241m.\u001b[39malphas))\u001b[38;5;241m.\u001b[39mparseString(\u001b[38;5;124m\"\u001b[39m\u001b[38;5;124m  ABC\u001b[39m\u001b[38;5;124m\"\u001b[39m)  \u001b[38;5;66;03m# passes\u001b[39;00m\n\u001b[0;32m      3\u001b[0m pp\u001b[38;5;241m.\u001b[39mAtLineStart(pp\u001b[38;5;241m.\u001b[39mWord(pp\u001b[38;5;241m.\u001b[39malphas))\u001b[38;5;241m.\u001b[39mparseString(\u001b[38;5;124m\"\u001b[39m\u001b[38;5;124mABC\u001b[39m\u001b[38;5;124m\"\u001b[39m)     \u001b[38;5;66;03m# passes\u001b[39;00m\n\u001b[1;32m----> 4\u001b[0m \u001b[43mpp\u001b[49m\u001b[38;5;241;43m.\u001b[39;49m\u001b[43mAtLineStart\u001b[49m\u001b[43m(\u001b[49m\u001b[43mpp\u001b[49m\u001b[38;5;241;43m.\u001b[39;49m\u001b[43mWord\u001b[49m\u001b[43m(\u001b[49m\u001b[43mpp\u001b[49m\u001b[38;5;241;43m.\u001b[39;49m\u001b[43malphas\u001b[49m\u001b[43m)\u001b[49m\u001b[43m)\u001b[49m\u001b[38;5;241;43m.\u001b[39;49m\u001b[43mparseString\u001b[49m\u001b[43m(\u001b[49m\u001b[38;5;124;43m\"\u001b[39;49m\u001b[38;5;124;43m  ABC\u001b[39;49m\u001b[38;5;124;43m\"\u001b[39;49m\u001b[43m)\u001b[49m     \u001b[38;5;66;03m# fails\u001b[39;00m\n",
      "File \u001b[1;32m~\\PycharmProjects\\deploy_scripts\\venv\\lib\\site-packages\\pyparsing\\core.py:1141\u001b[0m, in \u001b[0;36mParserElement.parse_string\u001b[1;34m(self, instring, parse_all, parseAll)\u001b[0m\n\u001b[0;32m   1138\u001b[0m         \u001b[38;5;28;01mraise\u001b[39;00m\n\u001b[0;32m   1139\u001b[0m     \u001b[38;5;28;01melse\u001b[39;00m:\n\u001b[0;32m   1140\u001b[0m         \u001b[38;5;66;03m# catch and re-raise exception from here, clearing out pyparsing internal stack trace\u001b[39;00m\n\u001b[1;32m-> 1141\u001b[0m         \u001b[38;5;28;01mraise\u001b[39;00m exc\u001b[38;5;241m.\u001b[39mwith_traceback(\u001b[38;5;28;01mNone\u001b[39;00m)\n\u001b[0;32m   1142\u001b[0m \u001b[38;5;28;01melse\u001b[39;00m:\n\u001b[0;32m   1143\u001b[0m     \u001b[38;5;28;01mreturn\u001b[39;00m tokens\n",
      "\u001b[1;31mParseException\u001b[0m: Expected W:(A-Za-z), found ' '  (at char 0), (line:1, col:1)"
     ]
    }
   ],
   "source": [
    "(pp.LineStart() + pp.Word(pp.alphas)).parseString(\"ABC\")    # passes\n",
    "(pp.LineStart() + pp.Word(pp.alphas)).parseString(\"  ABC\")  # passes\n",
    "pp.AtLineStart(pp.Word(pp.alphas)).parseString(\"ABC\")     # passes\n",
    "pp.AtLineStart(pp.Word(pp.alphas)).parseString(\"  ABC\")     # fails"
   ]
  },
  {
   "cell_type": "markdown",
   "id": "cb36e71f-fbc5-44b9-af57-0f5215d0b5e4",
   "metadata": {},
   "source": [
    "## restOfLine = rest of line"
   ]
  },
  {
   "cell_type": "markdown",
   "id": "ea0d9019-e0ca-4159-999e-322af0dae9bd",
   "metadata": {},
   "source": [
    "## Unicode символы\n",
    "\n",
    "Специальные наборы алфавитов. Но! Нам это вообще не нужно.\r\n"
   ]
  },
  {
   "cell_type": "code",
   "execution_count": 56,
   "id": "6e9fd5e9-f532-40b2-8627-8cef9909cb7c",
   "metadata": {},
   "outputs": [],
   "source": [
    "# функция для нормальной печати юникодных символов при разборе\n",
    "def bprint(obj):\n",
    "    print(obj.__repr__().decode('string_escape'))\n"
   ]
  },
  {
   "cell_type": "markdown",
   "id": "855e9cd1-8736-4107-b157-721f2c939192",
   "metadata": {},
   "source": [
    "# Задача\n",
    "\n",
    "Разобрать h2 заголовок с разметкой типов заголовка, default = TEXT, добавить SKIP как возможность двух типов."
   ]
  },
  {
   "cell_type": "code",
   "execution_count": null,
   "id": "d1373281-279d-4a8a-8374-b2f645cf4437",
   "metadata": {},
   "outputs": [],
   "source": []
  },
  {
   "cell_type": "markdown",
   "id": "8aec9f6b-546c-47ac-9691-e684d37b49e2",
   "metadata": {},
   "source": [
    "## Документация\n",
    "\n",
    "* [Индекс](https://pythonhosted.org/pyparsing/identifier-index.html) фукнций и классов\n",
    "* http://xgu.ru/wiki/pyparsing - маленькая страница, но на русском\n",
    "* http://netsago.org/ru/docs/1/8/ - на русском, разбор химических формул (возможно, перевод)\n",
    "* http://s.arboreus.com/2009/07/easy-parsing-in-python.html - на русском, пример входных данных х и у из таблицы, Group\n",
    "* https://habr.com/ru/articles/239081/ - статья на Хабре - разбор примера на import\n",
    "* https://habr.com/ru/articles/241670/ - продолжение статьи на Хабре, примеры с размерностями русскими и степенями."
   ]
  },
  {
   "cell_type": "markdown",
   "id": "5566dde1-b5da-4fab-9044-3a3caddbfe6f",
   "metadata": {},
   "source": [
    "## Вопросы для самопроверки\n",
    "\n",
    "1. Чем отличается Optional от ZeroOrMore?\n",
    "2. Какие названия методов являются устаревшими? Optional, optional, |\n",
    "3. Чем отличается Group от Combine?"
   ]
  }
 ],
 "metadata": {
  "kernelspec": {
   "display_name": "Python 3 (ipykernel)",
   "language": "python",
   "name": "python3"
  },
  "language_info": {
   "codemirror_mode": {
    "name": "ipython",
    "version": 3
   },
   "file_extension": ".py",
   "mimetype": "text/x-python",
   "name": "python",
   "nbconvert_exporter": "python",
   "pygments_lexer": "ipython3",
   "version": "3.10.2"
  }
 },
 "nbformat": 4,
 "nbformat_minor": 5
}
