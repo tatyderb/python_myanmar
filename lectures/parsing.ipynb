{
 "cells": [
  {
   "cell_type": "markdown",
   "id": "399424e5-e0ff-4432-bd02-6655ece7388c",
   "metadata": {},
   "source": [
    "# Синтаксический анализ\n",
    "\n",
    "Парсинг (синтаксический анализ) представляет собой процесс сопоставления последовательности слов или символов — так называемой формальной грамматике.\n",
    "\n",
    "Посмотрим, как в [формате БНФ](https://en.wikipedia.org/wiki/Backus%E2%80%93Naur_form) описывается в python оператор ветвления. https://docs.python.org/3/reference/compound_stmts.html#if \n",
    "]\n"
   ]
  },
  {
   "cell_type": "raw",
   "id": "b0fe4991-c68c-401a-a076-cddb8953e704",
   "metadata": {},
   "source": [
    "if_stmt ::=  \"if\" assignment_expression \":\" suite\n",
    "             (\"elif\" assignment_expression \":\" suite)*\n",
    "             [\"else\" \":\" suite]\n"
   ]
  },
  {
   "cell_type": "markdown",
   "id": "8fd368ef-3e3a-4ad9-9671-3848df594953",
   "metadata": {},
   "source": [
    "Формальная грамматика состоит из алфавита (набор символов) и правил порождения. То есть определение, \"новое понятие - это вот такая композиция из уже введенных понятий\".\n",
    "\n",
    "При разборе текст разбивается на единицы (токены). У каждого токена есть определение что это такое. Терминальный токен - он состоит из символов алфавита.\n",
    "\n",
    "Для синтаксического разбора можно использовать пакет [pyparsing](https://pythonhosted.org/pyparsing/pyparsing-module.html). Покажем как им пользоваться на примерах.\n",
    "\n",
    "Документация: https://pyparsing-docs.readthedocs.io/en/latest/\n"
   ]
  },
  {
   "cell_type": "code",
   "execution_count": 1,
   "id": "3d95e603-cda2-401b-9585-90b979089bf8",
   "metadata": {},
   "outputs": [],
   "source": [
    "# считаем, что этот импорт уже выполнен во всех примерах\n",
    "import pyparsing as pp"
   ]
  },
  {
   "cell_type": "markdown",
   "id": "077d61b6-4c3f-4065-86b5-53a57fc0da02",
   "metadata": {},
   "source": [
    "## Пример 1. Разбор строки import\n",
    "\n",
    "Дан текст вида\n",
    "```python\n",
    "import matplotlib.pyplot as plt\n",
    "```\n",
    "Хотим привести его в вид\n",
    "```python\n",
    "{ 'import': [ 'matplotlib', 'pyplot' ], 'as': 'plt' }\n",
    "```"
   ]
  },
  {
   "cell_type": "code",
   "execution_count": 2,
   "id": "20211a3b-1e66-4265-ba5d-8a74500fd087",
   "metadata": {},
   "outputs": [],
   "source": [
    "module_name = pp.Word(pp.alphas + '_')                              # имя модуля - это латинские буквы и _\n",
    "full_module_name = module_name + pp.ZeroOrMore('.' + module_name)   # модуль и может быть через . еще имена модулей\n",
    "import_as = pp.Optional('as' + module_name)                         # может быть, а может и не быть часть as алиас\n",
    "parse_module = 'import' + full_module_name + import_as              # соберем все в единую строку, начинающуюся с import"
   ]
  },
  {
   "cell_type": "code",
   "execution_count": 3,
   "id": "82830b95-14b4-4135-8e8c-e1cd24e156df",
   "metadata": {},
   "outputs": [
    {
     "data": {
      "text/plain": [
       "ParseResults(['import', 'matplotlib', '.', 'pyplot', 'as', 'plt'], {})"
      ]
     },
     "execution_count": 3,
     "metadata": {},
     "output_type": "execute_result"
    }
   ],
   "source": [
    "# разберем с помощью этих правил строку\n",
    "text = 'import        matplotlib.pyplot     as      plt'\n",
    "parse_module.parseString(text)"
   ]
  },
  {
   "cell_type": "code",
   "execution_count": 4,
   "id": "f06fd11d-e098-4953-aab1-f68480d50800",
   "metadata": {},
   "outputs": [
    {
     "data": {
      "text/plain": [
       "['import', 'matplotlib', '.', 'pyplot', 'as', 'plt']"
      ]
     },
     "execution_count": 4,
     "metadata": {},
     "output_type": "execute_result"
    }
   ],
   "source": [
    "# или в виде списка\n",
    "parse_module.parseString(text).asList()"
   ]
  },
  {
   "cell_type": "markdown",
   "id": "f0fe74b4-3f91-48b4-91fd-f94abb27c18d",
   "metadata": {},
   "source": [
    "## Suppress - уберем найденные токены из результирующего списка\n",
    "\n",
    "То есть эти токены обязаны быть, но в результат они не войдут. Варианты использования (пример для разделяющей запятой)\n",
    "```python\n",
    "comma = Suppress( Literal(\",\") ) \n",
    "comma = Literal(\",\").suppress() \n",
    "comma = Suppress(\",\")\n",
    "```"
   ]
  },
  {
   "cell_type": "code",
   "execution_count": 5,
   "id": "191923da-34d8-4f8e-9ee1-055514fc5589",
   "metadata": {},
   "outputs": [
    {
     "data": {
      "text/plain": [
       "['matplotlib', 'pyplot', 'plt']"
      ]
     },
     "execution_count": 5,
     "metadata": {},
     "output_type": "execute_result"
    }
   ],
   "source": [
    "module_name = pp.Word(pp.alphas + '_')                              # имя модуля - это латинские буквы и _\n",
    "full_module_name = module_name + pp.ZeroOrMore(pp.Suppress('.') + module_name)   # модуль и может быть через . еще имена модулей\n",
    "import_as = pp.Optional(pp.Suppress('as') + module_name)                         # может быть, а может и не быть часть as алиас\n",
    "parse_module = pp.Suppress('import') + full_module_name + import_as              # соберем все в единую строку, начинающуюся с import\n",
    "\n",
    "text = 'import matplotlib.pyplot as plt'\n",
    "parse_module.parseString(text).asList()"
   ]
  },
  {
   "cell_type": "markdown",
   "id": "22158026-67b1-4133-98ba-d745137a34f9",
   "metadata": {},
   "source": [
    "### Дадим имя правилу и будем обращаться по имени\n",
    "\n",
    "* Все выражение справа заключим в `( )`\n",
    "* После него поставим `('имя')`\n",
    "* Можно обращаться по имени `.имя` к части разобранного выражения"
   ]
  },
  {
   "cell_type": "code",
   "execution_count": 2,
   "id": "60c015d5-aa21-4516-a19d-4cce2d087b32",
   "metadata": {},
   "outputs": [],
   "source": [
    "import pyparsing as pp"
   ]
  },
  {
   "cell_type": "code",
   "execution_count": 3,
   "id": "636c0fc6-9943-4cd8-a772-0c6137ca7671",
   "metadata": {},
   "outputs": [],
   "source": [
    "module_name = pp.Word(pp.alphas + '_')\n",
    "full_module_name = (module_name + pp.ZeroOrMore(pp.Suppress('.') + module_name)) ('modules')  # дали имя modules\n",
    "import_as = (pp.Optional(pp.Suppress('as') + module_name))('import_as')                       # дали имя import_as\n",
    "parse_module = pp.Suppress('import') + full_module_name + import_as\n",
    "\n"
   ]
  },
  {
   "cell_type": "code",
   "execution_count": 4,
   "id": "6302ea63-d147-4907-8b00-ee2184ba2b86",
   "metadata": {},
   "outputs": [
    {
     "name": "stdout",
     "output_type": "stream",
     "text": [
      "res=ParseResults(['matplotlib', 'pyplot', 'plt'], {'modules': ['matplotlib', 'pyplot'], 'import_as': ['plt']})\n",
      "['matplotlib', 'pyplot']\n",
      "['plt']\n"
     ]
    }
   ],
   "source": [
    "\n",
    "text = 'import matplotlib.pyplot as plt'\n",
    "# text = 'import matplotlib.pyplot'\n",
    "res = parse_module.parseString(text)\n",
    "print(f'{res=}')\n",
    "print(res.modules.asList())\n",
    "#print('<'+res.import_as+'>', type(res.import_as))\n",
    "print(res.import_as.asList())"
   ]
  },
  {
   "cell_type": "markdown",
   "id": "564b51ee-2389-4498-9b73-9c82a6de3854",
   "metadata": {},
   "source": [
    "## setParseAction - преобразуем в нужный формат через lambda"
   ]
  },
  {
   "cell_type": "code",
   "execution_count": 7,
   "id": "cbb63ebb-8bde-4433-9993-bbcf88508c62",
   "metadata": {},
   "outputs": [],
   "source": [
    "parse_module = (pp.Suppress('import') + full_module_name).setParseAction(lambda t: {'import': t.modules.asList(), 'as': t.import_as.asList()[0]})"
   ]
  },
  {
   "cell_type": "code",
   "execution_count": 2,
   "id": "2fd1543b-df66-4fa6-a22b-6743eef8c3ed",
   "metadata": {},
   "outputs": [
    {
     "data": {
      "text/plain": [
       "ParseResults([{'import': ['matplotlib', 'pyplot'], 'as': 'plt'}], {})"
      ]
     },
     "execution_count": 2,
     "metadata": {},
     "output_type": "execute_result"
    }
   ],
   "source": [
    "import pyparsing as pp\n",
    "text = 'import matplotlib.pyplot as plt'\n",
    "module_name = pp.Word(pp.alphas + '_')\n",
    "full_module_name = (module_name + pp.ZeroOrMore(pp.Suppress('.') + module_name)) ('modules')  # дали имя modules\n",
    "import_as = (pp.Optional(pp.Suppress('as') + module_name))('import_as')                       # дали имя import_as\n",
    "parse_module = (pp.Suppress('import') + full_module_name + import_as).setParseAction(lambda t: {'import': t.modules.asList(), 'as': t.import_as.asList()[0]})\n",
    "parse_module.parseString(text)"
   ]
  },
  {
   "cell_type": "code",
   "execution_count": 9,
   "id": "3653670d-cbe2-4b23-b688-1af3d176a002",
   "metadata": {},
   "outputs": [
    {
     "data": {
      "text/plain": [
       "[{'import': ['matplotlib', 'pyplot'], 'as': 'plt'}]"
      ]
     },
     "execution_count": 9,
     "metadata": {},
     "output_type": "execute_result"
    }
   ],
   "source": [
    "parse_module.parseString(text).asList()"
   ]
  },
  {
   "cell_type": "code",
   "execution_count": 10,
   "id": "a162c0f0-c62e-4023-a233-a6c5db3b8c5d",
   "metadata": {},
   "outputs": [
    {
     "data": {
      "text/plain": [
       "{'import': ['matplotlib', 'pyplot'], 'as': 'plt'}"
      ]
     },
     "execution_count": 10,
     "metadata": {},
     "output_type": "execute_result"
    }
   ],
   "source": [
    "parse_module.parseString(text).asList()[0]"
   ]
  },
  {
   "cell_type": "markdown",
   "id": "8049b337-e3aa-46a4-baad-1be1e86e85b7",
   "metadata": {},
   "source": [
    "### Количество символов\n",
    "\n",
    "Для указания точного количества символов используют аргументы [Word](https://pythonhosted.org/pyparsing/pyparsing.Word-class.html)\n",
    "\n",
    "`__init__(self, initChars, bodyChars=None, min=1, max=0, exact=0, asKeyword=False, excludeChars=None)`       ''')"
   ]
  },
  {
   "cell_type": "code",
   "execution_count": 6,
   "id": "cbf74ad1-aa6c-494b-bef8-fbbe02569675",
   "metadata": {},
   "outputs": [
    {
     "name": "stdout",
     "output_type": "stream",
     "text": [
      "\n",
      "# traditional ZIP code\n",
      "12345\n",
      "['12345']\n",
      "\n",
      "# ZIP+4 form\n",
      "12101-0001\n",
      "['12101-0001']\n",
      "\n",
      "# invalid ZIP\n",
      "98765-\n",
      "98765-\n",
      "     ^\n",
      "ParseException: Expected end of text, found '-'  (at char 5), (line:1, col:6)\n",
      "FAIL: Expected end of text, found '-'  (at char 5), (line:1, col:6)\n"
     ]
    },
    {
     "data": {
      "text/plain": [
       "(False,\n",
       " [('12345', ParseResults(['12345'], {})),\n",
       "  ('12101-0001', ParseResults(['12101-0001'], {})),\n",
       "  ('98765-', Expected end of text, found '-'  (at char 5), (line:1, col:6))])"
      ]
     },
     "execution_count": 6,
     "metadata": {},
     "output_type": "execute_result"
    }
   ],
   "source": [
    "# US postal code can be a 5-digit zip, plus optional 4-digit qualifier\n",
    "zip = pp.Combine(pp.Word(pp.nums, exact=5) + pp.Optional('-' + pp.Word(pp.nums, exact=4)))\n",
    "zip.runTests('''\n",
    "   # traditional ZIP code\n",
    "   12345\n",
    "   \n",
    "   # ZIP+4 form\n",
    "   12101-0001\n",
    "   \n",
    "   # invalid ZIP\n",
    "   98765-\n",
    "   ''')\n"
   ]
  },
  {
   "cell_type": "markdown",
   "id": "224de02a-6af0-4f1b-a207-2249ca4e3056",
   "metadata": {},
   "source": [
    "## Пробельные символы, начало и конец\n",
    "\n",
    "По умолчанию все пробельные символы, начало и конец строки игнорируются. "
   ]
  },
  {
   "cell_type": "markdown",
   "id": "4f005a8c-471b-4233-8b46-9ae2ac240eec",
   "metadata": {},
   "source": [
    "Проблема: при `real = Word(nums) + '.' + Word(nums)` этой схеме соответствуют не только `3.14159`, но и с пробелами внутри, то есть `3. 14159`. Используйте **Combine**, чтобы указать, что пробелы внутри не допустимы и возвращать надо единым токеном."
   ]
  },
  {
   "cell_type": "code",
   "execution_count": 18,
   "id": "afd24572-22bb-4fb5-80b9-7bbe8985fdab",
   "metadata": {},
   "outputs": [
    {
     "name": "stdout",
     "output_type": "stream",
     "text": [
      "['3', '.', '1415']\n",
      "['3', '.', '12']\n"
     ]
    }
   ],
   "source": [
    "real = pp.Word(pp.nums) + '.' + pp.Word(pp.nums)\n",
    "res = real.parseString('3.1415')\n",
    "print(res)\n",
    "res = real.parseString('3.   12')\n",
    "print(res)"
   ]
  },
  {
   "cell_type": "code",
   "execution_count": 20,
   "id": "9f413956-0d06-43b5-997b-4f9c091d4fbf",
   "metadata": {},
   "outputs": [
    {
     "name": "stdout",
     "output_type": "stream",
     "text": [
      "['3.1415']\n"
     ]
    },
    {
     "ename": "ParseException",
     "evalue": "Expected W:(0-9), found ' '  (at char 2), (line:1, col:3)",
     "output_type": "error",
     "traceback": [
      "\u001b[1;31m---------------------------------------------------------------------------\u001b[0m",
      "\u001b[1;31mParseException\u001b[0m                            Traceback (most recent call last)",
      "Cell \u001b[1;32mIn[20], line 4\u001b[0m\n\u001b[0;32m      2\u001b[0m res \u001b[38;5;241m=\u001b[39m real\u001b[38;5;241m.\u001b[39mparseString(\u001b[38;5;124m'\u001b[39m\u001b[38;5;124m3.1415\u001b[39m\u001b[38;5;124m'\u001b[39m)    \u001b[38;5;66;03m# ['3.1415']\u001b[39;00m\n\u001b[0;32m      3\u001b[0m \u001b[38;5;28mprint\u001b[39m(res)\n\u001b[1;32m----> 4\u001b[0m res \u001b[38;5;241m=\u001b[39m \u001b[43mreal\u001b[49m\u001b[38;5;241;43m.\u001b[39;49m\u001b[43mparseString\u001b[49m\u001b[43m(\u001b[49m\u001b[38;5;124;43m'\u001b[39;49m\u001b[38;5;124;43m3.   12\u001b[39;49m\u001b[38;5;124;43m'\u001b[39;49m\u001b[43m)\u001b[49m   \u001b[38;5;66;03m# ошибка\u001b[39;00m\n\u001b[0;32m      5\u001b[0m \u001b[38;5;28mprint\u001b[39m(res)\n",
      "File \u001b[1;32m~\\PycharmProjects\\deploy_scripts\\venv\\lib\\site-packages\\pyparsing\\core.py:1141\u001b[0m, in \u001b[0;36mParserElement.parse_string\u001b[1;34m(self, instring, parse_all, parseAll)\u001b[0m\n\u001b[0;32m   1138\u001b[0m         \u001b[38;5;28;01mraise\u001b[39;00m\n\u001b[0;32m   1139\u001b[0m     \u001b[38;5;28;01melse\u001b[39;00m:\n\u001b[0;32m   1140\u001b[0m         \u001b[38;5;66;03m# catch and re-raise exception from here, clearing out pyparsing internal stack trace\u001b[39;00m\n\u001b[1;32m-> 1141\u001b[0m         \u001b[38;5;28;01mraise\u001b[39;00m exc\u001b[38;5;241m.\u001b[39mwith_traceback(\u001b[38;5;28;01mNone\u001b[39;00m)\n\u001b[0;32m   1142\u001b[0m \u001b[38;5;28;01melse\u001b[39;00m:\n\u001b[0;32m   1143\u001b[0m     \u001b[38;5;28;01mreturn\u001b[39;00m tokens\n",
      "\u001b[1;31mParseException\u001b[0m: Expected W:(0-9), found ' '  (at char 2), (line:1, col:3)"
     ]
    }
   ],
   "source": [
    "real = pp.Combine(pp.Word(pp.nums) + '.' + pp.Word(pp.nums))\n",
    "res = real.parseString('3.1415')    # ['3.1415']\n",
    "print(res)\n",
    "res = real.parseString('3.   12')   # ошибка\n",
    "print(res)"
   ]
  },
  {
   "cell_type": "markdown",
   "id": "6d5a4aae-392f-4798-9bf0-30c83cbbe178",
   "metadata": {},
   "source": [
    "Не путать **Combine** с **Group**. \n",
    "\n",
    "**Group** дает только группировку в подсписке в результирующем списке разбора и не обращает внимания на пробелы.\n",
    "\n",
    "Use the Group class to enclose logical groups of tokens within a sublist. This will help organize your results into more hierarchical form (the default behavior is to return matching tokens as a flat list of matching input strings)."
   ]
  },
  {
   "cell_type": "markdown",
   "id": "09286abe-6606-4065-b0e2-9ef644570d3b",
   "metadata": {},
   "source": [
    "* `ParserElement.set_default_whitespace_chars` по умолчанию содержит `' \\t\\n'`. Для грамматики, где символ `\\n` значимый, стоит указать `' \\t'`. Можно изменить и тогда весь дальнейший парсинг будет работать с новым набором пробельных символов.\n",
    "\n",
    "*  Вызовите [leaveWhitespace()](https://pythonhosted.org/pyparsing/pyparsing.Forward-class.html#leaveWhitespace) на отдельное выражение перед его разбором, чтобы выключить пропуск пробельных символов при разборе. Disables the skipping of whitespace before matching the characters in the ParserElement's defined pattern. This is normally only used internally by the pyparsing module, but may be needed in some whitespace-sensitive grammars.tables)."
   ]
  },
  {
   "cell_type": "markdown",
   "id": "b8852788-fd14-46d5-b4d4-e99f2de4a63d",
   "metadata": {},
   "source": [
    "| Токен | Означает |\n",
    "|----|----|\n",
    "| [White()](https://pythonhosted.org/pyparsing/pyparsing.White-class.html) | пробельный символ (пробел, \\n, \\t, \\r) |\n",
    "| `AtLineStart` | точно в начале строки  |\n",
    "| `AtLineEnd` | точно в конце строки |\n",
    "| `LineStart` | Matches if current position is at the beginning of a line within the parse string |\n",
    "| `LineEnd` | Matches if current position is at the end of a line within the parse string. |\n",
    "| `StringStart` | Matches if current position is at the beginning of the parse string. |\n",
    "| `StringEnd` | Matches if current position is at the end of the parse string.  |\n",
    "| `WordStart` | Matches if the current position is at the beginning of a Word, and is not preceded by any character in a given set of wordChars (default=printables characters) |\n",
    "| `WordEnd` | Matches if the current position is at the end of a Word, and is not followed by any character in a given set of wordChars (default=printables characters). |"
   ]
  },
  {
   "cell_type": "code",
   "execution_count": 8,
   "id": "603d3f79-55a8-4816-b6e1-ec49d45633a7",
   "metadata": {},
   "outputs": [
    {
     "ename": "ParseException",
     "evalue": "Expected start of line, found 'ABC'  (at char 2), (line:1, col:3)",
     "output_type": "error",
     "traceback": [
      "\u001b[1;31m---------------------------------------------------------------------------\u001b[0m",
      "\u001b[1;31mParseException\u001b[0m                            Traceback (most recent call last)",
      "Cell \u001b[1;32mIn[8], line 4\u001b[0m\n\u001b[0;32m      2\u001b[0m (pp\u001b[38;5;241m.\u001b[39mLineStart() \u001b[38;5;241m+\u001b[39m pp\u001b[38;5;241m.\u001b[39mWord(pp\u001b[38;5;241m.\u001b[39malphas))\u001b[38;5;241m.\u001b[39mparseString(\u001b[38;5;124m\"\u001b[39m\u001b[38;5;124m  ABC\u001b[39m\u001b[38;5;124m\"\u001b[39m)  \u001b[38;5;66;03m# passes\u001b[39;00m\n\u001b[0;32m      3\u001b[0m (pp\u001b[38;5;241m.\u001b[39mCombine(pp\u001b[38;5;241m.\u001b[39mLineStart() \u001b[38;5;241m+\u001b[39m pp\u001b[38;5;241m.\u001b[39mWord(pp\u001b[38;5;241m.\u001b[39malphas)))\u001b[38;5;241m.\u001b[39mparseString(\u001b[38;5;124m\"\u001b[39m\u001b[38;5;124mABC\u001b[39m\u001b[38;5;124m\"\u001b[39m)    \u001b[38;5;66;03m# passes\u001b[39;00m\n\u001b[1;32m----> 4\u001b[0m \u001b[43m(\u001b[49m\u001b[43mpp\u001b[49m\u001b[38;5;241;43m.\u001b[39;49m\u001b[43mCombine\u001b[49m\u001b[43m(\u001b[49m\u001b[43mpp\u001b[49m\u001b[38;5;241;43m.\u001b[39;49m\u001b[43mLineStart\u001b[49m\u001b[43m(\u001b[49m\u001b[43m)\u001b[49m\u001b[43m \u001b[49m\u001b[38;5;241;43m+\u001b[39;49m\u001b[43m \u001b[49m\u001b[43mpp\u001b[49m\u001b[38;5;241;43m.\u001b[39;49m\u001b[43mWord\u001b[49m\u001b[43m(\u001b[49m\u001b[43mpp\u001b[49m\u001b[38;5;241;43m.\u001b[39;49m\u001b[43malphas\u001b[49m\u001b[43m)\u001b[49m\u001b[43m)\u001b[49m\u001b[43m)\u001b[49m\u001b[38;5;241;43m.\u001b[39;49m\u001b[43mparseString\u001b[49m\u001b[43m(\u001b[49m\u001b[38;5;124;43m\"\u001b[39;49m\u001b[38;5;124;43m  ABC\u001b[39;49m\u001b[38;5;124;43m\"\u001b[39;49m\u001b[43m)\u001b[49m  \u001b[38;5;66;03m# fails\u001b[39;00m\n\u001b[0;32m      5\u001b[0m pp\u001b[38;5;241m.\u001b[39mAtLineStart(pp\u001b[38;5;241m.\u001b[39mWord(pp\u001b[38;5;241m.\u001b[39malphas))\u001b[38;5;241m.\u001b[39mparseString(\u001b[38;5;124m\"\u001b[39m\u001b[38;5;124mABC\u001b[39m\u001b[38;5;124m\"\u001b[39m)     \u001b[38;5;66;03m# passes\u001b[39;00m\n\u001b[0;32m      6\u001b[0m pp\u001b[38;5;241m.\u001b[39mAtLineStart(pp\u001b[38;5;241m.\u001b[39mWord(pp\u001b[38;5;241m.\u001b[39malphas))\u001b[38;5;241m.\u001b[39mparseString(\u001b[38;5;124m\"\u001b[39m\u001b[38;5;124m  ABC\u001b[39m\u001b[38;5;124m\"\u001b[39m)     \u001b[38;5;66;03m# fails\u001b[39;00m\n",
      "File \u001b[1;32m~\\PycharmProjects\\deploy_scripts\\venv\\lib\\site-packages\\pyparsing\\core.py:1141\u001b[0m, in \u001b[0;36mParserElement.parse_string\u001b[1;34m(self, instring, parse_all, parseAll)\u001b[0m\n\u001b[0;32m   1138\u001b[0m         \u001b[38;5;28;01mraise\u001b[39;00m\n\u001b[0;32m   1139\u001b[0m     \u001b[38;5;28;01melse\u001b[39;00m:\n\u001b[0;32m   1140\u001b[0m         \u001b[38;5;66;03m# catch and re-raise exception from here, clearing out pyparsing internal stack trace\u001b[39;00m\n\u001b[1;32m-> 1141\u001b[0m         \u001b[38;5;28;01mraise\u001b[39;00m exc\u001b[38;5;241m.\u001b[39mwith_traceback(\u001b[38;5;28;01mNone\u001b[39;00m)\n\u001b[0;32m   1142\u001b[0m \u001b[38;5;28;01melse\u001b[39;00m:\n\u001b[0;32m   1143\u001b[0m     \u001b[38;5;28;01mreturn\u001b[39;00m tokens\n",
      "\u001b[1;31mParseException\u001b[0m: Expected start of line, found 'ABC'  (at char 2), (line:1, col:3)"
     ]
    }
   ],
   "source": [
    "(pp.LineStart() + pp.Word(pp.alphas)).parseString(\"ABC\")    # passes\n",
    "(pp.LineStart() + pp.Word(pp.alphas)).parseString(\"  ABC\")  # passes\n",
    "(pp.Combine(pp.LineStart() + pp.Word(pp.alphas))).parseString(\"ABC\")    # passes\n",
    "(pp.Combine(pp.LineStart() + pp.Word(pp.alphas))).parseString(\"  ABC\")  # fails\n",
    "pp.AtLineStart(pp.Word(pp.alphas)).parseString(\"ABC\")     # passes\n",
    "pp.AtLineStart(pp.Word(pp.alphas)).parseString(\"  ABC\")     # fails"
   ]
  },
  {
   "cell_type": "markdown",
   "id": "863a14a7-1a19-4353-8a79-57909098b270",
   "metadata": {},
   "source": [
    "## Базовые элементы "
   ]
  },
  {
   "cell_type": "markdown",
   "id": "670b4abc-aff8-457f-b33a-366cd3e9b592",
   "metadata": {},
   "source": [
    "| Класс | Пример | Что значит |\n",
    "|----|----|----|\n",
    "| Literal | `Literal('import')` | точное соотвествие строки | \n",
    "| Keyword | `Keyword('##')`, `Keyword('import')` | похоже на Literal, но требует, чтобы после него был пробельный символ или символ пунктуации; нужен, чтобы imported не разобрать как import и еще остаток. |\n",
    "| CaselessKeyword | `` | похоже на Keyword, но игнорирует регистр |\n",
    "| Char | `Char('#')` | ровно один символ |\n",
    "| Word  | `Word('#')`,  `Word(nums)` | последовательность из перечисленных символов |\n",
    "| CharsNotIn  |  | похоже на Word, но берем только те символы, что не перечислены |\n",
    "| Regex  |  | регулярное выражение |\n"
   ]
  },
  {
   "cell_type": "code",
   "execution_count": 23,
   "id": "2e0f6593-799e-4f75-a81f-342f4585530c",
   "metadata": {},
   "outputs": [
    {
     "name": "stdout",
     "output_type": "stream",
     "text": [
      "['baaacdac', 'abcd', 'abc', 'ccc']\n",
      "['abcd']\n"
     ]
    }
   ],
   "source": [
    "w1 = pp.Word('abcd')\n",
    "text = w1 + pp.ZeroOrMore(w1)\n",
    "print(text.parseString('baaacdac abcd abc ccc'))\n",
    "print(text.parseString('abcdqqqbdc  aaa'))"
   ]
  },
  {
   "cell_type": "code",
   "execution_count": 6,
   "id": "34a92eb1-0a04-4081-ad38-6c7f7753cd58",
   "metadata": {},
   "outputs": [
    {
     "name": "stdout",
     "output_type": "stream",
     "text": [
      "['abcd', 'abcd', 'abcd']\n",
      "['abcd']\n"
     ]
    }
   ],
   "source": [
    "w3 = pp.Literal('abcd')\n",
    "text = w3 + pp.ZeroOrMore(w3)\n",
    "print(text.parseString('abcd abcd abcd badc'))\n",
    "print(text.parseString('abcdd ccc baaacdac'))\n"
   ]
  },
  {
   "cell_type": "code",
   "execution_count": 16,
   "id": "76b7775a-5562-4742-8c49-4db1a1a3d330",
   "metadata": {},
   "outputs": [
    {
     "name": "stdout",
     "output_type": "stream",
     "text": [
      "['abcd', 'abcd', 'abcd']\n",
      "['abcd']\n"
     ]
    },
    {
     "ename": "ParseException",
     "evalue": "Expected Keyword 'abcd', keyword was immediately followed by keyword character, found 'qqqbdc'  (at char 4), (line:1, col:5)",
     "output_type": "error",
     "traceback": [
      "\u001b[1;31m---------------------------------------------------------------------------\u001b[0m",
      "\u001b[1;31mParseException\u001b[0m                            Traceback (most recent call last)",
      "Cell \u001b[1;32mIn[16], line 5\u001b[0m\n\u001b[0;32m      3\u001b[0m \u001b[38;5;28mprint\u001b[39m(text\u001b[38;5;241m.\u001b[39mparseString(\u001b[38;5;124m'\u001b[39m\u001b[38;5;124mabcd abcd abcd badc\u001b[39m\u001b[38;5;124m'\u001b[39m))\n\u001b[0;32m      4\u001b[0m \u001b[38;5;28mprint\u001b[39m(text\u001b[38;5;241m.\u001b[39mparseString(\u001b[38;5;124m'\u001b[39m\u001b[38;5;124mabcd abcdz ccc baaacdac\u001b[39m\u001b[38;5;124m'\u001b[39m))\n\u001b[1;32m----> 5\u001b[0m \u001b[38;5;28mprint\u001b[39m(\u001b[43mtext\u001b[49m\u001b[38;5;241;43m.\u001b[39;49m\u001b[43mparseString\u001b[49m\u001b[43m(\u001b[49m\u001b[38;5;124;43m'\u001b[39;49m\u001b[38;5;124;43mabcdqqqbdc  aaa\u001b[39;49m\u001b[38;5;124;43m'\u001b[39;49m\u001b[43m)\u001b[49m)\n",
      "File \u001b[1;32m~\\PycharmProjects\\deploy_scripts\\venv\\lib\\site-packages\\pyparsing\\core.py:1141\u001b[0m, in \u001b[0;36mParserElement.parse_string\u001b[1;34m(self, instring, parse_all, parseAll)\u001b[0m\n\u001b[0;32m   1138\u001b[0m         \u001b[38;5;28;01mraise\u001b[39;00m\n\u001b[0;32m   1139\u001b[0m     \u001b[38;5;28;01melse\u001b[39;00m:\n\u001b[0;32m   1140\u001b[0m         \u001b[38;5;66;03m# catch and re-raise exception from here, clearing out pyparsing internal stack trace\u001b[39;00m\n\u001b[1;32m-> 1141\u001b[0m         \u001b[38;5;28;01mraise\u001b[39;00m exc\u001b[38;5;241m.\u001b[39mwith_traceback(\u001b[38;5;28;01mNone\u001b[39;00m)\n\u001b[0;32m   1142\u001b[0m \u001b[38;5;28;01melse\u001b[39;00m:\n\u001b[0;32m   1143\u001b[0m     \u001b[38;5;28;01mreturn\u001b[39;00m tokens\n",
      "\u001b[1;31mParseException\u001b[0m: Expected Keyword 'abcd', keyword was immediately followed by keyword character, found 'qqqbdc'  (at char 4), (line:1, col:5)"
     ]
    }
   ],
   "source": [
    "w2 = pp.Keyword('abcd')\n",
    "text = w2 + pp.ZeroOrMore(w2) \n",
    "print(text.parseString('abcd abcd abcd badc'))\n",
    "print(text.parseString('abcd abcdz ccc baaacdac'))\n",
    "#print(text.parseString('abcdqqqbdc  aaa'))  # должно быть хотя бы одно ключевое слово, а нет ни одного"
   ]
  },
  {
   "cell_type": "code",
   "execution_count": 18,
   "id": "2e820be9-46ca-4f8b-b2a6-48312841f70a",
   "metadata": {},
   "outputs": [],
   "source": [
    "ident = pp.Word(pp.alphas+\"_\", pp.alphanums+\"_\")\n",
    "pp.Word(pp.srange(\"[a-zA-Z_]\"), pp.srange(\"[a-zA-Z0-9_]\"))\n",
    "\n",
    "ip_address = pp.Word(pp.nums) + ('.' + pp.Word(pp.nums)) * 3"
   ]
  },
  {
   "cell_type": "code",
   "execution_count": 22,
   "id": "8672c60e-df69-4121-bd14-92eb34c6a0da",
   "metadata": {},
   "outputs": [
    {
     "name": "stdout",
     "output_type": "stream",
     "text": [
      "['x__12']\n",
      "['_']\n",
      "['_x12']\n"
     ]
    },
    {
     "ename": "ParseException",
     "evalue": "Expected W:(A-Z_a-z, 0-9A-Z_a-z), found '3x'  (at char 0), (line:1, col:1)",
     "output_type": "error",
     "traceback": [
      "\u001b[1;31m---------------------------------------------------------------------------\u001b[0m",
      "\u001b[1;31mParseException\u001b[0m                            Traceback (most recent call last)",
      "Cell \u001b[1;32mIn[22], line 4\u001b[0m\n\u001b[0;32m      2\u001b[0m \u001b[38;5;28mprint\u001b[39m(ident\u001b[38;5;241m.\u001b[39mparseString(\u001b[38;5;124m'\u001b[39m\u001b[38;5;124m_\u001b[39m\u001b[38;5;124m'\u001b[39m))\n\u001b[0;32m      3\u001b[0m \u001b[38;5;28mprint\u001b[39m(ident\u001b[38;5;241m.\u001b[39mparseString(\u001b[38;5;124m'\u001b[39m\u001b[38;5;124m_x12\u001b[39m\u001b[38;5;124m'\u001b[39m))\n\u001b[1;32m----> 4\u001b[0m \u001b[38;5;28mprint\u001b[39m(\u001b[43mident\u001b[49m\u001b[38;5;241;43m.\u001b[39;49m\u001b[43mparseString\u001b[49m\u001b[43m(\u001b[49m\u001b[38;5;124;43m'\u001b[39;49m\u001b[38;5;124;43m3x__12\u001b[39;49m\u001b[38;5;124;43m'\u001b[39;49m\u001b[43m)\u001b[49m)\n",
      "File \u001b[1;32m~\\PycharmProjects\\deploy_scripts\\venv\\lib\\site-packages\\pyparsing\\core.py:1141\u001b[0m, in \u001b[0;36mParserElement.parse_string\u001b[1;34m(self, instring, parse_all, parseAll)\u001b[0m\n\u001b[0;32m   1138\u001b[0m         \u001b[38;5;28;01mraise\u001b[39;00m\n\u001b[0;32m   1139\u001b[0m     \u001b[38;5;28;01melse\u001b[39;00m:\n\u001b[0;32m   1140\u001b[0m         \u001b[38;5;66;03m# catch and re-raise exception from here, clearing out pyparsing internal stack trace\u001b[39;00m\n\u001b[1;32m-> 1141\u001b[0m         \u001b[38;5;28;01mraise\u001b[39;00m exc\u001b[38;5;241m.\u001b[39mwith_traceback(\u001b[38;5;28;01mNone\u001b[39;00m)\n\u001b[0;32m   1142\u001b[0m \u001b[38;5;28;01melse\u001b[39;00m:\n\u001b[0;32m   1143\u001b[0m     \u001b[38;5;28;01mreturn\u001b[39;00m tokens\n",
      "\u001b[1;31mParseException\u001b[0m: Expected W:(A-Z_a-z, 0-9A-Z_a-z), found '3x'  (at char 0), (line:1, col:1)"
     ]
    }
   ],
   "source": [
    "print(ident.parseString('x__12'))\n",
    "print(ident.parseString('_'))\n",
    "print(ident.parseString('_x12'))\n",
    "#print(ident.parseString('3x__12'))"
   ]
  },
  {
   "cell_type": "markdown",
   "id": "cb36e71f-fbc5-44b9-af57-0f5215d0b5e4",
   "metadata": {},
   "source": [
    "## restOfLine = rest of line"
   ]
  },
  {
   "cell_type": "code",
   "execution_count": 39,
   "id": "a39282ed-1937-4f82-8e9e-3bd04a45d35d",
   "metadata": {},
   "outputs": [
    {
     "data": {
      "text/plain": [
       "ParseResults(['#', ' ', 'Название урока'], {'lesson_title': 'Название урока'})"
      ]
     },
     "execution_count": 39,
     "metadata": {},
     "output_type": "execute_result"
    }
   ],
   "source": [
    "h1 = pp.Keyword('#') + pp.White() + (pp.restOfLine())('lesson_title')\n",
    "res = h1.parseString(\"# Название урока\")\n",
    "res\n",
    "# как оставить только ['Название урока'] в списке разобранных токенов?"
   ]
  },
  {
   "cell_type": "markdown",
   "id": "ac1c1ca6-5c45-4573-a35e-a515c4c58fbc",
   "metadata": {},
   "source": [
    "## Количество токенов"
   ]
  },
  {
   "cell_type": "markdown",
   "id": "26268b5a-283a-4f89-82fe-1fea5fea4938",
   "metadata": {},
   "source": [
    "Можно указать сколько раз может быть повторен тот или иной токен при разборе."
   ]
  },
  {
   "cell_type": "markdown",
   "id": "247c126a-f886-4ef3-857a-3a067c4adf38",
   "metadata": {},
   "source": [
    "| метод | regexp style | что означает |\n",
    "|----|----|----|\n",
    "| `` | `expr*3` | `expr+expr+expr` |\n",
    "| `Optional(expr)` `Opt(expr)` | `expr[0,1]` | выражение есть или нет, оно опционально. |\n",
    "|  `expr + expr + Opt(expr)` | `expr[2, 3]` | - два или три таких выражения |\n",
    "| `ZeroOrMore(expr)` | `expr[...]`, `expr[0, ...]`, '`expr * ...` | ноль или более раз  |\n",
    "| `OneOrMore(expr)` | `expr[1, ...]` | один или более раз  |\n",
    "| `` | `expr[n, ...]` | n или более раз  |\n",
    "| `` | `expr[..., n]` | не более n раз |\n"
   ]
  },
  {
   "cell_type": "code",
   "execution_count": null,
   "id": "91ffaf17-6486-449c-aa08-91557923abec",
   "metadata": {},
   "outputs": [],
   "source": []
  },
  {
   "cell_type": "markdown",
   "id": "ea0d9019-e0ca-4159-999e-322af0dae9bd",
   "metadata": {},
   "source": [
    "## Unicode символы\n",
    "\n",
    "Специальные наборы алфавитов. Но! Нам это вообще не нужно.\r\n"
   ]
  },
  {
   "cell_type": "code",
   "execution_count": 56,
   "id": "6e9fd5e9-f532-40b2-8627-8cef9909cb7c",
   "metadata": {},
   "outputs": [],
   "source": [
    "# функция для нормальной печати юникодных символов при разборе\n",
    "def bprint(obj):\n",
    "    print(obj.__repr__().decode('string_escape'))\n"
   ]
  },
  {
   "cell_type": "markdown",
   "id": "855e9cd1-8736-4107-b157-721f2c939192",
   "metadata": {},
   "source": [
    "# Задача\n",
    "\n",
    "Разобрать h2 заголовок с разметкой типов заголовка, default = TEXT, добавить SKIP как возможность двух типов."
   ]
  },
  {
   "cell_type": "code",
   "execution_count": null,
   "id": "d1373281-279d-4a8a-8374-b2f645cf4437",
   "metadata": {},
   "outputs": [],
   "source": []
  },
  {
   "cell_type": "markdown",
   "id": "8aec9f6b-546c-47ac-9691-e684d37b49e2",
   "metadata": {},
   "source": [
    "## Документация\n",
    "\n",
    "* [Индекс](https://pythonhosted.org/pyparsing/identifier-index.html) фукнций и классов\n",
    "* https://pyparsing-docs.readthedocs.io/en/latest/HowToUsePyparsing.html\n",
    "* http://xgu.ru/wiki/pyparsing - маленькая страница, но на русском\n",
    "* http://netsago.org/ru/docs/1/8/ - на русском, разбор химических формул (возможно, перевод)\n",
    "* http://s.arboreus.com/2009/07/easy-parsing-in-python.html - на русском, пример входных данных х и у из таблицы, Group\n",
    "* https://habr.com/ru/articles/239081/ - статья на Хабре - разбор примера на import\n",
    "* https://habr.com/ru/articles/241670/ - продолжение статьи на Хабре, примеры с размерностями русскими и степенями."
   ]
  },
  {
   "cell_type": "markdown",
   "id": "f4c2051f-95f6-4cd9-bf54-9c4ce9239f80",
   "metadata": {},
   "source": [
    "# Best Practice\n",
    "\n",
    "https://github.com/pyparsing/pyparsing/wiki/Best-Practices#use-parse-actions"
   ]
  },
  {
   "cell_type": "markdown",
   "id": "5566dde1-b5da-4fab-9044-3a3caddbfe6f",
   "metadata": {},
   "source": [
    "## Вопросы для самопроверки\n",
    "\n",
    "1. Чем отличается Optional от ZeroOrMore?\n",
    "2. Какие названия методов являются устаревшими? Optional, optional, |\n",
    "3. Чем отличается Group от Combine?"
   ]
  },
  {
   "cell_type": "code",
   "execution_count": null,
   "id": "fd1a9c10-5ba1-480f-bb72-df80dcfe1b50",
   "metadata": {},
   "outputs": [],
   "source": []
  }
 ],
 "metadata": {
  "kernelspec": {
   "display_name": "Python 3 (ipykernel)",
   "language": "python",
   "name": "python3"
  },
  "language_info": {
   "codemirror_mode": {
    "name": "ipython",
    "version": 3
   },
   "file_extension": ".py",
   "mimetype": "text/x-python",
   "name": "python",
   "nbconvert_exporter": "python",
   "pygments_lexer": "ipython3",
   "version": "3.10.2"
  }
 },
 "nbformat": 4,
 "nbformat_minor": 5
}
