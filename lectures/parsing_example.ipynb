{
 "cells": [
  {
   "cell_type": "markdown",
   "id": "da86e0ce-7275-4f47-b0d1-5d5eaa2aa59e",
   "metadata": {},
   "source": [
    "# Пример разбора словаря"
   ]
  },
  {
   "cell_type": "markdown",
   "id": "6cb28767-60ad-47ba-8645-ac900c08a43e",
   "metadata": {},
   "source": [
    "https://scipy-cookbook.readthedocs.io/items/Reading_Custom_Text_Files_with_Pyparsing.html"
   ]
  },
  {
   "cell_type": "code",
   "execution_count": 1,
   "id": "df7aeb26-31ae-4744-9854-a729823acd08",
   "metadata": {},
   "outputs": [],
   "source": [
    "import pyparsing as pp\n",
    "import numpy as np\n",
    "filename = 'parsing_example/data3.txt'"
   ]
  },
  {
   "cell_type": "markdown",
   "id": "53d24f78-db05-4ea8-9a43-4951b265ff6f",
   "metadata": {},
   "source": [
    "## Разбор строк вида \"переменная (размерность) = значение\""
   ]
  },
  {
   "cell_type": "code",
   "execution_count": 2,
   "id": "879f7998-c435-4404-8fa0-84d25307590b",
   "metadata": {},
   "outputs": [],
   "source": [
    "keyName = pp.Word(pp.alphanums + '_')\n",
    "unitDef = pp.Suppress('(') + pp.Word(pp.alphanums + '^*/-._') + pp.Suppress(')')\n",
    "paramValueDef = pp.SkipTo('#' | pp.lineEnd)\n",
    "\n",
    "paramDef = keyName('name') + pp.Optional(unitDef)('unit') + pp.Suppress('='+pp.empty) + paramValueDef('value')"
   ]
  },
  {
   "cell_type": "code",
   "execution_count": 3,
   "id": "e9551547-b9a6-44a9-b8d1-8953dcd1d3bc",
   "metadata": {},
   "outputs": [
    {
     "name": "stdout",
     "output_type": "stream",
     "text": [
      "['Debug', 'False']\n",
      "- name: 'Debug'\n",
      "- value: 'False'\n",
      "...\n",
      "['Shape', 'mm^-1', '2.3']\n",
      "- name: 'Shape'\n",
      "- unit: ['mm^-1']\n",
      "- value: '2.3'\n",
      "...\n",
      "['Length', 'mm', '25361.15']\n",
      "- name: 'Length'\n",
      "- unit: ['mm']\n",
      "- value: '25361.15'\n",
      "...\n",
      "['1', 'C:\\\\\\\\This\\\\is\\\\a\\\\long\\\\path\\\\with some space in it\\\\data.txt']\n",
      "- name: '1'\n",
      "- value: 'C:\\\\\\\\This\\\\is\\\\a\\\\long\\\\path\\\\with some space in it\\\\data.txt'\n",
      "...\n",
      "['description', 'raw values can have multiple lines, but additional lines must start']\n",
      "- name: 'description'\n",
      "- value: 'raw values can have multiple lines, but additional lines must start'\n",
      "...\n",
      "['Parent', 'None']\n",
      "- name: 'Parent'\n",
      "- value: 'None'\n",
      "...\n"
     ]
    }
   ],
   "source": [
    "with open(filename) as fin:\n",
    "    for param in paramDef.searchString(fin.read()):\n",
    "        print(param.dump())\n",
    "        print('...')"
   ]
  },
  {
   "cell_type": "markdown",
   "id": "6cb43a97-dec0-4d2b-81b7-37266561f173",
   "metadata": {},
   "source": [
    "Проблемы:\n",
    "* `Path 1` разобрано как `1`\n",
    "* description должно иметь значение из 2 строк, учтена только одна\n",
    "* числа, True/False, None - все являются строками"
   ]
  },
  {
   "cell_type": "markdown",
   "id": "41036de3-2fc8-4396-a7ef-e4409d254276",
   "metadata": {},
   "source": [
    "## Регулярные выражения"
   ]
  },
  {
   "cell_type": "markdown",
   "id": "d165466f-8fe7-464b-b39a-eeb67ad42506",
   "metadata": {},
   "source": [
    "Небольшое выражение иногда проще разобрать с помощью регулярного выражения.\n",
    "\n",
    "Разберем, как это делается на примере разбора чисел: целых, с плавающей точкой и быть может экспонентой.\n",
    "\n",
    "Для этого воспользуемся понятием **именованной группы** [named capturing group](https://developer.mozilla.org/en-US/docs/Web/JavaScript/Reference/Regular_expressions/Named_capturing_group)\n",
    "которая обозначается как"
   ]
  },
  {
   "cell_type": "raw",
   "id": "59acba83-aa7b-44f4-8392-5c52990e006a",
   "metadata": {},
   "source": [
    "(?<name>patten)"
   ]
  },
  {
   "cell_type": "markdown",
   "id": "41777da6-b082-4f15-8415-7a589367e54a",
   "metadata": {},
   "source": [
    "В [python](https://docs.python.org/3/library/re.html#regular-expression-syntax\n",
    ") именованная группа обозначается так:"
   ]
  },
  {
   "cell_type": "raw",
   "id": "f8e01760-60bf-42f2-8bc7-1ab7398870dc",
   "metadata": {},
   "source": [
    "(?P<name>pattern)"
   ]
  },
  {
   "cell_type": "markdown",
   "id": "b8110f22-c2b4-4990-816e-4e6e14d7129f",
   "metadata": {},
   "source": [
    "Выражение"
   ]
  },
  {
   "cell_type": "raw",
   "id": "f82a96ae-8447-40b2-8ef3-0572d15c0f77",
   "metadata": {},
   "source": [
    "(?:...)"
   ]
  },
  {
   "cell_type": "markdown",
   "id": "0afdd317-f480-4ce4-8b45-81af6a93f42f",
   "metadata": {},
   "source": [
    "\n",
    "A non-capturing version of regular parentheses.\r\n",
    "Matches whatever regular expression is inside the parentheses,\r\n",
    "but the substring matched by the group cannot be retrieved after performing a match or referenced later in the patter...)"
   ]
  },
  {
   "cell_type": "code",
   "execution_count": 3,
   "id": "f79544d9-ad0f-489f-8169-07203aecfd54",
   "metadata": {},
   "outputs": [
    {
     "name": "stdout",
     "output_type": "stream",
     "text": [
      "[['1'], ['2'], ['3.0'], ['0.3'], ['.3'], ['4.'], ['2e2'], ['-.2e+2'], ['+2.2256E-2'], ['5'], ['6']]\n"
     ]
    }
   ],
   "source": [
    "from re        import VERBOSE\n",
    "number = pp.Regex(r\"\"\"\n",
    "        [+-]?                           # optional sign\n",
    "         (\n",
    "            (?:\\d+(?P<float1>\\.\\d*)?)   # match 2 or 2.02\n",
    "          |                             # or\n",
    "            (?P<float2>\\.\\d+)           # match .02\n",
    "         )\n",
    "         (?P<float3>[Ee][+-]?\\d+)?      # optional exponent\n",
    "        \"\"\", flags=VERBOSE\n",
    "        )\n",
    "text = '1   2   3.0  0.3 .3 4. 2e2  -.2e+2 +2.2256E-2 hello 5 . 6'\n",
    "# hello и отдельная точка не являются числами\n",
    "print(number.searchString(text))"
   ]
  },
  {
   "cell_type": "markdown",
   "id": "4d6721e1-0dcf-46c0-853d-1ecbb6e11060",
   "metadata": {},
   "source": [
    "## Преобразуем числа из строк в int и float"
   ]
  },
  {
   "cell_type": "markdown",
   "id": "650bab26-25d2-456e-bc81-b193b9ad7a5a",
   "metadata": {},
   "source": [
    "* it should accepts a `parseResults` object as input value (some functions can accepts 3 parameters, see `setParseAction` documentation). \r\n",
    "A `parseResults` object can be used as a list, as a dict or directly with a named attribute if you have named your results. \r\n",
    "Here we had set three named group float1, float2 and float3 and we can use them to decide whether to use int() or float().\r\n",
    "* it should return either a `parseResults` object or a list of results which will be automatically converted to a `parseResults` object.\r\n"
   ]
  },
  {
   "cell_type": "code",
   "execution_count": 4,
   "id": "b13a47a2-743a-4498-8feb-d74bea38bff6",
   "metadata": {},
   "outputs": [
    {
     "name": "stdout",
     "output_type": "stream",
     "text": [
      "[[1], [2], [3.0], [0.3], [0.3], [4.0], [200.0], [-20.0], [0.022256], [5], [6]]\n"
     ]
    }
   ],
   "source": [
    "def convertNumber(t: pp.ParseResults):\n",
    "    \"\"\"Convert a string matching a number to a python number\"\"\"\n",
    "    # print(f'{t=}')\n",
    "    if t.float1 or t.float2 or t.float3 : return [float(t[0])]\n",
    "    else                                : return [int(t[0])  ]\n",
    "\n",
    "number.setParseAction(convertNumber)\n",
    "\n",
    "text = '1   2   3.0  0.3 .3 4. 2e2  -.2e+2 +2.2256E-2 hello 5 . 6'\n",
    "print(number.searchString(text))\n",
    "# теперь числа типа int или float"
   ]
  },
  {
   "cell_type": "markdown",
   "id": "8b97ecfb-5372-49a9-bf69-15362cb940f2",
   "metadata": {},
   "source": [
    "В реальной жизни рекомендуем воспользоваться классом [pyparsing.pyparsing_common.number](https://pythonhosted.org/pyparsing/pyparsing.pyparsing_common-class.html)"
   ]
  },
  {
   "cell_type": "markdown",
   "id": "86f20632-1508-43bd-8333-9afc28e1bf8e",
   "metadata": {},
   "source": [
    "## Заменим константы на значения нужных типов: True, False, NaN, None"
   ]
  },
  {
   "cell_type": "markdown",
   "id": "e08ec538-3fa1-4c97-9c40-8847a8616e60",
   "metadata": {},
   "source": [
    "[MatchFirst](https://pythonhosted.org/pyparsing/pyparsing.MatchFirst-class.html) - Requires that at least one ParseExpression is found. If two expressions match, the first one listed is the one that will match. May be constructed using the `|` operator.\r\n",
    "Наиболее специфичное надо ставить первым в цепочке перечислений, иначе будет как в примере ниже:\r\n"
   ]
  },
  {
   "cell_type": "code",
   "execution_count": 7,
   "id": "0203d534-faff-4238-b188-4d7eafc34d1d",
   "metadata": {},
   "outputs": [
    {
     "name": "stdout",
     "output_type": "stream",
     "text": [
      "[['123'], ['3'], ['1416'], ['789']]\n",
      "[['123'], ['3.1416'], ['789']]\n"
     ]
    }
   ],
   "source": [
    "from pyparsing import Word, Combine, nums\n",
    "\n",
    "# watch the order of expressions to match\n",
    "number_ex = Word(nums) | Combine(Word(nums) + '.' + Word(nums))\n",
    "print(number_ex.searchString(\"123 3.1416 789\")) #  Fail! -> [['123'], ['3'], ['1416'], ['789']]\n",
    "\n",
    "# put more selective expression first\n",
    "number_ex = Combine(Word(nums) + '.' + Word(nums)) | Word(nums)\n",
    "print(number_ex.searchString(\"123 3.1416 789\")) #  Better -> [['123'], ['3.1416'], ['789']]\n"
   ]
  },
  {
   "cell_type": "markdown",
   "id": "08d85469-5d93-40f4-a1d4-32e410b97409",
   "metadata": {},
   "source": [
    "Заметим, что сначала описываем закавыченные строки с `\"\"\"` и `'''`, потом только с одиночными кавычками."
   ]
  },
  {
   "cell_type": "code",
   "execution_count": 5,
   "id": "7b81b59b-bd21-4f54-a403-e1552eba2eca",
   "metadata": {},
   "outputs": [],
   "source": [
    "pyValue_list = [ number                                                        ,\n",
    "                 pp.Keyword('True').setParseAction(pp.replaceWith(True))             ,\n",
    "                 pp.Keyword('False').setParseAction(pp.replaceWith(False))           ,\n",
    "                 pp.Keyword('NAN', caseless=True).setParseAction(pp.replaceWith(np.NAN)),\n",
    "                 pp.Keyword('None').setParseAction(pp.replaceWith(None))             ,\n",
    "                 pp.QuotedString('\"\"\"', multiline=True)                           ,\n",
    "                 pp.QuotedString(\"'''\", multiline=True)                           ,\n",
    "                 pp.QuotedString('\"')                                             ,\n",
    "                 pp.QuotedString(\"'\")                                             ,\n",
    "               ]\n",
    "pyValue     = pp.MatchFirst(pyValue_list)    # тот же результат, что у предыдущей строки\n"
   ]
  },
  {
   "cell_type": "code",
   "execution_count": 6,
   "id": "0b7196f9-c939-4646-9a50-1d2418232e31",
   "metadata": {},
   "outputs": [],
   "source": [
    "pyValue_list_n = [ number                                                        ,\n",
    "                 pp.Keyword('True').setParseAction(pp.replaceWith(True))             ,\n",
    "                 pp.Keyword('False').setParseAction(pp.replaceWith(False))           ,\n",
    "                 pp.Keyword('NAN', caseless=True).setParseAction(pp.replaceWith(np.NAN)),\n",
    "                 pp.Keyword('None').setParseAction(pp.replaceWith(None))             ,\n",
    "                 pp.QuotedString('\"\"\"', multiline=True)                           ,\n",
    "                 pp.QuotedString(\"'''\", multiline=True)                           ,\n",
    "                 pp.QuotedString('\"')                                             ,\n",
    "                 pp.QuotedString(\"'\")                                             ,\n",
    "               ]\n",
    "# после того, как мы для всех элементов удалили \\n из незначащих, мы везде далее стали обращать на перводы строк внимание.\n",
    "# Н\n",
    "pyValue_n   = pp.MatchFirst( e.setWhitespaceChars(' \\t\\r') for e in pyValue_list_n)"
   ]
  },
  {
   "cell_type": "code",
   "execution_count": 7,
   "id": "2e7c4d34-89c7-4423-9818-1b99fbce558f",
   "metadata": {},
   "outputs": [
    {
     "name": "stdout",
     "output_type": "stream",
     "text": [
      "[[1], [2], [3.0], [0.3], [0.3], [200.0], [-20.0], [0.022256], [True], [False], [None], ['word'], ['two words'], [\"'more words', he said\"], ['Good bye, my love,\\n    Good byyyyeeee!!!']]\n",
      "[[1], [2], [3.0], [0.3], [0.3], [200.0], [-20.0], [0.022256], [True], [False], [None], ['word'], ['two words'], [\"'more words', he said\"], ['Good bye, my love,\\n    Good byyyyeeee!!!']]\n"
     ]
    }
   ],
   "source": [
    "test2 = '''\n",
    "    1   2   3.0  0.3 .3  2e2  -.2e+2 +2.2256E-2\n",
    "    True False None\n",
    "    \"word\" \"two words\"\n",
    "    \"\"\"'more words', he said\"\"\"\n",
    "    \"\"\"Good bye, my love,\n",
    "    Good byyyyeeee!!!\"\"\"\n",
    "'''\n",
    "print(pyValue.searchString(test2))\n",
    "print(pyValue_n.searchString(test2))  # идентичный результат"
   ]
  },
  {
   "cell_type": "markdown",
   "id": "38c0564a-2d63-42a2-a7a8-1b2ffb3ac858",
   "metadata": {},
   "source": [
    "По умолчанию пробельные символы `' \\n\\t\\r'` не имеют значения. Если нужно определять конец строки, то нужно удалить `\\n` из списка \"незначащих\" символов, используя `setWhitespaceChars` или `setDefaultWhitespaceChars`\n",
    "\n",
    "Если мы собираемся обрабатывать таблицы построчно, нам надо это настроить на *самом низком* уровне:"
   ]
  },
  {
   "cell_type": "code",
   "execution_count": 15,
   "id": "9b73bec0-a90a-4587-9238-aeb5807d9bb7",
   "metadata": {},
   "outputs": [
    {
     "name": "stdout",
     "output_type": "stream",
     "text": [
      "[[1, 2, 3.0, 0.3, 0.3, 200.0, -20.0, 0.022256, True, False, None, 'word', 'two words', \"'more words', he said\", 'Good bye, my love,\\n    Good byyyyeeee!!!']]\n"
     ]
    }
   ],
   "source": [
    "# все разобранные части группируются в один список, так как мы считаем входной текст единым, \n",
    "# с точностью до многострочных комментариев\n",
    "print(pp.OneOrMore(pyValue).searchString(test2))"
   ]
  },
  {
   "cell_type": "code",
   "execution_count": 16,
   "id": "6c78db78-1c89-4480-8934-32d4d1629752",
   "metadata": {},
   "outputs": [
    {
     "name": "stdout",
     "output_type": "stream",
     "text": [
      "[[1, 2, 3.0, 0.3, 0.3, 200.0, -20.0, 0.022256], [True, False, None], ['word', 'two words'], [\"'more words', he said\"], ['Good bye, my love,\\n    Good byyyyeeee!!!']]\n"
     ]
    }
   ],
   "source": [
    "# все разобранные части группируются в списки ПО СТРОКАМ, так как мы считаем входной текст набором строк, \n",
    "# с точностью до многострочных комментариев\n",
    "print(pp.OneOrMore(pyValue_n).searchString(test2))"
   ]
  },
  {
   "cell_type": "code",
   "execution_count": 12,
   "id": "48f69136-caad-44a8-88ce-e4e2c86156c3",
   "metadata": {},
   "outputs": [
    {
     "name": "stdout",
     "output_type": "stream",
     "text": [
      "[1, 2, 3.0, 0.3, 0.3, 200.0, -20.0, 0.022256]\n",
      "[True, False, None]\n",
      "['word', 'two words']\n",
      "[\"'more words', he said\"]\n",
      "['Good bye, my love,\\n    Good byyyyeeee!!!']\n"
     ]
    }
   ],
   "source": [
    "# список результатов сгруппирован по СТРОКАМ исходного текста\n",
    "for a in pp.OneOrMore(pyValue_n).searchString(test2):\n",
    "    print(a)"
   ]
  },
  {
   "cell_type": "markdown",
   "id": "2a7513fe-5a2d-40f2-a6be-e161a3e3f4ec",
   "metadata": {},
   "source": [
    "## Имена переменных: заменяем пробелы на _"
   ]
  },
  {
   "cell_type": "markdown",
   "id": "63284f99-63a5-4898-acc0-783597902e99",
   "metadata": {},
   "source": [
    "Имена переменных ограничены в конце `=`, поэтому мы можем допустить в них пробелы. Чтобы обращаться дальше по имени переменной, пробелы в них допускать нельзя. Поэтому заменим пробелы на `_`.\n",
    "\n",
    "`downcaseTokens` - ко всему токену применяется функция `tolower`. Еще раз подчеркиваем полезность класса [pyparsing_common](https://pythonhosted.org/pyparsing/pyparsing.pyparsing_common-class.html)"
   ]
  },
  {
   "cell_type": "code",
   "execution_count": 8,
   "id": "ac83314a-8bc7-4a75-a521-367618a5177b",
   "metadata": {},
   "outputs": [],
   "source": [
    "downcaseTokens = pp.pyparsing_common.downcaseTokens\n",
    "def variableParser(escapedChars, baseChars=pp.alphanums):\n",
    "    \"\"\" Return pattern matching any characters in baseChars separated by\n",
    "    characters defined in escapedChars. Thoses characters are replaced with '_'\n",
    "\n",
    "    The '_' character is therefore automatically in escapedChars.\n",
    "    \"\"\"\n",
    "    escapeDef = pp.Word(escapedChars + '_').setParseAction(pp.replaceWith('_'))\n",
    "    whitespaceChars = ''.join( x for x in ' \\t\\r' if not x in escapedChars )\n",
    "    escapeDef = escapeDef.setWhitespaceChars(whitespaceChars)\n",
    "    # почему не \n",
    "    # return Combine(pp.Word(baseChars) + pp.ZeroOrMore(escapeDef + pp.Word(baseChars)))\n",
    "    return pp.Combine(pp.Word(baseChars) + pp.Optional(pp.OneOrMore(escapeDef + pp.Word(baseChars))))\n",
    "\n",
    "keyName             = variableParser(' _-./').setParseAction(downcaseTokens)\n",
    "keyNameWithoutSpace = variableParser('_-./').setParseAction(downcaseTokens)"
   ]
  },
  {
   "cell_type": "code",
   "execution_count": 18,
   "id": "10161fd1-fa0b-43e8-b0c5-64b2f503b33d",
   "metadata": {},
   "outputs": [
    {
     "name": "stdout",
     "output_type": "stream",
     "text": [
      "['debug', 'False']\n",
      "- name: 'debug'\n",
      "- value: 'False'\n",
      "...\n",
      "['shape', 'mm^-1', '2.3']\n",
      "- name: 'shape'\n",
      "- unit: ['mm^-1']\n",
      "- value: '2.3'\n",
      "...\n",
      "['length', 'mm', '25361.15']\n",
      "- name: 'length'\n",
      "- unit: ['mm']\n",
      "- value: '25361.15'\n",
      "...\n",
      "['path_1', 'C:\\\\\\\\This\\\\is\\\\a\\\\long\\\\path\\\\with some space in it\\\\data.txt']\n",
      "- name: 'path_1'\n",
      "- value: 'C:\\\\\\\\This\\\\is\\\\a\\\\long\\\\path\\\\with some space in it\\\\data.txt'\n",
      "...\n",
      "['description', 'raw values can have multiple lines, but additional lines must start']\n",
      "- name: 'description'\n",
      "- value: 'raw values can have multiple lines, but additional lines must start'\n",
      "...\n",
      "['parent', 'None']\n",
      "- name: 'parent'\n",
      "- value: 'None'\n",
      "...\n"
     ]
    }
   ],
   "source": [
    "# вспомним, когда мы их использовали в самом начале и прикрутим туда новое определение keyName\n",
    "unitDef = pp.Suppress('(') + pp.Word(pp.alphanums + '^*/-._') + pp.Suppress(')')\n",
    "paramValueDef = pp.SkipTo('#' | pp.lineEnd)\n",
    "\n",
    "paramDef = keyName('name') + pp.Optional(unitDef)('unit') + pp.Suppress('='+pp.empty) + paramValueDef('value')\n",
    "\n",
    "with open(filename) as fin:\n",
    "    for param in paramDef.searchString(fin.read()):\n",
    "        print(param.dump())\n",
    "        print('...')\n",
    "# 'Path 1' теперь именуется не как '1', а как path_1"
   ]
  },
  {
   "cell_type": "markdown",
   "id": "28f1da5d-beca-4b05-9f28-e7b7bcbf6387",
   "metadata": {},
   "source": [
    "В `paramValueDef = pp.SkipTo('#' | pp.lineEnd)` надо с одной стороны разобрать числа и True/False/None и тп, как мы научились делать в `pyValue`. С другой стороны не потерять значения в виде строк до конца строки или комментария.\n",
    "\n",
    "Определим `rawValue` - все, что не попадает в `pyValue`, по следующим правилам:\n",
    "\n",
    "* все, что находится после символа `#`, считаем комментарием и пропускаем.\n",
    "* необработанное значение может быть на нескольких строках, но дополнительные строки должны начинаться с пробела, а не с `[`, ибо с `[` начинается заголовок секции.\n"
   ]
  },
  {
   "cell_type": "code",
   "execution_count": 9,
   "id": "69e53520-1dd3-4385-a436-274fe00b0088",
   "metadata": {},
   "outputs": [
    {
     "data": {
      "text/plain": [
       "Combine:({{!W:(#\n",
       ") {line_end | Suppress:({'#' rest of line})}} [{Suppress:(<SP><TAB>) ~{'['}} {!W:(#\n",
       ") {line_end | Suppress:({'#' rest of line})}}]...})"
      ]
     },
     "execution_count": 9,
     "metadata": {},
     "output_type": "execute_result"
    }
   ],
   "source": [
    "# rawValue can be multiline but theses lines should start with a Whitespace\n",
    "rawLine  = pp.CharsNotIn('#\\n') + (pp.lineEnd | pp.Suppress('#'+pp.restOfLine))\n",
    "rawValue = pp.Combine( rawLine + pp.ZeroOrMore(pp.White(' \\t').suppress()+ pp.NotAny('[') + rawLine))\n",
    "rawValue.setParseAction(lambda t: [x.strip() for x in t])"
   ]
  },
  {
   "cell_type": "markdown",
   "id": "85efedfd-f1cf-482d-ad34-3c72fcac8698",
   "metadata": {},
   "source": [
    "Единицы измерения. Добавим обработку особых случаев: `(-)`, `(/)`, `()` и `( )`. Будем считать, что единицы измерения - строка."
   ]
  },
  {
   "cell_type": "code",
   "execution_count": 10,
   "id": "6acd01c6-8243-48dd-943a-6eaec4291a31",
   "metadata": {},
   "outputs": [],
   "source": [
    "# было\n",
    "unitDef = pp.Suppress('(') + pp.Word(pp.alphanums + '^*/-._') + pp.Suppress(')')\n",
    "# стало\n",
    "unitDef  = pp.Suppress('(') + (pp.Suppress(pp.oneOf('- /')) | pp.Optional(pp.Word(pp.alphanums + '^*/-._'))) + pp.Suppress(')')"
   ]
  },
  {
   "cell_type": "markdown",
   "id": "92bdd28c-0bae-474b-a6ae-365fee50305f",
   "metadata": {},
   "source": [
    "Полное определение переменной, единиц изменения и значения:"
   ]
  },
  {
   "cell_type": "code",
   "execution_count": 11,
   "id": "36601d7c-5bb9-4c6d-9d81-366182379664",
   "metadata": {},
   "outputs": [],
   "source": [
    "unitDef  = pp.Suppress('(') + (pp.Suppress(pp.oneOf('- /')) | pp.Optional(pp.Word(pp.alphanums + '^*/-._'))) + pp.Suppress(')')\n",
    "valueDef = pyValue | rawValue\n",
    "paramDef = keyName('name') + pp.Optional(unitDef)('unit') + pp.Suppress(\"=\"+pp.empty) + valueDef('value')"
   ]
  },
  {
   "cell_type": "markdown",
   "id": "79c73b8b-5b2b-40ef-ad9a-43e621a3c697",
   "metadata": {},
   "source": [
    "## Структурируем полученные результаты разбора"
   ]
  },
  {
   "cell_type": "markdown",
   "id": "a6df315c-deb8-457d-87f2-21fd05099a18",
   "metadata": {},
   "source": [
    "[Dict](https://pythonhosted.org/pyparsing/pyparsing.Dict-class.html) Конвертер для возврата повторяющегося выражения в виде списка, а также словаря. На каждый элемент можно также ссылаться, используя первый токен в выражении в качестве его ключа. Полезно для скрапинга табличных отчетов, когда первый столбец может использоваться в качестве ключа элемента."
   ]
  },
  {
   "cell_type": "code",
   "execution_count": 12,
   "id": "5b638f67-7221-44b6-aa75-d17561ea9e0a",
   "metadata": {},
   "outputs": [],
   "source": [
    "def formatBloc(t):\n",
    "    \"\"\" Format the result to have a list of (key, values) easily usable with Dict\n",
    "\n",
    "    Add two fields :\n",
    "        names_ : the list of column names found\n",
    "        units_ : a dict in the form {key : unit}\n",
    "    \"\"\"\n",
    "    rows = []\n",
    "\n",
    "    # store units and names\n",
    "    units = {}\n",
    "    names = []\n",
    "\n",
    "    for row in t :\n",
    "        rows.append(pp.ParseResults([ row.name, row.value ]))\n",
    "        names.append(row.name)\n",
    "        if row.unit : units[row.name] = row.unit[0]\n",
    "\n",
    "    rows.append( pp.ParseResults([ 'names_', names ]))\n",
    "    rows.append( pp.ParseResults([ 'unit_',  units]))\n",
    "\n",
    "    return rows\n",
    "\n",
    "paramParser = pp.Dict( pp.OneOrMore( pp.Group(paramDef)).setParseAction(formatBloc))"
   ]
  },
  {
   "cell_type": "code",
   "execution_count": 13,
   "id": "52df9ee8-d5c0-43f0-8ec4-31248cb7ec95",
   "metadata": {},
   "outputs": [
    {
     "name": "stdout",
     "output_type": "stream",
     "text": [
      "[['debug', False], ['shape', 2.3], ['length', 25361.15], ['path_1', 'C:\\\\\\\\This\\\\is\\\\a\\\\long\\\\path\\\\with some space in it\\\\data.txt'], ['description', 'raw values can have multiple lines, but additional lines must start\\nwith a whitespace which is automatically skipped'], ['parent', None], ['names_', ['debug', 'shape', 'length', 'path_1', 'description', 'parent']], ['unit_', {'shape': 'mm^-1', 'length': 'mm'}]]\n",
      "- debug: False\n",
      "- description: 'raw values can have multiple lines, but additional lines must start\\nwith a whitespace which is automatically skipped'\n",
      "- length: 25361.15\n",
      "- names_: ['debug', 'shape', 'length', 'path_1', 'description', 'parent']\n",
      "- parent: None\n",
      "- path_1: 'C:\\\\\\\\This\\\\is\\\\a\\\\long\\\\path\\\\with some space in it\\\\data.txt'\n",
      "- shape: 2.3\n",
      "- unit_: {'shape': 'mm^-1', 'length': 'mm'}\n",
      "[0]:\n",
      "  ['debug', False]\n",
      "[1]:\n",
      "  ['shape', 2.3]\n",
      "[2]:\n",
      "  ['length', 25361.15]\n",
      "[3]:\n",
      "  ['path_1', 'C:\\\\\\\\This\\\\is\\\\a\\\\long\\\\path\\\\with some space in it\\\\data.txt']\n",
      "[4]:\n",
      "  ['description', 'raw values can have multiple lines, but additional lines must start\\nwith a whitespace which is automatically skipped']\n",
      "[5]:\n",
      "  ['parent', None]\n",
      "[6]:\n",
      "  ['names_', ['debug', 'shape', 'length', 'path_1', 'description', 'parent']]\n",
      "[7]:\n",
      "  ['unit_', {'shape': 'mm^-1', 'length': 'mm'}]\n"
     ]
    }
   ],
   "source": [
    "paramParser.ignore('#' + pp.restOfLine)\n",
    "with open(filename) as fin:\n",
    "    data = paramParser.searchString(fin.read())[0]\n",
    "    print(data.dump())"
   ]
  },
  {
   "cell_type": "markdown",
   "id": "a584bc34-2d08-44fe-9190-f32e36f3fab1",
   "metadata": {},
   "source": [
    "# Разбор таблиц"
   ]
  },
  {
   "cell_type": "markdown",
   "id": "d21cf29c-f7fe-4f42-b6bc-e0623887450d",
   "metadata": {},
   "source": [
    "Элемент `Forward` позволяет определять правила разбора на лету. Например, для разбора таблиц данных нужно, чтобы **количество столбцов данных было такое же, как количество столбцов в заголовке**. Разберем таблицу, заданную по формату, где количество столбцов заранее не известно:"
   ]
  },
  {
   "cell_type": "raw",
   "id": "65d6112c-5196-4756-b36d-359b8d5ed328",
   "metadata": {},
   "source": [
    "Name_1       Name_2     ...      Name_n\n",
    "(unit_1)    (unit_2)    ...     (unit_n)\n",
    "value_11    value_21    ...     value_n1\n",
    "  ...         ...       ...       ..."
   ]
  },
  {
   "cell_type": "markdown",
   "id": "78c34070-8d8c-4b46-af53-797241e1bacd",
   "metadata": {},
   "source": [
    "* Имена не могут содержать пробелы\n",
    "* Units обязательны в каждом столбце\n",
    "* Значение могут быть стандартными питоновскими значениями или строками в кавычках, а raw string не должны содержать пробелы или `[`."
   ]
  },
  {
   "cell_type": "markdown",
   "id": "9528b9e9-dcb0-450b-bd3f-761efc0e31bd",
   "metadata": {},
   "source": [
    "### Элемент Forward"
   ]
  },
  {
   "cell_type": "markdown",
   "id": "0a802cbf-d132-4932-a720-0fcc8a415176",
   "metadata": {},
   "source": [
    "[Forward](https://pythonhosted.org/pyparsing/pyparsing.Forward-class.html) используется, когда определение элемента будет доопределено позже.\n",
    "\n",
    "Оператор `<<` переопределяет элемент `Forward`."
   ]
  },
  {
   "cell_type": "code",
   "execution_count": 14,
   "id": "be2a3e80-cc55-488c-9fe3-75a3ad932402",
   "metadata": {},
   "outputs": [],
   "source": [
    "# We define ends-of-line and what kind of values we expect in tables\n",
    "EOL          = pp.LineEnd().suppress()\n",
    "tabValueDef  = pyValue | pp.CharsNotIn('[ \\t\\r\\n').setWhitespaceChars(\" \\t\")\n",
    "\n",
    "# We define how to detect the first line, which is a header line\n",
    "# following lines will be defined later\n",
    "firstLine    = pp.Group(pp.OneOrMore(keyNameWithoutSpace)+EOL)\n",
    "unitLine     = pp.Forward()\n",
    "tabValueLine = pp.Forward()\n",
    "\n",
    "def defineColNumber(t):\n",
    "    \"\"\" Define unitLine and tabValueLine to match the same number of columns than\n",
    "    the header line\"\"\"\n",
    "    nbcols = len(t.header)\n",
    "    unitLine      << pp.Group( unitDef*nbcols + EOL)\n",
    "    tabValueLine  << pp.Group( tabValueDef*nbcols + EOL)\n",
    "\n",
    "tableColDef = (   firstLine('header').setParseAction(defineColNumber)\n",
    "                + unitLine('unit')\n",
    "                + pp.Group(pp.OneOrMore(tabValueLine))('data')\n",
    "              )"
   ]
  },
  {
   "cell_type": "code",
   "execution_count": 15,
   "id": "f0cfa0ee-8119-46e0-b527-d140320833c5",
   "metadata": {},
   "outputs": [
    {
     "data": {
      "text/plain": [
       "ParseResults([ParseResults(['station', 'precipitation', 't_max_abs', 't_min_abs'], {}), ParseResults(['it', 'mm', 'C', 'C'], {}), ParseResults([ParseResults(['Ajaccio', 64.8, 18.8, -2.6], {}), ParseResults(['Auxerre', 49.6, 16.9, nan], {}), ParseResults(['Bastia', 114.2, 20.8, -0.9], {})], {})], {'header': ['station', 'precipitation', 't_max_abs', 't_min_abs'], 'unit': ['it', 'mm', 'C', 'C'], 'data': [['Ajaccio', 64.8, 18.8, -2.6], ['Auxerre', 49.6, 16.9, nan], ['Bastia', 114.2, 20.8, -0.9]]})"
      ]
     },
     "execution_count": 15,
     "metadata": {},
     "output_type": "execute_result"
    }
   ],
   "source": [
    "text = '''STATION         PRECIPITATION   T_MAX_ABS  T_MIN_ABS\n",
    "(it)                     (mm)    (C)        (C)       # Columns must have a unit\n",
    "Ajaccio                 64.8    18.8E+0    -2.6\n",
    "Auxerre                 49.6    16.9E+0    Nan       # Here is a Nan\n",
    "Bastia                  114.2   20.8E+0    -0.9\n",
    "'''\n",
    "\n",
    "tableColDef.ignore('#' + pp.restOfLine)\n",
    "result = tableColDef.parseString(text)\n",
    "result"
   ]
  },
  {
   "cell_type": "code",
   "execution_count": 27,
   "id": "766ae4e4-cbc2-4956-bb3a-6bffe11e2810",
   "metadata": {},
   "outputs": [],
   "source": [
    "def formatBloc(t):\n",
    "    \"\"\" Format the result to have a list of (key, values) easily usable\n",
    "    with Dict and transform data into array\n",
    "\n",
    "    Add two fields :\n",
    "        names_ : the list of column names found\n",
    "        units_ : a dict in the form {key : unit}\n",
    "    \"\"\"\n",
    "    columns = []\n",
    "\n",
    "    # store names and units names\n",
    "    names = t.header\n",
    "    units   = {}\n",
    "\n",
    "    transposedData = zip(*t.data)\n",
    "    for header, unit, data in zip(t.header, t.unit, transposedData):\n",
    "        units[header] = unit\n",
    "        columns.append(pp.ParseResults([header, np.array(data)]))\n",
    "\n",
    "    columns.append(pp.ParseResults(['names_', names]))\n",
    "    columns.append(pp.ParseResults(['unit_'   , units  ]))\n",
    "\n",
    "    return columns\n",
    "\n",
    "tableColParser = pp.Dict(tableColDef.setParseAction(formatBloc))"
   ]
  },
  {
   "cell_type": "code",
   "execution_count": 28,
   "id": "2ac5ce7f-5add-427c-8086-c39353019b0c",
   "metadata": {},
   "outputs": [
    {
     "name": "stdout",
     "output_type": "stream",
     "text": [
      "[['station', array(['Ajaccio', 'Auxerre', 'Bastia'], dtype='<U7')], ['precipitation', array([ 64.8,  49.6, 114.2])], ['t_max_abs', array([18.8, 16.9, 20.8])], ['names_', ['station', 'precipitation', 't_max_abs', 't_min_abs']], ['unit_', {'station': 'mm', 'precipitation': 'C', 't_max_abs': 'C'}]]\n",
      "- names_: ['station', 'precipitation', 't_max_abs', 't_min_abs']\n",
      "- precipitation: array([ 64.8,  49.6, 114.2])\n",
      "- station: array(['Ajaccio', 'Auxerre', 'Bastia'], dtype='<U7')\n",
      "- t_max_abs: array([18.8, 16.9, 20.8])\n",
      "- unit_: {'station': 'mm', 'precipitation': 'C', 't_max_abs': 'C'}\n",
      "[0]:\n",
      "  ['station', array(['Ajaccio', 'Auxerre', 'Bastia'], dtype='<U7')]\n",
      "[1]:\n",
      "  ['precipitation', array([ 64.8,  49.6, 114.2])]\n",
      "[2]:\n",
      "  ['t_max_abs', array([18.8, 16.9, 20.8])]\n",
      "[3]:\n",
      "  ['names_', ['station', 'precipitation', 't_max_abs', 't_min_abs']]\n",
      "  [0]:\n",
      "    names_\n",
      "  [1]:\n",
      "    ['station', 'precipitation', 't_max_abs', 't_min_abs']\n",
      "[4]:\n",
      "  ['unit_', {'station': 'mm', 'precipitation': 'C', 't_max_abs': 'C'}]\n"
     ]
    }
   ],
   "source": [
    "tableColParser.ignore('#' + pp.restOfLine)\n",
    "with open(filename) as fin:\n",
    "    data = tableColParser.searchString(fin.read())[0]\n",
    "print(data.dump())"
   ]
  },
  {
   "cell_type": "raw",
   "id": "c74b2c8c-3dfd-42d6-8af7-0f337b21fa47",
   "metadata": {},
   "source": [
    "ParseResults([ParseResults(['station', 'precipitation', 't_max_abs', 't_min_abs'], {}), ParseResults(['it', 'mm', 'C', 'C'], {}), ParseResults([ParseResults(['Ajaccio', 64.8, 18.8, -2.6], {}), ParseResults(['Auxerre', 49.6, 16.9, nan], {}), ParseResults(['Bastia', 114.2, 20.8, -0.9], {})], {})], {'header': ['station', 'precipitation', 't_max_abs', 't_min_abs'], 'unit': ['it', 'mm', 'C', 'C'], 'data': [['Ajaccio', 64.8, 18.8, -2.6], ['Auxerre', 49.6, 16.9, nan], ['Bastia', 114.2, 20.8, -0.9]]})"
   ]
  },
  {
   "cell_type": "markdown",
   "id": "f45ac85f-2ec1-4494-89b1-ed61cdb43039",
   "metadata": {},
   "source": [
    "# Приложение. Цитаты из докуменатации"
   ]
  },
  {
   "cell_type": "markdown",
   "id": "fae82b34-1e85-4899-a134-9d7b591a2310",
   "metadata": {},
   "source": [
    "## pyparsing.Dict\n",
    "\n",
    "https://pythonhosted.org/pyparsing/pyparsing.Dict-class.html"
   ]
  },
  {
   "cell_type": "code",
   "execution_count": 16,
   "id": "cc9aafaf-4a26-425a-b979-809d06e7fb13",
   "metadata": {},
   "outputs": [
    {
     "data": {
      "text/plain": [
       "ParseResults(['shape', 'SQUARE', 'posn', 'upper left', 'color', 'light blue', 'texture', 'burlap'], {})"
      ]
     },
     "execution_count": 16,
     "metadata": {},
     "output_type": "execute_result"
    }
   ],
   "source": [
    "data_word = pp.Word(pp.alphas)\n",
    "label = data_word + pp.FollowedBy(':')\n",
    "attr_expr = pp.Group(label + pp.Suppress(':') + pp.OneOrMore(data_word).setParseAction(' '.join))\n",
    "\n",
    "text = \"shape: SQUARE posn: upper left color: light blue texture: burlap\"\n",
    "attr_expr = (label + pp.Suppress(':') + pp.OneOrMore(data_word, stopOn=label).setParseAction(' '.join))\n",
    "\n",
    "# print attributes as plain groups\n",
    "schema = pp.OneOrMore(attr_expr)\n",
    "result = schema.parseString(text)\n",
    "result\n",
    "#print(result.dump())"
   ]
  },
  {
   "cell_type": "markdown",
   "id": "49ad83ca-7715-4999-97ff-0c655c0d1aea",
   "metadata": {},
   "source": []
  },
  {
   "cell_type": "code",
   "execution_count": 18,
   "id": "6ffa4cc3-275a-495a-88ac-b6e5485aa26e",
   "metadata": {},
   "outputs": [
    {
     "data": {
      "text/plain": [
       "ParseResults([ParseResults(['shape', 'SQUARE'], {}), ParseResults(['posn', 'upper left'], {}), ParseResults(['color', 'light blue'], {}), ParseResults(['texture', 'burlap'], {})], {'shape': 'SQUARE', 'posn': 'upper left', 'color': 'light blue', 'texture': 'burlap'})"
      ]
     },
     "execution_count": 18,
     "metadata": {},
     "output_type": "execute_result"
    }
   ],
   "source": [
    "# instead of OneOrMore(expr), parse using Dict(OneOrMore(Group(expr))) - Dict will auto-assign names\n",
    "schema = pp.Dict(pp.OneOrMore(pp.Group(attr_expr)))\n",
    "result = schema.parseString(text)\n",
    "#print(result.dump())\n",
    "result"
   ]
  },
  {
   "cell_type": "code",
   "execution_count": null,
   "id": "b6c4780f-2bd4-4322-b322-ffddc5e6e449",
   "metadata": {},
   "outputs": [],
   "source": [
    "# access named fields as dict entries, or output as dict\n",
    "print(result['shape'])        \n",
    "print(result.asDict())"
   ]
  },
  {
   "cell_type": "code",
   "execution_count": null,
   "id": "67a893a0-30ae-45fa-ad24-ef5d0a5c34df",
   "metadata": {},
   "outputs": [],
   "source": []
  },
  {
   "cell_type": "code",
   "execution_count": null,
   "id": "61353512-91e5-42ad-8872-e917c3b4101f",
   "metadata": {},
   "outputs": [],
   "source": []
  }
 ],
 "metadata": {
  "kernelspec": {
   "display_name": "Python 3 (ipykernel)",
   "language": "python",
   "name": "python3"
  },
  "language_info": {
   "codemirror_mode": {
    "name": "ipython",
    "version": 3
   },
   "file_extension": ".py",
   "mimetype": "text/x-python",
   "name": "python",
   "nbconvert_exporter": "python",
   "pygments_lexer": "ipython3",
   "version": "3.10.2"
  }
 },
 "nbformat": 4,
 "nbformat_minor": 5
}
